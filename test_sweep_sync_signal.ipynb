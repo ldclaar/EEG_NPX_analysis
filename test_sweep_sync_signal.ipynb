{
 "cells": [
  {
   "cell_type": "code",
   "execution_count": 1,
   "metadata": {},
   "outputs": [],
   "source": [
    "import io\n",
    "import os\n",
    "import sys\n",
    "import datetime\n",
    "import numpy as np\n",
    "import pandas as pd\n",
    "import matplotlib.pyplot as plt\n",
    "from glob import glob\n",
    "import copy\n",
    "import time\n",
    "from scipy import signal"
   ]
  },
  {
   "cell_type": "code",
   "execution_count": 2,
   "metadata": {},
   "outputs": [],
   "source": [
    "sys.path.append(r'C:\\Users\\lesliec\\code')"
   ]
  },
  {
   "cell_type": "code",
   "execution_count": 3,
   "metadata": {},
   "outputs": [],
   "source": [
    "from tbd_eeg.tbd_eeg.data_analysis.eegutils import EEGexp"
   ]
  },
  {
   "cell_type": "code",
   "execution_count": 4,
   "metadata": {},
   "outputs": [],
   "source": [
    "%matplotlib notebook"
   ]
  },
  {
   "cell_type": "markdown",
   "metadata": {},
   "source": [
    "## EEGexp class"
   ]
  },
  {
   "cell_type": "code",
   "execution_count": 6,
   "metadata": {},
   "outputs": [
    {
     "name": "stdout",
     "output_type": "stream",
     "text": [
      "Experiment type: electrical stimulation\n"
     ]
    }
   ],
   "source": [
    "# rec_folder = r'E:\\eeg_pilot\\mouse000000\\estim_vis_test_2020-09-10\\experiment1\\recording1' # this is the test\n",
    "rec_folder = r'X:\\EEG_exp\\mouse638703\\urethane_estim_2022-10-14_12-25-20\\experiment1\\recording1'\n",
    "exp = EEGexp(rec_folder, preprocess=False, make_stim_csv=False)"
   ]
  },
  {
   "cell_type": "code",
   "execution_count": 7,
   "metadata": {
    "scrolled": true
   },
   "outputs": [
    {
     "name": "stdout",
     "output_type": "stream",
     "text": [
      "638703\n",
      "electrical stimulation\n"
     ]
    }
   ],
   "source": [
    "print(exp.mouse)\n",
    "print(exp.experiment_type)\n",
    "# print(exp.stim_instruction_files)\n",
    "# print(exp.stimulus_log_file)"
   ]
  },
  {
   "cell_type": "markdown",
   "metadata": {},
   "source": [
    "### Print out the line labels from the sync file"
   ]
  },
  {
   "cell_type": "code",
   "execution_count": 8,
   "metadata": {},
   "outputs": [
    {
     "name": "stdout",
     "output_type": "stream",
     "text": [
      "['barcodes', 'opto_sync', 'frames', 'behavior_sweep', 'photodiode', 'sweep', '', 'behavior_vsync', 'eyetracking', 'behavior', 'rotA', 'rotB', 'estim_sync', 'estim_sweep', '', '', '', 'opto_sweep', 'opto_trial', '', '', '', '', '', '', '', '', '', '', '', '', '']\n"
     ]
    }
   ],
   "source": [
    "sync_data = exp._load_sync_dataset()\n",
    "print(sync_data.line_labels)"
   ]
  },
  {
   "cell_type": "markdown",
   "metadata": {},
   "source": [
    "### Load the sweep pulse, rising and falling"
   ]
  },
  {
   "cell_type": "code",
   "execution_count": 10,
   "metadata": {},
   "outputs": [
    {
     "name": "stdout",
     "output_type": "stream",
     "text": [
      "2 sweep rising edges and 2 falling edges\n"
     ]
    }
   ],
   "source": [
    "esweep_rising = sync_data.get_edges(keys=('estim_sweep',), kind='rising', units='seconds')\n",
    "esweep_falling = sync_data.get_edges(keys=('estim_sweep',), kind='falling', units='seconds')\n",
    "print('{:d} sweep rising edges and {:d} falling edges'.format(len(esweep_rising), len(esweep_falling)))"
   ]
  },
  {
   "cell_type": "code",
   "execution_count": 11,
   "metadata": {},
   "outputs": [
    {
     "name": "stdout",
     "output_type": "stream",
     "text": [
      "[1726.26782 2761.46236]\n",
      "[2200.04629 3473.36812]\n"
     ]
    }
   ],
   "source": [
    "print(esweep_rising)\n",
    "print(esweep_falling)"
   ]
  },
  {
   "cell_type": "markdown",
   "metadata": {},
   "source": [
    "### Load the estim sync pulses"
   ]
  },
  {
   "cell_type": "code",
   "execution_count": 12,
   "metadata": {},
   "outputs": [
    {
     "name": "stdout",
     "output_type": "stream",
     "text": [
      "240 estim-sync rising edges and 240 falling edges\n"
     ]
    }
   ],
   "source": [
    "esync_rising = sync_data.get_edges(keys=('estim_sync',), kind='rising', units='seconds')\n",
    "esync_falling = sync_data.get_edges(keys=('estim_sync',), kind='falling', units='seconds')\n",
    "print('{:d} estim-sync rising edges and {:d} falling edges'.format(len(esync_rising), len(esync_falling)))"
   ]
  },
  {
   "cell_type": "code",
   "execution_count": 13,
   "metadata": {},
   "outputs": [
    {
     "name": "stdout",
     "output_type": "stream",
     "text": [
      "[]\n",
      "[]\n"
     ]
    }
   ],
   "source": [
    "print(esync_rising[:5])\n",
    "print(esync_falling[-5:])"
   ]
  },
  {
   "cell_type": "markdown",
   "metadata": {},
   "source": [
    "#### Load the opto sync pulses??"
   ]
  },
  {
   "cell_type": "code",
   "execution_count": 13,
   "metadata": {},
   "outputs": [
    {
     "name": "stdout",
     "output_type": "stream",
     "text": [
      "0 opto-sync rising edges and 0 falling edges\n"
     ]
    }
   ],
   "source": [
    "osync_rising = sync_data.get_edges(keys=('opto_sync',), kind='rising', units='seconds')\n",
    "osync_falling = sync_data.get_edges(keys=('opto_sync',), kind='falling', units='seconds')\n",
    "print('{:d} opto-sync rising edges and {:d} falling edges'.format(len(osync_rising), len(osync_falling)))"
   ]
  },
  {
   "cell_type": "code",
   "execution_count": null,
   "metadata": {},
   "outputs": [],
   "source": []
  }
 ],
 "metadata": {
  "kernelspec": {
   "display_name": "tbd_eeg",
   "language": "python",
   "name": "tbd_eeg"
  },
  "language_info": {
   "codemirror_mode": {
    "name": "ipython",
    "version": 3
   },
   "file_extension": ".py",
   "mimetype": "text/x-python",
   "name": "python",
   "nbconvert_exporter": "python",
   "pygments_lexer": "ipython3",
   "version": "3.7.13"
  }
 },
 "nbformat": 4,
 "nbformat_minor": 2
}
