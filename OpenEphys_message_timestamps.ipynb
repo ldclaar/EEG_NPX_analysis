{
 "cells": [
  {
   "cell_type": "code",
   "execution_count": 1,
   "metadata": {},
   "outputs": [],
   "source": [
    "from datetime import date\n",
    "from glob import glob\n",
    "import json\n",
    "import math\n",
    "import os\n",
    "import sys\n",
    "import time\n",
    "\n",
    "import gspread\n",
    "import numpy as np\n",
    "import pandas as pd\n",
    "import matplotlib.pyplot as plt"
   ]
  },
  {
   "cell_type": "code",
   "execution_count": 2,
   "metadata": {},
   "outputs": [],
   "source": [
    "sys.path.append(r'C:\\Users\\lesliec\\code')"
   ]
  },
  {
   "cell_type": "code",
   "execution_count": 3,
   "metadata": {},
   "outputs": [],
   "source": [
    "from tbd_eeg.tbd_eeg.data_analysis.eegutils import EEGexp\n",
    "from tbd_eeg.tbd_eeg.data_analysis.Utilities.utilities import find_nearest_ind"
   ]
  },
  {
   "cell_type": "code",
   "execution_count": 4,
   "metadata": {},
   "outputs": [],
   "source": [
    "%matplotlib notebook"
   ]
  },
  {
   "cell_type": "markdown",
   "metadata": {},
   "source": [
    "## Load EEGexp"
   ]
  },
  {
   "cell_type": "code",
   "execution_count": 5,
   "metadata": {},
   "outputs": [
    {
     "name": "stdout",
     "output_type": "stream",
     "text": [
      "Experiment type: sensory stimulation\n",
      "['probeB_sorted', 'probeC_sorted', 'probeD_sorted', 'probeF_sorted', 'recording1']\n",
      "2023-06-22 11:42:00\n"
     ]
    }
   ],
   "source": [
    "rec_folder = r\"P:\\mouse678912\\spont_aw_psi_2023-06-22_11-42-00\\experiment1\\recording1\"\n",
    "exp = EEGexp(rec_folder, preprocess=False, make_stim_csv=False)\n",
    "print(exp.experiment_data)\n",
    "print(exp.date)"
   ]
  },
  {
   "cell_type": "markdown",
   "metadata": {},
   "source": [
    "### Load messages"
   ]
  },
  {
   "cell_type": "code",
   "execution_count": 6,
   "metadata": {},
   "outputs": [
    {
     "name": "stdout",
     "output_type": "stream",
     "text": [
      "['saline injection ' 'saline injection ' 'psi injection ' 'psi injection ']\n"
     ]
    }
   ],
   "source": [
    "msg_file = sorted(glob(exp.data_folder + '/**/text.npy', recursive=True))[0]\n",
    "messages_text = np.load(msg_file).astype(str)\n",
    "print(messages_text)"
   ]
  },
  {
   "cell_type": "markdown",
   "metadata": {},
   "source": [
    "### Load 'sample_numbers.npy'\n",
    "A note about the sample numbers: the sampling rate of the saved messages is equal to the highest sampling rate recorded by Open Ephys during the session. For example, if the experiment only records the EEG signals, messages are sampled at 2500 Hz, and you can match the sample numbers of the messages to the sample numbers of the EEG recording. If the experiment also includes Neuropixels, messages are sampled at 30 kHz. In this case, you can match the sample numbers to the AP sample numbers OR convert the sample rate to 2500 Hz and match to the EEG or LFP (smaller file to load)."
   ]
  },
  {
   "cell_type": "code",
   "execution_count": 7,
   "metadata": {},
   "outputs": [
    {
     "name": "stdout",
     "output_type": "stream",
     "text": [
      "[78360408 78360408 98185284 98185284]\n"
     ]
    }
   ],
   "source": [
    "msgSN_file = sorted(glob(os.path.dirname(msg_file) + '/sample_numbers.npy', recursive=True))[0]\n",
    "msgSN = np.load(msgSN_file)\n",
    "print(msgSN)"
   ]
  },
  {
   "cell_type": "markdown",
   "metadata": {},
   "source": [
    "### Match the sample number with the sync time in seconds"
   ]
  },
  {
   "cell_type": "code",
   "execution_count": 11,
   "metadata": {},
   "outputs": [
    {
     "name": "stdout",
     "output_type": "stream",
     "text": [
      "Using NPX-LFP timestamps...\n"
     ]
    }
   ],
   "source": [
    "if (len(exp.experiment_data) == 1) and (np.any([True for x in exp.experiment_data if 'recording' in x])):\n",
    "    print('Using EEG timestamps...')\n",
    "    message_samples = msgSN\n",
    "    masterts = np.load(exp.ephys_params['EEG']['timestamps'])\n",
    "    mastersamples = np.load(os.path.join(os.path.dirname(exp.ephys_params['EEG']['timestamps']), 'sample_numbers.npy'))\n",
    "elif np.any([True for x in exp.experiment_data if 'probe' in x]):\n",
    "    print('Using NPX-LFP timestamps...')\n",
    "    choose_probe = [x for x in exp.experiment_data if 'probe' in x][0].replace('_sorted', '')\n",
    "    message_samples = (\n",
    "        msgSN * (exp.ephys_params[choose_probe]['lfp_sample_rate'] / exp.ephys_params[choose_probe]['ap_sample_rate'])\n",
    "    ).astype(int)\n",
    "    masterts = np.load(exp.ephys_params[choose_probe]['lfp_timestamps'])\n",
    "    mastersamples = np.load(\n",
    "        os.path.join(os.path.dirname(exp.ephys_params[choose_probe]['lfp_timestamps']), 'sample_numbers.npy')\n",
    "    )"
   ]
  },
  {
   "cell_type": "code",
   "execution_count": 12,
   "metadata": {},
   "outputs": [
    {
     "name": "stdout",
     "output_type": "stream",
     "text": [
      "[2522.03747996 2522.03747996 3182.86470898 3182.86470898]\n"
     ]
    }
   ],
   "source": [
    "messages_timestamps = masterts[np.array([find_nearest_ind(mastersamples, x) for x in message_samples])]\n",
    "print(messages_timestamps)"
   ]
  },
  {
   "cell_type": "code",
   "execution_count": null,
   "metadata": {},
   "outputs": [],
   "source": []
  }
 ],
 "metadata": {
  "kernelspec": {
   "display_name": "tbd_eeg",
   "language": "python",
   "name": "tbd_eeg"
  },
  "language_info": {
   "codemirror_mode": {
    "name": "ipython",
    "version": 3
   },
   "file_extension": ".py",
   "mimetype": "text/x-python",
   "name": "python",
   "nbconvert_exporter": "python",
   "pygments_lexer": "ipython3",
   "version": "3.7.13"
  }
 },
 "nbformat": 4,
 "nbformat_minor": 4
}
