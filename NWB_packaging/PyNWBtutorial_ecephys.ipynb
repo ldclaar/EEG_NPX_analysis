{
 "cells": [
  {
   "cell_type": "code",
   "execution_count": 1,
   "metadata": {},
   "outputs": [],
   "source": [
    "%matplotlib inline"
   ]
  },
  {
   "cell_type": "markdown",
   "metadata": {},
   "source": [
    "\n",
    "\n",
    "# Extracellular Electrophysiology Data\n",
    "\n",
    "The following tutorial describes storage of extracellular electrophysiology data in NWB.\n",
    "The workflow demonstrated here involves four main steps:\n",
    "\n",
    "1. Create the electrodes table\n",
    "2. Add acquired raw voltage data\n",
    "3. Add LFP data\n",
    "4. Add spike data\n",
    "\n",
    "\n",
    "This tutorial assumes that transforming data between these states is done by users--PyNWB does not provide\n",
    "analysis functionality. It is recommended to cover `basics` before this tutorial.\n",
    "\n",
    "The following examples will reference variables that may not be defined within the block they are used in. For\n",
    "clarity, we define them here:\n"
   ]
  },
  {
   "cell_type": "code",
   "execution_count": 2,
   "metadata": {},
   "outputs": [],
   "source": [
    "from datetime import datetime\n",
    "from dateutil.tz import tzlocal\n",
    "\n",
    "import numpy as np\n",
    "from pynwb import NWBFile, NWBHDF5IO\n",
    "from pynwb.ecephys import ElectricalSeries, LFP"
   ]
  },
  {
   "cell_type": "markdown",
   "metadata": {},
   "source": [
    "## Creating and Writing NWB files\n",
    "\n",
    "When creating a NWB file, the first step is to create the :py:class:`~pynwb.file.NWBFile`.\n",
    "\n"
   ]
  },
  {
   "cell_type": "code",
   "execution_count": 3,
   "metadata": {},
   "outputs": [],
   "source": [
    "nwbfile = NWBFile(\n",
    "    session_description=\"my first synthetic recording\",\n",
    "    identifier=\"EXAMPLE_ID\",\n",
    "    session_start_time=datetime.now(tzlocal()),\n",
    "    experimenter=\"Dr. Bilbo Baggins\",\n",
    "    lab=\"Bag End Laboratory\",\n",
    "    institution=\"University of Middle Earth at the Shire\",\n",
    "    experiment_description=\"I went on an adventure with thirteen dwarves \"\n",
    "    \"to reclaim vast treasures.\",\n",
    "    session_id=\"LONELYMTN\",\n",
    ")"
   ]
  },
  {
   "cell_type": "markdown",
   "metadata": {},
   "source": [
    "## Electrodes Table\n",
    "\n",
    "In order to store extracellular electrophysiology data, you first must create an electrodes table\n",
    "describing the electrodes that generated this data. Extracellular electrodes are stored in an\n",
    "``\"electrodes\"`` table, which is a :py:class:`~hdmf.common.table.DynamicTable`.\n",
    "\n",
    ".. only:: html\n",
    "\n",
    "  .. image:: ../../_static/Electrodes.svg\n",
    "    :width: 500\n",
    "    :alt: electrodes table UML diagram\n",
    "    :align: center\n",
    "\n",
    ".. only:: latex\n",
    "\n",
    "  .. image:: ../../_static/Electrodes.png\n",
    "    :width: 500\n",
    "    :alt: electrodes table UML diagram\n",
    "    :align: center\n",
    "\n",
    "Before creating an :py:class:`~pynwb.ecephys.ElectrodeGroup`, you need to provide some information about the\n",
    "device that was used to record from the electrode. This is done by creating a :py:class:`~pynwb.device.Device`\n",
    "object using the instance method :py:meth:`~pynwb.file.NWBFile.create_device`.\n",
    "\n"
   ]
  },
  {
   "cell_type": "code",
   "execution_count": 4,
   "metadata": {},
   "outputs": [],
   "source": [
    "device = nwbfile.create_device(\n",
    "    name=\"array\", description=\"the best array\", manufacturer=\"Probe Company 9000\"\n",
    ")"
   ]
  },
  {
   "cell_type": "markdown",
   "metadata": {},
   "source": [
    "Once you have created the :py:class:`~pynwb.device.Device`, you can create an\n",
    ":py:class:`~pynwb.ecephys.ElectrodeGroup`. Then you can add electrodes one-at-a-time with\n",
    ":py:meth:`~pynwb.file.NWBFile.add_electrode`. :py:meth:`~pynwb.file.NWBFile.add_electrode` has two required arguments,\n",
    "``group``, which takes an :py:class:`~pynwb.ecephys.ElectrodeGroup`, and ``location``, which takes a string. It also\n",
    "has a number of optional metadata fields for electrode features (e.g, ``x``, ``y``, ``z``, ``imp``,\n",
    "and ``filtering``). Since this table is a :py:class:`~hdmf.common.table.DynamicTable`, we can add\n",
    "additional user-specified metadata fields as well. We will be adding a ``\"label\"`` column to the table. Use the\n",
    "following code to add electrodes for an array with 4 shanks and 3 channels per shank.\n",
    "\n"
   ]
  },
  {
   "cell_type": "code",
   "execution_count": 5,
   "metadata": {},
   "outputs": [],
   "source": [
    "nwbfile.add_electrode_column(name=\"label\", description=\"label of electrode\")\n",
    "\n",
    "nshanks = 4\n",
    "nchannels_per_shank = 3\n",
    "electrode_counter = 0\n",
    "\n",
    "for ishank in range(nshanks):\n",
    "    # create an electrode group for this shank\n",
    "    electrode_group = nwbfile.create_electrode_group(\n",
    "        name=\"shank{}\".format(ishank),\n",
    "        description=\"electrode group for shank {}\".format(ishank),\n",
    "        device=device,\n",
    "        location=\"brain area\",\n",
    "    )\n",
    "    # add electrodes to the electrode table\n",
    "    for ielec in range(nchannels_per_shank):\n",
    "        nwbfile.add_electrode(\n",
    "            group=electrode_group,\n",
    "            label=\"shank{}elec{}\".format(ishank, ielec),\n",
    "            location=\"brain area\",\n",
    "        )\n",
    "        electrode_counter += 1"
   ]
  },
  {
   "cell_type": "markdown",
   "metadata": {},
   "source": [
    "Similarly to the ``trials`` table, we can view the ``electrodes`` table in tabular form\n",
    "by converting it to a pandas :py:class:`~pandas.DataFrame`.\n",
    "\n"
   ]
  },
  {
   "cell_type": "code",
   "execution_count": 6,
   "metadata": {},
   "outputs": [
    {
     "data": {
      "text/html": [
       "<div>\n",
       "<style scoped>\n",
       "    .dataframe tbody tr th:only-of-type {\n",
       "        vertical-align: middle;\n",
       "    }\n",
       "\n",
       "    .dataframe tbody tr th {\n",
       "        vertical-align: top;\n",
       "    }\n",
       "\n",
       "    .dataframe thead th {\n",
       "        text-align: right;\n",
       "    }\n",
       "</style>\n",
       "<table border=\"1\" class=\"dataframe\">\n",
       "  <thead>\n",
       "    <tr style=\"text-align: right;\">\n",
       "      <th></th>\n",
       "      <th>location</th>\n",
       "      <th>group</th>\n",
       "      <th>group_name</th>\n",
       "      <th>label</th>\n",
       "    </tr>\n",
       "    <tr>\n",
       "      <th>id</th>\n",
       "      <th></th>\n",
       "      <th></th>\n",
       "      <th></th>\n",
       "      <th></th>\n",
       "    </tr>\n",
       "  </thead>\n",
       "  <tbody>\n",
       "    <tr>\n",
       "      <th>0</th>\n",
       "      <td>brain area</td>\n",
       "      <td>shank0 pynwb.ecephys.ElectrodeGroup at 0x27478...</td>\n",
       "      <td>shank0</td>\n",
       "      <td>shank0elec0</td>\n",
       "    </tr>\n",
       "    <tr>\n",
       "      <th>1</th>\n",
       "      <td>brain area</td>\n",
       "      <td>shank0 pynwb.ecephys.ElectrodeGroup at 0x27478...</td>\n",
       "      <td>shank0</td>\n",
       "      <td>shank0elec1</td>\n",
       "    </tr>\n",
       "    <tr>\n",
       "      <th>2</th>\n",
       "      <td>brain area</td>\n",
       "      <td>shank0 pynwb.ecephys.ElectrodeGroup at 0x27478...</td>\n",
       "      <td>shank0</td>\n",
       "      <td>shank0elec2</td>\n",
       "    </tr>\n",
       "    <tr>\n",
       "      <th>3</th>\n",
       "      <td>brain area</td>\n",
       "      <td>shank1 pynwb.ecephys.ElectrodeGroup at 0x27478...</td>\n",
       "      <td>shank1</td>\n",
       "      <td>shank1elec0</td>\n",
       "    </tr>\n",
       "    <tr>\n",
       "      <th>4</th>\n",
       "      <td>brain area</td>\n",
       "      <td>shank1 pynwb.ecephys.ElectrodeGroup at 0x27478...</td>\n",
       "      <td>shank1</td>\n",
       "      <td>shank1elec1</td>\n",
       "    </tr>\n",
       "    <tr>\n",
       "      <th>5</th>\n",
       "      <td>brain area</td>\n",
       "      <td>shank1 pynwb.ecephys.ElectrodeGroup at 0x27478...</td>\n",
       "      <td>shank1</td>\n",
       "      <td>shank1elec2</td>\n",
       "    </tr>\n",
       "    <tr>\n",
       "      <th>6</th>\n",
       "      <td>brain area</td>\n",
       "      <td>shank2 pynwb.ecephys.ElectrodeGroup at 0x27478...</td>\n",
       "      <td>shank2</td>\n",
       "      <td>shank2elec0</td>\n",
       "    </tr>\n",
       "    <tr>\n",
       "      <th>7</th>\n",
       "      <td>brain area</td>\n",
       "      <td>shank2 pynwb.ecephys.ElectrodeGroup at 0x27478...</td>\n",
       "      <td>shank2</td>\n",
       "      <td>shank2elec1</td>\n",
       "    </tr>\n",
       "    <tr>\n",
       "      <th>8</th>\n",
       "      <td>brain area</td>\n",
       "      <td>shank2 pynwb.ecephys.ElectrodeGroup at 0x27478...</td>\n",
       "      <td>shank2</td>\n",
       "      <td>shank2elec2</td>\n",
       "    </tr>\n",
       "    <tr>\n",
       "      <th>9</th>\n",
       "      <td>brain area</td>\n",
       "      <td>shank3 pynwb.ecephys.ElectrodeGroup at 0x27478...</td>\n",
       "      <td>shank3</td>\n",
       "      <td>shank3elec0</td>\n",
       "    </tr>\n",
       "    <tr>\n",
       "      <th>10</th>\n",
       "      <td>brain area</td>\n",
       "      <td>shank3 pynwb.ecephys.ElectrodeGroup at 0x27478...</td>\n",
       "      <td>shank3</td>\n",
       "      <td>shank3elec1</td>\n",
       "    </tr>\n",
       "    <tr>\n",
       "      <th>11</th>\n",
       "      <td>brain area</td>\n",
       "      <td>shank3 pynwb.ecephys.ElectrodeGroup at 0x27478...</td>\n",
       "      <td>shank3</td>\n",
       "      <td>shank3elec2</td>\n",
       "    </tr>\n",
       "  </tbody>\n",
       "</table>\n",
       "</div>"
      ],
      "text/plain": [
       "      location                                              group group_name  \\\n",
       "id                                                                             \n",
       "0   brain area  shank0 pynwb.ecephys.ElectrodeGroup at 0x27478...     shank0   \n",
       "1   brain area  shank0 pynwb.ecephys.ElectrodeGroup at 0x27478...     shank0   \n",
       "2   brain area  shank0 pynwb.ecephys.ElectrodeGroup at 0x27478...     shank0   \n",
       "3   brain area  shank1 pynwb.ecephys.ElectrodeGroup at 0x27478...     shank1   \n",
       "4   brain area  shank1 pynwb.ecephys.ElectrodeGroup at 0x27478...     shank1   \n",
       "5   brain area  shank1 pynwb.ecephys.ElectrodeGroup at 0x27478...     shank1   \n",
       "6   brain area  shank2 pynwb.ecephys.ElectrodeGroup at 0x27478...     shank2   \n",
       "7   brain area  shank2 pynwb.ecephys.ElectrodeGroup at 0x27478...     shank2   \n",
       "8   brain area  shank2 pynwb.ecephys.ElectrodeGroup at 0x27478...     shank2   \n",
       "9   brain area  shank3 pynwb.ecephys.ElectrodeGroup at 0x27478...     shank3   \n",
       "10  brain area  shank3 pynwb.ecephys.ElectrodeGroup at 0x27478...     shank3   \n",
       "11  brain area  shank3 pynwb.ecephys.ElectrodeGroup at 0x27478...     shank3   \n",
       "\n",
       "          label  \n",
       "id               \n",
       "0   shank0elec0  \n",
       "1   shank0elec1  \n",
       "2   shank0elec2  \n",
       "3   shank1elec0  \n",
       "4   shank1elec1  \n",
       "5   shank1elec2  \n",
       "6   shank2elec0  \n",
       "7   shank2elec1  \n",
       "8   shank2elec2  \n",
       "9   shank3elec0  \n",
       "10  shank3elec1  \n",
       "11  shank3elec2  "
      ]
     },
     "execution_count": 6,
     "metadata": {},
     "output_type": "execute_result"
    }
   ],
   "source": [
    "nwbfile.electrodes.to_dataframe()"
   ]
  },
  {
   "cell_type": "markdown",
   "metadata": {},
   "source": [
    "<div class=\"alert alert-info\"><h4>Note</h4><p>When we added an electrode with the :py:meth:`~pynwb.file.NWBFile.add_electrode`\n",
    "   method, we passed in the :py:class:`~pynwb.ecephys.ElectrodeGroup` object for the ``\"group\"`` argument.\n",
    "   This creates a reference from the ``\"electrodes\"`` table to the individual\n",
    "   :py:class:`~pynwb.ecephys.ElectrodeGroup` objects, one per row (electrode).</p></div>\n",
    "\n"
   ]
  },
  {
   "cell_type": "markdown",
   "metadata": {},
   "source": [
    "\n",
    "## Extracellular recordings\n",
    "\n",
    "Raw voltage traces and local-field potential (LFP) data are stored in :py:class:`~pynwb.ecephys.ElectricalSeries`\n",
    "objects. :py:class:`~pynwb.ecephys.ElectricalSeries` is a subclass of :py:class:`~pynwb.base.TimeSeries`\n",
    "specialized for voltage data. To create the :py:class:`~pynwb.ecephys.ElectricalSeries` objects, we need to\n",
    "reference a set of rows in the ``\"electrodes\"`` table to indicate which electrodes were recorded. We will do this\n",
    "by creating a :py:class:`~pynwb.core.DynamicTableRegion`, which is a type of link that allows you to reference\n",
    ":py:meth:`~pynwb.file.NWBFile.create_electrode_table_region` is a convenience function that creates a\n",
    ":py:class:`~pynwb.core.DynamicTableRegion` which references the ``\"electrodes\"`` table.\n",
    "\n"
   ]
  },
  {
   "cell_type": "code",
   "execution_count": null,
   "metadata": {},
   "outputs": [],
   "source": [
    "all_table_region = nwbfile.create_electrode_table_region(\n",
    "    region=list(range(electrode_counter)),  # reference row indices 0 to N-1\n",
    "    description=\"all electrodes\",\n",
    ")"
   ]
  },
  {
   "cell_type": "markdown",
   "metadata": {},
   "source": [
    "### Raw voltage data\n",
    "\n",
    "Now create an :py:class:`~pynwb.ecephys.ElectricalSeries` object to store raw data collected\n",
    "during the experiment, passing in this ``\"all_table_region\"`` :py:class:`~pynwb.core.DynamicTableRegion`\n",
    "reference to all rows of the electrodes table.\n",
    "\n",
    ".. only:: html\n",
    "\n",
    "  .. image:: ../../_static/ElectricalSeries.svg\n",
    "    :width: 800\n",
    "    :alt: electrical series UML diagram\n",
    "    :align: center\n",
    "\n",
    ".. only:: latex\n",
    "\n",
    "  .. image:: ../../_static/ElectricalSeries.png\n",
    "    :width: 800\n",
    "    :alt: electrical series UML diagram\n",
    "    :align: center\n",
    "\n",
    "\n"
   ]
  },
  {
   "cell_type": "code",
   "execution_count": null,
   "metadata": {},
   "outputs": [],
   "source": [
    "raw_data = np.random.randn(50, 4)\n",
    "raw_electrical_series = ElectricalSeries(\n",
    "    name=\"ElectricalSeries\",\n",
    "    data=raw_data,\n",
    "    electrodes=all_table_region,\n",
    "    starting_time=0.0,  # timestamp of the first sample in seconds relative to the session start time\n",
    "    rate=20000.0,  # in Hz\n",
    ")"
   ]
  },
  {
   "cell_type": "markdown",
   "metadata": {},
   "source": [
    "NWB organizes data into different groups depending on the type of data. Groups can be thought of\n",
    "as folders within the file. Here are some of the groups within an :py:class:`~pynwb.file.NWBFile` and the types of\n",
    "data they are intended to store:\n",
    "\n",
    "* **acquisition**: raw, acquired data that should never change\n",
    "* **processing**: processed data, typically the results of preprocessing algorithms and could change\n",
    "* **analysis**: results of data analysis\n",
    "* **stimuli**: stimuli used in the experiment (e.g., images, videos, light pulses)\n",
    "\n",
    "Since this :py:class:`~pynwb.ecephys.ElectricalSeries` represents raw data from the data acquisition system,\n",
    "we will add it to the acquisition group of the :py:class:`~pynwb.file.NWBFile`.\n",
    "\n"
   ]
  },
  {
   "cell_type": "code",
   "execution_count": null,
   "metadata": {},
   "outputs": [],
   "source": [
    "nwbfile.add_acquisition(raw_electrical_series)"
   ]
  },
  {
   "cell_type": "markdown",
   "metadata": {},
   "source": [
    "### LFP\n",
    "\n",
    "Now create an :py:class:`~pynwb.ecephys.ElectricalSeries` object to store LFP data collected during the experiment,\n",
    "again passing in the :py:class:`~pynwb.core.DynamicTableRegion` reference to all rows of the ``\"electrodes\"`` table.\n",
    "\n"
   ]
  },
  {
   "cell_type": "code",
   "execution_count": null,
   "metadata": {},
   "outputs": [],
   "source": [
    "lfp_data = np.random.randn(50, 4)\n",
    "lfp_electrical_series = ElectricalSeries(\n",
    "    name=\"ElectricalSeries\",\n",
    "    data=lfp_data,\n",
    "    electrodes=all_table_region,\n",
    "    starting_time=0.0,\n",
    "    rate=200.0,\n",
    ")"
   ]
  },
  {
   "cell_type": "markdown",
   "metadata": {},
   "source": [
    "To help data analysis and visualization tools know that this :py:class:`~pynwb.ecephys.ElectricalSeries` object\n",
    "represents LFP data, store the :py:class:`~pynwb.ecephys.ElectricalSeries` object inside of an\n",
    ":py:class:`~pynwb.ecephys.LFP` object. This is analogous to how we can store the\n",
    ":py:class:`~pynwb.behavior.SpatialSeries` object inside of a :py:class:`~pynwb.behavior.Position` object.\n",
    "\n",
    ".. only:: html\n",
    "\n",
    "  .. image:: ../../_static/LFP.svg\n",
    "    :width: 800\n",
    "    :alt: LFP UML diagram\n",
    "    :align: center\n",
    "\n",
    ".. only:: latex\n",
    "\n",
    "  .. image:: ../../_static/LFP.png\n",
    "    :width: 800\n",
    "    :alt: LFP UML diagram\n",
    "    :align: center\n",
    "\n",
    "\n"
   ]
  },
  {
   "cell_type": "code",
   "execution_count": null,
   "metadata": {},
   "outputs": [],
   "source": [
    "lfp = LFP(electrical_series=lfp_electrical_series)"
   ]
  },
  {
   "cell_type": "markdown",
   "metadata": {},
   "source": [
    "Unlike the raw data, which we put into the acquisition group of the :py:class:`~pynwb.file.NWBFile`,\n",
    "LFP data is typically considered processed data because the raw data was filtered and downsampled to generate the LFP.\n",
    "\n",
    "Create a processing module named ``\"ecephys\"`` and add the :py:class:`~pynwb.ecephys.LFP` object to it.\n",
    "This is analogous to how we can store the :py:class:`~pynwb.behavior.Position` object in a processing module\n",
    "created with the :py:class:`~pynwb.file.NWBFile.create_processing_module` method.\n",
    "\n"
   ]
  },
  {
   "cell_type": "code",
   "execution_count": null,
   "metadata": {},
   "outputs": [],
   "source": [
    "ecephys_module = nwbfile.create_processing_module(\n",
    "    name=\"ecephys\", description=\"processed extracellular electrophysiology data\"\n",
    ")\n",
    "ecephys_module.add(lfp)"
   ]
  },
  {
   "cell_type": "markdown",
   "metadata": {},
   "source": [
    "\n",
    "### Spike Times\n",
    "\n",
    "Spike times are stored in the :py:class:`~pynwb.misc.Units` table, which is a subclass of\n",
    ":py:class:`~hdmf.common.table.DynamicTable`. Adding columns to the :py:class:`~pynwb.misc.Units` table is analogous\n",
    "to how we can add columns to the ``\"electrodes\"`` and ``\"trials\"`` tables.\n",
    "\n",
    "We will generate some random spike data and populate the :py:meth:`~pynwb.misc.Units` table using the\n",
    ":py:class:`~pynwb.file.NWBFile.add_unit` method. Then we can display the :py:class:`~pynwb.misc.Units` table as a\n",
    "pandas :py:class:`~pandas.DataFrame`.\n",
    "\n"
   ]
  },
  {
   "cell_type": "code",
   "execution_count": null,
   "metadata": {},
   "outputs": [],
   "source": [
    "nwbfile.add_unit_column(name=\"quality\", description=\"sorting quality\")\n",
    "\n",
    "poisson_lambda = 20\n",
    "firing_rate = 20\n",
    "n_units = 10\n",
    "for n_units_per_shank in range(n_units):\n",
    "    n_spikes = np.random.poisson(lam=poisson_lambda)\n",
    "    spike_times = np.round(\n",
    "        np.cumsum(np.random.exponential(1 / firing_rate, n_spikes)), 5\n",
    "    )\n",
    "    nwbfile.add_unit(\n",
    "        spike_times=spike_times, quality=\"good\", waveform_mean=[1.0, 2.0, 3.0, 4.0, 5.0]\n",
    "    )\n",
    "\n",
    "nwbfile.units.to_dataframe()"
   ]
  },
  {
   "cell_type": "markdown",
   "metadata": {},
   "source": [
    "### Designating electrophysiology data\n",
    "\n",
    "As mentioned above, :py:class:`~pynwb.ecephys.ElectricalSeries` objects\n",
    "are meant for storing specific types of extracellular recordings. In addition to this\n",
    ":py:class:`~pynwb.base.TimeSeries` class, NWB provides some `modules_overview`\n",
    "for designating the type of data you are storing. We will briefly discuss them here, and refer the reader to\n",
    ":py:mod:`API documentation <pynwb.ecephys>` and `basics` for more details on\n",
    "using these objects.\n",
    "\n",
    "For storing spike data, there are two options. Which one you choose depends on what data you have available.\n",
    "If you need to store the complete, continuous raw voltage traces, you should store your the traces with\n",
    ":py:class:`~pynwb.ecephys.ElectricalSeries` objects as `acquisition <basic_timeseries>` data, and use\n",
    "the :py:class:`~pynwb.ecephys.EventDetection` class for identifying the spike events in your raw traces.\n",
    "If you do not want to store the raw voltage traces and only the waveform 'snippets' surrounding spike events,\n",
    "you should use the :py:class:`~pynwb.ecephys.EventWaveform` class, which can store one or more\n",
    ":py:class:`~pynwb.ecephys.SpikeEventSeries` objects.\n",
    "\n",
    "The results of spike sorting (or clustering) should be stored in the top-level :py:class:`~pynwb.misc.Units` table.\n",
    "Note that it is not required to store spike waveforms in order to store spike events or waveforms--if you only\n",
    "want to store the spike times of clustered units you can use only the Units table.\n",
    "\n",
    "For local field potential data, there are two options. Again, which one you choose depends on what data you\n",
    "have available. With both options, you should store your traces with :py:class:`~pynwb.ecephys.ElectricalSeries`\n",
    "objects. If you are storing unfiltered local field potential data, you should store\n",
    "the :py:class:`~pynwb.ecephys.ElectricalSeries` objects in :py:class:`~pynwb.ecephys.LFP` data interface object(s).\n",
    "If you have filtered LFP data, you should store the :py:class:`~pynwb.ecephys.ElectricalSeries` objects  in\n",
    ":py:class:`~pynwb.ecephys.FilteredEphys` data interface object(s).\n",
    "\n"
   ]
  },
  {
   "cell_type": "markdown",
   "metadata": {},
   "source": [
    "\n",
    "## Writing electrophysiology data\n",
    "\n",
    "Once you have finished adding all of your data to the :py:class:`~pynwb.file.NWBFile`,\n",
    "write the file with :py:class:`~pynwb.NWBHDF5IO`.\n",
    "\n"
   ]
  },
  {
   "cell_type": "code",
   "execution_count": null,
   "metadata": {},
   "outputs": [],
   "source": [
    "with NWBHDF5IO(\"ecephys_tutorial.nwb\", \"w\") as io:\n",
    "    io.write(nwbfile)"
   ]
  },
  {
   "cell_type": "markdown",
   "metadata": {},
   "source": [
    "For more details on :py:class:`~pynwb.NWBHDF5IO`, see the `basic_writing` tutorial.\n",
    "\n"
   ]
  },
  {
   "cell_type": "markdown",
   "metadata": {},
   "source": [
    "\n",
    "## Reading electrophysiology data\n",
    "\n",
    "We can access the raw data by indexing :py:class:`~pynwb.file.NWBFile.acquisition`\n",
    "with the name of the :py:class:`~pynwb.ecephys.ElectricalSeries`, which we named ``\"ElectricalSeries\"``.\n",
    "We can also access the LFP data by indexing :py:class:`~pynwb.file.NWBFile.processing`\n",
    "with the name of the processing module ``\"ecephys\"``.\n",
    "Then, we can access the :py:class:`~pynwb.ecephys.LFP` object inside of the ``\"ecephys\"`` processing module\n",
    "by indexing it with the name of the :py:class:`~pynwb.ecephys.LFP` object.\n",
    "The default name of :py:class:`~pynwb.ecephys.LFP` objects is ``\"LFP\"``.\n",
    "Finally, we can access the :py:class:`~pynwb.ecephys.ElectricalSeries` object inside of the\n",
    ":py:class:`~pynwb.ecephys.LFP` object by indexing it with the name of the\n",
    ":py:class:`~pynwb.ecephys.ElectricalSeries` object, which we named ``\"ElectricalSeries\"``.\n",
    "\n"
   ]
  },
  {
   "cell_type": "code",
   "execution_count": null,
   "metadata": {},
   "outputs": [],
   "source": [
    "with NWBHDF5IO(\"ecephys_tutorial.nwb\", \"r\") as io:\n",
    "    read_nwbfile = io.read()\n",
    "    print(read_nwbfile.acquisition[\"ElectricalSeries\"])\n",
    "    print(read_nwbfile.processing[\"ecephys\"])\n",
    "    print(read_nwbfile.processing[\"ecephys\"][\"LFP\"])\n",
    "    print(read_nwbfile.processing[\"ecephys\"][\"LFP\"][\"ElectricalSeries\"])"
   ]
  },
  {
   "cell_type": "markdown",
   "metadata": {},
   "source": [
    "### Accessing your data\n",
    "\n",
    "Data arrays are read passively from the file.\n",
    "Calling the data attribute on a :py:class:`~pynwb.base.pynwb.TimeSeries`\n",
    "such as a :py:class:`~pynwb.ecephys.ElectricalSeries` does not read the data\n",
    "values, but presents an :py:class:`~h5py` object that can be indexed to read data.\n",
    "You can use the ``[:]`` operator to read the entire data array into memory.\n",
    "\n",
    "Load and print all the data values of the :py:class:`~pynwb.ecephys.ElectricalSeries`\n",
    "object representing the LFP data.\n",
    "\n"
   ]
  },
  {
   "cell_type": "code",
   "execution_count": null,
   "metadata": {},
   "outputs": [],
   "source": [
    "with NWBHDF5IO(\"ecephys_tutorial.nwb\", \"r\") as io:\n",
    "    read_nwbfile = io.read()\n",
    "    print(read_nwbfile.processing[\"ecephys\"][\"LFP\"][\"ElectricalSeries\"].data[:])"
   ]
  },
  {
   "cell_type": "markdown",
   "metadata": {},
   "source": [
    "### Accessing data regions\n",
    "\n",
    "It is often preferable to read only a portion of the data. To do this, index\n",
    "or slice into the ``data`` attribute just like if you were indexing or slicing a\n",
    ":py:class:`~numpy` array.\n",
    "\n",
    "The following code prints elements ``0:10`` in the first dimension (time)\n",
    "and ``0:3`` in the second dimension (electrodes) from the LFP data we have written.\n",
    "\n"
   ]
  },
  {
   "cell_type": "code",
   "execution_count": null,
   "metadata": {},
   "outputs": [],
   "source": [
    "with NWBHDF5IO(\"ecephys_tutorial.nwb\", \"r\") as io:\n",
    "    read_nwbfile = io.read()\n",
    "\n",
    "    print(\"section of LFP:\")\n",
    "    print(read_nwbfile.processing[\"ecephys\"][\"LFP\"][\"ElectricalSeries\"].data[:10, :3])\n",
    "    print(\"\")\n",
    "    print(\"spike times from 0th unit:\")\n",
    "    print(read_nwbfile.units[\"spike_times\"][0])"
   ]
  }
 ],
 "metadata": {
  "kernelspec": {
   "display_name": "tbd_nwb",
   "language": "python",
   "name": "tbd_nwb"
  },
  "language_info": {
   "codemirror_mode": {
    "name": "ipython",
    "version": 3
   },
   "file_extension": ".py",
   "mimetype": "text/x-python",
   "name": "python",
   "nbconvert_exporter": "python",
   "pygments_lexer": "ipython3",
   "version": "3.7.13"
  }
 },
 "nbformat": 4,
 "nbformat_minor": 1
}
