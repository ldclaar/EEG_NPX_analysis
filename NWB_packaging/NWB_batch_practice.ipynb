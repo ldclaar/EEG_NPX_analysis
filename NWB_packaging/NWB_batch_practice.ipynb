{
 "cells": [
  {
   "cell_type": "markdown",
   "id": "59d8fe15",
   "metadata": {},
   "source": [
    "This notebook is a practice script for a batch NWB packaging script"
   ]
  },
  {
   "cell_type": "code",
   "execution_count": 1,
   "id": "d12d9375",
   "metadata": {},
   "outputs": [],
   "source": [
    "import os\n",
    "import subprocess\n",
    "import pandas as pd\n",
    "# from create_input_json import CreateInputJson"
   ]
  },
  {
   "cell_type": "markdown",
   "id": "e15679ff",
   "metadata": {},
   "source": [
    "#### Set file paths"
   ]
  },
  {
   "cell_type": "code",
   "execution_count": 2,
   "id": "a0f906e9",
   "metadata": {},
   "outputs": [],
   "source": [
    "multisub_file = r\"E:\\NWB_testing\\all_subject_metadata.csv\"\n",
    "json_directory = r\"C:\\Users\\lesliec\\Documents\\json_files\"\n",
    "nwb_directory = r\"E:\\NWB_testing\\nwb_files\""
   ]
  },
  {
   "cell_type": "markdown",
   "id": "c46edd86",
   "metadata": {},
   "source": [
    "#### Read in the subject list/info from .csv"
   ]
  },
  {
   "cell_type": "code",
   "execution_count": 1,
   "id": "5d684fe2",
   "metadata": {},
   "outputs": [
    {
     "ename": "NameError",
     "evalue": "name 'pd' is not defined",
     "output_type": "error",
     "traceback": [
      "\u001b[1;31m---------------------------------------------------------------------------\u001b[0m",
      "\u001b[1;31mNameError\u001b[0m                                 Traceback (most recent call last)",
      "\u001b[1;32m~\\AppData\\Local\\Temp\\ipykernel_20652\\2069754693.py\u001b[0m in \u001b[0;36m<module>\u001b[1;34m\u001b[0m\n\u001b[1;32m----> 1\u001b[1;33m \u001b[0msubject_df\u001b[0m \u001b[1;33m=\u001b[0m \u001b[0mpd\u001b[0m\u001b[1;33m.\u001b[0m\u001b[0mread_csv\u001b[0m\u001b[1;33m(\u001b[0m\u001b[0mmultisub_file\u001b[0m\u001b[1;33m)\u001b[0m\u001b[1;33m.\u001b[0m\u001b[0mastype\u001b[0m\u001b[1;33m(\u001b[0m\u001b[1;33m{\u001b[0m\u001b[1;34m'mouse'\u001b[0m\u001b[1;33m:\u001b[0m \u001b[0mint\u001b[0m\u001b[1;33m}\u001b[0m\u001b[1;33m)\u001b[0m\u001b[1;33m\u001b[0m\u001b[1;33m\u001b[0m\u001b[0m\n\u001b[0m\u001b[0;32m      2\u001b[0m \u001b[0msubject_df\u001b[0m \u001b[1;33m=\u001b[0m \u001b[0msubject_df\u001b[0m\u001b[1;33m.\u001b[0m\u001b[0mastype\u001b[0m\u001b[1;33m(\u001b[0m\u001b[1;33m{\u001b[0m\u001b[1;34m'mouse'\u001b[0m\u001b[1;33m:\u001b[0m \u001b[0mstr\u001b[0m\u001b[1;33m}\u001b[0m\u001b[1;33m)\u001b[0m\u001b[1;33m\u001b[0m\u001b[1;33m\u001b[0m\u001b[0m\n",
      "\u001b[1;31mNameError\u001b[0m: name 'pd' is not defined"
     ]
    }
   ],
   "source": [
    "subject_df = pd.read_csv(multisub_file).astype({'mouse': str})"
   ]
  },
  {
   "cell_type": "code",
   "execution_count": 4,
   "id": "f3b8a581",
   "metadata": {},
   "outputs": [
    {
     "data": {
      "text/html": [
       "<div>\n",
       "<style scoped>\n",
       "    .dataframe tbody tr th:only-of-type {\n",
       "        vertical-align: middle;\n",
       "    }\n",
       "\n",
       "    .dataframe tbody tr th {\n",
       "        vertical-align: top;\n",
       "    }\n",
       "\n",
       "    .dataframe thead th {\n",
       "        text-align: right;\n",
       "    }\n",
       "</style>\n",
       "<table border=\"1\" class=\"dataframe\">\n",
       "  <thead>\n",
       "    <tr style=\"text-align: right;\">\n",
       "      <th></th>\n",
       "      <th>mouse</th>\n",
       "      <th>sex</th>\n",
       "      <th>DOB</th>\n",
       "      <th>strain</th>\n",
       "      <th>exp_folder</th>\n",
       "      <th>reference</th>\n",
       "      <th>sweep_state</th>\n",
       "      <th>stim_region</th>\n",
       "      <th>stim_depth</th>\n",
       "      <th>bad_chs</th>\n",
       "      <th>invalid_sweeps</th>\n",
       "      <th>histology</th>\n",
       "      <th>data_loc</th>\n",
       "    </tr>\n",
       "  </thead>\n",
       "  <tbody>\n",
       "    <tr>\n",
       "      <th>0</th>\n",
       "      <td>521885</td>\n",
       "      <td>M</td>\n",
       "      <td>2/4/2020</td>\n",
       "      <td>C57BL/6J</td>\n",
       "      <td>estim1_2020-07-09_14-23-49</td>\n",
       "      <td>built-in surface electrode, left CB</td>\n",
       "      <td>awake,isoflurane</td>\n",
       "      <td>MOs</td>\n",
       "      <td>superficial</td>\n",
       "      <td>6,7,8,10,11,12,13,14,15,16,17,18,21</td>\n",
       "      <td>NaN</td>\n",
       "      <td>no</td>\n",
       "      <td>C:\\Users\\lesliec\\OneDrive - Allen Institute\\da...</td>\n",
       "    </tr>\n",
       "    <tr>\n",
       "      <th>1</th>\n",
       "      <td>521886</td>\n",
       "      <td>M</td>\n",
       "      <td>2/4/2020</td>\n",
       "      <td>C57BL/6J</td>\n",
       "      <td>estim1_2020-07-16_13-37-02</td>\n",
       "      <td>built-in surface electrode, left CB</td>\n",
       "      <td>awake,isoflurane,recovery</td>\n",
       "      <td>MOs</td>\n",
       "      <td>superficial</td>\n",
       "      <td>10,11,12,13,14,15,16,17,18,19</td>\n",
       "      <td>NaN</td>\n",
       "      <td>no</td>\n",
       "      <td>C:\\Users\\lesliec\\OneDrive - Allen Institute\\da...</td>\n",
       "    </tr>\n",
       "    <tr>\n",
       "      <th>2</th>\n",
       "      <td>521887</td>\n",
       "      <td>F</td>\n",
       "      <td>2/4/2020</td>\n",
       "      <td>C57BL/6J</td>\n",
       "      <td>estim1_2020-07-30_11-25-05</td>\n",
       "      <td>built-in surface electrode, left CB</td>\n",
       "      <td>awake,awake,isoflurane,isoflurane,isoflurane,r...</td>\n",
       "      <td>MOs</td>\n",
       "      <td>superficial</td>\n",
       "      <td>4,7,9,11,12,13,14,15,18</td>\n",
       "      <td>NaN</td>\n",
       "      <td>slices</td>\n",
       "      <td>C:\\Users\\lesliec\\OneDrive - Allen Institute\\da...</td>\n",
       "    </tr>\n",
       "    <tr>\n",
       "      <th>3</th>\n",
       "      <td>543393</td>\n",
       "      <td>M</td>\n",
       "      <td>6/16/2020</td>\n",
       "      <td>C57BL/6J</td>\n",
       "      <td>estim1_2020-08-20_13-24-53</td>\n",
       "      <td>stainless steel skull screw, frontal cortex</td>\n",
       "      <td>awake,awake,awake,isoflurane,isoflurane,isoflu...</td>\n",
       "      <td>MOs</td>\n",
       "      <td>superficial</td>\n",
       "      <td>11,12,13,14,15,17</td>\n",
       "      <td>NaN</td>\n",
       "      <td>no</td>\n",
       "      <td>F:\\EEG_exp\\mouse543393\\estim1_2020-08-20_13-24...</td>\n",
       "    </tr>\n",
       "    <tr>\n",
       "      <th>4</th>\n",
       "      <td>543394</td>\n",
       "      <td>M</td>\n",
       "      <td>6/16/2020</td>\n",
       "      <td>C57BL/6J</td>\n",
       "      <td>estim1_2020-08-27_14-32-00</td>\n",
       "      <td>stainless steel skull screw, frontal cortex</td>\n",
       "      <td>awake,awake,awake,isoflurane,isoflurane,isoflu...</td>\n",
       "      <td>MOs</td>\n",
       "      <td>superficial</td>\n",
       "      <td>11,12,13,14,15,17,18,19,20</td>\n",
       "      <td>NaN</td>\n",
       "      <td>no</td>\n",
       "      <td>F:\\EEG_exp\\mouse543394\\estim1_2020-08-27_14-32...</td>\n",
       "    </tr>\n",
       "  </tbody>\n",
       "</table>\n",
       "</div>"
      ],
      "text/plain": [
       "    mouse sex        DOB    strain                  exp_folder  \\\n",
       "0  521885   M   2/4/2020  C57BL/6J  estim1_2020-07-09_14-23-49   \n",
       "1  521886   M   2/4/2020  C57BL/6J  estim1_2020-07-16_13-37-02   \n",
       "2  521887   F   2/4/2020  C57BL/6J  estim1_2020-07-30_11-25-05   \n",
       "3  543393   M  6/16/2020  C57BL/6J  estim1_2020-08-20_13-24-53   \n",
       "4  543394   M  6/16/2020  C57BL/6J  estim1_2020-08-27_14-32-00   \n",
       "\n",
       "                                     reference  \\\n",
       "0          built-in surface electrode, left CB   \n",
       "1          built-in surface electrode, left CB   \n",
       "2          built-in surface electrode, left CB   \n",
       "3  stainless steel skull screw, frontal cortex   \n",
       "4  stainless steel skull screw, frontal cortex   \n",
       "\n",
       "                                         sweep_state stim_region   stim_depth  \\\n",
       "0                                   awake,isoflurane         MOs  superficial   \n",
       "1                          awake,isoflurane,recovery         MOs  superficial   \n",
       "2  awake,awake,isoflurane,isoflurane,isoflurane,r...         MOs  superficial   \n",
       "3  awake,awake,awake,isoflurane,isoflurane,isoflu...         MOs  superficial   \n",
       "4  awake,awake,awake,isoflurane,isoflurane,isoflu...         MOs  superficial   \n",
       "\n",
       "                               bad_chs invalid_sweeps histology  \\\n",
       "0  6,7,8,10,11,12,13,14,15,16,17,18,21            NaN        no   \n",
       "1        10,11,12,13,14,15,16,17,18,19            NaN        no   \n",
       "2              4,7,9,11,12,13,14,15,18            NaN    slices   \n",
       "3                    11,12,13,14,15,17            NaN        no   \n",
       "4           11,12,13,14,15,17,18,19,20            NaN        no   \n",
       "\n",
       "                                            data_loc  \n",
       "0  C:\\Users\\lesliec\\OneDrive - Allen Institute\\da...  \n",
       "1  C:\\Users\\lesliec\\OneDrive - Allen Institute\\da...  \n",
       "2  C:\\Users\\lesliec\\OneDrive - Allen Institute\\da...  \n",
       "3  F:\\EEG_exp\\mouse543393\\estim1_2020-08-20_13-24...  \n",
       "4  F:\\EEG_exp\\mouse543394\\estim1_2020-08-27_14-32...  "
      ]
     },
     "execution_count": 4,
     "metadata": {},
     "output_type": "execute_result"
    }
   ],
   "source": [
    "subject_df.head()"
   ]
  },
  {
   "cell_type": "markdown",
   "id": "4d91ff74",
   "metadata": {},
   "source": [
    "#### Iterate through subjects to CreateInputJson and run packaging module"
   ]
  },
  {
   "cell_type": "code",
   "execution_count": 6,
   "id": "a2b8cdf3",
   "metadata": {},
   "outputs": [
    {
     "name": "stdout",
     "output_type": "stream",
     "text": [
      "521885: 2020-07-09\n",
      "521886: 2020-07-16\n",
      "521887: 2020-07-30\n",
      "543393: 2020-08-20\n",
      "543394: 2020-08-27\n"
     ]
    }
   ],
   "source": [
    "for indi, row in subject_df[:5].iterrows():\n",
    "    expdate = row.data_loc[row.data_loc.find('experiment')-20:row.data_loc.find('experiment')-10]\n",
    "    print('{}: {}'.format(row.mouse, expdate))\n",
    "    session_id = row.mouse + '_' + expdate\n",
    "    input_json = os.path.join(json_directory, session_id + '_input.json')\n",
    "    subject_info = row.to_dict()"
   ]
  },
  {
   "cell_type": "code",
   "execution_count": 7,
   "id": "c0c47918",
   "metadata": {},
   "outputs": [
    {
     "name": "stdout",
     "output_type": "stream",
     "text": [
      "2020-08-27\n"
     ]
    }
   ],
   "source": [
    "expdate = row.data_loc[row.data_loc.find('experiment')-20:row.data_loc.find('experiment')-10]\n",
    "print(expdate)"
   ]
  },
  {
   "cell_type": "code",
   "execution_count": 8,
   "id": "1389be23",
   "metadata": {},
   "outputs": [
    {
     "name": "stdout",
     "output_type": "stream",
     "text": [
      "543394_2020-08-27\n",
      "C:\\Users\\lesliec\\Documents\\json_files\\543394_2020-08-27_input.json\n"
     ]
    }
   ],
   "source": [
    "session_id = row.mouse + '_' + expdate\n",
    "print(session_id)\n",
    "input_json = os.path.join(json_directory, session_id + '_input.json')\n",
    "print(input_json)"
   ]
  },
  {
   "cell_type": "code",
   "execution_count": null,
   "id": "2492db5d",
   "metadata": {},
   "outputs": [],
   "source": []
  }
 ],
 "metadata": {
  "kernelspec": {
   "display_name": "tbd_nwb",
   "language": "python",
   "name": "tbd_nwb"
  },
  "language_info": {
   "codemirror_mode": {
    "name": "ipython",
    "version": 3
   },
   "file_extension": ".py",
   "mimetype": "text/x-python",
   "name": "python",
   "nbconvert_exporter": "python",
   "pygments_lexer": "ipython3",
   "version": "3.7.13"
  }
 },
 "nbformat": 4,
 "nbformat_minor": 5
}
