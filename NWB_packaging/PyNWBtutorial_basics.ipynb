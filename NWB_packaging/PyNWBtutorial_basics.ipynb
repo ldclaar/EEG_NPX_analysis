{
 "cells": [
  {
   "cell_type": "code",
   "execution_count": null,
   "metadata": {},
   "outputs": [],
   "source": [
    "%matplotlib inline"
   ]
  },
  {
   "cell_type": "markdown",
   "metadata": {},
   "source": [
    "\n",
    "\n",
    "# NWB File Basics\n",
    "\n",
    "This example will focus on the basics of working with an :py:class:`~pynwb.file.NWBFile` object,\n",
    "including writing and reading of an NWB file, and giving you an introduction to the basic data types.\n",
    "Before we dive into code showing how to use an :py:class:`~pynwb.file.NWBFile`, we first provide\n",
    "a brief overview of the basic concepts of NWB. If you are already familiar with the concepts of\n",
    "`timeseries_overview` and `modules_overview`, then feel free to skip the `basics_background`\n",
    "part and go directly to `basics_nwbfile`.\n",
    "\n",
    "\n",
    "## Background: Basic concepts\n",
    "\n",
    "In the [NWB Format](https://nwb-schema.readthedocs.io), each experimental session is typically\n",
    "represented by a separate NWB file. NWB files are represented in PyNWB by :py:class:`~pynwb.file.NWBFile`\n",
    "objects which provide functionality for creating and retrieving:\n",
    "\n",
    " * `timeseries_overview` datasets, i.e., objects for storing time series data\n",
    " * `modules_overview`, i.e., objects for storing and grouping analyses, and\n",
    " * experimental metadata and other metadata related to data provenance.\n",
    "\n",
    "The following sections describe the :py:class:`~pynwb.base.TimeSeries` and :py:class:`~pynwb.base.ProcessingModules`\n",
    "classes in further detail.\n",
    "\n",
    "\n",
    "### TimeSeries\n",
    "\n",
    ":py:class:`~pynwb.base.TimeSeries` objects store time series data and correspond to the *TimeSeries* specifications\n",
    "provided by the `NWB Format`_ . Like the NWB specification, :py:class:`~pynwb.base.TimeSeries` Python objects\n",
    "follow an object-oriented inheritance pattern, i.e., the class :py:class:`~pynwb.base.TimeSeries`\n",
    "serves as the base class for all other :py:class:`~pynwb.base.TimeSeries` types, such as,\n",
    ":py:class:`~pynwb.ecephys.ElectricalSeries`, which itself may have further subtypes, e.g.,\n",
    ":py:class:`~pynwb.ecephys.SpikeEventSeries`.\n",
    "\n",
    ".. seealso::\n",
    "\n",
    "    For your reference, NWB defines the following main :py:class:`~pynwb.base.TimeSeries` subtypes:\n",
    "\n",
    "    * **Extracellular electrophysiology:**\n",
    "      :py:class:`~pynwb.ecephys.ElectricalSeries`, :py:class:`~pynwb.ecephys.SpikeEventSeries`\n",
    "\n",
    "    * **Intracellular electrophysiology:**\n",
    "      :py:class:`~pynwb.icephys.PatchClampSeries` is the base type for all intracellular time series, which\n",
    "      is further refined into subtypes depending on the type of recording:\n",
    "      :py:class:`~pynwb.icephys.CurrentClampSeries`,\n",
    "      :py:class:`~pynwb.icephys.IZeroClampSeries`,\n",
    "      :py:class:`~pynwb.icephys.CurrentClampStimulusSeries`,\n",
    "      :py:class:`~pynwb.icephys.VoltageClampSeries`,\n",
    "      :py:class:`~pynwb.icephys.VoltageClampStimulusSeries`.\n",
    "\n",
    "    * **Optical physiology and imaging:** :py:class:`~pynwb.image.ImageSeries` is the base type\n",
    "      for image recordings and is further refined by the\n",
    "      :py:class:`~pynwb.image.ImageMaskSeries`,\n",
    "      :py:class:`~pynwb.image.OpticalSeries`, and\n",
    "      :py:class:`~pynwb.ophys.TwoPhotonSeries` types.\n",
    "      Other related time series types are:\n",
    "      :py:class:`~pynwb.image.IndexSeries` and\n",
    "      :py:class:`~pynwb.ophys.RoiResponseSeries`.\n",
    "\n",
    "    * **Others** :py:class:`~pynwb.ogen.OptogeneticSeries`,\n",
    "      :py:class:`~pynwb.behavior.SpatialSeries`,\n",
    "      :py:class:`~pynwb.misc.DecompositionSeries`,\n",
    "      :py:class:`~pynwb.misc.AnnotationSeries`,\n",
    "      :py:class:`~pynwb.misc.AbstractFeatureSeries`, and\n",
    "      :py:class:`~pynwb.misc.IntervalSeries`.\n",
    "\n",
    "\n",
    "\n",
    "### Processing Modules\n",
    "\n",
    "Processing modules are objects that group together common analyses done during processing of data.\n",
    "Processing module objects are unique collections of analysis results. To standardize the storage of\n",
    "common analyses, NWB provides the concept of an :py:class:`~pynwb.core.NWBDataInterface`, where the output of\n",
    "common analyses are represented as objects that extend the :py:class:`~pynwb.core.NWBDataInterface` class.\n",
    "In most cases, you will not need to interact with the :py:class:`~pynwb.core.NWBDataInterface` class directly.\n",
    "More commonly, you will be creating instances of classes that extend this class.\n",
    "\n",
    "\n",
    ".. seealso::\n",
    "\n",
    "    For your reference, NWB defines the following main analysis :py:class:`~pynwb.core.NWBDataInterface` subtypes:\n",
    "\n",
    "    * **Behavior:** :py:class:`~pynwb.behavior.BehavioralEpochs`,\n",
    "      :py:class:`~pynwb.behavior.BehavioralEvents`,\n",
    "      :py:class:`~pynwb.behavior.BehavioralTimeSeries`,\n",
    "      :py:class:`~pynwb.behavior.CompassDirection`,\n",
    "      :py:class:`~pynwb.behavior.PupilTracking`,\n",
    "      :py:class:`~pynwb.behavior.Position`,\n",
    "      :py:class:`~pynwb.behavior.EyeTracking`.\n",
    "\n",
    "    * **Extracellular electrophysiology:** :py:class:`~pynwb.ecephys.EventDetection`,\n",
    "      :py:class:`~pynwb.ecephys.EventWaveform`,\n",
    "      :py:class:`~pynwb.ecephys.FeatureExtraction`,\n",
    "      :py:class:`~pynwb.ecephys.FilteredEphys`,\n",
    "      :py:class:`~pynwb.ecephys.LFP`.\n",
    "\n",
    "    * **Optical physiology:** :py:class:`~pynwb.ophys.DfOverF`,\n",
    "      :py:class:`~pynwb.ophys.Fluorescence`,\n",
    "      :py:class:`~pynwb.ophys.ImageSegmentation`,\n",
    "      :py:class:`~pynwb.ophys.MotionCorrection`.\n",
    "\n",
    "    * **Others:** :py:class:`~pynwb.retinotopy.ImagingRetinotopy`,\n",
    "      :py:class:`~pynwb.base.Images`.\n",
    "\n",
    "    * **TimeSeries:** Any `timeseries_overview` is also a subclass of :py:class:`~pynwb.core.NWBDataInterface`\n",
    "      and can be used anywhere :py:class:`~pynwb.core.NWBDataInterface` is allowed.\n",
    "\n",
    "<div class=\"alert alert-info\"><h4>Note</h4><p>In addition to :py:class:`~pynwb.core.NWBContainer`, which functions as a common base type for Group objects,\n",
    "    :py:class:`~pynwb.core.NWBData` provides a common base for the specification of datasets in the NWB format.</p></div>\n",
    "\n",
    "The following examples will reference variables that may not be defined within the block they are used in. For\n",
    "clarity, we define them here:\n"
   ]
  },
  {
   "cell_type": "code",
   "execution_count": null,
   "metadata": {},
   "outputs": [],
   "source": [
    "import numpy as np\n",
    "from pynwb import NWBFile, TimeSeries, NWBHDF5IO\n",
    "from pynwb.epoch import TimeIntervals\n",
    "from pynwb.file import Subject\n",
    "from pynwb.behavior import SpatialSeries, Position\n",
    "from datetime import datetime\n",
    "from dateutil import tz"
   ]
  },
  {
   "cell_type": "markdown",
   "metadata": {},
   "source": [
    "\n",
    "## The NWB file\n",
    "\n",
    "An :py:class:`~pynwb.file.NWBFile` represents a single session of an experiment.\n",
    "Each :py:class:`~pynwb.file.NWBFile` must have a session description, identifier, and session start time.\n",
    "Importantly, the session start time is the reference time for all timestamps in the file.\n",
    "For instance, an event with a timestamp of 0 in the file means the event\n",
    "occurred exactly at the session start time.\n",
    "\n",
    "Create an :py:class:`~pynwb.file.NWBFile` object with the required fields\n",
    "(``session_description``, ``identifier``, ``session_start_time``) and additional metadata.\n",
    "\n",
    "<div class=\"alert alert-info\"><h4>Note</h4><p>Use keyword arguments when constructing :py:class:`~pynwb.file.NWBFile` objects.</p></div>\n",
    "\n",
    "\n"
   ]
  },
  {
   "cell_type": "code",
   "execution_count": null,
   "metadata": {},
   "outputs": [],
   "source": [
    "session_start_time = datetime(2018, 4, 25, 2, 30, 3, tzinfo=tz.gettz(\"US/Pacific\"))\n",
    "\n",
    "nwbfile = NWBFile(\n",
    "    session_description=\"Mouse exploring an open field\",  # required\n",
    "    identifier=\"Mouse5_Day3\",  # required\n",
    "    session_start_time=session_start_time,  # required\n",
    "    session_id=\"session_1234\",  # optional\n",
    "    experimenter=\"My Name\",  # optional\n",
    "    lab=\"My Lab Name\",  # optional\n",
    "    institution=\"University of My Institution\",  # optional\n",
    "    related_publications=\"DOI:10.1016/j.neuron.2016.12.011\",  # optional\n",
    ")\n",
    "print(nwbfile)"
   ]
  },
  {
   "cell_type": "markdown",
   "metadata": {},
   "source": [
    "\n",
    "## Subject Information\n",
    "\n",
    "In the :py:class:`~pynwb.file.Subject` object we can store information about the experimental subject,\n",
    "such as ``age``, ``species``, ``genotype``, ``sex``, and a ``description``.\n",
    "\n",
    ".. only:: html\n",
    "\n",
    "  .. image:: ../../_static/Subject.svg\n",
    "    :width: 150\n",
    "    :alt: subject UML diagram\n",
    "    :align: center\n",
    "\n",
    ".. only:: latex\n",
    "\n",
    "  .. image:: ../../_static/Subject.png\n",
    "    :width: 150\n",
    "    :alt: subject UML diagram\n",
    "    :align: center\n",
    "\n",
    "The fields in the :py:class:`~pynwb.file.Subject` object are all free-form text (any format will be valid),\n",
    "however it is recommended to follow particular conventions to help software tools interpret the data:\n",
    "\n",
    "* **age**: [ISO 8601 Duration format](https://en.wikipedia.org/wiki/ISO_8601#Durations), e.g., ``\"P90D\"`` for 90 days old\n",
    "* **species**: The formal latin binomial nomenclature, e.g., ``\"Mus musculus\"``, ``\"Homo sapiens\"``\n",
    "* **sex**: Single letter abbreviation, e.g., ``\"F\"`` (female), ``\"M\"`` (male), ``\"U\"`` (unknown), and ``\"O\"`` (other)\n",
    "\n",
    "Add the subject information to the :py:class:`~pynwb.file.NWBFile`\n",
    "by setting the ``subject`` field to the new :py:class:`~pynwb.file.Subject` object.\n",
    "\n"
   ]
  },
  {
   "cell_type": "code",
   "execution_count": null,
   "metadata": {},
   "outputs": [],
   "source": [
    "nwbfile.subject = Subject(\n",
    "    subject_id=\"001\",\n",
    "    age=\"P90D\",\n",
    "    description=\"mouse 5\",\n",
    "    species=\"Mus musculus\",\n",
    "    sex=\"M\",\n",
    ")"
   ]
  },
  {
   "cell_type": "markdown",
   "metadata": {},
   "source": [
    "\n",
    "## Time Series Data\n",
    "\n",
    ":py:class:`~pynwb.base.TimeSeries` is a common base class for measurements sampled over time,\n",
    "and provides fields for ``data`` and ``timestamps`` (regularly or irregularly sampled).\n",
    "You will also need to supply the ``name`` and ``unit`` of measurement\n",
    "([SI unit](https://en.wikipedia.org/wiki/International_System_of_Units)).\n",
    "\n",
    "<img src=\"file://../../_static/TimeSeries.png\" width=\"200\" alt=\"timeseries UML diagram\" align=\"center\">\n",
    "\n",
    "For instance, we can store a :py:class:`~pynwb.base.TimeSeries` data where recording started\n",
    "``0.0`` seconds after ``start_time`` and sampled every second:\n",
    "\n"
   ]
  },
  {
   "cell_type": "code",
   "execution_count": null,
   "metadata": {},
   "outputs": [],
   "source": [
    "data = list(range(100, 200, 10))\n",
    "time_series_with_rate = TimeSeries(\n",
    "    name=\"test_timeseries\",\n",
    "    data=data,\n",
    "    unit=\"m\",\n",
    "    starting_time=0.0,\n",
    "    rate=1.0,\n",
    ")"
   ]
  },
  {
   "cell_type": "markdown",
   "metadata": {},
   "source": [
    "For irregularly sampled recordings, we need to provide the ``timestamps`` for the ``data``:\n",
    "\n"
   ]
  },
  {
   "cell_type": "code",
   "execution_count": null,
   "metadata": {},
   "outputs": [],
   "source": [
    "timestamps = list(range(10))\n",
    "time_series_with_timestamps = TimeSeries(\n",
    "    name=\"test_timeseries\",\n",
    "    data=data,\n",
    "    unit=\"m\",\n",
    "    timestamps=timestamps,\n",
    ")"
   ]
  },
  {
   "cell_type": "markdown",
   "metadata": {},
   "source": [
    ":py:class:`~pynwb.base.TimeSeries` objects can be added directly to :py:class:`~pynwb.file.NWBFile` using:\n",
    "\n",
    "* :py:meth:`~pynwb.file.NWBFile.add_acquisition` to  add *acquisition* data (raw, acquired data that should never change),\n",
    "* :py:meth:`~pynwb.file.NWBFile.add_stimulus` to add *stimulus* data, or\n",
    "* :py:meth:`~pynwb.file.NWBFile.add_stimulus_template` to store *stimulus templates*.\n",
    "\n",
    "\n"
   ]
  },
  {
   "cell_type": "code",
   "execution_count": null,
   "metadata": {},
   "outputs": [],
   "source": [
    "nwbfile.add_acquisition(time_series_with_timestamps)"
   ]
  },
  {
   "cell_type": "markdown",
   "metadata": {},
   "source": [
    "We can access the :py:class:`~pynwb.base.TimeSeries` object ``'test_timeseries'``\n",
    "in :py:class:`~pynwb.file.NWBFile` from ``acquisition``:\n",
    "\n"
   ]
  },
  {
   "cell_type": "code",
   "execution_count": null,
   "metadata": {},
   "outputs": [],
   "source": [
    "nwbfile.acquisition[\"test_timeseries\"]"
   ]
  },
  {
   "cell_type": "markdown",
   "metadata": {},
   "source": [
    "or using the :py:meth:`~pynwb.file.NWBFile.get_acquisition` method:\n",
    "\n"
   ]
  },
  {
   "cell_type": "code",
   "execution_count": null,
   "metadata": {},
   "outputs": [],
   "source": [
    "nwbfile.get_acquisition(\"test_timeseries\")"
   ]
  },
  {
   "cell_type": "markdown",
   "metadata": {},
   "source": [
    "\n",
    "## Spatial Series and Position\n",
    "\n",
    ":py:class:`~pynwb.behavior.SpatialSeries` is a subclass of :py:class:`~pynwb.base.TimeSeries`\n",
    "that represents the spatial position of an animal over time.\n",
    "\n",
    ".. only:: html\n",
    "\n",
    "  .. image:: ../../_static/SpatialSeries.svg\n",
    "    :width: 200\n",
    "    :alt: spatialseries UML diagram\n",
    "    :align: center\n",
    "\n",
    ".. only:: latex\n",
    "\n",
    "  .. image:: ../../_static/SpatialSeries.png\n",
    "    :width: 200\n",
    "    :alt: spatialseries UML diagram\n",
    "    :align: center\n",
    "\n",
    "Create a :py:class:`~pynwb.behavior.SpatialSeries` object named ``\"SpatialSeries\"`` with some fake data.\n",
    "\n"
   ]
  },
  {
   "cell_type": "code",
   "execution_count": null,
   "metadata": {},
   "outputs": [],
   "source": [
    "# create fake data with shape (50, 2)\n",
    "# the first dimension should always represent time\n",
    "position_data = np.array([np.linspace(0, 10, 50), np.linspace(0, 8, 50)]).T\n",
    "position_timestamps = np.linspace(0, 50) / 200\n",
    "\n",
    "spatial_series_obj = SpatialSeries(\n",
    "    name=\"SpatialSeries\",\n",
    "    description=\"(x,y) position in open field\",\n",
    "    data=position_data,\n",
    "    timestamps=position_timestamps,\n",
    "    reference_frame=\"(0,0) is bottom left corner\",\n",
    ")\n",
    "print(spatial_series_obj)"
   ]
  },
  {
   "cell_type": "markdown",
   "metadata": {},
   "source": [
    "To help data analysis and visualization tools know that this :py:class:`~pynwb.behavior.SpatialSeries` object\n",
    "represents the position of the subject, store the :py:class:`~pynwb.behavior.SpatialSeries` object inside\n",
    "of a :py:class:`~pynwb.behavior.Position` object, which can hold one or more :py:class:`~pynwb.behavior.SpatialSeries` objects.\n",
    "\n",
    ".. only:: html\n",
    "\n",
    "  .. image:: ../../_static/Position.svg\n",
    "    :width: 450\n",
    "    :alt: position UML diagram\n",
    "    :align: center\n",
    "\n",
    ".. only:: latex\n",
    "\n",
    "  .. image:: ../../_static/Position.png\n",
    "    :width: 450\n",
    "    :alt: position UML diagram\n",
    "    :align: center\n",
    "\n",
    "Create a :py:class:`~pynwb.behavior.Position` object named ``\"Position\"`` [#]_.\n",
    "\n"
   ]
  },
  {
   "cell_type": "code",
   "execution_count": null,
   "metadata": {},
   "outputs": [],
   "source": [
    "# name is set to \"Position\" by default\n",
    "position_obj = Position(spatial_series=spatial_series_obj)"
   ]
  },
  {
   "cell_type": "markdown",
   "metadata": {},
   "source": [
    "## Behavior Processing Module\n",
    "\n",
    ":py:class:`~pynwb.base.ProcessingModule` is a container for data interfaces that are related to a particular\n",
    "processing workflow. NWB differentiates between raw, acquired data (*acquisition*), which should never change,\n",
    "and processed data (*processing*), which are the results of preprocessing algorithms and could change.\n",
    "Processing modules can be thought of as folders within the file for storing the related processed data.\n",
    "\n",
    ".. tip:: Use the NWB schema module names as processing module names where appropriate.\n",
    "   These are: ``\"behavior\"``, ``\"ecephys\"``, ``\"icephys\"``, ``\"ophys\"``, ``\"ogen\"``, ``\"retinotopy\"``, and ``\"misc\"``.\n",
    "\n",
    "Let's assume that the subject's position was computed from a video tracking algorithm,\n",
    "so it would be classified as processed data.\n",
    "\n",
    "Create a processing module called ``\"behavior\"`` for storing behavioral data in the :py:class:`~pynwb.file.NWBFile`\n",
    "and add the :py:class:`~pynwb.behavior.Position` object to the processing module using the\n",
    ":py:meth:`~pynwb.file.NWBFile.create_processing_module` method:\n",
    "\n"
   ]
  },
  {
   "cell_type": "code",
   "execution_count": null,
   "metadata": {},
   "outputs": [],
   "source": [
    "behavior_module = nwbfile.create_processing_module(\n",
    "    name=\"behavior\", description=\"processed behavioral data\"\n",
    ")\n",
    "behavior_module.add(position_obj)"
   ]
  },
  {
   "cell_type": "markdown",
   "metadata": {},
   "source": [
    ".. only:: html\n",
    "\n",
    "  .. image:: ../../_static/Behavior.svg\n",
    "    :width: 600\n",
    "    :alt: behavior UML diagram\n",
    "    :align: center\n",
    "\n",
    ".. only:: latex\n",
    "\n",
    "  .. image:: ../../_static/Behavior.png\n",
    "    :width: 600\n",
    "    :alt: behavior UML diagram\n",
    "    :align: center\n",
    "\n",
    "Once the behavior processing module is added to the :py:class:`~pynwb.file.NWBFile`,\n",
    "you can access it with:\n",
    "\n"
   ]
  },
  {
   "cell_type": "code",
   "execution_count": null,
   "metadata": {},
   "outputs": [],
   "source": [
    "print(nwbfile.processing[\"behavior\"])"
   ]
  },
  {
   "cell_type": "markdown",
   "metadata": {},
   "source": [
    "\n",
    "## Writing an NWB file\n",
    "\n",
    "NWB I/O is carried out using the :py:class:`~pynwb.NWBHDF5IO` class [#]_. This class is responsible\n",
    "for mapping an :py:class:`~pynwb.file.NWBFile` object into HDF5 according to the NWB schema.\n",
    "\n",
    "To write an :py:class:`~pynwb.file.NWBFile`, use the :py:meth:`~hdmf.backends.io.HDMFIO.write` method.\n",
    "\n"
   ]
  },
  {
   "cell_type": "code",
   "execution_count": null,
   "metadata": {},
   "outputs": [],
   "source": [
    "io = NWBHDF5IO(\"basics_tutorial.nwb\", mode=\"w\")\n",
    "io.write(nwbfile)\n",
    "io.close()"
   ]
  },
  {
   "cell_type": "markdown",
   "metadata": {},
   "source": [
    "You can also use :py:meth:`~pynwb.NWBHDF5IO` as a context manager:\n",
    "\n"
   ]
  },
  {
   "cell_type": "code",
   "execution_count": null,
   "metadata": {},
   "outputs": [],
   "source": [
    "with NWBHDF5IO(\"basics_tutorial.nwb\", \"w\") as io:\n",
    "    io.write(nwbfile)"
   ]
  },
  {
   "cell_type": "markdown",
   "metadata": {},
   "source": [
    "\n",
    "## Reading an NWB file\n",
    "\n",
    "As with writing, reading is also carried out using the :py:class:`~pynwb.NWBHDF5IO` class.\n",
    "To read the NWB file we just wrote, use another :py:class:`~pynwb.NWBHDF5IO` object,\n",
    "and use the :py:meth:`~pynwb.NWBHDF5IO.read` method to retrieve an\n",
    ":py:class:`~pynwb.file.NWBFile` object.\n",
    "\n",
    "Data arrays are read passively from the file.\n",
    "Accessing the ``data`` attribute of the :py:class:`~pynwb.base.TimeSeries` object\n",
    "does not read the data values, but presents an HDF5 object that can be indexed to read data.\n",
    "You can use the ``[:]`` operator to read the entire data array into memory.\n",
    "\n"
   ]
  },
  {
   "cell_type": "code",
   "execution_count": null,
   "metadata": {},
   "outputs": [],
   "source": [
    "with NWBHDF5IO(\"basics_tutorial.nwb\", \"r\") as io:\n",
    "    read_nwbfile = io.read()\n",
    "    print(read_nwbfile.acquisition[\"test_timeseries\"])\n",
    "    print(read_nwbfile.acquisition[\"test_timeseries\"].data[:])"
   ]
  },
  {
   "cell_type": "markdown",
   "metadata": {},
   "source": [
    "It is often preferable to read only a portion of the data.\n",
    "To do this, index or slice into the ``data`` attribute just like if you were\n",
    "indexing or slicing a numpy array.\n",
    "\n"
   ]
  },
  {
   "cell_type": "code",
   "execution_count": null,
   "metadata": {},
   "outputs": [],
   "source": [
    "with NWBHDF5IO(\"basics_tutorial.nwb\", \"r\") as io:\n",
    "    read_nwbfile = io.read()\n",
    "    print(read_nwbfile.acquisition[\"test_timeseries\"])\n",
    "    print(read_nwbfile.acquisition[\"test_timeseries\"].data[:2])"
   ]
  },
  {
   "cell_type": "markdown",
   "metadata": {},
   "source": [
    "<div class=\"alert alert-info\"><h4>Note</h4><p>If you use :py:class:`~pynwb.NWBHDF5IO` as a context manager during read,\n",
    "    be aware that the :py:class:`~pynwb.NWBHDF5IO` gets closed and when the\n",
    "    context completes and the data will not be available outside of the\n",
    "    context manager [#]_.</p></div>\n",
    "\n"
   ]
  },
  {
   "cell_type": "markdown",
   "metadata": {},
   "source": [
    "### Accessing data\n",
    "\n",
    "We can also access the :py:class:`~pynwb.behavior.SpatialSeries` data by referencing the names\n",
    "of the objects in the hierarchy that contain it. We can access a processing module by indexing\n",
    "``\"nwbfile.processing\"`` with the name of the processing module, ``\"behavior\"``.\n",
    "\n",
    "Then, we can access the :py:class:`~pynwb.behavior.Position` object inside of the ``\"behavior\"``\n",
    "processing module by indexing it with the name of the :py:class:`~pynwb.behavior.Position` object,\n",
    "``\"Position\"``.\n",
    "\n",
    "Finally, we can access the :py:class:`~pynwb.behavior.SpatialSeries` object inside of the\n",
    ":py:class:`~pynwb.behavior.Position` object by indexing it with the name of the\n",
    ":py:class:`~pynwb.behavior.SpatialSeries` object, ``\"SpatialSeries\"``.\n",
    "\n"
   ]
  },
  {
   "cell_type": "code",
   "execution_count": null,
   "metadata": {},
   "outputs": [],
   "source": [
    "with NWBHDF5IO(\"basics_tutorial.nwb\", \"r\") as io:\n",
    "    read_nwbfile = io.read()\n",
    "    print(read_nwbfile.processing[\"behavior\"])\n",
    "    print(read_nwbfile.processing[\"behavior\"][\"Position\"])\n",
    "    print(read_nwbfile.processing[\"behavior\"][\"Position\"][\"SpatialSeries\"])"
   ]
  },
  {
   "cell_type": "markdown",
   "metadata": {},
   "source": [
    "\n",
    "## Reusing timestamps\n",
    "\n",
    "When working with multi-modal data, it can be convenient and efficient to store timestamps once and associate multiple\n",
    "data with the single timestamps instance. PyNWB enables this by letting you reuse timestamps across\n",
    ":py:class:`~pynwb.base.TimeSeries` objects. To reuse a :py:class:`~pynwb.base.TimeSeries` timestamps in a new\n",
    ":py:class:`~pynwb.base.TimeSeries`, pass the existing :py:class:`~pynwb.base.TimeSeries` as the new\n",
    ":py:class:`~pynwb.base.TimeSeries` timestamps:\n",
    "\n"
   ]
  },
  {
   "cell_type": "code",
   "execution_count": null,
   "metadata": {},
   "outputs": [],
   "source": [
    "data = list(range(101, 201, 10))\n",
    "reuse_ts = TimeSeries(\n",
    "    name=\"reusing_timeseries\",\n",
    "    data=data,\n",
    "    unit=\"SIunit\",\n",
    "    timestamps=time_series_with_timestamps,\n",
    ")"
   ]
  },
  {
   "cell_type": "markdown",
   "metadata": {},
   "source": [
    "## Time Intervals\n",
    "\n",
    "\n",
    "The following provides a brief introduction to managing annotations in time via\n",
    ":py:class:`~pynwb.epoch.TimeIntervals`. See the `time_intervals` tutorial\n",
    "for a more detailed introduction to :py:class:`~pynwb.epoch.TimeIntervals`.\n",
    "\n",
    "### Trials\n",
    "\n",
    "Trials are stored in :py:class:`pynwb.epoch.TimeIntervals` object which is\n",
    "a subclass of :py:class:`pynwb.core.DynamicTable`.\n",
    ":py:class:`pynwb.core.DynamicTable` objects are used to store tabular metadata\n",
    "throughout NWB, including trials, electrodes and sorted units. They offer\n",
    "flexibility for tabular data by allowing required columns, optional columns,\n",
    "and custom columns which are not defined in the standard.\n",
    "\n",
    ".. only:: html\n",
    "\n",
    "  .. image:: ../../_static/Trials.svg\n",
    "    :width: 300\n",
    "    :alt: trials UML diagram\n",
    "    :align: center\n",
    "\n",
    ".. only:: latex\n",
    "\n",
    "  .. image:: ../../_static/Trials.png\n",
    "    :width: 300\n",
    "    :alt: trials UML diagram\n",
    "    :align: center\n",
    "\n",
    "The ``trials`` :py:class:`pynwb.core.DynamicTable` can be thought of\n",
    "as a table with this structure:\n",
    "\n",
    "<img src=\"file://../../_static/trials_example.png\" width=\"400\" alt=\"trials table example\" align=\"center\">\n",
    "\n",
    "Trials can be added to the :py:class:`~pynwb.file.NWBFile` using the\n",
    "methods :py:meth:`~pynwb.file.NWBFile.add_trial_column` and :py:meth:`~pynwb.file.NWBFile.add_trial`\n",
    "We can add custom, user-defined columns to the trials table to hold data\n",
    "and metadata specific to this experiment or session.\n",
    "By default, :py:class:`~pynwb.file.NWBFile` only requires the ``start_time``\n",
    "and ``end_time`` of the trial. Additional columns can be added using\n",
    "the :py:meth:`~pynwb.file.NWBFile.add_trial_column` method.\n",
    "\n",
    "Continue adding to our :py:class:`~pynwb.file.NWBFile` by creating a new\n",
    "column for the trials table named ``'correct'``, which will be a boolean array.\n",
    "Once all columns have been added, trial data can be populated using\n",
    ":py:meth:`~pynwb.file.NWBFile.add_trial`.\n",
    "\n"
   ]
  },
  {
   "cell_type": "code",
   "execution_count": null,
   "metadata": {},
   "outputs": [],
   "source": [
    "nwbfile.add_trial_column(\n",
    "    name=\"correct\",\n",
    "    description=\"whether the trial was correct\",\n",
    ")\n",
    "nwbfile.add_trial(start_time=1.0, stop_time=5.0, correct=True)\n",
    "nwbfile.add_trial(start_time=6.0, stop_time=10.0, correct=False)"
   ]
  },
  {
   "cell_type": "markdown",
   "metadata": {},
   "source": [
    "Tabular data such as trials can be converted to a :py:class:`~pandas.DataFrame`.\n",
    "\n"
   ]
  },
  {
   "cell_type": "code",
   "execution_count": null,
   "metadata": {},
   "outputs": [],
   "source": [
    "print(nwbfile.trials.to_dataframe())"
   ]
  },
  {
   "cell_type": "markdown",
   "metadata": {},
   "source": [
    "\n",
    "### Epochs\n",
    "\n",
    "Epochs can be added to an NWB file using the method :py:meth:`~pynwb.file.NWBFile.add_epoch`.\n",
    "The first and second arguments are the start time and stop times, respectively.\n",
    "The third argument is one or more tags for labeling the epoch, and the fourth argument is a\n",
    "list of all the :py:class:`~pynwb.base.TimeSeries` that the epoch applies\n",
    "to.\n",
    "\n"
   ]
  },
  {
   "cell_type": "code",
   "execution_count": null,
   "metadata": {},
   "outputs": [],
   "source": [
    "nwbfile.add_epoch(\n",
    "    start_time=2.0,\n",
    "    stop_time=4.0,\n",
    "    tags=[\"first\", \"example\"],\n",
    "    timeseries=[time_series_with_timestamps],\n",
    ")\n",
    "\n",
    "nwbfile.add_epoch(\n",
    "    start_time=6.0,\n",
    "    stop_time=8.0,\n",
    "    tags=[\"second\", \"example\"],\n",
    "    timeseries=[time_series_with_timestamps],\n",
    ")"
   ]
  },
  {
   "cell_type": "markdown",
   "metadata": {},
   "source": [
    "### Other time intervals\n",
    "Both ``epochs`` and ``trials`` are of of data type :py:class:`~pynwb.epoch.TimeIntervals`, which is a type of\n",
    "``DynamicTable`` for storing information about time intervals. ``\"epochs\"`` and ``\"trials\"``\n",
    "are the two default names for :py:class:`~pynwb.base.TimeIntervals` objects, but you can also add your own\n",
    "\n"
   ]
  },
  {
   "cell_type": "code",
   "execution_count": null,
   "metadata": {},
   "outputs": [],
   "source": [
    "sleep_stages = TimeIntervals(\n",
    "    name=\"sleep_stages\",\n",
    "    description=\"intervals for each sleep stage as determined by EEG\",\n",
    ")\n",
    "\n",
    "sleep_stages.add_column(name=\"stage\", description=\"stage of sleep\")\n",
    "sleep_stages.add_column(name=\"confidence\", description=\"confidence in stage (0-1)\")\n",
    "\n",
    "sleep_stages.add_row(start_time=0.3, stop_time=0.5, stage=1, confidence=0.5)\n",
    "sleep_stages.add_row(start_time=0.7, stop_time=0.9, stage=2, confidence=0.99)\n",
    "sleep_stages.add_row(start_time=1.3, stop_time=3.0, stage=3, confidence=0.7)\n",
    "\n",
    "nwbfile.add_time_intervals(sleep_stages)"
   ]
  },
  {
   "cell_type": "markdown",
   "metadata": {},
   "source": [
    "Now we overwrite the file with all of the data\n",
    "\n"
   ]
  },
  {
   "cell_type": "code",
   "execution_count": null,
   "metadata": {},
   "outputs": [],
   "source": [
    "with NWBHDF5IO(\"basics_tutorial.nwb\", \"w\") as io:\n",
    "    io.write(nwbfile)"
   ]
  },
  {
   "cell_type": "markdown",
   "metadata": {},
   "source": [
    "\n",
    "## Appending to an NWB file\n",
    "\n",
    "Using functionality discussed above, NWB allows appending to files. To append to a file, you must read the file, add\n",
    "new components, and then write the file. Reading and writing is carried out using :py:class:`~pynwb.NWBHDF5IO`.\n",
    "When reading the NWBFile, you must specify that you intend to modify it by setting the *mode* argument in the\n",
    ":py:class:`~pynwb.NWBHDF5IO` constructor to ``'a'``. After you have read the file, you can add [#]_ new data to it\n",
    "using the standard write/add functionality demonstrated above.\n",
    "\n",
    "Let's see how this works by adding another :py:class:`~pynwb.base.TimeSeries` to the BehavioralTimeSeries interface\n",
    "we created above.\n",
    "\n",
    "First, read the file and get the interface object.\n",
    "\n"
   ]
  },
  {
   "cell_type": "code",
   "execution_count": null,
   "metadata": {},
   "outputs": [],
   "source": [
    "io = NWBHDF5IO(\"basics_tutorial.nwb\", mode=\"a\")\n",
    "nwbfile = io.read()\n",
    "position = nwbfile.processing[\"behavior\"].data_interfaces[\"Position\"]"
   ]
  },
  {
   "cell_type": "markdown",
   "metadata": {},
   "source": [
    "Next, add a new :py:class:`~pynwb.behavior.SpatialSeries`.\n",
    "\n"
   ]
  },
  {
   "cell_type": "code",
   "execution_count": null,
   "metadata": {},
   "outputs": [],
   "source": [
    "data = list(range(300, 400, 10))\n",
    "timestamps = list(range(10))\n",
    "\n",
    "new_spatial_series = SpatialSeries(\n",
    "    name=\"SpatialSeriesAppended\",\n",
    "    data=data,\n",
    "    timestamps=timestamps,\n",
    "    reference_frame=\"starting_gate\",\n",
    ")\n",
    "position.add_spatial_series(new_spatial_series)\n",
    "print(position)"
   ]
  },
  {
   "cell_type": "markdown",
   "metadata": {},
   "source": [
    "Finally, write the changes back to the file and close it.\n",
    "\n"
   ]
  },
  {
   "cell_type": "code",
   "execution_count": null,
   "metadata": {},
   "outputs": [],
   "source": [
    "io.write(nwbfile)\n",
    "io.close()"
   ]
  },
  {
   "cell_type": "markdown",
   "metadata": {},
   "source": [
    ".. [#] Some data interface objects have a default name. This default name is the type of the data interface. For\n",
    "   example, the default name for :py:class:`~pynwb.ophys.ImageSegmentation` is \"ImageSegmentation\" and the default\n",
    "   name for :py:class:`~pynwb.ecephys.EventWaveform` is \"EventWaveform\".\n",
    "\n",
    ".. [#] HDF5 is currently the only backend supported by NWB.\n",
    "\n",
    ".. [#] Neurodata sets can be *very* large, so individual components of the dataset are only loaded into memory when\n",
    "   you request them. This functionality is only possible if an open file handle is kept around until users want to\n",
    "   load data.\n",
    "\n",
    ".. [#] NWB only supports *adding* to files. Removal and modifying of existing data is not allowed.\n",
    "\n"
   ]
  },
  {
   "cell_type": "markdown",
   "metadata": {},
   "source": [
    "\n"
   ]
  }
 ],
 "metadata": {
  "kernelspec": {
   "display_name": "Python 3 (ipykernel)",
   "language": "python",
   "name": "python3"
  },
  "language_info": {
   "codemirror_mode": {
    "name": "ipython",
    "version": 3
   },
   "file_extension": ".py",
   "mimetype": "text/x-python",
   "name": "python",
   "nbconvert_exporter": "python",
   "pygments_lexer": "ipython3",
   "version": "3.9.12"
  }
 },
 "nbformat": 4,
 "nbformat_minor": 1
}
