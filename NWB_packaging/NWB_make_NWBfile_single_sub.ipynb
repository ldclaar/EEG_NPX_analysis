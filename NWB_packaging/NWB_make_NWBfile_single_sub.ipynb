{
 "cells": [
  {
   "cell_type": "markdown",
   "id": "c78f2552",
   "metadata": {},
   "source": [
    "## Create NWBfile from EEG dataset (single subject)"
   ]
  },
  {
   "cell_type": "code",
   "execution_count": 1,
   "id": "421f4975",
   "metadata": {},
   "outputs": [],
   "source": [
    "import os\n",
    "import sys\n",
    "import json\n",
    "import time\n",
    "from datetime import datetime\n",
    "from dateutil.tz import tzlocal\n",
    "\n",
    "import numpy as np\n",
    "import pandas as pd\n",
    "from pynwb import NWBFile, TimeSeries, NWBHDF5IO\n",
    "from pynwb.epoch import TimeIntervals\n",
    "from pynwb.file import Subject\n",
    "from pynwb.behavior import BehavioralTimeSeries\n",
    "from pynwb.ecephys import ElectricalSeries, LFP\n",
    "from pynwb.misc import Units\n",
    "\n",
    "from hdmf.backends.hdf5.h5_utils import H5DataIO"
   ]
  },
  {
   "cell_type": "code",
   "execution_count": 2,
   "id": "c14193a5",
   "metadata": {},
   "outputs": [],
   "source": [
    "sys.path.append(r'C:\\Users\\lesliec\\code')"
   ]
  },
  {
   "cell_type": "code",
   "execution_count": 3,
   "id": "0f7b0899",
   "metadata": {},
   "outputs": [],
   "source": [
    "from tbd_eeg.tbd_eeg.data_analysis.eegutils import EEGexp\n",
    "from allensdk.core.mouse_connectivity_cache import MouseConnectivityCache"
   ]
  },
  {
   "cell_type": "code",
   "execution_count": 4,
   "id": "13ee5224",
   "metadata": {},
   "outputs": [],
   "source": [
    "mcc = MouseConnectivityCache(resolution=25)\n",
    "structree = mcc.get_structure_tree()"
   ]
  },
  {
   "cell_type": "markdown",
   "id": "ae121ca8",
   "metadata": {},
   "source": [
    "### Functions"
   ]
  },
  {
   "cell_type": "code",
   "execution_count": 5,
   "id": "506cc9ca",
   "metadata": {},
   "outputs": [],
   "source": [
    "def stim_log_NWBstyle(EEGexp_stim_log, sweep_to_depth_map, sweep_to_epoch_map, invalid_sweeps):\n",
    "    \"\"\"\n",
    "    This function takes an EEGexp-style stim_log and returns a table with more descriptive columns to create an NWB trial table.\n",
    "\n",
    "    Inputs:\n",
    "    -------\n",
    "    EEGexp_stim_log : pandas.DataFrame\n",
    "        The stim_log associated with a particular EEGexp object.\n",
    "    sweep_to_depth_map : list of str\n",
    "        A list containing the stimulation depth associated with each sweep defined in the stim_log.\n",
    "    sweep_to_epoch_map : list of str\n",
    "        A list containing the behavioral epoch/state associated with each sweep defined in the stim_log.\n",
    "    invalid_sweeps : list of int\n",
    "        A list containing the sweeps excluded from analysis for artifact or off-target stimulation.\n",
    "\n",
    "    Outputs:\n",
    "    --------\n",
    "    trial_table: pandas.DataFrame\n",
    "        A dataframe with specific columns to create the NWB trial table.\n",
    "    column_desc_dict: dict\n",
    "        A dictionary associating the column names to a description of the column information.\n",
    "    \n",
    "    \"\"\"\n",
    "    stim_type_map = {'biphasic': 'electrical', 'circle': 'visual', 'fullscreen': 'visual'}\n",
    "    \n",
    "    ## Apply invalid_sweeps ##\n",
    "    EEGexp_stim_log['good'] = EEGexp_stim_log.apply(lambda x: False if x.sweep in invalid_sweeps else x.good, axis=1)\n",
    "    \n",
    "    ## Initialize the NWBstyle trial table ##\n",
    "    trial_table = pd.DataFrame({'start_time': EEGexp_stim_log['onset'].values, 'stop_time': EEGexp_stim_log['offset'].values})\n",
    "    \n",
    "    ## Adds extra columns describing stimuli ##\n",
    "    stim_type = []\n",
    "    stim_desc = []\n",
    "    stim_curr = []\n",
    "    stimreg = []\n",
    "    stimdepth = []\n",
    "    for _, row in EEGexp_stim_log.iterrows():\n",
    "        if row.stim_type == 'biphasic':\n",
    "            stim_type.append(stim_type_map[row.stim_type])\n",
    "            stim_desc.append(row.stim_type)\n",
    "            stim_curr.append(row.parameter)\n",
    "            stimreg.append(sub_meta['stim_region'])\n",
    "            stimdepth.append(sweep_to_depth_map[row.sweep])\n",
    "        elif row.stim_type in ['circle', 'fullscreen']:\n",
    "            stim_type.append(stim_type_map[row.stim_type])\n",
    "            stim_desc.append(row.parameter + ' ' + row.stim_type)\n",
    "            stim_curr.append('n/a')\n",
    "            stimreg.append('n/a')\n",
    "            stimdepth.append('n/a')\n",
    "        else:\n",
    "            stim_type.append('unknown')\n",
    "            stim_desc.append('n/a')\n",
    "            stim_curr.append('n/a')\n",
    "            stimreg.append('n/a')\n",
    "            stimdepth.append('n/a')\n",
    "    trial_table['stimulus_type'] = stim_type\n",
    "    trial_table['stimulus_description'] = stim_desc\n",
    "    trial_table['estim_current'] = stim_curr\n",
    "    trial_table['estim_target_region'] = stimreg\n",
    "    trial_table['estim_target_depth'] = stimdepth\n",
    "    \n",
    "    ## Add metadata for each trial ##\n",
    "    trial_table['behavioral_epoch'] = [sweep_to_epoch_map[x] for x in EEGexp_stim_log['sweep'].values]\n",
    "    trial_table['is_running'] = ~EEGexp_stim_log['resting_trial'].values\n",
    "    trial_table['is_valid'] = EEGexp_stim_log['good'].values\n",
    "    \n",
    "    ## Column descriptions ##\n",
    "    column_desc_dict = {\n",
    "        'stimulus_type': 'type of stimulus delivered',\n",
    "        'stimulus_description': 'more specific description of stimulus type',\n",
    "        'estim_current': 'electrical stimulation current (\\u03bcA), if applicable',\n",
    "        'estim_target_region': 'electrical stimulation target region, if applicable',\n",
    "        'estim_target_depth': 'electrical stimulation target depth (cortical layer), if applicable',\n",
    "        'behavioral_epoch': 'behavioral epoch when stimulus was delivered',\n",
    "        'is_running': 'True if mouse is running during trial, running defined as average speed > 0 cm/s between [-0.5, 0.5] s from stimulus onset',\n",
    "        'is_valid': 'True for valid trials, trials are invalid if they have large electrical artifacts or if electrical stimulation was off target',\n",
    "    }\n",
    "    \n",
    "    return trial_table, column_desc_dict"
   ]
  },
  {
   "cell_type": "code",
   "execution_count": 6,
   "id": "8c452c80",
   "metadata": {},
   "outputs": [],
   "source": [
    "def get_subexp_metadata(submetaseries, session_start_time):\n",
    "    subexp_dict = {}\n",
    "    \n",
    "    ## Get state label for each sweep ##\n",
    "    templist = []\n",
    "    for char in submetaseries['sweep_state'].split(','):\n",
    "        templist.append(char)\n",
    "    subexp_dict['sweep_state_map'] = templist\n",
    "    \n",
    "    ## Get depth label for each sweep ##\n",
    "    if ',' in submetaseries['stim_depth']:\n",
    "        templist = []\n",
    "        for char in submetaseries['stim_depth'].split(','):\n",
    "            templist.append(char)\n",
    "    else:\n",
    "        templist = [submetaseries['stim_depth']] * len(subexp_dict['sweep_state_map'])\n",
    "    subexp_dict['sweep_depth_map'] = templist\n",
    "    \n",
    "    ## Get EEG bad chs as list ##\n",
    "    templist = []\n",
    "    if type(submetaseries['bad_chs']) == str:\n",
    "        for char in submetaseries['bad_chs'].split(','):\n",
    "            templist.append(int(char))\n",
    "    subexp_dict['EEG_bad_chs'] = templist\n",
    "    \n",
    "    ## Get invalid sweeps list, if any ##\n",
    "    templist = []\n",
    "    if type(submetaseries['invalid_sweeps']) == str:\n",
    "        for char in submetaseries['invalid_sweeps'].split(','):\n",
    "            templist.append(int(char))\n",
    "    subexp_dict['invalid_sweeps'] = templist\n",
    "    \n",
    "    ## Get stim target description ##\n",
    "    if len(np.unique(subexp_dict['sweep_depth_map'])) > 1:\n",
    "        layer_tag = '(superficial and deep layers)'\n",
    "    elif len(np.unique(subexp_dict['sweep_depth_map'])) == 1:\n",
    "        layer_tag = '({} layers)'.format(np.unique(subexp_dict['sweep_depth_map'])[0])\n",
    "    else:\n",
    "        layer_tag = '(unknown depth)'\n",
    "    subexp_dict['stim_notes'] = \"single pulse electrical stimuli targeted to {} {}\".format(submetaseries['stim_region'], layer_tag)\n",
    "    \n",
    "    sub_DOB = submetaseries['DOB'].to_pydatetime().replace(tzinfo=tzlocal())\n",
    "    subexp_dict['subject_age'] = \"P{:d}D\".format((session_start_time - sub_DOB).days)\n",
    "    \n",
    "    return subexp_dict"
   ]
  },
  {
   "cell_type": "markdown",
   "id": "0fd3c17e",
   "metadata": {},
   "source": [
    "### Load mouse/experiment metadata .xlsx file"
   ]
  },
  {
   "cell_type": "code",
   "execution_count": 7,
   "id": "0906d62a",
   "metadata": {},
   "outputs": [],
   "source": [
    "startclock = time.time()"
   ]
  },
  {
   "cell_type": "code",
   "execution_count": 8,
   "id": "b8ecc0bc",
   "metadata": {},
   "outputs": [],
   "source": [
    "subject_metadata = pd.read_excel(\n",
    "    r\"E:\\NWB_testing\\all_subject_metadata.xlsx\", sheet_name='experiment_metadata', dtype={'Mouse': str, 'valid_session': bool}\n",
    ")"
   ]
  },
  {
   "cell_type": "raw",
   "id": "34ad124c",
   "metadata": {},
   "source": [
    "subject_metadata.head()"
   ]
  },
  {
   "cell_type": "raw",
   "id": "ea8275e4",
   "metadata": {},
   "source": [
    "type(subject_metadata['bad_chs'].iloc[2])"
   ]
  },
  {
   "cell_type": "markdown",
   "id": "148c81bb",
   "metadata": {},
   "source": [
    "### Load EEG electrodes locations"
   ]
  },
  {
   "cell_type": "code",
   "execution_count": 9,
   "id": "d51ecf49",
   "metadata": {},
   "outputs": [],
   "source": [
    "EEGch_locs = pd.read_csv(r\"E:\\NWB_testing\\EEG_electrodes_info.csv\")\n",
    "# EEGch_locs.head()"
   ]
  },
  {
   "cell_type": "raw",
   "id": "9e5d80c4",
   "metadata": {},
   "source": [
    "type(EEGch_locs['AP'].iloc[1])"
   ]
  },
  {
   "cell_type": "markdown",
   "id": "2d7426ce",
   "metadata": {},
   "source": [
    "## Set metadata"
   ]
  },
  {
   "cell_type": "code",
   "execution_count": 10,
   "id": "787311fd",
   "metadata": {},
   "outputs": [],
   "source": [
    "institution = \"Allen Institute\" # MindScope Program?\n",
    "publications = \"https://doi.org/10.7554/eLife.84630.1\"\n",
    "experimenters = [\n",
    "    \"Claar, Leslie D\",\n",
    "    \"Rembado, Irene\",\n",
    "    \"Kuyat, Jacqulyn R\",\n",
    "    \"Russo, Simone\",\n",
    "    \"Marks, Lydia C\",\n",
    "    \"Olsen, Shawn R\",\n",
    "    \"Koch, Christof\"\n",
    "] # experimenter: Claar, Leslie D - can we include multiple authors? Can be a str or list\n",
    "exp_desc = \"in vivo electrophysiology in a head-fixed mouse during cortical electrical microstimulation\"\n",
    "keywords = ['EEG', 'cortico-thalamo-cortical', 'electrophysiology', 'anesthesia']"
   ]
  },
  {
   "cell_type": "markdown",
   "id": "baea3d02",
   "metadata": {},
   "source": [
    "## Load experiment"
   ]
  },
  {
   "cell_type": "code",
   "execution_count": 11,
   "id": "d9f4e1cf",
   "metadata": {},
   "outputs": [
    {
     "name": "stdout",
     "output_type": "stream",
     "text": [
      "Experiment type: electrical and sensory stimulation\n"
     ]
    }
   ],
   "source": [
    "recfolder = r'F:\\EEG_exp\\mouse569073\\estim_vis_2021-04-15_10-27-22\\experiment1\\recording1'\n",
    "exp = EEGexp(recfolder, preprocess=False, make_stim_csv=False)"
   ]
  },
  {
   "cell_type": "code",
   "execution_count": 12,
   "id": "f0bc916b",
   "metadata": {},
   "outputs": [
    {
     "name": "stdout",
     "output_type": "stream",
     "text": [
      "EEG and Neuropixels recording during wakefulness and isoflurane anesthesia\n"
     ]
    }
   ],
   "source": [
    "if np.any([True for xd in exp.experiment_data if 'probe' in xd]):\n",
    "    session_desc = \"EEG and Neuropixels recording during wakefulness and isoflurane anesthesia\"\n",
    "else:\n",
    "    session_desc = \"EEG recording during wakefulness and isoflurane anesthesia\"\n",
    "print(session_desc)"
   ]
  },
  {
   "cell_type": "markdown",
   "id": "a4c4c257",
   "metadata": {},
   "source": [
    "**Set NWB file output location**"
   ]
  },
  {
   "cell_type": "code",
   "execution_count": 13,
   "id": "3575c826",
   "metadata": {},
   "outputs": [],
   "source": [
    "NWB_output_dir = os.path.dirname(os.path.dirname(recfolder))"
   ]
  },
  {
   "cell_type": "markdown",
   "id": "87936275",
   "metadata": {},
   "source": [
    "**Get session_start_time from sync file**"
   ]
  },
  {
   "cell_type": "code",
   "execution_count": 14,
   "id": "f820ffc8",
   "metadata": {},
   "outputs": [
    {
     "name": "stdout",
     "output_type": "stream",
     "text": [
      "2021-04-15 10:26:36.611000-07:00\n"
     ]
    }
   ],
   "source": [
    "sync_data = exp._load_sync_dataset()\n",
    "session_start_time = datetime.strptime(sync_data.meta_data['start_time'], '%Y-%m-%d %H:%M:%S.%f').replace(tzinfo=tzlocal())\n",
    "print(session_start_time)"
   ]
  },
  {
   "cell_type": "markdown",
   "id": "33cd7ea2",
   "metadata": {},
   "source": [
    "**Get this subject's metadata from the excel file**"
   ]
  },
  {
   "cell_type": "code",
   "execution_count": 15,
   "id": "d25a3cec",
   "metadata": {},
   "outputs": [],
   "source": [
    "sub_meta = subject_metadata[\n",
    "    (subject_metadata['Mouse'] == exp.mouse) &\n",
    "    (subject_metadata['exp_folder'] == os.path.basename(os.path.dirname(exp.experiment_folder)))\n",
    "].squeeze() # .squeeze() makes this into a series"
   ]
  },
  {
   "cell_type": "code",
   "execution_count": 16,
   "id": "517907e1",
   "metadata": {},
   "outputs": [],
   "source": [
    "sub_data_dict = get_subexp_metadata(sub_meta, session_start_time)"
   ]
  },
  {
   "cell_type": "code",
   "execution_count": 17,
   "id": "02309f97",
   "metadata": {},
   "outputs": [
    {
     "data": {
      "text/plain": [
       "dict_keys(['sweep_state_map', 'sweep_depth_map', 'EEG_bad_chs', 'invalid_sweeps', 'stim_notes', 'subject_age'])"
      ]
     },
     "execution_count": 17,
     "metadata": {},
     "output_type": "execute_result"
    }
   ],
   "source": [
    "sub_data_dict.keys()"
   ]
  },
  {
   "cell_type": "code",
   "execution_count": 18,
   "id": "c615fbff",
   "metadata": {},
   "outputs": [
    {
     "name": "stdout",
     "output_type": "stream",
     "text": [
      "['awake', 'isoflurane', 'recovery', 'recovery']\n",
      "['deep', 'deep', 'deep', 'deep']\n",
      "bad chs:  [3, 4, 13]\n",
      "bad sweeps:  []\n",
      "single pulse electrical stimuli targeted to MOs (deep layers)\n",
      "P128D\n"
     ]
    }
   ],
   "source": [
    "print(sub_data_dict['sweep_state_map'])\n",
    "print(sub_data_dict['sweep_depth_map'])\n",
    "print('bad chs: ', sub_data_dict['EEG_bad_chs'])\n",
    "print('bad sweeps: ', sub_data_dict['invalid_sweeps'])\n",
    "print(sub_data_dict['stim_notes'])\n",
    "print(sub_data_dict['subject_age'])"
   ]
  },
  {
   "cell_type": "markdown",
   "id": "e7d04c8a",
   "metadata": {},
   "source": [
    "**Create session id (mouse-expdate) and identifier**\n",
    "<br>\"identifier\" should be unique to this NWBfile (and does not need to be easily human-readable)"
   ]
  },
  {
   "cell_type": "code",
   "execution_count": 19,
   "id": "39ca9d73",
   "metadata": {
    "scrolled": true
   },
   "outputs": [
    {
     "name": "stdout",
     "output_type": "stream",
     "text": [
      "569073-20210415\n"
     ]
    }
   ],
   "source": [
    "session_id = \"{}-{}\".format(exp.mouse, session_start_time.strftime(\"%Y%m%d\"))\n",
    "print(session_id)"
   ]
  },
  {
   "cell_type": "code",
   "execution_count": 20,
   "id": "2cff18fc",
   "metadata": {},
   "outputs": [],
   "source": [
    "file_id = session_id + \"-test03_comp\""
   ]
  },
  {
   "cell_type": "markdown",
   "id": "495a9bc5",
   "metadata": {},
   "source": [
    "## Initialize the NWB file\n",
    "Other optional fields exist, see: https://pynwb.readthedocs.io/en/stable/pynwb.file.html#pynwb.file.NWBFile."
   ]
  },
  {
   "cell_type": "code",
   "execution_count": 21,
   "id": "33deaa58",
   "metadata": {},
   "outputs": [
    {
     "name": "stdout",
     "output_type": "stream",
     "text": [
      "root pynwb.file.NWBFile at 0x2127567545800\n",
      "Fields:\n",
      "  experiment_description: in vivo electrophysiology in a head-fixed mouse during cortical electrical microstimulation\n",
      "  experimenter: ['Claar, Leslie D' 'Rembado, Irene' 'Kuyat, Jacqulyn R' 'Russo, Simone'\n",
      " 'Marks, Lydia C' 'Olsen, Shawn R' 'Koch, Christof']\n",
      "  file_create_date: [datetime.datetime(2023, 3, 12, 15, 31, 40, 465416, tzinfo=tzlocal())]\n",
      "  identifier: 521885-20200709-test03_comp\n",
      "  institution: Allen Institute\n",
      "  keywords: ['EEG' 'cortico-thalamo-cortical' 'electrophysiology' 'anesthesia']\n",
      "  related_publications: ['https://doi.org/10.7554/eLife.84630.1']\n",
      "  session_description: EEG recording during wakefulness and isoflurane anesthesia\n",
      "  session_id: 521885-20200709\n",
      "  session_start_time: 2020-07-09 14:17:02.725000-07:00\n",
      "  stimulus_notes: single pulse electrical stimuli targeted to MOs (superficial layers)\n",
      "  timestamps_reference_time: 2020-07-09 14:17:02.725000-07:00\n",
      "\n"
     ]
    }
   ],
   "source": [
    "nwbfile = NWBFile(\n",
    "    session_description = session_desc,\n",
    "    identifier = file_id,\n",
    "    session_start_time = session_start_time,\n",
    "    experimenter = experimenters,\n",
    "    experiment_description = exp_desc, # optional\n",
    "    session_id = session_id,\n",
    "    institution = institution,\n",
    "    keywords = keywords,\n",
    "    related_publications = publications,\n",
    "    stimulus_notes = sub_data_dict['stim_notes'],\n",
    ")\n",
    "print(nwbfile)"
   ]
  },
  {
   "cell_type": "markdown",
   "id": "7ed8361f",
   "metadata": {},
   "source": [
    "## Add subject info\n",
    "Other optional fields exist, see: https://pynwb.readthedocs.io/en/stable/pynwb.file.html#pynwb.file.Subject."
   ]
  },
  {
   "cell_type": "code",
   "execution_count": 22,
   "id": "687990e6",
   "metadata": {},
   "outputs": [],
   "source": [
    "nwbfile.subject = Subject(\n",
    "    age = sub_data_dict['subject_age'],\n",
    "    description = \"mouse\" + exp.mouse,\n",
    "    sex = sub_meta['Sex'],\n",
    "    species = \"Mus musculus\",\n",
    "    subject_id = exp.mouse,\n",
    "    strain = sub_meta['Strain'],\n",
    ")"
   ]
  },
  {
   "cell_type": "raw",
   "id": "d5cb29d4",
   "metadata": {},
   "source": [
    "print(nwbfile)"
   ]
  },
  {
   "cell_type": "markdown",
   "id": "a37e156d",
   "metadata": {},
   "source": [
    "## Add running speed"
   ]
  },
  {
   "cell_type": "code",
   "execution_count": 23,
   "id": "4fe6f77d",
   "metadata": {},
   "outputs": [],
   "source": [
    "speed, speed_times = exp.load_running()\n",
    "# print(speed.shape)\n",
    "# print(speed_times[0])\n",
    "# print(speed_times[-1])\n",
    "\n",
    "speed_with_samprate = TimeSeries(\n",
    "    name = \"running_speed\",\n",
    "    data = speed,\n",
    "    unit = \"cm/s\",\n",
    "    starting_time = speed_times[0], # must be a float, not int\n",
    "    rate = 100.0, # sampling rate must be a float\n",
    "    description = \"running speed data, computed from wheel angular velocity\"\n",
    ")"
   ]
  },
  {
   "cell_type": "code",
   "execution_count": 24,
   "id": "0d08e4ad",
   "metadata": {},
   "outputs": [
    {
     "data": {
      "text/plain": [
       "BehavioralTimeSeries pynwb.behavior.BehavioralTimeSeries at 0x2057368625864\n",
       "Fields:\n",
       "  time_series: {\n",
       "    running_speed <class 'pynwb.base.TimeSeries'>\n",
       "  }"
      ]
     },
     "execution_count": 24,
     "metadata": {},
     "output_type": "execute_result"
    }
   ],
   "source": [
    "behavioral_time_series = BehavioralTimeSeries(\n",
    "    time_series = speed_with_samprate, name = \"BehavioralTimeSeries\", # can rename, but should not\n",
    ")\n",
    "behavior_module = nwbfile.create_processing_module(name=\"behavior\", description=\"processed behavioral data\")\n",
    "behavior_module.add(behavioral_time_series)"
   ]
  },
  {
   "cell_type": "raw",
   "id": "ece64778",
   "metadata": {},
   "source": [
    "print(nwbfile.processing[\"behavior\"][\"BehavioralTimeSeries\"][\"running_speed\"])"
   ]
  },
  {
   "cell_type": "markdown",
   "id": "7554083e",
   "metadata": {},
   "source": [
    "## Add EEG"
   ]
  },
  {
   "cell_type": "code",
   "execution_count": 45,
   "id": "b00f8edf",
   "metadata": {},
   "outputs": [
    {
     "name": "stdout",
     "output_type": "stream",
     "text": [
      "This recording has EEG.\n"
     ]
    }
   ],
   "source": [
    "if 'EEG' in session_desc:\n",
    "    print('This recording has EEG.')"
   ]
  },
  {
   "cell_type": "markdown",
   "id": "f5144b72",
   "metadata": {},
   "source": [
    "Add extra columns to electrodes table"
   ]
  },
  {
   "cell_type": "code",
   "execution_count": 25,
   "id": "2789449d",
   "metadata": {},
   "outputs": [],
   "source": [
    "nwbfile.add_electrode_column(name = \"is_data_valid\", description = \"True for electrodes/channels with usable data\")"
   ]
  },
  {
   "cell_type": "code",
   "execution_count": 26,
   "id": "86447945",
   "metadata": {},
   "outputs": [],
   "source": [
    "# Specifically for NPXs, must add here though #\n",
    "nwbfile.add_electrode_column(name = \"probe_vertical_position\", description = \"length-wise position of electrode/channel on device (microns)\")\n",
    "nwbfile.add_electrode_column(name = \"probe_horizontal_position\", description = \"width-wise position of electrode/channel on device (microns)\")"
   ]
  },
  {
   "cell_type": "markdown",
   "id": "1be46b4e",
   "metadata": {},
   "source": [
    "**Add EEG device**"
   ]
  },
  {
   "cell_type": "code",
   "execution_count": 27,
   "id": "411136ea",
   "metadata": {},
   "outputs": [],
   "source": [
    "eegdevice = nwbfile.create_device(name = \"EEG array\", description = \"H32 Mouse EEG (30-ch)\", manufacturer = \"Neuronexus\")"
   ]
  },
  {
   "cell_type": "markdown",
   "id": "3ac37104",
   "metadata": {},
   "source": [
    "**Add 30 electrodes in one group**"
   ]
  },
  {
   "cell_type": "code",
   "execution_count": 28,
   "id": "23677130",
   "metadata": {},
   "outputs": [],
   "source": [
    "EEG_elec_group = nwbfile.create_electrode_group(\n",
    "    name = \"EEG array\", description = \"30-ch surface grid\", device = eegdevice, location = \"skull surface, both hemispheres\",\n",
    ")"
   ]
  },
  {
   "cell_type": "code",
   "execution_count": 30,
   "id": "19be8858",
   "metadata": {},
   "outputs": [],
   "source": [
    "ch_valid = [True if x not in sub_data_dict['EEG_bad_chs'] else False for x in range(len(EEGch_locs))]\n",
    "for chi, row in EEGch_locs.iterrows():\n",
    "    nwbfile.add_electrode(\n",
    "        x = float(row.x),\n",
    "        y = float(row.y),\n",
    "        z = float(row.z),\n",
    "        location = row.location,\n",
    "        group = EEG_elec_group,\n",
    "        reference = sub_meta['Reference'],\n",
    "        is_data_valid = ch_valid[chi],\n",
    "        probe_vertical_position = -1, # \"n/a\" could be causing a problem with other float values\n",
    "        probe_horizontal_position = -1,\n",
    "    )"
   ]
  },
  {
   "cell_type": "raw",
   "id": "5b6ec769",
   "metadata": {
    "scrolled": true
   },
   "source": [
    "nwbfile.electrodes.to_dataframe()"
   ]
  },
  {
   "cell_type": "markdown",
   "id": "9e02d02e",
   "metadata": {},
   "source": [
    "*All electrodes will be added to the same DynamicTable, EEG and all NPXs.* Will need to keep track, so the DynamicTableRegion can be assigned accordingly."
   ]
  },
  {
   "cell_type": "markdown",
   "id": "ebdd21b8",
   "metadata": {},
   "source": [
    "**Create a DynamicTableRegion for the EEG electrodes**"
   ]
  },
  {
   "cell_type": "code",
   "execution_count": 28,
   "id": "17fe3a7f",
   "metadata": {},
   "outputs": [],
   "source": [
    "EEGchs = list(np.arange(len(EEGch_locs)))\n",
    "EEG_table_region = nwbfile.create_electrode_table_region(region = EEGchs, description = \"EEG electrodes\")"
   ]
  },
  {
   "cell_type": "markdown",
   "id": "b8770eda",
   "metadata": {},
   "source": [
    "**Add EEG data with timestamps**"
   ]
  },
  {
   "cell_type": "code",
   "execution_count": 29,
   "id": "d331dfc2",
   "metadata": {},
   "outputs": [],
   "source": [
    "## Try from continuous file ##\n",
    "eeg_data = exp._memmap_EEGdata()\n",
    "eeg_times = np.load(exp.ephys_params['EEG']['timestamps'])"
   ]
  },
  {
   "cell_type": "raw",
   "id": "0e6138c6",
   "metadata": {},
   "source": [
    "eeg_data.shape"
   ]
  },
  {
   "cell_type": "raw",
   "id": "0cf01d85",
   "metadata": {},
   "source": [
    "## Resolution ##\n",
    "bitres = 16 # Intan ADC has 16 bit resolution\n",
    "# would need the voltage range?"
   ]
  },
  {
   "cell_type": "raw",
   "id": "dde9a58f",
   "metadata": {},
   "source": [
    "## Original ##\n",
    "EEG_electrical_series = ElectricalSeries(\n",
    "    name = \"ElectricalSeriesEEG\", # this is the key used to call up the data within the NWBfile, BP: ElectricalSeriesFromEEG, etc.\n",
    "    data = eeg_data,\n",
    "    electrodes = EEG_table_region,\n",
    "    timestamps = eeg_times,\n",
    "#     resolution = , # float, smallest meaningful difference between values in data (in V)\n",
    "    conversion = exp.ephys_params['EEG']['bit_volts'] * 1E-6, # float, scalar to multiply data by to convert it to Volts\n",
    "    description = \"voltage measured over time and associated timestamps from EEG array\",\n",
    ")"
   ]
  },
  {
   "cell_type": "code",
   "execution_count": 30,
   "id": "e86a1801",
   "metadata": {},
   "outputs": [],
   "source": [
    "## With H5DataIO compression ##\n",
    "EEG_electrical_series = ElectricalSeries(\n",
    "    name = \"ElectricalSeriesEEG\", # this is the key used to call up the data within the NWBfile, BP: ElectricalSeriesFromEEG, etc.\n",
    "    data = H5DataIO(data=eeg_data, compression=True),\n",
    "    electrodes = EEG_table_region,\n",
    "    timestamps = H5DataIO(data=eeg_times, compression=True),\n",
    "#     resolution = , # float, smallest meaningful difference between values in data (in V)\n",
    "    conversion = exp.ephys_params['EEG']['bit_volts'] * 1E-6, # float, scalar to multiply data by to convert it to Volts\n",
    "    description = \"voltage measured over time and associated timestamps from EEG array\",\n",
    ")"
   ]
  },
  {
   "cell_type": "code",
   "execution_count": 31,
   "id": "b986a7d6",
   "metadata": {},
   "outputs": [],
   "source": [
    "nwbfile.add_acquisition(EEG_electrical_series)"
   ]
  },
  {
   "cell_type": "raw",
   "id": "2380f498",
   "metadata": {},
   "source": [
    "print(nwbfile)"
   ]
  },
  {
   "cell_type": "markdown",
   "id": "eb3ca989",
   "metadata": {},
   "source": [
    "## Add NPX to electrodes table"
   ]
  },
  {
   "cell_type": "code",
   "execution_count": 32,
   "id": "53640205",
   "metadata": {},
   "outputs": [
    {
     "name": "stdout",
     "output_type": "stream",
     "text": [
      "['probeB', 'probeC', 'probeF']\n"
     ]
    }
   ],
   "source": [
    "probe_list = [x.replace('_sorted', '') for x in exp.experiment_data if 'probe' in x]\n",
    "if len(probe_list) == 0:\n",
    "    print(' This experiment has no probe data, not adding NPX devices to NWBfile.\\n')\n",
    "#     continue\n",
    "print(probe_list)"
   ]
  },
  {
   "cell_type": "code",
   "execution_count": 33,
   "id": "4856e788",
   "metadata": {},
   "outputs": [],
   "source": [
    "probe_locs = np.ones((len(probe_list)), dtype=bool)\n",
    "for pbi, probei in enumerate(probe_list):\n",
    "    with open(exp.ephys_params[probei]['probe_info']) as data_file:\n",
    "        data = json.load(data_file)\n",
    "    if 'area_ch' not in data.keys():\n",
    "        probe_locs[pbi] = False\n",
    "if ~probe_locs.any():\n",
    "    print(' This experiment has no probe locations, not adding NPX devices to NWBfile.\\n')"
   ]
  },
  {
   "cell_type": "code",
   "execution_count": 34,
   "id": "fca20056",
   "metadata": {},
   "outputs": [],
   "source": [
    "unit_col_desc_map = {\n",
    "    'location': 'the location of unit within the brain (CCF acronym)',\n",
    "    'x': 'the x coordinate of the position (CCF, +x is posterior)',\n",
    "    'y': 'the y coordinate of the position (CCF, +y is inferior)',\n",
    "    'z': 'the z coordinate of the position (CCF, +z is right)',\n",
    "    'isi_violations': 'an estimate of the relative firing rate of hypothetical neurons generating inter-spike-interval violations',\n",
    "    'amplitude_cutoff': 'an estimate of the fraction of spikes below the spike detection threshold',\n",
    "    'presence_ratio': 'the fraction of time the unit was present during the experiment (ranges from 0 to 0.99)',\n",
    "    'waveform_duration': 'the mean duration (s) of detected spiking events',\n",
    "}\n",
    "\n",
    "for coln, cold in unit_col_desc_map.items():\n",
    "    nwbfile.add_unit_column(name = coln, description = cold)"
   ]
  },
  {
   "cell_type": "code",
   "execution_count": 35,
   "id": "ecbe0114",
   "metadata": {},
   "outputs": [],
   "source": [
    "try:\n",
    "    electrode_counter = len(nwbfile.electrodes)\n",
    "except TypeError:\n",
    "    electrode_counter = 0\n",
    "\n",
    "probe_NWB_objects = {}\n",
    "\n",
    "for pbi, probei in enumerate(probe_list):\n",
    "    if probe_locs[pbi]:\n",
    "        probe_NWB_objects[probei] = {}\n",
    "        if '-PXI-' in exp.ephys_params[probei]['lfp_continuous']:\n",
    "            dev_desc = \"Neuropixels 1.0 probe\"\n",
    "            ref_type = \"tip reference configuration\"\n",
    "        elif '-3a-' in exp.ephys_params[probei]['lfp_continuous']:\n",
    "            dev_desc = \"Neuropixels 3a probe\"\n",
    "            ref_type = \"external reference configuration\"\n",
    "        else:\n",
    "            dev_desc = \"Neuropixels probe\"\n",
    "            ref_type = \"external reference configuration\"\n",
    "\n",
    "        ## Create device ##\n",
    "        probe_NWB_objects[probei]['device'] = nwbfile.create_device(\n",
    "            name = probei, description = dev_desc, manufacturer = \"imec\",\n",
    "        )\n",
    "\n",
    "        ## Create electrode group ##\n",
    "        probe_NWB_objects[probei]['elec_group'] = nwbfile.create_electrode_group(\n",
    "            name = probei,\n",
    "            description = \"Neuropixels probe \" + probei[-1],\n",
    "            device = probe_NWB_objects[probei]['device'],\n",
    "            location = \"see electrode locations\",\n",
    "        )\n",
    "\n",
    "        ## Load probe_info.json ##\n",
    "        with open(exp.ephys_params[probei]['probe_info']) as data_file:\n",
    "            data = json.load(data_file)\n",
    "        npx_allch = np.array(data['channel'])\n",
    "        surface_ch = int(data['surface_channel'])\n",
    "        ref_mask = np.array(data['mask'])\n",
    "        npxch_valid = [True if ref_mask[x] and x <= surface_ch else False for x in npx_allch]\n",
    "        vert_pos = np.array(data['vertical_pos'])\n",
    "        horiz_pos = np.array(data['horizontal_pos'])\n",
    "        ch_locs = np.array(data['area_ch'])\n",
    "        ## Convert CCF coords to 25 um resolution, if needed ##\n",
    "        if sub_meta['Histology'] == 'slices':\n",
    "            ccf_coords = np.round(np.array(data['ccf_coord_ch']) * (10 / 25))\n",
    "        elif sub_meta['Histology'] == 'TC':\n",
    "            ccf_coords = np.array(data['ccf_coord_ch']).astype(float)\n",
    "        else:\n",
    "            print('No info about histology type.')\n",
    "\n",
    "        for npxchi in npx_allch:\n",
    "            ## Strip the layer tag from cortical areas and assign \"none\" to chs not in brain ##\n",
    "            try:\n",
    "                if 315 in structree.get_structures_by_acronym([ch_locs[npxchi]])[0]['structure_id_path']:\n",
    "                    chi_loc = structree.parents([structree.get_structures_by_acronym([ch_locs[npxchi]])[0]['id']])[0]['acronym']\n",
    "                else:\n",
    "                    chi_loc = ch_locs[npxchi]\n",
    "            except KeyError:\n",
    "                chi_loc = 'none'\n",
    "\n",
    "            nwbfile.add_electrode(\n",
    "                x = ccf_coords[npxchi, 0],\n",
    "                y = ccf_coords[npxchi, 1],\n",
    "                z = ccf_coords[npxchi, 2],\n",
    "                location = chi_loc,\n",
    "                group = probe_NWB_objects[probei]['elec_group'],\n",
    "                reference = ref_type,\n",
    "                is_data_valid = npxch_valid[npxchi],\n",
    "                probe_vertical_position = vert_pos[npxchi],\n",
    "                probe_horizontal_position = horiz_pos[npxchi],\n",
    "            )\n",
    "            \n",
    "        ## Create probe DynamicTableRegion ##\n",
    "        probechs = list(np.arange(electrode_counter, electrode_counter + len(npx_allch)))\n",
    "        probe_NWB_objects[probei]['elec_table_region'] = nwbfile.create_electrode_table_region(\n",
    "            region = probechs, description = \"{} electrodes\".format(probei),\n",
    "        )\n",
    "        electrode_counter += len(npx_allch)\n",
    "        \n",
    "        ## Add the LFP data ##\n",
    "        lfp_ts = np.load(exp.ephys_params[probei]['lfp_timestamps'])\n",
    "        lfp_mm = np.memmap(\n",
    "            exp.ephys_params[probei]['lfp_continuous'], dtype='int16',\n",
    "            shape=(lfp_ts.size, exp.ephys_params[probei]['num_chs']), mode='r'\n",
    "        )\n",
    "        \n",
    "        ## Method with H5DataIO compression ##\n",
    "        probe_NWB_objects[probei]['ElecSeries'] = ElectricalSeries(\n",
    "            name = \"ElectricalSeries\" + probei, # BP: ElectricalSeriesFromEEG, etc.\n",
    "            data = H5DataIO(data=lfp_mm, compression=True),\n",
    "            electrodes = probe_NWB_objects[probei]['elec_table_region'],\n",
    "            timestamps = H5DataIO(data=lfp_ts, compression=True),\n",
    "            conversion = exp.ephys_params[probei]['bit_volts'] * 1E-6,\n",
    "            description = \"voltage measured over time and associated timestamps from Neuropixels\" + probei,\n",
    "        )\n",
    "        probe_NWB_objects[probei]['LFPSeries'] = LFP(\n",
    "            electrical_series = probe_NWB_objects[probei]['ElecSeries'], name = \"LFP\" + probei\n",
    "        )\n",
    "        nwbfile.add_acquisition(probe_NWB_objects[probei]['LFPSeries'])\n",
    "        \n",
    "        ## Add probe units ##\n",
    "        select_units, peak_chs, unit_metrics = exp.get_probe_units(probei)\n",
    "\n",
    "        all_spike_times = np.load(exp.ephys_params[probei]['spike_times'])\n",
    "        all_spike_clusters = np.load(exp.ephys_params[probei]['spike_clusters'])\n",
    "        all_spike_waveforms = np.load(exp.ephys_params[probei]['waveforms']) # [clusters, chs, time] (uV)\n",
    "\n",
    "        for ii, (indi, row) in enumerate(unit_metrics.iterrows()):\n",
    "            uniti = row.cluster_id\n",
    "            spikesi = np.squeeze(all_spike_times[all_spike_clusters == uniti])\n",
    "\n",
    "            ## Strip the layer tag from cortical areas and assign \"none\" to chs not in brain ##\n",
    "            try:\n",
    "                if 315 in structree.get_structures_by_acronym([row.area])[0]['structure_id_path']:\n",
    "                    uniti_loc = structree.parents([structree.get_structures_by_acronym([row.area])[0]['id']])[0]['acronym']\n",
    "                else:\n",
    "                    uniti_loc = row.area\n",
    "            except KeyError:\n",
    "                uniti_loc = 'none'\n",
    "\n",
    "            ## Convert CCF coords to 25 um resolution, if needed ##\n",
    "            unit_coords = [int(x) for x in row.ccf_coord.replace('[','').replace(']','').replace(' ','').split(',')]\n",
    "            if sub_meta['Histology'] == 'slices':\n",
    "                unit_coords = np.round(np.array(unit_coords) * (10 / 25))\n",
    "            elif sub_meta['Histology'] == 'TC':\n",
    "                unit_coords = np.array(unit_coords).astype(float)\n",
    "\n",
    "            ## Add unit to NWBfile ##\n",
    "            nwbfile.add_unit(\n",
    "                spike_times = spikesi,\n",
    "                electrodes = [probe_NWB_objects[probei]['elec_table_region'][row.peak_channel].index[0]],\n",
    "                electrode_group = probe_NWB_objects[probei]['elec_group'],\n",
    "                waveform_mean = all_spike_waveforms[uniti, row.peak_channel, :] * 1E-6, # now in V\n",
    "                location = uniti_loc,\n",
    "                x = unit_coords[0],\n",
    "                y = unit_coords[1],\n",
    "                z = unit_coords[2],\n",
    "                isi_violations = row.isi_viol,\n",
    "                amplitude_cutoff = row.amplitude_cutoff,\n",
    "                presence_ratio = row.presence_ratio,\n",
    "                waveform_duration = row.duration,\n",
    "            )\n",
    "\n",
    "    else:\n",
    "        print(' This probe has no locations, not adding it to NWBfile.\\n')\n"
   ]
  },
  {
   "cell_type": "raw",
   "id": "d29c3109",
   "metadata": {
    "scrolled": true
   },
   "source": [
    "nwbfile.electrodes.to_dataframe()"
   ]
  },
  {
   "cell_type": "raw",
   "id": "2582f9e0",
   "metadata": {},
   "source": [
    "nwbfile.acquisition['LFPprobeB']['ElectricalSeriesprobeB'].electrodes.to_dataframe()"
   ]
  },
  {
   "cell_type": "raw",
   "id": "ed713d06",
   "metadata": {},
   "source": [
    "nwbfile.units.to_dataframe()"
   ]
  },
  {
   "cell_type": "markdown",
   "id": "1e865c49",
   "metadata": {},
   "source": [
    "## Add stimulus log info"
   ]
  },
  {
   "cell_type": "code",
   "execution_count": 21,
   "id": "3137b458",
   "metadata": {},
   "outputs": [],
   "source": [
    "stim_log = pd.read_csv(exp.stimulus_log_file).astype({'parameter': str})"
   ]
  },
  {
   "cell_type": "raw",
   "id": "513b6cca",
   "metadata": {},
   "source": [
    "np.sum(stim_log['good'].values == False)"
   ]
  },
  {
   "cell_type": "code",
   "execution_count": 30,
   "id": "ebefacec",
   "metadata": {},
   "outputs": [
    {
     "data": {
      "text/plain": [
       "960"
      ]
     },
     "execution_count": 30,
     "metadata": {},
     "output_type": "execute_result"
    }
   ],
   "source": [
    "480+360+120"
   ]
  },
  {
   "cell_type": "code",
   "execution_count": 32,
   "id": "03aca463",
   "metadata": {},
   "outputs": [
    {
     "data": {
      "text/html": [
       "<div>\n",
       "<style scoped>\n",
       "    .dataframe tbody tr th:only-of-type {\n",
       "        vertical-align: middle;\n",
       "    }\n",
       "\n",
       "    .dataframe tbody tr th {\n",
       "        vertical-align: top;\n",
       "    }\n",
       "\n",
       "    .dataframe thead th {\n",
       "        text-align: right;\n",
       "    }\n",
       "</style>\n",
       "<table border=\"1\" class=\"dataframe\">\n",
       "  <thead>\n",
       "    <tr style=\"text-align: right;\">\n",
       "      <th></th>\n",
       "      <th>stim_type</th>\n",
       "      <th>parameter</th>\n",
       "      <th>onset</th>\n",
       "      <th>offset</th>\n",
       "      <th>duration</th>\n",
       "      <th>sweep</th>\n",
       "      <th>good</th>\n",
       "      <th>mean_speed</th>\n",
       "      <th>resting_trial</th>\n",
       "    </tr>\n",
       "  </thead>\n",
       "  <tbody>\n",
       "    <tr>\n",
       "      <th>475</th>\n",
       "      <td>circle</td>\n",
       "      <td>white</td>\n",
       "      <td>2489.83403</td>\n",
       "      <td>2490.08341</td>\n",
       "      <td>0.24938</td>\n",
       "      <td>0</td>\n",
       "      <td>True</td>\n",
       "      <td>0.0</td>\n",
       "      <td>True</td>\n",
       "    </tr>\n",
       "    <tr>\n",
       "      <th>476</th>\n",
       "      <td>circle</td>\n",
       "      <td>white</td>\n",
       "      <td>2494.30442</td>\n",
       "      <td>2494.55383</td>\n",
       "      <td>0.24941</td>\n",
       "      <td>0</td>\n",
       "      <td>True</td>\n",
       "      <td>0.0</td>\n",
       "      <td>True</td>\n",
       "    </tr>\n",
       "    <tr>\n",
       "      <th>477</th>\n",
       "      <td>circle</td>\n",
       "      <td>white</td>\n",
       "      <td>2498.47462</td>\n",
       "      <td>2498.72397</td>\n",
       "      <td>0.24935</td>\n",
       "      <td>0</td>\n",
       "      <td>True</td>\n",
       "      <td>0.0</td>\n",
       "      <td>True</td>\n",
       "    </tr>\n",
       "    <tr>\n",
       "      <th>478</th>\n",
       "      <td>circle</td>\n",
       "      <td>white</td>\n",
       "      <td>2502.92832</td>\n",
       "      <td>2503.17771</td>\n",
       "      <td>0.24939</td>\n",
       "      <td>0</td>\n",
       "      <td>True</td>\n",
       "      <td>0.0</td>\n",
       "      <td>True</td>\n",
       "    </tr>\n",
       "    <tr>\n",
       "      <th>479</th>\n",
       "      <td>circle</td>\n",
       "      <td>white</td>\n",
       "      <td>2507.64894</td>\n",
       "      <td>2507.89832</td>\n",
       "      <td>0.24938</td>\n",
       "      <td>0</td>\n",
       "      <td>True</td>\n",
       "      <td>0.0</td>\n",
       "      <td>True</td>\n",
       "    </tr>\n",
       "    <tr>\n",
       "      <th>480</th>\n",
       "      <td>biphasic</td>\n",
       "      <td>40</td>\n",
       "      <td>3769.25855</td>\n",
       "      <td>3769.25895</td>\n",
       "      <td>0.00040</td>\n",
       "      <td>1</td>\n",
       "      <td>True</td>\n",
       "      <td>0.0</td>\n",
       "      <td>True</td>\n",
       "    </tr>\n",
       "    <tr>\n",
       "      <th>481</th>\n",
       "      <td>biphasic</td>\n",
       "      <td>20</td>\n",
       "      <td>3772.79157</td>\n",
       "      <td>3772.79197</td>\n",
       "      <td>0.00040</td>\n",
       "      <td>1</td>\n",
       "      <td>True</td>\n",
       "      <td>0.0</td>\n",
       "      <td>True</td>\n",
       "    </tr>\n",
       "    <tr>\n",
       "      <th>482</th>\n",
       "      <td>biphasic</td>\n",
       "      <td>40</td>\n",
       "      <td>3776.85320</td>\n",
       "      <td>3776.85360</td>\n",
       "      <td>0.00040</td>\n",
       "      <td>1</td>\n",
       "      <td>True</td>\n",
       "      <td>0.0</td>\n",
       "      <td>True</td>\n",
       "    </tr>\n",
       "    <tr>\n",
       "      <th>483</th>\n",
       "      <td>biphasic</td>\n",
       "      <td>70</td>\n",
       "      <td>3781.23548</td>\n",
       "      <td>3781.23588</td>\n",
       "      <td>0.00040</td>\n",
       "      <td>1</td>\n",
       "      <td>True</td>\n",
       "      <td>0.0</td>\n",
       "      <td>True</td>\n",
       "    </tr>\n",
       "    <tr>\n",
       "      <th>484</th>\n",
       "      <td>biphasic</td>\n",
       "      <td>70</td>\n",
       "      <td>3785.40509</td>\n",
       "      <td>3785.40549</td>\n",
       "      <td>0.00040</td>\n",
       "      <td>1</td>\n",
       "      <td>True</td>\n",
       "      <td>0.0</td>\n",
       "      <td>True</td>\n",
       "    </tr>\n",
       "  </tbody>\n",
       "</table>\n",
       "</div>"
      ],
      "text/plain": [
       "    stim_type parameter       onset      offset  duration  sweep  good  \\\n",
       "475    circle     white  2489.83403  2490.08341   0.24938      0  True   \n",
       "476    circle     white  2494.30442  2494.55383   0.24941      0  True   \n",
       "477    circle     white  2498.47462  2498.72397   0.24935      0  True   \n",
       "478    circle     white  2502.92832  2503.17771   0.24939      0  True   \n",
       "479    circle     white  2507.64894  2507.89832   0.24938      0  True   \n",
       "480  biphasic        40  3769.25855  3769.25895   0.00040      1  True   \n",
       "481  biphasic        20  3772.79157  3772.79197   0.00040      1  True   \n",
       "482  biphasic        40  3776.85320  3776.85360   0.00040      1  True   \n",
       "483  biphasic        70  3781.23548  3781.23588   0.00040      1  True   \n",
       "484  biphasic        70  3785.40509  3785.40549   0.00040      1  True   \n",
       "\n",
       "     mean_speed  resting_trial  \n",
       "475         0.0           True  \n",
       "476         0.0           True  \n",
       "477         0.0           True  \n",
       "478         0.0           True  \n",
       "479         0.0           True  \n",
       "480         0.0           True  \n",
       "481         0.0           True  \n",
       "482         0.0           True  \n",
       "483         0.0           True  \n",
       "484         0.0           True  "
      ]
     },
     "execution_count": 32,
     "metadata": {},
     "output_type": "execute_result"
    }
   ],
   "source": [
    "stim_log[475:485]"
   ]
  },
  {
   "cell_type": "code",
   "execution_count": 24,
   "id": "1c5fd8af",
   "metadata": {},
   "outputs": [
    {
     "data": {
      "text/plain": [
       "array([0, 1, 2, 3, 4], dtype=int64)"
      ]
     },
     "execution_count": 24,
     "metadata": {},
     "output_type": "execute_result"
    }
   ],
   "source": [
    "np.unique(stim_log['sweep'].values)"
   ]
  },
  {
   "cell_type": "code",
   "execution_count": 25,
   "id": "72f254e0",
   "metadata": {},
   "outputs": [
    {
     "data": {
      "text/plain": [
       "['awake', 'isoflurane', 'recovery', 'recovery']"
      ]
     },
     "execution_count": 25,
     "metadata": {},
     "output_type": "execute_result"
    }
   ],
   "source": [
    "sub_data_dict['sweep_state_map']"
   ]
  },
  {
   "cell_type": "markdown",
   "id": "7bde0674",
   "metadata": {},
   "source": [
    "**Take stim_log and add NWBstyle info to it**"
   ]
  },
  {
   "cell_type": "code",
   "execution_count": 23,
   "id": "2400d2e9",
   "metadata": {},
   "outputs": [
    {
     "ename": "IndexError",
     "evalue": "list index out of range",
     "output_type": "error",
     "traceback": [
      "\u001b[1;31m---------------------------------------------------------------------------\u001b[0m",
      "\u001b[1;31mIndexError\u001b[0m                                Traceback (most recent call last)",
      "\u001b[1;32m~\\AppData\\Local\\Temp\\ipykernel_8912\\3047993920.py\u001b[0m in \u001b[0;36m<module>\u001b[1;34m\u001b[0m\n\u001b[0;32m      1\u001b[0m trial_table, col_desc_map = stim_log_NWBstyle(\n\u001b[1;32m----> 2\u001b[1;33m     \u001b[0mstim_log\u001b[0m\u001b[1;33m,\u001b[0m \u001b[0msub_data_dict\u001b[0m\u001b[1;33m[\u001b[0m\u001b[1;34m'sweep_depth_map'\u001b[0m\u001b[1;33m]\u001b[0m\u001b[1;33m,\u001b[0m \u001b[0msub_data_dict\u001b[0m\u001b[1;33m[\u001b[0m\u001b[1;34m'sweep_state_map'\u001b[0m\u001b[1;33m]\u001b[0m\u001b[1;33m,\u001b[0m \u001b[0msub_data_dict\u001b[0m\u001b[1;33m[\u001b[0m\u001b[1;34m'invalid_sweeps'\u001b[0m\u001b[1;33m]\u001b[0m\u001b[1;33m\u001b[0m\u001b[1;33m\u001b[0m\u001b[0m\n\u001b[0m\u001b[0;32m      3\u001b[0m )\n",
      "\u001b[1;32m~\\AppData\\Local\\Temp\\ipykernel_8912\\1130705137.py\u001b[0m in \u001b[0;36mstim_log_NWBstyle\u001b[1;34m(EEGexp_stim_log, sweep_to_depth_map, sweep_to_epoch_map, invalid_sweeps)\u001b[0m\n\u001b[0;32m     62\u001b[0m \u001b[1;33m\u001b[0m\u001b[0m\n\u001b[0;32m     63\u001b[0m     \u001b[1;31m## Add metadata for each trial ##\u001b[0m\u001b[1;33m\u001b[0m\u001b[1;33m\u001b[0m\u001b[1;33m\u001b[0m\u001b[0m\n\u001b[1;32m---> 64\u001b[1;33m     \u001b[0mtrial_table\u001b[0m\u001b[1;33m[\u001b[0m\u001b[1;34m'behavioral_epoch'\u001b[0m\u001b[1;33m]\u001b[0m \u001b[1;33m=\u001b[0m \u001b[1;33m[\u001b[0m\u001b[0msweep_to_epoch_map\u001b[0m\u001b[1;33m[\u001b[0m\u001b[0mx\u001b[0m\u001b[1;33m]\u001b[0m \u001b[1;32mfor\u001b[0m \u001b[0mx\u001b[0m \u001b[1;32min\u001b[0m \u001b[0mEEGexp_stim_log\u001b[0m\u001b[1;33m[\u001b[0m\u001b[1;34m'sweep'\u001b[0m\u001b[1;33m]\u001b[0m\u001b[1;33m.\u001b[0m\u001b[0mvalues\u001b[0m\u001b[1;33m]\u001b[0m\u001b[1;33m\u001b[0m\u001b[1;33m\u001b[0m\u001b[0m\n\u001b[0m\u001b[0;32m     65\u001b[0m     \u001b[0mtrial_table\u001b[0m\u001b[1;33m[\u001b[0m\u001b[1;34m'is_running'\u001b[0m\u001b[1;33m]\u001b[0m \u001b[1;33m=\u001b[0m \u001b[1;33m~\u001b[0m\u001b[0mEEGexp_stim_log\u001b[0m\u001b[1;33m[\u001b[0m\u001b[1;34m'resting_trial'\u001b[0m\u001b[1;33m]\u001b[0m\u001b[1;33m.\u001b[0m\u001b[0mvalues\u001b[0m\u001b[1;33m\u001b[0m\u001b[1;33m\u001b[0m\u001b[0m\n\u001b[0;32m     66\u001b[0m     \u001b[0mtrial_table\u001b[0m\u001b[1;33m[\u001b[0m\u001b[1;34m'is_valid'\u001b[0m\u001b[1;33m]\u001b[0m \u001b[1;33m=\u001b[0m \u001b[0mEEGexp_stim_log\u001b[0m\u001b[1;33m[\u001b[0m\u001b[1;34m'good'\u001b[0m\u001b[1;33m]\u001b[0m\u001b[1;33m.\u001b[0m\u001b[0mvalues\u001b[0m\u001b[1;33m\u001b[0m\u001b[1;33m\u001b[0m\u001b[0m\n",
      "\u001b[1;32m~\\AppData\\Local\\Temp\\ipykernel_8912\\1130705137.py\u001b[0m in \u001b[0;36m<listcomp>\u001b[1;34m(.0)\u001b[0m\n\u001b[0;32m     62\u001b[0m \u001b[1;33m\u001b[0m\u001b[0m\n\u001b[0;32m     63\u001b[0m     \u001b[1;31m## Add metadata for each trial ##\u001b[0m\u001b[1;33m\u001b[0m\u001b[1;33m\u001b[0m\u001b[1;33m\u001b[0m\u001b[0m\n\u001b[1;32m---> 64\u001b[1;33m     \u001b[0mtrial_table\u001b[0m\u001b[1;33m[\u001b[0m\u001b[1;34m'behavioral_epoch'\u001b[0m\u001b[1;33m]\u001b[0m \u001b[1;33m=\u001b[0m \u001b[1;33m[\u001b[0m\u001b[0msweep_to_epoch_map\u001b[0m\u001b[1;33m[\u001b[0m\u001b[0mx\u001b[0m\u001b[1;33m]\u001b[0m \u001b[1;32mfor\u001b[0m \u001b[0mx\u001b[0m \u001b[1;32min\u001b[0m \u001b[0mEEGexp_stim_log\u001b[0m\u001b[1;33m[\u001b[0m\u001b[1;34m'sweep'\u001b[0m\u001b[1;33m]\u001b[0m\u001b[1;33m.\u001b[0m\u001b[0mvalues\u001b[0m\u001b[1;33m]\u001b[0m\u001b[1;33m\u001b[0m\u001b[1;33m\u001b[0m\u001b[0m\n\u001b[0m\u001b[0;32m     65\u001b[0m     \u001b[0mtrial_table\u001b[0m\u001b[1;33m[\u001b[0m\u001b[1;34m'is_running'\u001b[0m\u001b[1;33m]\u001b[0m \u001b[1;33m=\u001b[0m \u001b[1;33m~\u001b[0m\u001b[0mEEGexp_stim_log\u001b[0m\u001b[1;33m[\u001b[0m\u001b[1;34m'resting_trial'\u001b[0m\u001b[1;33m]\u001b[0m\u001b[1;33m.\u001b[0m\u001b[0mvalues\u001b[0m\u001b[1;33m\u001b[0m\u001b[1;33m\u001b[0m\u001b[0m\n\u001b[0;32m     66\u001b[0m     \u001b[0mtrial_table\u001b[0m\u001b[1;33m[\u001b[0m\u001b[1;34m'is_valid'\u001b[0m\u001b[1;33m]\u001b[0m \u001b[1;33m=\u001b[0m \u001b[0mEEGexp_stim_log\u001b[0m\u001b[1;33m[\u001b[0m\u001b[1;34m'good'\u001b[0m\u001b[1;33m]\u001b[0m\u001b[1;33m.\u001b[0m\u001b[0mvalues\u001b[0m\u001b[1;33m\u001b[0m\u001b[1;33m\u001b[0m\u001b[0m\n",
      "\u001b[1;31mIndexError\u001b[0m: list index out of range"
     ]
    }
   ],
   "source": [
    "trial_table, col_desc_map = stim_log_NWBstyle(\n",
    "    stim_log, sub_data_dict['sweep_depth_map'], sub_data_dict['sweep_state_map'], sub_data_dict['invalid_sweeps']\n",
    ")"
   ]
  },
  {
   "cell_type": "raw",
   "id": "e85dbe51",
   "metadata": {},
   "source": [
    "trial_table[357:365]"
   ]
  },
  {
   "cell_type": "markdown",
   "id": "bb6c2840",
   "metadata": {},
   "source": [
    "**Add trials to NWBfile**"
   ]
  },
  {
   "cell_type": "code",
   "execution_count": 31,
   "id": "78c816c1",
   "metadata": {},
   "outputs": [],
   "source": [
    "## Add new columns to trial table ##\n",
    "for coln, cold in col_desc_map.items():\n",
    "    nwbfile.add_trial_column(name = coln, description = cold)\n",
    "    \n",
    "## Now add each trial ##\n",
    "for _, row in trial_table.iterrows():\n",
    "    row_dict = row.to_dict()\n",
    "    nwbfile.add_trial(**row_dict)"
   ]
  },
  {
   "cell_type": "markdown",
   "id": "7c52876b",
   "metadata": {},
   "source": [
    "## Add behavioral epochs/states"
   ]
  },
  {
   "cell_type": "markdown",
   "id": "f68f31fb",
   "metadata": {},
   "source": [
    "Some mice do not have the iso signal..."
   ]
  },
  {
   "cell_type": "code",
   "execution_count": 27,
   "id": "a7f194fb",
   "metadata": {},
   "outputs": [],
   "source": [
    "try:\n",
    "    iso_induction, iso_maintenance = exp.load_iso_times()\n",
    "except IndexError:\n",
    "    print('No iso signal :(')\n",
    "    iso_induction = (\n",
    "        trial_table[trial_table['behavioral_epoch'] == 'awake']['stop_time'].values[-1],\n",
    "        trial_table[trial_table['behavioral_epoch'] == 'isoflurane']['start_time'].values[0]\n",
    "    )\n",
    "    iso_maintenance = (\n",
    "        trial_table[trial_table['behavioral_epoch'] == 'isoflurane']['start_time'].values[0],\n",
    "        trial_table[trial_table['behavioral_epoch'] == 'isoflurane']['stop_time'].values[-1]\n",
    "    )"
   ]
  },
  {
   "cell_type": "code",
   "execution_count": 29,
   "id": "7f7eb3f6",
   "metadata": {},
   "outputs": [
    {
     "data": {
      "text/plain": [
       "(2630.051094753146, 5919.701094753145)"
      ]
     },
     "execution_count": 29,
     "metadata": {},
     "output_type": "execute_result"
    }
   ],
   "source": [
    "iso_induction"
   ]
  },
  {
   "cell_type": "code",
   "execution_count": 28,
   "id": "d358242f",
   "metadata": {},
   "outputs": [
    {
     "data": {
      "text/plain": [
       "(5919.7110947531455, 6719.221094753146)"
      ]
     },
     "execution_count": 28,
     "metadata": {},
     "output_type": "execute_result"
    }
   ],
   "source": [
    "iso_maintenance"
   ]
  },
  {
   "cell_type": "code",
   "execution_count": 40,
   "id": "5a64a7d1",
   "metadata": {},
   "outputs": [],
   "source": [
    "nwbfile.add_epoch(\n",
    "    start_time = iso_induction[0],\n",
    "    stop_time = iso_induction[-1],\n",
    "    tags = ['isoflurane_induction']\n",
    ")\n",
    "nwbfile.add_epoch(\n",
    "    start_time = iso_maintenance[0],\n",
    "    stop_time = iso_maintenance[-1],\n",
    "    tags = ['isoflurane_anesthesia']\n",
    ")"
   ]
  },
  {
   "cell_type": "raw",
   "id": "4d4f8583",
   "metadata": {},
   "source": [
    "nwbfile"
   ]
  },
  {
   "cell_type": "code",
   "execution_count": 41,
   "id": "d574fa37",
   "metadata": {},
   "outputs": [
    {
     "name": "stdout",
     "output_type": "stream",
     "text": [
      "Time to package: 415.23 s\n"
     ]
    }
   ],
   "source": [
    "midclock = time.time()\n",
    "print('Time to package: {:.2f} s'.format(midclock - startclock))"
   ]
  },
  {
   "cell_type": "markdown",
   "id": "d4a3c260",
   "metadata": {},
   "source": [
    "## Write the NWBfile"
   ]
  },
  {
   "cell_type": "markdown",
   "id": "2847088c",
   "metadata": {},
   "source": [
    "Once you have finished adding all of your data to the :py:class:`~pynwb.file.NWBFile`,\n",
    "write the file with :py:class:`~pynwb.NWBHDF5IO`."
   ]
  },
  {
   "cell_type": "code",
   "execution_count": 42,
   "id": "962e3104",
   "metadata": {},
   "outputs": [],
   "source": [
    "my_test_file = os.path.join(NWB_output_dir, file_id + r'.nwb')"
   ]
  },
  {
   "cell_type": "code",
   "execution_count": 43,
   "id": "93a734f9",
   "metadata": {},
   "outputs": [
    {
     "name": "stdout",
     "output_type": "stream",
     "text": [
      "Time to write NWB file: 34.50 min\n"
     ]
    }
   ],
   "source": [
    "with NWBHDF5IO(my_test_file, \"w\") as io:\n",
    "    io.write(nwbfile, cache_spec=True)\n",
    "stopclock = time.time()\n",
    "print('Time to write NWB file: {:.2f} min'.format((stopclock - midclock) / 60))"
   ]
  },
  {
   "cell_type": "markdown",
   "id": "d76dadf0",
   "metadata": {},
   "source": [
    "# Practice"
   ]
  },
  {
   "cell_type": "markdown",
   "id": "06ef8d9b",
   "metadata": {},
   "source": [
    "#### TEST: Add units with spiketimes"
   ]
  },
  {
   "cell_type": "raw",
   "id": "3ff0e973",
   "metadata": {},
   "source": [
    "testP = 'probeB'\n",
    "\n",
    "select_units, peak_chs, unit_metrics = exp.get_probe_units(testP)\n",
    "\n",
    "all_spike_times = np.load(exp.ephys_params[testP]['spike_times'])\n",
    "all_spike_clusters = np.load(exp.ephys_params[testP]['spike_clusters'])\n",
    "all_spike_waveforms = np.load(exp.ephys_params[testP]['waveforms']) # [clusters, chs, time] (uV)\n",
    "\n",
    "for ii, (uniti, row) in enumerate(unit_metrics[:15].iterrows())\n",
    "    spikesi = np.squeeze(all_spike_times[all_spike_clusters == uniti])\n",
    "    \n",
    "    ## Strip the layer tag from cortical areas and assign \"none\" to chs not in brain ##\n",
    "    try:\n",
    "        if 315 in structree.get_structures_by_acronym([row.area])[0]['structure_id_path']:\n",
    "            uniti_loc = structree.parents([structree.get_structures_by_acronym([row.area])[0]['id']])[0]['acronym']\n",
    "        else:\n",
    "            uniti_loc = row.area\n",
    "    except KeyError:\n",
    "        uniti_loc = 'none'\n",
    "        \n",
    "    ## Convert CCF coords to 25 um resolution, if needed ##\n",
    "    unit_coords = [int(x) for x in row.ccf_coord.replace('[','').replace(']','').replace(' ','').split(',')]\n",
    "    if sub_meta['Histology'] == 'slices':\n",
    "        unit_coords = np.round(np.array(unit_coords) * (10 / 25))\n",
    "    elif sub_meta['Histology'] == 'TC':\n",
    "        unit_coords = np.array(unit_coords).astype(float)\n",
    "\n",
    "    ## Add unit to NWBfile ##\n",
    "    nwbfile.add_unit(\n",
    "        spike_times = spikesi,\n",
    "        electrodes = [probe_NWB_objects[testP]['elec_table_region'][row.peak_channel].index[0]],\n",
    "        electrode_group = probe_NWB_objects[testP]['elec_group'],\n",
    "        waveform_mean = all_spike_waveforms[uniti, row.peak_channel, :] * 1E-6, # now in V\n",
    "        location = uniti_loc,\n",
    "        x = unit_coords[0],\n",
    "        y = unit_coords[1],\n",
    "        z = unit_coords[2],\n",
    "        isi_violations = row.isi_viol,\n",
    "        amplitude_cutoff = row.amplitude_cutoff,\n",
    "        presence_ratio = row.presence_ratio,\n",
    "        waveform_duration = row.duration,\n",
    "    )"
   ]
  },
  {
   "cell_type": "markdown",
   "id": "914a186a",
   "metadata": {},
   "source": [
    "**Below is development for the stim_log conversion function**"
   ]
  },
  {
   "cell_type": "raw",
   "id": "0ad10e88",
   "metadata": {},
   "source": [
    "stim_log['good'] = stim_log.apply(lambda x: False if x.sweep in invalid_sweeps else x.good, axis=1)"
   ]
  },
  {
   "cell_type": "raw",
   "id": "b34998df",
   "metadata": {},
   "source": [
    "trial_table = pd.DataFrame({\n",
    "    'start_time': stim_log['onset'].values,\n",
    "    'stop_time': stim_log['offset'].values,\n",
    "})\n",
    "# trial_table.head()"
   ]
  },
  {
   "cell_type": "raw",
   "id": "72e34d7a",
   "metadata": {},
   "source": [
    "## Adds extra columns describing stimuli ##\n",
    "stim_type_map = {'biphasic': 'electrical', 'circle': 'visual', 'fullscreen': 'visual'}\n",
    "stim_type = []\n",
    "stim_desc = []\n",
    "stim_curr = []\n",
    "stimreg = []\n",
    "stimdepth = []\n",
    "for _, row in stim_log.iterrows():\n",
    "    if row.stim_type == 'biphasic':\n",
    "        stim_type.append(stim_type_map[row.stim_type])\n",
    "        stim_desc.append(row.stim_type)\n",
    "        stim_curr.append(row.parameter)\n",
    "        stimreg.append(sub_meta['stim_region'])\n",
    "        stimdepth.append(sweep_depth_map[row.sweep])\n",
    "    elif row.stim_type in ['circle', 'fullscreen']:\n",
    "        stim_type.append(stim_type_map[row.stim_type])\n",
    "        stim_desc.append(row.parameter + ' ' + row.stim_type)\n",
    "        stim_curr.append('n/a')\n",
    "        stimreg.append('n/a')\n",
    "        stimdepth.append('n/a')\n",
    "    else:\n",
    "        stim_type.append('unknown')\n",
    "        stim_desc.append('n/a')\n",
    "        stim_curr.append('n/a')\n",
    "        stimreg.append('n/a')\n",
    "        stimdepth.append('n/a')\n",
    "trial_table['stimulus_type'] = stim_type\n",
    "trial_table['stimulus_description'] = stim_desc\n",
    "trial_table['estim_current'] = stim_curr\n",
    "trial_table['estim_target_region'] = stimreg\n",
    "trial_table['estim_target_depth'] = stimdepth"
   ]
  },
  {
   "cell_type": "raw",
   "id": "46d7321b",
   "metadata": {},
   "source": [
    "## Add metadata for each trial ##\n",
    "trial_table['behavioral_epoch'] = [sweep_state_map[x] for x in stim_log['sweep'].values]\n",
    "trial_table['is_running'] = ~stim_log['resting_trial'].values\n",
    "trial_table['is_valid'] = stim_log['good'].values"
   ]
  },
  {
   "cell_type": "markdown",
   "id": "a05531c1",
   "metadata": {},
   "source": [
    "## Inspect the NWBfile"
   ]
  },
  {
   "cell_type": "raw",
   "id": "c579b512",
   "metadata": {},
   "source": [
    "from nwbinspector import inspect_nwb\n",
    "\n",
    "results = list(inspect_nwb(nwbfile_path=\"path_to_single_nwbfile\"))"
   ]
  },
  {
   "cell_type": "code",
   "execution_count": null,
   "id": "1aa90e76",
   "metadata": {},
   "outputs": [],
   "source": []
  }
 ],
 "metadata": {
  "kernelspec": {
   "display_name": "tbd_nwb",
   "language": "python",
   "name": "tbd_nwb"
  },
  "language_info": {
   "codemirror_mode": {
    "name": "ipython",
    "version": 3
   },
   "file_extension": ".py",
   "mimetype": "text/x-python",
   "name": "python",
   "nbconvert_exporter": "python",
   "pygments_lexer": "ipython3",
   "version": "3.7.13"
  }
 },
 "nbformat": 4,
 "nbformat_minor": 5
}
