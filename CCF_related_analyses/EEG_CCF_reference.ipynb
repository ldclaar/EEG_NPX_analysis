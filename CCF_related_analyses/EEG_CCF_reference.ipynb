{
 "cells": [
  {
   "cell_type": "code",
   "execution_count": 1,
   "metadata": {},
   "outputs": [],
   "source": [
    "import os\n",
    "import sys\n",
    "import numpy as np\n",
    "import pandas as pd\n",
    "import matplotlib.pyplot as plt\n",
    "from matplotlib.gridspec import GridSpec\n",
    "from matplotlib.patches import Circle\n",
    "from mpl_toolkits.mplot3d import Axes3D\n",
    "\n",
    "from allensdk.core.mouse_connectivity_cache import MouseConnectivityCache\n",
    "from allensdk.core.reference_space import ReferenceSpace"
   ]
  },
  {
   "cell_type": "code",
   "execution_count": 2,
   "metadata": {},
   "outputs": [],
   "source": [
    "sys.path.append(r'C:\\Users\\lesliec\\code')"
   ]
  },
  {
   "cell_type": "code",
   "execution_count": 3,
   "metadata": {},
   "outputs": [],
   "source": [
    "from tbd_eeg.tbd_eeg.data_analysis.eegutils import EEGexp"
   ]
  },
  {
   "cell_type": "raw",
   "metadata": {},
   "source": [
    "import vtkplotter # Federico advised against importing...as vtk since that is another package name.\n",
    "from brainrender.scene import Scene"
   ]
  },
  {
   "cell_type": "code",
   "execution_count": 4,
   "metadata": {},
   "outputs": [],
   "source": [
    "%matplotlib notebook"
   ]
  },
  {
   "cell_type": "markdown",
   "metadata": {},
   "source": [
    "### Load EEG electrode coordinates from EEGexp class\n",
    "I pulled the coordinates from the image here: https://neuronexus.com/electrode-array/mouse-eeg/. (ML: neg= mouse left, pos= mouse right)"
   ]
  },
  {
   "cell_type": "code",
   "execution_count": 5,
   "metadata": {},
   "outputs": [
    {
     "data": {
      "text/html": [
       "<div>\n",
       "<style scoped>\n",
       "    .dataframe tbody tr th:only-of-type {\n",
       "        vertical-align: middle;\n",
       "    }\n",
       "\n",
       "    .dataframe tbody tr th {\n",
       "        vertical-align: top;\n",
       "    }\n",
       "\n",
       "    .dataframe thead th {\n",
       "        text-align: right;\n",
       "    }\n",
       "</style>\n",
       "<table border=\"1\" class=\"dataframe\">\n",
       "  <thead>\n",
       "    <tr style=\"text-align: right;\">\n",
       "      <th></th>\n",
       "      <th>AP</th>\n",
       "      <th>ML</th>\n",
       "    </tr>\n",
       "  </thead>\n",
       "  <tbody>\n",
       "    <tr>\n",
       "      <th>0</th>\n",
       "      <td>-4.14</td>\n",
       "      <td>-4.05</td>\n",
       "    </tr>\n",
       "    <tr>\n",
       "      <th>1</th>\n",
       "      <td>-4.14</td>\n",
       "      <td>-2.24</td>\n",
       "    </tr>\n",
       "    <tr>\n",
       "      <th>2</th>\n",
       "      <td>-4.14</td>\n",
       "      <td>-1.00</td>\n",
       "    </tr>\n",
       "    <tr>\n",
       "      <th>3</th>\n",
       "      <td>-3.04</td>\n",
       "      <td>-4.13</td>\n",
       "    </tr>\n",
       "    <tr>\n",
       "      <th>4</th>\n",
       "      <td>-3.04</td>\n",
       "      <td>-2.88</td>\n",
       "    </tr>\n",
       "  </tbody>\n",
       "</table>\n",
       "</div>"
      ],
      "text/plain": [
       "     AP    ML\n",
       "0 -4.14 -4.05\n",
       "1 -4.14 -2.24\n",
       "2 -4.14 -1.00\n",
       "3 -3.04 -4.13\n",
       "4 -3.04 -2.88"
      ]
     },
     "execution_count": 5,
     "metadata": {},
     "output_type": "execute_result"
    }
   ],
   "source": [
    "EEGch_coords = EEGexp.EEG_channel_coordinates\n",
    "EEGch_coords.head()"
   ]
  },
  {
   "cell_type": "code",
   "execution_count": null,
   "metadata": {},
   "outputs": [],
   "source": []
  },
  {
   "cell_type": "markdown",
   "metadata": {},
   "source": [
    "### Load CCF"
   ]
  },
  {
   "cell_type": "code",
   "execution_count": 6,
   "metadata": {},
   "outputs": [],
   "source": [
    "mcc = MouseConnectivityCache(resolution=25)\n",
    "\n",
    "template, template_info = mcc.get_template_volume()\n",
    "annot, annot_info = mcc.get_annotation_volume()\n",
    "\n",
    "structure_tree = mcc.get_structure_tree()"
   ]
  },
  {
   "cell_type": "raw",
   "metadata": {},
   "source": [
    "# dir() allows you to see what attributes and functions are associated with an object\n",
    "dir(mcc)"
   ]
  },
  {
   "cell_type": "raw",
   "metadata": {
    "scrolled": false
   },
   "source": [
    "# Look at a slice from the average template and annotation volumes\n",
    "\n",
    "# pick a slice to show (0 is most anterior)\n",
    "slice_idx = 155\n",
    "\n",
    "f, ccf_axes = plt.subplots(1, 2, figsize=(8, 4))\n",
    "\n",
    "ccf_axes[0].imshow(template[slice_idx,:,:], cmap='gray', aspect='equal', vmin=template.min(), vmax=template.max())\n",
    "ccf_axes[0].set_title(\"registration template\")\n",
    "\n",
    "ccf_axes[1].imshow(annot[slice_idx,:,:], cmap='gray', aspect='equal', vmin=0, vmax=2000)\n",
    "ccf_axes[1].set_title(\"annotation volume\")\n",
    "\n",
    "plt.show()"
   ]
  },
  {
   "cell_type": "raw",
   "metadata": {},
   "source": [
    "structure_tree.get_structures_by_id([512])"
   ]
  },
  {
   "cell_type": "raw",
   "metadata": {},
   "source": [
    "structure_tree.get_structures_by_acronym(['TH'])"
   ]
  },
  {
   "cell_type": "raw",
   "metadata": {},
   "source": [
    "structure_tree.get_structures_by_acronym(['CBX'])"
   ]
  },
  {
   "cell_type": "markdown",
   "metadata": {},
   "source": [
    "### Convert EEG coordinates to CCF coordinates"
   ]
  },
  {
   "cell_type": "markdown",
   "metadata": {},
   "source": [
    "Using coordinates from the Paxinos atlas (here: http://labs.gaidi.ca/mouse-brain-atlas/), I am assigning bregma based on the corpus callosum joining between +1.2 and +1.1 mm AP.\n",
    "<br> Or see https://github.com/cortex-lab/allenCCF/blob/master/Browsing%20Functions/allenCCFbregma.m for the estimate from SharpTrack, which is in 10 um resolution. The equivalent would be AP pixel = 216, quite close to my estimate."
   ]
  },
  {
   "cell_type": "code",
   "execution_count": 7,
   "metadata": {},
   "outputs": [
    {
     "name": "stdout",
     "output_type": "stream",
     "text": [
      "Bregma (AP) pixel ind: 212\n",
      "Bregma (ML) pixel ind: 228\n",
      "Bregma (DV) pixel ind: 28\n"
     ]
    }
   ],
   "source": [
    "mm_slice = 0.025 # mm, we are using CCF with 25 um resolution\n",
    "cc_join_ind = 168 # AP_ind, I call this AP +1.1 mm\n",
    "\n",
    "AP_zero_ind = cc_join_ind + int(1.1 / mm_slice)\n",
    "print('Bregma (AP) pixel ind: {}'.format(AP_zero_ind))\n",
    "\n",
    "ML_zero_ind = np.shape(annot)[2]//2\n",
    "print('Bregma (ML) pixel ind: {}'.format(ML_zero_ind))\n",
    "\n",
    "## Find brain surface at bregma to find DV pixel ##\n",
    "edge_indb = np.nonzero(annot[AP_zero_ind, int(np.shape(annot)[1]/2), :])[0][0]\n",
    "bregma_surfaceML = np.arange(edge_indb, np.shape(annot)[2] - edge_indb)\n",
    "bregma_surfaceDV = np.zeros_like(bregma_surfaceML)\n",
    "for k, bsurML in enumerate(bregma_surfaceML):\n",
    "    bregma_surfaceDV[k] = np.nonzero(annot[int(AP_zero_ind), :, int(bsurML)])[0][0]\n",
    "\n",
    "DV_zero_ind = np.min(bregma_surfaceDV)\n",
    "print('Bregma (DV) pixel ind: {}'.format(DV_zero_ind))"
   ]
  },
  {
   "cell_type": "markdown",
   "metadata": {},
   "source": [
    "Conversions for AP and ML coordinates:"
   ]
  },
  {
   "cell_type": "code",
   "execution_count": 8,
   "metadata": {},
   "outputs": [
    {
     "data": {
      "text/html": [
       "<div>\n",
       "<style scoped>\n",
       "    .dataframe tbody tr th:only-of-type {\n",
       "        vertical-align: middle;\n",
       "    }\n",
       "\n",
       "    .dataframe tbody tr th {\n",
       "        vertical-align: top;\n",
       "    }\n",
       "\n",
       "    .dataframe thead th {\n",
       "        text-align: right;\n",
       "    }\n",
       "</style>\n",
       "<table border=\"1\" class=\"dataframe\">\n",
       "  <thead>\n",
       "    <tr style=\"text-align: right;\">\n",
       "      <th></th>\n",
       "      <th>AP</th>\n",
       "      <th>ML</th>\n",
       "      <th>x</th>\n",
       "      <th>z</th>\n",
       "    </tr>\n",
       "  </thead>\n",
       "  <tbody>\n",
       "    <tr>\n",
       "      <th>0</th>\n",
       "      <td>-4.14</td>\n",
       "      <td>-4.05</td>\n",
       "      <td>377</td>\n",
       "      <td>66</td>\n",
       "    </tr>\n",
       "    <tr>\n",
       "      <th>1</th>\n",
       "      <td>-4.14</td>\n",
       "      <td>-2.24</td>\n",
       "      <td>377</td>\n",
       "      <td>138</td>\n",
       "    </tr>\n",
       "    <tr>\n",
       "      <th>2</th>\n",
       "      <td>-4.14</td>\n",
       "      <td>-1.00</td>\n",
       "      <td>377</td>\n",
       "      <td>188</td>\n",
       "    </tr>\n",
       "    <tr>\n",
       "      <th>3</th>\n",
       "      <td>-3.04</td>\n",
       "      <td>-4.13</td>\n",
       "      <td>333</td>\n",
       "      <td>62</td>\n",
       "    </tr>\n",
       "    <tr>\n",
       "      <th>4</th>\n",
       "      <td>-3.04</td>\n",
       "      <td>-2.88</td>\n",
       "      <td>333</td>\n",
       "      <td>112</td>\n",
       "    </tr>\n",
       "  </tbody>\n",
       "</table>\n",
       "</div>"
      ],
      "text/plain": [
       "     AP    ML    x    z\n",
       "0 -4.14 -4.05  377   66\n",
       "1 -4.14 -2.24  377  138\n",
       "2 -4.14 -1.00  377  188\n",
       "3 -3.04 -4.13  333   62\n",
       "4 -3.04 -2.88  333  112"
      ]
     },
     "execution_count": 8,
     "metadata": {},
     "output_type": "execute_result"
    }
   ],
   "source": [
    "EEGch_coords['x'] = (AP_zero_ind - (EEGch_coords['AP'] / mm_slice)).astype(int)\n",
    "# neg AP coords -> greater slice ind\n",
    "EEGch_coords['z'] = (ML_zero_ind + (EEGch_coords['ML'] / mm_slice)).astype(int)\n",
    "# neg ML coords -> smaller slice ind (left)\n",
    "EEGch_coords.head()"
   ]
  },
  {
   "cell_type": "markdown",
   "metadata": {},
   "source": [
    "### Loop to adjust ML and DV coords of electrode based on curvature"
   ]
  },
  {
   "cell_type": "code",
   "execution_count": 9,
   "metadata": {},
   "outputs": [],
   "source": [
    "new_ML_pix_inds = np.zeros(len(EEGch_coords))\n",
    "new_DV_pix_inds = np.zeros(len(EEGch_coords))\n",
    "for AP_pix_ind, slice_group in EEGch_coords.groupby(['x']):\n",
    "    \n",
    "    # get surface of brain\n",
    "    edge_ind = np.nonzero(annot[int(AP_pix_ind), int(np.shape(annot)[1]/2), :])[0][0]\n",
    "    surfaceML = np.arange(edge_ind, np.shape(annot)[2] - edge_ind)\n",
    "    surfaceDV = np.zeros_like(surfaceML)\n",
    "    for k, surML in enumerate(surfaceML):\n",
    "        surfaceDV[k] = np.nonzero(annot[int(AP_pix_ind), :, int(surML)])[0][0]\n",
    "    surface_distance = np.concatenate(([0], np.cumsum(np.sqrt(np.diff(surfaceML)**2 + np.diff(surfaceDV)**2))))\n",
    "    \n",
    "    # Left side\n",
    "    lelec = slice_group[slice_group['ML'] < 0].sort_values(['ML'], ascending=False)\n",
    "    lseedML = lelec['ML'].iloc[0]\n",
    "    lseedMLpix = lelec['z'].iloc[0]\n",
    "    for index, row in lelec.iterrows():\n",
    "        if row['z'] == lseedMLpix:\n",
    "            new_ML_pix_inds[index] = lseedMLpix\n",
    "            new_DV_pix_inds[index] = surfaceDV[surfaceML == lseedMLpix][0]\n",
    "        else:\n",
    "            seeddist = (lseedML - row['ML']) / mm_slice\n",
    "            newind = np.argmin(np.abs((surface_distance - surface_distance[surfaceML == lseedMLpix]) + seeddist))\n",
    "            new_ML_pix_inds[index] = surfaceML[newind]\n",
    "            new_DV_pix_inds[index] = surfaceDV[newind]\n",
    "    \n",
    "    # Right side\n",
    "    relec = slice_group[slice_group['ML'] > 0].sort_values(['ML'])\n",
    "    rseedML = relec['ML'].iloc[0]\n",
    "    rseedMLpix = relec['z'].iloc[0]\n",
    "    for index, row in relec.iterrows():\n",
    "        if row['z'] == rseedMLpix:\n",
    "            new_ML_pix_inds[index] = rseedMLpix\n",
    "            new_DV_pix_inds[index] = surfaceDV[surfaceML == rseedMLpix][0]\n",
    "        else:\n",
    "            seeddist = (rseedML - row['ML']) / mm_slice\n",
    "            newind = np.argmin(np.abs((surface_distance - surface_distance[surfaceML == rseedMLpix]) + seeddist))\n",
    "            new_ML_pix_inds[index] = surfaceML[newind]\n",
    "            new_DV_pix_inds[index] = surfaceDV[newind]"
   ]
  },
  {
   "cell_type": "code",
   "execution_count": 10,
   "metadata": {},
   "outputs": [
    {
     "data": {
      "text/html": [
       "<div>\n",
       "<style scoped>\n",
       "    .dataframe tbody tr th:only-of-type {\n",
       "        vertical-align: middle;\n",
       "    }\n",
       "\n",
       "    .dataframe tbody tr th {\n",
       "        vertical-align: top;\n",
       "    }\n",
       "\n",
       "    .dataframe thead th {\n",
       "        text-align: right;\n",
       "    }\n",
       "</style>\n",
       "<table border=\"1\" class=\"dataframe\">\n",
       "  <thead>\n",
       "    <tr style=\"text-align: right;\">\n",
       "      <th></th>\n",
       "      <th>AP</th>\n",
       "      <th>ML</th>\n",
       "      <th>x</th>\n",
       "      <th>z</th>\n",
       "      <th>y</th>\n",
       "    </tr>\n",
       "  </thead>\n",
       "  <tbody>\n",
       "    <tr>\n",
       "      <th>0</th>\n",
       "      <td>-4.14</td>\n",
       "      <td>-4.05</td>\n",
       "      <td>377</td>\n",
       "      <td>82</td>\n",
       "      <td>58</td>\n",
       "    </tr>\n",
       "    <tr>\n",
       "      <th>1</th>\n",
       "      <td>-4.14</td>\n",
       "      <td>-2.24</td>\n",
       "      <td>377</td>\n",
       "      <td>141</td>\n",
       "      <td>24</td>\n",
       "    </tr>\n",
       "    <tr>\n",
       "      <th>2</th>\n",
       "      <td>-4.14</td>\n",
       "      <td>-1.00</td>\n",
       "      <td>377</td>\n",
       "      <td>188</td>\n",
       "      <td>20</td>\n",
       "    </tr>\n",
       "    <tr>\n",
       "      <th>3</th>\n",
       "      <td>-3.04</td>\n",
       "      <td>-4.13</td>\n",
       "      <td>333</td>\n",
       "      <td>79</td>\n",
       "      <td>47</td>\n",
       "    </tr>\n",
       "    <tr>\n",
       "      <th>4</th>\n",
       "      <td>-3.04</td>\n",
       "      <td>-2.88</td>\n",
       "      <td>333</td>\n",
       "      <td>119</td>\n",
       "      <td>25</td>\n",
       "    </tr>\n",
       "  </tbody>\n",
       "</table>\n",
       "</div>"
      ],
      "text/plain": [
       "     AP    ML    x    z   y\n",
       "0 -4.14 -4.05  377   82  58\n",
       "1 -4.14 -2.24  377  141  24\n",
       "2 -4.14 -1.00  377  188  20\n",
       "3 -3.04 -4.13  333   79  47\n",
       "4 -3.04 -2.88  333  119  25"
      ]
     },
     "execution_count": 10,
     "metadata": {},
     "output_type": "execute_result"
    }
   ],
   "source": [
    "EEGch_coords['y'] = new_DV_pix_inds.astype(int)\n",
    "EEGch_coords['z'] = new_ML_pix_inds.astype(int)\n",
    "EEGch_coords.head()"
   ]
  },
  {
   "cell_type": "markdown",
   "metadata": {},
   "source": [
    "### Add CCF structure acronym"
   ]
  },
  {
   "cell_type": "code",
   "execution_count": 11,
   "metadata": {},
   "outputs": [
    {
     "data": {
      "text/html": [
       "<div>\n",
       "<style scoped>\n",
       "    .dataframe tbody tr th:only-of-type {\n",
       "        vertical-align: middle;\n",
       "    }\n",
       "\n",
       "    .dataframe tbody tr th {\n",
       "        vertical-align: top;\n",
       "    }\n",
       "\n",
       "    .dataframe thead th {\n",
       "        text-align: right;\n",
       "    }\n",
       "</style>\n",
       "<table border=\"1\" class=\"dataframe\">\n",
       "  <thead>\n",
       "    <tr style=\"text-align: right;\">\n",
       "      <th></th>\n",
       "      <th>AP</th>\n",
       "      <th>ML</th>\n",
       "      <th>x</th>\n",
       "      <th>z</th>\n",
       "      <th>y</th>\n",
       "      <th>location</th>\n",
       "      <th>structure_id</th>\n",
       "      <th>structure_acronym</th>\n",
       "      <th>structure_name</th>\n",
       "      <th>parent_id</th>\n",
       "      <th>parent_name</th>\n",
       "      <th>parent_acronym</th>\n",
       "    </tr>\n",
       "  </thead>\n",
       "  <tbody>\n",
       "    <tr>\n",
       "      <th>0</th>\n",
       "      <td>-4.14</td>\n",
       "      <td>-4.05</td>\n",
       "      <td>377</td>\n",
       "      <td>82</td>\n",
       "      <td>58</td>\n",
       "      <td>VISl</td>\n",
       "      <td>421</td>\n",
       "      <td>VISl1</td>\n",
       "      <td>Lateral visual area, layer 1</td>\n",
       "      <td>409</td>\n",
       "      <td>Lateral visual area</td>\n",
       "      <td>VISl</td>\n",
       "    </tr>\n",
       "    <tr>\n",
       "      <th>1</th>\n",
       "      <td>-4.14</td>\n",
       "      <td>-2.24</td>\n",
       "      <td>377</td>\n",
       "      <td>141</td>\n",
       "      <td>24</td>\n",
       "      <td>VISp</td>\n",
       "      <td>593</td>\n",
       "      <td>VISp1</td>\n",
       "      <td>Primary visual area, layer 1</td>\n",
       "      <td>385</td>\n",
       "      <td>Primary visual area</td>\n",
       "      <td>VISp</td>\n",
       "    </tr>\n",
       "    <tr>\n",
       "      <th>2</th>\n",
       "      <td>-4.14</td>\n",
       "      <td>-1.00</td>\n",
       "      <td>377</td>\n",
       "      <td>188</td>\n",
       "      <td>20</td>\n",
       "      <td>RSPagl</td>\n",
       "      <td>671</td>\n",
       "      <td>RSPagl1</td>\n",
       "      <td>Retrosplenial area, lateral agranular part, la...</td>\n",
       "      <td>894</td>\n",
       "      <td>Retrosplenial area, lateral agranular part</td>\n",
       "      <td>RSPagl</td>\n",
       "    </tr>\n",
       "    <tr>\n",
       "      <th>3</th>\n",
       "      <td>-3.04</td>\n",
       "      <td>-4.13</td>\n",
       "      <td>333</td>\n",
       "      <td>79</td>\n",
       "      <td>47</td>\n",
       "      <td>VISal</td>\n",
       "      <td>1074</td>\n",
       "      <td>VISal1</td>\n",
       "      <td>Anterolateral visual area, layer 1</td>\n",
       "      <td>402</td>\n",
       "      <td>Anterolateral visual area</td>\n",
       "      <td>VISal</td>\n",
       "    </tr>\n",
       "    <tr>\n",
       "      <th>4</th>\n",
       "      <td>-3.04</td>\n",
       "      <td>-2.88</td>\n",
       "      <td>333</td>\n",
       "      <td>119</td>\n",
       "      <td>25</td>\n",
       "      <td>VISp</td>\n",
       "      <td>593</td>\n",
       "      <td>VISp1</td>\n",
       "      <td>Primary visual area, layer 1</td>\n",
       "      <td>385</td>\n",
       "      <td>Primary visual area</td>\n",
       "      <td>VISp</td>\n",
       "    </tr>\n",
       "  </tbody>\n",
       "</table>\n",
       "</div>"
      ],
      "text/plain": [
       "     AP    ML    x    z   y location  structure_id structure_acronym  \\\n",
       "0 -4.14 -4.05  377   82  58     VISl           421             VISl1   \n",
       "1 -4.14 -2.24  377  141  24     VISp           593             VISp1   \n",
       "2 -4.14 -1.00  377  188  20   RSPagl           671           RSPagl1   \n",
       "3 -3.04 -4.13  333   79  47    VISal          1074            VISal1   \n",
       "4 -3.04 -2.88  333  119  25     VISp           593             VISp1   \n",
       "\n",
       "                                      structure_name  parent_id  \\\n",
       "0                       Lateral visual area, layer 1        409   \n",
       "1                       Primary visual area, layer 1        385   \n",
       "2  Retrosplenial area, lateral agranular part, la...        894   \n",
       "3                 Anterolateral visual area, layer 1        402   \n",
       "4                       Primary visual area, layer 1        385   \n",
       "\n",
       "                                  parent_name parent_acronym  \n",
       "0                         Lateral visual area           VISl  \n",
       "1                         Primary visual area           VISp  \n",
       "2  Retrosplenial area, lateral agranular part         RSPagl  \n",
       "3                   Anterolateral visual area          VISal  \n",
       "4                         Primary visual area           VISp  "
      ]
     },
     "execution_count": 11,
     "metadata": {},
     "output_type": "execute_result"
    }
   ],
   "source": [
    "# create empty lists to hold info (will add it to EEGch_coords dataframe after loop)\n",
    "structure_id = []\n",
    "structure_acronym = []\n",
    "structure_name = []\n",
    "parent_id = []\n",
    "parent_name = []\n",
    "structure_parent_acronym = []\n",
    "\n",
    "# for loop through the EEGch_coords dataframe\n",
    "for indi, row in EEGch_coords.iterrows():\n",
    "    # choose first non-zero value in the annotated array at the AP, ML pixel inds\n",
    "    non_zero_DV = np.nonzero(annot[int(row.x),:,int(row.z)])[0][0]\n",
    "    struct_id_temp = annot[int(row.x), non_zero_DV, int(row.z)]\n",
    "    # append structure id, name, parent info to empty lists\n",
    "    structure_id.append(struct_id_temp)\n",
    "    structure_acronym.append(structure_tree.get_structures_by_id([struct_id_temp])[0]['acronym'])\n",
    "    structure_name.append(structure_tree.get_structures_by_id([struct_id_temp])[0]['name'])\n",
    "    parent_id.append(structure_tree.parents([struct_id_temp])[0]['id'])\n",
    "    parent_name.append(structure_tree.parents([struct_id_temp])[0]['name'])\n",
    "    structure_parent_acronym.append(structure_tree.parents([struct_id_temp])[0]['acronym'])\n",
    "    \n",
    "# add lists created to original dataframe\n",
    "EEGch_coords['location'] = structure_parent_acronym\n",
    "EEGch_coords['structure_id'] = structure_id\n",
    "EEGch_coords['structure_acronym'] = structure_acronym\n",
    "EEGch_coords['structure_name'] = structure_name\n",
    "EEGch_coords['parent_id'] = parent_id\n",
    "EEGch_coords['parent_name'] = parent_name\n",
    "EEGch_coords['parent_acronym'] = structure_parent_acronym\n",
    "EEGch_coords.head()"
   ]
  },
  {
   "cell_type": "code",
   "execution_count": 18,
   "metadata": {},
   "outputs": [
    {
     "name": "stdout",
     "output_type": "stream",
     "text": [
      "[58 24 20 47 25  7 47 26  9 51 29 51 43 63 63 63 64 43 51 29 51  9 25 47\n",
      "  7 24 47 20 24 58]\n",
      "7\n"
     ]
    }
   ],
   "source": [
    "dvvals = EEGch_coords['DV_pixel_ind'].values\n",
    "print(dvvals)\n",
    "print(np.min(dvvals))"
   ]
  },
  {
   "cell_type": "markdown",
   "metadata": {},
   "source": [
    "## Save as a .csv"
   ]
  },
  {
   "cell_type": "code",
   "execution_count": 13,
   "metadata": {},
   "outputs": [],
   "source": [
    "EEG_electrodes_filename = os.path.join(r'E:\\NWB_testing', r'EEG_electrodes_info.csv')"
   ]
  },
  {
   "cell_type": "code",
   "execution_count": 14,
   "metadata": {},
   "outputs": [],
   "source": [
    "EEGch_coords.to_csv(EEG_electrodes_filename, index=False)"
   ]
  },
  {
   "cell_type": "code",
   "execution_count": null,
   "metadata": {},
   "outputs": [],
   "source": []
  }
 ],
 "metadata": {
  "kernelspec": {
   "display_name": "tbd_eeg",
   "language": "python",
   "name": "tbd_eeg"
  },
  "language_info": {
   "codemirror_mode": {
    "name": "ipython",
    "version": 3
   },
   "file_extension": ".py",
   "mimetype": "text/x-python",
   "name": "python",
   "nbconvert_exporter": "python",
   "pygments_lexer": "ipython3",
   "version": "3.7.13"
  }
 },
 "nbformat": 4,
 "nbformat_minor": 4
}
