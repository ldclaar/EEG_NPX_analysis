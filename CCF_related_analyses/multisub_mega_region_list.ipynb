{
 "cells": [
  {
   "cell_type": "code",
   "execution_count": 1,
   "metadata": {},
   "outputs": [],
   "source": [
    "import os\n",
    "import sys\n",
    "import json\n",
    "import time\n",
    "import math\n",
    "import gspread\n",
    "import numpy as np\n",
    "import pandas as pd\n",
    "import matplotlib.pyplot as plt\n",
    "from matplotlib import cm\n",
    "import seaborn as sns\n",
    "from scipy import integrate, signal, stats, fftpack\n",
    "from glob import glob\n",
    "from datetime import date\n",
    "import mne"
   ]
  },
  {
   "cell_type": "code",
   "execution_count": 2,
   "metadata": {},
   "outputs": [],
   "source": [
    "sys.path.append(r'C:\\Users\\lesliec\\code')"
   ]
  },
  {
   "cell_type": "code",
   "execution_count": 3,
   "metadata": {},
   "outputs": [],
   "source": [
    "from tbd_eeg.tbd_eeg.data_analysis.eegutils import EEGexp\n",
    "from tbd_eeg.tbd_eeg.data_analysis.Utilities.utilities import (\n",
    "    get_stim_events,\n",
    "    get_evoked_traces,\n",
    "    get_evoked_firing_rates,\n",
    "    find_nearest_ind\n",
    ")\n",
    "from PCIst.PCIst.pci_st import calc_PCIst, dimensionality_reduction\n",
    "from allensdk.core.mouse_connectivity_cache import MouseConnectivityCache"
   ]
  },
  {
   "cell_type": "code",
   "execution_count": 4,
   "metadata": {},
   "outputs": [],
   "source": [
    "%matplotlib notebook"
   ]
  },
  {
   "cell_type": "markdown",
   "metadata": {},
   "source": [
    "Load CCF for identifying cortical areas"
   ]
  },
  {
   "cell_type": "code",
   "execution_count": 5,
   "metadata": {},
   "outputs": [],
   "source": [
    "mcc = MouseConnectivityCache(resolution=10)\n",
    "str_tree = mcc.get_structure_tree()"
   ]
  },
  {
   "cell_type": "markdown",
   "metadata": {},
   "source": [
    "#### Functions"
   ]
  },
  {
   "cell_type": "markdown",
   "metadata": {},
   "source": [
    "### Subjects"
   ]
  },
  {
   "cell_type": "code",
   "execution_count": 6,
   "metadata": {},
   "outputs": [],
   "source": [
    "## All subjects ##\n",
    "group_title = 'all'\n",
    "PCImeancolor = 'darkblue'\n",
    "\n",
    "sub_dirs = {\n",
    "    '551399': r'F:\\EEG_exp\\mouse551399\\estim_2021-01-28_13-59-09\\experiment1\\recording1',\n",
    "    '551397': r'F:\\EEG_exp\\mouse551397\\estim_vis_2021-02-11_10-45-23\\experiment1\\recording1',\n",
    "    '569062': r'F:\\EEG_exp\\mouse569062\\estim_vis_2021-02-18_11-17-51\\experiment1\\recording1',\n",
    "    '569068': r'F:\\EEG_exp\\mouse569068\\estim_vis_2021-03-04_10-51-38\\experiment1\\recording1',\n",
    "    '569069': r'F:\\EEG_exp\\mouse569069\\estim_vis2_2021-03-12_10-52-44\\experiment1\\recording1',\n",
    "    '569064': r'F:\\EEG_exp\\mouse569064\\estim_vis_2021-04-08_10-28-24\\experiment1\\recording1',\n",
    "    '569073a': r'F:\\EEG_exp\\mouse569073\\estim_vis_2021-04-15_10-27-22\\experiment1\\recording1',\n",
    "    '571619': r'F:\\EEG_exp\\mouse571619\\estim2_2021-03-19_10-09-01\\experiment1\\recording1',\n",
    "#     '569070': r'F:\\EEG_exp\\mouse569070\\estim1_2021-04-01_10-27-33\\experiment1\\recording1', # no area assignments\n",
    "#     '521885': r'C:\\Users\\lesliec\\OneDrive - Allen Institute\\data\\mouse521885\\estim1_2020-07-09_14-23-49\\experiment1\\recording1',\n",
    "#     '521886': r'C:\\Users\\lesliec\\OneDrive - Allen Institute\\data\\mouse521886\\estim1_2020-07-16_13-37-02\\experiment1\\recording1',\n",
    "#     '521887': r'C:\\Users\\lesliec\\OneDrive - Allen Institute\\data\\mouse521887\\estim1_2020-07-30_11-25-05\\experiment1\\recordingfull',\n",
    "#     '543393': r'F:\\EEG_exp\\mouse543393\\estim1_2020-08-20_13-24-53\\experiment1\\recording1', # no area assignments\n",
    "#     '543394': r'F:\\EEG_exp\\mouse543394\\estim1_2020-08-27_14-32-00\\experiment1\\recording1', # no area assignments\n",
    "    '543396': r'F:\\EEG_exp\\mouse543396\\estim_vis1_2020-09-18_12-04-46\\experiment1\\recording1', # too few resting trials\n",
    "    '546655': r'F:\\EEG_exp\\mouse546655\\estim_vis_2020-10-23_11-01-14\\experiment1\\recording1',\n",
    "    '571618': r'F:\\EEG_exp\\mouse571618\\estim1_2021-04-29_12-28-54\\experiment1\\recording1', # too many bad chs\n",
    "    '575102': r'F:\\EEG_exp\\mouse575102\\estim_vis_2021-06-03_11-25-01\\experiment1\\recording1',\n",
    "    '575100': r'F:\\EEG_exp\\mouse575100\\estim_vis_2021-06-10_11-39-06\\experiment1\\recording1',\n",
    "    '569073b': r'F:\\EEG_exp\\mouse569073\\estim_2021-04-16_10-42-44\\experiment1\\recording1',\n",
    "    '569072': r'F:\\EEG_exp\\mouse569072\\estim_vis_2021-04-22_10-26-58\\experiment1\\recording1',\n",
    "    '571620': r'F:\\EEG_exp\\mouse571620\\estim_vis_2021-05-13_11-33-47\\experiment1\\recording1',\n",
    "    '582387': r'F:\\EEG_exp\\mouse582387\\estim_vis_2021-07-22_09-59-47\\experiment1\\recording1', # too many bad chs\n",
    "    '586466': r'F:\\EEG_exp\\mouse586466\\estim_vis_2021-07-29_10-37-41\\experiment1\\recording1', # no area assignments YET\n",
    "    '586468': r'F:\\EEG_exp\\mouse586468\\estim_vis_2021-08-19_11-36-53\\experiment1\\recording1', # no area assignments YET (tissuecyte)\n",
    "#     '590479': r'', # no area assignments YET (tissuecyte)\n",
    "}\n",
    "## 9/2/21: all subjects except for 586466 and 586468 (who don't have area assignments yet anyway) ##"
   ]
  },
  {
   "cell_type": "markdown",
   "metadata": {},
   "source": [
    "### Load experiments"
   ]
  },
  {
   "cell_type": "code",
   "execution_count": 7,
   "metadata": {},
   "outputs": [
    {
     "name": "stdout",
     "output_type": "stream",
     "text": [
      "Experiment type: electrical stimulation\n",
      "SomnoSuite log file not found.\n",
      "Experiment type: electrical and sensory stimulation\n",
      "Body camera file not found.\n",
      "Pupil camera file not found.\n",
      "Experiment type: electrical and sensory stimulation\n",
      "Experiment type: electrical and sensory stimulation\n",
      "Experiment type: electrical and sensory stimulation\n",
      "Experiment type: electrical and sensory stimulation\n",
      "SomnoSuite log file not found.\n",
      "Experiment type: electrical and sensory stimulation\n",
      "Experiment type: electrical stimulation\n",
      "SomnoSuite log file not found.\n",
      "Experiment type: electrical stimulation\n",
      "Experiment type: electrical stimulation\n",
      "SomnoSuite log file not found.\n",
      "Experiment type: electrical stimulation\n",
      "SomnoSuite log file not found.\n",
      "Experiment type: electrical stimulation\n",
      "SomnoSuite log file not found.\n",
      "Experiment type: electrical stimulation\n",
      "SomnoSuite log file not found.\n",
      "Experiment type: electrical stimulation\n",
      "SomnoSuite log file not found.\n",
      "Experiment type: electrical and sensory stimulation\n",
      "SomnoSuite log file not found.\n",
      "Experiment type: electrical and sensory stimulation\n",
      "Experiment type: electrical stimulation\n",
      "Experiment type: electrical and sensory stimulation\n",
      "SomnoSuite log file not found.\n",
      "Experiment type: electrical and sensory stimulation\n",
      "SomnoSuite log file not found.\n",
      "Experiment type: electrical stimulation\n",
      "Experiment type: electrical and sensory stimulation\n",
      "SomnoSuite log file not found.\n",
      "Experiment type: electrical and sensory stimulation\n",
      "SomnoSuite log file not found.\n",
      "Experiment type: electrical and sensory stimulation\n",
      "SomnoSuite log file not found.\n"
     ]
    }
   ],
   "source": [
    "sub_exp = {}\n",
    "for mousei, recdiri in sub_dirs.items():\n",
    "    sub_exp[mousei] = EEGexp(recdiri, preprocess=False, make_stim_csv=False)"
   ]
  },
  {
   "cell_type": "markdown",
   "metadata": {},
   "source": [
    "### Load probe data and gather a list of unit areas"
   ]
  },
  {
   "cell_type": "code",
   "execution_count": 10,
   "metadata": {
    "scrolled": true
   },
   "outputs": [
    {
     "name": "stdout",
     "output_type": "stream",
     "text": [
      "551399\n",
      " probeB\n",
      " probeF\n",
      "551397\n",
      " probeB\n",
      " probeF\n",
      "569062\n",
      " probeB\n",
      " probeD\n",
      " probeF\n",
      "569068\n",
      " probeB\n",
      " probeD\n",
      " probeF\n",
      "569069\n",
      " probeB\n",
      " probeC\n",
      " probeF\n",
      "569064\n",
      " probeB\n",
      " probeC\n",
      " probeF\n",
      "569073a\n",
      " probeB\n",
      " probeC\n",
      " probeF\n",
      "571619\n",
      " probeB\n",
      " probeC\n",
      " probeF\n",
      "569070\n",
      " probeB\n",
      "  unit metrics file does not have area assignments.\n",
      " probeC\n",
      "  unit metrics file does not have area assignments.\n",
      " probeF\n",
      "  unit metrics file does not have area assignments.\n",
      "521885\n",
      "521886\n",
      "521887\n",
      "543393\n",
      " probeB\n",
      "  unit metrics file does not have area assignments.\n",
      "543394\n",
      " probeB\n",
      "  unit metrics file does not have area assignments.\n",
      "543396\n",
      " probeB\n",
      " probeC\n",
      "546655\n",
      " probeB\n",
      " probeC\n",
      "571618\n",
      " probeB\n",
      " probeC\n",
      " probeF\n",
      "575102\n",
      " probeB\n",
      " probeC\n",
      " probeF\n",
      "575100\n",
      " probeB\n",
      " probeC\n",
      "  unit metrics file does not have area assignments.\n",
      " probeF\n",
      "569073b\n",
      " probeB\n",
      " probeC\n",
      " probeF\n",
      "569072\n",
      " probeB\n",
      " probeC\n",
      " probeF\n",
      "571620\n",
      " probeB\n",
      " probeC\n",
      " probeF\n",
      "582387\n",
      " probeB\n",
      "  unit metrics file does not have area assignments.\n",
      " probeC\n",
      "  unit metrics file does not have area assignments.\n",
      " probeF\n",
      "  unit metrics file does not have area assignments.\n"
     ]
    }
   ],
   "source": [
    "mega_areas_list = []\n",
    "for mousei, expi in sub_exp.items():\n",
    "    print(mousei)\n",
    "    \n",
    "    ### Load unit data ###\n",
    "    probe_list = [x.replace('_sorted', '') for x in expi.experiment_data if 'probe' in x]\n",
    "    sub_areas_list = []\n",
    "    for probei in probe_list:\n",
    "        print(' {}'.format(probei))\n",
    "\n",
    "        ## Load probe_info.json ##\n",
    "        with open(expi.ephys_params[probei]['probe_info']) as data_file:\n",
    "            data = json.load(data_file)\n",
    "        npx_allch = np.array(data['channel']) # this is an array from 0 to 384\n",
    "        surface_ch = int(data['surface_channel']) # the electrode we said was at the brain surface\n",
    "        allch_z = np.array(data['vertical_pos']) # vertical position of each electrode (um), relative to the tip (ch 0 is 20 um from tip)\n",
    "        ref_mask = np.array(data['mask']) # contains a False for Npx reference channels\n",
    "\n",
    "        ## Get all ch depths ##\n",
    "        npx_chs = np.array([x for x in npx_allch if ref_mask[x] and x <= surface_ch]) \n",
    "        all_ch_depths = allch_z[surface_ch] - allch_z\n",
    "\n",
    "        ## Select units and get peak chs ##\n",
    "        select_units, peak_chs, unit_metrics = expi.get_probe_units(probei)\n",
    "\n",
    "        ## Sort units ##\n",
    "        all_units = select_units[np.squeeze(np.argsort(peak_chs))]\n",
    "        all_units_chs = peak_chs[np.squeeze(np.argsort(peak_chs))]\n",
    "        if 'area' in unit_metrics.columns:\n",
    "            all_units_areas = unit_metrics.area.values[np.squeeze(np.argsort(peak_chs))]\n",
    "            sub_areas_list.append(np.unique(all_units_areas))\n",
    "        else:\n",
    "            print('  unit metrics file does not have area assignments.')\n",
    "\n",
    "    if len(sub_areas_list) > 0:\n",
    "        mega_areas_list.append(np.unique(np.concatenate(sub_areas_list)))\n",
    "    \n",
    "mega_areas_list = np.unique(np.concatenate(mega_areas_list))"
   ]
  },
  {
   "cell_type": "markdown",
   "metadata": {},
   "source": [
    "## List all brain regions we have recorded units from in all experiments"
   ]
  },
  {
   "cell_type": "code",
   "execution_count": 11,
   "metadata": {},
   "outputs": [
    {
     "name": "stdout",
     "output_type": "stream",
     "text": [
      "['ACAd5' 'ACAd6a' 'ACAd6b' 'ACAv1' 'ACAv2/3' 'ACAv5' 'ACAv6a' 'ACAv6b'\n",
      " 'APN' 'AV' 'CA1' 'CA2' 'CA3' 'CL' 'CP' 'DG-mo' 'DG-po' 'DG-sg' 'Eth'\n",
      " 'HPF' 'IG' 'IGL' 'ILA1' 'LD' 'LGd-co' 'LGd-ip' 'LGd-sh' 'LGv' 'LP' 'MB'\n",
      " 'MD' 'MGd' 'MGm' 'MGv' 'MOp2/3' 'MOp5' 'MOp6a' 'MOp6b' 'MOs2/3' 'MOs5'\n",
      " 'MOs6a' 'MOs6b' 'MRN' 'PCN' 'PIL' 'PL1' 'PL2/3' 'PL5' 'PL6a' 'PO' 'PP'\n",
      " 'ProS' 'RSPagl5' 'RSPagl6a' 'RSPd5' 'RSPd6a' 'RSPd6b' 'RT' 'SCig' 'SGN'\n",
      " 'SNr' 'SSp-bfd1' 'SSp-bfd2/3' 'SSp-bfd4' 'SSp-bfd5' 'SSp-bfd6a'\n",
      " 'SSp-bfd6b' 'SSp-ll4' 'SSp-ll5' 'SSp-ll6a' 'SSp-ll6b' 'SSp-tr2/3'\n",
      " 'SSp-tr4' 'SSp-tr5' 'SSp-tr6a' 'SUB' 'TH' 'VAL' 'VISam5' 'VISam6a'\n",
      " 'VISam6b' 'VISp1' 'VISp2/3' 'VISp4' 'VISp5' 'VISp6a' 'VISp6b' 'VISpm2/3'\n",
      " 'VISpm5' 'VISpm6a' 'VISpm6b' 'VISrl2/3' 'VISrl4' 'VISrl5' 'VISrl6a'\n",
      " 'VISrl6b' 'VPL' 'VPM' 'ZI' 'alv' 'ar' 'bsc' 'ccb' 'ccg' 'cing' 'dhc' 'em'\n",
      " 'fa' 'fi' 'fiber tracts' 'fp' 'int' 'or' 'root' 'scwm']\n"
     ]
    }
   ],
   "source": [
    "print(mega_areas_list)"
   ]
  },
  {
   "cell_type": "code",
   "execution_count": 24,
   "metadata": {},
   "outputs": [
    {
     "data": {
      "text/plain": [
       "[{'acronym': 'root',\n",
       "  'graph_id': 1,\n",
       "  'graph_order': 0,\n",
       "  'id': 997,\n",
       "  'name': 'root',\n",
       "  'structure_id_path': [997],\n",
       "  'structure_set_ids': [691663206],\n",
       "  'rgb_triplet': [255, 255, 255]}]"
      ]
     },
     "execution_count": 24,
     "metadata": {},
     "output_type": "execute_result"
    }
   ],
   "source": [
    "str_tree.get_structures_by_acronym(['root'])"
   ]
  },
  {
   "cell_type": "code",
   "execution_count": 15,
   "metadata": {},
   "outputs": [
    {
     "data": {
      "text/plain": [
       "[{'acronym': 'CTXpl',\n",
       "  'graph_id': 1,\n",
       "  'graph_order': 4,\n",
       "  'id': 695,\n",
       "  'name': 'Cortical plate',\n",
       "  'structure_id_path': [997, 8, 567, 688, 695],\n",
       "  'structure_set_ids': [112905828,\n",
       "   691663206,\n",
       "   12,\n",
       "   184527634,\n",
       "   112905813,\n",
       "   114512891,\n",
       "   114512892],\n",
       "  'rgb_triplet': [112, 255, 112]}]"
      ]
     },
     "execution_count": 15,
     "metadata": {},
     "output_type": "execute_result"
    }
   ],
   "source": [
    "str_tree.get_structures_by_id([695])"
   ]
  },
  {
   "cell_type": "code",
   "execution_count": null,
   "metadata": {},
   "outputs": [],
   "source": []
  }
 ],
 "metadata": {
  "kernelspec": {
   "display_name": "tbd_eeg",
   "language": "python",
   "name": "tbd_eeg"
  },
  "language_info": {
   "codemirror_mode": {
    "name": "ipython",
    "version": 3
   },
   "file_extension": ".py",
   "mimetype": "text/x-python",
   "name": "python",
   "nbconvert_exporter": "python",
   "pygments_lexer": "ipython3",
   "version": "3.7.13"
  }
 },
 "nbformat": 4,
 "nbformat_minor": 4
}
