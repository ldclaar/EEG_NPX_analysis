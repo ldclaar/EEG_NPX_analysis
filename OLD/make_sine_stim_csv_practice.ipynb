{
 "cells": [
  {
   "cell_type": "code",
   "execution_count": 1,
   "metadata": {},
   "outputs": [],
   "source": [
    "import io\n",
    "import sys\n",
    "import datetime\n",
    "import numpy as np\n",
    "import pandas as pd\n",
    "import matplotlib.pyplot as plt\n",
    "from scipy import signal\n",
    "from glob import glob\n",
    "import copy\n",
    "import time"
   ]
  },
  {
   "cell_type": "code",
   "execution_count": 2,
   "metadata": {},
   "outputs": [],
   "source": [
    "sys.path.append(r'C:\\Users\\lesliec\\code')"
   ]
  },
  {
   "cell_type": "code",
   "execution_count": 3,
   "metadata": {},
   "outputs": [],
   "source": [
    "from tbd_eeg.tbd_eeg.data_analysis.eegutils import EEGexp, retEEGexp"
   ]
  },
  {
   "cell_type": "code",
   "execution_count": 4,
   "metadata": {},
   "outputs": [],
   "source": [
    "%matplotlib notebook"
   ]
  },
  {
   "cell_type": "markdown",
   "metadata": {},
   "source": [
    "## EEGexp class"
   ]
  },
  {
   "cell_type": "code",
   "execution_count": 5,
   "metadata": {},
   "outputs": [
    {
     "name": "stdout",
     "output_type": "stream",
     "text": [
      "This data does not contain an EEG recording.\n",
      "Experiment type: electrical stimulation\n"
     ]
    }
   ],
   "source": [
    "# rec_folder = r'E:\\eeg_pilot\\mouse000000\\estim_vis_test_2020-09-10\\experiment1\\recording1' # this is the test\n",
    "rec_folder = r'B:\\mouse598180\\pilot4_ext_ref_2021-10-21_11-43-48\\experiment1\\recording1'\n",
    "exp = EEGexp(rec_folder, preprocess=False, make_stim_csv=False)"
   ]
  },
  {
   "cell_type": "code",
   "execution_count": 6,
   "metadata": {
    "scrolled": true
   },
   "outputs": [
    {
     "name": "stdout",
     "output_type": "stream",
     "text": [
      "598180\n",
      "electrical stimulation\n",
      "{'sensory': [], 'electrical': ['B:\\\\mouse598180\\\\pilot4_ext_ref_2021-10-21_11-43-48\\\\experiment1\\\\recording1\\\\sine_8-28-140-500-1000-5000Hz_5-1uA_stim_protocol.dat', 'B:\\\\mouse598180\\\\pilot4_ext_ref_2021-10-21_11-43-48\\\\experiment1\\\\recording1\\\\sine_8-28-140-500-1000-5000Hz_5-1uA_stim_protocol.stm'], 'opto': []}\n",
      "B:\\mouse598180\\pilot4_ext_ref_2021-10-21_11-43-48\\experiment1\\recording1\\estim_log.csv\n"
     ]
    }
   ],
   "source": [
    "print(exp.mouse)\n",
    "print(exp.experiment_type)\n",
    "print(exp.stim_instruction_files)\n",
    "print(exp.stimulus_log_file)"
   ]
  },
  {
   "cell_type": "code",
   "execution_count": 7,
   "metadata": {},
   "outputs": [
    {
     "name": "stdout",
     "output_type": "stream",
     "text": [
      "['barcodes', 'opto_copy', 'frames', 'behavior_sweep', 'photodiode', 'sweep', '', 'behavior_vsync', 'eyetracking', 'behavior', 'rotA', 'rotB', 'estim_sync', 'estim_sweep', '', '', '', 'opto_sweep', 'opto_trial', '', '', '', '', '', '', '', '', '', '', '', '', '']\n"
     ]
    }
   ],
   "source": [
    "sync_data = exp._load_sync_dataset()\n",
    "print(sync_data.line_labels)"
   ]
  },
  {
   "cell_type": "markdown",
   "metadata": {},
   "source": [
    "## Electrical stim - sine wave"
   ]
  },
  {
   "cell_type": "code",
   "execution_count": 8,
   "metadata": {},
   "outputs": [],
   "source": [
    "esweep_rising = sync_data.get_edges(keys=('estim_sweep',), kind='rising', units='seconds')\n",
    "esweep_falling = sync_data.get_edges(keys=('estim_sweep',), kind='falling', units='seconds')\n",
    "esync_rising = sync_data.get_edges(keys=('estim_sync',), kind='rising', units='seconds')\n",
    "esync_falling = sync_data.get_edges(keys=('estim_sync',), kind='falling', units='seconds')"
   ]
  },
  {
   "cell_type": "raw",
   "metadata": {},
   "source": [
    "## This is just in case the sweep channel doesn't read correctly ##\n",
    "if len(esweep_rising) == 0:\n",
    "    between_sweep_inds = np.argwhere(np.diff(esync_rising) > 10.).flatten()\n",
    "    esweep_rising = np.concatenate(([esync_rising[0]-1.], esync_rising[between_sweep_inds]+2.))\n",
    "    esweep_falling = np.concatenate((esync_rising[between_sweep_inds]+1., [esync_rising[-1]+1.]))"
   ]
  },
  {
   "cell_type": "code",
   "execution_count": 9,
   "metadata": {},
   "outputs": [
    {
     "name": "stdout",
     "output_type": "stream",
     "text": [
      "Total e-stim trials: 90\n",
      "Number of e-stim sweeps: 1\n",
      "Trials per sweep: 90\n"
     ]
    }
   ],
   "source": [
    "total_trials = len(esync_rising)\n",
    "print('Total e-stim trials: %d' % total_trials)\n",
    "num_sweeps = len(esweep_rising)\n",
    "print('Number of e-stim sweeps: %d' % num_sweeps)\n",
    "trials_per_sweep = int(total_trials / num_sweeps)\n",
    "print('Trials per sweep: %d' % trials_per_sweep)"
   ]
  },
  {
   "cell_type": "markdown",
   "metadata": {},
   "source": [
    "### This reads the stim_protocol.dat file and extracts the signal we delivered."
   ]
  },
  {
   "cell_type": "code",
   "execution_count": 10,
   "metadata": {},
   "outputs": [],
   "source": [
    "with open(exp.stim_instruction_files['electrical'][0]) as file:\n",
    "    estim_txt = file.read() # open estim file and read in text\n",
    "estim = estim_txt.split('channel:') # split and read txt file\n",
    "d = {}\n",
    "for item in estim:\n",
    "    if 'value' in item:\n",
    "        key = 'channel'+str(item[1])\n",
    "        d[key]=item.split('\\n')\n",
    "channel1 = d['channel1'][1:]\n",
    "ch1_df = pd.read_csv(io.StringIO('\\n'.join(channel1)), delim_whitespace=True)\n",
    "channel3 = d['channel3'][1:]\n",
    "ch3_df = pd.read_csv(io.StringIO('\\n'.join(channel3)), delim_whitespace=True)"
   ]
  },
  {
   "cell_type": "code",
   "execution_count": 12,
   "metadata": {},
   "outputs": [
    {
     "data": {
      "text/plain": [
       "' 1\\n\\nvalue\\ttime\\n0\\t300000000\\n0\\t40\\n0.2\\t40\\n0'"
      ]
     },
     "execution_count": 12,
     "metadata": {},
     "output_type": "execute_result"
    }
   ],
   "source": [
    "estim[1][:40]"
   ]
  },
  {
   "cell_type": "code",
   "execution_count": 14,
   "metadata": {},
   "outputs": [
    {
     "data": {
      "text/html": [
       "<div>\n",
       "<style scoped>\n",
       "    .dataframe tbody tr th:only-of-type {\n",
       "        vertical-align: middle;\n",
       "    }\n",
       "\n",
       "    .dataframe tbody tr th {\n",
       "        vertical-align: top;\n",
       "    }\n",
       "\n",
       "    .dataframe thead th {\n",
       "        text-align: right;\n",
       "    }\n",
       "</style>\n",
       "<table border=\"1\" class=\"dataframe\">\n",
       "  <thead>\n",
       "    <tr style=\"text-align: right;\">\n",
       "      <th></th>\n",
       "      <th>value</th>\n",
       "      <th>time</th>\n",
       "    </tr>\n",
       "  </thead>\n",
       "  <tbody>\n",
       "    <tr>\n",
       "      <th>7555612</th>\n",
       "      <td>-0.6</td>\n",
       "      <td>20.0</td>\n",
       "    </tr>\n",
       "    <tr>\n",
       "      <th>7555613</th>\n",
       "      <td>-1.2</td>\n",
       "      <td>20.0</td>\n",
       "    </tr>\n",
       "    <tr>\n",
       "      <th>7555614</th>\n",
       "      <td>-1.8</td>\n",
       "      <td>20.0</td>\n",
       "    </tr>\n",
       "    <tr>\n",
       "      <th>7555615</th>\n",
       "      <td>-2.4</td>\n",
       "      <td>20.0</td>\n",
       "    </tr>\n",
       "    <tr>\n",
       "      <th>7555616</th>\n",
       "      <td>-3.0</td>\n",
       "      <td>NaN</td>\n",
       "    </tr>\n",
       "  </tbody>\n",
       "</table>\n",
       "</div>"
      ],
      "text/plain": [
       "         value  time\n",
       "7555612   -0.6  20.0\n",
       "7555613   -1.2  20.0\n",
       "7555614   -1.8  20.0\n",
       "7555615   -2.4  20.0\n",
       "7555616   -3.0   NaN"
      ]
     },
     "execution_count": 14,
     "metadata": {},
     "output_type": "execute_result"
    }
   ],
   "source": [
    "ch1_df.tail()"
   ]
  },
  {
   "cell_type": "code",
   "execution_count": 11,
   "metadata": {},
   "outputs": [],
   "source": [
    "ch1_df['timestamps'] = ch1_df.time.cumsum()\n",
    "# ch1_df.head()\n",
    "ch3_df['timestamps'] = ch3_df.time.cumsum()\n",
    "# ch3_df.head()"
   ]
  },
  {
   "cell_type": "markdown",
   "metadata": {},
   "source": [
    "The actual signal is in \"channel 1\" and the sync signal is in \"channel 3\" in the dat file."
   ]
  },
  {
   "cell_type": "code",
   "execution_count": 12,
   "metadata": {},
   "outputs": [],
   "source": [
    "stim_signal = ch1_df['value'].values\n",
    "signal_ts = ch1_df['timestamps'].values\n",
    "sync = ch3_df['value'].values\n",
    "sync_ts = ch3_df['timestamps'].values"
   ]
  },
  {
   "cell_type": "markdown",
   "metadata": {},
   "source": [
    "This plots the stim_protocol signals, just to check if it looks right. Signal is blue, sync signal is orange."
   ]
  },
  {
   "cell_type": "code",
   "execution_count": 13,
   "metadata": {},
   "outputs": [
    {
     "data": {
      "application/javascript": [
       "/* Put everything inside the global mpl namespace */\n",
       "/* global mpl */\n",
       "window.mpl = {};\n",
       "\n",
       "mpl.get_websocket_type = function () {\n",
       "    if (typeof WebSocket !== 'undefined') {\n",
       "        return WebSocket;\n",
       "    } else if (typeof MozWebSocket !== 'undefined') {\n",
       "        return MozWebSocket;\n",
       "    } else {\n",
       "        alert(\n",
       "            'Your browser does not have WebSocket support. ' +\n",
       "                'Please try Chrome, Safari or Firefox ≥ 6. ' +\n",
       "                'Firefox 4 and 5 are also supported but you ' +\n",
       "                'have to enable WebSockets in about:config.'\n",
       "        );\n",
       "    }\n",
       "};\n",
       "\n",
       "mpl.figure = function (figure_id, websocket, ondownload, parent_element) {\n",
       "    this.id = figure_id;\n",
       "\n",
       "    this.ws = websocket;\n",
       "\n",
       "    this.supports_binary = this.ws.binaryType !== undefined;\n",
       "\n",
       "    if (!this.supports_binary) {\n",
       "        var warnings = document.getElementById('mpl-warnings');\n",
       "        if (warnings) {\n",
       "            warnings.style.display = 'block';\n",
       "            warnings.textContent =\n",
       "                'This browser does not support binary websocket messages. ' +\n",
       "                'Performance may be slow.';\n",
       "        }\n",
       "    }\n",
       "\n",
       "    this.imageObj = new Image();\n",
       "\n",
       "    this.context = undefined;\n",
       "    this.message = undefined;\n",
       "    this.canvas = undefined;\n",
       "    this.rubberband_canvas = undefined;\n",
       "    this.rubberband_context = undefined;\n",
       "    this.format_dropdown = undefined;\n",
       "\n",
       "    this.image_mode = 'full';\n",
       "\n",
       "    this.root = document.createElement('div');\n",
       "    this.root.setAttribute('style', 'display: inline-block');\n",
       "    this._root_extra_style(this.root);\n",
       "\n",
       "    parent_element.appendChild(this.root);\n",
       "\n",
       "    this._init_header(this);\n",
       "    this._init_canvas(this);\n",
       "    this._init_toolbar(this);\n",
       "\n",
       "    var fig = this;\n",
       "\n",
       "    this.waiting = false;\n",
       "\n",
       "    this.ws.onopen = function () {\n",
       "        fig.send_message('supports_binary', { value: fig.supports_binary });\n",
       "        fig.send_message('send_image_mode', {});\n",
       "        if (fig.ratio !== 1) {\n",
       "            fig.send_message('set_dpi_ratio', { dpi_ratio: fig.ratio });\n",
       "        }\n",
       "        fig.send_message('refresh', {});\n",
       "    };\n",
       "\n",
       "    this.imageObj.onload = function () {\n",
       "        if (fig.image_mode === 'full') {\n",
       "            // Full images could contain transparency (where diff images\n",
       "            // almost always do), so we need to clear the canvas so that\n",
       "            // there is no ghosting.\n",
       "            fig.context.clearRect(0, 0, fig.canvas.width, fig.canvas.height);\n",
       "        }\n",
       "        fig.context.drawImage(fig.imageObj, 0, 0);\n",
       "    };\n",
       "\n",
       "    this.imageObj.onunload = function () {\n",
       "        fig.ws.close();\n",
       "    };\n",
       "\n",
       "    this.ws.onmessage = this._make_on_message_function(this);\n",
       "\n",
       "    this.ondownload = ondownload;\n",
       "};\n",
       "\n",
       "mpl.figure.prototype._init_header = function () {\n",
       "    var titlebar = document.createElement('div');\n",
       "    titlebar.classList =\n",
       "        'ui-dialog-titlebar ui-widget-header ui-corner-all ui-helper-clearfix';\n",
       "    var titletext = document.createElement('div');\n",
       "    titletext.classList = 'ui-dialog-title';\n",
       "    titletext.setAttribute(\n",
       "        'style',\n",
       "        'width: 100%; text-align: center; padding: 3px;'\n",
       "    );\n",
       "    titlebar.appendChild(titletext);\n",
       "    this.root.appendChild(titlebar);\n",
       "    this.header = titletext;\n",
       "};\n",
       "\n",
       "mpl.figure.prototype._canvas_extra_style = function (_canvas_div) {};\n",
       "\n",
       "mpl.figure.prototype._root_extra_style = function (_canvas_div) {};\n",
       "\n",
       "mpl.figure.prototype._init_canvas = function () {\n",
       "    var fig = this;\n",
       "\n",
       "    var canvas_div = (this.canvas_div = document.createElement('div'));\n",
       "    canvas_div.setAttribute(\n",
       "        'style',\n",
       "        'border: 1px solid #ddd;' +\n",
       "            'box-sizing: content-box;' +\n",
       "            'clear: both;' +\n",
       "            'min-height: 1px;' +\n",
       "            'min-width: 1px;' +\n",
       "            'outline: 0;' +\n",
       "            'overflow: hidden;' +\n",
       "            'position: relative;' +\n",
       "            'resize: both;'\n",
       "    );\n",
       "\n",
       "    function on_keyboard_event_closure(name) {\n",
       "        return function (event) {\n",
       "            return fig.key_event(event, name);\n",
       "        };\n",
       "    }\n",
       "\n",
       "    canvas_div.addEventListener(\n",
       "        'keydown',\n",
       "        on_keyboard_event_closure('key_press')\n",
       "    );\n",
       "    canvas_div.addEventListener(\n",
       "        'keyup',\n",
       "        on_keyboard_event_closure('key_release')\n",
       "    );\n",
       "\n",
       "    this._canvas_extra_style(canvas_div);\n",
       "    this.root.appendChild(canvas_div);\n",
       "\n",
       "    var canvas = (this.canvas = document.createElement('canvas'));\n",
       "    canvas.classList.add('mpl-canvas');\n",
       "    canvas.setAttribute('style', 'box-sizing: content-box;');\n",
       "\n",
       "    this.context = canvas.getContext('2d');\n",
       "\n",
       "    var backingStore =\n",
       "        this.context.backingStorePixelRatio ||\n",
       "        this.context.webkitBackingStorePixelRatio ||\n",
       "        this.context.mozBackingStorePixelRatio ||\n",
       "        this.context.msBackingStorePixelRatio ||\n",
       "        this.context.oBackingStorePixelRatio ||\n",
       "        this.context.backingStorePixelRatio ||\n",
       "        1;\n",
       "\n",
       "    this.ratio = (window.devicePixelRatio || 1) / backingStore;\n",
       "\n",
       "    var rubberband_canvas = (this.rubberband_canvas = document.createElement(\n",
       "        'canvas'\n",
       "    ));\n",
       "    rubberband_canvas.setAttribute(\n",
       "        'style',\n",
       "        'box-sizing: content-box; position: absolute; left: 0; top: 0; z-index: 1;'\n",
       "    );\n",
       "\n",
       "    // Apply a ponyfill if ResizeObserver is not implemented by browser.\n",
       "    if (this.ResizeObserver === undefined) {\n",
       "        if (window.ResizeObserver !== undefined) {\n",
       "            this.ResizeObserver = window.ResizeObserver;\n",
       "        } else {\n",
       "            var obs = _JSXTOOLS_RESIZE_OBSERVER({});\n",
       "            this.ResizeObserver = obs.ResizeObserver;\n",
       "        }\n",
       "    }\n",
       "\n",
       "    this.resizeObserverInstance = new this.ResizeObserver(function (entries) {\n",
       "        var nentries = entries.length;\n",
       "        for (var i = 0; i < nentries; i++) {\n",
       "            var entry = entries[i];\n",
       "            var width, height;\n",
       "            if (entry.contentBoxSize) {\n",
       "                if (entry.contentBoxSize instanceof Array) {\n",
       "                    // Chrome 84 implements new version of spec.\n",
       "                    width = entry.contentBoxSize[0].inlineSize;\n",
       "                    height = entry.contentBoxSize[0].blockSize;\n",
       "                } else {\n",
       "                    // Firefox implements old version of spec.\n",
       "                    width = entry.contentBoxSize.inlineSize;\n",
       "                    height = entry.contentBoxSize.blockSize;\n",
       "                }\n",
       "            } else {\n",
       "                // Chrome <84 implements even older version of spec.\n",
       "                width = entry.contentRect.width;\n",
       "                height = entry.contentRect.height;\n",
       "            }\n",
       "\n",
       "            // Keep the size of the canvas and rubber band canvas in sync with\n",
       "            // the canvas container.\n",
       "            if (entry.devicePixelContentBoxSize) {\n",
       "                // Chrome 84 implements new version of spec.\n",
       "                canvas.setAttribute(\n",
       "                    'width',\n",
       "                    entry.devicePixelContentBoxSize[0].inlineSize\n",
       "                );\n",
       "                canvas.setAttribute(\n",
       "                    'height',\n",
       "                    entry.devicePixelContentBoxSize[0].blockSize\n",
       "                );\n",
       "            } else {\n",
       "                canvas.setAttribute('width', width * fig.ratio);\n",
       "                canvas.setAttribute('height', height * fig.ratio);\n",
       "            }\n",
       "            canvas.setAttribute(\n",
       "                'style',\n",
       "                'width: ' + width + 'px; height: ' + height + 'px;'\n",
       "            );\n",
       "\n",
       "            rubberband_canvas.setAttribute('width', width);\n",
       "            rubberband_canvas.setAttribute('height', height);\n",
       "\n",
       "            // And update the size in Python. We ignore the initial 0/0 size\n",
       "            // that occurs as the element is placed into the DOM, which should\n",
       "            // otherwise not happen due to the minimum size styling.\n",
       "            if (fig.ws.readyState == 1 && width != 0 && height != 0) {\n",
       "                fig.request_resize(width, height);\n",
       "            }\n",
       "        }\n",
       "    });\n",
       "    this.resizeObserverInstance.observe(canvas_div);\n",
       "\n",
       "    function on_mouse_event_closure(name) {\n",
       "        return function (event) {\n",
       "            return fig.mouse_event(event, name);\n",
       "        };\n",
       "    }\n",
       "\n",
       "    rubberband_canvas.addEventListener(\n",
       "        'mousedown',\n",
       "        on_mouse_event_closure('button_press')\n",
       "    );\n",
       "    rubberband_canvas.addEventListener(\n",
       "        'mouseup',\n",
       "        on_mouse_event_closure('button_release')\n",
       "    );\n",
       "    rubberband_canvas.addEventListener(\n",
       "        'dblclick',\n",
       "        on_mouse_event_closure('dblclick')\n",
       "    );\n",
       "    // Throttle sequential mouse events to 1 every 20ms.\n",
       "    rubberband_canvas.addEventListener(\n",
       "        'mousemove',\n",
       "        on_mouse_event_closure('motion_notify')\n",
       "    );\n",
       "\n",
       "    rubberband_canvas.addEventListener(\n",
       "        'mouseenter',\n",
       "        on_mouse_event_closure('figure_enter')\n",
       "    );\n",
       "    rubberband_canvas.addEventListener(\n",
       "        'mouseleave',\n",
       "        on_mouse_event_closure('figure_leave')\n",
       "    );\n",
       "\n",
       "    canvas_div.addEventListener('wheel', function (event) {\n",
       "        if (event.deltaY < 0) {\n",
       "            event.step = 1;\n",
       "        } else {\n",
       "            event.step = -1;\n",
       "        }\n",
       "        on_mouse_event_closure('scroll')(event);\n",
       "    });\n",
       "\n",
       "    canvas_div.appendChild(canvas);\n",
       "    canvas_div.appendChild(rubberband_canvas);\n",
       "\n",
       "    this.rubberband_context = rubberband_canvas.getContext('2d');\n",
       "    this.rubberband_context.strokeStyle = '#000000';\n",
       "\n",
       "    this._resize_canvas = function (width, height, forward) {\n",
       "        if (forward) {\n",
       "            canvas_div.style.width = width + 'px';\n",
       "            canvas_div.style.height = height + 'px';\n",
       "        }\n",
       "    };\n",
       "\n",
       "    // Disable right mouse context menu.\n",
       "    this.rubberband_canvas.addEventListener('contextmenu', function (_e) {\n",
       "        event.preventDefault();\n",
       "        return false;\n",
       "    });\n",
       "\n",
       "    function set_focus() {\n",
       "        canvas.focus();\n",
       "        canvas_div.focus();\n",
       "    }\n",
       "\n",
       "    window.setTimeout(set_focus, 100);\n",
       "};\n",
       "\n",
       "mpl.figure.prototype._init_toolbar = function () {\n",
       "    var fig = this;\n",
       "\n",
       "    var toolbar = document.createElement('div');\n",
       "    toolbar.classList = 'mpl-toolbar';\n",
       "    this.root.appendChild(toolbar);\n",
       "\n",
       "    function on_click_closure(name) {\n",
       "        return function (_event) {\n",
       "            return fig.toolbar_button_onclick(name);\n",
       "        };\n",
       "    }\n",
       "\n",
       "    function on_mouseover_closure(tooltip) {\n",
       "        return function (event) {\n",
       "            if (!event.currentTarget.disabled) {\n",
       "                return fig.toolbar_button_onmouseover(tooltip);\n",
       "            }\n",
       "        };\n",
       "    }\n",
       "\n",
       "    fig.buttons = {};\n",
       "    var buttonGroup = document.createElement('div');\n",
       "    buttonGroup.classList = 'mpl-button-group';\n",
       "    for (var toolbar_ind in mpl.toolbar_items) {\n",
       "        var name = mpl.toolbar_items[toolbar_ind][0];\n",
       "        var tooltip = mpl.toolbar_items[toolbar_ind][1];\n",
       "        var image = mpl.toolbar_items[toolbar_ind][2];\n",
       "        var method_name = mpl.toolbar_items[toolbar_ind][3];\n",
       "\n",
       "        if (!name) {\n",
       "            /* Instead of a spacer, we start a new button group. */\n",
       "            if (buttonGroup.hasChildNodes()) {\n",
       "                toolbar.appendChild(buttonGroup);\n",
       "            }\n",
       "            buttonGroup = document.createElement('div');\n",
       "            buttonGroup.classList = 'mpl-button-group';\n",
       "            continue;\n",
       "        }\n",
       "\n",
       "        var button = (fig.buttons[name] = document.createElement('button'));\n",
       "        button.classList = 'mpl-widget';\n",
       "        button.setAttribute('role', 'button');\n",
       "        button.setAttribute('aria-disabled', 'false');\n",
       "        button.addEventListener('click', on_click_closure(method_name));\n",
       "        button.addEventListener('mouseover', on_mouseover_closure(tooltip));\n",
       "\n",
       "        var icon_img = document.createElement('img');\n",
       "        icon_img.src = '_images/' + image + '.png';\n",
       "        icon_img.srcset = '_images/' + image + '_large.png 2x';\n",
       "        icon_img.alt = tooltip;\n",
       "        button.appendChild(icon_img);\n",
       "\n",
       "        buttonGroup.appendChild(button);\n",
       "    }\n",
       "\n",
       "    if (buttonGroup.hasChildNodes()) {\n",
       "        toolbar.appendChild(buttonGroup);\n",
       "    }\n",
       "\n",
       "    var fmt_picker = document.createElement('select');\n",
       "    fmt_picker.classList = 'mpl-widget';\n",
       "    toolbar.appendChild(fmt_picker);\n",
       "    this.format_dropdown = fmt_picker;\n",
       "\n",
       "    for (var ind in mpl.extensions) {\n",
       "        var fmt = mpl.extensions[ind];\n",
       "        var option = document.createElement('option');\n",
       "        option.selected = fmt === mpl.default_extension;\n",
       "        option.innerHTML = fmt;\n",
       "        fmt_picker.appendChild(option);\n",
       "    }\n",
       "\n",
       "    var status_bar = document.createElement('span');\n",
       "    status_bar.classList = 'mpl-message';\n",
       "    toolbar.appendChild(status_bar);\n",
       "    this.message = status_bar;\n",
       "};\n",
       "\n",
       "mpl.figure.prototype.request_resize = function (x_pixels, y_pixels) {\n",
       "    // Request matplotlib to resize the figure. Matplotlib will then trigger a resize in the client,\n",
       "    // which will in turn request a refresh of the image.\n",
       "    this.send_message('resize', { width: x_pixels, height: y_pixels });\n",
       "};\n",
       "\n",
       "mpl.figure.prototype.send_message = function (type, properties) {\n",
       "    properties['type'] = type;\n",
       "    properties['figure_id'] = this.id;\n",
       "    this.ws.send(JSON.stringify(properties));\n",
       "};\n",
       "\n",
       "mpl.figure.prototype.send_draw_message = function () {\n",
       "    if (!this.waiting) {\n",
       "        this.waiting = true;\n",
       "        this.ws.send(JSON.stringify({ type: 'draw', figure_id: this.id }));\n",
       "    }\n",
       "};\n",
       "\n",
       "mpl.figure.prototype.handle_save = function (fig, _msg) {\n",
       "    var format_dropdown = fig.format_dropdown;\n",
       "    var format = format_dropdown.options[format_dropdown.selectedIndex].value;\n",
       "    fig.ondownload(fig, format);\n",
       "};\n",
       "\n",
       "mpl.figure.prototype.handle_resize = function (fig, msg) {\n",
       "    var size = msg['size'];\n",
       "    if (size[0] !== fig.canvas.width || size[1] !== fig.canvas.height) {\n",
       "        fig._resize_canvas(size[0], size[1], msg['forward']);\n",
       "        fig.send_message('refresh', {});\n",
       "    }\n",
       "};\n",
       "\n",
       "mpl.figure.prototype.handle_rubberband = function (fig, msg) {\n",
       "    var x0 = msg['x0'] / fig.ratio;\n",
       "    var y0 = (fig.canvas.height - msg['y0']) / fig.ratio;\n",
       "    var x1 = msg['x1'] / fig.ratio;\n",
       "    var y1 = (fig.canvas.height - msg['y1']) / fig.ratio;\n",
       "    x0 = Math.floor(x0) + 0.5;\n",
       "    y0 = Math.floor(y0) + 0.5;\n",
       "    x1 = Math.floor(x1) + 0.5;\n",
       "    y1 = Math.floor(y1) + 0.5;\n",
       "    var min_x = Math.min(x0, x1);\n",
       "    var min_y = Math.min(y0, y1);\n",
       "    var width = Math.abs(x1 - x0);\n",
       "    var height = Math.abs(y1 - y0);\n",
       "\n",
       "    fig.rubberband_context.clearRect(\n",
       "        0,\n",
       "        0,\n",
       "        fig.canvas.width / fig.ratio,\n",
       "        fig.canvas.height / fig.ratio\n",
       "    );\n",
       "\n",
       "    fig.rubberband_context.strokeRect(min_x, min_y, width, height);\n",
       "};\n",
       "\n",
       "mpl.figure.prototype.handle_figure_label = function (fig, msg) {\n",
       "    // Updates the figure title.\n",
       "    fig.header.textContent = msg['label'];\n",
       "};\n",
       "\n",
       "mpl.figure.prototype.handle_cursor = function (fig, msg) {\n",
       "    var cursor = msg['cursor'];\n",
       "    switch (cursor) {\n",
       "        case 0:\n",
       "            cursor = 'pointer';\n",
       "            break;\n",
       "        case 1:\n",
       "            cursor = 'default';\n",
       "            break;\n",
       "        case 2:\n",
       "            cursor = 'crosshair';\n",
       "            break;\n",
       "        case 3:\n",
       "            cursor = 'move';\n",
       "            break;\n",
       "    }\n",
       "    fig.rubberband_canvas.style.cursor = cursor;\n",
       "};\n",
       "\n",
       "mpl.figure.prototype.handle_message = function (fig, msg) {\n",
       "    fig.message.textContent = msg['message'];\n",
       "};\n",
       "\n",
       "mpl.figure.prototype.handle_draw = function (fig, _msg) {\n",
       "    // Request the server to send over a new figure.\n",
       "    fig.send_draw_message();\n",
       "};\n",
       "\n",
       "mpl.figure.prototype.handle_image_mode = function (fig, msg) {\n",
       "    fig.image_mode = msg['mode'];\n",
       "};\n",
       "\n",
       "mpl.figure.prototype.handle_history_buttons = function (fig, msg) {\n",
       "    for (var key in msg) {\n",
       "        if (!(key in fig.buttons)) {\n",
       "            continue;\n",
       "        }\n",
       "        fig.buttons[key].disabled = !msg[key];\n",
       "        fig.buttons[key].setAttribute('aria-disabled', !msg[key]);\n",
       "    }\n",
       "};\n",
       "\n",
       "mpl.figure.prototype.handle_navigate_mode = function (fig, msg) {\n",
       "    if (msg['mode'] === 'PAN') {\n",
       "        fig.buttons['Pan'].classList.add('active');\n",
       "        fig.buttons['Zoom'].classList.remove('active');\n",
       "    } else if (msg['mode'] === 'ZOOM') {\n",
       "        fig.buttons['Pan'].classList.remove('active');\n",
       "        fig.buttons['Zoom'].classList.add('active');\n",
       "    } else {\n",
       "        fig.buttons['Pan'].classList.remove('active');\n",
       "        fig.buttons['Zoom'].classList.remove('active');\n",
       "    }\n",
       "};\n",
       "\n",
       "mpl.figure.prototype.updated_canvas_event = function () {\n",
       "    // Called whenever the canvas gets updated.\n",
       "    this.send_message('ack', {});\n",
       "};\n",
       "\n",
       "// A function to construct a web socket function for onmessage handling.\n",
       "// Called in the figure constructor.\n",
       "mpl.figure.prototype._make_on_message_function = function (fig) {\n",
       "    return function socket_on_message(evt) {\n",
       "        if (evt.data instanceof Blob) {\n",
       "            var img = evt.data;\n",
       "            if (img.type !== 'image/png') {\n",
       "                /* FIXME: We get \"Resource interpreted as Image but\n",
       "                 * transferred with MIME type text/plain:\" errors on\n",
       "                 * Chrome.  But how to set the MIME type?  It doesn't seem\n",
       "                 * to be part of the websocket stream */\n",
       "                img.type = 'image/png';\n",
       "            }\n",
       "\n",
       "            /* Free the memory for the previous frames */\n",
       "            if (fig.imageObj.src) {\n",
       "                (window.URL || window.webkitURL).revokeObjectURL(\n",
       "                    fig.imageObj.src\n",
       "                );\n",
       "            }\n",
       "\n",
       "            fig.imageObj.src = (window.URL || window.webkitURL).createObjectURL(\n",
       "                img\n",
       "            );\n",
       "            fig.updated_canvas_event();\n",
       "            fig.waiting = false;\n",
       "            return;\n",
       "        } else if (\n",
       "            typeof evt.data === 'string' &&\n",
       "            evt.data.slice(0, 21) === 'data:image/png;base64'\n",
       "        ) {\n",
       "            fig.imageObj.src = evt.data;\n",
       "            fig.updated_canvas_event();\n",
       "            fig.waiting = false;\n",
       "            return;\n",
       "        }\n",
       "\n",
       "        var msg = JSON.parse(evt.data);\n",
       "        var msg_type = msg['type'];\n",
       "\n",
       "        // Call the  \"handle_{type}\" callback, which takes\n",
       "        // the figure and JSON message as its only arguments.\n",
       "        try {\n",
       "            var callback = fig['handle_' + msg_type];\n",
       "        } catch (e) {\n",
       "            console.log(\n",
       "                \"No handler for the '\" + msg_type + \"' message type: \",\n",
       "                msg\n",
       "            );\n",
       "            return;\n",
       "        }\n",
       "\n",
       "        if (callback) {\n",
       "            try {\n",
       "                // console.log(\"Handling '\" + msg_type + \"' message: \", msg);\n",
       "                callback(fig, msg);\n",
       "            } catch (e) {\n",
       "                console.log(\n",
       "                    \"Exception inside the 'handler_\" + msg_type + \"' callback:\",\n",
       "                    e,\n",
       "                    e.stack,\n",
       "                    msg\n",
       "                );\n",
       "            }\n",
       "        }\n",
       "    };\n",
       "};\n",
       "\n",
       "// from http://stackoverflow.com/questions/1114465/getting-mouse-location-in-canvas\n",
       "mpl.findpos = function (e) {\n",
       "    //this section is from http://www.quirksmode.org/js/events_properties.html\n",
       "    var targ;\n",
       "    if (!e) {\n",
       "        e = window.event;\n",
       "    }\n",
       "    if (e.target) {\n",
       "        targ = e.target;\n",
       "    } else if (e.srcElement) {\n",
       "        targ = e.srcElement;\n",
       "    }\n",
       "    if (targ.nodeType === 3) {\n",
       "        // defeat Safari bug\n",
       "        targ = targ.parentNode;\n",
       "    }\n",
       "\n",
       "    // pageX,Y are the mouse positions relative to the document\n",
       "    var boundingRect = targ.getBoundingClientRect();\n",
       "    var x = e.pageX - (boundingRect.left + document.body.scrollLeft);\n",
       "    var y = e.pageY - (boundingRect.top + document.body.scrollTop);\n",
       "\n",
       "    return { x: x, y: y };\n",
       "};\n",
       "\n",
       "/*\n",
       " * return a copy of an object with only non-object keys\n",
       " * we need this to avoid circular references\n",
       " * http://stackoverflow.com/a/24161582/3208463\n",
       " */\n",
       "function simpleKeys(original) {\n",
       "    return Object.keys(original).reduce(function (obj, key) {\n",
       "        if (typeof original[key] !== 'object') {\n",
       "            obj[key] = original[key];\n",
       "        }\n",
       "        return obj;\n",
       "    }, {});\n",
       "}\n",
       "\n",
       "mpl.figure.prototype.mouse_event = function (event, name) {\n",
       "    var canvas_pos = mpl.findpos(event);\n",
       "\n",
       "    if (name === 'button_press') {\n",
       "        this.canvas.focus();\n",
       "        this.canvas_div.focus();\n",
       "    }\n",
       "\n",
       "    var x = canvas_pos.x * this.ratio;\n",
       "    var y = canvas_pos.y * this.ratio;\n",
       "\n",
       "    this.send_message(name, {\n",
       "        x: x,\n",
       "        y: y,\n",
       "        button: event.button,\n",
       "        step: event.step,\n",
       "        guiEvent: simpleKeys(event),\n",
       "    });\n",
       "\n",
       "    /* This prevents the web browser from automatically changing to\n",
       "     * the text insertion cursor when the button is pressed.  We want\n",
       "     * to control all of the cursor setting manually through the\n",
       "     * 'cursor' event from matplotlib */\n",
       "    event.preventDefault();\n",
       "    return false;\n",
       "};\n",
       "\n",
       "mpl.figure.prototype._key_event_extra = function (_event, _name) {\n",
       "    // Handle any extra behaviour associated with a key event\n",
       "};\n",
       "\n",
       "mpl.figure.prototype.key_event = function (event, name) {\n",
       "    // Prevent repeat events\n",
       "    if (name === 'key_press') {\n",
       "        if (event.key === this._key) {\n",
       "            return;\n",
       "        } else {\n",
       "            this._key = event.key;\n",
       "        }\n",
       "    }\n",
       "    if (name === 'key_release') {\n",
       "        this._key = null;\n",
       "    }\n",
       "\n",
       "    var value = '';\n",
       "    if (event.ctrlKey && event.key !== 'Control') {\n",
       "        value += 'ctrl+';\n",
       "    }\n",
       "    else if (event.altKey && event.key !== 'Alt') {\n",
       "        value += 'alt+';\n",
       "    }\n",
       "    else if (event.shiftKey && event.key !== 'Shift') {\n",
       "        value += 'shift+';\n",
       "    }\n",
       "\n",
       "    value += 'k' + event.key;\n",
       "\n",
       "    this._key_event_extra(event, name);\n",
       "\n",
       "    this.send_message(name, { key: value, guiEvent: simpleKeys(event) });\n",
       "    return false;\n",
       "};\n",
       "\n",
       "mpl.figure.prototype.toolbar_button_onclick = function (name) {\n",
       "    if (name === 'download') {\n",
       "        this.handle_save(this, null);\n",
       "    } else {\n",
       "        this.send_message('toolbar_button', { name: name });\n",
       "    }\n",
       "};\n",
       "\n",
       "mpl.figure.prototype.toolbar_button_onmouseover = function (tooltip) {\n",
       "    this.message.textContent = tooltip;\n",
       "};\n",
       "\n",
       "///////////////// REMAINING CONTENT GENERATED BY embed_js.py /////////////////\n",
       "// prettier-ignore\n",
       "var _JSXTOOLS_RESIZE_OBSERVER=function(A){var t,i=new WeakMap,n=new WeakMap,a=new WeakMap,r=new WeakMap,o=new Set;function s(e){if(!(this instanceof s))throw new TypeError(\"Constructor requires 'new' operator\");i.set(this,e)}function h(){throw new TypeError(\"Function is not a constructor\")}function c(e,t,i,n){e=0 in arguments?Number(arguments[0]):0,t=1 in arguments?Number(arguments[1]):0,i=2 in arguments?Number(arguments[2]):0,n=3 in arguments?Number(arguments[3]):0,this.right=(this.x=this.left=e)+(this.width=i),this.bottom=(this.y=this.top=t)+(this.height=n),Object.freeze(this)}function d(){t=requestAnimationFrame(d);var s=new WeakMap,p=new Set;o.forEach((function(t){r.get(t).forEach((function(i){var r=t instanceof window.SVGElement,o=a.get(t),d=r?0:parseFloat(o.paddingTop),f=r?0:parseFloat(o.paddingRight),l=r?0:parseFloat(o.paddingBottom),u=r?0:parseFloat(o.paddingLeft),g=r?0:parseFloat(o.borderTopWidth),m=r?0:parseFloat(o.borderRightWidth),w=r?0:parseFloat(o.borderBottomWidth),b=u+f,F=d+l,v=(r?0:parseFloat(o.borderLeftWidth))+m,W=g+w,y=r?0:t.offsetHeight-W-t.clientHeight,E=r?0:t.offsetWidth-v-t.clientWidth,R=b+v,z=F+W,M=r?t.width:parseFloat(o.width)-R-E,O=r?t.height:parseFloat(o.height)-z-y;if(n.has(t)){var k=n.get(t);if(k[0]===M&&k[1]===O)return}n.set(t,[M,O]);var S=Object.create(h.prototype);S.target=t,S.contentRect=new c(u,d,M,O),s.has(i)||(s.set(i,[]),p.add(i)),s.get(i).push(S)}))})),p.forEach((function(e){i.get(e).call(e,s.get(e),e)}))}return s.prototype.observe=function(i){if(i instanceof window.Element){r.has(i)||(r.set(i,new Set),o.add(i),a.set(i,window.getComputedStyle(i)));var n=r.get(i);n.has(this)||n.add(this),cancelAnimationFrame(t),t=requestAnimationFrame(d)}},s.prototype.unobserve=function(i){if(i instanceof window.Element&&r.has(i)){var n=r.get(i);n.has(this)&&(n.delete(this),n.size||(r.delete(i),o.delete(i))),n.size||r.delete(i),o.size||cancelAnimationFrame(t)}},A.DOMRectReadOnly=c,A.ResizeObserver=s,A.ResizeObserverEntry=h,A}; // eslint-disable-line\n",
       "mpl.toolbar_items = [[\"Home\", \"Reset original view\", \"fa fa-home icon-home\", \"home\"], [\"Back\", \"Back to previous view\", \"fa fa-arrow-left icon-arrow-left\", \"back\"], [\"Forward\", \"Forward to next view\", \"fa fa-arrow-right icon-arrow-right\", \"forward\"], [\"\", \"\", \"\", \"\"], [\"Pan\", \"Left button pans, Right button zooms\\nx/y fixes axis, CTRL fixes aspect\", \"fa fa-arrows icon-move\", \"pan\"], [\"Zoom\", \"Zoom to rectangle\\nx/y fixes axis, CTRL fixes aspect\", \"fa fa-square-o icon-check-empty\", \"zoom\"], [\"\", \"\", \"\", \"\"], [\"Download\", \"Download plot\", \"fa fa-floppy-o icon-save\", \"download\"]];\n",
       "\n",
       "mpl.extensions = [\"eps\", \"jpeg\", \"pgf\", \"pdf\", \"png\", \"ps\", \"raw\", \"svg\", \"tif\"];\n",
       "\n",
       "mpl.default_extension = \"png\";/* global mpl */\n",
       "\n",
       "var comm_websocket_adapter = function (comm) {\n",
       "    // Create a \"websocket\"-like object which calls the given IPython comm\n",
       "    // object with the appropriate methods. Currently this is a non binary\n",
       "    // socket, so there is still some room for performance tuning.\n",
       "    var ws = {};\n",
       "\n",
       "    ws.binaryType = comm.kernel.ws.binaryType;\n",
       "    ws.readyState = comm.kernel.ws.readyState;\n",
       "    function updateReadyState(_event) {\n",
       "        if (comm.kernel.ws) {\n",
       "            ws.readyState = comm.kernel.ws.readyState;\n",
       "        } else {\n",
       "            ws.readyState = 3; // Closed state.\n",
       "        }\n",
       "    }\n",
       "    comm.kernel.ws.addEventListener('open', updateReadyState);\n",
       "    comm.kernel.ws.addEventListener('close', updateReadyState);\n",
       "    comm.kernel.ws.addEventListener('error', updateReadyState);\n",
       "\n",
       "    ws.close = function () {\n",
       "        comm.close();\n",
       "    };\n",
       "    ws.send = function (m) {\n",
       "        //console.log('sending', m);\n",
       "        comm.send(m);\n",
       "    };\n",
       "    // Register the callback with on_msg.\n",
       "    comm.on_msg(function (msg) {\n",
       "        //console.log('receiving', msg['content']['data'], msg);\n",
       "        var data = msg['content']['data'];\n",
       "        if (data['blob'] !== undefined) {\n",
       "            data = {\n",
       "                data: new Blob(msg['buffers'], { type: data['blob'] }),\n",
       "            };\n",
       "        }\n",
       "        // Pass the mpl event to the overridden (by mpl) onmessage function.\n",
       "        ws.onmessage(data);\n",
       "    });\n",
       "    return ws;\n",
       "};\n",
       "\n",
       "mpl.mpl_figure_comm = function (comm, msg) {\n",
       "    // This is the function which gets called when the mpl process\n",
       "    // starts-up an IPython Comm through the \"matplotlib\" channel.\n",
       "\n",
       "    var id = msg.content.data.id;\n",
       "    // Get hold of the div created by the display call when the Comm\n",
       "    // socket was opened in Python.\n",
       "    var element = document.getElementById(id);\n",
       "    var ws_proxy = comm_websocket_adapter(comm);\n",
       "\n",
       "    function ondownload(figure, _format) {\n",
       "        window.open(figure.canvas.toDataURL());\n",
       "    }\n",
       "\n",
       "    var fig = new mpl.figure(id, ws_proxy, ondownload, element);\n",
       "\n",
       "    // Call onopen now - mpl needs it, as it is assuming we've passed it a real\n",
       "    // web socket which is closed, not our websocket->open comm proxy.\n",
       "    ws_proxy.onopen();\n",
       "\n",
       "    fig.parent_element = element;\n",
       "    fig.cell_info = mpl.find_output_cell(\"<div id='\" + id + \"'></div>\");\n",
       "    if (!fig.cell_info) {\n",
       "        console.error('Failed to find cell for figure', id, fig);\n",
       "        return;\n",
       "    }\n",
       "    fig.cell_info[0].output_area.element.on(\n",
       "        'cleared',\n",
       "        { fig: fig },\n",
       "        fig._remove_fig_handler\n",
       "    );\n",
       "};\n",
       "\n",
       "mpl.figure.prototype.handle_close = function (fig, msg) {\n",
       "    var width = fig.canvas.width / fig.ratio;\n",
       "    fig.cell_info[0].output_area.element.off(\n",
       "        'cleared',\n",
       "        fig._remove_fig_handler\n",
       "    );\n",
       "    fig.resizeObserverInstance.unobserve(fig.canvas_div);\n",
       "\n",
       "    // Update the output cell to use the data from the current canvas.\n",
       "    fig.push_to_output();\n",
       "    var dataURL = fig.canvas.toDataURL();\n",
       "    // Re-enable the keyboard manager in IPython - without this line, in FF,\n",
       "    // the notebook keyboard shortcuts fail.\n",
       "    IPython.keyboard_manager.enable();\n",
       "    fig.parent_element.innerHTML =\n",
       "        '<img src=\"' + dataURL + '\" width=\"' + width + '\">';\n",
       "    fig.close_ws(fig, msg);\n",
       "};\n",
       "\n",
       "mpl.figure.prototype.close_ws = function (fig, msg) {\n",
       "    fig.send_message('closing', msg);\n",
       "    // fig.ws.close()\n",
       "};\n",
       "\n",
       "mpl.figure.prototype.push_to_output = function (_remove_interactive) {\n",
       "    // Turn the data on the canvas into data in the output cell.\n",
       "    var width = this.canvas.width / this.ratio;\n",
       "    var dataURL = this.canvas.toDataURL();\n",
       "    this.cell_info[1]['text/html'] =\n",
       "        '<img src=\"' + dataURL + '\" width=\"' + width + '\">';\n",
       "};\n",
       "\n",
       "mpl.figure.prototype.updated_canvas_event = function () {\n",
       "    // Tell IPython that the notebook contents must change.\n",
       "    IPython.notebook.set_dirty(true);\n",
       "    this.send_message('ack', {});\n",
       "    var fig = this;\n",
       "    // Wait a second, then push the new image to the DOM so\n",
       "    // that it is saved nicely (might be nice to debounce this).\n",
       "    setTimeout(function () {\n",
       "        fig.push_to_output();\n",
       "    }, 1000);\n",
       "};\n",
       "\n",
       "mpl.figure.prototype._init_toolbar = function () {\n",
       "    var fig = this;\n",
       "\n",
       "    var toolbar = document.createElement('div');\n",
       "    toolbar.classList = 'btn-toolbar';\n",
       "    this.root.appendChild(toolbar);\n",
       "\n",
       "    function on_click_closure(name) {\n",
       "        return function (_event) {\n",
       "            return fig.toolbar_button_onclick(name);\n",
       "        };\n",
       "    }\n",
       "\n",
       "    function on_mouseover_closure(tooltip) {\n",
       "        return function (event) {\n",
       "            if (!event.currentTarget.disabled) {\n",
       "                return fig.toolbar_button_onmouseover(tooltip);\n",
       "            }\n",
       "        };\n",
       "    }\n",
       "\n",
       "    fig.buttons = {};\n",
       "    var buttonGroup = document.createElement('div');\n",
       "    buttonGroup.classList = 'btn-group';\n",
       "    var button;\n",
       "    for (var toolbar_ind in mpl.toolbar_items) {\n",
       "        var name = mpl.toolbar_items[toolbar_ind][0];\n",
       "        var tooltip = mpl.toolbar_items[toolbar_ind][1];\n",
       "        var image = mpl.toolbar_items[toolbar_ind][2];\n",
       "        var method_name = mpl.toolbar_items[toolbar_ind][3];\n",
       "\n",
       "        if (!name) {\n",
       "            /* Instead of a spacer, we start a new button group. */\n",
       "            if (buttonGroup.hasChildNodes()) {\n",
       "                toolbar.appendChild(buttonGroup);\n",
       "            }\n",
       "            buttonGroup = document.createElement('div');\n",
       "            buttonGroup.classList = 'btn-group';\n",
       "            continue;\n",
       "        }\n",
       "\n",
       "        button = fig.buttons[name] = document.createElement('button');\n",
       "        button.classList = 'btn btn-default';\n",
       "        button.href = '#';\n",
       "        button.title = name;\n",
       "        button.innerHTML = '<i class=\"fa ' + image + ' fa-lg\"></i>';\n",
       "        button.addEventListener('click', on_click_closure(method_name));\n",
       "        button.addEventListener('mouseover', on_mouseover_closure(tooltip));\n",
       "        buttonGroup.appendChild(button);\n",
       "    }\n",
       "\n",
       "    if (buttonGroup.hasChildNodes()) {\n",
       "        toolbar.appendChild(buttonGroup);\n",
       "    }\n",
       "\n",
       "    // Add the status bar.\n",
       "    var status_bar = document.createElement('span');\n",
       "    status_bar.classList = 'mpl-message pull-right';\n",
       "    toolbar.appendChild(status_bar);\n",
       "    this.message = status_bar;\n",
       "\n",
       "    // Add the close button to the window.\n",
       "    var buttongrp = document.createElement('div');\n",
       "    buttongrp.classList = 'btn-group inline pull-right';\n",
       "    button = document.createElement('button');\n",
       "    button.classList = 'btn btn-mini btn-primary';\n",
       "    button.href = '#';\n",
       "    button.title = 'Stop Interaction';\n",
       "    button.innerHTML = '<i class=\"fa fa-power-off icon-remove icon-large\"></i>';\n",
       "    button.addEventListener('click', function (_evt) {\n",
       "        fig.handle_close(fig, {});\n",
       "    });\n",
       "    button.addEventListener(\n",
       "        'mouseover',\n",
       "        on_mouseover_closure('Stop Interaction')\n",
       "    );\n",
       "    buttongrp.appendChild(button);\n",
       "    var titlebar = this.root.querySelector('.ui-dialog-titlebar');\n",
       "    titlebar.insertBefore(buttongrp, titlebar.firstChild);\n",
       "};\n",
       "\n",
       "mpl.figure.prototype._remove_fig_handler = function (event) {\n",
       "    var fig = event.data.fig;\n",
       "    if (event.target !== this) {\n",
       "        // Ignore bubbled events from children.\n",
       "        return;\n",
       "    }\n",
       "    fig.close_ws(fig, {});\n",
       "};\n",
       "\n",
       "mpl.figure.prototype._root_extra_style = function (el) {\n",
       "    el.style.boxSizing = 'content-box'; // override notebook setting of border-box.\n",
       "};\n",
       "\n",
       "mpl.figure.prototype._canvas_extra_style = function (el) {\n",
       "    // this is important to make the div 'focusable\n",
       "    el.setAttribute('tabindex', 0);\n",
       "    // reach out to IPython and tell the keyboard manager to turn it's self\n",
       "    // off when our div gets focus\n",
       "\n",
       "    // location in version 3\n",
       "    if (IPython.notebook.keyboard_manager) {\n",
       "        IPython.notebook.keyboard_manager.register_events(el);\n",
       "    } else {\n",
       "        // location in version 2\n",
       "        IPython.keyboard_manager.register_events(el);\n",
       "    }\n",
       "};\n",
       "\n",
       "mpl.figure.prototype._key_event_extra = function (event, _name) {\n",
       "    var manager = IPython.notebook.keyboard_manager;\n",
       "    if (!manager) {\n",
       "        manager = IPython.keyboard_manager;\n",
       "    }\n",
       "\n",
       "    // Check for shift+enter\n",
       "    if (event.shiftKey && event.which === 13) {\n",
       "        this.canvas_div.blur();\n",
       "        // select the cell after this one\n",
       "        var index = IPython.notebook.find_cell_index(this.cell_info[0]);\n",
       "        IPython.notebook.select(index + 1);\n",
       "    }\n",
       "};\n",
       "\n",
       "mpl.figure.prototype.handle_save = function (fig, _msg) {\n",
       "    fig.ondownload(fig, null);\n",
       "};\n",
       "\n",
       "mpl.find_output_cell = function (html_output) {\n",
       "    // Return the cell and output element which can be found *uniquely* in the notebook.\n",
       "    // Note - this is a bit hacky, but it is done because the \"notebook_saving.Notebook\"\n",
       "    // IPython event is triggered only after the cells have been serialised, which for\n",
       "    // our purposes (turning an active figure into a static one), is too late.\n",
       "    var cells = IPython.notebook.get_cells();\n",
       "    var ncells = cells.length;\n",
       "    for (var i = 0; i < ncells; i++) {\n",
       "        var cell = cells[i];\n",
       "        if (cell.cell_type === 'code') {\n",
       "            for (var j = 0; j < cell.output_area.outputs.length; j++) {\n",
       "                var data = cell.output_area.outputs[j];\n",
       "                if (data.data) {\n",
       "                    // IPython >= 3 moved mimebundle to data attribute of output\n",
       "                    data = data.data;\n",
       "                }\n",
       "                if (data['text/html'] === html_output) {\n",
       "                    return [cell, data, j];\n",
       "                }\n",
       "            }\n",
       "        }\n",
       "    }\n",
       "};\n",
       "\n",
       "// Register the function which deals with the matplotlib target/channel.\n",
       "// The kernel may be null if the page has been refreshed.\n",
       "if (IPython.notebook.kernel !== null) {\n",
       "    IPython.notebook.kernel.comm_manager.register_target(\n",
       "        'matplotlib',\n",
       "        mpl.mpl_figure_comm\n",
       "    );\n",
       "}\n"
      ],
      "text/plain": [
       "<IPython.core.display.Javascript object>"
      ]
     },
     "metadata": {},
     "output_type": "display_data"
    },
    {
     "data": {
      "text/html": [
       "<img src=\"data:image/png;base64,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\" width=\"640\">"
      ],
      "text/plain": [
       "<IPython.core.display.HTML object>"
      ]
     },
     "metadata": {},
     "output_type": "display_data"
    }
   ],
   "source": [
    "fig, ax = plt.subplots()\n",
    "\n",
    "ch1_df.plot(x='timestamps', y='value', ax=ax);\n",
    "ch3_df.plot(x='timestamps', y='value', ax=ax);"
   ]
  },
  {
   "cell_type": "markdown",
   "metadata": {},
   "source": [
    "This loops through the sync pulses, and counts the peaks in the signal to define the frequency of the sine wave (and the amplitude)."
   ]
  },
  {
   "cell_type": "code",
   "execution_count": 14,
   "metadata": {},
   "outputs": [],
   "source": [
    "list_stim_type = []\n",
    "list_stim_amp = []\n",
    "list_stim_dur = []\n",
    "for i in range(len(sync)):\n",
    "    if sync[i] == 1:\n",
    "        start = sync_ts[i-1]\n",
    "        end = sync_ts[i]\n",
    "        siginds = np.squeeze(np.argwhere((signal_ts >= start) & (signal_ts <= end)))\n",
    "        sine_pulse = stim_signal[siginds]\n",
    "        ## amplitude ##\n",
    "        list_stim_amp.append(int(np.max(sine_pulse)))\n",
    "        ## frequency ##\n",
    "        peaks, _ = signal.find_peaks(sine_pulse, height=np.max(sine_pulse)-0.5)\n",
    "        freq = int(np.round(len(peaks) / ((end - start) * 1E-6)))\n",
    "        list_stim_type.append('sine_' + str(freq) + 'Hz')"
   ]
  },
  {
   "cell_type": "markdown",
   "metadata": {},
   "source": [
    "Put that info into a dataframe"
   ]
  },
  {
   "cell_type": "code",
   "execution_count": 15,
   "metadata": {},
   "outputs": [
    {
     "name": "stdout",
     "output_type": "stream",
     "text": [
      "90\n"
     ]
    },
    {
     "data": {
      "text/html": [
       "<div>\n",
       "<style scoped>\n",
       "    .dataframe tbody tr th:only-of-type {\n",
       "        vertical-align: middle;\n",
       "    }\n",
       "\n",
       "    .dataframe tbody tr th {\n",
       "        vertical-align: top;\n",
       "    }\n",
       "\n",
       "    .dataframe thead th {\n",
       "        text-align: right;\n",
       "    }\n",
       "</style>\n",
       "<table border=\"1\" class=\"dataframe\">\n",
       "  <thead>\n",
       "    <tr style=\"text-align: right;\">\n",
       "      <th></th>\n",
       "      <th>stim_type</th>\n",
       "      <th>parameter</th>\n",
       "    </tr>\n",
       "  </thead>\n",
       "  <tbody>\n",
       "    <tr>\n",
       "      <th>0</th>\n",
       "      <td>sine_140Hz</td>\n",
       "      <td>5</td>\n",
       "    </tr>\n",
       "    <tr>\n",
       "      <th>1</th>\n",
       "      <td>sine_140Hz</td>\n",
       "      <td>5</td>\n",
       "    </tr>\n",
       "    <tr>\n",
       "      <th>2</th>\n",
       "      <td>sine_140Hz</td>\n",
       "      <td>5</td>\n",
       "    </tr>\n",
       "    <tr>\n",
       "      <th>3</th>\n",
       "      <td>sine_140Hz</td>\n",
       "      <td>5</td>\n",
       "    </tr>\n",
       "    <tr>\n",
       "      <th>4</th>\n",
       "      <td>sine_140Hz</td>\n",
       "      <td>5</td>\n",
       "    </tr>\n",
       "  </tbody>\n",
       "</table>\n",
       "</div>"
      ],
      "text/plain": [
       "    stim_type  parameter\n",
       "0  sine_140Hz          5\n",
       "1  sine_140Hz          5\n",
       "2  sine_140Hz          5\n",
       "3  sine_140Hz          5\n",
       "4  sine_140Hz          5"
      ]
     },
     "execution_count": 15,
     "metadata": {},
     "output_type": "execute_result"
    }
   ],
   "source": [
    "estim_sine_log = pd.DataFrame({\n",
    "    'stim_type': list_stim_type,\n",
    "    'parameter': list_stim_amp,\n",
    "})\n",
    "print(len(estim_sine_log))\n",
    "estim_sine_log.head()"
   ]
  },
  {
   "cell_type": "code",
   "execution_count": 16,
   "metadata": {},
   "outputs": [
    {
     "data": {
      "text/html": [
       "<div>\n",
       "<style scoped>\n",
       "    .dataframe tbody tr th:only-of-type {\n",
       "        vertical-align: middle;\n",
       "    }\n",
       "\n",
       "    .dataframe tbody tr th {\n",
       "        vertical-align: top;\n",
       "    }\n",
       "\n",
       "    .dataframe thead th {\n",
       "        text-align: right;\n",
       "    }\n",
       "</style>\n",
       "<table border=\"1\" class=\"dataframe\">\n",
       "  <thead>\n",
       "    <tr style=\"text-align: right;\">\n",
       "      <th></th>\n",
       "      <th>stim_type</th>\n",
       "      <th>parameter</th>\n",
       "    </tr>\n",
       "  </thead>\n",
       "  <tbody>\n",
       "    <tr>\n",
       "      <th>85</th>\n",
       "      <td>sine_5000Hz</td>\n",
       "      <td>4</td>\n",
       "    </tr>\n",
       "    <tr>\n",
       "      <th>86</th>\n",
       "      <td>sine_5000Hz</td>\n",
       "      <td>4</td>\n",
       "    </tr>\n",
       "    <tr>\n",
       "      <th>87</th>\n",
       "      <td>sine_5000Hz</td>\n",
       "      <td>4</td>\n",
       "    </tr>\n",
       "    <tr>\n",
       "      <th>88</th>\n",
       "      <td>sine_5000Hz</td>\n",
       "      <td>4</td>\n",
       "    </tr>\n",
       "    <tr>\n",
       "      <th>89</th>\n",
       "      <td>sine_5000Hz</td>\n",
       "      <td>4</td>\n",
       "    </tr>\n",
       "  </tbody>\n",
       "</table>\n",
       "</div>"
      ],
      "text/plain": [
       "      stim_type  parameter\n",
       "85  sine_5000Hz          4\n",
       "86  sine_5000Hz          4\n",
       "87  sine_5000Hz          4\n",
       "88  sine_5000Hz          4\n",
       "89  sine_5000Hz          4"
      ]
     },
     "execution_count": 16,
     "metadata": {},
     "output_type": "execute_result"
    }
   ],
   "source": [
    "estim_sine_log.tail()"
   ]
  },
  {
   "cell_type": "markdown",
   "metadata": {},
   "source": [
    "Make sure the length matches the number of pulses recorded by the sync computer."
   ]
  },
  {
   "cell_type": "code",
   "execution_count": 89,
   "metadata": {},
   "outputs": [],
   "source": [
    "if len(estim_sine_log) == trials_per_sweep:\n",
    "    estim_sine_log = pd.concat([estim_sine_log] * num_sweeps, axis='index', ignore_index=True)\n",
    "else:\n",
    "    print('estim_log does not match total_trials / num_sweeps')"
   ]
  },
  {
   "cell_type": "markdown",
   "metadata": {},
   "source": [
    "Add onset, offset, and durations to each line in the dataframe. This part only works if the number of sync pulses matches the number of stims delivered according to the stim_protocol.dat file."
   ]
  },
  {
   "cell_type": "code",
   "execution_count": 90,
   "metadata": {},
   "outputs": [],
   "source": [
    "estim_sine_log['onset'] = esync_rising\n",
    "estim_sine_log['offset'] = esync_falling\n",
    "estim_sine_log['duration'] = estim_sine_log['offset'] - estim_sine_log['onset']"
   ]
  },
  {
   "cell_type": "code",
   "execution_count": 92,
   "metadata": {},
   "outputs": [],
   "source": [
    "estim_sine_log['sweep'] = np.zeros(len(estim_sine_log), dtype=int) - 1\n",
    "for i in range(len(esweep_rising)):\n",
    "    # print('Sweep %d: %f to %f' % (i, sweep_start, sweep_end))\n",
    "    estim_sine_log.loc[(estim_sine_log['onset'] >= esweep_rising[i]) & (estim_sine_log['onset'] <= esweep_falling[i]), 'sweep'] = i"
   ]
  },
  {
   "cell_type": "code",
   "execution_count": 93,
   "metadata": {
    "scrolled": true
   },
   "outputs": [
    {
     "data": {
      "text/html": [
       "<div>\n",
       "<style scoped>\n",
       "    .dataframe tbody tr th:only-of-type {\n",
       "        vertical-align: middle;\n",
       "    }\n",
       "\n",
       "    .dataframe tbody tr th {\n",
       "        vertical-align: top;\n",
       "    }\n",
       "\n",
       "    .dataframe thead th {\n",
       "        text-align: right;\n",
       "    }\n",
       "</style>\n",
       "<table border=\"1\" class=\"dataframe\">\n",
       "  <thead>\n",
       "    <tr style=\"text-align: right;\">\n",
       "      <th></th>\n",
       "      <th>stim_type</th>\n",
       "      <th>parameter</th>\n",
       "      <th>onset</th>\n",
       "      <th>offset</th>\n",
       "      <th>duration</th>\n",
       "      <th>sweep</th>\n",
       "    </tr>\n",
       "  </thead>\n",
       "  <tbody>\n",
       "    <tr>\n",
       "      <th>0</th>\n",
       "      <td>sine_140Hz</td>\n",
       "      <td>5</td>\n",
       "      <td>349.63525</td>\n",
       "      <td>359.63131</td>\n",
       "      <td>9.99606</td>\n",
       "      <td>0</td>\n",
       "    </tr>\n",
       "    <tr>\n",
       "      <th>1</th>\n",
       "      <td>sine_140Hz</td>\n",
       "      <td>5</td>\n",
       "      <td>369.63136</td>\n",
       "      <td>379.62742</td>\n",
       "      <td>9.99606</td>\n",
       "      <td>0</td>\n",
       "    </tr>\n",
       "    <tr>\n",
       "      <th>2</th>\n",
       "      <td>sine_140Hz</td>\n",
       "      <td>5</td>\n",
       "      <td>389.62747</td>\n",
       "      <td>399.62353</td>\n",
       "      <td>9.99606</td>\n",
       "      <td>0</td>\n",
       "    </tr>\n",
       "    <tr>\n",
       "      <th>3</th>\n",
       "      <td>sine_140Hz</td>\n",
       "      <td>5</td>\n",
       "      <td>409.62358</td>\n",
       "      <td>419.61964</td>\n",
       "      <td>9.99606</td>\n",
       "      <td>0</td>\n",
       "    </tr>\n",
       "    <tr>\n",
       "      <th>4</th>\n",
       "      <td>sine_140Hz</td>\n",
       "      <td>5</td>\n",
       "      <td>429.61969</td>\n",
       "      <td>439.61574</td>\n",
       "      <td>9.99605</td>\n",
       "      <td>0</td>\n",
       "    </tr>\n",
       "  </tbody>\n",
       "</table>\n",
       "</div>"
      ],
      "text/plain": [
       "    stim_type  parameter      onset     offset  duration  sweep\n",
       "0  sine_140Hz          5  349.63525  359.63131   9.99606      0\n",
       "1  sine_140Hz          5  369.63136  379.62742   9.99606      0\n",
       "2  sine_140Hz          5  389.62747  399.62353   9.99606      0\n",
       "3  sine_140Hz          5  409.62358  419.61964   9.99606      0\n",
       "4  sine_140Hz          5  429.61969  439.61574   9.99605      0"
      ]
     },
     "execution_count": 93,
     "metadata": {},
     "output_type": "execute_result"
    }
   ],
   "source": [
    "estim_sine_log.head()"
   ]
  },
  {
   "cell_type": "markdown",
   "metadata": {},
   "source": [
    "### Save the dataframe as the log file"
   ]
  },
  {
   "cell_type": "code",
   "execution_count": 94,
   "metadata": {},
   "outputs": [],
   "source": [
    "estim_sine_log.to_csv(exp.stimulus_log_file, index=False)"
   ]
  },
  {
   "cell_type": "markdown",
   "metadata": {},
   "source": [
    "# Ignore the rest for now, it will be useful if we decide to deliver sine stim and visual stim together some day."
   ]
  },
  {
   "cell_type": "markdown",
   "metadata": {},
   "source": [
    "## Sensory stim"
   ]
  },
  {
   "cell_type": "markdown",
   "metadata": {},
   "source": [
    "This is from NP4 with a digital photodiode.<br>Load behavior_sweep, behavior_sync, and photodiode rising and falling edges."
   ]
  },
  {
   "cell_type": "raw",
   "metadata": {},
   "source": [
    "# behavior_sweep\n",
    "sweep_rising = sync_data.get_edges(keys=('behavior_sweep',), kind='rising', units='seconds')\n",
    "sweep_falling = sync_data.get_edges(keys=('behavior_sweep',), kind='falling', units='seconds')\n",
    "# behavior_vsync\n",
    "vsync_rising = sync_data.get_edges(keys=('behavior_vsync',), kind='rising', units='seconds')\n",
    "vsync_falling = sync_data.get_edges(keys=('behavior_vsync',), kind='falling', units='seconds')\n",
    "# photodiode\n",
    "pd_rising = sync_data.get_edges(keys=('photodiode',), kind='rising', units='seconds')\n",
    "pd_falling = sync_data.get_edges(keys=('photodiode',), kind='falling', units='seconds')"
   ]
  },
  {
   "cell_type": "raw",
   "metadata": {},
   "source": [
    "if len(sweep_rising) == 0:\n",
    "    between_sweep_inds = np.argwhere(np.diff(vsync_rising) > 10.).flatten()\n",
    "    sweep_rising = np.concatenate(([vsync_rising[0]-1.], vsync_rising[between_sweep_inds]+2.))\n",
    "    sweep_falling = np.concatenate((vsync_rising[between_sweep_inds]+1., [vsync_rising[-1]+1.]))"
   ]
  },
  {
   "cell_type": "raw",
   "metadata": {},
   "source": [
    "## This was a fix for Jackie's mouse 541634, Rec1. Somehow missing the first sweep and vsync rising edges ##\n",
    "if vsync_falling[0] < vsync_rising[0]:\n",
    "    print('Missing first vsync rising edge')\n",
    "    test_rising = []\n",
    "    test_rising = np.insert(vsync_rising, 0, vsync_falling[0] - (vsync_falling[1]-vsync_rising[0]))\n",
    "    print(test_rising[0:4])\n",
    "    print(vsync_falling[0:4])\n",
    "    vsync_rising = test_rising\n",
    "    \n",
    "    between_sweep_inds = np.argwhere(np.diff(vsync_rising) > 10.).flatten()\n",
    "    sweep_rising = np.concatenate(([vsync_rising[0]-1.], vsync_rising[between_sweep_inds]+2.))\n",
    "    sweep_falling = np.concatenate((vsync_rising[between_sweep_inds]+1., [vsync_rising[-1]+1.]))"
   ]
  },
  {
   "cell_type": "raw",
   "metadata": {},
   "source": [
    "print('behavior_sweep info')\n",
    "print('number of rising/falling: %d/%d' % (len(sweep_rising), len(sweep_falling)))\n",
    "print('first rising: %f' % sweep_rising[0])\n",
    "print('first falling: %f' % sweep_falling[0])"
   ]
  },
  {
   "cell_type": "raw",
   "metadata": {},
   "source": [
    "print('behavior_vsync info')\n",
    "print('number of rising/falling: %d/%d' % (len(vsync_rising), len(vsync_falling)))\n",
    "print('first rising: %f' % vsync_rising[0])\n",
    "print('first falling: %f' % vsync_falling[0])"
   ]
  },
  {
   "cell_type": "raw",
   "metadata": {},
   "source": [
    "print('photodiode info')\n",
    "print('number of rising/falling: %d/%d' % (len(pd_rising), len(pd_falling)))\n",
    "print('first rising: %f' % pd_rising[0])\n",
    "print('first falling: %f' % pd_falling[0])"
   ]
  },
  {
   "cell_type": "raw",
   "metadata": {},
   "source": [
    "pd_falling = pd_falling[1:]"
   ]
  },
  {
   "cell_type": "raw",
   "metadata": {},
   "source": [
    "print(pd_rising[0:5])\n",
    "print(pd_falling[0:5])"
   ]
  },
  {
   "cell_type": "markdown",
   "metadata": {},
   "source": [
    "Load 'timestamp'_stimulus_log.csv"
   ]
  },
  {
   "cell_type": "raw",
   "metadata": {},
   "source": [
    "log_long = pd.read_csv(exp.stim_instruction_files['sensory'][0])\n",
    "print(len(log_long))\n",
    "log_long.head()"
   ]
  },
  {
   "cell_type": "markdown",
   "metadata": {},
   "source": [
    "Remove \"gray\" screens from log"
   ]
  },
  {
   "cell_type": "raw",
   "metadata": {},
   "source": [
    "log_long = log_long.drop(labels='time', axis='columns')\n",
    "log_long['vsync_rising'] = vsync_rising\n",
    "log_long['vsync_falling'] = vsync_falling"
   ]
  },
  {
   "cell_type": "raw",
   "metadata": {},
   "source": [
    "## if vsync edges are too long and we only need last half ##\n",
    "log_long = log_long.drop(labels='time', axis='columns')\n",
    "log_long['vsync_rising'] = vsync_rising[-len(log_long):]\n",
    "log_long['vsync_falling'] = vsync_falling[-len(log_long):]"
   ]
  },
  {
   "cell_type": "raw",
   "metadata": {},
   "source": [
    "visual_stimuli = ['fullscreen', 'circle']\n",
    "list_stim_type = []\n",
    "list_stim_param = []\n",
    "list_onset_times = []\n",
    "list_offset_times = []\n",
    "for i in range(1, len(log_long)):\n",
    "    if log_long.stim_type.iloc[i-1] == 'gray_screen' and log_long.stim_type.iloc[i] in visual_stimuli:\n",
    "        list_onset_times.append(log_long.vsync_falling.iloc[i]) # vsync_falling is visual stim onset\n",
    "        list_stim_type.append(log_long.stim_type.iloc[i])\n",
    "        list_stim_param.append(log_long.stim_parameter.iloc[i]) # to make sure order matches stim table\n",
    "    elif log_long.stim_type.iloc[i-1] in visual_stimuli and log_long.stim_type.iloc[i] == 'gray_screen':\n",
    "        list_offset_times.append(log_long.vsync_falling.iloc[i]) # gray_screen vsync_falling is visual stim offset\n",
    "    elif log_long.stim_type.iloc[i-1] == 'gray_screen' and log_long.stim_type.iloc[i] == 'auditory':\n",
    "        list_onset_times.append(log_long.vsync_rising.iloc[i]) # vsync_rising is aditory stim onset\n",
    "        list_offset_times.append(log_long.vsync_falling.iloc[i]) # vsync_falling is aditory stim offset\n",
    "        list_stim_type.append(log_long.stim_type.iloc[i])\n",
    "        list_stim_param.append(log_long.stim_parameter.iloc[i])\n",
    "stim_log = pd.DataFrame({\n",
    "    'stim_type': list_stim_type,\n",
    "    'parameter': list_stim_param,\n",
    "    'onset': list_onset_times,\n",
    "    'offset': list_offset_times\n",
    "})"
   ]
  },
  {
   "cell_type": "raw",
   "metadata": {},
   "source": [
    "print(len(stim_log))\n",
    "stim_log.head()"
   ]
  },
  {
   "cell_type": "raw",
   "metadata": {},
   "source": [
    "print(stim_log.onset.iloc[0:5])\n",
    "print(pd_rising[0:5])\n",
    "print(pd_falling[0:5])"
   ]
  },
  {
   "cell_type": "raw",
   "metadata": {},
   "source": [
    "# fix for missing photodiode pulse\n",
    "if pd_rising.shape[0] < stim_log.shape[0]:\n",
    "    print('# photodiode edges less than length of stim_log: {:d} missing'.format(stim_log.shape[0]-pd_rising.shape[0]))\n",
    "    print(np.nonzero((pd_rising - stim_log.onset.values[:pd_rising.shape[0]]) > 0.05)[0][0])\n",
    "elif pd_rising.shape[0] > stim_log.shape[0]:\n",
    "    print('# photodiode edges more than length of stim_log: {:d} too many'.format(pd_rising.shape[0]-stim_log.shape[0]))\n",
    "else:\n",
    "    print('# photodiode edges matches length of stim_log!')"
   ]
  },
  {
   "cell_type": "raw",
   "metadata": {},
   "source": [
    "# fix for missing photodiode pulse\n",
    "missing_ind = np.nonzero((pd_rising - stim_log.onset.values[:pd_rising.shape[0]]) > 0.05)[0][0]\n",
    "pd_rising = np.insert(\n",
    "    pd_rising,\n",
    "    missing_ind,\n",
    "    stim_log.onset.iloc[missing_ind]+np.mean(pd_rising[1:6] - stim_log.onset.iloc[1:6])\n",
    ")\n",
    "print(len(pd_rising))\n",
    "pd_falling = np.insert(\n",
    "    pd_falling,\n",
    "    missing_ind,\n",
    "    stim_log.offset.iloc[missing_ind]+np.mean(pd_falling[1:6] - stim_log.offset.iloc[1:6])\n",
    ")\n",
    "print(len(pd_falling))"
   ]
  },
  {
   "cell_type": "raw",
   "metadata": {},
   "source": [
    "pd_falling = pd_rising + 0.2705"
   ]
  },
  {
   "cell_type": "raw",
   "metadata": {},
   "source": [
    "## if we only have photodiode pulses for white flashes ##\n",
    "white_onsets = stim_log.loc[stim_log['parameter']=='white', 'onset'].values\n",
    "white_offsets = stim_log.loc[stim_log['parameter']=='white', 'offset'].values\n",
    "\n",
    "onset_diff = np.mean(pd_rising - white_onsets)\n",
    "offset_diff = np.mean(pd_falling - white_offsets)\n",
    "\n",
    "pd_rising = stim_log.loc[:, 'onset'].values + onset_diff\n",
    "pd_falling = stim_log.loc[:, 'offset'].values + offset_diff"
   ]
  },
  {
   "cell_type": "raw",
   "metadata": {},
   "source": [
    "np.mean(pd_falling[0:23] - stim_log.offset.iloc[0:23])"
   ]
  },
  {
   "cell_type": "raw",
   "metadata": {},
   "source": [
    "stim_log.offset.iloc[23] + 0.03627"
   ]
  },
  {
   "cell_type": "raw",
   "metadata": {},
   "source": [
    "print(stim_log.onset.iloc[21:26])\n",
    "print(pd_rising[21:26])\n",
    "print(pd_falling[21:26])"
   ]
  },
  {
   "cell_type": "raw",
   "metadata": {},
   "source": [
    "print(pd_falling[0:5]-pd_rising[0:5])\n",
    "print(stim_log.offset.iloc[0:5]-stim_log.onset.iloc[0:5])"
   ]
  },
  {
   "cell_type": "markdown",
   "metadata": {},
   "source": [
    "Correct onset and offset times using photodiode rising and falling times"
   ]
  },
  {
   "cell_type": "raw",
   "metadata": {},
   "source": [
    "stim_log['onset'] = pd_rising\n",
    "stim_log['offset'] = pd_falling\n",
    "stim_log['duration'] = stim_log['offset'] - stim_log['onset']\n",
    "stim_log.head()"
   ]
  },
  {
   "cell_type": "raw",
   "metadata": {},
   "source": [
    "## if photodiode edges are too long and we only need last half ##\n",
    "stim_log['onset'] = pd_rising[-len(stim_log):]\n",
    "stim_log['offset'] = pd_falling[-len(stim_log):]\n",
    "stim_log['duration'] = stim_log['offset'] - stim_log['onset']\n",
    "stim_log.head()"
   ]
  },
  {
   "cell_type": "raw",
   "metadata": {},
   "source": [
    "stim_log['sweep'] = np.zeros(len(stim_log), dtype=int) - 1\n",
    "for i in range(len(sweep_rising)):\n",
    "    # print('Sweep %d: %f to %f' % (i, sweep_start, sweep_end))\n",
    "    stim_log.loc[(stim_log['onset'] > sweep_rising[i]) & (stim_log['onset'] < sweep_falling[i]), 'sweep'] = i"
   ]
  },
  {
   "cell_type": "raw",
   "metadata": {},
   "source": [
    "stim_log[0:28]"
   ]
  },
  {
   "cell_type": "markdown",
   "metadata": {},
   "source": [
    "## Opto stim"
   ]
  },
  {
   "cell_type": "markdown",
   "metadata": {},
   "source": [
    "#### Get opto onset times from sync data"
   ]
  },
  {
   "cell_type": "raw",
   "metadata": {},
   "source": [
    "# opto_sweep\n",
    "opto_sweep_rising = sync_data.get_edges(keys=('opto_sweep',), kind='rising', units='seconds')\n",
    "opto_sweep_falling = sync_data.get_edges(keys=('opto_sweep',), kind='falling', units='seconds')\n",
    "# opto_trial\n",
    "opto_trial_rising = sync_data.get_edges(keys=('opto_trial',), kind='rising', units='seconds')\n",
    "opto_trial_falling = sync_data.get_edges(keys=('opto_trial',), kind='falling', units='seconds')"
   ]
  },
  {
   "cell_type": "raw",
   "metadata": {},
   "source": [
    "print('opto_sweep info')\n",
    "print('number of rising/falling: %d/%d' % (len(opto_sweep_rising), len(opto_sweep_falling)))\n",
    "print('first rising: %f' % opto_sweep_rising[0])\n",
    "print('first falling: %f' % opto_sweep_falling[0])"
   ]
  },
  {
   "cell_type": "raw",
   "metadata": {},
   "source": [
    "print('opto_trial info')\n",
    "print('number of rising/falling: %d/%d' % (len(opto_trial_rising), len(opto_trial_falling)))\n",
    "print('first rising: %f' % opto_trial_rising[0])\n",
    "print('first falling: %f' % opto_trial_falling[0])"
   ]
  },
  {
   "cell_type": "markdown",
   "metadata": {},
   "source": [
    "print(opto_trial_falling - opto_trial_rising)\n",
    "<br> The rising/falling edges here do not capture the actual duration of each stimulus."
   ]
  },
  {
   "cell_type": "markdown",
   "metadata": {},
   "source": [
    "#### Read opto.pkl file"
   ]
  },
  {
   "cell_type": "raw",
   "metadata": {},
   "source": [
    "print(len(exp.stim_instruction_files['opto']))"
   ]
  },
  {
   "cell_type": "raw",
   "metadata": {},
   "source": [
    "if len(exp.stim_instruction_files['opto']) > 1:\n",
    "    opto_data = pd.read_pickle(exp.stim_instruction_files['opto'][0])\n",
    "    for oo in exp.stim_instruction_files['opto'][1:]:\n",
    "        temp_opto_data = pd.read_pickle(oo)\n",
    "        opto_data['opto_ISIs'] = np.hstack(\n",
    "            [opto_data['opto_ISIs'],\n",
    "             temp_opto_data['opto_ISIs']]\n",
    "        )\n",
    "        opto_data['opto_conditions'] = np.hstack(\n",
    "            [opto_data['opto_conditions'],\n",
    "             temp_opto_data['opto_conditions']]\n",
    "        )\n",
    "        opto_data['opto_levels'] = np.hstack(\n",
    "            [opto_data['opto_levels'],\n",
    "             temp_opto_data['opto_levels']]\n",
    "        )\n",
    "else:\n",
    "    opto_data = pd.read_pickle(exp.stim_instruction_files['opto'][0])"
   ]
  },
  {
   "cell_type": "raw",
   "metadata": {},
   "source": [
    "## opto_conditions = condition of each trial, typically [0=5ms, 1=20hz, 2=40hz, 3=500ms]\n",
    "opto_conditions = opto_data['opto_conditions']\n",
    "print(opto_conditions[0:10])\n",
    "print(len(opto_conditions))"
   ]
  },
  {
   "cell_type": "raw",
   "metadata": {},
   "source": [
    "## opto_waveforms = waveforms passed to the LED for each condition\n",
    "opto_waveforms = opto_data['opto_waveforms']\n",
    "fig=plt.figure()\n",
    "for ii in range(len(opto_waveforms)):\n",
    "    ax=plt.subplot(len(opto_waveforms),1,ii+1)\n",
    "    ax.plot(opto_waveforms[ii])\n",
    "    ax.set_title('condition '+str(ii))\n",
    "    \n",
    "fig.tight_layout()"
   ]
  },
  {
   "cell_type": "markdown",
   "metadata": {},
   "source": [
    "Make a dict to define the conditions"
   ]
  },
  {
   "cell_type": "raw",
   "metadata": {},
   "source": [
    "condition_names = {\n",
    "    0: '5ms',\n",
    "    1: '20hz',\n",
    "    2: '40hz',\n",
    "    3: '500ms',\n",
    "}"
   ]
  },
  {
   "cell_type": "raw",
   "metadata": {},
   "source": [
    "condition_durs = {\n",
    "    0: 0.005,\n",
    "    1: 0.5,\n",
    "    2: 0.5,\n",
    "    3: 0.5,\n",
    "}"
   ]
  },
  {
   "cell_type": "markdown",
   "metadata": {},
   "source": [
    "Create the opto stim log"
   ]
  },
  {
   "cell_type": "raw",
   "metadata": {},
   "source": [
    "if len(opto_conditions) == len(opto_trial_rising):\n",
    "    opto_log = pd.DataFrame({\n",
    "        'stim_type': ['opto'] * len(opto_conditions),\n",
    "        'parameter': [condition_names[x] for x in opto_conditions],\n",
    "        'onset': opto_trial_rising,\n",
    "        'offset': [np.nan] * len(opto_conditions),\n",
    "        'duration': [condition_durs[x] for x in opto_conditions],\n",
    "    })\n",
    "else:\n",
    "    print('Number of rising edges in opto_trial does not equal number of trials in opto.pkl.')"
   ]
  },
  {
   "cell_type": "markdown",
   "metadata": {},
   "source": [
    "Add sweep number"
   ]
  },
  {
   "cell_type": "raw",
   "metadata": {},
   "source": [
    "opto_log['sweep'] = np.zeros(len(opto_log), dtype=int) - 1\n",
    "for i in range(len(opto_sweep_rising)):\n",
    "    # print('Sweep %d: %f to %f' % (i, sweep_start, sweep_end))\n",
    "    opto_log.loc[(opto_log['onset'] >= opto_sweep_rising[i]) & (opto_log['onset'] <= opto_sweep_falling[i]), 'sweep'] = i"
   ]
  },
  {
   "cell_type": "raw",
   "metadata": {},
   "source": [
    "opto_log.head()"
   ]
  },
  {
   "cell_type": "markdown",
   "metadata": {},
   "source": [
    "## Combine logs into all_stim_log, sorted by onset times."
   ]
  },
  {
   "cell_type": "raw",
   "metadata": {},
   "source": [
    "all_stim_log = pd.concat([stim_log], axis=0, sort=False).sort_values(by='onset', axis=0)"
   ]
  },
  {
   "cell_type": "raw",
   "metadata": {},
   "source": [
    "all_stim_log.head()"
   ]
  },
  {
   "cell_type": "markdown",
   "metadata": {},
   "source": [
    "## Save file to test whether index matters..."
   ]
  },
  {
   "cell_type": "raw",
   "metadata": {},
   "source": [
    "all_stim_log.to_csv(exp.stimulus_log_file, index=False)"
   ]
  },
  {
   "cell_type": "markdown",
   "metadata": {},
   "source": [
    "### Load file to see index"
   ]
  },
  {
   "cell_type": "raw",
   "metadata": {},
   "source": [
    "test_log = pd.read_csv(exp.stimulus_log_file)\n",
    "test_log[75:90]"
   ]
  },
  {
   "cell_type": "raw",
   "metadata": {},
   "source": [
    "type(test_log.parameter.iloc[45])"
   ]
  },
  {
   "cell_type": "raw",
   "metadata": {},
   "source": [
    "print(test_log.parameter.iloc[45]=='55')"
   ]
  },
  {
   "cell_type": "markdown",
   "metadata": {},
   "source": [
    "Hmm...combining the logs forces the amplitude to be a string..."
   ]
  },
  {
   "cell_type": "code",
   "execution_count": null,
   "metadata": {},
   "outputs": [],
   "source": []
  }
 ],
 "metadata": {
  "kernelspec": {
   "display_name": "tbd1",
   "language": "python",
   "name": "tbd1"
  },
  "language_info": {
   "codemirror_mode": {
    "name": "ipython",
    "version": 3
   },
   "file_extension": ".py",
   "mimetype": "text/x-python",
   "name": "python",
   "nbconvert_exporter": "python",
   "pygments_lexer": "ipython3",
   "version": "3.7.13"
  }
 },
 "nbformat": 4,
 "nbformat_minor": 2
}
