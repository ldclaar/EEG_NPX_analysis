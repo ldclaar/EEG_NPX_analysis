{
 "cells": [
  {
   "cell_type": "markdown",
   "metadata": {},
   "source": [
    "Updated April 2024, works for regular estim protocols (not trains) and old/new visual stim logs (circles and natural scenes)."
   ]
  },
  {
   "cell_type": "code",
   "execution_count": 1,
   "metadata": {},
   "outputs": [],
   "source": [
    "import io\n",
    "import sys\n",
    "import datetime\n",
    "import numpy as np\n",
    "import pandas as pd\n",
    "import matplotlib.pyplot as plt\n",
    "from glob import glob\n",
    "import copy\n",
    "import time"
   ]
  },
  {
   "cell_type": "code",
   "execution_count": 2,
   "metadata": {},
   "outputs": [],
   "source": [
    "sys.path.append(r'C:\\Users\\lesliec\\code')"
   ]
  },
  {
   "cell_type": "code",
   "execution_count": 3,
   "metadata": {},
   "outputs": [],
   "source": [
    "from tbd_eeg.tbd_eeg.data_analysis.eegutils import EEGexp"
   ]
  },
  {
   "cell_type": "code",
   "execution_count": 4,
   "metadata": {},
   "outputs": [],
   "source": [
    "%matplotlib notebook"
   ]
  },
  {
   "cell_type": "markdown",
   "metadata": {},
   "source": [
    "## Load data"
   ]
  },
  {
   "cell_type": "code",
   "execution_count": 5,
   "metadata": {},
   "outputs": [
    {
     "name": "stdout",
     "output_type": "stream",
     "text": [
      "Experiment type: electrical stimulation\n"
     ]
    }
   ],
   "source": [
    "# rec_folder = r'F:\\testing\\mouse000000\\old_test_2023-09-07_14-07-36\\experiment1\\recording1' # old log style\n",
    "rec_folder = r'V:\\mouse730911\\aw_stim_train_2024-05-03_10-33-23\\experiment1\\recording1'\n",
    "exp = EEGexp(rec_folder, preprocess=False, make_stim_csv=False)"
   ]
  },
  {
   "cell_type": "code",
   "execution_count": 6,
   "metadata": {},
   "outputs": [],
   "source": [
    "sync_data = exp._load_sync_dataset()"
   ]
  },
  {
   "cell_type": "markdown",
   "metadata": {},
   "source": [
    "# Estim log"
   ]
  },
  {
   "cell_type": "code",
   "execution_count": 7,
   "metadata": {},
   "outputs": [],
   "source": [
    "esweep_rising = sync_data.get_edges(keys=('estim_sweep',), kind='rising', units='seconds')\n",
    "esweep_falling = sync_data.get_edges(keys=('estim_sweep',), kind='falling', units='seconds')\n",
    "esync_rising = sync_data.get_edges(keys=('estim_sync',), kind='rising', units='seconds')\n",
    "esync_falling = sync_data.get_edges(keys=('estim_sync',), kind='falling', units='seconds')"
   ]
  },
  {
   "cell_type": "code",
   "execution_count": 8,
   "metadata": {},
   "outputs": [
    {
     "name": "stdout",
     "output_type": "stream",
     "text": [
      "Total e-stim trials: 150\n",
      "Number of e-stim sweeps: 2\n",
      "Trials per sweep: 75\n"
     ]
    }
   ],
   "source": [
    "total_trials = len(esync_rising)\n",
    "print('Total e-stim trials: %d' % total_trials)\n",
    "num_sweeps = len(esweep_rising)\n",
    "print('Number of e-stim sweeps: %d' % num_sweeps)\n",
    "trials_per_sweep = int(total_trials / num_sweeps)\n",
    "print('Trials per sweep: %d' % trials_per_sweep)"
   ]
  },
  {
   "cell_type": "markdown",
   "metadata": {},
   "source": [
    "#### Read multichannel systems stim file"
   ]
  },
  {
   "cell_type": "code",
   "execution_count": 9,
   "metadata": {},
   "outputs": [
    {
     "name": "stdout",
     "output_type": "stream",
     "text": [
      "['V:\\\\mouse730911\\\\aw_stim_train_2024-05-03_10-33-23\\\\experiment1\\\\recording1\\\\stimulation_protocol_1pulse_50tr_25uA_6.5-7.5_ISI.txt', 'V:\\\\mouse730911\\\\aw_stim_train_2024-05-03_10-33-23\\\\experiment1\\\\recording1\\\\stimulation_protocol_2pulse_50tr_25uA_6.5-7.5_ISI.txt']\n"
     ]
    }
   ],
   "source": [
    "print(exp.stim_instruction_files['electrical'])"
   ]
  },
  {
   "cell_type": "code",
   "execution_count": 19,
   "metadata": {},
   "outputs": [],
   "source": [
    "with open(exp.stim_instruction_files['electrical'][0]) as file:\n",
    "    estim_txt = file.read() # open estim file and read in text\n",
    "estim = estim_txt.split('channel:') # split and read txt file\n",
    "d = {}\n",
    "for item in estim:\n",
    "    if 'value' in item:\n",
    "        key = 'channel'+str(item[1])\n",
    "        d[key]=item.split('\\n')\n",
    "channel1 = d['channel1'][1:]\n",
    "ch1_df = pd.read_csv(io.StringIO('\\n'.join(channel1)), delim_whitespace=True)"
   ]
  },
  {
   "cell_type": "code",
   "execution_count": 21,
   "metadata": {},
   "outputs": [
    {
     "data": {
      "text/html": [
       "<div>\n",
       "<style scoped>\n",
       "    .dataframe tbody tr th:only-of-type {\n",
       "        vertical-align: middle;\n",
       "    }\n",
       "\n",
       "    .dataframe tbody tr th {\n",
       "        vertical-align: top;\n",
       "    }\n",
       "\n",
       "    .dataframe thead th {\n",
       "        text-align: right;\n",
       "    }\n",
       "</style>\n",
       "<table border=\"1\" class=\"dataframe\">\n",
       "  <thead>\n",
       "    <tr style=\"text-align: right;\">\n",
       "      <th></th>\n",
       "      <th>value</th>\n",
       "      <th>time</th>\n",
       "    </tr>\n",
       "  </thead>\n",
       "  <tbody>\n",
       "    <tr>\n",
       "      <th>0</th>\n",
       "      <td>-25</td>\n",
       "      <td>200.0</td>\n",
       "    </tr>\n",
       "    <tr>\n",
       "      <th>1</th>\n",
       "      <td>25</td>\n",
       "      <td>200.0</td>\n",
       "    </tr>\n",
       "    <tr>\n",
       "      <th>2</th>\n",
       "      <td>0</td>\n",
       "      <td>200000.0</td>\n",
       "    </tr>\n",
       "    <tr>\n",
       "      <th>3</th>\n",
       "      <td>0</td>\n",
       "      <td>6801455.0</td>\n",
       "    </tr>\n",
       "    <tr>\n",
       "      <th>4</th>\n",
       "      <td>-25</td>\n",
       "      <td>200.0</td>\n",
       "    </tr>\n",
       "    <tr>\n",
       "      <th>5</th>\n",
       "      <td>25</td>\n",
       "      <td>200.0</td>\n",
       "    </tr>\n",
       "    <tr>\n",
       "      <th>6</th>\n",
       "      <td>0</td>\n",
       "      <td>200000.0</td>\n",
       "    </tr>\n",
       "    <tr>\n",
       "      <th>7</th>\n",
       "      <td>0</td>\n",
       "      <td>7201099.0</td>\n",
       "    </tr>\n",
       "    <tr>\n",
       "      <th>8</th>\n",
       "      <td>-25</td>\n",
       "      <td>200.0</td>\n",
       "    </tr>\n",
       "    <tr>\n",
       "      <th>9</th>\n",
       "      <td>25</td>\n",
       "      <td>200.0</td>\n",
       "    </tr>\n",
       "  </tbody>\n",
       "</table>\n",
       "</div>"
      ],
      "text/plain": [
       "   value       time\n",
       "0    -25      200.0\n",
       "1     25      200.0\n",
       "2      0   200000.0\n",
       "3      0  6801455.0\n",
       "4    -25      200.0\n",
       "5     25      200.0\n",
       "6      0   200000.0\n",
       "7      0  7201099.0\n",
       "8    -25      200.0\n",
       "9     25      200.0"
      ]
     },
     "execution_count": 21,
     "metadata": {},
     "output_type": "execute_result"
    }
   ],
   "source": [
    "ch1_df[:10]"
   ]
  },
  {
   "cell_type": "code",
   "execution_count": 16,
   "metadata": {},
   "outputs": [],
   "source": [
    "list_stim_type = []\n",
    "list_stim_amp = []\n",
    "list_stim_dur = []\n",
    "for i in range(1, len(ch1_df)):\n",
    "    if ch1_df.value.iloc[i-1] < 0 and ch1_df.value.iloc[i] > 0:\n",
    "        list_stim_type.append('biphasic')\n",
    "        list_stim_amp.append(ch1_df.value.iloc[i])\n",
    "        list_stim_dur.append(ch1_df.time.iloc[i-1] + ch1_df.time.iloc[i])\n",
    "estim_log = pd.DataFrame({\n",
    "    'stim_type': list_stim_type,\n",
    "    'parameter': list_stim_amp,\n",
    "    'duration': np.array(list_stim_dur) * 1e-6\n",
    "})"
   ]
  },
  {
   "cell_type": "code",
   "execution_count": 17,
   "metadata": {},
   "outputs": [
    {
     "name": "stdout",
     "output_type": "stream",
     "text": [
      "100\n"
     ]
    },
    {
     "data": {
      "text/html": [
       "<div>\n",
       "<style scoped>\n",
       "    .dataframe tbody tr th:only-of-type {\n",
       "        vertical-align: middle;\n",
       "    }\n",
       "\n",
       "    .dataframe tbody tr th {\n",
       "        vertical-align: top;\n",
       "    }\n",
       "\n",
       "    .dataframe thead th {\n",
       "        text-align: right;\n",
       "    }\n",
       "</style>\n",
       "<table border=\"1\" class=\"dataframe\">\n",
       "  <thead>\n",
       "    <tr style=\"text-align: right;\">\n",
       "      <th></th>\n",
       "      <th>stim_type</th>\n",
       "      <th>parameter</th>\n",
       "      <th>duration</th>\n",
       "    </tr>\n",
       "  </thead>\n",
       "  <tbody>\n",
       "    <tr>\n",
       "      <th>0</th>\n",
       "      <td>biphasic</td>\n",
       "      <td>25</td>\n",
       "      <td>0.0004</td>\n",
       "    </tr>\n",
       "    <tr>\n",
       "      <th>1</th>\n",
       "      <td>biphasic</td>\n",
       "      <td>25</td>\n",
       "      <td>0.0004</td>\n",
       "    </tr>\n",
       "    <tr>\n",
       "      <th>2</th>\n",
       "      <td>biphasic</td>\n",
       "      <td>25</td>\n",
       "      <td>0.0004</td>\n",
       "    </tr>\n",
       "    <tr>\n",
       "      <th>3</th>\n",
       "      <td>biphasic</td>\n",
       "      <td>25</td>\n",
       "      <td>0.0004</td>\n",
       "    </tr>\n",
       "    <tr>\n",
       "      <th>4</th>\n",
       "      <td>biphasic</td>\n",
       "      <td>25</td>\n",
       "      <td>0.0004</td>\n",
       "    </tr>\n",
       "  </tbody>\n",
       "</table>\n",
       "</div>"
      ],
      "text/plain": [
       "  stim_type  parameter  duration\n",
       "0  biphasic         25    0.0004\n",
       "1  biphasic         25    0.0004\n",
       "2  biphasic         25    0.0004\n",
       "3  biphasic         25    0.0004\n",
       "4  biphasic         25    0.0004"
      ]
     },
     "execution_count": 17,
     "metadata": {},
     "output_type": "execute_result"
    }
   ],
   "source": [
    "print(len(estim_log))\n",
    "estim_log.head()"
   ]
  },
  {
   "cell_type": "code",
   "execution_count": 22,
   "metadata": {},
   "outputs": [
    {
     "name": "stdout",
     "output_type": "stream",
     "text": [
      "estim_log does not match total_trials / num_sweeps\n"
     ]
    }
   ],
   "source": [
    "if len(estim_log) == trials_per_sweep:\n",
    "    estim_log = pd.concat([estim_log] * num_sweeps, axis='index', ignore_index=True)\n",
    "else:\n",
    "    print('estim_log does not match total_trials / num_sweeps')"
   ]
  },
  {
   "cell_type": "code",
   "execution_count": null,
   "metadata": {},
   "outputs": [],
   "source": [
    "estim_log['onset'] = esync_rising\n",
    "estim_log['offset'] = esync_falling"
   ]
  },
  {
   "cell_type": "code",
   "execution_count": null,
   "metadata": {},
   "outputs": [],
   "source": [
    "estim_log['sweep'] = np.zeros(len(estim_log), dtype=int) - 1\n",
    "for i in range(len(esweep_rising)):\n",
    "    # print('Sweep %d: %f to %f' % (i, sweep_start, sweep_end))\n",
    "    estim_log.loc[(estim_log['onset'] >= esweep_rising[i]-5) & (estim_log['onset'] <= esweep_falling[i]+2), 'sweep'] = i"
   ]
  },
  {
   "cell_type": "code",
   "execution_count": null,
   "metadata": {},
   "outputs": [],
   "source": [
    "estim_log.head()"
   ]
  },
  {
   "cell_type": "code",
   "execution_count": null,
   "metadata": {},
   "outputs": [],
   "source": []
  },
  {
   "cell_type": "markdown",
   "metadata": {},
   "source": [
    "# Sensory stim"
   ]
  },
  {
   "cell_type": "markdown",
   "metadata": {},
   "source": [
    "#### Set parameters and load sync file"
   ]
  },
  {
   "cell_type": "code",
   "execution_count": 6,
   "metadata": {},
   "outputs": [],
   "source": [
    "VISUAL_STIMULI = ['fullscreen', 'circle', 'natural_scene']"
   ]
  },
  {
   "cell_type": "code",
   "execution_count": 7,
   "metadata": {},
   "outputs": [],
   "source": [
    "sweep_rising = sync_data.get_edges(keys=('behavior_sweep',), kind='rising', units='seconds')\n",
    "sweep_falling = sync_data.get_edges(keys=('behavior_sweep',), kind='falling', units='seconds')\n",
    "\n",
    "vsync_rising = sync_data.get_edges(keys=('behavior_vsync',), kind='rising', units='seconds')\n",
    "vsync_falling = sync_data.get_edges(keys=('behavior_vsync',), kind='falling', units='seconds')\n",
    "\n",
    "pd_rising = sync_data.get_edges(keys=('photodiode',), kind='rising', units='seconds')\n",
    "pd_falling = sync_data.get_edges(keys=('photodiode',), kind='falling', units='seconds')\n",
    "\n",
    "if len(sweep_rising) == 0:\n",
    "    between_sweep_inds = np.argwhere(np.diff(vsync_rising) > 10.).flatten()\n",
    "    sweep_rising = np.concatenate(([vsync_rising[0]-1.], vsync_rising[between_sweep_inds+1]-1.))\n",
    "    sweep_falling = np.concatenate((vsync_falling[between_sweep_inds]+1., [vsync_falling[-1]+1.]))"
   ]
  },
  {
   "cell_type": "markdown",
   "metadata": {},
   "source": [
    "#### Load experiment log file"
   ]
  },
  {
   "cell_type": "code",
   "execution_count": 8,
   "metadata": {},
   "outputs": [
    {
     "data": {
      "text/html": [
       "<div>\n",
       "<style scoped>\n",
       "    .dataframe tbody tr th:only-of-type {\n",
       "        vertical-align: middle;\n",
       "    }\n",
       "\n",
       "    .dataframe tbody tr th {\n",
       "        vertical-align: top;\n",
       "    }\n",
       "\n",
       "    .dataframe thead th {\n",
       "        text-align: right;\n",
       "    }\n",
       "</style>\n",
       "<table border=\"1\" class=\"dataframe\">\n",
       "  <thead>\n",
       "    <tr style=\"text-align: right;\">\n",
       "      <th></th>\n",
       "      <th>stim_type</th>\n",
       "      <th>parameter</th>\n",
       "      <th>ISI</th>\n",
       "      <th>duration</th>\n",
       "      <th>imtrial.thisRepN</th>\n",
       "      <th>imtrial.thisTrialN</th>\n",
       "      <th>imtrial.thisN</th>\n",
       "      <th>imtrial.thisIndex</th>\n",
       "      <th>thisRow.t</th>\n",
       "      <th>notes</th>\n",
       "      <th>trialStim.started</th>\n",
       "      <th>trialStim.stopped</th>\n",
       "      <th>Unnamed: 12</th>\n",
       "    </tr>\n",
       "  </thead>\n",
       "  <tbody>\n",
       "    <tr>\n",
       "      <th>0</th>\n",
       "      <td>natural_scene</td>\n",
       "      <td>97</td>\n",
       "      <td>2.412221</td>\n",
       "      <td>1.0</td>\n",
       "      <td>0</td>\n",
       "      <td>0</td>\n",
       "      <td>0</td>\n",
       "      <td>0</td>\n",
       "      <td>NaN</td>\n",
       "      <td>NaN</td>\n",
       "      <td>5.129218</td>\n",
       "      <td>6.143125</td>\n",
       "      <td>NaN</td>\n",
       "    </tr>\n",
       "    <tr>\n",
       "      <th>1</th>\n",
       "      <td>natural_scene</td>\n",
       "      <td>59</td>\n",
       "      <td>2.274849</td>\n",
       "      <td>0.2</td>\n",
       "      <td>0</td>\n",
       "      <td>1</td>\n",
       "      <td>1</td>\n",
       "      <td>1</td>\n",
       "      <td>NaN</td>\n",
       "      <td>NaN</td>\n",
       "      <td>8.514028</td>\n",
       "      <td>8.728835</td>\n",
       "      <td>NaN</td>\n",
       "    </tr>\n",
       "    <tr>\n",
       "      <th>2</th>\n",
       "      <td>natural_scene</td>\n",
       "      <td>107</td>\n",
       "      <td>2.489749</td>\n",
       "      <td>0.2</td>\n",
       "      <td>0</td>\n",
       "      <td>2</td>\n",
       "      <td>2</td>\n",
       "      <td>2</td>\n",
       "      <td>NaN</td>\n",
       "      <td>NaN</td>\n",
       "      <td>10.973845</td>\n",
       "      <td>11.180777</td>\n",
       "      <td>NaN</td>\n",
       "    </tr>\n",
       "    <tr>\n",
       "      <th>3</th>\n",
       "      <td>natural_scene</td>\n",
       "      <td>60</td>\n",
       "      <td>2.895042</td>\n",
       "      <td>1.0</td>\n",
       "      <td>0</td>\n",
       "      <td>3</td>\n",
       "      <td>3</td>\n",
       "      <td>3</td>\n",
       "      <td>NaN</td>\n",
       "      <td>NaN</td>\n",
       "      <td>13.668874</td>\n",
       "      <td>14.683870</td>\n",
       "      <td>NaN</td>\n",
       "    </tr>\n",
       "    <tr>\n",
       "      <th>4</th>\n",
       "      <td>natural_scene</td>\n",
       "      <td>71</td>\n",
       "      <td>2.665113</td>\n",
       "      <td>0.5</td>\n",
       "      <td>0</td>\n",
       "      <td>4</td>\n",
       "      <td>4</td>\n",
       "      <td>4</td>\n",
       "      <td>NaN</td>\n",
       "      <td>NaN</td>\n",
       "      <td>17.547715</td>\n",
       "      <td>18.053506</td>\n",
       "      <td>NaN</td>\n",
       "    </tr>\n",
       "  </tbody>\n",
       "</table>\n",
       "</div>"
      ],
      "text/plain": [
       "       stim_type  parameter       ISI  duration  imtrial.thisRepN  \\\n",
       "0  natural_scene         97  2.412221       1.0                 0   \n",
       "1  natural_scene         59  2.274849       0.2                 0   \n",
       "2  natural_scene        107  2.489749       0.2                 0   \n",
       "3  natural_scene         60  2.895042       1.0                 0   \n",
       "4  natural_scene         71  2.665113       0.5                 0   \n",
       "\n",
       "   imtrial.thisTrialN  imtrial.thisN  imtrial.thisIndex  thisRow.t  notes  \\\n",
       "0                   0              0                  0        NaN    NaN   \n",
       "1                   1              1                  1        NaN    NaN   \n",
       "2                   2              2                  2        NaN    NaN   \n",
       "3                   3              3                  3        NaN    NaN   \n",
       "4                   4              4                  4        NaN    NaN   \n",
       "\n",
       "   trialStim.started  trialStim.stopped  Unnamed: 12  \n",
       "0           5.129218           6.143125          NaN  \n",
       "1           8.514028           8.728835          NaN  \n",
       "2          10.973845          11.180777          NaN  \n",
       "3          13.668874          14.683870          NaN  \n",
       "4          17.547715          18.053506          NaN  "
      ]
     },
     "execution_count": 8,
     "metadata": {},
     "output_type": "execute_result"
    }
   ],
   "source": [
    "explogfile = pd.read_csv(exp.stim_instruction_files['sensory'][0])\n",
    "explogfile.head()"
   ]
  },
  {
   "cell_type": "code",
   "execution_count": 9,
   "metadata": {},
   "outputs": [
    {
     "name": "stdout",
     "output_type": "stream",
     "text": [
      "This is the new style log\n"
     ]
    }
   ],
   "source": [
    "if 'display_stim' in list(explogfile.columns):\n",
    "    print('This is the old style log')\n",
    "    explogfile = explogfile.drop(labels='time', axis=1)\n",
    "\n",
    "    ## Remove gray screen from log ##\n",
    "    list_stim_type = []\n",
    "    list_stim_param = []\n",
    "    for i in range(1, len(explogfile)):\n",
    "        if explogfile.stim_type.iloc[i-1] == 'gray_screen' and explogfile.stim_type.iloc[i] in VISUAL_STIMULI:\n",
    "            list_stim_type.append(explogfile.stim_type.iloc[i])\n",
    "            list_stim_param.append(explogfile.stim_parameter.iloc[i]) # to make sure order matches stim table\n",
    "    stim_log = pd.DataFrame({\n",
    "        'stim_type': list_stim_type,\n",
    "        'parameter': list_stim_param,\n",
    "    })\n",
    "    \n",
    "elif 'ISI' in list(explogfile.columns):\n",
    "    print('This is the new style log')\n",
    "    \n",
    "    stim_log = explogfile.drop(\n",
    "        labels=[\n",
    "            'imtrial.thisRepN','imtrial.thisTrialN','imtrial.thisN','imtrial.thisIndex','thisRow.t','notes',\n",
    "            'trialStim.started','trialStim.stopped','Unnamed: 12'\n",
    "        ], axis=1\n",
    "    )\n",
    "    \n",
    "else:\n",
    "    print(\"Uh oh, tbd_eeg does not understand this log file.\")"
   ]
  },
  {
   "cell_type": "markdown",
   "metadata": {},
   "source": [
    "#### Add photodiode times as onsets/offsets (if available)"
   ]
  },
  {
   "cell_type": "code",
   "execution_count": 10,
   "metadata": {},
   "outputs": [],
   "source": [
    "if pd_rising.shape[0] == stim_log.shape[0]:\n",
    "    stim_log['onset'] = pd_rising\n",
    "    if pd_falling.shape[0] == stim_log.shape[0]:\n",
    "        stim_log['offset'] = pd_falling\n",
    "    else:\n",
    "        print('Number of photodiode offsets does not match number of stimuli; estimating offsets.')\n",
    "        stim_log['offset'] = stim_log['onset'] + stim_log['duration']\n",
    "elif vsync_rising.shape[0] == stim_log.shape[0]:\n",
    "    print('Number of photodiode onsets does not match number of stimuli; using vsync times instead (these are typically 50 ms early).')\n",
    "    stim_log['onset'] = vsync_rising\n",
    "    stim_log['offset'] = vsync_falling\n",
    "else:\n",
    "    print('Number of photodiode and vsync pulses do not match number of stimuli; manual stim_log creation is needed.')"
   ]
  },
  {
   "cell_type": "markdown",
   "metadata": {},
   "source": [
    "#### Add duration (for old log) and sweep number"
   ]
  },
  {
   "cell_type": "code",
   "execution_count": 11,
   "metadata": {},
   "outputs": [
    {
     "name": "stdout",
     "output_type": "stream",
     "text": [
      "New log already has duration.\n"
     ]
    }
   ],
   "source": [
    "if 'duration' not in list(explogfile.columns):\n",
    "    stim_log['duration'] = stim_log['offset'] - stim_log['onset']\n",
    "else:\n",
    "    print('New log already has duration.')"
   ]
  },
  {
   "cell_type": "code",
   "execution_count": 12,
   "metadata": {},
   "outputs": [],
   "source": [
    "stim_log['sweep'] = np.zeros(len(stim_log), dtype=int) - 1\n",
    "for i in range(len(sweep_rising)):\n",
    "    # print('Sweep %d: %f to %f' % (i, sweep_start, sweep_end))\n",
    "    stim_log.loc[(stim_log['onset'] > sweep_rising[i]) & (stim_log['onset'] < sweep_falling[i]), 'sweep'] = i"
   ]
  },
  {
   "cell_type": "markdown",
   "metadata": {},
   "source": [
    "#### Check it"
   ]
  },
  {
   "cell_type": "code",
   "execution_count": 13,
   "metadata": {},
   "outputs": [
    {
     "data": {
      "text/html": [
       "<div>\n",
       "<style scoped>\n",
       "    .dataframe tbody tr th:only-of-type {\n",
       "        vertical-align: middle;\n",
       "    }\n",
       "\n",
       "    .dataframe tbody tr th {\n",
       "        vertical-align: top;\n",
       "    }\n",
       "\n",
       "    .dataframe thead th {\n",
       "        text-align: right;\n",
       "    }\n",
       "</style>\n",
       "<table border=\"1\" class=\"dataframe\">\n",
       "  <thead>\n",
       "    <tr style=\"text-align: right;\">\n",
       "      <th></th>\n",
       "      <th>stim_type</th>\n",
       "      <th>parameter</th>\n",
       "      <th>ISI</th>\n",
       "      <th>duration</th>\n",
       "      <th>onset</th>\n",
       "      <th>offset</th>\n",
       "      <th>sweep</th>\n",
       "    </tr>\n",
       "  </thead>\n",
       "  <tbody>\n",
       "    <tr>\n",
       "      <th>0</th>\n",
       "      <td>natural_scene</td>\n",
       "      <td>97</td>\n",
       "      <td>2.412221</td>\n",
       "      <td>1.0</td>\n",
       "      <td>18.05894</td>\n",
       "      <td>19.06041</td>\n",
       "      <td>0</td>\n",
       "    </tr>\n",
       "    <tr>\n",
       "      <th>1</th>\n",
       "      <td>natural_scene</td>\n",
       "      <td>59</td>\n",
       "      <td>2.274849</td>\n",
       "      <td>0.2</td>\n",
       "      <td>21.44512</td>\n",
       "      <td>21.64591</td>\n",
       "      <td>0</td>\n",
       "    </tr>\n",
       "    <tr>\n",
       "      <th>2</th>\n",
       "      <td>natural_scene</td>\n",
       "      <td>107</td>\n",
       "      <td>2.489749</td>\n",
       "      <td>0.2</td>\n",
       "      <td>23.89716</td>\n",
       "      <td>24.09797</td>\n",
       "      <td>0</td>\n",
       "    </tr>\n",
       "    <tr>\n",
       "      <th>3</th>\n",
       "      <td>natural_scene</td>\n",
       "      <td>60</td>\n",
       "      <td>2.895042</td>\n",
       "      <td>1.0</td>\n",
       "      <td>26.59942</td>\n",
       "      <td>27.60087</td>\n",
       "      <td>0</td>\n",
       "    </tr>\n",
       "    <tr>\n",
       "      <th>4</th>\n",
       "      <td>natural_scene</td>\n",
       "      <td>71</td>\n",
       "      <td>2.665113</td>\n",
       "      <td>0.5</td>\n",
       "      <td>30.46932</td>\n",
       "      <td>30.97036</td>\n",
       "      <td>0</td>\n",
       "    </tr>\n",
       "  </tbody>\n",
       "</table>\n",
       "</div>"
      ],
      "text/plain": [
       "       stim_type  parameter       ISI  duration     onset    offset  sweep\n",
       "0  natural_scene         97  2.412221       1.0  18.05894  19.06041      0\n",
       "1  natural_scene         59  2.274849       0.2  21.44512  21.64591      0\n",
       "2  natural_scene        107  2.489749       0.2  23.89716  24.09797      0\n",
       "3  natural_scene         60  2.895042       1.0  26.59942  27.60087      0\n",
       "4  natural_scene         71  2.665113       0.5  30.46932  30.97036      0"
      ]
     },
     "execution_count": 13,
     "metadata": {},
     "output_type": "execute_result"
    }
   ],
   "source": [
    "stim_log.head()"
   ]
  },
  {
   "cell_type": "markdown",
   "metadata": {},
   "source": [
    "# Put them all together and save"
   ]
  },
  {
   "cell_type": "code",
   "execution_count": null,
   "metadata": {},
   "outputs": [],
   "source": [
    "all_logs_list = [estim_log, stim_log] # estim is called estim_log and visual is called stim_log\n",
    "all_stim_log = pd.concat(all_logs_list, axis=0, sort=False).sort_values(by='onset', axis=0)"
   ]
  },
  {
   "cell_type": "code",
   "execution_count": null,
   "metadata": {},
   "outputs": [],
   "source": [
    "all_stim_log.to_csv(exp.stimulus_log_file, index=False)"
   ]
  }
 ],
 "metadata": {
  "kernelspec": {
   "display_name": "tbd_eeg",
   "language": "python",
   "name": "tbd_eeg"
  },
  "language_info": {
   "codemirror_mode": {
    "name": "ipython",
    "version": 3
   },
   "file_extension": ".py",
   "mimetype": "text/x-python",
   "name": "python",
   "nbconvert_exporter": "python",
   "pygments_lexer": "ipython3",
   "version": "3.7.13"
  }
 },
 "nbformat": 4,
 "nbformat_minor": 2
}
