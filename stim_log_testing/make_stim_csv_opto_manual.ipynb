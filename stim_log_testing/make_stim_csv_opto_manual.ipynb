{
 "cells": [
  {
   "cell_type": "code",
   "execution_count": 1,
   "metadata": {},
   "outputs": [],
   "source": [
    "import io\n",
    "import os\n",
    "import sys\n",
    "import datetime\n",
    "import numpy as np\n",
    "import pandas as pd\n",
    "import matplotlib.pyplot as plt\n",
    "from glob import glob\n",
    "import copy\n",
    "import time\n",
    "from scipy import signal"
   ]
  },
  {
   "cell_type": "code",
   "execution_count": 2,
   "metadata": {},
   "outputs": [],
   "source": [
    "sys.path.append(r'C:\\Users\\lesliec\\code')"
   ]
  },
  {
   "cell_type": "code",
   "execution_count": 3,
   "metadata": {},
   "outputs": [],
   "source": [
    "from tbd_eeg.tbd_eeg.data_analysis.eegutils import EEGexp, retEEGexp"
   ]
  },
  {
   "cell_type": "code",
   "execution_count": 4,
   "metadata": {},
   "outputs": [],
   "source": [
    "%matplotlib notebook"
   ]
  },
  {
   "cell_type": "markdown",
   "metadata": {},
   "source": [
    "### Functions"
   ]
  },
  {
   "cell_type": "code",
   "execution_count": 5,
   "metadata": {},
   "outputs": [],
   "source": [
    "def parse_estim_protocol(stim_file):\n",
    "    ## Read stim_protocol ##\n",
    "    with open(stim_file) as file:\n",
    "        estim_txt = file.read() # open estim file and read in text\n",
    "    estim = estim_txt.split('channel:') # split and read txt file\n",
    "    d = {}\n",
    "    for item in estim:\n",
    "        if 'value' in item:\n",
    "            key = 'channel'+str(item[1])\n",
    "            d[key]=item.split('\\n')\n",
    "    ## Read CHANNNEL 1 ##\n",
    "    ch1_df = pd.read_csv(io.StringIO('\\n'.join(d['channel1'][1:])), delim_whitespace=True)\n",
    "    ## Get trials from stim_protocol ##\n",
    "    all_stim_list = []\n",
    "    eventid = 0\n",
    "    for i in range(1, len(ch1_df)):\n",
    "        if ch1_df.value.iloc[i-1] < 0 and ch1_df.value.iloc[i] > 0:\n",
    "            all_stim_list.append([\n",
    "                eventid, 'biphasic', ch1_df.value.iloc[i], (ch1_df.time.iloc[i-1] + ch1_df.time.iloc[i]) * 1e-6\n",
    "            ])\n",
    "            eventid += 1\n",
    "    ch1_log = pd.DataFrame(all_stim_list, columns=['event_ID', 'stim_type', 'parameter', 'duration'])\n",
    "    return ch1_log\n",
    "\n",
    "def parse_opto_protocol(stim_file):\n",
    "    ## Read stim_protocol ##\n",
    "    with open(stim_file) as file:\n",
    "        estim_txt = file.read() # open estim file and read in text\n",
    "    estim = estim_txt.split('channel:') # split and read txt file\n",
    "    d = {}\n",
    "    for item in estim:\n",
    "        if 'value' in item:\n",
    "            key = 'channel'+str(item[1])\n",
    "            d[key]=item.split('\\n')\n",
    "    ## Read CHANNNEL 4 ##\n",
    "    ch4_df = pd.read_csv(io.StringIO('\\n'.join(d['channel4'][1:])), delim_whitespace=True)\n",
    "    durs = (ch4_df[ch4_df['value'] == 1]['time'].values[9:-9]) * 1E-6\n",
    "    ch4_log = pd.DataFrame({'event_ID': np.arange(len(durs)), 'duration': durs,})\n",
    "    return ch4_log\n",
    "\n",
    "def parse_opto_protocol_dual1(stim_file):\n",
    "    ## Read stim_protocol ##\n",
    "    with open(stim_file) as file:\n",
    "        estim_txt = file.read() # open estim file and read in text\n",
    "    estim = estim_txt.split('channel:') # split and read txt file\n",
    "    d = {}\n",
    "    for item in estim:\n",
    "        if 'value' in item:\n",
    "            key = 'channel'+str(item[1])\n",
    "            d[key]=item.split('\\n')\n",
    "    ## Read CHANNNEL 4 ##\n",
    "    ch4_df = pd.read_csv(io.StringIO('\\n'.join(d['channel4'][1:])), delim_whitespace=True)\n",
    "    all_stim_list = []\n",
    "    eventid = 0\n",
    "    for i in range(1, len(ch4_df)):\n",
    "        if ch4_df.value.iloc[i-1] == 1 and ch4_df.value.iloc[i] == 1:\n",
    "            all_stim_list.append([eventid, (ch4_df.time.iloc[i-1] + ch4_df.time.iloc[i]) * 1e-6])\n",
    "            eventid += 1\n",
    "    ch4_log = pd.DataFrame(all_stim_list, columns=['event_ID', 'duration'])\n",
    "    return ch4_log"
   ]
  },
  {
   "cell_type": "raw",
   "metadata": {},
   "source": [
    "def parse_stim_protocol(stim_file):\n",
    "    ## Read stim_protocol ##\n",
    "    with open(stim_file) as file:\n",
    "        estim_txt = file.read() # open estim file and read in text\n",
    "    estim = estim_txt.split('channel:') # split and read txt file\n",
    "    d = {}\n",
    "    for item in estim:\n",
    "        if 'value' in item:\n",
    "            key = 'channel'+str(item[1])\n",
    "            d[key]=item.split('\\n')\n",
    "            \n",
    "    ## Read CHANNNEL 1 ##\n",
    "    ch1_df = pd.read_csv(io.StringIO('\\n'.join(d['channel1'][1:])), delim_whitespace=True)\n",
    "    ## Get trials from stim_protocol ##\n",
    "    all_stim_list = []\n",
    "    eventid = 0\n",
    "    for i in range(1, len(ch1_df)):\n",
    "        if ch1_df.value.iloc[i-1] < 0 and ch1_df.value.iloc[i] > 0:\n",
    "            all_stim_list.append([\n",
    "                eventid, 'biphasic', ch1_df.value.iloc[i], (ch1_df.time.iloc[i-1] + ch1_df.time.iloc[i]) * 1e-6\n",
    "            ])\n",
    "            eventid += 1\n",
    "    ch1_log = pd.DataFrame(\n",
    "        all_stim_list, columns=['event_ID', 'stim_type', 'parameter', 'duration']\n",
    "    )\n",
    "    \n",
    "    ## Read CHANNNEL 4 ##\n",
    "    ch4_df = pd.read_csv(io.StringIO('\\n'.join(d['channel4'][1:])), delim_whitespace=True)\n",
    "    durs = (ch4_df[ch4_df['value'] == 1]['time'].values[9:-9]) * 1E-6\n",
    "    ch4_log = pd.DataFrame({\n",
    "        'event_ID': np.arange(len(durs)), 'duration': durs,\n",
    "    })\n",
    "    \n",
    "    return ch1_log, ch4_log\n",
    "\n",
    "# def parse_sine_stim_protocol(stim_file):\n",
    "#     with open(exp.stim_instruction_files['electrical'][0]) as file:\n",
    "#         estim_txt = file.read() # open estim file and read in text\n",
    "#     estim = estim_txt.split('channel:') # split and read txt file\n",
    "#     d = {}\n",
    "#     for item in estim:\n",
    "#         if 'value' in item:\n",
    "#             key = 'channel'+str(item[1])\n",
    "#             d[key]=item.split('\\n')\n",
    "#     channel1 = d['channel1'][1:]\n",
    "#     ch1_df = pd.read_csv(io.StringIO('\\n'.join(channel1)), delim_whitespace=True)\n",
    "#     channel3 = d['channel3'][1:]\n",
    "#     ch3_df = pd.read_csv(io.StringIO('\\n'.join(channel3)), delim_whitespace=True)\n",
    "#     ch1_df['timestamps'] = ch1_df.time.cumsum()\n",
    "#     ch3_df['timestamps'] = ch3_df.time.cumsum()"
   ]
  },
  {
   "cell_type": "code",
   "execution_count": null,
   "metadata": {},
   "outputs": [],
   "source": []
  },
  {
   "cell_type": "markdown",
   "metadata": {},
   "source": [
    "## EEGexp class"
   ]
  },
  {
   "cell_type": "code",
   "execution_count": 6,
   "metadata": {},
   "outputs": [
    {
     "name": "stdout",
     "output_type": "stream",
     "text": [
      "Experiment type: electrical stimulation\n"
     ]
    }
   ],
   "source": [
    "# rec_folder = r'E:\\eeg_pilot\\mouse000000\\estim_vis_test_2020-09-10\\experiment1\\recording1' # this is the test\n",
    "rec_folder = r'X:\\EEG_exp\\mouse638703\\urethane_estim_2022-10-14_12-25-20\\experiment1\\recording1'\n",
    "exp = EEGexp(rec_folder, preprocess=False, make_stim_csv=False)"
   ]
  },
  {
   "cell_type": "code",
   "execution_count": 7,
   "metadata": {
    "scrolled": true
   },
   "outputs": [
    {
     "name": "stdout",
     "output_type": "stream",
     "text": [
      "638703\n",
      "electrical stimulation\n"
     ]
    }
   ],
   "source": [
    "print(exp.mouse)\n",
    "print(exp.experiment_type)\n",
    "# print(exp.stim_instruction_files)\n",
    "# print(exp.stimulus_log_file)"
   ]
  },
  {
   "cell_type": "raw",
   "metadata": {},
   "source": [
    "stim_log = pd.read_csv(exp.stimulus_log_file)\n",
    "stim_log.head()"
   ]
  },
  {
   "cell_type": "raw",
   "metadata": {},
   "source": [
    "stim_log.tail()"
   ]
  },
  {
   "cell_type": "code",
   "execution_count": 8,
   "metadata": {},
   "outputs": [
    {
     "name": "stdout",
     "output_type": "stream",
     "text": [
      "['barcodes', 'opto_sync', 'frames', 'behavior_sweep', 'photodiode', 'sweep', '', 'behavior_vsync', 'eyetracking', 'behavior', 'rotA', 'rotB', 'estim_sync', 'estim_sweep', '', '', '', 'opto_sweep', 'opto_trial', '', '', '', '', '', '', '', '', '', '', '', '', '']\n"
     ]
    }
   ],
   "source": [
    "sync_data = exp._load_sync_dataset()\n",
    "print(sync_data.line_labels)"
   ]
  },
  {
   "cell_type": "code",
   "execution_count": 9,
   "metadata": {},
   "outputs": [],
   "source": [
    "# stimprot = {\n",
    "#     0: ['opto', 5, 'NoEstim_Opto50ms_3.5-4.5sec_stimulation_protocol.txt'],\n",
    "#     1: ['opto', 5, 'NoEstim_Opto100ms_3.5-4.5sec_stimulation_protocol.txt'],\n",
    "#     2: ['estim', -1, 'Estim80uA_NoOpto_3.5-4.5sec_stimulation_protocol.txt'],\n",
    "#     3: ['estim_opto', 5, 'Estim80uA_Opto50ms_-25ms_3.5-4.5sec_stimulation_protocol.txt'],\n",
    "#     4: ['estim_opto', 5, 'Estim80uA_Opto100ms_+25ms_3.5-4.5sec_stimulation_protocol.txt'],\n",
    "#     5: ['estim_opto', 5, 'Estim80uA_Opto100ms_+125ms_3.5-4.5sec_stimulation_protocol.txt'],\n",
    "# }\n",
    "\n",
    "stimprot = {\n",
    "    0: ['estim', -1, 'Estim80uA_NoOpto_3.5-4.5sec_stimulation_protocol.txt'],\n",
    "    1: ['estim', -1, 'Estim80uA_NoOpto_5-7sec_stimulation_protocol.txt'],\n",
    "}\n",
    "\n",
    "## EXAMPLES ##\n",
    "#     0: ['opto', 1, 'NoEstim_Opto5ms_5-7sec_stimulation_protocol.txt'], for opto value is light intensity (mW)\n",
    "#     5: ['opto', 2.5, 'NoEstim_Opto10ms_5-7sec_stimulation_protocol.txt'],\n",
    "#     0: ['opto', 5, 'NoEstim_Opto50ms_5-7sec_stimulation_protocol.txt'],\n",
    "#     4: ['estim', -1, 'Estim50uA_NoOpto_5-7sec_stimulation_protocol.txt'], for estim no value is needed\n",
    "#     6: ['estim_opto', 5, 'Estim50uA_Opto500ms_-100ms_5-7sec_stimulation_protocol.txt'],\n",
    "# for estim+opto value is light intensity (mW)\n",
    "\n",
    "LED = '470nm'"
   ]
  },
  {
   "cell_type": "markdown",
   "metadata": {},
   "source": [
    "## Create stim log"
   ]
  },
  {
   "cell_type": "markdown",
   "metadata": {},
   "source": [
    "Load the sweep pulse, rising and falling"
   ]
  },
  {
   "cell_type": "code",
   "execution_count": 10,
   "metadata": {},
   "outputs": [
    {
     "name": "stdout",
     "output_type": "stream",
     "text": [
      "2 sweep rising edges and 2 falling edges\n"
     ]
    }
   ],
   "source": [
    "esweep_rising = sync_data.get_edges(keys=('estim_sweep',), kind='rising', units='seconds')\n",
    "esweep_falling = sync_data.get_edges(keys=('estim_sweep',), kind='falling', units='seconds')\n",
    "print('{:d} sweep rising edges and {:d} falling edges'.format(len(esweep_rising), len(esweep_falling)))"
   ]
  },
  {
   "cell_type": "raw",
   "metadata": {},
   "source": [
    "print(esweep_rising)\n",
    "print(esweep_falling)"
   ]
  },
  {
   "cell_type": "raw",
   "metadata": {},
   "source": [
    "esweep_falling - esweep_rising"
   ]
  },
  {
   "cell_type": "raw",
   "metadata": {},
   "source": [
    "esweep_rising[1:] - esweep_falling[:-1]"
   ]
  },
  {
   "cell_type": "raw",
   "metadata": {},
   "source": [
    "esweep_falling = [esync_falling[-1] + 2]"
   ]
  },
  {
   "cell_type": "markdown",
   "metadata": {},
   "source": [
    "Load the estim sync pulses"
   ]
  },
  {
   "cell_type": "code",
   "execution_count": 12,
   "metadata": {},
   "outputs": [
    {
     "name": "stdout",
     "output_type": "stream",
     "text": [
      "240 estim-sync rising edges and 240 falling edges\n"
     ]
    }
   ],
   "source": [
    "esync_rising = sync_data.get_edges(keys=('estim_sync',), kind='rising', units='seconds')\n",
    "esync_falling = sync_data.get_edges(keys=('estim_sync',), kind='falling', units='seconds')\n",
    "print('{:d} estim-sync rising edges and {:d} falling edges'.format(len(esync_rising), len(esync_falling)))"
   ]
  },
  {
   "cell_type": "raw",
   "metadata": {},
   "source": [
    "print(esync_rising[:5])\n",
    "print(esync_falling[-5:])"
   ]
  },
  {
   "cell_type": "raw",
   "metadata": {},
   "source": [
    "oddball = np.nonzero((esync_falling - esync_rising) < 0.00035)[0][0]\n",
    "print(oddball)"
   ]
  },
  {
   "cell_type": "raw",
   "metadata": {},
   "source": [
    "esync_rising = np.delete(esync_rising, obj=oddball)\n",
    "esync_falling = np.delete(esync_falling, obj=oddball)"
   ]
  },
  {
   "cell_type": "markdown",
   "metadata": {},
   "source": [
    "Load the opto sync pulses"
   ]
  },
  {
   "cell_type": "code",
   "execution_count": 13,
   "metadata": {},
   "outputs": [
    {
     "name": "stdout",
     "output_type": "stream",
     "text": [
      "0 opto-sync rising edges and 0 falling edges\n"
     ]
    }
   ],
   "source": [
    "osync_rising = sync_data.get_edges(keys=('opto_sync',), kind='rising', units='seconds')\n",
    "osync_falling = sync_data.get_edges(keys=('opto_sync',), kind='falling', units='seconds')\n",
    "print('{:d} opto-sync rising edges and {:d} falling edges'.format(len(osync_rising), len(osync_falling)))"
   ]
  },
  {
   "cell_type": "markdown",
   "metadata": {},
   "source": [
    "#### Need to determine if the sweep has estim, opto, or both stimuli"
   ]
  },
  {
   "cell_type": "code",
   "execution_count": 14,
   "metadata": {},
   "outputs": [
    {
     "name": "stdout",
     "output_type": "stream",
     "text": [
      "Sweep 0 has only estim (120) / (0 opto)\n",
      "\n",
      "Sweep 1 has only estim (120) / (0 opto)\n",
      "\n"
     ]
    }
   ],
   "source": [
    "pulse_threshold = 20\n",
    "for ii, (swstart, swend) in enumerate(zip(esweep_rising, esweep_falling)):\n",
    "    ## Get pulses within the sweep ##\n",
    "    esync_on_inds = np.nonzero((esync_rising >= swstart-3) & (esync_rising <= swend+2))[0]\n",
    "    esync_off_inds = np.nonzero((esync_falling >= swstart-3) & (esync_falling <= swend+2))[0]\n",
    "    osync_on_inds = np.nonzero((osync_rising >= swstart-3) & (osync_rising <= swend+2))[0]\n",
    "    osync_off_inds = np.nonzero((osync_falling >= swstart-3) & (osync_falling <= swend+2))[0]\n",
    "    \n",
    "    if (len(esync_on_inds) > pulse_threshold) and (len(osync_on_inds) > pulse_threshold):\n",
    "        print('Sweep {:d} has estim ({:d}) and opto ({:d})'.format(ii, len(esync_on_inds), len(osync_on_inds)))\n",
    "    elif (len(esync_on_inds) > pulse_threshold) and (len(osync_on_inds) < pulse_threshold):\n",
    "        print('Sweep {:d} has only estim ({:d}) / ({:d} opto)'.format(ii, len(esync_on_inds), len(osync_on_inds)))\n",
    "    elif (len(osync_on_inds) > pulse_threshold) and (len(esync_on_inds) < pulse_threshold):\n",
    "        print('Sweep {:d} has only opto ({:d}) / ({:d} estim)'.format(ii, len(osync_on_inds), len(esync_on_inds)))\n",
    "    else:\n",
    "        print('I dunno about sweep {:d}: estim={:d}, opto={:d}'.format(ii, len(esync_on_inds), len(osync_on_inds)))\n",
    "    \n",
    "    print('')"
   ]
  },
  {
   "cell_type": "markdown",
   "metadata": {},
   "source": [
    "### Get logs for all sweeps"
   ]
  },
  {
   "cell_type": "code",
   "execution_count": 15,
   "metadata": {},
   "outputs": [
    {
     "name": "stdout",
     "output_type": "stream",
     "text": [
      "Sweep 0: estim (Estim80uA_NoOpto_3.5-4.5sec_stimulation_protocol.txt)\n",
      "\n",
      "Sweep 1: estim (Estim80uA_NoOpto_5-7sec_stimulation_protocol.txt)\n",
      "\n"
     ]
    }
   ],
   "source": [
    "all_sweep_logs = []\n",
    "for sweepi, sweep_data in stimprot.items():\n",
    "    stimp_file = os.path.join(exp.data_folder, sweep_data[2])\n",
    "    print('Sweep {:d}: {} ({})'.format(sweepi, sweep_data[0], sweep_data[2]))\n",
    "    \n",
    "    esync_on_inds = np.nonzero((esync_rising >= esweep_rising[sweepi]-3) & (esync_rising <= esweep_falling[sweepi]+2))[0]\n",
    "    esync_off_inds = np.nonzero((esync_falling >= esweep_rising[sweepi]-3) & (esync_falling <= esweep_falling[sweepi]+2))[0]\n",
    "    osync_on_inds = np.nonzero((osync_rising >= esweep_rising[sweepi]-3) & (osync_rising <= esweep_falling[sweepi]+2))[0]\n",
    "    osync_off_inds = np.nonzero((osync_falling >= esweep_rising[sweepi]-3) & (osync_falling <= esweep_falling[sweepi]+2))[0]\n",
    "    \n",
    "    if sweep_data[0] == 'estim':\n",
    "        ch1_templog = parse_estim_protocol(stimp_file)\n",
    "        if len(ch1_templog) == len(esync_on_inds):\n",
    "            temp_log = ch1_templog.copy()\n",
    "            temp_log['event_type'] = [sweep_data[0]] * len(temp_log)\n",
    "            temp_log['onset'] = esync_rising[esync_on_inds]\n",
    "            temp_log['offset'] = esync_falling[esync_off_inds]\n",
    "            temp_log['sweep'] = [sweepi] * len(temp_log)\n",
    "            all_sweep_logs.append(temp_log)\n",
    "        else:\n",
    "            print(' Lengths of temp_stim_log and esync pulse edges do not match')\n",
    "            continue\n",
    "\n",
    "    elif (sweep_data[0] == 'opto') or (sweep_data[0] == 'opto_visual'):\n",
    "        ch4_templog = parse_opto_protocol_dual1(stimp_file)\n",
    "        if (len(osync_on_inds) == 138) and (len(osync_off_inds) == 138):\n",
    "            osync_on_inds = osync_on_inds[9:-9]\n",
    "            osync_off_inds = osync_off_inds[9:-9]\n",
    "        elif (len(osync_on_inds) == 129) and (len(osync_off_inds) == 129):\n",
    "            osync_on_inds = osync_on_inds[:-9]\n",
    "            osync_off_inds = osync_off_inds[:-9]\n",
    "        else:\n",
    "            print(' Not enough opto sync pulses in this sweep')\n",
    "            continue\n",
    "            \n",
    "        if len(ch4_templog) == len(osync_on_inds):\n",
    "            temp_log = ch4_templog.copy()\n",
    "            temp_log['event_type'] = [sweep_data[0]] * len(temp_log)\n",
    "            temp_log['stim_type'] = [LED] * len(temp_log)\n",
    "            temp_log['parameter'] = [sweep_data[1]] * len(temp_log)\n",
    "            temp_log['onset'] = osync_rising[osync_on_inds]\n",
    "            temp_log['offset'] = osync_falling[osync_off_inds]\n",
    "            temp_log['sweep'] = [sweepi] * len(temp_log)\n",
    "            all_sweep_logs.append(temp_log)\n",
    "        else:\n",
    "            print(' Lengths of temp_stim_log and osync pulse edges do not match')\n",
    "\n",
    "    elif sweep_data[0] == 'estim_opto':\n",
    "        ch1_templog = parse_estim_protocol(stimp_file)\n",
    "        ch4_templog = parse_opto_protocol_dual1(stimp_file)\n",
    "        if len(ch1_templog) == len(esync_on_inds):\n",
    "            temp_log1 = ch1_templog.copy()\n",
    "            temp_log1['event_type'] = [sweep_data[0]] * len(temp_log1)\n",
    "            temp_log1['onset'] = esync_rising[esync_on_inds]\n",
    "            temp_log1['offset'] = esync_falling[esync_off_inds]\n",
    "            temp_log1['sweep'] = [sweepi] * len(temp_log1)\n",
    "        else:\n",
    "            print(' Lengths of temp_stim_log and esync pulse edges do not match')\n",
    "            continue\n",
    "\n",
    "        if (len(osync_on_inds) == 138) and (len(osync_off_inds) == 138):\n",
    "            osync_on_inds = osync_on_inds[9:-9]\n",
    "            osync_off_inds = osync_off_inds[9:-9]\n",
    "        elif (len(osync_on_inds) == 129) and (len(osync_off_inds) == 129):\n",
    "            osync_on_inds = osync_on_inds[:-9]\n",
    "            osync_off_inds = osync_off_inds[:-9]\n",
    "        else:\n",
    "            print(' Not enough opto sync pulses in this sweep')\n",
    "            continue\n",
    "            \n",
    "        if len(ch4_templog) == len(osync_on_inds):\n",
    "            temp_log2 = ch4_templog.copy()\n",
    "            temp_log2['event_type'] = [sweep_data[0]] * len(temp_log2)\n",
    "            temp_log2['stim_type'] = [LED] * len(temp_log2)\n",
    "            temp_log2['parameter'] = [sweep_data[1]] * len(temp_log2)\n",
    "            temp_log2['onset'] = osync_rising[osync_on_inds]\n",
    "            temp_log2['offset'] = osync_falling[osync_off_inds]\n",
    "            temp_log2['sweep'] = [sweepi] * len(temp_log2)\n",
    "        else:\n",
    "            print(' Lengths of temp_stim_log and osync pulse edges do not match')\n",
    "\n",
    "        if len(temp_log1) == len(temp_log2):\n",
    "            temp_log = pd.concat((temp_log1, temp_log2), axis=0, sort=False).sort_values(by='onset', axis=0, ignore_index=True)\n",
    "            all_sweep_logs.append(temp_log)\n",
    "\n",
    "    else:\n",
    "        print(' Event type not understood.')\n",
    "        continue\n",
    "        \n",
    "    print('')"
   ]
  },
  {
   "cell_type": "code",
   "execution_count": 16,
   "metadata": {},
   "outputs": [
    {
     "data": {
      "text/plain": [
       "2"
      ]
     },
     "execution_count": 16,
     "metadata": {},
     "output_type": "execute_result"
    }
   ],
   "source": [
    "len(all_sweep_logs)"
   ]
  },
  {
   "cell_type": "code",
   "execution_count": 17,
   "metadata": {},
   "outputs": [],
   "source": [
    "all_stim_log = pd.concat(all_sweep_logs, axis=0, sort=False).sort_values(by='onset', axis=0, ignore_index=True)\n",
    "all_stim_log = all_stim_log[['event_type', 'event_ID', 'stim_type', 'parameter', 'onset', 'offset', 'duration', 'sweep']]"
   ]
  },
  {
   "cell_type": "code",
   "execution_count": 18,
   "metadata": {},
   "outputs": [
    {
     "data": {
      "text/html": [
       "<div>\n",
       "<style scoped>\n",
       "    .dataframe tbody tr th:only-of-type {\n",
       "        vertical-align: middle;\n",
       "    }\n",
       "\n",
       "    .dataframe tbody tr th {\n",
       "        vertical-align: top;\n",
       "    }\n",
       "\n",
       "    .dataframe thead th {\n",
       "        text-align: right;\n",
       "    }\n",
       "</style>\n",
       "<table border=\"1\" class=\"dataframe\">\n",
       "  <thead>\n",
       "    <tr style=\"text-align: right;\">\n",
       "      <th></th>\n",
       "      <th>event_type</th>\n",
       "      <th>event_ID</th>\n",
       "      <th>stim_type</th>\n",
       "      <th>parameter</th>\n",
       "      <th>onset</th>\n",
       "      <th>offset</th>\n",
       "      <th>duration</th>\n",
       "      <th>sweep</th>\n",
       "    </tr>\n",
       "  </thead>\n",
       "  <tbody>\n",
       "    <tr>\n",
       "      <th>235</th>\n",
       "      <td>estim</td>\n",
       "      <td>115</td>\n",
       "      <td>biphasic</td>\n",
       "      <td>80</td>\n",
       "      <td>3442.61320</td>\n",
       "      <td>3442.61360</td>\n",
       "      <td>0.0004</td>\n",
       "      <td>1</td>\n",
       "    </tr>\n",
       "    <tr>\n",
       "      <th>236</th>\n",
       "      <td>estim</td>\n",
       "      <td>116</td>\n",
       "      <td>biphasic</td>\n",
       "      <td>80</td>\n",
       "      <td>3448.76606</td>\n",
       "      <td>3448.76646</td>\n",
       "      <td>0.0004</td>\n",
       "      <td>1</td>\n",
       "    </tr>\n",
       "    <tr>\n",
       "      <th>237</th>\n",
       "      <td>estim</td>\n",
       "      <td>117</td>\n",
       "      <td>biphasic</td>\n",
       "      <td>80</td>\n",
       "      <td>3455.13322</td>\n",
       "      <td>3455.13362</td>\n",
       "      <td>0.0004</td>\n",
       "      <td>1</td>\n",
       "    </tr>\n",
       "    <tr>\n",
       "      <th>238</th>\n",
       "      <td>estim</td>\n",
       "      <td>118</td>\n",
       "      <td>biphasic</td>\n",
       "      <td>80</td>\n",
       "      <td>3461.22683</td>\n",
       "      <td>3461.22723</td>\n",
       "      <td>0.0004</td>\n",
       "      <td>1</td>\n",
       "    </tr>\n",
       "    <tr>\n",
       "      <th>239</th>\n",
       "      <td>estim</td>\n",
       "      <td>119</td>\n",
       "      <td>biphasic</td>\n",
       "      <td>80</td>\n",
       "      <td>3467.07873</td>\n",
       "      <td>3467.07913</td>\n",
       "      <td>0.0004</td>\n",
       "      <td>1</td>\n",
       "    </tr>\n",
       "  </tbody>\n",
       "</table>\n",
       "</div>"
      ],
      "text/plain": [
       "    event_type  event_ID stim_type  parameter       onset      offset  \\\n",
       "235      estim       115  biphasic         80  3442.61320  3442.61360   \n",
       "236      estim       116  biphasic         80  3448.76606  3448.76646   \n",
       "237      estim       117  biphasic         80  3455.13322  3455.13362   \n",
       "238      estim       118  biphasic         80  3461.22683  3461.22723   \n",
       "239      estim       119  biphasic         80  3467.07873  3467.07913   \n",
       "\n",
       "     duration  sweep  \n",
       "235    0.0004      1  \n",
       "236    0.0004      1  \n",
       "237    0.0004      1  \n",
       "238    0.0004      1  \n",
       "239    0.0004      1  "
      ]
     },
     "execution_count": 18,
     "metadata": {},
     "output_type": "execute_result"
    }
   ],
   "source": [
    "all_stim_log.tail()"
   ]
  },
  {
   "cell_type": "markdown",
   "metadata": {},
   "source": [
    "## Ready to save?"
   ]
  },
  {
   "cell_type": "code",
   "execution_count": 19,
   "metadata": {},
   "outputs": [],
   "source": [
    "all_stim_log.to_csv(exp.stimulus_log_file, index=False)"
   ]
  },
  {
   "cell_type": "code",
   "execution_count": null,
   "metadata": {},
   "outputs": [],
   "source": []
  },
  {
   "cell_type": "markdown",
   "metadata": {},
   "source": [
    "## Testing"
   ]
  },
  {
   "cell_type": "raw",
   "metadata": {},
   "source": [
    "sweepi = 3\n",
    "stimp_file = os.path.join(exp.data_folder, stimprot[sweepi][2])\n",
    "print('Sweep {:d}: {} ({})'.format(sweepi, stimprot[sweepi][0], stimprot[sweepi][2]))"
   ]
  },
  {
   "cell_type": "raw",
   "metadata": {},
   "source": [
    "esync_on_inds = np.nonzero((esync_rising >= esweep_rising[sweepi]-3) & (esync_rising <= esweep_falling[sweepi]+2))[0]\n",
    "print(len(esync_on_inds))\n",
    "esync_off_inds = np.nonzero((esync_falling >= esweep_rising[sweepi]-3) & (esync_falling <= esweep_falling[sweepi]+2))[0]\n",
    "print(len(esync_off_inds))\n",
    "osync_on_inds = np.nonzero((osync_rising >= esweep_rising[sweepi]-3) & (osync_rising <= esweep_falling[sweepi]+2))[0]\n",
    "print(len(osync_on_inds))\n",
    "osync_off_inds = np.nonzero((osync_falling >= esweep_rising[sweepi]-3) & (osync_falling <= esweep_falling[sweepi]+2))[0]\n",
    "print(len(osync_off_inds))"
   ]
  },
  {
   "cell_type": "raw",
   "metadata": {},
   "source": [
    "with open(stimp_file) as file:\n",
    "    estim_txt = file.read() # open estim file and read in text\n",
    "estim = estim_txt.split('channel:') # split and read txt file\n",
    "d = {}\n",
    "for item in estim:\n",
    "    if 'value' in item:\n",
    "        key = 'channel'+str(item[1])\n",
    "        d[key]=item.split('\\n')\n",
    "d.keys()"
   ]
  },
  {
   "cell_type": "raw",
   "metadata": {},
   "source": [
    "ch_dfs = {}\n",
    "for chi in d.keys():\n",
    "    ch_dfs[chi] = pd.read_csv(io.StringIO('\\n'.join(d[chi][1:])), delim_whitespace=True)"
   ]
  },
  {
   "cell_type": "raw",
   "metadata": {},
   "source": [
    "ch_dfs['channel4'][10:28]"
   ]
  },
  {
   "cell_type": "raw",
   "metadata": {},
   "source": [
    "durs = (ch_dfs['channel4'][ch_dfs['channel4']['value'] == 1]['time'].values) * 1E-6\n",
    "ch4_log = pd.DataFrame({\n",
    "    'event_ID': np.arange(len(durs)), 'duration': durs,\n",
    "})"
   ]
  },
  {
   "cell_type": "raw",
   "metadata": {},
   "source": [
    "len(ch4_log)"
   ]
  },
  {
   "cell_type": "raw",
   "metadata": {},
   "source": [
    "all_stim_list = []\n",
    "eventid = 0\n",
    "for i in range(1, len(ch_dfs['channel4'])):\n",
    "    if ch_dfs['channel4'].value.iloc[i-1] == 1 and ch_dfs['channel4'].value.iloc[i] == 1:\n",
    "        all_stim_list.append([\n",
    "            eventid, (ch_dfs['channel4'].time.iloc[i-1] + ch_dfs['channel4'].time.iloc[i]) * 1e-6\n",
    "        ])\n",
    "        eventid += 1\n",
    "ch4_log2 = pd.DataFrame(\n",
    "    all_stim_list, columns=['event_ID', 'duration']\n",
    ")"
   ]
  },
  {
   "cell_type": "raw",
   "metadata": {},
   "source": [
    "ch4_log2.head()"
   ]
  },
  {
   "cell_type": "raw",
   "metadata": {},
   "source": []
  },
  {
   "cell_type": "raw",
   "metadata": {},
   "source": [
    "#### Plot lines from stimulus protocol"
   ]
  },
  {
   "cell_type": "raw",
   "metadata": {},
   "source": [
    "fig, ax = plt.subplots(figsize=(8,4), constrained_layout=True)\n",
    "colrs = {'channel1': 'blue', 'channel3': 'mediumseagreen', 'channel4': 'goldenrod'}\n",
    "for chi, df in ch_dfs.items():\n",
    "    signal = np.insert(df['value'].values, 0, 0)\n",
    "    ts = np.cumsum(np.insert(df['time'].values, 0, 0)) * 1E-6\n",
    "    ax.plot(ts, signal, color=colrs[chi], linewidth=1.5, alpha=0.8, label=chi)\n",
    "    \n",
    "ax.set_xlabel('Time (s)')\n",
    "ax.legend()"
   ]
  },
  {
   "cell_type": "raw",
   "metadata": {},
   "source": [
    "#### Plot sync data"
   ]
  },
  {
   "cell_type": "raw",
   "metadata": {},
   "source": [
    "sync_data.plot_bits(bits=[1, 12, 13], start_time=esweep_rising[sweepi]-3, end_time=esweep_falling[sweepi]+2)"
   ]
  },
  {
   "cell_type": "raw",
   "metadata": {},
   "source": [
    "omask = np.zeros((len(esync_on_inds)), dtype=bool)\n",
    "for ii, indi in enumerate(esync_on_inds):\n",
    "    found_pulse = np.nonzero((osync_rising > esync_rising[indi]-0.001) & (osync_rising < esync_rising[indi]+0.001))[0]\n",
    "    if len(found_pulse) > 0:\n",
    "        omask[ii] = True"
   ]
  },
  {
   "cell_type": "raw",
   "metadata": {},
   "source": [
    "np.sum(omask)"
   ]
  },
  {
   "cell_type": "raw",
   "metadata": {},
   "source": [
    "ch1_templog = parse_estim_protocol(stimp_file)"
   ]
  },
  {
   "cell_type": "raw",
   "metadata": {},
   "source": [
    "ch1_templog.head()"
   ]
  },
  {
   "cell_type": "raw",
   "metadata": {},
   "source": [
    "ch4_templog = parse_opto_protocol(stimp_file)"
   ]
  },
  {
   "cell_type": "raw",
   "metadata": {},
   "source": [
    "ch4_templog.head()"
   ]
  },
  {
   "cell_type": "raw",
   "metadata": {},
   "source": [
    "len(ch4_templog)"
   ]
  },
  {
   "cell_type": "raw",
   "metadata": {},
   "source": [
    "if stimprot[sweepi][0] == 'estim':\n",
    "    if len(ch1_templog) == len(esync_on_inds):\n",
    "        temp_log = ch1_templog.copy()\n",
    "        temp_log['event_type'] = [stimprot[sweepi][0]] * len(temp_log)\n",
    "        temp_log['onset'] = esync_rising[esync_on_inds]\n",
    "        temp_log['offset'] = esync_falling[esync_off_inds]\n",
    "        temp_log['sweep'] = [sweepi] * len(temp_log)\n",
    "    else:\n",
    "        print('Lengths of temp_stim_log and esync pulse edges do not match')\n",
    "    \n",
    "elif stimprot[sweepi][0] == 'opto':\n",
    "    if (len(osync_on_inds) == 138) and (len(osync_off_inds) == 138):\n",
    "        osync_on_inds = osync_on_inds[9:-9]\n",
    "        osync_off_inds = osync_off_inds[9:-9]\n",
    "        if len(ch4_templog) == len(osync_on_inds):\n",
    "            temp_log = ch4_templog.copy()\n",
    "            temp_log['event_type'] = [stimprot[sweepi][0]] * len(temp_log)\n",
    "            temp_log['parameter'] = [stimprot[sweepi][1]] * len(temp_log)\n",
    "            temp_log['onset'] = osync_rising[osync_on_inds]\n",
    "            temp_log['offset'] = osync_falling[osync_off_inds]\n",
    "            temp_log['sweep'] = [sweepi] * len(temp_log)\n",
    "        else:\n",
    "            print('Lengths of temp_stim_log and osync pulse edges do not match')\n",
    "    else:\n",
    "        print('Not enough opto sync pulses in this sweep')\n",
    "    \n",
    "elif stimprot[sweepi][0] == 'estim_opto':\n",
    "    if len(ch1_templog) == len(esync_on_inds):\n",
    "        temp_log1 = ch1_templog.copy()\n",
    "        temp_log1['event_type'] = [stimprot[sweepi][0]] * len(temp_log1)\n",
    "        temp_log1['onset'] = esync_rising[esync_on_inds]\n",
    "        temp_log1['offset'] = esync_falling[esync_off_inds]\n",
    "        temp_log1['sweep'] = [sweepi] * len(temp_log1)\n",
    "    else:\n",
    "        print('Lengths of temp_stim_log and esync pulse edges do not match')\n",
    "        \n",
    "    if (len(osync_on_inds) == 138) and (len(osync_off_inds) == 138):\n",
    "        osync_on_inds = osync_on_inds[9:-9]\n",
    "        osync_off_inds = osync_off_inds[9:-9]\n",
    "        if len(ch4_templog) == len(osync_on_inds):\n",
    "            temp_log2 = ch4_templog.copy()\n",
    "            temp_log2['event_type'] = [stimprot[sweepi][0]] * len(temp_log2)\n",
    "            temp_log2['parameter'] = [stimprot[sweepi][1]] * len(temp_log2)\n",
    "            temp_log2['onset'] = osync_rising[osync_on_inds]\n",
    "            temp_log2['offset'] = osync_falling[osync_off_inds]\n",
    "            temp_log2['sweep'] = [sweepi] * len(temp_log2)\n",
    "        else:\n",
    "            print('Lengths of temp_stim_log and osync pulse edges do not match')\n",
    "    else:\n",
    "        print('Not enough opto sync pulses in this sweep')\n",
    "        \n",
    "    if len(temp_log1) == len(temp_log2):\n",
    "        temp_log = pd.concat((temp_log1, temp_log2), axis=0, sort=False).sort_values(by='onset', axis=0, ignore_index=True)\n",
    "    \n",
    "else:\n",
    "    print('Event type not understood.')"
   ]
  },
  {
   "cell_type": "code",
   "execution_count": null,
   "metadata": {},
   "outputs": [],
   "source": []
  }
 ],
 "metadata": {
  "kernelspec": {
   "display_name": "tbd_eeg",
   "language": "python",
   "name": "tbd_eeg"
  },
  "language_info": {
   "codemirror_mode": {
    "name": "ipython",
    "version": 3
   },
   "file_extension": ".py",
   "mimetype": "text/x-python",
   "name": "python",
   "nbconvert_exporter": "python",
   "pygments_lexer": "ipython3",
   "version": "3.7.13"
  }
 },
 "nbformat": 4,
 "nbformat_minor": 2
}
