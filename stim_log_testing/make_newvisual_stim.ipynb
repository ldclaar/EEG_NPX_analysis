{
 "cells": [
  {
   "cell_type": "markdown",
   "metadata": {},
   "source": [
    "Sometimes there is an error when trying to create the stim_log using the \"make_stim_csv=True\" flag. This usually arises if there is some issue with the sweep/sync pulses. Run the code below piece by piece to find the error, it is the same as the repository, but but allows you to interrupt the flow to correct an issue. This will NOT alter the .sync file in any way."
   ]
  },
  {
   "cell_type": "code",
   "execution_count": 1,
   "metadata": {},
   "outputs": [],
   "source": [
    "import io\n",
    "import os\n",
    "import sys\n",
    "import datetime\n",
    "import numpy as np\n",
    "import pandas as pd\n",
    "import matplotlib.pyplot as plt\n",
    "from glob import glob\n",
    "import copy\n",
    "import time"
   ]
  },
  {
   "cell_type": "code",
   "execution_count": 2,
   "metadata": {},
   "outputs": [],
   "source": [
    "sys.path.append(r'C:\\Users\\lesliec\\code')"
   ]
  },
  {
   "cell_type": "code",
   "execution_count": 3,
   "metadata": {},
   "outputs": [],
   "source": [
    "from tbd_eeg.tbd_eeg.data_analysis.eegutils import EEGexp"
   ]
  },
  {
   "cell_type": "code",
   "execution_count": 4,
   "metadata": {},
   "outputs": [],
   "source": [
    "%matplotlib notebook"
   ]
  },
  {
   "cell_type": "markdown",
   "metadata": {},
   "source": [
    "## Load data"
   ]
  },
  {
   "cell_type": "code",
   "execution_count": 5,
   "metadata": {},
   "outputs": [
    {
     "name": "stdout",
     "output_type": "stream",
     "text": [
      "Experiment type: electrical and sensory stimulation\n"
     ]
    }
   ],
   "source": [
    "# rec_folder = r'F:\\testing\\mouse000000\\old_test_2023-09-07_14-07-36\\experiment1\\recording1' # old log style\n",
    "rec_folder = r'F:\\psi_exp\\mouse730911\\aw_ket_2024-05-02_10-41-41\\experiment1\\recording1' # new log style\n",
    "exp = EEGexp(rec_folder, preprocess=False, make_stim_csv=False)"
   ]
  },
  {
   "cell_type": "markdown",
   "metadata": {},
   "source": [
    "### Set parameters and load sync file"
   ]
  },
  {
   "cell_type": "code",
   "execution_count": 6,
   "metadata": {},
   "outputs": [],
   "source": [
    "VISUAL_STIMULI = ['fullscreen', 'circle', 'natural_scene']"
   ]
  },
  {
   "cell_type": "code",
   "execution_count": 7,
   "metadata": {},
   "outputs": [],
   "source": [
    "sync_data = exp._load_sync_dataset()\n",
    "\n",
    "sweep_rising = sync_data.get_edges(keys=('behavior_sweep',), kind='rising', units='seconds')\n",
    "sweep_falling = sync_data.get_edges(keys=('behavior_sweep',), kind='falling', units='seconds')\n",
    "\n",
    "vsync_rising = sync_data.get_edges(keys=('behavior_vsync',), kind='rising', units='seconds')\n",
    "vsync_falling = sync_data.get_edges(keys=('behavior_vsync',), kind='falling', units='seconds')\n",
    "\n",
    "pd_rising = sync_data.get_edges(keys=('photodiode',), kind='rising', units='seconds')\n",
    "pd_falling = sync_data.get_edges(keys=('photodiode',), kind='falling', units='seconds')\n",
    "\n",
    "if len(sweep_rising) == 0:\n",
    "    between_sweep_inds = np.argwhere(np.diff(vsync_rising) > 10.).flatten()\n",
    "    sweep_rising = np.concatenate(([vsync_rising[0]-1.], vsync_rising[between_sweep_inds+1]-1.))\n",
    "    sweep_falling = np.concatenate((vsync_falling[between_sweep_inds]+1., [vsync_falling[-1]+1.]))"
   ]
  },
  {
   "cell_type": "markdown",
   "metadata": {},
   "source": [
    "### Load experiment log file"
   ]
  },
  {
   "cell_type": "code",
   "execution_count": 8,
   "metadata": {},
   "outputs": [
    {
     "data": {
      "text/html": [
       "<div>\n",
       "<style scoped>\n",
       "    .dataframe tbody tr th:only-of-type {\n",
       "        vertical-align: middle;\n",
       "    }\n",
       "\n",
       "    .dataframe tbody tr th {\n",
       "        vertical-align: top;\n",
       "    }\n",
       "\n",
       "    .dataframe thead th {\n",
       "        text-align: right;\n",
       "    }\n",
       "</style>\n",
       "<table border=\"1\" class=\"dataframe\">\n",
       "  <thead>\n",
       "    <tr style=\"text-align: right;\">\n",
       "      <th></th>\n",
       "      <th>stim_type</th>\n",
       "      <th>parameter</th>\n",
       "      <th>ISI</th>\n",
       "      <th>duration</th>\n",
       "      <th>imtrial.thisRepN</th>\n",
       "      <th>imtrial.thisTrialN</th>\n",
       "      <th>imtrial.thisN</th>\n",
       "      <th>imtrial.thisIndex</th>\n",
       "      <th>thisRow.t</th>\n",
       "      <th>notes</th>\n",
       "      <th>trialStim.started</th>\n",
       "      <th>trialStim.stopped</th>\n",
       "      <th>Unnamed: 12</th>\n",
       "    </tr>\n",
       "  </thead>\n",
       "  <tbody>\n",
       "    <tr>\n",
       "      <th>0</th>\n",
       "      <td>natural_scene</td>\n",
       "      <td>15</td>\n",
       "      <td>2.389600</td>\n",
       "      <td>0.2</td>\n",
       "      <td>0</td>\n",
       "      <td>0</td>\n",
       "      <td>0</td>\n",
       "      <td>0</td>\n",
       "      <td>NaN</td>\n",
       "      <td>NaN</td>\n",
       "      <td>5.120823</td>\n",
       "      <td>5.328218</td>\n",
       "      <td>NaN</td>\n",
       "    </tr>\n",
       "    <tr>\n",
       "      <th>1</th>\n",
       "      <td>natural_scene</td>\n",
       "      <td>111</td>\n",
       "      <td>2.250295</td>\n",
       "      <td>0.2</td>\n",
       "      <td>0</td>\n",
       "      <td>1</td>\n",
       "      <td>1</td>\n",
       "      <td>1</td>\n",
       "      <td>NaN</td>\n",
       "      <td>NaN</td>\n",
       "      <td>7.686091</td>\n",
       "      <td>7.897518</td>\n",
       "      <td>NaN</td>\n",
       "    </tr>\n",
       "    <tr>\n",
       "      <th>2</th>\n",
       "      <td>natural_scene</td>\n",
       "      <td>25</td>\n",
       "      <td>2.881826</td>\n",
       "      <td>0.2</td>\n",
       "      <td>0</td>\n",
       "      <td>2</td>\n",
       "      <td>2</td>\n",
       "      <td>2</td>\n",
       "      <td>NaN</td>\n",
       "      <td>NaN</td>\n",
       "      <td>10.122258</td>\n",
       "      <td>10.332614</td>\n",
       "      <td>NaN</td>\n",
       "    </tr>\n",
       "    <tr>\n",
       "      <th>3</th>\n",
       "      <td>natural_scene</td>\n",
       "      <td>51</td>\n",
       "      <td>2.613754</td>\n",
       "      <td>0.5</td>\n",
       "      <td>0</td>\n",
       "      <td>3</td>\n",
       "      <td>3</td>\n",
       "      <td>3</td>\n",
       "      <td>NaN</td>\n",
       "      <td>NaN</td>\n",
       "      <td>13.196500</td>\n",
       "      <td>13.702123</td>\n",
       "      <td>NaN</td>\n",
       "    </tr>\n",
       "    <tr>\n",
       "      <th>4</th>\n",
       "      <td>natural_scene</td>\n",
       "      <td>38</td>\n",
       "      <td>2.598443</td>\n",
       "      <td>1.0</td>\n",
       "      <td>0</td>\n",
       "      <td>4</td>\n",
       "      <td>4</td>\n",
       "      <td>4</td>\n",
       "      <td>NaN</td>\n",
       "      <td>NaN</td>\n",
       "      <td>16.294258</td>\n",
       "      <td>17.305177</td>\n",
       "      <td>NaN</td>\n",
       "    </tr>\n",
       "  </tbody>\n",
       "</table>\n",
       "</div>"
      ],
      "text/plain": [
       "       stim_type  parameter       ISI  duration  imtrial.thisRepN  \\\n",
       "0  natural_scene         15  2.389600       0.2                 0   \n",
       "1  natural_scene        111  2.250295       0.2                 0   \n",
       "2  natural_scene         25  2.881826       0.2                 0   \n",
       "3  natural_scene         51  2.613754       0.5                 0   \n",
       "4  natural_scene         38  2.598443       1.0                 0   \n",
       "\n",
       "   imtrial.thisTrialN  imtrial.thisN  imtrial.thisIndex  thisRow.t  notes  \\\n",
       "0                   0              0                  0        NaN    NaN   \n",
       "1                   1              1                  1        NaN    NaN   \n",
       "2                   2              2                  2        NaN    NaN   \n",
       "3                   3              3                  3        NaN    NaN   \n",
       "4                   4              4                  4        NaN    NaN   \n",
       "\n",
       "   trialStim.started  trialStim.stopped  Unnamed: 12  \n",
       "0           5.120823           5.328218          NaN  \n",
       "1           7.686091           7.897518          NaN  \n",
       "2          10.122258          10.332614          NaN  \n",
       "3          13.196500          13.702123          NaN  \n",
       "4          16.294258          17.305177          NaN  "
      ]
     },
     "execution_count": 8,
     "metadata": {},
     "output_type": "execute_result"
    }
   ],
   "source": [
    "explogfile = pd.read_csv(exp.stim_instruction_files['sensory'][0])\n",
    "explogfile['stim_type'] = [x.replace('\\ufeff', '') for x in explogfile['stim_type'].values]\n",
    "explogfile.head()"
   ]
  },
  {
   "cell_type": "code",
   "execution_count": 9,
   "metadata": {},
   "outputs": [
    {
     "name": "stdout",
     "output_type": "stream",
     "text": [
      "This is the new style log\n"
     ]
    }
   ],
   "source": [
    "if 'display_stim' in list(explogfile.columns):\n",
    "    print('This is the old style log')\n",
    "    explogfile = explogfile.drop(labels='time', axis=1)\n",
    "\n",
    "    ## Remove gray screen from log ##\n",
    "    list_stim_type = []\n",
    "    list_stim_param = []\n",
    "    for i in range(1, len(explogfile)):\n",
    "        if explogfile.stim_type.iloc[i-1] == 'gray_screen' and explogfile.stim_type.iloc[i] in VISUAL_STIMULI:\n",
    "            list_stim_type.append(explogfile.stim_type.iloc[i])\n",
    "            list_stim_param.append(explogfile.stim_parameter.iloc[i]) # to make sure order matches stim table\n",
    "    stim_log = pd.DataFrame({\n",
    "        'stim_type': list_stim_type,\n",
    "        'parameter': list_stim_param,\n",
    "    })\n",
    "    \n",
    "elif 'ISI' in list(explogfile.columns):\n",
    "    print('This is the new style log')\n",
    "    \n",
    "    stim_log = explogfile.drop(\n",
    "        labels=[\n",
    "            'imtrial.thisRepN','imtrial.thisTrialN','imtrial.thisN','imtrial.thisIndex','thisRow.t','notes',\n",
    "            'trialStim.started','trialStim.stopped','Unnamed: 12'\n",
    "        ], axis=1\n",
    "    )\n",
    "    \n",
    "else:\n",
    "    print(\"Uh oh, tbd_eeg does not understand this log file.\")"
   ]
  },
  {
   "cell_type": "markdown",
   "metadata": {},
   "source": [
    "### Add photodiode times as onsets/offsets (if available)"
   ]
  },
  {
   "cell_type": "code",
   "execution_count": 10,
   "metadata": {},
   "outputs": [],
   "source": [
    "if pd_rising.shape[0] == stim_log.shape[0]:\n",
    "    stim_log['onset'] = pd_rising\n",
    "    if pd_falling.shape[0] == stim_log.shape[0]:\n",
    "        stim_log['offset'] = pd_falling\n",
    "    else:\n",
    "        print('Number of photodiode offsets does not match number of stimuli; estimating offsets.')\n",
    "        stim_log['offset'] = stim_log['onset'] + stim_log['duration']\n",
    "elif vsync_rising.shape[0] == stim_log.shape[0]:\n",
    "    print('Number of photodiode onsets does not match number of stimuli; using vsync times instead (these are typically 50 ms early).')\n",
    "    stim_log['onset'] = vsync_rising\n",
    "    stim_log['offset'] = vsync_falling\n",
    "else:\n",
    "    print('Number of photodiode and vsync pulses do not match number of stimuli; manual stim_log creation is needed.')"
   ]
  },
  {
   "cell_type": "markdown",
   "metadata": {},
   "source": [
    "### Add duration (for old log) and sweep number"
   ]
  },
  {
   "cell_type": "code",
   "execution_count": 11,
   "metadata": {},
   "outputs": [
    {
     "name": "stdout",
     "output_type": "stream",
     "text": [
      "New log already has duration.\n"
     ]
    }
   ],
   "source": [
    "if 'duration' not in list(explogfile.columns):\n",
    "    stim_log['duration'] = stim_log['offset'] - stim_log['onset']\n",
    "else:\n",
    "    print('New log already has duration.')"
   ]
  },
  {
   "cell_type": "code",
   "execution_count": 12,
   "metadata": {},
   "outputs": [],
   "source": [
    "stim_log['sweep'] = np.zeros(len(stim_log), dtype=int) - 1\n",
    "for i in range(len(sweep_rising)):\n",
    "    # print('Sweep %d: %f to %f' % (i, sweep_start, sweep_end))\n",
    "    stim_log.loc[(stim_log['onset'] > sweep_rising[i]) & (stim_log['onset'] < sweep_falling[i]), 'sweep'] = i"
   ]
  },
  {
   "cell_type": "markdown",
   "metadata": {},
   "source": [
    "### Check it and save"
   ]
  },
  {
   "cell_type": "code",
   "execution_count": 13,
   "metadata": {},
   "outputs": [
    {
     "data": {
      "text/html": [
       "<div>\n",
       "<style scoped>\n",
       "    .dataframe tbody tr th:only-of-type {\n",
       "        vertical-align: middle;\n",
       "    }\n",
       "\n",
       "    .dataframe tbody tr th {\n",
       "        vertical-align: top;\n",
       "    }\n",
       "\n",
       "    .dataframe thead th {\n",
       "        text-align: right;\n",
       "    }\n",
       "</style>\n",
       "<table border=\"1\" class=\"dataframe\">\n",
       "  <thead>\n",
       "    <tr style=\"text-align: right;\">\n",
       "      <th></th>\n",
       "      <th>stim_type</th>\n",
       "      <th>parameter</th>\n",
       "      <th>ISI</th>\n",
       "      <th>duration</th>\n",
       "      <th>onset</th>\n",
       "      <th>offset</th>\n",
       "      <th>sweep</th>\n",
       "    </tr>\n",
       "  </thead>\n",
       "  <tbody>\n",
       "    <tr>\n",
       "      <th>0</th>\n",
       "      <td>natural_scene</td>\n",
       "      <td>15</td>\n",
       "      <td>2.389600</td>\n",
       "      <td>0.2</td>\n",
       "      <td>3047.71965</td>\n",
       "      <td>3047.92055</td>\n",
       "      <td>0</td>\n",
       "    </tr>\n",
       "    <tr>\n",
       "      <th>1</th>\n",
       "      <td>natural_scene</td>\n",
       "      <td>111</td>\n",
       "      <td>2.250295</td>\n",
       "      <td>0.2</td>\n",
       "      <td>3050.28845</td>\n",
       "      <td>3050.48937</td>\n",
       "      <td>0</td>\n",
       "    </tr>\n",
       "    <tr>\n",
       "      <th>2</th>\n",
       "      <td>natural_scene</td>\n",
       "      <td>25</td>\n",
       "      <td>2.881826</td>\n",
       "      <td>0.2</td>\n",
       "      <td>3052.72383</td>\n",
       "      <td>3052.92473</td>\n",
       "      <td>0</td>\n",
       "    </tr>\n",
       "    <tr>\n",
       "      <th>3</th>\n",
       "      <td>natural_scene</td>\n",
       "      <td>51</td>\n",
       "      <td>2.613754</td>\n",
       "      <td>0.5</td>\n",
       "      <td>3055.79305</td>\n",
       "      <td>3056.29423</td>\n",
       "      <td>0</td>\n",
       "    </tr>\n",
       "    <tr>\n",
       "      <th>4</th>\n",
       "      <td>natural_scene</td>\n",
       "      <td>38</td>\n",
       "      <td>2.598443</td>\n",
       "      <td>1.0</td>\n",
       "      <td>3058.89565</td>\n",
       "      <td>3059.89724</td>\n",
       "      <td>0</td>\n",
       "    </tr>\n",
       "  </tbody>\n",
       "</table>\n",
       "</div>"
      ],
      "text/plain": [
       "       stim_type  parameter       ISI  duration       onset      offset  sweep\n",
       "0  natural_scene         15  2.389600       0.2  3047.71965  3047.92055      0\n",
       "1  natural_scene        111  2.250295       0.2  3050.28845  3050.48937      0\n",
       "2  natural_scene         25  2.881826       0.2  3052.72383  3052.92473      0\n",
       "3  natural_scene         51  2.613754       0.5  3055.79305  3056.29423      0\n",
       "4  natural_scene         38  2.598443       1.0  3058.89565  3059.89724      0"
      ]
     },
     "execution_count": 13,
     "metadata": {},
     "output_type": "execute_result"
    }
   ],
   "source": [
    "stim_log.head()"
   ]
  },
  {
   "cell_type": "code",
   "execution_count": 34,
   "metadata": {},
   "outputs": [
    {
     "data": {
      "text/plain": [
       "360"
      ]
     },
     "execution_count": 34,
     "metadata": {},
     "output_type": "execute_result"
    }
   ],
   "source": [
    "len(stim_log)"
   ]
  },
  {
   "cell_type": "code",
   "execution_count": 35,
   "metadata": {},
   "outputs": [
    {
     "data": {
      "text/html": [
       "<div>\n",
       "<style scoped>\n",
       "    .dataframe tbody tr th:only-of-type {\n",
       "        vertical-align: middle;\n",
       "    }\n",
       "\n",
       "    .dataframe tbody tr th {\n",
       "        vertical-align: top;\n",
       "    }\n",
       "\n",
       "    .dataframe thead th {\n",
       "        text-align: right;\n",
       "    }\n",
       "</style>\n",
       "<table border=\"1\" class=\"dataframe\">\n",
       "  <thead>\n",
       "    <tr style=\"text-align: right;\">\n",
       "      <th></th>\n",
       "      <th>stim_type</th>\n",
       "      <th>parameter</th>\n",
       "      <th>ISI</th>\n",
       "      <th>duration</th>\n",
       "      <th>onset</th>\n",
       "      <th>offset</th>\n",
       "      <th>sweep</th>\n",
       "    </tr>\n",
       "  </thead>\n",
       "  <tbody>\n",
       "    <tr>\n",
       "      <th>170</th>\n",
       "      <td>natural_scene</td>\n",
       "      <td>63</td>\n",
       "      <td>2.717576</td>\n",
       "      <td>0.5</td>\n",
       "      <td>3566.72042</td>\n",
       "      <td>3567.22158</td>\n",
       "      <td>0</td>\n",
       "    </tr>\n",
       "    <tr>\n",
       "      <th>171</th>\n",
       "      <td>natural_scene</td>\n",
       "      <td>113</td>\n",
       "      <td>2.810578</td>\n",
       "      <td>0.2</td>\n",
       "      <td>3569.90643</td>\n",
       "      <td>3570.10735</td>\n",
       "      <td>0</td>\n",
       "    </tr>\n",
       "    <tr>\n",
       "      <th>172</th>\n",
       "      <td>natural_scene</td>\n",
       "      <td>79</td>\n",
       "      <td>2.373145</td>\n",
       "      <td>1.0</td>\n",
       "      <td>3572.90894</td>\n",
       "      <td>3573.91052</td>\n",
       "      <td>0</td>\n",
       "    </tr>\n",
       "    <tr>\n",
       "      <th>173</th>\n",
       "      <td>natural_scene</td>\n",
       "      <td>103</td>\n",
       "      <td>2.072788</td>\n",
       "      <td>0.2</td>\n",
       "      <td>3576.29511</td>\n",
       "      <td>3576.47934</td>\n",
       "      <td>0</td>\n",
       "    </tr>\n",
       "    <tr>\n",
       "      <th>174</th>\n",
       "      <td>natural_scene</td>\n",
       "      <td>100</td>\n",
       "      <td>2.208676</td>\n",
       "      <td>0.5</td>\n",
       "      <td>3578.54699</td>\n",
       "      <td>3579.04817</td>\n",
       "      <td>0</td>\n",
       "    </tr>\n",
       "    <tr>\n",
       "      <th>175</th>\n",
       "      <td>natural_scene</td>\n",
       "      <td>50</td>\n",
       "      <td>2.601618</td>\n",
       "      <td>0.5</td>\n",
       "      <td>3581.24925</td>\n",
       "      <td>3581.75041</td>\n",
       "      <td>0</td>\n",
       "    </tr>\n",
       "    <tr>\n",
       "      <th>176</th>\n",
       "      <td>natural_scene</td>\n",
       "      <td>88</td>\n",
       "      <td>2.897874</td>\n",
       "      <td>0.5</td>\n",
       "      <td>3584.35185</td>\n",
       "      <td>3584.83631</td>\n",
       "      <td>0</td>\n",
       "    </tr>\n",
       "    <tr>\n",
       "      <th>177</th>\n",
       "      <td>natural_scene</td>\n",
       "      <td>96</td>\n",
       "      <td>2.830834</td>\n",
       "      <td>1.0</td>\n",
       "      <td>3587.73801</td>\n",
       "      <td>3588.72288</td>\n",
       "      <td>0</td>\n",
       "    </tr>\n",
       "    <tr>\n",
       "      <th>178</th>\n",
       "      <td>natural_scene</td>\n",
       "      <td>113</td>\n",
       "      <td>2.090646</td>\n",
       "      <td>1.0</td>\n",
       "      <td>3591.54120</td>\n",
       "      <td>3592.54278</td>\n",
       "      <td>0</td>\n",
       "    </tr>\n",
       "    <tr>\n",
       "      <th>179</th>\n",
       "      <td>natural_scene</td>\n",
       "      <td>107</td>\n",
       "      <td>2.042510</td>\n",
       "      <td>0.5</td>\n",
       "      <td>3594.62711</td>\n",
       "      <td>3595.12828</td>\n",
       "      <td>0</td>\n",
       "    </tr>\n",
       "    <tr>\n",
       "      <th>180</th>\n",
       "      <td>﻿natural_scene</td>\n",
       "      <td>88</td>\n",
       "      <td>2.518012</td>\n",
       "      <td>1.0</td>\n",
       "      <td>7521.85604</td>\n",
       "      <td>7522.85763</td>\n",
       "      <td>1</td>\n",
       "    </tr>\n",
       "    <tr>\n",
       "      <th>181</th>\n",
       "      <td>natural_scene</td>\n",
       "      <td>40</td>\n",
       "      <td>2.121123</td>\n",
       "      <td>0.2</td>\n",
       "      <td>7525.35896</td>\n",
       "      <td>7525.54318</td>\n",
       "      <td>1</td>\n",
       "    </tr>\n",
       "    <tr>\n",
       "      <th>182</th>\n",
       "      <td>natural_scene</td>\n",
       "      <td>76</td>\n",
       "      <td>2.670963</td>\n",
       "      <td>0.2</td>\n",
       "      <td>7527.67757</td>\n",
       "      <td>7527.86181</td>\n",
       "      <td>1</td>\n",
       "    </tr>\n",
       "    <tr>\n",
       "      <th>183</th>\n",
       "      <td>natural_scene</td>\n",
       "      <td>94</td>\n",
       "      <td>2.603770</td>\n",
       "      <td>0.2</td>\n",
       "      <td>7530.54665</td>\n",
       "      <td>7530.74754</td>\n",
       "      <td>1</td>\n",
       "    </tr>\n",
       "    <tr>\n",
       "      <th>184</th>\n",
       "      <td>natural_scene</td>\n",
       "      <td>84</td>\n",
       "      <td>2.555969</td>\n",
       "      <td>0.5</td>\n",
       "      <td>7533.31561</td>\n",
       "      <td>7533.81677</td>\n",
       "      <td>1</td>\n",
       "    </tr>\n",
       "    <tr>\n",
       "      <th>185</th>\n",
       "      <td>natural_scene</td>\n",
       "      <td>53</td>\n",
       "      <td>2.926241</td>\n",
       "      <td>1.0</td>\n",
       "      <td>7536.38485</td>\n",
       "      <td>7537.38643</td>\n",
       "      <td>1</td>\n",
       "    </tr>\n",
       "    <tr>\n",
       "      <th>186</th>\n",
       "      <td>natural_scene</td>\n",
       "      <td>42</td>\n",
       "      <td>2.895927</td>\n",
       "      <td>0.2</td>\n",
       "      <td>7540.32149</td>\n",
       "      <td>7540.52238</td>\n",
       "      <td>1</td>\n",
       "    </tr>\n",
       "    <tr>\n",
       "      <th>187</th>\n",
       "      <td>natural_scene</td>\n",
       "      <td>82</td>\n",
       "      <td>2.404466</td>\n",
       "      <td>0.5</td>\n",
       "      <td>7543.40740</td>\n",
       "      <td>7543.89187</td>\n",
       "      <td>1</td>\n",
       "    </tr>\n",
       "    <tr>\n",
       "      <th>188</th>\n",
       "      <td>natural_scene</td>\n",
       "      <td>71</td>\n",
       "      <td>2.060336</td>\n",
       "      <td>0.2</td>\n",
       "      <td>7546.29312</td>\n",
       "      <td>7546.49404</td>\n",
       "      <td>1</td>\n",
       "    </tr>\n",
       "    <tr>\n",
       "      <th>189</th>\n",
       "      <td>natural_scene</td>\n",
       "      <td>35</td>\n",
       "      <td>2.293133</td>\n",
       "      <td>0.5</td>\n",
       "      <td>7548.54501</td>\n",
       "      <td>7549.04617</td>\n",
       "      <td>1</td>\n",
       "    </tr>\n",
       "  </tbody>\n",
       "</table>\n",
       "</div>"
      ],
      "text/plain": [
       "          stim_type  parameter       ISI  duration       onset      offset  \\\n",
       "170   natural_scene         63  2.717576       0.5  3566.72042  3567.22158   \n",
       "171   natural_scene        113  2.810578       0.2  3569.90643  3570.10735   \n",
       "172   natural_scene         79  2.373145       1.0  3572.90894  3573.91052   \n",
       "173   natural_scene        103  2.072788       0.2  3576.29511  3576.47934   \n",
       "174   natural_scene        100  2.208676       0.5  3578.54699  3579.04817   \n",
       "175   natural_scene         50  2.601618       0.5  3581.24925  3581.75041   \n",
       "176   natural_scene         88  2.897874       0.5  3584.35185  3584.83631   \n",
       "177   natural_scene         96  2.830834       1.0  3587.73801  3588.72288   \n",
       "178   natural_scene        113  2.090646       1.0  3591.54120  3592.54278   \n",
       "179   natural_scene        107  2.042510       0.5  3594.62711  3595.12828   \n",
       "180  ﻿natural_scene         88  2.518012       1.0  7521.85604  7522.85763   \n",
       "181   natural_scene         40  2.121123       0.2  7525.35896  7525.54318   \n",
       "182   natural_scene         76  2.670963       0.2  7527.67757  7527.86181   \n",
       "183   natural_scene         94  2.603770       0.2  7530.54665  7530.74754   \n",
       "184   natural_scene         84  2.555969       0.5  7533.31561  7533.81677   \n",
       "185   natural_scene         53  2.926241       1.0  7536.38485  7537.38643   \n",
       "186   natural_scene         42  2.895927       0.2  7540.32149  7540.52238   \n",
       "187   natural_scene         82  2.404466       0.5  7543.40740  7543.89187   \n",
       "188   natural_scene         71  2.060336       0.2  7546.29312  7546.49404   \n",
       "189   natural_scene         35  2.293133       0.5  7548.54501  7549.04617   \n",
       "\n",
       "     sweep  \n",
       "170      0  \n",
       "171      0  \n",
       "172      0  \n",
       "173      0  \n",
       "174      0  \n",
       "175      0  \n",
       "176      0  \n",
       "177      0  \n",
       "178      0  \n",
       "179      0  \n",
       "180      1  \n",
       "181      1  \n",
       "182      1  \n",
       "183      1  \n",
       "184      1  \n",
       "185      1  \n",
       "186      1  \n",
       "187      1  \n",
       "188      1  \n",
       "189      1  "
      ]
     },
     "execution_count": 35,
     "metadata": {},
     "output_type": "execute_result"
    }
   ],
   "source": [
    "stim_log[170:190]"
   ]
  },
  {
   "cell_type": "code",
   "execution_count": 15,
   "metadata": {},
   "outputs": [],
   "source": [
    "all_logs_list = [stim_log] # estim is called estim_log and visual is called stim_log\n",
    "all_stim_log = pd.concat(all_logs_list, axis=0, sort=False).sort_values(by='onset', axis=0)"
   ]
  },
  {
   "cell_type": "code",
   "execution_count": 16,
   "metadata": {},
   "outputs": [],
   "source": [
    "all_stim_log.to_csv(exp.stimulus_log_file, index=False)"
   ]
  },
  {
   "cell_type": "markdown",
   "metadata": {},
   "source": [
    "# TESTING"
   ]
  },
  {
   "cell_type": "markdown",
   "metadata": {},
   "source": [
    "### Old style"
   ]
  },
  {
   "cell_type": "code",
   "execution_count": 6,
   "metadata": {},
   "outputs": [
    {
     "name": "stdout",
     "output_type": "stream",
     "text": [
      "Experiment type: sensory stimulation\n"
     ]
    }
   ],
   "source": [
    "old_rec_folder = r'F:\\testing\\mouse000000\\old_test_2023-09-07_14-07-36\\experiment1\\recording1'\n",
    "oldexp = EEGexp(old_rec_folder, preprocess=False, make_stim_csv=False)"
   ]
  },
  {
   "cell_type": "code",
   "execution_count": 8,
   "metadata": {},
   "outputs": [
    {
     "name": "stdout",
     "output_type": "stream",
     "text": [
      "{'sensory': ['F:\\\\testing\\\\mouse000000\\\\old_test_2023-09-07_14-07-36\\\\experiment1\\\\recording1\\\\2023-09-07_14-09-54_stimulus_log.csv'], 'electrical': [], 'opto': []}\n",
      "F:\\testing\\mouse000000\\old_test_2023-09-07_14-07-36\\experiment1\\recording1\\sensory_stim_log.csv\n"
     ]
    }
   ],
   "source": [
    "print(oldexp.stim_instruction_files)\n",
    "print(oldexp.stimulus_log_file)"
   ]
  },
  {
   "cell_type": "code",
   "execution_count": 11,
   "metadata": {},
   "outputs": [
    {
     "name": "stdout",
     "output_type": "stream",
     "text": [
      "['barcodes', 'opto_sync', 'frames', 'behavior_sweep', 'photodiode', 'sweep', '', 'behavior_vsync', 'eyetracking', 'behavior', 'rotA', 'rotB', 'estim_sync', 'estim_sweep', '', '', '', 'opto_sweep', 'opto_trial', '', '', '', '', '', '', '', '', '', '', '', '', '']\n"
     ]
    }
   ],
   "source": [
    "osync_data = oldexp._load_sync_dataset()\n",
    "print(osync_data.line_labels)"
   ]
  },
  {
   "cell_type": "markdown",
   "metadata": {},
   "source": [
    "### New style"
   ]
  },
  {
   "cell_type": "code",
   "execution_count": 7,
   "metadata": {},
   "outputs": [
    {
     "name": "stdout",
     "output_type": "stream",
     "text": [
      "Experiment type: sensory stimulation\n"
     ]
    }
   ],
   "source": [
    "new_rec_folder = r'F:\\testing\\mouse000000\\new_test_2023-09-07_14-07-36\\experiment1\\recording1'\n",
    "newexp = EEGexp(new_rec_folder, preprocess=False, make_stim_csv=False)"
   ]
  },
  {
   "cell_type": "code",
   "execution_count": 9,
   "metadata": {
    "scrolled": true
   },
   "outputs": [
    {
     "name": "stdout",
     "output_type": "stream",
     "text": [
      "{'sensory': ['F:\\\\testing\\\\mouse000000\\\\new_test_2023-09-07_14-07-36\\\\experiment1\\\\recording1\\\\mouse000001_2024-04-04_14h31.16.885_stimulus_log.csv'], 'electrical': [], 'opto': []}\n",
      "F:\\testing\\mouse000000\\new_test_2023-09-07_14-07-36\\experiment1\\recording1\\sensory_stim_log.csv\n"
     ]
    }
   ],
   "source": [
    "print(newexp.stim_instruction_files)\n",
    "print(newexp.stimulus_log_file)"
   ]
  },
  {
   "cell_type": "code",
   "execution_count": 10,
   "metadata": {},
   "outputs": [
    {
     "name": "stdout",
     "output_type": "stream",
     "text": [
      "['barcodes', 'opto_sync', 'frames', 'behavior_sweep', 'photodiode', 'sweep', '', 'behavior_vsync', 'eyetracking', 'behavior', 'rotA', 'rotB', 'estim_sync', 'estim_sweep', '', '', '', 'opto_sweep', 'opto_trial', '', '', '', '', '', '', '', '', '', '', '', '', '']\n"
     ]
    }
   ],
   "source": [
    "nsync_data = newexp._load_sync_dataset()\n",
    "print(nsync_data.line_labels)"
   ]
  },
  {
   "cell_type": "markdown",
   "metadata": {},
   "source": [
    "## Compare stimulus_log.csv files"
   ]
  },
  {
   "cell_type": "code",
   "execution_count": 12,
   "metadata": {},
   "outputs": [
    {
     "name": "stdout",
     "output_type": "stream",
     "text": [
      "122022\n"
     ]
    },
    {
     "data": {
      "text/html": [
       "<div>\n",
       "<style scoped>\n",
       "    .dataframe tbody tr th:only-of-type {\n",
       "        vertical-align: middle;\n",
       "    }\n",
       "\n",
       "    .dataframe tbody tr th {\n",
       "        vertical-align: top;\n",
       "    }\n",
       "\n",
       "    .dataframe thead th {\n",
       "        text-align: right;\n",
       "    }\n",
       "</style>\n",
       "<table border=\"1\" class=\"dataframe\">\n",
       "  <thead>\n",
       "    <tr style=\"text-align: right;\">\n",
       "      <th></th>\n",
       "      <th>time</th>\n",
       "      <th>frame</th>\n",
       "      <th>display_stim</th>\n",
       "      <th>stim_type</th>\n",
       "      <th>stim_parameter</th>\n",
       "    </tr>\n",
       "  </thead>\n",
       "  <tbody>\n",
       "    <tr>\n",
       "      <th>0</th>\n",
       "      <td>0.004551</td>\n",
       "      <td>0</td>\n",
       "      <td>False</td>\n",
       "      <td>gray_screen</td>\n",
       "      <td>none</td>\n",
       "    </tr>\n",
       "    <tr>\n",
       "      <th>1</th>\n",
       "      <td>0.020529</td>\n",
       "      <td>1</td>\n",
       "      <td>False</td>\n",
       "      <td>gray_screen</td>\n",
       "      <td>none</td>\n",
       "    </tr>\n",
       "    <tr>\n",
       "      <th>2</th>\n",
       "      <td>0.037279</td>\n",
       "      <td>2</td>\n",
       "      <td>False</td>\n",
       "      <td>gray_screen</td>\n",
       "      <td>none</td>\n",
       "    </tr>\n",
       "    <tr>\n",
       "      <th>3</th>\n",
       "      <td>0.054480</td>\n",
       "      <td>3</td>\n",
       "      <td>False</td>\n",
       "      <td>gray_screen</td>\n",
       "      <td>none</td>\n",
       "    </tr>\n",
       "    <tr>\n",
       "      <th>4</th>\n",
       "      <td>0.072032</td>\n",
       "      <td>4</td>\n",
       "      <td>False</td>\n",
       "      <td>gray_screen</td>\n",
       "      <td>none</td>\n",
       "    </tr>\n",
       "  </tbody>\n",
       "</table>\n",
       "</div>"
      ],
      "text/plain": [
       "       time  frame  display_stim    stim_type stim_parameter\n",
       "0  0.004551      0         False  gray_screen           none\n",
       "1  0.020529      1         False  gray_screen           none\n",
       "2  0.037279      2         False  gray_screen           none\n",
       "3  0.054480      3         False  gray_screen           none\n",
       "4  0.072032      4         False  gray_screen           none"
      ]
     },
     "execution_count": 12,
     "metadata": {},
     "output_type": "execute_result"
    }
   ],
   "source": [
    "old_log_long = pd.read_csv(oldexp.stim_instruction_files['sensory'][0])\n",
    "print(len(old_log_long))\n",
    "old_log_long.head()"
   ]
  },
  {
   "cell_type": "code",
   "execution_count": 13,
   "metadata": {},
   "outputs": [
    {
     "name": "stdout",
     "output_type": "stream",
     "text": [
      "360\n"
     ]
    },
    {
     "data": {
      "text/html": [
       "<div>\n",
       "<style scoped>\n",
       "    .dataframe tbody tr th:only-of-type {\n",
       "        vertical-align: middle;\n",
       "    }\n",
       "\n",
       "    .dataframe tbody tr th {\n",
       "        vertical-align: top;\n",
       "    }\n",
       "\n",
       "    .dataframe thead th {\n",
       "        text-align: right;\n",
       "    }\n",
       "</style>\n",
       "<table border=\"1\" class=\"dataframe\">\n",
       "  <thead>\n",
       "    <tr style=\"text-align: right;\">\n",
       "      <th></th>\n",
       "      <th>stim_type</th>\n",
       "      <th>parameter</th>\n",
       "      <th>ISI</th>\n",
       "      <th>duration</th>\n",
       "      <th>imtrial.thisRepN</th>\n",
       "      <th>imtrial.thisTrialN</th>\n",
       "      <th>imtrial.thisN</th>\n",
       "      <th>imtrial.thisIndex</th>\n",
       "      <th>thisRow.t</th>\n",
       "      <th>notes</th>\n",
       "      <th>trialStim.started</th>\n",
       "      <th>trialStim.stopped</th>\n",
       "      <th>Unnamed: 12</th>\n",
       "    </tr>\n",
       "  </thead>\n",
       "  <tbody>\n",
       "    <tr>\n",
       "      <th>0</th>\n",
       "      <td>natural_scene</td>\n",
       "      <td>97</td>\n",
       "      <td>2.412221</td>\n",
       "      <td>1.0</td>\n",
       "      <td>0</td>\n",
       "      <td>0</td>\n",
       "      <td>0</td>\n",
       "      <td>0</td>\n",
       "      <td>NaN</td>\n",
       "      <td>NaN</td>\n",
       "      <td>5.129218</td>\n",
       "      <td>6.143125</td>\n",
       "      <td>NaN</td>\n",
       "    </tr>\n",
       "    <tr>\n",
       "      <th>1</th>\n",
       "      <td>natural_scene</td>\n",
       "      <td>59</td>\n",
       "      <td>2.274849</td>\n",
       "      <td>0.2</td>\n",
       "      <td>0</td>\n",
       "      <td>1</td>\n",
       "      <td>1</td>\n",
       "      <td>1</td>\n",
       "      <td>NaN</td>\n",
       "      <td>NaN</td>\n",
       "      <td>8.514028</td>\n",
       "      <td>8.728835</td>\n",
       "      <td>NaN</td>\n",
       "    </tr>\n",
       "    <tr>\n",
       "      <th>2</th>\n",
       "      <td>natural_scene</td>\n",
       "      <td>107</td>\n",
       "      <td>2.489749</td>\n",
       "      <td>0.2</td>\n",
       "      <td>0</td>\n",
       "      <td>2</td>\n",
       "      <td>2</td>\n",
       "      <td>2</td>\n",
       "      <td>NaN</td>\n",
       "      <td>NaN</td>\n",
       "      <td>10.973845</td>\n",
       "      <td>11.180777</td>\n",
       "      <td>NaN</td>\n",
       "    </tr>\n",
       "    <tr>\n",
       "      <th>3</th>\n",
       "      <td>natural_scene</td>\n",
       "      <td>60</td>\n",
       "      <td>2.895042</td>\n",
       "      <td>1.0</td>\n",
       "      <td>0</td>\n",
       "      <td>3</td>\n",
       "      <td>3</td>\n",
       "      <td>3</td>\n",
       "      <td>NaN</td>\n",
       "      <td>NaN</td>\n",
       "      <td>13.668874</td>\n",
       "      <td>14.683870</td>\n",
       "      <td>NaN</td>\n",
       "    </tr>\n",
       "    <tr>\n",
       "      <th>4</th>\n",
       "      <td>natural_scene</td>\n",
       "      <td>71</td>\n",
       "      <td>2.665113</td>\n",
       "      <td>0.5</td>\n",
       "      <td>0</td>\n",
       "      <td>4</td>\n",
       "      <td>4</td>\n",
       "      <td>4</td>\n",
       "      <td>NaN</td>\n",
       "      <td>NaN</td>\n",
       "      <td>17.547715</td>\n",
       "      <td>18.053506</td>\n",
       "      <td>NaN</td>\n",
       "    </tr>\n",
       "  </tbody>\n",
       "</table>\n",
       "</div>"
      ],
      "text/plain": [
       "       stim_type  parameter       ISI  duration  imtrial.thisRepN  \\\n",
       "0  natural_scene         97  2.412221       1.0                 0   \n",
       "1  natural_scene         59  2.274849       0.2                 0   \n",
       "2  natural_scene        107  2.489749       0.2                 0   \n",
       "3  natural_scene         60  2.895042       1.0                 0   \n",
       "4  natural_scene         71  2.665113       0.5                 0   \n",
       "\n",
       "   imtrial.thisTrialN  imtrial.thisN  imtrial.thisIndex  thisRow.t  notes  \\\n",
       "0                   0              0                  0        NaN    NaN   \n",
       "1                   1              1                  1        NaN    NaN   \n",
       "2                   2              2                  2        NaN    NaN   \n",
       "3                   3              3                  3        NaN    NaN   \n",
       "4                   4              4                  4        NaN    NaN   \n",
       "\n",
       "   trialStim.started  trialStim.stopped  Unnamed: 12  \n",
       "0           5.129218           6.143125          NaN  \n",
       "1           8.514028           8.728835          NaN  \n",
       "2          10.973845          11.180777          NaN  \n",
       "3          13.668874          14.683870          NaN  \n",
       "4          17.547715          18.053506          NaN  "
      ]
     },
     "execution_count": 13,
     "metadata": {},
     "output_type": "execute_result"
    }
   ],
   "source": [
    "new_log = pd.read_csv(newexp.stim_instruction_files['sensory'][0])\n",
    "print(len(new_log))\n",
    "new_log.head()"
   ]
  },
  {
   "cell_type": "markdown",
   "metadata": {},
   "source": [
    "### How to differentiate?"
   ]
  },
  {
   "cell_type": "code",
   "execution_count": 18,
   "metadata": {},
   "outputs": [
    {
     "name": "stdout",
     "output_type": "stream",
     "text": [
      "['time', 'frame', 'display_stim', 'stim_type', 'stim_parameter']\n",
      "['stim_type', 'parameter', 'ISI', 'duration', 'imtrial.thisRepN', 'imtrial.thisTrialN', 'imtrial.thisN', 'imtrial.thisIndex', 'thisRow.t', 'notes', 'trialStim.started', 'trialStim.stopped', 'Unnamed: 12']\n"
     ]
    }
   ],
   "source": [
    "print(list(old_log_long.columns))\n",
    "print(list(new_log.columns))"
   ]
  },
  {
   "cell_type": "code",
   "execution_count": 20,
   "metadata": {},
   "outputs": [
    {
     "name": "stdout",
     "output_type": "stream",
     "text": [
      "this is a new log\n"
     ]
    }
   ],
   "source": [
    "testlog = new_log # old_log_long\n",
    "\n",
    "if 'display_stim' in list(testlog.columns):\n",
    "    print('this is the old style log')\n",
    "elif 'ISI' in list(testlog.columns):\n",
    "    print('this is a new log')\n",
    "else:\n",
    "    print(\"uh oh, I don't understand this log file\")"
   ]
  },
  {
   "cell_type": "markdown",
   "metadata": {},
   "source": [
    "## Clean up and explore the new log"
   ]
  },
  {
   "cell_type": "code",
   "execution_count": 21,
   "metadata": {},
   "outputs": [],
   "source": [
    "new_log.drop(\n",
    "    labels=['imtrial.thisRepN','imtrial.thisTrialN','imtrial.thisN','imtrial.thisIndex','thisRow.t','notes','Unnamed: 12'],\n",
    "    axis=1, inplace=True\n",
    ")"
   ]
  },
  {
   "cell_type": "code",
   "execution_count": 22,
   "metadata": {},
   "outputs": [
    {
     "data": {
      "text/html": [
       "<div>\n",
       "<style scoped>\n",
       "    .dataframe tbody tr th:only-of-type {\n",
       "        vertical-align: middle;\n",
       "    }\n",
       "\n",
       "    .dataframe tbody tr th {\n",
       "        vertical-align: top;\n",
       "    }\n",
       "\n",
       "    .dataframe thead th {\n",
       "        text-align: right;\n",
       "    }\n",
       "</style>\n",
       "<table border=\"1\" class=\"dataframe\">\n",
       "  <thead>\n",
       "    <tr style=\"text-align: right;\">\n",
       "      <th></th>\n",
       "      <th>stim_type</th>\n",
       "      <th>parameter</th>\n",
       "      <th>ISI</th>\n",
       "      <th>duration</th>\n",
       "      <th>trialStim.started</th>\n",
       "      <th>trialStim.stopped</th>\n",
       "    </tr>\n",
       "  </thead>\n",
       "  <tbody>\n",
       "    <tr>\n",
       "      <th>0</th>\n",
       "      <td>natural_scene</td>\n",
       "      <td>97</td>\n",
       "      <td>2.412221</td>\n",
       "      <td>1.0</td>\n",
       "      <td>5.129218</td>\n",
       "      <td>6.143125</td>\n",
       "    </tr>\n",
       "    <tr>\n",
       "      <th>1</th>\n",
       "      <td>natural_scene</td>\n",
       "      <td>59</td>\n",
       "      <td>2.274849</td>\n",
       "      <td>0.2</td>\n",
       "      <td>8.514028</td>\n",
       "      <td>8.728835</td>\n",
       "    </tr>\n",
       "    <tr>\n",
       "      <th>2</th>\n",
       "      <td>natural_scene</td>\n",
       "      <td>107</td>\n",
       "      <td>2.489749</td>\n",
       "      <td>0.2</td>\n",
       "      <td>10.973845</td>\n",
       "      <td>11.180777</td>\n",
       "    </tr>\n",
       "    <tr>\n",
       "      <th>3</th>\n",
       "      <td>natural_scene</td>\n",
       "      <td>60</td>\n",
       "      <td>2.895042</td>\n",
       "      <td>1.0</td>\n",
       "      <td>13.668874</td>\n",
       "      <td>14.683870</td>\n",
       "    </tr>\n",
       "    <tr>\n",
       "      <th>4</th>\n",
       "      <td>natural_scene</td>\n",
       "      <td>71</td>\n",
       "      <td>2.665113</td>\n",
       "      <td>0.5</td>\n",
       "      <td>17.547715</td>\n",
       "      <td>18.053506</td>\n",
       "    </tr>\n",
       "  </tbody>\n",
       "</table>\n",
       "</div>"
      ],
      "text/plain": [
       "       stim_type  parameter       ISI  duration  trialStim.started  \\\n",
       "0  natural_scene         97  2.412221       1.0           5.129218   \n",
       "1  natural_scene         59  2.274849       0.2           8.514028   \n",
       "2  natural_scene        107  2.489749       0.2          10.973845   \n",
       "3  natural_scene         60  2.895042       1.0          13.668874   \n",
       "4  natural_scene         71  2.665113       0.5          17.547715   \n",
       "\n",
       "   trialStim.stopped  \n",
       "0           6.143125  \n",
       "1           8.728835  \n",
       "2          11.180777  \n",
       "3          14.683870  \n",
       "4          18.053506  "
      ]
     },
     "execution_count": 22,
     "metadata": {},
     "output_type": "execute_result"
    }
   ],
   "source": [
    "new_log.head()"
   ]
  },
  {
   "cell_type": "markdown",
   "metadata": {},
   "source": [
    "### Get sync data"
   ]
  },
  {
   "cell_type": "code",
   "execution_count": 23,
   "metadata": {},
   "outputs": [],
   "source": [
    "# behavior_sweep\n",
    "sweep_rising = nsync_data.get_edges(keys=('behavior_sweep',), kind='rising', units='seconds')\n",
    "sweep_falling = nsync_data.get_edges(keys=('behavior_sweep',), kind='falling', units='seconds')\n",
    "# behavior_vsync\n",
    "vsync_rising = nsync_data.get_edges(keys=('behavior_vsync',), kind='rising', units='seconds')\n",
    "vsync_falling = nsync_data.get_edges(keys=('behavior_vsync',), kind='falling', units='seconds')\n",
    "# photodiode\n",
    "pd_rising = nsync_data.get_edges(keys=('photodiode',), kind='rising', units='seconds')\n",
    "pd_falling = nsync_data.get_edges(keys=('photodiode',), kind='falling', units='seconds')"
   ]
  },
  {
   "cell_type": "code",
   "execution_count": 24,
   "metadata": {},
   "outputs": [
    {
     "name": "stdout",
     "output_type": "stream",
     "text": [
      "behavior_sweep info\n",
      "number of rising/falling: 2/2\n",
      "first rising: 12.883450\n",
      "first falling: 572.053060\n"
     ]
    }
   ],
   "source": [
    "print('behavior_sweep info')\n",
    "print('number of rising/falling: %d/%d' % (len(sweep_rising), len(sweep_falling)))\n",
    "print('first rising: %f' % sweep_rising[0])\n",
    "print('first falling: %f' % sweep_falling[0])"
   ]
  },
  {
   "cell_type": "code",
   "execution_count": 25,
   "metadata": {},
   "outputs": [
    {
     "name": "stdout",
     "output_type": "stream",
     "text": [
      "behavior_vsync info\n",
      "number of rising/falling: 360/360\n",
      "first rising: 18.004600\n",
      "first falling: 19.007110\n"
     ]
    }
   ],
   "source": [
    "print('behavior_vsync info')\n",
    "print('number of rising/falling: %d/%d' % (len(vsync_rising), len(vsync_falling)))\n",
    "print('first rising: %f' % vsync_rising[0])\n",
    "print('first falling: %f' % vsync_falling[0])"
   ]
  },
  {
   "cell_type": "code",
   "execution_count": 26,
   "metadata": {},
   "outputs": [
    {
     "name": "stdout",
     "output_type": "stream",
     "text": [
      "photodiode info\n",
      "number of rising/falling: 360/360\n",
      "first rising: 18.058940\n",
      "first falling: 19.060410\n"
     ]
    }
   ],
   "source": [
    "print('photodiode info')\n",
    "print('number of rising/falling: %d/%d' % (len(pd_rising), len(pd_falling)))\n",
    "print('first rising: %f' % pd_rising[0])\n",
    "print('first falling: %f' % pd_falling[0])"
   ]
  },
  {
   "cell_type": "code",
   "execution_count": 27,
   "metadata": {},
   "outputs": [],
   "source": [
    "if pd_rising.shape[0] != new_log.shape[0]:\n",
    "    print('uh oh, the number of photodiode pulses does not match the number of stimuli')"
   ]
  },
  {
   "cell_type": "code",
   "execution_count": 28,
   "metadata": {},
   "outputs": [],
   "source": [
    "new_log['pd_on'] = pd_rising\n",
    "new_log['pd_off'] = pd_falling\n",
    "new_log['stim_dur'] = new_log['trialStim.stopped'] - new_log['trialStim.started']\n",
    "new_log['pd_dur'] = new_log['pd_off'] - new_log['pd_on']"
   ]
  },
  {
   "cell_type": "code",
   "execution_count": 31,
   "metadata": {},
   "outputs": [
    {
     "data": {
      "text/html": [
       "<div>\n",
       "<style scoped>\n",
       "    .dataframe tbody tr th:only-of-type {\n",
       "        vertical-align: middle;\n",
       "    }\n",
       "\n",
       "    .dataframe tbody tr th {\n",
       "        vertical-align: top;\n",
       "    }\n",
       "\n",
       "    .dataframe thead th {\n",
       "        text-align: right;\n",
       "    }\n",
       "</style>\n",
       "<table border=\"1\" class=\"dataframe\">\n",
       "  <thead>\n",
       "    <tr style=\"text-align: right;\">\n",
       "      <th></th>\n",
       "      <th>stim_type</th>\n",
       "      <th>parameter</th>\n",
       "      <th>ISI</th>\n",
       "      <th>duration</th>\n",
       "      <th>trialStim.started</th>\n",
       "      <th>trialStim.stopped</th>\n",
       "      <th>pd_on</th>\n",
       "      <th>pd_off</th>\n",
       "      <th>stim_dur</th>\n",
       "      <th>pd_dur</th>\n",
       "    </tr>\n",
       "  </thead>\n",
       "  <tbody>\n",
       "    <tr>\n",
       "      <th>355</th>\n",
       "      <td>natural_scene</td>\n",
       "      <td>100</td>\n",
       "      <td>2.401193</td>\n",
       "      <td>1.0</td>\n",
       "      <td>540.824224</td>\n",
       "      <td>541.824753</td>\n",
       "      <td>1270.47339</td>\n",
       "      <td>1271.45820</td>\n",
       "      <td>1.000530</td>\n",
       "      <td>0.98481</td>\n",
       "    </tr>\n",
       "    <tr>\n",
       "      <th>356</th>\n",
       "      <td>natural_scene</td>\n",
       "      <td>15</td>\n",
       "      <td>2.615929</td>\n",
       "      <td>0.5</td>\n",
       "      <td>544.208557</td>\n",
       "      <td>544.710467</td>\n",
       "      <td>1273.84288</td>\n",
       "      <td>1274.34392</td>\n",
       "      <td>0.501910</td>\n",
       "      <td>0.50104</td>\n",
       "    </tr>\n",
       "    <tr>\n",
       "      <th>357</th>\n",
       "      <td>natural_scene</td>\n",
       "      <td>115</td>\n",
       "      <td>2.342347</td>\n",
       "      <td>0.5</td>\n",
       "      <td>547.308896</td>\n",
       "      <td>547.813232</td>\n",
       "      <td>1276.94547</td>\n",
       "      <td>1277.44654</td>\n",
       "      <td>0.504336</td>\n",
       "      <td>0.50107</td>\n",
       "    </tr>\n",
       "    <tr>\n",
       "      <th>358</th>\n",
       "      <td>natural_scene</td>\n",
       "      <td>77</td>\n",
       "      <td>2.100995</td>\n",
       "      <td>0.5</td>\n",
       "      <td>550.152527</td>\n",
       "      <td>550.665620</td>\n",
       "      <td>1279.79786</td>\n",
       "      <td>1280.29893</td>\n",
       "      <td>0.513093</td>\n",
       "      <td>0.50107</td>\n",
       "    </tr>\n",
       "    <tr>\n",
       "      <th>359</th>\n",
       "      <td>natural_scene</td>\n",
       "      <td>94</td>\n",
       "      <td>2.324508</td>\n",
       "      <td>0.2</td>\n",
       "      <td>552.735854</td>\n",
       "      <td>552.950886</td>\n",
       "      <td>1282.38334</td>\n",
       "      <td>1282.58416</td>\n",
       "      <td>0.215033</td>\n",
       "      <td>0.20082</td>\n",
       "    </tr>\n",
       "  </tbody>\n",
       "</table>\n",
       "</div>"
      ],
      "text/plain": [
       "         stim_type  parameter       ISI  duration  trialStim.started  \\\n",
       "355  natural_scene        100  2.401193       1.0         540.824224   \n",
       "356  natural_scene         15  2.615929       0.5         544.208557   \n",
       "357  natural_scene        115  2.342347       0.5         547.308896   \n",
       "358  natural_scene         77  2.100995       0.5         550.152527   \n",
       "359  natural_scene         94  2.324508       0.2         552.735854   \n",
       "\n",
       "     trialStim.stopped       pd_on      pd_off  stim_dur   pd_dur  \n",
       "355         541.824753  1270.47339  1271.45820  1.000530  0.98481  \n",
       "356         544.710467  1273.84288  1274.34392  0.501910  0.50104  \n",
       "357         547.813232  1276.94547  1277.44654  0.504336  0.50107  \n",
       "358         550.665620  1279.79786  1280.29893  0.513093  0.50107  \n",
       "359         552.950886  1282.38334  1282.58416  0.215033  0.20082  "
      ]
     },
     "execution_count": 31,
     "metadata": {},
     "output_type": "execute_result"
    }
   ],
   "source": [
    "new_log.tail()"
   ]
  },
  {
   "cell_type": "code",
   "execution_count": 34,
   "metadata": {},
   "outputs": [
    {
     "name": "stdout",
     "output_type": "stream",
     "text": [
      "0.050326833333329386\n"
     ]
    }
   ],
   "source": [
    "print(np.mean(pd_rising - vsync_rising))"
   ]
  },
  {
   "cell_type": "code",
   "execution_count": 37,
   "metadata": {},
   "outputs": [
    {
     "name": "stdout",
     "output_type": "stream",
     "text": [
      "0.05333897222222085\n"
     ]
    }
   ],
   "source": [
    "print(np.mean(pd_falling - vsync_falling))"
   ]
  },
  {
   "cell_type": "markdown",
   "metadata": {},
   "source": [
    "Can use the vsync rising signal as a backup for the photodiode. The vsync rising turns on ~50 ms before the image/photodiode actually displays (53 ms for the falling signals)."
   ]
  },
  {
   "cell_type": "markdown",
   "metadata": {},
   "source": [
    "## Process from stimulus_log.csv"
   ]
  },
  {
   "cell_type": "code",
   "execution_count": 39,
   "metadata": {},
   "outputs": [
    {
     "data": {
      "text/html": [
       "<div>\n",
       "<style scoped>\n",
       "    .dataframe tbody tr th:only-of-type {\n",
       "        vertical-align: middle;\n",
       "    }\n",
       "\n",
       "    .dataframe tbody tr th {\n",
       "        vertical-align: top;\n",
       "    }\n",
       "\n",
       "    .dataframe thead th {\n",
       "        text-align: right;\n",
       "    }\n",
       "</style>\n",
       "<table border=\"1\" class=\"dataframe\">\n",
       "  <thead>\n",
       "    <tr style=\"text-align: right;\">\n",
       "      <th></th>\n",
       "      <th>stim_type</th>\n",
       "      <th>parameter</th>\n",
       "      <th>ISI</th>\n",
       "      <th>duration</th>\n",
       "    </tr>\n",
       "  </thead>\n",
       "  <tbody>\n",
       "    <tr>\n",
       "      <th>0</th>\n",
       "      <td>natural_scene</td>\n",
       "      <td>97</td>\n",
       "      <td>2.412221</td>\n",
       "      <td>1.0</td>\n",
       "    </tr>\n",
       "    <tr>\n",
       "      <th>1</th>\n",
       "      <td>natural_scene</td>\n",
       "      <td>59</td>\n",
       "      <td>2.274849</td>\n",
       "      <td>0.2</td>\n",
       "    </tr>\n",
       "    <tr>\n",
       "      <th>2</th>\n",
       "      <td>natural_scene</td>\n",
       "      <td>107</td>\n",
       "      <td>2.489749</td>\n",
       "      <td>0.2</td>\n",
       "    </tr>\n",
       "    <tr>\n",
       "      <th>3</th>\n",
       "      <td>natural_scene</td>\n",
       "      <td>60</td>\n",
       "      <td>2.895042</td>\n",
       "      <td>1.0</td>\n",
       "    </tr>\n",
       "    <tr>\n",
       "      <th>4</th>\n",
       "      <td>natural_scene</td>\n",
       "      <td>71</td>\n",
       "      <td>2.665113</td>\n",
       "      <td>0.5</td>\n",
       "    </tr>\n",
       "  </tbody>\n",
       "</table>\n",
       "</div>"
      ],
      "text/plain": [
       "       stim_type  parameter       ISI  duration\n",
       "0  natural_scene         97  2.412221       1.0\n",
       "1  natural_scene         59  2.274849       0.2\n",
       "2  natural_scene        107  2.489749       0.2\n",
       "3  natural_scene         60  2.895042       1.0\n",
       "4  natural_scene         71  2.665113       0.5"
      ]
     },
     "execution_count": 39,
     "metadata": {},
     "output_type": "execute_result"
    }
   ],
   "source": [
    "logfile = pd.read_csv(newexp.stim_instruction_files['sensory'][0])\n",
    "stim_log = logfile.drop(\n",
    "    labels=[\n",
    "        'imtrial.thisRepN','imtrial.thisTrialN','imtrial.thisN','imtrial.thisIndex','thisRow.t','notes',\n",
    "        'trialStim.started','trialStim.stopped','Unnamed: 12'\n",
    "    ],\n",
    "    axis=1\n",
    ")\n",
    "stim_log.head()"
   ]
  },
  {
   "cell_type": "code",
   "execution_count": 40,
   "metadata": {},
   "outputs": [
    {
     "data": {
      "text/html": [
       "<div>\n",
       "<style scoped>\n",
       "    .dataframe tbody tr th:only-of-type {\n",
       "        vertical-align: middle;\n",
       "    }\n",
       "\n",
       "    .dataframe tbody tr th {\n",
       "        vertical-align: top;\n",
       "    }\n",
       "\n",
       "    .dataframe thead th {\n",
       "        text-align: right;\n",
       "    }\n",
       "</style>\n",
       "<table border=\"1\" class=\"dataframe\">\n",
       "  <thead>\n",
       "    <tr style=\"text-align: right;\">\n",
       "      <th></th>\n",
       "      <th>stim_type</th>\n",
       "      <th>parameter</th>\n",
       "      <th>ISI</th>\n",
       "      <th>duration</th>\n",
       "      <th>onset</th>\n",
       "      <th>offset</th>\n",
       "    </tr>\n",
       "  </thead>\n",
       "  <tbody>\n",
       "    <tr>\n",
       "      <th>0</th>\n",
       "      <td>natural_scene</td>\n",
       "      <td>97</td>\n",
       "      <td>2.412221</td>\n",
       "      <td>1.0</td>\n",
       "      <td>18.05894</td>\n",
       "      <td>19.06041</td>\n",
       "    </tr>\n",
       "    <tr>\n",
       "      <th>1</th>\n",
       "      <td>natural_scene</td>\n",
       "      <td>59</td>\n",
       "      <td>2.274849</td>\n",
       "      <td>0.2</td>\n",
       "      <td>21.44512</td>\n",
       "      <td>21.64591</td>\n",
       "    </tr>\n",
       "    <tr>\n",
       "      <th>2</th>\n",
       "      <td>natural_scene</td>\n",
       "      <td>107</td>\n",
       "      <td>2.489749</td>\n",
       "      <td>0.2</td>\n",
       "      <td>23.89716</td>\n",
       "      <td>24.09797</td>\n",
       "    </tr>\n",
       "    <tr>\n",
       "      <th>3</th>\n",
       "      <td>natural_scene</td>\n",
       "      <td>60</td>\n",
       "      <td>2.895042</td>\n",
       "      <td>1.0</td>\n",
       "      <td>26.59942</td>\n",
       "      <td>27.60087</td>\n",
       "    </tr>\n",
       "    <tr>\n",
       "      <th>4</th>\n",
       "      <td>natural_scene</td>\n",
       "      <td>71</td>\n",
       "      <td>2.665113</td>\n",
       "      <td>0.5</td>\n",
       "      <td>30.46932</td>\n",
       "      <td>30.97036</td>\n",
       "    </tr>\n",
       "  </tbody>\n",
       "</table>\n",
       "</div>"
      ],
      "text/plain": [
       "       stim_type  parameter       ISI  duration     onset    offset\n",
       "0  natural_scene         97  2.412221       1.0  18.05894  19.06041\n",
       "1  natural_scene         59  2.274849       0.2  21.44512  21.64591\n",
       "2  natural_scene        107  2.489749       0.2  23.89716  24.09797\n",
       "3  natural_scene         60  2.895042       1.0  26.59942  27.60087\n",
       "4  natural_scene         71  2.665113       0.5  30.46932  30.97036"
      ]
     },
     "execution_count": 40,
     "metadata": {},
     "output_type": "execute_result"
    }
   ],
   "source": [
    "if pd_rising.shape[0] == stim_log.shape[0]:\n",
    "    stim_log['onset'] = pd_rising\n",
    "    if pd_falling.shape[0] == stim_log.shape[0]:\n",
    "        stim_log['offset'] = pd_falling\n",
    "    else:\n",
    "        print('Number of photodiode offsets does not match number of stimuli; estimating offsets.')\n",
    "        stim_log['offset'] = stim_log['onset'] + stim_log['duration']\n",
    "elif vsync_rising.shape[0] == stim_log.shape[0]:\n",
    "    print('Number of photodiode onsets does not match number of stimuli; using vsync times instead (these are typically 50 ms early).')\n",
    "    stim_log['onset'] = vsync_rising\n",
    "    stim_log['offset'] = vsync_falling\n",
    "else:\n",
    "    print('Number of photodiode and vsync pulses do not match number of stimuli; manual stim_log creation is needed.')\n",
    "stim_log.head()"
   ]
  },
  {
   "cell_type": "raw",
   "metadata": {},
   "source": [
    "# Check ISIs: from stim offset to next onset #\n",
    "stim_log['onset'][1:].values - stim_log['offset'][:-1].values"
   ]
  },
  {
   "cell_type": "code",
   "execution_count": 46,
   "metadata": {},
   "outputs": [],
   "source": [
    "stim_log['sweep'] = np.zeros(len(stim_log), dtype=int) - 1\n",
    "for i in range(len(sweep_rising)):\n",
    "    # print('Sweep %d: %f to %f' % (i, sweep_start, sweep_end))\n",
    "    stim_log.loc[(stim_log['onset'] > sweep_rising[i]) & (stim_log['onset'] < sweep_falling[i]), 'sweep'] = i"
   ]
  },
  {
   "cell_type": "code",
   "execution_count": 48,
   "metadata": {},
   "outputs": [
    {
     "data": {
      "text/html": [
       "<div>\n",
       "<style scoped>\n",
       "    .dataframe tbody tr th:only-of-type {\n",
       "        vertical-align: middle;\n",
       "    }\n",
       "\n",
       "    .dataframe tbody tr th {\n",
       "        vertical-align: top;\n",
       "    }\n",
       "\n",
       "    .dataframe thead th {\n",
       "        text-align: right;\n",
       "    }\n",
       "</style>\n",
       "<table border=\"1\" class=\"dataframe\">\n",
       "  <thead>\n",
       "    <tr style=\"text-align: right;\">\n",
       "      <th></th>\n",
       "      <th>stim_type</th>\n",
       "      <th>parameter</th>\n",
       "      <th>ISI</th>\n",
       "      <th>duration</th>\n",
       "      <th>onset</th>\n",
       "      <th>offset</th>\n",
       "      <th>sweep</th>\n",
       "    </tr>\n",
       "  </thead>\n",
       "  <tbody>\n",
       "    <tr>\n",
       "      <th>355</th>\n",
       "      <td>natural_scene</td>\n",
       "      <td>100</td>\n",
       "      <td>2.401193</td>\n",
       "      <td>1.0</td>\n",
       "      <td>1270.47339</td>\n",
       "      <td>1271.45820</td>\n",
       "      <td>1</td>\n",
       "    </tr>\n",
       "    <tr>\n",
       "      <th>356</th>\n",
       "      <td>natural_scene</td>\n",
       "      <td>15</td>\n",
       "      <td>2.615929</td>\n",
       "      <td>0.5</td>\n",
       "      <td>1273.84288</td>\n",
       "      <td>1274.34392</td>\n",
       "      <td>1</td>\n",
       "    </tr>\n",
       "    <tr>\n",
       "      <th>357</th>\n",
       "      <td>natural_scene</td>\n",
       "      <td>115</td>\n",
       "      <td>2.342347</td>\n",
       "      <td>0.5</td>\n",
       "      <td>1276.94547</td>\n",
       "      <td>1277.44654</td>\n",
       "      <td>1</td>\n",
       "    </tr>\n",
       "    <tr>\n",
       "      <th>358</th>\n",
       "      <td>natural_scene</td>\n",
       "      <td>77</td>\n",
       "      <td>2.100995</td>\n",
       "      <td>0.5</td>\n",
       "      <td>1279.79786</td>\n",
       "      <td>1280.29893</td>\n",
       "      <td>1</td>\n",
       "    </tr>\n",
       "    <tr>\n",
       "      <th>359</th>\n",
       "      <td>natural_scene</td>\n",
       "      <td>94</td>\n",
       "      <td>2.324508</td>\n",
       "      <td>0.2</td>\n",
       "      <td>1282.38334</td>\n",
       "      <td>1282.58416</td>\n",
       "      <td>1</td>\n",
       "    </tr>\n",
       "  </tbody>\n",
       "</table>\n",
       "</div>"
      ],
      "text/plain": [
       "         stim_type  parameter       ISI  duration       onset      offset  \\\n",
       "355  natural_scene        100  2.401193       1.0  1270.47339  1271.45820   \n",
       "356  natural_scene         15  2.615929       0.5  1273.84288  1274.34392   \n",
       "357  natural_scene        115  2.342347       0.5  1276.94547  1277.44654   \n",
       "358  natural_scene         77  2.100995       0.5  1279.79786  1280.29893   \n",
       "359  natural_scene         94  2.324508       0.2  1282.38334  1282.58416   \n",
       "\n",
       "     sweep  \n",
       "355      1  \n",
       "356      1  \n",
       "357      1  \n",
       "358      1  \n",
       "359      1  "
      ]
     },
     "execution_count": 48,
     "metadata": {},
     "output_type": "execute_result"
    }
   ],
   "source": [
    "stim_log.tail()"
   ]
  },
  {
   "cell_type": "markdown",
   "metadata": {},
   "source": [
    "## Sensory stim"
   ]
  },
  {
   "cell_type": "markdown",
   "metadata": {},
   "source": [
    "This is from NP4 with a digital photodiode.<br>Load behavior_sweep, behavior_sync, and photodiode rising and falling edges."
   ]
  },
  {
   "cell_type": "code",
   "execution_count": 8,
   "metadata": {},
   "outputs": [],
   "source": [
    "# behavior_sweep\n",
    "sweep_rising = sync_data.get_edges(keys=('behavior_sweep',), kind='rising', units='seconds')\n",
    "sweep_falling = sync_data.get_edges(keys=('behavior_sweep',), kind='falling', units='seconds')\n",
    "# behavior_vsync\n",
    "vsync_rising = sync_data.get_edges(keys=('behavior_vsync',), kind='rising', units='seconds')\n",
    "vsync_falling = sync_data.get_edges(keys=('behavior_vsync',), kind='falling', units='seconds')\n",
    "# photodiode\n",
    "pd_rising = sync_data.get_edges(keys=('photodiode',), kind='rising', units='seconds')\n",
    "pd_falling = sync_data.get_edges(keys=('photodiode',), kind='falling', units='seconds')"
   ]
  },
  {
   "cell_type": "code",
   "execution_count": 9,
   "metadata": {},
   "outputs": [],
   "source": [
    "if len(sweep_rising) == 0:\n",
    "    between_sweep_inds = np.argwhere(np.diff(vsync_rising) > 10.).flatten()\n",
    "    sweep_rising = np.concatenate(([vsync_rising[0]-1.], vsync_rising[between_sweep_inds]+2.))\n",
    "    sweep_falling = np.concatenate((vsync_rising[between_sweep_inds]+1., [vsync_rising[-1]+1.]))"
   ]
  },
  {
   "cell_type": "code",
   "execution_count": 9,
   "metadata": {},
   "outputs": [
    {
     "name": "stdout",
     "output_type": "stream",
     "text": [
      "behavior_sweep info\n",
      "number of rising/falling: 2/2\n",
      "first rising: 157.130560\n",
      "first falling: 763.825500\n"
     ]
    }
   ],
   "source": [
    "print('behavior_sweep info')\n",
    "print('number of rising/falling: %d/%d' % (len(sweep_rising), len(sweep_falling)))\n",
    "print('first rising: %f' % sweep_rising[0])\n",
    "print('first falling: %f' % sweep_falling[0])"
   ]
  },
  {
   "cell_type": "code",
   "execution_count": 10,
   "metadata": {},
   "outputs": [
    {
     "name": "stdout",
     "output_type": "stream",
     "text": [
      "behavior_vsync info\n",
      "number of rising/falling: 61794/61794\n",
      "first rising: 157.131140\n",
      "first falling: 157.132720\n"
     ]
    }
   ],
   "source": [
    "print('behavior_vsync info')\n",
    "print('number of rising/falling: %d/%d' % (len(vsync_rising), len(vsync_falling)))\n",
    "print('first rising: %f' % vsync_rising[0])\n",
    "print('first falling: %f' % vsync_falling[0])"
   ]
  },
  {
   "cell_type": "code",
   "execution_count": 11,
   "metadata": {},
   "outputs": [
    {
     "name": "stdout",
     "output_type": "stream",
     "text": [
      "photodiode info\n",
      "number of rising/falling: 240/240\n",
      "first rising: 211.865310\n",
      "first falling: 212.097540\n"
     ]
    }
   ],
   "source": [
    "print('photodiode info')\n",
    "print('number of rising/falling: %d/%d' % (len(pd_rising), len(pd_falling)))\n",
    "print('first rising: %f' % pd_rising[0])\n",
    "print('first falling: %f' % pd_falling[0])"
   ]
  },
  {
   "cell_type": "raw",
   "metadata": {},
   "source": [
    "## Have an extra rising/falling sweep?\n",
    "pd_falling = pd_falling[1:]\n",
    "pd_rising = pd_rising[:-1]"
   ]
  },
  {
   "cell_type": "raw",
   "metadata": {},
   "source": [
    "## Need to look at the rising/falling times?\n",
    "print(pd_rising[0:5])\n",
    "print(pd_falling[0:5])"
   ]
  },
  {
   "cell_type": "markdown",
   "metadata": {},
   "source": [
    "Load 'timestamp'_stimulus_log.csv"
   ]
  },
  {
   "cell_type": "code",
   "execution_count": 17,
   "metadata": {},
   "outputs": [
    {
     "name": "stdout",
     "output_type": "stream",
     "text": [
      "61338\n"
     ]
    },
    {
     "data": {
      "text/html": [
       "<div>\n",
       "<style scoped>\n",
       "    .dataframe tbody tr th:only-of-type {\n",
       "        vertical-align: middle;\n",
       "    }\n",
       "\n",
       "    .dataframe tbody tr th {\n",
       "        vertical-align: top;\n",
       "    }\n",
       "\n",
       "    .dataframe thead th {\n",
       "        text-align: right;\n",
       "    }\n",
       "</style>\n",
       "<table border=\"1\" class=\"dataframe\">\n",
       "  <thead>\n",
       "    <tr style=\"text-align: right;\">\n",
       "      <th></th>\n",
       "      <th>time</th>\n",
       "      <th>frame</th>\n",
       "      <th>display_stim</th>\n",
       "      <th>stim_type</th>\n",
       "      <th>stim_parameter</th>\n",
       "    </tr>\n",
       "  </thead>\n",
       "  <tbody>\n",
       "    <tr>\n",
       "      <th>0</th>\n",
       "      <td>0.004293</td>\n",
       "      <td>0</td>\n",
       "      <td>False</td>\n",
       "      <td>gray_screen</td>\n",
       "      <td>none</td>\n",
       "    </tr>\n",
       "    <tr>\n",
       "      <th>1</th>\n",
       "      <td>0.017292</td>\n",
       "      <td>1</td>\n",
       "      <td>False</td>\n",
       "      <td>gray_screen</td>\n",
       "      <td>none</td>\n",
       "    </tr>\n",
       "    <tr>\n",
       "      <th>2</th>\n",
       "      <td>0.020625</td>\n",
       "      <td>2</td>\n",
       "      <td>False</td>\n",
       "      <td>gray_screen</td>\n",
       "      <td>none</td>\n",
       "    </tr>\n",
       "    <tr>\n",
       "      <th>3</th>\n",
       "      <td>0.037331</td>\n",
       "      <td>3</td>\n",
       "      <td>False</td>\n",
       "      <td>gray_screen</td>\n",
       "      <td>none</td>\n",
       "    </tr>\n",
       "    <tr>\n",
       "      <th>4</th>\n",
       "      <td>0.054198</td>\n",
       "      <td>4</td>\n",
       "      <td>False</td>\n",
       "      <td>gray_screen</td>\n",
       "      <td>none</td>\n",
       "    </tr>\n",
       "  </tbody>\n",
       "</table>\n",
       "</div>"
      ],
      "text/plain": [
       "       time  frame  display_stim    stim_type stim_parameter\n",
       "0  0.004293      0         False  gray_screen           none\n",
       "1  0.017292      1         False  gray_screen           none\n",
       "2  0.020625      2         False  gray_screen           none\n",
       "3  0.037331      3         False  gray_screen           none\n",
       "4  0.054198      4         False  gray_screen           none"
      ]
     },
     "execution_count": 17,
     "metadata": {},
     "output_type": "execute_result"
    }
   ],
   "source": [
    "log_long = pd.read_csv(exp.stim_instruction_files['sensory'][0])\n",
    "print(len(log_long))\n",
    "log_long.head()"
   ]
  },
  {
   "cell_type": "markdown",
   "metadata": {},
   "source": [
    "Remove \"gray\" screens from log"
   ]
  },
  {
   "cell_type": "raw",
   "metadata": {},
   "source": [
    "## ORIGINAL ##\n",
    "log_long = log_long.drop(labels='time', axis='columns')\n",
    "\n",
    "## if vsync edges are too short, cut the log_long ##\n",
    "if len(log_long) > len(vsync_falling):\n",
    "    log_long = log_long[:len(vsync_falling)] # keep the beginning of log\n",
    "#     log_long = log_long[-len(vsync_falling):] # keep the end of log\n",
    "\n",
    "log_long['vsync_rising'] = vsync_rising\n",
    "log_long['vsync_falling'] = vsync_falling\n",
    "\n",
    "## Remove gray screen from log ##\n",
    "visual_stimuli = ['fullscreen', 'circle', 'natural_scene']\n",
    "list_stim_type = []\n",
    "list_stim_param = []\n",
    "list_onset_times = []\n",
    "list_offset_times = []\n",
    "for i in range(1, len(log_long)):\n",
    "    if log_long.stim_type.iloc[i-1] == 'gray_screen' and log_long.stim_type.iloc[i] in visual_stimuli:\n",
    "        list_onset_times.append(log_long.vsync_falling.iloc[i]) # vsync_falling is visual stim onset\n",
    "        list_stim_type.append(log_long.stim_type.iloc[i])\n",
    "        list_stim_param.append(log_long.stim_parameter.iloc[i]) # to make sure order matches stim table\n",
    "    elif log_long.stim_type.iloc[i-1] in visual_stimuli and log_long.stim_type.iloc[i] == 'gray_screen':\n",
    "        list_offset_times.append(log_long.vsync_falling.iloc[i]) # gray_screen vsync_falling is visual stim offset\n",
    "    elif log_long.stim_type.iloc[i-1] == 'gray_screen' and log_long.stim_type.iloc[i] == 'auditory':\n",
    "        list_onset_times.append(log_long.vsync_rising.iloc[i]) # vsync_rising is aditory stim onset\n",
    "        list_offset_times.append(log_long.vsync_falling.iloc[i]) # vsync_falling is aditory stim offset\n",
    "        list_stim_type.append(log_long.stim_type.iloc[i])\n",
    "        list_stim_param.append(log_long.stim_parameter.iloc[i])\n",
    "stim_log = pd.DataFrame({\n",
    "    'stim_type': list_stim_type,\n",
    "    'parameter': list_stim_param,\n",
    "    'onset': list_onset_times,\n",
    "    'offset': list_offset_times\n",
    "})"
   ]
  },
  {
   "cell_type": "code",
   "execution_count": 18,
   "metadata": {},
   "outputs": [],
   "source": [
    "## NOW remove reliance on vsync pulses ##\n",
    "log_long = log_long.drop(labels='time', axis='columns')\n",
    "\n",
    "## Remove gray screen from log ##\n",
    "visual_stimuli = ['fullscreen', 'circle', 'natural_scene']\n",
    "list_stim_type = []\n",
    "list_stim_param = []\n",
    "for i in range(1, len(log_long)):\n",
    "    if log_long.stim_type.iloc[i-1] == 'gray_screen' and log_long.stim_type.iloc[i] in visual_stimuli:\n",
    "        list_stim_type.append(log_long.stim_type.iloc[i])\n",
    "        list_stim_param.append(log_long.stim_parameter.iloc[i]) # to make sure order matches stim table\n",
    "stim_log = pd.DataFrame({\n",
    "    'stim_type': list_stim_type,\n",
    "    'parameter': list_stim_param,\n",
    "})"
   ]
  },
  {
   "cell_type": "raw",
   "metadata": {},
   "source": [
    "## if vsync edges are too long and we only need last half ##\n",
    "log_long = log_long.drop(labels='time', axis='columns')\n",
    "log_long['vsync_rising'] = vsync_rising[-len(log_long):]\n",
    "log_long['vsync_falling'] = vsync_falling[-len(log_long):]"
   ]
  },
  {
   "cell_type": "code",
   "execution_count": 15,
   "metadata": {},
   "outputs": [
    {
     "name": "stdout",
     "output_type": "stream",
     "text": [
      "[191.97224 195.98945 199.92549 204.12917 208.16565]\n"
     ]
    }
   ],
   "source": [
    "print(pd_rising[:5])"
   ]
  },
  {
   "cell_type": "code",
   "execution_count": 15,
   "metadata": {},
   "outputs": [
    {
     "name": "stdout",
     "output_type": "stream",
     "text": [
      "240\n"
     ]
    }
   ],
   "source": [
    "print(len(pd_rising))"
   ]
  },
  {
   "cell_type": "code",
   "execution_count": 19,
   "metadata": {},
   "outputs": [
    {
     "name": "stdout",
     "output_type": "stream",
     "text": [
      "240\n"
     ]
    },
    {
     "data": {
      "text/html": [
       "<div>\n",
       "<style scoped>\n",
       "    .dataframe tbody tr th:only-of-type {\n",
       "        vertical-align: middle;\n",
       "    }\n",
       "\n",
       "    .dataframe tbody tr th {\n",
       "        vertical-align: top;\n",
       "    }\n",
       "\n",
       "    .dataframe thead th {\n",
       "        text-align: right;\n",
       "    }\n",
       "</style>\n",
       "<table border=\"1\" class=\"dataframe\">\n",
       "  <thead>\n",
       "    <tr style=\"text-align: right;\">\n",
       "      <th></th>\n",
       "      <th>stim_type</th>\n",
       "      <th>parameter</th>\n",
       "    </tr>\n",
       "  </thead>\n",
       "  <tbody>\n",
       "    <tr>\n",
       "      <th>0</th>\n",
       "      <td>natural_scene</td>\n",
       "      <td>33</td>\n",
       "    </tr>\n",
       "    <tr>\n",
       "      <th>1</th>\n",
       "      <td>natural_scene</td>\n",
       "      <td>65</td>\n",
       "    </tr>\n",
       "    <tr>\n",
       "      <th>2</th>\n",
       "      <td>natural_scene</td>\n",
       "      <td>88</td>\n",
       "    </tr>\n",
       "    <tr>\n",
       "      <th>3</th>\n",
       "      <td>natural_scene</td>\n",
       "      <td>51</td>\n",
       "    </tr>\n",
       "    <tr>\n",
       "      <th>4</th>\n",
       "      <td>natural_scene</td>\n",
       "      <td>114</td>\n",
       "    </tr>\n",
       "  </tbody>\n",
       "</table>\n",
       "</div>"
      ],
      "text/plain": [
       "       stim_type parameter\n",
       "0  natural_scene        33\n",
       "1  natural_scene        65\n",
       "2  natural_scene        88\n",
       "3  natural_scene        51\n",
       "4  natural_scene       114"
      ]
     },
     "execution_count": 19,
     "metadata": {},
     "output_type": "execute_result"
    }
   ],
   "source": [
    "## These are not the correct onset/offset times yet\n",
    "print(len(stim_log))\n",
    "stim_log.head()"
   ]
  },
  {
   "cell_type": "raw",
   "metadata": {},
   "source": [
    "## Mean delay ##\n",
    "np.mean(pd_rising - stim_log['onset'])"
   ]
  },
  {
   "cell_type": "raw",
   "metadata": {},
   "source": [
    "# fix for missing photodiode pulse\n",
    "if pd_rising.shape[0] < stim_log.shape[0]:\n",
    "    print('# photodiode edges less than length of stim_log: {:d} missing'.format(stim_log.shape[0]-pd_rising.shape[0]))\n",
    "    print(np.nonzero((pd_rising - stim_log.onset.values[:pd_rising.shape[0]]) > 0.05)[0][0])\n",
    "elif pd_rising.shape[0] > stim_log.shape[0]:\n",
    "    print('# photodiode edges more than length of stim_log: {:d} too many'.format(pd_rising.shape[0]-stim_log.shape[0]))\n",
    "else:\n",
    "    print('# photodiode edges matches length of stim_log!')"
   ]
  },
  {
   "cell_type": "raw",
   "metadata": {},
   "source": [
    "# fix for missing photodiode pulse\n",
    "missing_ind = np.nonzero((pd_rising - stim_log.onset.values[:pd_rising.shape[0]]) > 0.05)[0][0]\n",
    "pd_rising = np.insert(\n",
    "    pd_rising,\n",
    "    missing_ind,\n",
    "    stim_log.onset.iloc[missing_ind]+np.mean(pd_rising[1:6] - stim_log.onset.iloc[1:6])\n",
    ")\n",
    "print(len(pd_rising))\n",
    "pd_falling = np.insert(\n",
    "    pd_falling,\n",
    "    missing_ind,\n",
    "    stim_log.offset.iloc[missing_ind]+np.mean(pd_falling[1:6] - stim_log.offset.iloc[1:6])\n",
    ")\n",
    "print(len(pd_falling))"
   ]
  },
  {
   "cell_type": "markdown",
   "metadata": {},
   "source": [
    "Correct onset and offset times using photodiode rising and falling times"
   ]
  },
  {
   "cell_type": "code",
   "execution_count": 20,
   "metadata": {},
   "outputs": [
    {
     "data": {
      "text/html": [
       "<div>\n",
       "<style scoped>\n",
       "    .dataframe tbody tr th:only-of-type {\n",
       "        vertical-align: middle;\n",
       "    }\n",
       "\n",
       "    .dataframe tbody tr th {\n",
       "        vertical-align: top;\n",
       "    }\n",
       "\n",
       "    .dataframe thead th {\n",
       "        text-align: right;\n",
       "    }\n",
       "</style>\n",
       "<table border=\"1\" class=\"dataframe\">\n",
       "  <thead>\n",
       "    <tr style=\"text-align: right;\">\n",
       "      <th></th>\n",
       "      <th>stim_type</th>\n",
       "      <th>parameter</th>\n",
       "      <th>onset</th>\n",
       "      <th>offset</th>\n",
       "      <th>duration</th>\n",
       "    </tr>\n",
       "  </thead>\n",
       "  <tbody>\n",
       "    <tr>\n",
       "      <th>0</th>\n",
       "      <td>natural_scene</td>\n",
       "      <td>33</td>\n",
       "      <td>211.86531</td>\n",
       "      <td>212.09754</td>\n",
       "      <td>0.23223</td>\n",
       "    </tr>\n",
       "    <tr>\n",
       "      <th>1</th>\n",
       "      <td>natural_scene</td>\n",
       "      <td>65</td>\n",
       "      <td>215.33486</td>\n",
       "      <td>215.58380</td>\n",
       "      <td>0.24894</td>\n",
       "    </tr>\n",
       "    <tr>\n",
       "      <th>2</th>\n",
       "      <td>natural_scene</td>\n",
       "      <td>88</td>\n",
       "      <td>218.33738</td>\n",
       "      <td>219.07006</td>\n",
       "      <td>0.73268</td>\n",
       "    </tr>\n",
       "    <tr>\n",
       "      <th>3</th>\n",
       "      <td>natural_scene</td>\n",
       "      <td>51</td>\n",
       "      <td>226.67768</td>\n",
       "      <td>226.85989</td>\n",
       "      <td>0.18221</td>\n",
       "    </tr>\n",
       "    <tr>\n",
       "      <th>4</th>\n",
       "      <td>natural_scene</td>\n",
       "      <td>114</td>\n",
       "      <td>229.94706</td>\n",
       "      <td>230.21266</td>\n",
       "      <td>0.26560</td>\n",
       "    </tr>\n",
       "  </tbody>\n",
       "</table>\n",
       "</div>"
      ],
      "text/plain": [
       "       stim_type parameter      onset     offset  duration\n",
       "0  natural_scene        33  211.86531  212.09754   0.23223\n",
       "1  natural_scene        65  215.33486  215.58380   0.24894\n",
       "2  natural_scene        88  218.33738  219.07006   0.73268\n",
       "3  natural_scene        51  226.67768  226.85989   0.18221\n",
       "4  natural_scene       114  229.94706  230.21266   0.26560"
      ]
     },
     "execution_count": 20,
     "metadata": {},
     "output_type": "execute_result"
    }
   ],
   "source": [
    "stim_log['onset'] = pd_rising\n",
    "stim_log['offset'] = pd_falling\n",
    "stim_log['duration'] = stim_log['offset'] - stim_log['onset']\n",
    "stim_log.head()"
   ]
  },
  {
   "cell_type": "raw",
   "metadata": {},
   "source": [
    "## If we are missing photodiode times and onset/offset cannot by corrected, apply a mean correction ##\n",
    "mean_delay = 0.0455 # stim display is actually a bit later than log reports\n",
    "stim_log['onset'] = stim_log['onset'] + mean_delay\n",
    "stim_log['offset'] = stim_log['offset'] + mean_delay\n",
    "stim_log['duration'] = stim_log['offset'] - stim_log['onset']\n",
    "stim_log.head()"
   ]
  },
  {
   "cell_type": "raw",
   "metadata": {},
   "source": [
    "## if photodiode edges are too long and we only need last half ##\n",
    "stim_log['onset'] = pd_rising[-len(stim_log):]\n",
    "stim_log['offset'] = pd_falling[-len(stim_log):]\n",
    "stim_log['duration'] = stim_log['offset'] - stim_log['onset']\n",
    "stim_log.head()"
   ]
  },
  {
   "cell_type": "code",
   "execution_count": 21,
   "metadata": {},
   "outputs": [],
   "source": [
    "stim_log['sweep'] = np.zeros(len(stim_log), dtype=int) - 1\n",
    "for i in range(len(sweep_rising)):\n",
    "    # print('Sweep %d: %f to %f' % (i, sweep_start, sweep_end))\n",
    "    stim_log.loc[(stim_log['onset'] > sweep_rising[i]) & (stim_log['onset'] < sweep_falling[i]), 'sweep'] = i"
   ]
  },
  {
   "cell_type": "code",
   "execution_count": 22,
   "metadata": {
    "scrolled": true
   },
   "outputs": [
    {
     "data": {
      "text/html": [
       "<div>\n",
       "<style scoped>\n",
       "    .dataframe tbody tr th:only-of-type {\n",
       "        vertical-align: middle;\n",
       "    }\n",
       "\n",
       "    .dataframe tbody tr th {\n",
       "        vertical-align: top;\n",
       "    }\n",
       "\n",
       "    .dataframe thead th {\n",
       "        text-align: right;\n",
       "    }\n",
       "</style>\n",
       "<table border=\"1\" class=\"dataframe\">\n",
       "  <thead>\n",
       "    <tr style=\"text-align: right;\">\n",
       "      <th></th>\n",
       "      <th>stim_type</th>\n",
       "      <th>parameter</th>\n",
       "      <th>onset</th>\n",
       "      <th>offset</th>\n",
       "      <th>duration</th>\n",
       "      <th>sweep</th>\n",
       "    </tr>\n",
       "  </thead>\n",
       "  <tbody>\n",
       "    <tr>\n",
       "      <th>0</th>\n",
       "      <td>natural_scene</td>\n",
       "      <td>33</td>\n",
       "      <td>211.86531</td>\n",
       "      <td>212.09754</td>\n",
       "      <td>0.23223</td>\n",
       "      <td>0</td>\n",
       "    </tr>\n",
       "    <tr>\n",
       "      <th>1</th>\n",
       "      <td>natural_scene</td>\n",
       "      <td>65</td>\n",
       "      <td>215.33486</td>\n",
       "      <td>215.58380</td>\n",
       "      <td>0.24894</td>\n",
       "      <td>0</td>\n",
       "    </tr>\n",
       "    <tr>\n",
       "      <th>2</th>\n",
       "      <td>natural_scene</td>\n",
       "      <td>88</td>\n",
       "      <td>218.33738</td>\n",
       "      <td>219.07006</td>\n",
       "      <td>0.73268</td>\n",
       "      <td>0</td>\n",
       "    </tr>\n",
       "    <tr>\n",
       "      <th>3</th>\n",
       "      <td>natural_scene</td>\n",
       "      <td>51</td>\n",
       "      <td>226.67768</td>\n",
       "      <td>226.85989</td>\n",
       "      <td>0.18221</td>\n",
       "      <td>0</td>\n",
       "    </tr>\n",
       "    <tr>\n",
       "      <th>4</th>\n",
       "      <td>natural_scene</td>\n",
       "      <td>114</td>\n",
       "      <td>229.94706</td>\n",
       "      <td>230.21266</td>\n",
       "      <td>0.26560</td>\n",
       "      <td>0</td>\n",
       "    </tr>\n",
       "    <tr>\n",
       "      <th>5</th>\n",
       "      <td>natural_scene</td>\n",
       "      <td>103</td>\n",
       "      <td>235.91871</td>\n",
       "      <td>236.15097</td>\n",
       "      <td>0.23226</td>\n",
       "      <td>0</td>\n",
       "    </tr>\n",
       "    <tr>\n",
       "      <th>6</th>\n",
       "      <td>natural_scene</td>\n",
       "      <td>117</td>\n",
       "      <td>238.87116</td>\n",
       "      <td>239.15347</td>\n",
       "      <td>0.28231</td>\n",
       "      <td>0</td>\n",
       "    </tr>\n",
       "    <tr>\n",
       "      <th>7</th>\n",
       "      <td>natural_scene</td>\n",
       "      <td>116</td>\n",
       "      <td>241.64014</td>\n",
       "      <td>242.38950</td>\n",
       "      <td>0.74936</td>\n",
       "      <td>0</td>\n",
       "    </tr>\n",
       "    <tr>\n",
       "      <th>8</th>\n",
       "      <td>natural_scene</td>\n",
       "      <td>82</td>\n",
       "      <td>248.12890</td>\n",
       "      <td>248.86155</td>\n",
       "      <td>0.73265</td>\n",
       "      <td>0</td>\n",
       "    </tr>\n",
       "    <tr>\n",
       "      <th>9</th>\n",
       "      <td>natural_scene</td>\n",
       "      <td>40</td>\n",
       "      <td>251.98211</td>\n",
       "      <td>252.74813</td>\n",
       "      <td>0.76602</td>\n",
       "      <td>0</td>\n",
       "    </tr>\n",
       "    <tr>\n",
       "      <th>10</th>\n",
       "      <td>natural_scene</td>\n",
       "      <td>92</td>\n",
       "      <td>261.18979</td>\n",
       "      <td>261.92246</td>\n",
       "      <td>0.73267</td>\n",
       "      <td>0</td>\n",
       "    </tr>\n",
       "    <tr>\n",
       "      <th>11</th>\n",
       "      <td>natural_scene</td>\n",
       "      <td>18</td>\n",
       "      <td>264.54259</td>\n",
       "      <td>264.80820</td>\n",
       "      <td>0.26561</td>\n",
       "      <td>0</td>\n",
       "    </tr>\n",
       "    <tr>\n",
       "      <th>12</th>\n",
       "      <td>natural_scene</td>\n",
       "      <td>107</td>\n",
       "      <td>270.73107</td>\n",
       "      <td>270.99670</td>\n",
       "      <td>0.26563</td>\n",
       "      <td>0</td>\n",
       "    </tr>\n",
       "    <tr>\n",
       "      <th>13</th>\n",
       "      <td>natural_scene</td>\n",
       "      <td>107</td>\n",
       "      <td>276.40250</td>\n",
       "      <td>277.16853</td>\n",
       "      <td>0.76603</td>\n",
       "      <td>0</td>\n",
       "    </tr>\n",
       "    <tr>\n",
       "      <th>14</th>\n",
       "      <td>natural_scene</td>\n",
       "      <td>76</td>\n",
       "      <td>279.77198</td>\n",
       "      <td>280.00424</td>\n",
       "      <td>0.23226</td>\n",
       "      <td>0</td>\n",
       "    </tr>\n",
       "    <tr>\n",
       "      <th>15</th>\n",
       "      <td>natural_scene</td>\n",
       "      <td>33</td>\n",
       "      <td>283.12475</td>\n",
       "      <td>283.89081</td>\n",
       "      <td>0.76606</td>\n",
       "      <td>0</td>\n",
       "    </tr>\n",
       "    <tr>\n",
       "      <th>16</th>\n",
       "      <td>natural_scene</td>\n",
       "      <td>59</td>\n",
       "      <td>286.27741</td>\n",
       "      <td>287.02676</td>\n",
       "      <td>0.74935</td>\n",
       "      <td>0</td>\n",
       "    </tr>\n",
       "    <tr>\n",
       "      <th>17</th>\n",
       "      <td>natural_scene</td>\n",
       "      <td>97</td>\n",
       "      <td>295.05141</td>\n",
       "      <td>295.26698</td>\n",
       "      <td>0.21557</td>\n",
       "      <td>0</td>\n",
       "    </tr>\n",
       "    <tr>\n",
       "      <th>18</th>\n",
       "      <td>natural_scene</td>\n",
       "      <td>4</td>\n",
       "      <td>297.88711</td>\n",
       "      <td>298.15273</td>\n",
       "      <td>0.26562</td>\n",
       "      <td>0</td>\n",
       "    </tr>\n",
       "    <tr>\n",
       "      <th>19</th>\n",
       "      <td>natural_scene</td>\n",
       "      <td>91</td>\n",
       "      <td>301.35667</td>\n",
       "      <td>302.08935</td>\n",
       "      <td>0.73268</td>\n",
       "      <td>0</td>\n",
       "    </tr>\n",
       "    <tr>\n",
       "      <th>20</th>\n",
       "      <td>natural_scene</td>\n",
       "      <td>62</td>\n",
       "      <td>304.79289</td>\n",
       "      <td>305.50885</td>\n",
       "      <td>0.71596</td>\n",
       "      <td>0</td>\n",
       "    </tr>\n",
       "    <tr>\n",
       "      <th>21</th>\n",
       "      <td>natural_scene</td>\n",
       "      <td>25</td>\n",
       "      <td>308.27912</td>\n",
       "      <td>309.02849</td>\n",
       "      <td>0.74937</td>\n",
       "      <td>0</td>\n",
       "    </tr>\n",
       "    <tr>\n",
       "      <th>22</th>\n",
       "      <td>natural_scene</td>\n",
       "      <td>77</td>\n",
       "      <td>314.26747</td>\n",
       "      <td>314.49972</td>\n",
       "      <td>0.23225</td>\n",
       "      <td>0</td>\n",
       "    </tr>\n",
       "    <tr>\n",
       "      <th>23</th>\n",
       "      <td>natural_scene</td>\n",
       "      <td>60</td>\n",
       "      <td>316.83629</td>\n",
       "      <td>317.56897</td>\n",
       "      <td>0.73268</td>\n",
       "      <td>0</td>\n",
       "    </tr>\n",
       "    <tr>\n",
       "      <th>24</th>\n",
       "      <td>natural_scene</td>\n",
       "      <td>66</td>\n",
       "      <td>324.99310</td>\n",
       "      <td>325.24204</td>\n",
       "      <td>0.24894</td>\n",
       "      <td>0</td>\n",
       "    </tr>\n",
       "    <tr>\n",
       "      <th>25</th>\n",
       "      <td>natural_scene</td>\n",
       "      <td>100</td>\n",
       "      <td>327.74539</td>\n",
       "      <td>328.01104</td>\n",
       "      <td>0.26565</td>\n",
       "      <td>0</td>\n",
       "    </tr>\n",
       "    <tr>\n",
       "      <th>26</th>\n",
       "      <td>natural_scene</td>\n",
       "      <td>52</td>\n",
       "      <td>338.95477</td>\n",
       "      <td>339.70414</td>\n",
       "      <td>0.74937</td>\n",
       "      <td>0</td>\n",
       "    </tr>\n",
       "    <tr>\n",
       "      <th>27</th>\n",
       "      <td>natural_scene</td>\n",
       "      <td>66</td>\n",
       "      <td>344.82635</td>\n",
       "      <td>345.57571</td>\n",
       "      <td>0.74936</td>\n",
       "      <td>0</td>\n",
       "    </tr>\n",
       "  </tbody>\n",
       "</table>\n",
       "</div>"
      ],
      "text/plain": [
       "        stim_type parameter      onset     offset  duration  sweep\n",
       "0   natural_scene        33  211.86531  212.09754   0.23223      0\n",
       "1   natural_scene        65  215.33486  215.58380   0.24894      0\n",
       "2   natural_scene        88  218.33738  219.07006   0.73268      0\n",
       "3   natural_scene        51  226.67768  226.85989   0.18221      0\n",
       "4   natural_scene       114  229.94706  230.21266   0.26560      0\n",
       "5   natural_scene       103  235.91871  236.15097   0.23226      0\n",
       "6   natural_scene       117  238.87116  239.15347   0.28231      0\n",
       "7   natural_scene       116  241.64014  242.38950   0.74936      0\n",
       "8   natural_scene        82  248.12890  248.86155   0.73265      0\n",
       "9   natural_scene        40  251.98211  252.74813   0.76602      0\n",
       "10  natural_scene        92  261.18979  261.92246   0.73267      0\n",
       "11  natural_scene        18  264.54259  264.80820   0.26561      0\n",
       "12  natural_scene       107  270.73107  270.99670   0.26563      0\n",
       "13  natural_scene       107  276.40250  277.16853   0.76603      0\n",
       "14  natural_scene        76  279.77198  280.00424   0.23226      0\n",
       "15  natural_scene        33  283.12475  283.89081   0.76606      0\n",
       "16  natural_scene        59  286.27741  287.02676   0.74935      0\n",
       "17  natural_scene        97  295.05141  295.26698   0.21557      0\n",
       "18  natural_scene         4  297.88711  298.15273   0.26562      0\n",
       "19  natural_scene        91  301.35667  302.08935   0.73268      0\n",
       "20  natural_scene        62  304.79289  305.50885   0.71596      0\n",
       "21  natural_scene        25  308.27912  309.02849   0.74937      0\n",
       "22  natural_scene        77  314.26747  314.49972   0.23225      0\n",
       "23  natural_scene        60  316.83629  317.56897   0.73268      0\n",
       "24  natural_scene        66  324.99310  325.24204   0.24894      0\n",
       "25  natural_scene       100  327.74539  328.01104   0.26565      0\n",
       "26  natural_scene        52  338.95477  339.70414   0.74937      0\n",
       "27  natural_scene        66  344.82635  345.57571   0.74936      0"
      ]
     },
     "execution_count": 22,
     "metadata": {},
     "output_type": "execute_result"
    }
   ],
   "source": [
    "stim_log[0:28]"
   ]
  },
  {
   "cell_type": "markdown",
   "metadata": {},
   "source": [
    "## Combine all logs"
   ]
  },
  {
   "cell_type": "code",
   "execution_count": 23,
   "metadata": {},
   "outputs": [],
   "source": [
    "all_logs_list = [stim_log] # estim is called estim_log and visual is called stim_log"
   ]
  },
  {
   "cell_type": "code",
   "execution_count": 24,
   "metadata": {},
   "outputs": [],
   "source": [
    "all_stim_log = pd.concat(all_logs_list, axis=0, sort=False).sort_values(by='onset', axis=0)"
   ]
  },
  {
   "cell_type": "code",
   "execution_count": 25,
   "metadata": {},
   "outputs": [
    {
     "data": {
      "text/html": [
       "<div>\n",
       "<style scoped>\n",
       "    .dataframe tbody tr th:only-of-type {\n",
       "        vertical-align: middle;\n",
       "    }\n",
       "\n",
       "    .dataframe tbody tr th {\n",
       "        vertical-align: top;\n",
       "    }\n",
       "\n",
       "    .dataframe thead th {\n",
       "        text-align: right;\n",
       "    }\n",
       "</style>\n",
       "<table border=\"1\" class=\"dataframe\">\n",
       "  <thead>\n",
       "    <tr style=\"text-align: right;\">\n",
       "      <th></th>\n",
       "      <th>stim_type</th>\n",
       "      <th>parameter</th>\n",
       "      <th>onset</th>\n",
       "      <th>offset</th>\n",
       "      <th>duration</th>\n",
       "      <th>sweep</th>\n",
       "    </tr>\n",
       "  </thead>\n",
       "  <tbody>\n",
       "    <tr>\n",
       "      <th>0</th>\n",
       "      <td>natural_scene</td>\n",
       "      <td>33</td>\n",
       "      <td>211.86531</td>\n",
       "      <td>212.09754</td>\n",
       "      <td>0.23223</td>\n",
       "      <td>0</td>\n",
       "    </tr>\n",
       "    <tr>\n",
       "      <th>1</th>\n",
       "      <td>natural_scene</td>\n",
       "      <td>65</td>\n",
       "      <td>215.33486</td>\n",
       "      <td>215.58380</td>\n",
       "      <td>0.24894</td>\n",
       "      <td>0</td>\n",
       "    </tr>\n",
       "    <tr>\n",
       "      <th>2</th>\n",
       "      <td>natural_scene</td>\n",
       "      <td>88</td>\n",
       "      <td>218.33738</td>\n",
       "      <td>219.07006</td>\n",
       "      <td>0.73268</td>\n",
       "      <td>0</td>\n",
       "    </tr>\n",
       "    <tr>\n",
       "      <th>3</th>\n",
       "      <td>natural_scene</td>\n",
       "      <td>51</td>\n",
       "      <td>226.67768</td>\n",
       "      <td>226.85989</td>\n",
       "      <td>0.18221</td>\n",
       "      <td>0</td>\n",
       "    </tr>\n",
       "    <tr>\n",
       "      <th>4</th>\n",
       "      <td>natural_scene</td>\n",
       "      <td>114</td>\n",
       "      <td>229.94706</td>\n",
       "      <td>230.21266</td>\n",
       "      <td>0.26560</td>\n",
       "      <td>0</td>\n",
       "    </tr>\n",
       "  </tbody>\n",
       "</table>\n",
       "</div>"
      ],
      "text/plain": [
       "       stim_type parameter      onset     offset  duration  sweep\n",
       "0  natural_scene        33  211.86531  212.09754   0.23223      0\n",
       "1  natural_scene        65  215.33486  215.58380   0.24894      0\n",
       "2  natural_scene        88  218.33738  219.07006   0.73268      0\n",
       "3  natural_scene        51  226.67768  226.85989   0.18221      0\n",
       "4  natural_scene       114  229.94706  230.21266   0.26560      0"
      ]
     },
     "execution_count": 25,
     "metadata": {},
     "output_type": "execute_result"
    }
   ],
   "source": [
    "all_stim_log.head()"
   ]
  },
  {
   "cell_type": "markdown",
   "metadata": {},
   "source": [
    "## Save the file"
   ]
  },
  {
   "cell_type": "code",
   "execution_count": 26,
   "metadata": {},
   "outputs": [],
   "source": [
    "all_stim_log.to_csv(exp.stimulus_log_file, index=False)"
   ]
  },
  {
   "cell_type": "markdown",
   "metadata": {},
   "source": [
    "#### Load file to check?"
   ]
  },
  {
   "cell_type": "raw",
   "metadata": {},
   "source": [
    "test_log = pd.read_csv(exp.stimulus_log_file)\n",
    "test_log[75:90]"
   ]
  },
  {
   "cell_type": "code",
   "execution_count": null,
   "metadata": {},
   "outputs": [],
   "source": []
  }
 ],
 "metadata": {
  "kernelspec": {
   "display_name": "tbd_eeg",
   "language": "python",
   "name": "tbd_eeg"
  },
  "language_info": {
   "codemirror_mode": {
    "name": "ipython",
    "version": 3
   },
   "file_extension": ".py",
   "mimetype": "text/x-python",
   "name": "python",
   "nbconvert_exporter": "python",
   "pygments_lexer": "ipython3",
   "version": "3.7.13"
  }
 },
 "nbformat": 4,
 "nbformat_minor": 2
}
