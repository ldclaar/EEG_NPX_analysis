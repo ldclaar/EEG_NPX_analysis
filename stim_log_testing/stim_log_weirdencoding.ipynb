{
 "cells": [
  {
   "cell_type": "code",
   "execution_count": 1,
   "metadata": {},
   "outputs": [],
   "source": [
    "from datetime import date\n",
    "from glob import glob\n",
    "import json\n",
    "import math\n",
    "import os\n",
    "import sys\n",
    "import time\n",
    "\n",
    "import gspread\n",
    "import numpy as np\n",
    "import pandas as pd"
   ]
  },
  {
   "cell_type": "code",
   "execution_count": 2,
   "metadata": {},
   "outputs": [],
   "source": [
    "sys.path.append(r'C:\\Users\\lesliec\\code')"
   ]
  },
  {
   "cell_type": "code",
   "execution_count": 3,
   "metadata": {},
   "outputs": [],
   "source": [
    "from tbd_eeg.tbd_eeg.data_analysis.eegutils import EEGexp\n",
    "from tbd_eeg.tbd_eeg.data_analysis.Utilities.utilities import get_events_wdict, qualitycheck_trials, find_nearest_ind\n",
    "from PCIst.PCIst.pci_st import calc_PCIst, dimensionality_reduction"
   ]
  },
  {
   "cell_type": "markdown",
   "metadata": {},
   "source": [
    "#### Load excel sheet with metadata for experiments"
   ]
  },
  {
   "cell_type": "code",
   "execution_count": 4,
   "metadata": {},
   "outputs": [],
   "source": [
    "_gc = gspread.service_account() # need a key file to access the account\n",
    "_sh = _gc.open('Templeton-log_exp') # open the spreadsheet\n",
    "_df = pd.DataFrame(_sh.sheet1.get()) # load the first worksheet\n",
    "metadata = _df.T.set_index(0).T # put it in a nicely formatted dataframe"
   ]
  },
  {
   "cell_type": "raw",
   "metadata": {
    "scrolled": true
   },
   "source": [
    "metadata.head()"
   ]
  },
  {
   "cell_type": "code",
   "execution_count": 5,
   "metadata": {},
   "outputs": [
    {
     "name": "stdout",
     "output_type": "stream",
     "text": [
      "['mouse631037' 'mouse654182' 'mouse655955' 'mouse655956' 'mouse657903'\n",
      " 'mouse666193' 'mouse666194' 'mouse666196' 'mouse669117' 'mouse669118'\n",
      " 'mouse673449' 'mouse676726' 'mouse676727' 'mouse678912' 'mouse678913'\n",
      " 'mouse688277' 'mouse689239' 'mouse689240' 'mouse689241' 'mouse689242'\n",
      " 'mouse692643' 'mouse692644' 'mouse703062' 'mouse703063' 'mouse703064'\n",
      " 'mouse703065' 'mouse709399' 'mouse709400' 'mouse709401' 'mouse709402'\n",
      " 'mouse720762' 'mouse724057' 'mouse728449' 'mouse730911' 'mouse730913'\n",
      " 'mouse735049' 'mouse735050' 'mouse735051' 'mouse735052']\n"
     ]
    }
   ],
   "source": [
    "all_mice = np.unique(metadata['mouse_name'].values)\n",
    "print(all_mice)"
   ]
  },
  {
   "cell_type": "code",
   "execution_count": 6,
   "metadata": {},
   "outputs": [
    {
     "data": {
      "text/plain": [
       "0\n",
       "mouse_name                                                                            mouse730911\n",
       "sex (M/F)                                                                                       F\n",
       "exp_name                                                               aw_ket_2024-05-02_10-41-41\n",
       "brain states                                                                  awake850/ket+psi850\n",
       "drug                                                                        ketanserin+psilocybin\n",
       "stimulation                                                                    electrical/sensory\n",
       "visual_stim                                                                         natural_scene\n",
       "audio_stim                                                                                     NA\n",
       "ISI (sec)                                                                       [6.5 7.5] / [2 3]\n",
       "stimulus duration (msec)                                                       0.2 / 200,500,1000\n",
       "Current (uA)                                                                             15/25/35\n",
       "Cortical Area stimulation                                                               M2 (deep)\n",
       "N trials per stimulus                                                                          80\n",
       "EEG bad_channels                                                                  3,9,10,11,20,23\n",
       "Npx                                                                                       B,C,D,F\n",
       "Units Sorted (X)                                                                                X\n",
       "Brain slices (X)                                                                                X\n",
       "Brain areas assignment                                                                          X\n",
       "CCF coordinates stim electrode (surface,tip)                           [154,46,194], [165,97,196]\n",
       "CCF area stim electrode (surface,tip)                                                MOs1, ACAd6a\n",
       "Pupil processed                                             T, 500000, ResNet-50, 150, 2.3.5, eye\n",
       "First injection time (s)                                                                     3708\n",
       "First injection window                                                                 3688, 3728\n",
       "Second injection time (s)                                                                    4532\n",
       "Second injection window                                                                4513, 4552\n",
       "Notes                                           Small 60hz peak in all chs. Screen is lighter ...\n",
       "NaN                                                                                          None\n",
       "Name: 83, dtype: object"
      ]
     },
     "execution_count": 6,
     "metadata": {},
     "output_type": "execute_result"
    }
   ],
   "source": [
    "mousemeta = metadata.iloc[82]\n",
    "mousemeta"
   ]
  },
  {
   "cell_type": "code",
   "execution_count": 7,
   "metadata": {},
   "outputs": [
    {
     "name": "stdout",
     "output_type": "stream",
     "text": [
      "Oh yeah, natural scenes, bb.\n"
     ]
    }
   ],
   "source": [
    "if mousemeta.visual_stim == 'natural_scene':\n",
    "    print('Oh yeah, natural scenes, bb.')"
   ]
  },
  {
   "cell_type": "code",
   "execution_count": 8,
   "metadata": {},
   "outputs": [
    {
     "name": "stdout",
     "output_type": "stream",
     "text": [
      "F:\\psi_exp\\mouse730911\\aw_ket_2024-05-02_10-41-41\\experiment1\\recording1\n"
     ]
    }
   ],
   "source": [
    "## Load stim_log ##\n",
    "rec_folder = os.path.join('F:\\psi_exp', mousemeta['mouse_name'], mousemeta['exp_name'], 'experiment1', 'recording1')\n",
    "print(rec_folder)"
   ]
  },
  {
   "cell_type": "markdown",
   "metadata": {},
   "source": [
    "Testing to see if the weird character is in the log."
   ]
  },
  {
   "cell_type": "code",
   "execution_count": 9,
   "metadata": {},
   "outputs": [
    {
     "data": {
      "text/plain": [
       "['F:\\\\psi_exp\\\\mouse730911\\\\aw_ket_2024-05-02_10-41-41\\\\experiment1\\\\recording1\\\\all_stim_log.csv']"
      ]
     },
     "execution_count": 9,
     "metadata": {},
     "output_type": "execute_result"
    }
   ],
   "source": [
    "glob(os.path.join(rec_folder, '*stim_log.csv'), recursive=True)"
   ]
  },
  {
   "cell_type": "code",
   "execution_count": 10,
   "metadata": {},
   "outputs": [],
   "source": [
    "if len(glob(os.path.join(rec_folder, '*stim_log.csv'), recursive=True)) == 1:\n",
    "    stim_file = glob(os.path.join(rec_folder, '*stim_log.csv'), recursive=True)[0]\n",
    "else:\n",
    "    print('Could not find one stim_log file')"
   ]
  },
  {
   "cell_type": "code",
   "execution_count": 13,
   "metadata": {},
   "outputs": [
    {
     "name": "stdout",
     "output_type": "stream",
     "text": [
      "['biphasic' 'natural_scene' '\\ufeffnatural_scene']\n"
     ]
    }
   ],
   "source": [
    "stim_log = pd.read_csv(stim_file)\n",
    "print(np.unique(stim_log['stim_type'].values))"
   ]
  },
  {
   "cell_type": "code",
   "execution_count": 17,
   "metadata": {},
   "outputs": [
    {
     "data": {
      "text/html": [
       "<div>\n",
       "<style scoped>\n",
       "    .dataframe tbody tr th:only-of-type {\n",
       "        vertical-align: middle;\n",
       "    }\n",
       "\n",
       "    .dataframe tbody tr th {\n",
       "        vertical-align: top;\n",
       "    }\n",
       "\n",
       "    .dataframe thead th {\n",
       "        text-align: right;\n",
       "    }\n",
       "</style>\n",
       "<table border=\"1\" class=\"dataframe\">\n",
       "  <thead>\n",
       "    <tr style=\"text-align: right;\">\n",
       "      <th></th>\n",
       "      <th>stim_type</th>\n",
       "      <th>parameter</th>\n",
       "      <th>duration</th>\n",
       "      <th>onset</th>\n",
       "      <th>offset</th>\n",
       "      <th>sweep</th>\n",
       "      <th>ISI</th>\n",
       "    </tr>\n",
       "  </thead>\n",
       "  <tbody>\n",
       "    <tr>\n",
       "      <th>660</th>\n",
       "      <td>﻿natural_scene</td>\n",
       "      <td>88</td>\n",
       "      <td>1.0</td>\n",
       "      <td>7521.85604</td>\n",
       "      <td>7522.85763</td>\n",
       "      <td>1</td>\n",
       "      <td>2.518012</td>\n",
       "    </tr>\n",
       "  </tbody>\n",
       "</table>\n",
       "</div>"
      ],
      "text/plain": [
       "          stim_type  parameter  duration       onset      offset  sweep  \\\n",
       "660  ﻿natural_scene         88       1.0  7521.85604  7522.85763      1   \n",
       "\n",
       "          ISI  \n",
       "660  2.518012  "
      ]
     },
     "execution_count": 17,
     "metadata": {},
     "output_type": "execute_result"
    }
   ],
   "source": [
    "stim_log[stim_log['stim_type'] == '\\ufeffnatural_scene']"
   ]
  },
  {
   "cell_type": "code",
   "execution_count": 12,
   "metadata": {},
   "outputs": [
    {
     "name": "stdout",
     "output_type": "stream",
     "text": [
      "['biphasic' 'natural_scene' '\\ufeffnatural_scene']\n"
     ]
    }
   ],
   "source": [
    "stim_log_test = pd.read_csv(stim_file, encoding='utf-8-sig')\n",
    "print(np.unique(stim_log_test['stim_type'].values))"
   ]
  },
  {
   "cell_type": "code",
   "execution_count": 16,
   "metadata": {},
   "outputs": [],
   "source": [
    "test_file = os.path.join(rec_folder, 'testlog.csv')\n",
    "stim_log_test.to_csv(test_file, index=False, encoding='utf-8-sig')"
   ]
  },
  {
   "cell_type": "code",
   "execution_count": 17,
   "metadata": {},
   "outputs": [
    {
     "name": "stdout",
     "output_type": "stream",
     "text": [
      "['biphasic' 'natural_scene' '\\ufeffnatural_scene']\n"
     ]
    }
   ],
   "source": [
    "test2 = pd.read_csv(test_file)\n",
    "print(np.unique(test2['stim_type'].values))"
   ]
  },
  {
   "cell_type": "code",
   "execution_count": null,
   "metadata": {},
   "outputs": [],
   "source": []
  },
  {
   "cell_type": "markdown",
   "metadata": {},
   "source": [
    "Testing deleting files"
   ]
  },
  {
   "cell_type": "code",
   "execution_count": 11,
   "metadata": {},
   "outputs": [],
   "source": [
    "test_file = os.path.join(rec_folder, 'testlog.csv')\n",
    "if os.path.exists(test_file):\n",
    "    print('Yes, log exists')"
   ]
  },
  {
   "cell_type": "code",
   "execution_count": 10,
   "metadata": {},
   "outputs": [],
   "source": [
    "os.remove(test_file)"
   ]
  },
  {
   "cell_type": "markdown",
   "metadata": {},
   "source": [
    "## Loop through Templeton log to find stim files with weird character"
   ]
  },
  {
   "cell_type": "code",
   "execution_count": 23,
   "metadata": {
    "scrolled": true
   },
   "outputs": [
    {
     "name": "stdout",
     "output_type": "stream",
     "text": [
      "mouse730913: aw_sal_2024-04-24_10-43-30\n",
      " NEED to fix stim log\n",
      " *FIXED*\n",
      "\n",
      "mouse730913: aw_ket_2024-04-26_10-11-34\n",
      " NEED to fix stim log\n",
      " *FIXED*\n",
      "\n",
      "mouse730911: aw_sal_2024-05-01_11-57-16\n",
      " NEED to fix stim log\n",
      " *FIXED*\n",
      "\n",
      "mouse730911: aw_ket_2024-05-02_10-41-41\n",
      " NEED to fix stim log\n",
      " *FIXED*\n",
      "\n",
      "mouse730911: aw_stim_train_2024-05-03_10-33-23\n",
      " No visual stim\n",
      "\n",
      "mouse735049: aw_sal_2024-05-22_11-05-25\n",
      " NEED to fix stim log\n",
      " *FIXED*\n",
      "\n",
      "mouse735049: aw_ket_2024-05-23_11-42-08\n",
      " NEED to fix stim log\n",
      " *FIXED*\n",
      "\n",
      "mouse735049: aw_stim_train_2024-05-24_10-36-53\n",
      " No visual stim\n",
      "\n",
      "mouse735050: aw_sal_2024-05-29_10-07-49\n",
      " Stim log is OK\n",
      "\n",
      "mouse735050: aw_psi_2024-05-30_09-46-15\n",
      " Stim log is OK\n",
      "\n",
      "mouse735050: aw_sal2_2024-05-31_10-24-49\n",
      " Stim log is OK\n",
      "\n",
      "mouse735051: aw_sal_2024-06-12_11-38-41\n",
      " Could not find one stim_log file\n",
      "\n",
      "mouse735051: aw_psi_2024-06-13_10-44-01\n",
      " Could not find one stim_log file\n",
      "\n",
      "mouse735051: aw_sal2_2024-06-14_10-36-57\n",
      " Could not find one stim_log file\n",
      "\n",
      "mouse735052: aw_sal_2024-06-19_11-07-23\n",
      " Could not find one stim_log file\n",
      "\n",
      "mouse735052: aw_psi_2024-06-20_10-40-56\n",
      " Could not find one stim_log file\n",
      "\n",
      "mouse735052: aw_sal2_2024-06-21_10-53-19\n",
      " Could not find one stim_log file\n",
      "\n"
     ]
    }
   ],
   "source": [
    "for indi, mousemeta in metadata[79:].iterrows():\n",
    "    print(f'{mousemeta.mouse_name}: {mousemeta.exp_name}')\n",
    "    if 'sensory' not in mousemeta['stimulation']:\n",
    "        print(' No visual stim\\n')\n",
    "        continue\n",
    "        \n",
    "    ## FOR LOCAL FILES ##\n",
    "#     rec_folder = os.path.join('F:\\psi_exp', mousemeta['mouse_name'], mousemeta['exp_name'], 'experiment1', 'recording1')\n",
    "    ## FOR SERVER FILES ##\n",
    "    rec_folder = os.path.join('P:\\\\', mousemeta['mouse_name'], mousemeta['exp_name'], 'experiment1', 'recording1')\n",
    "    if len(glob(os.path.join(rec_folder, '*stim_log.csv'), recursive=True)) == 1:\n",
    "        stim_file = glob(os.path.join(rec_folder, '*stim_log.csv'), recursive=True)[0]\n",
    "    else:\n",
    "        print(' Could not find one stim_log file\\n')\n",
    "        continue\n",
    "    \n",
    "    stim_log = pd.read_csv(stim_file)\n",
    "    if np.any([True if '\\ufeff' in x else False for x in np.unique(stim_log['stim_type'].values)]):\n",
    "        print(' NEED to fix stim log')\n",
    "        ## For local files ##\n",
    "        stim_log['stim_type'] = [x.replace('\\ufeff', '') for x in stim_log['stim_type'].values]\n",
    "        stim_log.to_csv(stim_file, index=False)\n",
    "        print(' *FIXED*')\n",
    "    else:\n",
    "        print(' Stim log is OK')\n",
    "    \n",
    "    print('')\n",
    "\n",
    "\n"
   ]
  },
  {
   "cell_type": "code",
   "execution_count": null,
   "metadata": {},
   "outputs": [],
   "source": []
  },
  {
   "cell_type": "code",
   "execution_count": null,
   "metadata": {},
   "outputs": [],
   "source": []
  }
 ],
 "metadata": {
  "kernelspec": {
   "display_name": "tbd_eeg",
   "language": "python",
   "name": "tbd_eeg"
  },
  "language_info": {
   "codemirror_mode": {
    "name": "ipython",
    "version": 3
   },
   "file_extension": ".py",
   "mimetype": "text/x-python",
   "name": "python",
   "nbconvert_exporter": "python",
   "pygments_lexer": "ipython3",
   "version": "3.7.13"
  }
 },
 "nbformat": 4,
 "nbformat_minor": 4
}
