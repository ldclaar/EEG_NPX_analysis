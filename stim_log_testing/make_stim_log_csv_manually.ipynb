{
 "cells": [
  {
   "cell_type": "markdown",
   "metadata": {},
   "source": [
    "Sometimes there is an error when trying to create the stim_log using the \"make_stim_csv=True\" flag. This usually arises if there is some issue with the sweep/sync pulses. Run the code below piece by piece to find the error, it is the same as the repository, but but allows you to interrupt the flow to correct an issue. This will NOT alter the .sync file in any way."
   ]
  },
  {
   "cell_type": "code",
   "execution_count": 1,
   "metadata": {},
   "outputs": [],
   "source": [
    "import io\n",
    "import sys\n",
    "import datetime\n",
    "import numpy as np\n",
    "import pandas as pd\n",
    "import matplotlib.pyplot as plt\n",
    "from glob import glob\n",
    "import copy\n",
    "import time"
   ]
  },
  {
   "cell_type": "code",
   "execution_count": 2,
   "metadata": {},
   "outputs": [],
   "source": [
    "sys.path.append(r'C:\\Users\\lesliec\\code')"
   ]
  },
  {
   "cell_type": "code",
   "execution_count": 3,
   "metadata": {},
   "outputs": [],
   "source": [
    "from tbd_eeg.tbd_eeg.data_analysis.eegutils import EEGexp"
   ]
  },
  {
   "cell_type": "code",
   "execution_count": 4,
   "metadata": {},
   "outputs": [],
   "source": [
    "%matplotlib notebook"
   ]
  },
  {
   "cell_type": "markdown",
   "metadata": {},
   "source": [
    "## EEGexp class"
   ]
  },
  {
   "cell_type": "code",
   "execution_count": 5,
   "metadata": {},
   "outputs": [
    {
     "name": "stdout",
     "output_type": "stream",
     "text": [
      "Experiment type: electrical stimulation\n"
     ]
    }
   ],
   "source": [
    "rec_folder = r'V:\\mouse730911\\aw_stim_train_2024-05-03_10-33-23\\experiment1\\recording1'\n",
    "exp = EEGexp(rec_folder, preprocess=False, make_stim_csv=False)"
   ]
  },
  {
   "cell_type": "code",
   "execution_count": 6,
   "metadata": {
    "scrolled": true
   },
   "outputs": [
    {
     "name": "stdout",
     "output_type": "stream",
     "text": [
      "730911\n",
      "electrical stimulation\n",
      "{'sensory': [], 'electrical': ['V:\\\\mouse730911\\\\aw_stim_train_2024-05-03_10-33-23\\\\experiment1\\\\recording1\\\\stimulation_protocol_1pulse_50tr_25uA_6.5-7.5_ISI.txt', 'V:\\\\mouse730911\\\\aw_stim_train_2024-05-03_10-33-23\\\\experiment1\\\\recording1\\\\stimulation_protocol_2pulse_50tr_25uA_6.5-7.5_ISI.txt'], 'opto': []}\n",
      "V:\\mouse730911\\aw_stim_train_2024-05-03_10-33-23\\experiment1\\recording1\\estim_log.csv\n"
     ]
    }
   ],
   "source": [
    "print(exp.mouse)\n",
    "print(exp.experiment_type)\n",
    "print(exp.stim_instruction_files)\n",
    "print(exp.stimulus_log_file)"
   ]
  },
  {
   "cell_type": "code",
   "execution_count": 7,
   "metadata": {},
   "outputs": [
    {
     "name": "stdout",
     "output_type": "stream",
     "text": [
      "['barcodes', 'opto_sync', 'frames', 'behavior_sweep', 'photodiode', 'sweep', '', 'behavior_vsync', 'eyetracking', 'behavior', 'rotA', 'rotB', 'estim_sync', 'estim_sweep', '', '', '', 'opto_sweep', 'opto_trial', '', '', '', '', '', '', '', '', '', '', '', '', '']\n"
     ]
    }
   ],
   "source": [
    "sync_data = exp._load_sync_dataset()\n",
    "print(sync_data.line_labels)"
   ]
  },
  {
   "cell_type": "raw",
   "metadata": {},
   "source": [
    "sync_data.meta_data"
   ]
  },
  {
   "cell_type": "markdown",
   "metadata": {},
   "source": [
    "# Electrical stim"
   ]
  },
  {
   "cell_type": "code",
   "execution_count": 8,
   "metadata": {},
   "outputs": [],
   "source": [
    "esweep_rising = sync_data.get_edges(keys=('estim_sweep',), kind='rising', units='seconds')\n",
    "esweep_falling = sync_data.get_edges(keys=('estim_sweep',), kind='falling', units='seconds')\n",
    "esync_rising = sync_data.get_edges(keys=('estim_sync',), kind='rising', units='seconds')\n",
    "esync_falling = sync_data.get_edges(keys=('estim_sync',), kind='falling', units='seconds')"
   ]
  },
  {
   "cell_type": "markdown",
   "metadata": {},
   "source": [
    "Need to check the sweep signal?"
   ]
  },
  {
   "cell_type": "raw",
   "metadata": {},
   "source": [
    "print(esweep_rising)"
   ]
  },
  {
   "cell_type": "raw",
   "metadata": {},
   "source": [
    "print(esweep_falling - esweep_rising)"
   ]
  },
  {
   "cell_type": "markdown",
   "metadata": {},
   "source": [
    "**If there is an extra sweep, identify the index and delete it from both arrays below.**"
   ]
  },
  {
   "cell_type": "raw",
   "metadata": {},
   "source": [
    "## The integer specified after the array refers to the index of the value you want to remove ##\n",
    "esweep_rising = np.delete(esweep_rising, 1)\n",
    "esweep_falling = np.delete(esweep_falling, 1)"
   ]
  },
  {
   "cell_type": "markdown",
   "metadata": {},
   "source": [
    "**This will create a fake sweep signal only if there are no sweeps found**"
   ]
  },
  {
   "cell_type": "raw",
   "metadata": {},
   "source": [
    "if len(esweep_rising) == 0:\n",
    "    between_sweep_inds = np.argwhere(np.diff(esync_rising) > 10.).flatten()\n",
    "    esweep_rising = np.concatenate(([esync_rising[0]-1.], esync_rising[between_sweep_inds+1]-1.))\n",
    "    esweep_falling = np.concatenate((esync_falling[between_sweep_inds]+1., [esync_falling[-1]+1.]))"
   ]
  },
  {
   "cell_type": "code",
   "execution_count": 9,
   "metadata": {},
   "outputs": [
    {
     "name": "stdout",
     "output_type": "stream",
     "text": [
      "Total e-stim trials: 720\n",
      "Number of e-stim sweeps: 3\n",
      "Trials per sweep: 240\n"
     ]
    }
   ],
   "source": [
    "total_trials = len(esync_rising)\n",
    "print('Total e-stim trials: %d' % total_trials)\n",
    "num_sweeps = len(esweep_rising)\n",
    "print('Number of e-stim sweeps: %d' % num_sweeps)\n",
    "trials_per_sweep = int(total_trials / num_sweeps)\n",
    "print('Trials per sweep: %d' % trials_per_sweep)"
   ]
  },
  {
   "cell_type": "raw",
   "metadata": {},
   "source": [
    "print(len(esync_rising))"
   ]
  },
  {
   "cell_type": "code",
   "execution_count": 10,
   "metadata": {},
   "outputs": [],
   "source": [
    "with open(exp.stim_instruction_files['electrical'][0]) as file:\n",
    "    estim_txt = file.read() # open estim file and read in text\n",
    "estim = estim_txt.split('channel:') # split and read txt file\n",
    "d = {}\n",
    "for item in estim:\n",
    "    if 'value' in item:\n",
    "        key = 'channel'+str(item[1])\n",
    "        d[key]=item.split('\\n')\n",
    "channel1 = d['channel1'][1:]\n",
    "ch1_df = pd.read_csv(io.StringIO('\\n'.join(channel1)), delim_whitespace=True)"
   ]
  },
  {
   "cell_type": "code",
   "execution_count": 11,
   "metadata": {},
   "outputs": [],
   "source": [
    "list_stim_type = []\n",
    "list_stim_amp = []\n",
    "list_stim_dur = []\n",
    "for i in range(1, len(ch1_df)):\n",
    "    if ch1_df.value.iloc[i-1] < 0 and ch1_df.value.iloc[i] > 0:\n",
    "        list_stim_type.append('biphasic')\n",
    "        list_stim_amp.append(ch1_df.value.iloc[i])\n",
    "        list_stim_dur.append(ch1_df.time.iloc[i-1] + ch1_df.time.iloc[i])\n",
    "estim_log = pd.DataFrame({\n",
    "    'stim_type': list_stim_type,\n",
    "    'parameter': list_stim_amp,\n",
    "    'duration': np.array(list_stim_dur) * 1e-6\n",
    "})"
   ]
  },
  {
   "cell_type": "code",
   "execution_count": 12,
   "metadata": {},
   "outputs": [
    {
     "name": "stdout",
     "output_type": "stream",
     "text": [
      "240\n"
     ]
    },
    {
     "data": {
      "text/html": [
       "<div>\n",
       "<style scoped>\n",
       "    .dataframe tbody tr th:only-of-type {\n",
       "        vertical-align: middle;\n",
       "    }\n",
       "\n",
       "    .dataframe tbody tr th {\n",
       "        vertical-align: top;\n",
       "    }\n",
       "\n",
       "    .dataframe thead th {\n",
       "        text-align: right;\n",
       "    }\n",
       "</style>\n",
       "<table border=\"1\" class=\"dataframe\">\n",
       "  <thead>\n",
       "    <tr style=\"text-align: right;\">\n",
       "      <th></th>\n",
       "      <th>stim_type</th>\n",
       "      <th>parameter</th>\n",
       "      <th>duration</th>\n",
       "    </tr>\n",
       "  </thead>\n",
       "  <tbody>\n",
       "    <tr>\n",
       "      <th>0</th>\n",
       "      <td>biphasic</td>\n",
       "      <td>70</td>\n",
       "      <td>0.0004</td>\n",
       "    </tr>\n",
       "    <tr>\n",
       "      <th>1</th>\n",
       "      <td>biphasic</td>\n",
       "      <td>70</td>\n",
       "      <td>0.0004</td>\n",
       "    </tr>\n",
       "    <tr>\n",
       "      <th>2</th>\n",
       "      <td>biphasic</td>\n",
       "      <td>50</td>\n",
       "      <td>0.0004</td>\n",
       "    </tr>\n",
       "    <tr>\n",
       "      <th>3</th>\n",
       "      <td>biphasic</td>\n",
       "      <td>50</td>\n",
       "      <td>0.0004</td>\n",
       "    </tr>\n",
       "    <tr>\n",
       "      <th>4</th>\n",
       "      <td>biphasic</td>\n",
       "      <td>30</td>\n",
       "      <td>0.0004</td>\n",
       "    </tr>\n",
       "  </tbody>\n",
       "</table>\n",
       "</div>"
      ],
      "text/plain": [
       "  stim_type  parameter  duration\n",
       "0  biphasic         70    0.0004\n",
       "1  biphasic         70    0.0004\n",
       "2  biphasic         50    0.0004\n",
       "3  biphasic         50    0.0004\n",
       "4  biphasic         30    0.0004"
      ]
     },
     "execution_count": 12,
     "metadata": {},
     "output_type": "execute_result"
    }
   ],
   "source": [
    "print(len(estim_log))\n",
    "estim_log.head()"
   ]
  },
  {
   "cell_type": "code",
   "execution_count": 13,
   "metadata": {},
   "outputs": [],
   "source": [
    "if len(estim_log) == trials_per_sweep:\n",
    "    estim_log = pd.concat([estim_log] * num_sweeps, axis='index', ignore_index=True)\n",
    "else:\n",
    "    print('estim_log does not match total_trials / num_sweeps')"
   ]
  },
  {
   "cell_type": "markdown",
   "metadata": {},
   "source": [
    "**This fixed stim log for 546655, when we stopped in the middle of a block.**"
   ]
  },
  {
   "cell_type": "raw",
   "metadata": {},
   "source": [
    "## if the LAST stim block was cut short\n",
    "intended_tr_per_sw = len(estim_log)\n",
    "if len(estim_log) != trials_per_sweep:\n",
    "    estim_log = pd.concat([estim_log] * num_sweeps, axis='index', ignore_index=True)\n",
    "    missing_trials = len(estim_log) - len(esync_rising)\n",
    "    estim_log = estim_log[:-missing_trials]\n",
    "print(len(estim_log))"
   ]
  },
  {
   "cell_type": "code",
   "execution_count": 14,
   "metadata": {},
   "outputs": [],
   "source": [
    "estim_log['onset'] = esync_rising\n",
    "estim_log['offset'] = esync_falling"
   ]
  },
  {
   "cell_type": "code",
   "execution_count": 15,
   "metadata": {},
   "outputs": [],
   "source": [
    "estim_log['sweep'] = np.zeros(len(estim_log), dtype=int) - 1\n",
    "for i in range(len(esweep_rising)):\n",
    "    # print('Sweep %d: %f to %f' % (i, sweep_start, sweep_end))\n",
    "    estim_log.loc[(estim_log['onset'] >= esweep_rising[i]-5) & (estim_log['onset'] <= esweep_falling[i]+2), 'sweep'] = i"
   ]
  },
  {
   "cell_type": "code",
   "execution_count": 16,
   "metadata": {
    "scrolled": true
   },
   "outputs": [
    {
     "data": {
      "text/html": [
       "<div>\n",
       "<style scoped>\n",
       "    .dataframe tbody tr th:only-of-type {\n",
       "        vertical-align: middle;\n",
       "    }\n",
       "\n",
       "    .dataframe tbody tr th {\n",
       "        vertical-align: top;\n",
       "    }\n",
       "\n",
       "    .dataframe thead th {\n",
       "        text-align: right;\n",
       "    }\n",
       "</style>\n",
       "<table border=\"1\" class=\"dataframe\">\n",
       "  <thead>\n",
       "    <tr style=\"text-align: right;\">\n",
       "      <th></th>\n",
       "      <th>stim_type</th>\n",
       "      <th>parameter</th>\n",
       "      <th>duration</th>\n",
       "      <th>onset</th>\n",
       "      <th>offset</th>\n",
       "      <th>sweep</th>\n",
       "    </tr>\n",
       "  </thead>\n",
       "  <tbody>\n",
       "    <tr>\n",
       "      <th>0</th>\n",
       "      <td>biphasic</td>\n",
       "      <td>70</td>\n",
       "      <td>0.0004</td>\n",
       "      <td>198.68670</td>\n",
       "      <td>198.68710</td>\n",
       "      <td>0</td>\n",
       "    </tr>\n",
       "    <tr>\n",
       "      <th>1</th>\n",
       "      <td>biphasic</td>\n",
       "      <td>70</td>\n",
       "      <td>0.0004</td>\n",
       "      <td>205.83477</td>\n",
       "      <td>205.83517</td>\n",
       "      <td>0</td>\n",
       "    </tr>\n",
       "    <tr>\n",
       "      <th>2</th>\n",
       "      <td>biphasic</td>\n",
       "      <td>50</td>\n",
       "      <td>0.0004</td>\n",
       "      <td>213.01424</td>\n",
       "      <td>213.01464</td>\n",
       "      <td>0</td>\n",
       "    </tr>\n",
       "    <tr>\n",
       "      <th>3</th>\n",
       "      <td>biphasic</td>\n",
       "      <td>50</td>\n",
       "      <td>0.0004</td>\n",
       "      <td>220.15047</td>\n",
       "      <td>220.15087</td>\n",
       "      <td>0</td>\n",
       "    </tr>\n",
       "    <tr>\n",
       "      <th>4</th>\n",
       "      <td>biphasic</td>\n",
       "      <td>30</td>\n",
       "      <td>0.0004</td>\n",
       "      <td>227.59610</td>\n",
       "      <td>227.59650</td>\n",
       "      <td>0</td>\n",
       "    </tr>\n",
       "  </tbody>\n",
       "</table>\n",
       "</div>"
      ],
      "text/plain": [
       "  stim_type  parameter  duration      onset     offset  sweep\n",
       "0  biphasic         70    0.0004  198.68670  198.68710      0\n",
       "1  biphasic         70    0.0004  205.83477  205.83517      0\n",
       "2  biphasic         50    0.0004  213.01424  213.01464      0\n",
       "3  biphasic         50    0.0004  220.15047  220.15087      0\n",
       "4  biphasic         30    0.0004  227.59610  227.59650      0"
      ]
     },
     "execution_count": 16,
     "metadata": {},
     "output_type": "execute_result"
    }
   ],
   "source": [
    "estim_log.head()"
   ]
  },
  {
   "cell_type": "code",
   "execution_count": 17,
   "metadata": {
    "scrolled": true
   },
   "outputs": [
    {
     "data": {
      "text/html": [
       "<div>\n",
       "<style scoped>\n",
       "    .dataframe tbody tr th:only-of-type {\n",
       "        vertical-align: middle;\n",
       "    }\n",
       "\n",
       "    .dataframe tbody tr th {\n",
       "        vertical-align: top;\n",
       "    }\n",
       "\n",
       "    .dataframe thead th {\n",
       "        text-align: right;\n",
       "    }\n",
       "</style>\n",
       "<table border=\"1\" class=\"dataframe\">\n",
       "  <thead>\n",
       "    <tr style=\"text-align: right;\">\n",
       "      <th></th>\n",
       "      <th>stim_type</th>\n",
       "      <th>parameter</th>\n",
       "      <th>duration</th>\n",
       "      <th>onset</th>\n",
       "      <th>offset</th>\n",
       "      <th>sweep</th>\n",
       "    </tr>\n",
       "  </thead>\n",
       "  <tbody>\n",
       "    <tr>\n",
       "      <th>115</th>\n",
       "      <td>biphasic</td>\n",
       "      <td>70</td>\n",
       "      <td>0.0004</td>\n",
       "      <td>1006.06239</td>\n",
       "      <td>1006.06279</td>\n",
       "      <td>0</td>\n",
       "    </tr>\n",
       "    <tr>\n",
       "      <th>116</th>\n",
       "      <td>biphasic</td>\n",
       "      <td>30</td>\n",
       "      <td>0.0004</td>\n",
       "      <td>1013.05802</td>\n",
       "      <td>1013.05842</td>\n",
       "      <td>0</td>\n",
       "    </tr>\n",
       "    <tr>\n",
       "      <th>117</th>\n",
       "      <td>biphasic</td>\n",
       "      <td>50</td>\n",
       "      <td>0.0004</td>\n",
       "      <td>1019.74818</td>\n",
       "      <td>1019.74858</td>\n",
       "      <td>0</td>\n",
       "    </tr>\n",
       "    <tr>\n",
       "      <th>118</th>\n",
       "      <td>biphasic</td>\n",
       "      <td>30</td>\n",
       "      <td>0.0004</td>\n",
       "      <td>1026.74363</td>\n",
       "      <td>1026.74403</td>\n",
       "      <td>0</td>\n",
       "    </tr>\n",
       "    <tr>\n",
       "      <th>119</th>\n",
       "      <td>biphasic</td>\n",
       "      <td>30</td>\n",
       "      <td>0.0004</td>\n",
       "      <td>1033.39167</td>\n",
       "      <td>1033.39207</td>\n",
       "      <td>0</td>\n",
       "    </tr>\n",
       "    <tr>\n",
       "      <th>120</th>\n",
       "      <td>biphasic</td>\n",
       "      <td>50</td>\n",
       "      <td>0.0004</td>\n",
       "      <td>1039.94710</td>\n",
       "      <td>1039.94750</td>\n",
       "      <td>0</td>\n",
       "    </tr>\n",
       "    <tr>\n",
       "      <th>121</th>\n",
       "      <td>biphasic</td>\n",
       "      <td>30</td>\n",
       "      <td>0.0004</td>\n",
       "      <td>1047.29827</td>\n",
       "      <td>1047.29867</td>\n",
       "      <td>0</td>\n",
       "    </tr>\n",
       "    <tr>\n",
       "      <th>122</th>\n",
       "      <td>biphasic</td>\n",
       "      <td>30</td>\n",
       "      <td>0.0004</td>\n",
       "      <td>1054.35928</td>\n",
       "      <td>1054.35968</td>\n",
       "      <td>0</td>\n",
       "    </tr>\n",
       "    <tr>\n",
       "      <th>123</th>\n",
       "      <td>biphasic</td>\n",
       "      <td>30</td>\n",
       "      <td>0.0004</td>\n",
       "      <td>1061.78933</td>\n",
       "      <td>1061.78973</td>\n",
       "      <td>0</td>\n",
       "    </tr>\n",
       "    <tr>\n",
       "      <th>124</th>\n",
       "      <td>biphasic</td>\n",
       "      <td>30</td>\n",
       "      <td>0.0004</td>\n",
       "      <td>1068.98644</td>\n",
       "      <td>1068.98684</td>\n",
       "      <td>0</td>\n",
       "    </tr>\n",
       "  </tbody>\n",
       "</table>\n",
       "</div>"
      ],
      "text/plain": [
       "    stim_type  parameter  duration       onset      offset  sweep\n",
       "115  biphasic         70    0.0004  1006.06239  1006.06279      0\n",
       "116  biphasic         30    0.0004  1013.05802  1013.05842      0\n",
       "117  biphasic         50    0.0004  1019.74818  1019.74858      0\n",
       "118  biphasic         30    0.0004  1026.74363  1026.74403      0\n",
       "119  biphasic         30    0.0004  1033.39167  1033.39207      0\n",
       "120  biphasic         50    0.0004  1039.94710  1039.94750      0\n",
       "121  biphasic         30    0.0004  1047.29827  1047.29867      0\n",
       "122  biphasic         30    0.0004  1054.35928  1054.35968      0\n",
       "123  biphasic         30    0.0004  1061.78933  1061.78973      0\n",
       "124  biphasic         30    0.0004  1068.98644  1068.98684      0"
      ]
     },
     "execution_count": 17,
     "metadata": {},
     "output_type": "execute_result"
    }
   ],
   "source": [
    "estim_log[115:125]"
   ]
  },
  {
   "cell_type": "markdown",
   "metadata": {},
   "source": [
    "# If just estim, stop here and go to \"Combine all logs\" step below"
   ]
  },
  {
   "cell_type": "markdown",
   "metadata": {},
   "source": [
    "## Sensory stim"
   ]
  },
  {
   "cell_type": "markdown",
   "metadata": {},
   "source": [
    "This is from NP4 with a digital photodiode.<br>Load behavior_sweep, behavior_sync, and photodiode rising and falling edges."
   ]
  },
  {
   "cell_type": "code",
   "execution_count": 8,
   "metadata": {},
   "outputs": [],
   "source": [
    "# behavior_sweep\n",
    "sweep_rising = sync_data.get_edges(keys=('behavior_sweep',), kind='rising', units='seconds')\n",
    "sweep_falling = sync_data.get_edges(keys=('behavior_sweep',), kind='falling', units='seconds')\n",
    "# behavior_vsync\n",
    "vsync_rising = sync_data.get_edges(keys=('behavior_vsync',), kind='rising', units='seconds')\n",
    "vsync_falling = sync_data.get_edges(keys=('behavior_vsync',), kind='falling', units='seconds')\n",
    "# photodiode\n",
    "pd_rising = sync_data.get_edges(keys=('photodiode',), kind='rising', units='seconds')\n",
    "pd_falling = sync_data.get_edges(keys=('photodiode',), kind='falling', units='seconds')"
   ]
  },
  {
   "cell_type": "code",
   "execution_count": 9,
   "metadata": {},
   "outputs": [],
   "source": [
    "if len(sweep_rising) == 0:\n",
    "    between_sweep_inds = np.argwhere(np.diff(vsync_rising) > 10.).flatten()\n",
    "    sweep_rising = np.concatenate(([vsync_rising[0]-1.], vsync_rising[between_sweep_inds]+2.))\n",
    "    sweep_falling = np.concatenate((vsync_rising[between_sweep_inds]+1., [vsync_rising[-1]+1.]))"
   ]
  },
  {
   "cell_type": "raw",
   "metadata": {},
   "source": [
    "## This was a fix for Jackie's mouse 541634, Rec1. Somehow missing the first sweep and vsync rising edges ##\n",
    "if vsync_falling[0] < vsync_rising[0]:\n",
    "    print('Missing first vsync rising edge')\n",
    "    test_rising = []\n",
    "    test_rising = np.insert(vsync_rising, 0, vsync_falling[0] - (vsync_falling[1]-vsync_rising[0]))\n",
    "    print(test_rising[0:4])\n",
    "    print(vsync_falling[0:4])\n",
    "    vsync_rising = test_rising\n",
    "    \n",
    "    between_sweep_inds = np.argwhere(np.diff(vsync_rising) > 10.).flatten()\n",
    "    sweep_rising = np.concatenate(([vsync_rising[0]-1.], vsync_rising[between_sweep_inds]+2.))\n",
    "    sweep_falling = np.concatenate((vsync_rising[between_sweep_inds]+1., [vsync_rising[-1]+1.]))"
   ]
  },
  {
   "cell_type": "code",
   "execution_count": 9,
   "metadata": {},
   "outputs": [
    {
     "name": "stdout",
     "output_type": "stream",
     "text": [
      "behavior_sweep info\n",
      "number of rising/falling: 2/2\n",
      "first rising: 157.130560\n",
      "first falling: 763.825500\n"
     ]
    }
   ],
   "source": [
    "print('behavior_sweep info')\n",
    "print('number of rising/falling: %d/%d' % (len(sweep_rising), len(sweep_falling)))\n",
    "print('first rising: %f' % sweep_rising[0])\n",
    "print('first falling: %f' % sweep_falling[0])"
   ]
  },
  {
   "cell_type": "code",
   "execution_count": 10,
   "metadata": {},
   "outputs": [
    {
     "name": "stdout",
     "output_type": "stream",
     "text": [
      "behavior_vsync info\n",
      "number of rising/falling: 61794/61794\n",
      "first rising: 157.131140\n",
      "first falling: 157.132720\n"
     ]
    }
   ],
   "source": [
    "print('behavior_vsync info')\n",
    "print('number of rising/falling: %d/%d' % (len(vsync_rising), len(vsync_falling)))\n",
    "print('first rising: %f' % vsync_rising[0])\n",
    "print('first falling: %f' % vsync_falling[0])"
   ]
  },
  {
   "cell_type": "code",
   "execution_count": 11,
   "metadata": {},
   "outputs": [
    {
     "name": "stdout",
     "output_type": "stream",
     "text": [
      "photodiode info\n",
      "number of rising/falling: 240/240\n",
      "first rising: 211.865310\n",
      "first falling: 212.097540\n"
     ]
    }
   ],
   "source": [
    "print('photodiode info')\n",
    "print('number of rising/falling: %d/%d' % (len(pd_rising), len(pd_falling)))\n",
    "print('first rising: %f' % pd_rising[0])\n",
    "print('first falling: %f' % pd_falling[0])"
   ]
  },
  {
   "cell_type": "raw",
   "metadata": {},
   "source": [
    "## Have an extra rising/falling sweep?\n",
    "pd_falling = pd_falling[1:]\n",
    "pd_rising = pd_rising[:-1]"
   ]
  },
  {
   "cell_type": "raw",
   "metadata": {},
   "source": [
    "## Need to look at the rising/falling times?\n",
    "print(pd_rising[0:5])\n",
    "print(pd_falling[0:5])"
   ]
  },
  {
   "cell_type": "markdown",
   "metadata": {},
   "source": [
    "Load 'timestamp'_stimulus_log.csv"
   ]
  },
  {
   "cell_type": "code",
   "execution_count": 17,
   "metadata": {},
   "outputs": [
    {
     "name": "stdout",
     "output_type": "stream",
     "text": [
      "61338\n"
     ]
    },
    {
     "data": {
      "text/html": [
       "<div>\n",
       "<style scoped>\n",
       "    .dataframe tbody tr th:only-of-type {\n",
       "        vertical-align: middle;\n",
       "    }\n",
       "\n",
       "    .dataframe tbody tr th {\n",
       "        vertical-align: top;\n",
       "    }\n",
       "\n",
       "    .dataframe thead th {\n",
       "        text-align: right;\n",
       "    }\n",
       "</style>\n",
       "<table border=\"1\" class=\"dataframe\">\n",
       "  <thead>\n",
       "    <tr style=\"text-align: right;\">\n",
       "      <th></th>\n",
       "      <th>time</th>\n",
       "      <th>frame</th>\n",
       "      <th>display_stim</th>\n",
       "      <th>stim_type</th>\n",
       "      <th>stim_parameter</th>\n",
       "    </tr>\n",
       "  </thead>\n",
       "  <tbody>\n",
       "    <tr>\n",
       "      <th>0</th>\n",
       "      <td>0.004293</td>\n",
       "      <td>0</td>\n",
       "      <td>False</td>\n",
       "      <td>gray_screen</td>\n",
       "      <td>none</td>\n",
       "    </tr>\n",
       "    <tr>\n",
       "      <th>1</th>\n",
       "      <td>0.017292</td>\n",
       "      <td>1</td>\n",
       "      <td>False</td>\n",
       "      <td>gray_screen</td>\n",
       "      <td>none</td>\n",
       "    </tr>\n",
       "    <tr>\n",
       "      <th>2</th>\n",
       "      <td>0.020625</td>\n",
       "      <td>2</td>\n",
       "      <td>False</td>\n",
       "      <td>gray_screen</td>\n",
       "      <td>none</td>\n",
       "    </tr>\n",
       "    <tr>\n",
       "      <th>3</th>\n",
       "      <td>0.037331</td>\n",
       "      <td>3</td>\n",
       "      <td>False</td>\n",
       "      <td>gray_screen</td>\n",
       "      <td>none</td>\n",
       "    </tr>\n",
       "    <tr>\n",
       "      <th>4</th>\n",
       "      <td>0.054198</td>\n",
       "      <td>4</td>\n",
       "      <td>False</td>\n",
       "      <td>gray_screen</td>\n",
       "      <td>none</td>\n",
       "    </tr>\n",
       "  </tbody>\n",
       "</table>\n",
       "</div>"
      ],
      "text/plain": [
       "       time  frame  display_stim    stim_type stim_parameter\n",
       "0  0.004293      0         False  gray_screen           none\n",
       "1  0.017292      1         False  gray_screen           none\n",
       "2  0.020625      2         False  gray_screen           none\n",
       "3  0.037331      3         False  gray_screen           none\n",
       "4  0.054198      4         False  gray_screen           none"
      ]
     },
     "execution_count": 17,
     "metadata": {},
     "output_type": "execute_result"
    }
   ],
   "source": [
    "log_long = pd.read_csv(exp.stim_instruction_files['sensory'][0])\n",
    "print(len(log_long))\n",
    "log_long.head()"
   ]
  },
  {
   "cell_type": "markdown",
   "metadata": {},
   "source": [
    "Remove \"gray\" screens from log"
   ]
  },
  {
   "cell_type": "raw",
   "metadata": {},
   "source": [
    "## ORIGINAL ##\n",
    "log_long = log_long.drop(labels='time', axis='columns')\n",
    "\n",
    "## if vsync edges are too short, cut the log_long ##\n",
    "if len(log_long) > len(vsync_falling):\n",
    "    log_long = log_long[:len(vsync_falling)] # keep the beginning of log\n",
    "#     log_long = log_long[-len(vsync_falling):] # keep the end of log\n",
    "\n",
    "log_long['vsync_rising'] = vsync_rising\n",
    "log_long['vsync_falling'] = vsync_falling\n",
    "\n",
    "## Remove gray screen from log ##\n",
    "visual_stimuli = ['fullscreen', 'circle', 'natural_scene']\n",
    "list_stim_type = []\n",
    "list_stim_param = []\n",
    "list_onset_times = []\n",
    "list_offset_times = []\n",
    "for i in range(1, len(log_long)):\n",
    "    if log_long.stim_type.iloc[i-1] == 'gray_screen' and log_long.stim_type.iloc[i] in visual_stimuli:\n",
    "        list_onset_times.append(log_long.vsync_falling.iloc[i]) # vsync_falling is visual stim onset\n",
    "        list_stim_type.append(log_long.stim_type.iloc[i])\n",
    "        list_stim_param.append(log_long.stim_parameter.iloc[i]) # to make sure order matches stim table\n",
    "    elif log_long.stim_type.iloc[i-1] in visual_stimuli and log_long.stim_type.iloc[i] == 'gray_screen':\n",
    "        list_offset_times.append(log_long.vsync_falling.iloc[i]) # gray_screen vsync_falling is visual stim offset\n",
    "    elif log_long.stim_type.iloc[i-1] == 'gray_screen' and log_long.stim_type.iloc[i] == 'auditory':\n",
    "        list_onset_times.append(log_long.vsync_rising.iloc[i]) # vsync_rising is aditory stim onset\n",
    "        list_offset_times.append(log_long.vsync_falling.iloc[i]) # vsync_falling is aditory stim offset\n",
    "        list_stim_type.append(log_long.stim_type.iloc[i])\n",
    "        list_stim_param.append(log_long.stim_parameter.iloc[i])\n",
    "stim_log = pd.DataFrame({\n",
    "    'stim_type': list_stim_type,\n",
    "    'parameter': list_stim_param,\n",
    "    'onset': list_onset_times,\n",
    "    'offset': list_offset_times\n",
    "})"
   ]
  },
  {
   "cell_type": "code",
   "execution_count": 18,
   "metadata": {},
   "outputs": [],
   "source": [
    "## NOW remove reliance on vsync pulses ##\n",
    "log_long = log_long.drop(labels='time', axis='columns')\n",
    "\n",
    "## Remove gray screen from log ##\n",
    "visual_stimuli = ['fullscreen', 'circle', 'natural_scene']\n",
    "list_stim_type = []\n",
    "list_stim_param = []\n",
    "for i in range(1, len(log_long)):\n",
    "    if log_long.stim_type.iloc[i-1] == 'gray_screen' and log_long.stim_type.iloc[i] in visual_stimuli:\n",
    "        list_stim_type.append(log_long.stim_type.iloc[i])\n",
    "        list_stim_param.append(log_long.stim_parameter.iloc[i]) # to make sure order matches stim table\n",
    "stim_log = pd.DataFrame({\n",
    "    'stim_type': list_stim_type,\n",
    "    'parameter': list_stim_param,\n",
    "})"
   ]
  },
  {
   "cell_type": "raw",
   "metadata": {},
   "source": [
    "## if vsync edges are too long and we only need last half ##\n",
    "log_long = log_long.drop(labels='time', axis='columns')\n",
    "log_long['vsync_rising'] = vsync_rising[-len(log_long):]\n",
    "log_long['vsync_falling'] = vsync_falling[-len(log_long):]"
   ]
  },
  {
   "cell_type": "code",
   "execution_count": 15,
   "metadata": {},
   "outputs": [
    {
     "name": "stdout",
     "output_type": "stream",
     "text": [
      "[191.97224 195.98945 199.92549 204.12917 208.16565]\n"
     ]
    }
   ],
   "source": [
    "print(pd_rising[:5])"
   ]
  },
  {
   "cell_type": "code",
   "execution_count": 15,
   "metadata": {},
   "outputs": [
    {
     "name": "stdout",
     "output_type": "stream",
     "text": [
      "240\n"
     ]
    }
   ],
   "source": [
    "print(len(pd_rising))"
   ]
  },
  {
   "cell_type": "code",
   "execution_count": 19,
   "metadata": {},
   "outputs": [
    {
     "name": "stdout",
     "output_type": "stream",
     "text": [
      "240\n"
     ]
    },
    {
     "data": {
      "text/html": [
       "<div>\n",
       "<style scoped>\n",
       "    .dataframe tbody tr th:only-of-type {\n",
       "        vertical-align: middle;\n",
       "    }\n",
       "\n",
       "    .dataframe tbody tr th {\n",
       "        vertical-align: top;\n",
       "    }\n",
       "\n",
       "    .dataframe thead th {\n",
       "        text-align: right;\n",
       "    }\n",
       "</style>\n",
       "<table border=\"1\" class=\"dataframe\">\n",
       "  <thead>\n",
       "    <tr style=\"text-align: right;\">\n",
       "      <th></th>\n",
       "      <th>stim_type</th>\n",
       "      <th>parameter</th>\n",
       "    </tr>\n",
       "  </thead>\n",
       "  <tbody>\n",
       "    <tr>\n",
       "      <th>0</th>\n",
       "      <td>natural_scene</td>\n",
       "      <td>33</td>\n",
       "    </tr>\n",
       "    <tr>\n",
       "      <th>1</th>\n",
       "      <td>natural_scene</td>\n",
       "      <td>65</td>\n",
       "    </tr>\n",
       "    <tr>\n",
       "      <th>2</th>\n",
       "      <td>natural_scene</td>\n",
       "      <td>88</td>\n",
       "    </tr>\n",
       "    <tr>\n",
       "      <th>3</th>\n",
       "      <td>natural_scene</td>\n",
       "      <td>51</td>\n",
       "    </tr>\n",
       "    <tr>\n",
       "      <th>4</th>\n",
       "      <td>natural_scene</td>\n",
       "      <td>114</td>\n",
       "    </tr>\n",
       "  </tbody>\n",
       "</table>\n",
       "</div>"
      ],
      "text/plain": [
       "       stim_type parameter\n",
       "0  natural_scene        33\n",
       "1  natural_scene        65\n",
       "2  natural_scene        88\n",
       "3  natural_scene        51\n",
       "4  natural_scene       114"
      ]
     },
     "execution_count": 19,
     "metadata": {},
     "output_type": "execute_result"
    }
   ],
   "source": [
    "## These are not the correct onset/offset times yet\n",
    "print(len(stim_log))\n",
    "stim_log.head()"
   ]
  },
  {
   "cell_type": "raw",
   "metadata": {},
   "source": [
    "## Mean delay ##\n",
    "np.mean(pd_rising - stim_log['onset'])"
   ]
  },
  {
   "cell_type": "raw",
   "metadata": {},
   "source": [
    "# fix for missing photodiode pulse\n",
    "if pd_rising.shape[0] < stim_log.shape[0]:\n",
    "    print('# photodiode edges less than length of stim_log: {:d} missing'.format(stim_log.shape[0]-pd_rising.shape[0]))\n",
    "    print(np.nonzero((pd_rising - stim_log.onset.values[:pd_rising.shape[0]]) > 0.05)[0][0])\n",
    "elif pd_rising.shape[0] > stim_log.shape[0]:\n",
    "    print('# photodiode edges more than length of stim_log: {:d} too many'.format(pd_rising.shape[0]-stim_log.shape[0]))\n",
    "else:\n",
    "    print('# photodiode edges matches length of stim_log!')"
   ]
  },
  {
   "cell_type": "raw",
   "metadata": {},
   "source": [
    "# fix for missing photodiode pulse\n",
    "missing_ind = np.nonzero((pd_rising - stim_log.onset.values[:pd_rising.shape[0]]) > 0.05)[0][0]\n",
    "pd_rising = np.insert(\n",
    "    pd_rising,\n",
    "    missing_ind,\n",
    "    stim_log.onset.iloc[missing_ind]+np.mean(pd_rising[1:6] - stim_log.onset.iloc[1:6])\n",
    ")\n",
    "print(len(pd_rising))\n",
    "pd_falling = np.insert(\n",
    "    pd_falling,\n",
    "    missing_ind,\n",
    "    stim_log.offset.iloc[missing_ind]+np.mean(pd_falling[1:6] - stim_log.offset.iloc[1:6])\n",
    ")\n",
    "print(len(pd_falling))"
   ]
  },
  {
   "cell_type": "markdown",
   "metadata": {},
   "source": [
    "Correct onset and offset times using photodiode rising and falling times"
   ]
  },
  {
   "cell_type": "code",
   "execution_count": 20,
   "metadata": {},
   "outputs": [
    {
     "data": {
      "text/html": [
       "<div>\n",
       "<style scoped>\n",
       "    .dataframe tbody tr th:only-of-type {\n",
       "        vertical-align: middle;\n",
       "    }\n",
       "\n",
       "    .dataframe tbody tr th {\n",
       "        vertical-align: top;\n",
       "    }\n",
       "\n",
       "    .dataframe thead th {\n",
       "        text-align: right;\n",
       "    }\n",
       "</style>\n",
       "<table border=\"1\" class=\"dataframe\">\n",
       "  <thead>\n",
       "    <tr style=\"text-align: right;\">\n",
       "      <th></th>\n",
       "      <th>stim_type</th>\n",
       "      <th>parameter</th>\n",
       "      <th>onset</th>\n",
       "      <th>offset</th>\n",
       "      <th>duration</th>\n",
       "    </tr>\n",
       "  </thead>\n",
       "  <tbody>\n",
       "    <tr>\n",
       "      <th>0</th>\n",
       "      <td>natural_scene</td>\n",
       "      <td>33</td>\n",
       "      <td>211.86531</td>\n",
       "      <td>212.09754</td>\n",
       "      <td>0.23223</td>\n",
       "    </tr>\n",
       "    <tr>\n",
       "      <th>1</th>\n",
       "      <td>natural_scene</td>\n",
       "      <td>65</td>\n",
       "      <td>215.33486</td>\n",
       "      <td>215.58380</td>\n",
       "      <td>0.24894</td>\n",
       "    </tr>\n",
       "    <tr>\n",
       "      <th>2</th>\n",
       "      <td>natural_scene</td>\n",
       "      <td>88</td>\n",
       "      <td>218.33738</td>\n",
       "      <td>219.07006</td>\n",
       "      <td>0.73268</td>\n",
       "    </tr>\n",
       "    <tr>\n",
       "      <th>3</th>\n",
       "      <td>natural_scene</td>\n",
       "      <td>51</td>\n",
       "      <td>226.67768</td>\n",
       "      <td>226.85989</td>\n",
       "      <td>0.18221</td>\n",
       "    </tr>\n",
       "    <tr>\n",
       "      <th>4</th>\n",
       "      <td>natural_scene</td>\n",
       "      <td>114</td>\n",
       "      <td>229.94706</td>\n",
       "      <td>230.21266</td>\n",
       "      <td>0.26560</td>\n",
       "    </tr>\n",
       "  </tbody>\n",
       "</table>\n",
       "</div>"
      ],
      "text/plain": [
       "       stim_type parameter      onset     offset  duration\n",
       "0  natural_scene        33  211.86531  212.09754   0.23223\n",
       "1  natural_scene        65  215.33486  215.58380   0.24894\n",
       "2  natural_scene        88  218.33738  219.07006   0.73268\n",
       "3  natural_scene        51  226.67768  226.85989   0.18221\n",
       "4  natural_scene       114  229.94706  230.21266   0.26560"
      ]
     },
     "execution_count": 20,
     "metadata": {},
     "output_type": "execute_result"
    }
   ],
   "source": [
    "stim_log['onset'] = pd_rising\n",
    "stim_log['offset'] = pd_falling\n",
    "stim_log['duration'] = stim_log['offset'] - stim_log['onset']\n",
    "stim_log.head()"
   ]
  },
  {
   "cell_type": "raw",
   "metadata": {},
   "source": [
    "## If we are missing photodiode times and onset/offset cannot by corrected, apply a mean correction ##\n",
    "mean_delay = 0.0455 # stim display is actually a bit later than log reports\n",
    "stim_log['onset'] = stim_log['onset'] + mean_delay\n",
    "stim_log['offset'] = stim_log['offset'] + mean_delay\n",
    "stim_log['duration'] = stim_log['offset'] - stim_log['onset']\n",
    "stim_log.head()"
   ]
  },
  {
   "cell_type": "raw",
   "metadata": {},
   "source": [
    "## if photodiode edges are too long and we only need last half ##\n",
    "stim_log['onset'] = pd_rising[-len(stim_log):]\n",
    "stim_log['offset'] = pd_falling[-len(stim_log):]\n",
    "stim_log['duration'] = stim_log['offset'] - stim_log['onset']\n",
    "stim_log.head()"
   ]
  },
  {
   "cell_type": "code",
   "execution_count": 21,
   "metadata": {},
   "outputs": [],
   "source": [
    "stim_log['sweep'] = np.zeros(len(stim_log), dtype=int) - 1\n",
    "for i in range(len(sweep_rising)):\n",
    "    # print('Sweep %d: %f to %f' % (i, sweep_start, sweep_end))\n",
    "    stim_log.loc[(stim_log['onset'] > sweep_rising[i]) & (stim_log['onset'] < sweep_falling[i]), 'sweep'] = i"
   ]
  },
  {
   "cell_type": "code",
   "execution_count": 22,
   "metadata": {
    "scrolled": true
   },
   "outputs": [
    {
     "data": {
      "text/html": [
       "<div>\n",
       "<style scoped>\n",
       "    .dataframe tbody tr th:only-of-type {\n",
       "        vertical-align: middle;\n",
       "    }\n",
       "\n",
       "    .dataframe tbody tr th {\n",
       "        vertical-align: top;\n",
       "    }\n",
       "\n",
       "    .dataframe thead th {\n",
       "        text-align: right;\n",
       "    }\n",
       "</style>\n",
       "<table border=\"1\" class=\"dataframe\">\n",
       "  <thead>\n",
       "    <tr style=\"text-align: right;\">\n",
       "      <th></th>\n",
       "      <th>stim_type</th>\n",
       "      <th>parameter</th>\n",
       "      <th>onset</th>\n",
       "      <th>offset</th>\n",
       "      <th>duration</th>\n",
       "      <th>sweep</th>\n",
       "    </tr>\n",
       "  </thead>\n",
       "  <tbody>\n",
       "    <tr>\n",
       "      <th>0</th>\n",
       "      <td>natural_scene</td>\n",
       "      <td>33</td>\n",
       "      <td>211.86531</td>\n",
       "      <td>212.09754</td>\n",
       "      <td>0.23223</td>\n",
       "      <td>0</td>\n",
       "    </tr>\n",
       "    <tr>\n",
       "      <th>1</th>\n",
       "      <td>natural_scene</td>\n",
       "      <td>65</td>\n",
       "      <td>215.33486</td>\n",
       "      <td>215.58380</td>\n",
       "      <td>0.24894</td>\n",
       "      <td>0</td>\n",
       "    </tr>\n",
       "    <tr>\n",
       "      <th>2</th>\n",
       "      <td>natural_scene</td>\n",
       "      <td>88</td>\n",
       "      <td>218.33738</td>\n",
       "      <td>219.07006</td>\n",
       "      <td>0.73268</td>\n",
       "      <td>0</td>\n",
       "    </tr>\n",
       "    <tr>\n",
       "      <th>3</th>\n",
       "      <td>natural_scene</td>\n",
       "      <td>51</td>\n",
       "      <td>226.67768</td>\n",
       "      <td>226.85989</td>\n",
       "      <td>0.18221</td>\n",
       "      <td>0</td>\n",
       "    </tr>\n",
       "    <tr>\n",
       "      <th>4</th>\n",
       "      <td>natural_scene</td>\n",
       "      <td>114</td>\n",
       "      <td>229.94706</td>\n",
       "      <td>230.21266</td>\n",
       "      <td>0.26560</td>\n",
       "      <td>0</td>\n",
       "    </tr>\n",
       "    <tr>\n",
       "      <th>5</th>\n",
       "      <td>natural_scene</td>\n",
       "      <td>103</td>\n",
       "      <td>235.91871</td>\n",
       "      <td>236.15097</td>\n",
       "      <td>0.23226</td>\n",
       "      <td>0</td>\n",
       "    </tr>\n",
       "    <tr>\n",
       "      <th>6</th>\n",
       "      <td>natural_scene</td>\n",
       "      <td>117</td>\n",
       "      <td>238.87116</td>\n",
       "      <td>239.15347</td>\n",
       "      <td>0.28231</td>\n",
       "      <td>0</td>\n",
       "    </tr>\n",
       "    <tr>\n",
       "      <th>7</th>\n",
       "      <td>natural_scene</td>\n",
       "      <td>116</td>\n",
       "      <td>241.64014</td>\n",
       "      <td>242.38950</td>\n",
       "      <td>0.74936</td>\n",
       "      <td>0</td>\n",
       "    </tr>\n",
       "    <tr>\n",
       "      <th>8</th>\n",
       "      <td>natural_scene</td>\n",
       "      <td>82</td>\n",
       "      <td>248.12890</td>\n",
       "      <td>248.86155</td>\n",
       "      <td>0.73265</td>\n",
       "      <td>0</td>\n",
       "    </tr>\n",
       "    <tr>\n",
       "      <th>9</th>\n",
       "      <td>natural_scene</td>\n",
       "      <td>40</td>\n",
       "      <td>251.98211</td>\n",
       "      <td>252.74813</td>\n",
       "      <td>0.76602</td>\n",
       "      <td>0</td>\n",
       "    </tr>\n",
       "    <tr>\n",
       "      <th>10</th>\n",
       "      <td>natural_scene</td>\n",
       "      <td>92</td>\n",
       "      <td>261.18979</td>\n",
       "      <td>261.92246</td>\n",
       "      <td>0.73267</td>\n",
       "      <td>0</td>\n",
       "    </tr>\n",
       "    <tr>\n",
       "      <th>11</th>\n",
       "      <td>natural_scene</td>\n",
       "      <td>18</td>\n",
       "      <td>264.54259</td>\n",
       "      <td>264.80820</td>\n",
       "      <td>0.26561</td>\n",
       "      <td>0</td>\n",
       "    </tr>\n",
       "    <tr>\n",
       "      <th>12</th>\n",
       "      <td>natural_scene</td>\n",
       "      <td>107</td>\n",
       "      <td>270.73107</td>\n",
       "      <td>270.99670</td>\n",
       "      <td>0.26563</td>\n",
       "      <td>0</td>\n",
       "    </tr>\n",
       "    <tr>\n",
       "      <th>13</th>\n",
       "      <td>natural_scene</td>\n",
       "      <td>107</td>\n",
       "      <td>276.40250</td>\n",
       "      <td>277.16853</td>\n",
       "      <td>0.76603</td>\n",
       "      <td>0</td>\n",
       "    </tr>\n",
       "    <tr>\n",
       "      <th>14</th>\n",
       "      <td>natural_scene</td>\n",
       "      <td>76</td>\n",
       "      <td>279.77198</td>\n",
       "      <td>280.00424</td>\n",
       "      <td>0.23226</td>\n",
       "      <td>0</td>\n",
       "    </tr>\n",
       "    <tr>\n",
       "      <th>15</th>\n",
       "      <td>natural_scene</td>\n",
       "      <td>33</td>\n",
       "      <td>283.12475</td>\n",
       "      <td>283.89081</td>\n",
       "      <td>0.76606</td>\n",
       "      <td>0</td>\n",
       "    </tr>\n",
       "    <tr>\n",
       "      <th>16</th>\n",
       "      <td>natural_scene</td>\n",
       "      <td>59</td>\n",
       "      <td>286.27741</td>\n",
       "      <td>287.02676</td>\n",
       "      <td>0.74935</td>\n",
       "      <td>0</td>\n",
       "    </tr>\n",
       "    <tr>\n",
       "      <th>17</th>\n",
       "      <td>natural_scene</td>\n",
       "      <td>97</td>\n",
       "      <td>295.05141</td>\n",
       "      <td>295.26698</td>\n",
       "      <td>0.21557</td>\n",
       "      <td>0</td>\n",
       "    </tr>\n",
       "    <tr>\n",
       "      <th>18</th>\n",
       "      <td>natural_scene</td>\n",
       "      <td>4</td>\n",
       "      <td>297.88711</td>\n",
       "      <td>298.15273</td>\n",
       "      <td>0.26562</td>\n",
       "      <td>0</td>\n",
       "    </tr>\n",
       "    <tr>\n",
       "      <th>19</th>\n",
       "      <td>natural_scene</td>\n",
       "      <td>91</td>\n",
       "      <td>301.35667</td>\n",
       "      <td>302.08935</td>\n",
       "      <td>0.73268</td>\n",
       "      <td>0</td>\n",
       "    </tr>\n",
       "    <tr>\n",
       "      <th>20</th>\n",
       "      <td>natural_scene</td>\n",
       "      <td>62</td>\n",
       "      <td>304.79289</td>\n",
       "      <td>305.50885</td>\n",
       "      <td>0.71596</td>\n",
       "      <td>0</td>\n",
       "    </tr>\n",
       "    <tr>\n",
       "      <th>21</th>\n",
       "      <td>natural_scene</td>\n",
       "      <td>25</td>\n",
       "      <td>308.27912</td>\n",
       "      <td>309.02849</td>\n",
       "      <td>0.74937</td>\n",
       "      <td>0</td>\n",
       "    </tr>\n",
       "    <tr>\n",
       "      <th>22</th>\n",
       "      <td>natural_scene</td>\n",
       "      <td>77</td>\n",
       "      <td>314.26747</td>\n",
       "      <td>314.49972</td>\n",
       "      <td>0.23225</td>\n",
       "      <td>0</td>\n",
       "    </tr>\n",
       "    <tr>\n",
       "      <th>23</th>\n",
       "      <td>natural_scene</td>\n",
       "      <td>60</td>\n",
       "      <td>316.83629</td>\n",
       "      <td>317.56897</td>\n",
       "      <td>0.73268</td>\n",
       "      <td>0</td>\n",
       "    </tr>\n",
       "    <tr>\n",
       "      <th>24</th>\n",
       "      <td>natural_scene</td>\n",
       "      <td>66</td>\n",
       "      <td>324.99310</td>\n",
       "      <td>325.24204</td>\n",
       "      <td>0.24894</td>\n",
       "      <td>0</td>\n",
       "    </tr>\n",
       "    <tr>\n",
       "      <th>25</th>\n",
       "      <td>natural_scene</td>\n",
       "      <td>100</td>\n",
       "      <td>327.74539</td>\n",
       "      <td>328.01104</td>\n",
       "      <td>0.26565</td>\n",
       "      <td>0</td>\n",
       "    </tr>\n",
       "    <tr>\n",
       "      <th>26</th>\n",
       "      <td>natural_scene</td>\n",
       "      <td>52</td>\n",
       "      <td>338.95477</td>\n",
       "      <td>339.70414</td>\n",
       "      <td>0.74937</td>\n",
       "      <td>0</td>\n",
       "    </tr>\n",
       "    <tr>\n",
       "      <th>27</th>\n",
       "      <td>natural_scene</td>\n",
       "      <td>66</td>\n",
       "      <td>344.82635</td>\n",
       "      <td>345.57571</td>\n",
       "      <td>0.74936</td>\n",
       "      <td>0</td>\n",
       "    </tr>\n",
       "  </tbody>\n",
       "</table>\n",
       "</div>"
      ],
      "text/plain": [
       "        stim_type parameter      onset     offset  duration  sweep\n",
       "0   natural_scene        33  211.86531  212.09754   0.23223      0\n",
       "1   natural_scene        65  215.33486  215.58380   0.24894      0\n",
       "2   natural_scene        88  218.33738  219.07006   0.73268      0\n",
       "3   natural_scene        51  226.67768  226.85989   0.18221      0\n",
       "4   natural_scene       114  229.94706  230.21266   0.26560      0\n",
       "5   natural_scene       103  235.91871  236.15097   0.23226      0\n",
       "6   natural_scene       117  238.87116  239.15347   0.28231      0\n",
       "7   natural_scene       116  241.64014  242.38950   0.74936      0\n",
       "8   natural_scene        82  248.12890  248.86155   0.73265      0\n",
       "9   natural_scene        40  251.98211  252.74813   0.76602      0\n",
       "10  natural_scene        92  261.18979  261.92246   0.73267      0\n",
       "11  natural_scene        18  264.54259  264.80820   0.26561      0\n",
       "12  natural_scene       107  270.73107  270.99670   0.26563      0\n",
       "13  natural_scene       107  276.40250  277.16853   0.76603      0\n",
       "14  natural_scene        76  279.77198  280.00424   0.23226      0\n",
       "15  natural_scene        33  283.12475  283.89081   0.76606      0\n",
       "16  natural_scene        59  286.27741  287.02676   0.74935      0\n",
       "17  natural_scene        97  295.05141  295.26698   0.21557      0\n",
       "18  natural_scene         4  297.88711  298.15273   0.26562      0\n",
       "19  natural_scene        91  301.35667  302.08935   0.73268      0\n",
       "20  natural_scene        62  304.79289  305.50885   0.71596      0\n",
       "21  natural_scene        25  308.27912  309.02849   0.74937      0\n",
       "22  natural_scene        77  314.26747  314.49972   0.23225      0\n",
       "23  natural_scene        60  316.83629  317.56897   0.73268      0\n",
       "24  natural_scene        66  324.99310  325.24204   0.24894      0\n",
       "25  natural_scene       100  327.74539  328.01104   0.26565      0\n",
       "26  natural_scene        52  338.95477  339.70414   0.74937      0\n",
       "27  natural_scene        66  344.82635  345.57571   0.74936      0"
      ]
     },
     "execution_count": 22,
     "metadata": {},
     "output_type": "execute_result"
    }
   ],
   "source": [
    "stim_log[0:28]"
   ]
  },
  {
   "cell_type": "markdown",
   "metadata": {},
   "source": [
    "## Combine all logs"
   ]
  },
  {
   "cell_type": "code",
   "execution_count": 23,
   "metadata": {},
   "outputs": [],
   "source": [
    "all_logs_list = [stim_log] # estim is called estim_log and visual is called stim_log"
   ]
  },
  {
   "cell_type": "code",
   "execution_count": 24,
   "metadata": {},
   "outputs": [],
   "source": [
    "all_stim_log = pd.concat(all_logs_list, axis=0, sort=False).sort_values(by='onset', axis=0)"
   ]
  },
  {
   "cell_type": "code",
   "execution_count": 25,
   "metadata": {},
   "outputs": [
    {
     "data": {
      "text/html": [
       "<div>\n",
       "<style scoped>\n",
       "    .dataframe tbody tr th:only-of-type {\n",
       "        vertical-align: middle;\n",
       "    }\n",
       "\n",
       "    .dataframe tbody tr th {\n",
       "        vertical-align: top;\n",
       "    }\n",
       "\n",
       "    .dataframe thead th {\n",
       "        text-align: right;\n",
       "    }\n",
       "</style>\n",
       "<table border=\"1\" class=\"dataframe\">\n",
       "  <thead>\n",
       "    <tr style=\"text-align: right;\">\n",
       "      <th></th>\n",
       "      <th>stim_type</th>\n",
       "      <th>parameter</th>\n",
       "      <th>onset</th>\n",
       "      <th>offset</th>\n",
       "      <th>duration</th>\n",
       "      <th>sweep</th>\n",
       "    </tr>\n",
       "  </thead>\n",
       "  <tbody>\n",
       "    <tr>\n",
       "      <th>0</th>\n",
       "      <td>natural_scene</td>\n",
       "      <td>33</td>\n",
       "      <td>211.86531</td>\n",
       "      <td>212.09754</td>\n",
       "      <td>0.23223</td>\n",
       "      <td>0</td>\n",
       "    </tr>\n",
       "    <tr>\n",
       "      <th>1</th>\n",
       "      <td>natural_scene</td>\n",
       "      <td>65</td>\n",
       "      <td>215.33486</td>\n",
       "      <td>215.58380</td>\n",
       "      <td>0.24894</td>\n",
       "      <td>0</td>\n",
       "    </tr>\n",
       "    <tr>\n",
       "      <th>2</th>\n",
       "      <td>natural_scene</td>\n",
       "      <td>88</td>\n",
       "      <td>218.33738</td>\n",
       "      <td>219.07006</td>\n",
       "      <td>0.73268</td>\n",
       "      <td>0</td>\n",
       "    </tr>\n",
       "    <tr>\n",
       "      <th>3</th>\n",
       "      <td>natural_scene</td>\n",
       "      <td>51</td>\n",
       "      <td>226.67768</td>\n",
       "      <td>226.85989</td>\n",
       "      <td>0.18221</td>\n",
       "      <td>0</td>\n",
       "    </tr>\n",
       "    <tr>\n",
       "      <th>4</th>\n",
       "      <td>natural_scene</td>\n",
       "      <td>114</td>\n",
       "      <td>229.94706</td>\n",
       "      <td>230.21266</td>\n",
       "      <td>0.26560</td>\n",
       "      <td>0</td>\n",
       "    </tr>\n",
       "  </tbody>\n",
       "</table>\n",
       "</div>"
      ],
      "text/plain": [
       "       stim_type parameter      onset     offset  duration  sweep\n",
       "0  natural_scene        33  211.86531  212.09754   0.23223      0\n",
       "1  natural_scene        65  215.33486  215.58380   0.24894      0\n",
       "2  natural_scene        88  218.33738  219.07006   0.73268      0\n",
       "3  natural_scene        51  226.67768  226.85989   0.18221      0\n",
       "4  natural_scene       114  229.94706  230.21266   0.26560      0"
      ]
     },
     "execution_count": 25,
     "metadata": {},
     "output_type": "execute_result"
    }
   ],
   "source": [
    "all_stim_log.head()"
   ]
  },
  {
   "cell_type": "markdown",
   "metadata": {},
   "source": [
    "## Save the file"
   ]
  },
  {
   "cell_type": "code",
   "execution_count": 26,
   "metadata": {},
   "outputs": [],
   "source": [
    "all_stim_log.to_csv(exp.stimulus_log_file, index=False)"
   ]
  },
  {
   "cell_type": "markdown",
   "metadata": {},
   "source": [
    "#### Load file to check?"
   ]
  },
  {
   "cell_type": "raw",
   "metadata": {},
   "source": [
    "test_log = pd.read_csv(exp.stimulus_log_file)\n",
    "test_log[75:90]"
   ]
  },
  {
   "cell_type": "code",
   "execution_count": null,
   "metadata": {},
   "outputs": [],
   "source": []
  }
 ],
 "metadata": {
  "kernelspec": {
   "display_name": "tbd_eeg",
   "language": "python",
   "name": "tbd_eeg"
  },
  "language_info": {
   "codemirror_mode": {
    "name": "ipython",
    "version": 3
   },
   "file_extension": ".py",
   "mimetype": "text/x-python",
   "name": "python",
   "nbconvert_exporter": "python",
   "pygments_lexer": "ipython3",
   "version": "3.7.13"
  }
 },
 "nbformat": 4,
 "nbformat_minor": 2
}
