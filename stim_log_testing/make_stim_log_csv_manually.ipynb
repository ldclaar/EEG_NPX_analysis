{
 "cells": [
  {
   "cell_type": "markdown",
   "metadata": {},
   "source": [
    "Sometimes there is an error when trying to create the stim_log using the \"make_stim_csv=True\" flag. This usually arises if there is some issue with the sweep/sync pulses. Run the code below piece by piece to find the error, it is the same as the repository, but but allows you to interrupt the flow to correct an issue. This will NOT alter the .sync file in any way."
   ]
  },
  {
   "cell_type": "code",
   "execution_count": 1,
   "metadata": {},
   "outputs": [],
   "source": [
    "import io\n",
    "import sys\n",
    "import datetime\n",
    "import numpy as np\n",
    "import pandas as pd\n",
    "import matplotlib.pyplot as plt\n",
    "from glob import glob\n",
    "import copy\n",
    "import time"
   ]
  },
  {
   "cell_type": "code",
   "execution_count": 2,
   "metadata": {},
   "outputs": [],
   "source": [
    "sys.path.append(r'C:\\Users\\lesliec\\code')"
   ]
  },
  {
   "cell_type": "code",
   "execution_count": 3,
   "metadata": {},
   "outputs": [],
   "source": [
    "from tbd_eeg.tbd_eeg.data_analysis.eegutils import EEGexp"
   ]
  },
  {
   "cell_type": "code",
   "execution_count": 4,
   "metadata": {},
   "outputs": [],
   "source": [
    "%matplotlib notebook"
   ]
  },
  {
   "cell_type": "markdown",
   "metadata": {},
   "source": [
    "## EEGexp class"
   ]
  },
  {
   "cell_type": "code",
   "execution_count": 5,
   "metadata": {},
   "outputs": [
    {
     "name": "stdout",
     "output_type": "stream",
     "text": [
      "Experiment type: electrical and sensory stimulation\n"
     ]
    }
   ],
   "source": [
    "rec_folder = r'E:\\NWB_testing\\mouse569064\\estim_vis_2021-04-08_10-28-24\\experiment1\\recording1'\n",
    "exp = EEGexp(rec_folder, preprocess=False, make_stim_csv=False)"
   ]
  },
  {
   "cell_type": "code",
   "execution_count": 6,
   "metadata": {
    "scrolled": true
   },
   "outputs": [
    {
     "name": "stdout",
     "output_type": "stream",
     "text": [
      "569064\n",
      "electrical and sensory stimulation\n",
      "{'sensory': ['E:\\\\NWB_testing\\\\mouse569064\\\\estim_vis_2021-04-08_10-28-24\\\\experiment1\\\\recording1\\\\2021-04-08_10-58-38_stimulus_log.csv'], 'electrical': ['E:\\\\NWB_testing\\\\mouse569064\\\\estim_vis_2021-04-08_10-28-24\\\\experiment1\\\\recording1\\\\stimulation_protocol_120tr_15_40_60uA.dat'], 'opto': []}\n",
      "E:\\NWB_testing\\mouse569064\\estim_vis_2021-04-08_10-28-24\\experiment1\\recording1\\all_stim_log.csv\n"
     ]
    }
   ],
   "source": [
    "print(exp.mouse)\n",
    "print(exp.experiment_type)\n",
    "print(exp.stim_instruction_files)\n",
    "print(exp.stimulus_log_file)"
   ]
  },
  {
   "cell_type": "code",
   "execution_count": 7,
   "metadata": {},
   "outputs": [
    {
     "name": "stdout",
     "output_type": "stream",
     "text": [
      "['barcodes', 'opto_copy', 'frames', 'behavior_sweep', 'photodiode', 'sweep', '', 'behavior_vsync', 'eyetracking', 'behavior', 'rotA', 'rotB', 'estim_sync', 'estim_sweep', '', '', '', 'opto_sweep', 'opto_trial', '', '', '', '', '', '', '', '', '', '', '', '', '']\n"
     ]
    }
   ],
   "source": [
    "sync_data = exp._load_sync_dataset()\n",
    "print(sync_data.line_labels)"
   ]
  },
  {
   "cell_type": "raw",
   "metadata": {},
   "source": [
    "sync_data.meta_data"
   ]
  },
  {
   "cell_type": "markdown",
   "metadata": {},
   "source": [
    "# Electrical stim"
   ]
  },
  {
   "cell_type": "code",
   "execution_count": 8,
   "metadata": {},
   "outputs": [],
   "source": [
    "esweep_rising = sync_data.get_edges(keys=('estim_sweep',), kind='rising', units='seconds')\n",
    "esweep_falling = sync_data.get_edges(keys=('estim_sweep',), kind='falling', units='seconds')\n",
    "esync_rising = sync_data.get_edges(keys=('estim_sync',), kind='rising', units='seconds')\n",
    "esync_falling = sync_data.get_edges(keys=('estim_sync',), kind='falling', units='seconds')"
   ]
  },
  {
   "cell_type": "markdown",
   "metadata": {},
   "source": [
    "Need to check the sweep signal?"
   ]
  },
  {
   "cell_type": "raw",
   "metadata": {},
   "source": [
    "print(esweep_rising)"
   ]
  },
  {
   "cell_type": "raw",
   "metadata": {},
   "source": [
    "print(esweep_falling - esweep_rising)"
   ]
  },
  {
   "cell_type": "markdown",
   "metadata": {},
   "source": [
    "**If there is an extra sweep, identify the index and delete it from both arrays below.**"
   ]
  },
  {
   "cell_type": "raw",
   "metadata": {},
   "source": [
    "## The integer specified after the array refers to the index of the value you want to remove ##\n",
    "esweep_rising = np.delete(esweep_rising, 1)\n",
    "esweep_falling = np.delete(esweep_falling, 1)"
   ]
  },
  {
   "cell_type": "markdown",
   "metadata": {},
   "source": [
    "**This will create a fake sweep signal only if there are no sweeps found**"
   ]
  },
  {
   "cell_type": "raw",
   "metadata": {},
   "source": [
    "if len(esweep_rising) == 0:\n",
    "    between_sweep_inds = np.argwhere(np.diff(esync_rising) > 10.).flatten()\n",
    "    esweep_rising = np.concatenate(([esync_rising[0]-1.], esync_rising[between_sweep_inds+1]-1.))\n",
    "    esweep_falling = np.concatenate((esync_falling[between_sweep_inds]+1., [esync_falling[-1]+1.]))"
   ]
  },
  {
   "cell_type": "code",
   "execution_count": 17,
   "metadata": {},
   "outputs": [
    {
     "name": "stdout",
     "output_type": "stream",
     "text": [
      "Total e-stim trials: 1200\n",
      "Number of e-stim sweeps: 10\n",
      "Trials per sweep: 120\n"
     ]
    }
   ],
   "source": [
    "total_trials = len(esync_rising)\n",
    "print('Total e-stim trials: %d' % total_trials)\n",
    "num_sweeps = len(esweep_rising)\n",
    "print('Number of e-stim sweeps: %d' % num_sweeps)\n",
    "trials_per_sweep = int(total_trials / num_sweeps)\n",
    "print('Trials per sweep: %d' % trials_per_sweep)"
   ]
  },
  {
   "cell_type": "raw",
   "metadata": {},
   "source": [
    "print(len(esync_rising))"
   ]
  },
  {
   "cell_type": "code",
   "execution_count": 18,
   "metadata": {},
   "outputs": [],
   "source": [
    "with open(exp.stim_instruction_files['electrical'][0]) as file:\n",
    "    estim_txt = file.read() # open estim file and read in text\n",
    "estim = estim_txt.split('channel:') # split and read txt file\n",
    "d = {}\n",
    "for item in estim:\n",
    "    if 'value' in item:\n",
    "        key = 'channel'+str(item[1])\n",
    "        d[key]=item.split('\\n')\n",
    "channel1 = d['channel1'][1:]\n",
    "ch1_df = pd.read_csv(io.StringIO('\\n'.join(channel1)), delim_whitespace=True)"
   ]
  },
  {
   "cell_type": "code",
   "execution_count": 19,
   "metadata": {},
   "outputs": [],
   "source": [
    "list_stim_type = []\n",
    "list_stim_amp = []\n",
    "list_stim_dur = []\n",
    "for i in range(1, len(ch1_df)):\n",
    "    if ch1_df.value.iloc[i-1] < 0 and ch1_df.value.iloc[i] > 0:\n",
    "        list_stim_type.append('biphasic')\n",
    "        list_stim_amp.append(ch1_df.value.iloc[i])\n",
    "        list_stim_dur.append(ch1_df.time.iloc[i-1] + ch1_df.time.iloc[i])\n",
    "estim_log = pd.DataFrame({\n",
    "    'stim_type': list_stim_type,\n",
    "    'parameter': list_stim_amp,\n",
    "    'duration': np.array(list_stim_dur) * 1e-6\n",
    "})"
   ]
  },
  {
   "cell_type": "code",
   "execution_count": 20,
   "metadata": {},
   "outputs": [
    {
     "name": "stdout",
     "output_type": "stream",
     "text": [
      "120\n"
     ]
    },
    {
     "data": {
      "text/html": [
       "<div>\n",
       "<style scoped>\n",
       "    .dataframe tbody tr th:only-of-type {\n",
       "        vertical-align: middle;\n",
       "    }\n",
       "\n",
       "    .dataframe tbody tr th {\n",
       "        vertical-align: top;\n",
       "    }\n",
       "\n",
       "    .dataframe thead th {\n",
       "        text-align: right;\n",
       "    }\n",
       "</style>\n",
       "<table border=\"1\" class=\"dataframe\">\n",
       "  <thead>\n",
       "    <tr style=\"text-align: right;\">\n",
       "      <th></th>\n",
       "      <th>stim_type</th>\n",
       "      <th>parameter</th>\n",
       "      <th>duration</th>\n",
       "    </tr>\n",
       "  </thead>\n",
       "  <tbody>\n",
       "    <tr>\n",
       "      <th>0</th>\n",
       "      <td>biphasic</td>\n",
       "      <td>40</td>\n",
       "      <td>0.0004</td>\n",
       "    </tr>\n",
       "    <tr>\n",
       "      <th>1</th>\n",
       "      <td>biphasic</td>\n",
       "      <td>40</td>\n",
       "      <td>0.0004</td>\n",
       "    </tr>\n",
       "    <tr>\n",
       "      <th>2</th>\n",
       "      <td>biphasic</td>\n",
       "      <td>40</td>\n",
       "      <td>0.0004</td>\n",
       "    </tr>\n",
       "    <tr>\n",
       "      <th>3</th>\n",
       "      <td>biphasic</td>\n",
       "      <td>40</td>\n",
       "      <td>0.0004</td>\n",
       "    </tr>\n",
       "    <tr>\n",
       "      <th>4</th>\n",
       "      <td>biphasic</td>\n",
       "      <td>40</td>\n",
       "      <td>0.0004</td>\n",
       "    </tr>\n",
       "  </tbody>\n",
       "</table>\n",
       "</div>"
      ],
      "text/plain": [
       "  stim_type  parameter  duration\n",
       "0  biphasic         40    0.0004\n",
       "1  biphasic         40    0.0004\n",
       "2  biphasic         40    0.0004\n",
       "3  biphasic         40    0.0004\n",
       "4  biphasic         40    0.0004"
      ]
     },
     "execution_count": 20,
     "metadata": {},
     "output_type": "execute_result"
    }
   ],
   "source": [
    "print(len(estim_log))\n",
    "estim_log.head()"
   ]
  },
  {
   "cell_type": "code",
   "execution_count": 21,
   "metadata": {},
   "outputs": [],
   "source": [
    "if len(estim_log) == trials_per_sweep:\n",
    "    estim_log = pd.concat([estim_log] * num_sweeps, axis='index', ignore_index=True)\n",
    "else:\n",
    "    print('estim_log does not match total_trials / num_sweeps')"
   ]
  },
  {
   "cell_type": "markdown",
   "metadata": {},
   "source": [
    "**This fixed stim log for 546655, when we stopped in the middle of a block.**"
   ]
  },
  {
   "cell_type": "raw",
   "metadata": {},
   "source": [
    "## if the LAST stim block was cut short\n",
    "intended_tr_per_sw = len(estim_log)\n",
    "if len(estim_log) != trials_per_sweep:\n",
    "    estim_log = pd.concat([estim_log] * num_sweeps, axis='index', ignore_index=True)\n",
    "    missing_trials = len(estim_log) - len(esync_rising)\n",
    "    estim_log = estim_log[:-missing_trials]\n",
    "print(len(estim_log))"
   ]
  },
  {
   "cell_type": "code",
   "execution_count": 22,
   "metadata": {},
   "outputs": [],
   "source": [
    "estim_log['onset'] = esync_rising\n",
    "estim_log['offset'] = esync_falling"
   ]
  },
  {
   "cell_type": "code",
   "execution_count": 23,
   "metadata": {},
   "outputs": [],
   "source": [
    "estim_log['sweep'] = np.zeros(len(estim_log), dtype=int) - 1\n",
    "for i in range(len(esweep_rising)):\n",
    "    # print('Sweep %d: %f to %f' % (i, sweep_start, sweep_end))\n",
    "    estim_log.loc[(estim_log['onset'] >= esweep_rising[i]-5) & (estim_log['onset'] <= esweep_falling[i]+2), 'sweep'] = i"
   ]
  },
  {
   "cell_type": "code",
   "execution_count": 25,
   "metadata": {
    "scrolled": true
   },
   "outputs": [
    {
     "data": {
      "text/html": [
       "<div>\n",
       "<style scoped>\n",
       "    .dataframe tbody tr th:only-of-type {\n",
       "        vertical-align: middle;\n",
       "    }\n",
       "\n",
       "    .dataframe tbody tr th {\n",
       "        vertical-align: top;\n",
       "    }\n",
       "\n",
       "    .dataframe thead th {\n",
       "        text-align: right;\n",
       "    }\n",
       "</style>\n",
       "<table border=\"1\" class=\"dataframe\">\n",
       "  <thead>\n",
       "    <tr style=\"text-align: right;\">\n",
       "      <th></th>\n",
       "      <th>stim_type</th>\n",
       "      <th>parameter</th>\n",
       "      <th>duration</th>\n",
       "      <th>onset</th>\n",
       "      <th>offset</th>\n",
       "      <th>sweep</th>\n",
       "    </tr>\n",
       "  </thead>\n",
       "  <tbody>\n",
       "    <tr>\n",
       "      <th>0</th>\n",
       "      <td>biphasic</td>\n",
       "      <td>40</td>\n",
       "      <td>0.0004</td>\n",
       "      <td>1123.72310</td>\n",
       "      <td>1123.72350</td>\n",
       "      <td>0</td>\n",
       "    </tr>\n",
       "    <tr>\n",
       "      <th>1</th>\n",
       "      <td>biphasic</td>\n",
       "      <td>40</td>\n",
       "      <td>0.0004</td>\n",
       "      <td>1127.33018</td>\n",
       "      <td>1127.33058</td>\n",
       "      <td>0</td>\n",
       "    </tr>\n",
       "    <tr>\n",
       "      <th>2</th>\n",
       "      <td>biphasic</td>\n",
       "      <td>40</td>\n",
       "      <td>0.0004</td>\n",
       "      <td>1131.79251</td>\n",
       "      <td>1131.79291</td>\n",
       "      <td>0</td>\n",
       "    </tr>\n",
       "    <tr>\n",
       "      <th>3</th>\n",
       "      <td>biphasic</td>\n",
       "      <td>40</td>\n",
       "      <td>0.0004</td>\n",
       "      <td>1135.29757</td>\n",
       "      <td>1135.29797</td>\n",
       "      <td>0</td>\n",
       "    </tr>\n",
       "    <tr>\n",
       "      <th>4</th>\n",
       "      <td>biphasic</td>\n",
       "      <td>40</td>\n",
       "      <td>0.0004</td>\n",
       "      <td>1139.57292</td>\n",
       "      <td>1139.57332</td>\n",
       "      <td>0</td>\n",
       "    </tr>\n",
       "  </tbody>\n",
       "</table>\n",
       "</div>"
      ],
      "text/plain": [
       "  stim_type  parameter  duration       onset      offset  sweep\n",
       "0  biphasic         40    0.0004  1123.72310  1123.72350      0\n",
       "1  biphasic         40    0.0004  1127.33018  1127.33058      0\n",
       "2  biphasic         40    0.0004  1131.79251  1131.79291      0\n",
       "3  biphasic         40    0.0004  1135.29757  1135.29797      0\n",
       "4  biphasic         40    0.0004  1139.57292  1139.57332      0"
      ]
     },
     "execution_count": 25,
     "metadata": {},
     "output_type": "execute_result"
    }
   ],
   "source": [
    "estim_log.head()"
   ]
  },
  {
   "cell_type": "code",
   "execution_count": 26,
   "metadata": {
    "scrolled": true
   },
   "outputs": [
    {
     "data": {
      "text/html": [
       "<div>\n",
       "<style scoped>\n",
       "    .dataframe tbody tr th:only-of-type {\n",
       "        vertical-align: middle;\n",
       "    }\n",
       "\n",
       "    .dataframe tbody tr th {\n",
       "        vertical-align: top;\n",
       "    }\n",
       "\n",
       "    .dataframe thead th {\n",
       "        text-align: right;\n",
       "    }\n",
       "</style>\n",
       "<table border=\"1\" class=\"dataframe\">\n",
       "  <thead>\n",
       "    <tr style=\"text-align: right;\">\n",
       "      <th></th>\n",
       "      <th>stim_type</th>\n",
       "      <th>parameter</th>\n",
       "      <th>duration</th>\n",
       "      <th>onset</th>\n",
       "      <th>offset</th>\n",
       "      <th>sweep</th>\n",
       "    </tr>\n",
       "  </thead>\n",
       "  <tbody>\n",
       "    <tr>\n",
       "      <th>115</th>\n",
       "      <td>biphasic</td>\n",
       "      <td>40</td>\n",
       "      <td>0.0004</td>\n",
       "      <td>1580.33481</td>\n",
       "      <td>1580.33521</td>\n",
       "      <td>0</td>\n",
       "    </tr>\n",
       "    <tr>\n",
       "      <th>116</th>\n",
       "      <td>biphasic</td>\n",
       "      <td>40</td>\n",
       "      <td>0.0004</td>\n",
       "      <td>1583.95265</td>\n",
       "      <td>1583.95305</td>\n",
       "      <td>0</td>\n",
       "    </tr>\n",
       "    <tr>\n",
       "      <th>117</th>\n",
       "      <td>biphasic</td>\n",
       "      <td>40</td>\n",
       "      <td>0.0004</td>\n",
       "      <td>1587.74976</td>\n",
       "      <td>1587.75016</td>\n",
       "      <td>0</td>\n",
       "    </tr>\n",
       "    <tr>\n",
       "      <th>118</th>\n",
       "      <td>biphasic</td>\n",
       "      <td>40</td>\n",
       "      <td>0.0004</td>\n",
       "      <td>1591.56896</td>\n",
       "      <td>1591.56936</td>\n",
       "      <td>0</td>\n",
       "    </tr>\n",
       "    <tr>\n",
       "      <th>119</th>\n",
       "      <td>biphasic</td>\n",
       "      <td>40</td>\n",
       "      <td>0.0004</td>\n",
       "      <td>1595.49355</td>\n",
       "      <td>1595.49395</td>\n",
       "      <td>0</td>\n",
       "    </tr>\n",
       "    <tr>\n",
       "      <th>120</th>\n",
       "      <td>biphasic</td>\n",
       "      <td>40</td>\n",
       "      <td>0.0004</td>\n",
       "      <td>2002.81587</td>\n",
       "      <td>2002.81627</td>\n",
       "      <td>1</td>\n",
       "    </tr>\n",
       "    <tr>\n",
       "      <th>121</th>\n",
       "      <td>biphasic</td>\n",
       "      <td>40</td>\n",
       "      <td>0.0004</td>\n",
       "      <td>2006.42295</td>\n",
       "      <td>2006.42335</td>\n",
       "      <td>1</td>\n",
       "    </tr>\n",
       "    <tr>\n",
       "      <th>122</th>\n",
       "      <td>biphasic</td>\n",
       "      <td>40</td>\n",
       "      <td>0.0004</td>\n",
       "      <td>2010.88528</td>\n",
       "      <td>2010.88568</td>\n",
       "      <td>1</td>\n",
       "    </tr>\n",
       "    <tr>\n",
       "      <th>123</th>\n",
       "      <td>biphasic</td>\n",
       "      <td>40</td>\n",
       "      <td>0.0004</td>\n",
       "      <td>2014.39034</td>\n",
       "      <td>2014.39074</td>\n",
       "      <td>1</td>\n",
       "    </tr>\n",
       "    <tr>\n",
       "      <th>124</th>\n",
       "      <td>biphasic</td>\n",
       "      <td>40</td>\n",
       "      <td>0.0004</td>\n",
       "      <td>2018.66569</td>\n",
       "      <td>2018.66609</td>\n",
       "      <td>1</td>\n",
       "    </tr>\n",
       "  </tbody>\n",
       "</table>\n",
       "</div>"
      ],
      "text/plain": [
       "    stim_type  parameter  duration       onset      offset  sweep\n",
       "115  biphasic         40    0.0004  1580.33481  1580.33521      0\n",
       "116  biphasic         40    0.0004  1583.95265  1583.95305      0\n",
       "117  biphasic         40    0.0004  1587.74976  1587.75016      0\n",
       "118  biphasic         40    0.0004  1591.56896  1591.56936      0\n",
       "119  biphasic         40    0.0004  1595.49355  1595.49395      0\n",
       "120  biphasic         40    0.0004  2002.81587  2002.81627      1\n",
       "121  biphasic         40    0.0004  2006.42295  2006.42335      1\n",
       "122  biphasic         40    0.0004  2010.88528  2010.88568      1\n",
       "123  biphasic         40    0.0004  2014.39034  2014.39074      1\n",
       "124  biphasic         40    0.0004  2018.66569  2018.66609      1"
      ]
     },
     "execution_count": 26,
     "metadata": {},
     "output_type": "execute_result"
    }
   ],
   "source": [
    "estim_log[115:125]"
   ]
  },
  {
   "cell_type": "markdown",
   "metadata": {},
   "source": [
    "# If just estim, stop here and go to \"Combine all logs\" step below"
   ]
  },
  {
   "cell_type": "markdown",
   "metadata": {},
   "source": [
    "## Sensory stim"
   ]
  },
  {
   "cell_type": "markdown",
   "metadata": {},
   "source": [
    "This is from NP4 with a digital photodiode.<br>Load behavior_sweep, behavior_sync, and photodiode rising and falling edges."
   ]
  },
  {
   "cell_type": "code",
   "execution_count": null,
   "metadata": {},
   "outputs": [],
   "source": [
    "# behavior_sweep\n",
    "sweep_rising = sync_data.get_edges(keys=('behavior_sweep',), kind='rising', units='seconds')\n",
    "sweep_falling = sync_data.get_edges(keys=('behavior_sweep',), kind='falling', units='seconds')\n",
    "# behavior_vsync\n",
    "vsync_rising = sync_data.get_edges(keys=('behavior_vsync',), kind='rising', units='seconds')\n",
    "vsync_falling = sync_data.get_edges(keys=('behavior_vsync',), kind='falling', units='seconds')\n",
    "# photodiode\n",
    "pd_rising = sync_data.get_edges(keys=('photodiode',), kind='rising', units='seconds')\n",
    "pd_falling = sync_data.get_edges(keys=('photodiode',), kind='falling', units='seconds')"
   ]
  },
  {
   "cell_type": "code",
   "execution_count": null,
   "metadata": {},
   "outputs": [],
   "source": [
    "if len(sweep_rising) == 0:\n",
    "    between_sweep_inds = np.argwhere(np.diff(vsync_rising) > 10.).flatten()\n",
    "    sweep_rising = np.concatenate(([vsync_rising[0]-1.], vsync_rising[between_sweep_inds]+2.))\n",
    "    sweep_falling = np.concatenate((vsync_rising[between_sweep_inds]+1., [vsync_rising[-1]+1.]))"
   ]
  },
  {
   "cell_type": "raw",
   "metadata": {},
   "source": [
    "## This was a fix for Jackie's mouse 541634, Rec1. Somehow missing the first sweep and vsync rising edges ##\n",
    "if vsync_falling[0] < vsync_rising[0]:\n",
    "    print('Missing first vsync rising edge')\n",
    "    test_rising = []\n",
    "    test_rising = np.insert(vsync_rising, 0, vsync_falling[0] - (vsync_falling[1]-vsync_rising[0]))\n",
    "    print(test_rising[0:4])\n",
    "    print(vsync_falling[0:4])\n",
    "    vsync_rising = test_rising\n",
    "    \n",
    "    between_sweep_inds = np.argwhere(np.diff(vsync_rising) > 10.).flatten()\n",
    "    sweep_rising = np.concatenate(([vsync_rising[0]-1.], vsync_rising[between_sweep_inds]+2.))\n",
    "    sweep_falling = np.concatenate((vsync_rising[between_sweep_inds]+1., [vsync_rising[-1]+1.]))"
   ]
  },
  {
   "cell_type": "code",
   "execution_count": null,
   "metadata": {},
   "outputs": [],
   "source": [
    "print('behavior_sweep info')\n",
    "print('number of rising/falling: %d/%d' % (len(sweep_rising), len(sweep_falling)))\n",
    "print('first rising: %f' % sweep_rising[0])\n",
    "print('first falling: %f' % sweep_falling[0])"
   ]
  },
  {
   "cell_type": "code",
   "execution_count": 10,
   "metadata": {},
   "outputs": [
    {
     "name": "stdout",
     "output_type": "stream",
     "text": [
      "behavior_vsync info\n",
      "number of rising/falling: 0/0\n"
     ]
    },
    {
     "ename": "IndexError",
     "evalue": "index 0 is out of bounds for axis 0 with size 0",
     "output_type": "error",
     "traceback": [
      "\u001b[1;31m---------------------------------------------------------------------------\u001b[0m",
      "\u001b[1;31mIndexError\u001b[0m                                Traceback (most recent call last)",
      "\u001b[1;32m~\\AppData\\Local\\Temp\\ipykernel_30756\\1536740700.py\u001b[0m in \u001b[0;36m<module>\u001b[1;34m\u001b[0m\n\u001b[0;32m      1\u001b[0m \u001b[0mprint\u001b[0m\u001b[1;33m(\u001b[0m\u001b[1;34m'behavior_vsync info'\u001b[0m\u001b[1;33m)\u001b[0m\u001b[1;33m\u001b[0m\u001b[1;33m\u001b[0m\u001b[0m\n\u001b[0;32m      2\u001b[0m \u001b[0mprint\u001b[0m\u001b[1;33m(\u001b[0m\u001b[1;34m'number of rising/falling: %d/%d'\u001b[0m \u001b[1;33m%\u001b[0m \u001b[1;33m(\u001b[0m\u001b[0mlen\u001b[0m\u001b[1;33m(\u001b[0m\u001b[0mvsync_rising\u001b[0m\u001b[1;33m)\u001b[0m\u001b[1;33m,\u001b[0m \u001b[0mlen\u001b[0m\u001b[1;33m(\u001b[0m\u001b[0mvsync_falling\u001b[0m\u001b[1;33m)\u001b[0m\u001b[1;33m)\u001b[0m\u001b[1;33m)\u001b[0m\u001b[1;33m\u001b[0m\u001b[1;33m\u001b[0m\u001b[0m\n\u001b[1;32m----> 3\u001b[1;33m \u001b[0mprint\u001b[0m\u001b[1;33m(\u001b[0m\u001b[1;34m'first rising: %f'\u001b[0m \u001b[1;33m%\u001b[0m \u001b[0mvsync_rising\u001b[0m\u001b[1;33m[\u001b[0m\u001b[1;36m0\u001b[0m\u001b[1;33m]\u001b[0m\u001b[1;33m)\u001b[0m\u001b[1;33m\u001b[0m\u001b[1;33m\u001b[0m\u001b[0m\n\u001b[0m\u001b[0;32m      4\u001b[0m \u001b[0mprint\u001b[0m\u001b[1;33m(\u001b[0m\u001b[1;34m'first falling: %f'\u001b[0m \u001b[1;33m%\u001b[0m \u001b[0mvsync_falling\u001b[0m\u001b[1;33m[\u001b[0m\u001b[1;36m0\u001b[0m\u001b[1;33m]\u001b[0m\u001b[1;33m)\u001b[0m\u001b[1;33m\u001b[0m\u001b[1;33m\u001b[0m\u001b[0m\n",
      "\u001b[1;31mIndexError\u001b[0m: index 0 is out of bounds for axis 0 with size 0"
     ]
    }
   ],
   "source": [
    "print('behavior_vsync info')\n",
    "print('number of rising/falling: %d/%d' % (len(vsync_rising), len(vsync_falling)))\n",
    "print('first rising: %f' % vsync_rising[0])\n",
    "print('first falling: %f' % vsync_falling[0])"
   ]
  },
  {
   "cell_type": "code",
   "execution_count": 20,
   "metadata": {},
   "outputs": [
    {
     "name": "stdout",
     "output_type": "stream",
     "text": [
      "photodiode info\n",
      "number of rising/falling: 120/120\n",
      "first rising: 103.130760\n",
      "first falling: 103.379930\n"
     ]
    }
   ],
   "source": [
    "print('photodiode info')\n",
    "print('number of rising/falling: %d/%d' % (len(pd_rising), len(pd_falling)))\n",
    "print('first rising: %f' % pd_rising[0])\n",
    "print('first falling: %f' % pd_falling[0])"
   ]
  },
  {
   "cell_type": "raw",
   "metadata": {},
   "source": [
    "## Have an extra rising/falling sweep?\n",
    "pd_falling = pd_falling[1:]\n",
    "pd_rising = pd_rising[:-1]"
   ]
  },
  {
   "cell_type": "raw",
   "metadata": {},
   "source": [
    "## Need to look at the rising/falling times?\n",
    "print(pd_rising[0:5])\n",
    "print(pd_falling[0:5])"
   ]
  },
  {
   "cell_type": "markdown",
   "metadata": {},
   "source": [
    "Load 'timestamp'_stimulus_log.csv"
   ]
  },
  {
   "cell_type": "code",
   "execution_count": 21,
   "metadata": {},
   "outputs": [
    {
     "name": "stdout",
     "output_type": "stream",
     "text": [
      "30507\n"
     ]
    },
    {
     "data": {
      "text/html": [
       "<div>\n",
       "<style scoped>\n",
       "    .dataframe tbody tr th:only-of-type {\n",
       "        vertical-align: middle;\n",
       "    }\n",
       "\n",
       "    .dataframe tbody tr th {\n",
       "        vertical-align: top;\n",
       "    }\n",
       "\n",
       "    .dataframe thead th {\n",
       "        text-align: right;\n",
       "    }\n",
       "</style>\n",
       "<table border=\"1\" class=\"dataframe\">\n",
       "  <thead>\n",
       "    <tr style=\"text-align: right;\">\n",
       "      <th></th>\n",
       "      <th>time</th>\n",
       "      <th>frame</th>\n",
       "      <th>display_stim</th>\n",
       "      <th>stim_type</th>\n",
       "      <th>stim_parameter</th>\n",
       "    </tr>\n",
       "  </thead>\n",
       "  <tbody>\n",
       "    <tr>\n",
       "      <th>0</th>\n",
       "      <td>0.004591</td>\n",
       "      <td>0</td>\n",
       "      <td>False</td>\n",
       "      <td>gray_screen</td>\n",
       "      <td>none</td>\n",
       "    </tr>\n",
       "    <tr>\n",
       "      <th>1</th>\n",
       "      <td>0.006593</td>\n",
       "      <td>1</td>\n",
       "      <td>False</td>\n",
       "      <td>gray_screen</td>\n",
       "      <td>none</td>\n",
       "    </tr>\n",
       "    <tr>\n",
       "      <th>2</th>\n",
       "      <td>0.022607</td>\n",
       "      <td>2</td>\n",
       "      <td>False</td>\n",
       "      <td>gray_screen</td>\n",
       "      <td>none</td>\n",
       "    </tr>\n",
       "    <tr>\n",
       "      <th>3</th>\n",
       "      <td>0.039175</td>\n",
       "      <td>3</td>\n",
       "      <td>False</td>\n",
       "      <td>gray_screen</td>\n",
       "      <td>none</td>\n",
       "    </tr>\n",
       "    <tr>\n",
       "      <th>4</th>\n",
       "      <td>0.056140</td>\n",
       "      <td>4</td>\n",
       "      <td>False</td>\n",
       "      <td>gray_screen</td>\n",
       "      <td>none</td>\n",
       "    </tr>\n",
       "  </tbody>\n",
       "</table>\n",
       "</div>"
      ],
      "text/plain": [
       "       time  frame  display_stim    stim_type stim_parameter\n",
       "0  0.004591      0         False  gray_screen           none\n",
       "1  0.006593      1         False  gray_screen           none\n",
       "2  0.022607      2         False  gray_screen           none\n",
       "3  0.039175      3         False  gray_screen           none\n",
       "4  0.056140      4         False  gray_screen           none"
      ]
     },
     "execution_count": 21,
     "metadata": {},
     "output_type": "execute_result"
    }
   ],
   "source": [
    "log_long = pd.read_csv(exp.stim_instruction_files['sensory'][0])\n",
    "print(len(log_long))\n",
    "log_long.head()"
   ]
  },
  {
   "cell_type": "markdown",
   "metadata": {},
   "source": [
    "Remove \"gray\" screens from log"
   ]
  },
  {
   "cell_type": "code",
   "execution_count": 22,
   "metadata": {},
   "outputs": [],
   "source": [
    "log_long = log_long.drop(labels='time', axis='columns')\n",
    "log_long['vsync_rising'] = vsync_rising\n",
    "log_long['vsync_falling'] = vsync_falling"
   ]
  },
  {
   "cell_type": "raw",
   "metadata": {},
   "source": [
    "## if vsync edges are too long and we only need last half ##\n",
    "log_long = log_long.drop(labels='time', axis='columns')\n",
    "log_long['vsync_rising'] = vsync_rising[-len(log_long):]\n",
    "log_long['vsync_falling'] = vsync_falling[-len(log_long):]"
   ]
  },
  {
   "cell_type": "code",
   "execution_count": 23,
   "metadata": {},
   "outputs": [],
   "source": [
    "visual_stimuli = ['fullscreen', 'circle']\n",
    "list_stim_type = []\n",
    "list_stim_param = []\n",
    "list_onset_times = []\n",
    "list_offset_times = []\n",
    "for i in range(1, len(log_long)):\n",
    "    if log_long.stim_type.iloc[i-1] == 'gray_screen' and log_long.stim_type.iloc[i] in visual_stimuli:\n",
    "        list_onset_times.append(log_long.vsync_falling.iloc[i]) # vsync_falling is visual stim onset\n",
    "        list_stim_type.append(log_long.stim_type.iloc[i])\n",
    "        list_stim_param.append(log_long.stim_parameter.iloc[i]) # to make sure order matches stim table\n",
    "    elif log_long.stim_type.iloc[i-1] in visual_stimuli and log_long.stim_type.iloc[i] == 'gray_screen':\n",
    "        list_offset_times.append(log_long.vsync_falling.iloc[i]) # gray_screen vsync_falling is visual stim offset\n",
    "    elif log_long.stim_type.iloc[i-1] == 'gray_screen' and log_long.stim_type.iloc[i] == 'auditory':\n",
    "        list_onset_times.append(log_long.vsync_rising.iloc[i]) # vsync_rising is aditory stim onset\n",
    "        list_offset_times.append(log_long.vsync_falling.iloc[i]) # vsync_falling is aditory stim offset\n",
    "        list_stim_type.append(log_long.stim_type.iloc[i])\n",
    "        list_stim_param.append(log_long.stim_parameter.iloc[i])\n",
    "stim_log = pd.DataFrame({\n",
    "    'stim_type': list_stim_type,\n",
    "    'parameter': list_stim_param,\n",
    "    'onset': list_onset_times,\n",
    "    'offset': list_offset_times\n",
    "})"
   ]
  },
  {
   "cell_type": "code",
   "execution_count": 24,
   "metadata": {},
   "outputs": [
    {
     "name": "stdout",
     "output_type": "stream",
     "text": [
      "120\n"
     ]
    },
    {
     "data": {
      "text/html": [
       "<div>\n",
       "<style scoped>\n",
       "    .dataframe tbody tr th:only-of-type {\n",
       "        vertical-align: middle;\n",
       "    }\n",
       "\n",
       "    .dataframe tbody tr th {\n",
       "        vertical-align: top;\n",
       "    }\n",
       "\n",
       "    .dataframe thead th {\n",
       "        text-align: right;\n",
       "    }\n",
       "</style>\n",
       "<table border=\"1\" class=\"dataframe\">\n",
       "  <thead>\n",
       "    <tr style=\"text-align: right;\">\n",
       "      <th></th>\n",
       "      <th>stim_type</th>\n",
       "      <th>parameter</th>\n",
       "      <th>onset</th>\n",
       "      <th>offset</th>\n",
       "    </tr>\n",
       "  </thead>\n",
       "  <tbody>\n",
       "    <tr>\n",
       "      <th>0</th>\n",
       "      <td>circle</td>\n",
       "      <td>white</td>\n",
       "      <td>103.08467</td>\n",
       "      <td>103.34530</td>\n",
       "    </tr>\n",
       "    <tr>\n",
       "      <th>1</th>\n",
       "      <td>circle</td>\n",
       "      <td>white</td>\n",
       "      <td>107.36662</td>\n",
       "      <td>107.63249</td>\n",
       "    </tr>\n",
       "    <tr>\n",
       "      <th>2</th>\n",
       "      <td>circle</td>\n",
       "      <td>white</td>\n",
       "      <td>111.70478</td>\n",
       "      <td>111.96886</td>\n",
       "    </tr>\n",
       "    <tr>\n",
       "      <th>3</th>\n",
       "      <td>circle</td>\n",
       "      <td>white</td>\n",
       "      <td>115.72384</td>\n",
       "      <td>115.98858</td>\n",
       "    </tr>\n",
       "    <tr>\n",
       "      <th>4</th>\n",
       "      <td>circle</td>\n",
       "      <td>white</td>\n",
       "      <td>119.66080</td>\n",
       "      <td>119.92547</td>\n",
       "    </tr>\n",
       "  </tbody>\n",
       "</table>\n",
       "</div>"
      ],
      "text/plain": [
       "  stim_type parameter      onset     offset\n",
       "0    circle     white  103.08467  103.34530\n",
       "1    circle     white  107.36662  107.63249\n",
       "2    circle     white  111.70478  111.96886\n",
       "3    circle     white  115.72384  115.98858\n",
       "4    circle     white  119.66080  119.92547"
      ]
     },
     "execution_count": 24,
     "metadata": {},
     "output_type": "execute_result"
    }
   ],
   "source": [
    "## These are not the correct onset/offset times yet\n",
    "print(len(stim_log))\n",
    "stim_log.head()"
   ]
  },
  {
   "cell_type": "raw",
   "metadata": {},
   "source": [
    "# fix for missing photodiode pulse\n",
    "if pd_rising.shape[0] < stim_log.shape[0]:\n",
    "    print('# photodiode edges less than length of stim_log: {:d} missing'.format(stim_log.shape[0]-pd_rising.shape[0]))\n",
    "    print(np.nonzero((pd_rising - stim_log.onset.values[:pd_rising.shape[0]]) > 0.05)[0][0])\n",
    "elif pd_rising.shape[0] > stim_log.shape[0]:\n",
    "    print('# photodiode edges more than length of stim_log: {:d} too many'.format(pd_rising.shape[0]-stim_log.shape[0]))\n",
    "else:\n",
    "    print('# photodiode edges matches length of stim_log!')"
   ]
  },
  {
   "cell_type": "raw",
   "metadata": {},
   "source": [
    "# fix for missing photodiode pulse\n",
    "missing_ind = np.nonzero((pd_rising - stim_log.onset.values[:pd_rising.shape[0]]) > 0.05)[0][0]\n",
    "pd_rising = np.insert(\n",
    "    pd_rising,\n",
    "    missing_ind,\n",
    "    stim_log.onset.iloc[missing_ind]+np.mean(pd_rising[1:6] - stim_log.onset.iloc[1:6])\n",
    ")\n",
    "print(len(pd_rising))\n",
    "pd_falling = np.insert(\n",
    "    pd_falling,\n",
    "    missing_ind,\n",
    "    stim_log.offset.iloc[missing_ind]+np.mean(pd_falling[1:6] - stim_log.offset.iloc[1:6])\n",
    ")\n",
    "print(len(pd_falling))"
   ]
  },
  {
   "cell_type": "markdown",
   "metadata": {},
   "source": [
    "Correct onset and offset times using photodiode rising and falling times"
   ]
  },
  {
   "cell_type": "code",
   "execution_count": 27,
   "metadata": {},
   "outputs": [
    {
     "data": {
      "text/html": [
       "<div>\n",
       "<style scoped>\n",
       "    .dataframe tbody tr th:only-of-type {\n",
       "        vertical-align: middle;\n",
       "    }\n",
       "\n",
       "    .dataframe tbody tr th {\n",
       "        vertical-align: top;\n",
       "    }\n",
       "\n",
       "    .dataframe thead th {\n",
       "        text-align: right;\n",
       "    }\n",
       "</style>\n",
       "<table border=\"1\" class=\"dataframe\">\n",
       "  <thead>\n",
       "    <tr style=\"text-align: right;\">\n",
       "      <th></th>\n",
       "      <th>stim_type</th>\n",
       "      <th>parameter</th>\n",
       "      <th>onset</th>\n",
       "      <th>offset</th>\n",
       "      <th>duration</th>\n",
       "    </tr>\n",
       "  </thead>\n",
       "  <tbody>\n",
       "    <tr>\n",
       "      <th>0</th>\n",
       "      <td>circle</td>\n",
       "      <td>white</td>\n",
       "      <td>103.13076</td>\n",
       "      <td>103.37993</td>\n",
       "      <td>0.24917</td>\n",
       "    </tr>\n",
       "    <tr>\n",
       "      <th>1</th>\n",
       "      <td>circle</td>\n",
       "      <td>white</td>\n",
       "      <td>107.41767</td>\n",
       "      <td>107.66687</td>\n",
       "      <td>0.24920</td>\n",
       "    </tr>\n",
       "    <tr>\n",
       "      <th>2</th>\n",
       "      <td>circle</td>\n",
       "      <td>white</td>\n",
       "      <td>111.75462</td>\n",
       "      <td>112.00382</td>\n",
       "      <td>0.24920</td>\n",
       "    </tr>\n",
       "    <tr>\n",
       "      <th>3</th>\n",
       "      <td>circle</td>\n",
       "      <td>white</td>\n",
       "      <td>115.77464</td>\n",
       "      <td>116.02381</td>\n",
       "      <td>0.24917</td>\n",
       "    </tr>\n",
       "    <tr>\n",
       "      <th>4</th>\n",
       "      <td>circle</td>\n",
       "      <td>white</td>\n",
       "      <td>119.71125</td>\n",
       "      <td>119.96044</td>\n",
       "      <td>0.24919</td>\n",
       "    </tr>\n",
       "  </tbody>\n",
       "</table>\n",
       "</div>"
      ],
      "text/plain": [
       "  stim_type parameter      onset     offset  duration\n",
       "0    circle     white  103.13076  103.37993   0.24917\n",
       "1    circle     white  107.41767  107.66687   0.24920\n",
       "2    circle     white  111.75462  112.00382   0.24920\n",
       "3    circle     white  115.77464  116.02381   0.24917\n",
       "4    circle     white  119.71125  119.96044   0.24919"
      ]
     },
     "execution_count": 27,
     "metadata": {},
     "output_type": "execute_result"
    }
   ],
   "source": [
    "stim_log['onset'] = pd_rising\n",
    "stim_log['offset'] = pd_falling\n",
    "stim_log['duration'] = stim_log['offset'] - stim_log['onset']\n",
    "stim_log.head()"
   ]
  },
  {
   "cell_type": "raw",
   "metadata": {},
   "source": [
    "## if photodiode edges are too long and we only need last half ##\n",
    "stim_log['onset'] = pd_rising[-len(stim_log):]\n",
    "stim_log['offset'] = pd_falling[-len(stim_log):]\n",
    "stim_log['duration'] = stim_log['offset'] - stim_log['onset']\n",
    "stim_log.head()"
   ]
  },
  {
   "cell_type": "code",
   "execution_count": 28,
   "metadata": {},
   "outputs": [],
   "source": [
    "stim_log['sweep'] = np.zeros(len(stim_log), dtype=int) - 1\n",
    "for i in range(len(sweep_rising)):\n",
    "    # print('Sweep %d: %f to %f' % (i, sweep_start, sweep_end))\n",
    "    stim_log.loc[(stim_log['onset'] > sweep_rising[i]) & (stim_log['onset'] < sweep_falling[i]), 'sweep'] = i"
   ]
  },
  {
   "cell_type": "code",
   "execution_count": 29,
   "metadata": {
    "scrolled": true
   },
   "outputs": [
    {
     "data": {
      "text/html": [
       "<div>\n",
       "<style scoped>\n",
       "    .dataframe tbody tr th:only-of-type {\n",
       "        vertical-align: middle;\n",
       "    }\n",
       "\n",
       "    .dataframe tbody tr th {\n",
       "        vertical-align: top;\n",
       "    }\n",
       "\n",
       "    .dataframe thead th {\n",
       "        text-align: right;\n",
       "    }\n",
       "</style>\n",
       "<table border=\"1\" class=\"dataframe\">\n",
       "  <thead>\n",
       "    <tr style=\"text-align: right;\">\n",
       "      <th></th>\n",
       "      <th>stim_type</th>\n",
       "      <th>parameter</th>\n",
       "      <th>onset</th>\n",
       "      <th>offset</th>\n",
       "      <th>duration</th>\n",
       "      <th>sweep</th>\n",
       "    </tr>\n",
       "  </thead>\n",
       "  <tbody>\n",
       "    <tr>\n",
       "      <th>0</th>\n",
       "      <td>circle</td>\n",
       "      <td>white</td>\n",
       "      <td>103.13076</td>\n",
       "      <td>103.37993</td>\n",
       "      <td>0.24917</td>\n",
       "      <td>0</td>\n",
       "    </tr>\n",
       "    <tr>\n",
       "      <th>1</th>\n",
       "      <td>circle</td>\n",
       "      <td>white</td>\n",
       "      <td>107.41767</td>\n",
       "      <td>107.66687</td>\n",
       "      <td>0.24920</td>\n",
       "      <td>0</td>\n",
       "    </tr>\n",
       "    <tr>\n",
       "      <th>2</th>\n",
       "      <td>circle</td>\n",
       "      <td>white</td>\n",
       "      <td>111.75462</td>\n",
       "      <td>112.00382</td>\n",
       "      <td>0.24920</td>\n",
       "      <td>0</td>\n",
       "    </tr>\n",
       "    <tr>\n",
       "      <th>3</th>\n",
       "      <td>circle</td>\n",
       "      <td>white</td>\n",
       "      <td>115.77464</td>\n",
       "      <td>116.02381</td>\n",
       "      <td>0.24917</td>\n",
       "      <td>0</td>\n",
       "    </tr>\n",
       "    <tr>\n",
       "      <th>4</th>\n",
       "      <td>circle</td>\n",
       "      <td>white</td>\n",
       "      <td>119.71125</td>\n",
       "      <td>119.96044</td>\n",
       "      <td>0.24919</td>\n",
       "      <td>0</td>\n",
       "    </tr>\n",
       "    <tr>\n",
       "      <th>5</th>\n",
       "      <td>circle</td>\n",
       "      <td>white</td>\n",
       "      <td>123.89807</td>\n",
       "      <td>124.14726</td>\n",
       "      <td>0.24919</td>\n",
       "      <td>0</td>\n",
       "    </tr>\n",
       "    <tr>\n",
       "      <th>6</th>\n",
       "      <td>circle</td>\n",
       "      <td>white</td>\n",
       "      <td>127.96814</td>\n",
       "      <td>128.21734</td>\n",
       "      <td>0.24920</td>\n",
       "      <td>0</td>\n",
       "    </tr>\n",
       "    <tr>\n",
       "      <th>7</th>\n",
       "      <td>circle</td>\n",
       "      <td>white</td>\n",
       "      <td>132.28844</td>\n",
       "      <td>132.53760</td>\n",
       "      <td>0.24916</td>\n",
       "      <td>0</td>\n",
       "    </tr>\n",
       "    <tr>\n",
       "      <th>8</th>\n",
       "      <td>circle</td>\n",
       "      <td>white</td>\n",
       "      <td>136.05823</td>\n",
       "      <td>136.30743</td>\n",
       "      <td>0.24920</td>\n",
       "      <td>0</td>\n",
       "    </tr>\n",
       "    <tr>\n",
       "      <th>9</th>\n",
       "      <td>circle</td>\n",
       "      <td>white</td>\n",
       "      <td>139.84473</td>\n",
       "      <td>140.09391</td>\n",
       "      <td>0.24918</td>\n",
       "      <td>0</td>\n",
       "    </tr>\n",
       "    <tr>\n",
       "      <th>10</th>\n",
       "      <td>circle</td>\n",
       "      <td>white</td>\n",
       "      <td>144.11496</td>\n",
       "      <td>144.36415</td>\n",
       "      <td>0.24919</td>\n",
       "      <td>0</td>\n",
       "    </tr>\n",
       "    <tr>\n",
       "      <th>11</th>\n",
       "      <td>circle</td>\n",
       "      <td>white</td>\n",
       "      <td>148.75216</td>\n",
       "      <td>149.00136</td>\n",
       "      <td>0.24920</td>\n",
       "      <td>0</td>\n",
       "    </tr>\n",
       "    <tr>\n",
       "      <th>12</th>\n",
       "      <td>circle</td>\n",
       "      <td>white</td>\n",
       "      <td>152.80554</td>\n",
       "      <td>153.05474</td>\n",
       "      <td>0.24920</td>\n",
       "      <td>0</td>\n",
       "    </tr>\n",
       "    <tr>\n",
       "      <th>13</th>\n",
       "      <td>circle</td>\n",
       "      <td>white</td>\n",
       "      <td>157.27593</td>\n",
       "      <td>157.52515</td>\n",
       "      <td>0.24922</td>\n",
       "      <td>0</td>\n",
       "    </tr>\n",
       "    <tr>\n",
       "      <th>14</th>\n",
       "      <td>circle</td>\n",
       "      <td>white</td>\n",
       "      <td>161.96320</td>\n",
       "      <td>162.22907</td>\n",
       "      <td>0.26587</td>\n",
       "      <td>0</td>\n",
       "    </tr>\n",
       "    <tr>\n",
       "      <th>15</th>\n",
       "      <td>circle</td>\n",
       "      <td>white</td>\n",
       "      <td>166.63374</td>\n",
       "      <td>166.88297</td>\n",
       "      <td>0.24923</td>\n",
       "      <td>0</td>\n",
       "    </tr>\n",
       "    <tr>\n",
       "      <th>16</th>\n",
       "      <td>circle</td>\n",
       "      <td>white</td>\n",
       "      <td>170.38687</td>\n",
       "      <td>170.63610</td>\n",
       "      <td>0.24923</td>\n",
       "      <td>0</td>\n",
       "    </tr>\n",
       "    <tr>\n",
       "      <th>17</th>\n",
       "      <td>circle</td>\n",
       "      <td>white</td>\n",
       "      <td>174.82391</td>\n",
       "      <td>175.07312</td>\n",
       "      <td>0.24921</td>\n",
       "      <td>0</td>\n",
       "    </tr>\n",
       "    <tr>\n",
       "      <th>18</th>\n",
       "      <td>circle</td>\n",
       "      <td>white</td>\n",
       "      <td>178.79393</td>\n",
       "      <td>179.04314</td>\n",
       "      <td>0.24921</td>\n",
       "      <td>0</td>\n",
       "    </tr>\n",
       "    <tr>\n",
       "      <th>19</th>\n",
       "      <td>circle</td>\n",
       "      <td>white</td>\n",
       "      <td>183.36440</td>\n",
       "      <td>183.61361</td>\n",
       "      <td>0.24921</td>\n",
       "      <td>0</td>\n",
       "    </tr>\n",
       "    <tr>\n",
       "      <th>20</th>\n",
       "      <td>circle</td>\n",
       "      <td>white</td>\n",
       "      <td>187.33437</td>\n",
       "      <td>187.58360</td>\n",
       "      <td>0.24923</td>\n",
       "      <td>0</td>\n",
       "    </tr>\n",
       "    <tr>\n",
       "      <th>21</th>\n",
       "      <td>circle</td>\n",
       "      <td>white</td>\n",
       "      <td>191.32106</td>\n",
       "      <td>191.57026</td>\n",
       "      <td>0.24920</td>\n",
       "      <td>0</td>\n",
       "    </tr>\n",
       "    <tr>\n",
       "      <th>22</th>\n",
       "      <td>circle</td>\n",
       "      <td>white</td>\n",
       "      <td>195.09086</td>\n",
       "      <td>195.34007</td>\n",
       "      <td>0.24921</td>\n",
       "      <td>0</td>\n",
       "    </tr>\n",
       "    <tr>\n",
       "      <th>23</th>\n",
       "      <td>circle</td>\n",
       "      <td>white</td>\n",
       "      <td>199.12757</td>\n",
       "      <td>199.37679</td>\n",
       "      <td>0.24922</td>\n",
       "      <td>0</td>\n",
       "    </tr>\n",
       "    <tr>\n",
       "      <th>24</th>\n",
       "      <td>circle</td>\n",
       "      <td>white</td>\n",
       "      <td>202.91407</td>\n",
       "      <td>203.16330</td>\n",
       "      <td>0.24923</td>\n",
       "      <td>0</td>\n",
       "    </tr>\n",
       "    <tr>\n",
       "      <th>25</th>\n",
       "      <td>circle</td>\n",
       "      <td>white</td>\n",
       "      <td>207.16763</td>\n",
       "      <td>207.41684</td>\n",
       "      <td>0.24921</td>\n",
       "      <td>0</td>\n",
       "    </tr>\n",
       "    <tr>\n",
       "      <th>26</th>\n",
       "      <td>circle</td>\n",
       "      <td>white</td>\n",
       "      <td>211.88823</td>\n",
       "      <td>212.13745</td>\n",
       "      <td>0.24922</td>\n",
       "      <td>0</td>\n",
       "    </tr>\n",
       "    <tr>\n",
       "      <th>27</th>\n",
       "      <td>circle</td>\n",
       "      <td>white</td>\n",
       "      <td>215.75811</td>\n",
       "      <td>216.00736</td>\n",
       "      <td>0.24925</td>\n",
       "      <td>0</td>\n",
       "    </tr>\n",
       "  </tbody>\n",
       "</table>\n",
       "</div>"
      ],
      "text/plain": [
       "   stim_type parameter      onset     offset  duration  sweep\n",
       "0     circle     white  103.13076  103.37993   0.24917      0\n",
       "1     circle     white  107.41767  107.66687   0.24920      0\n",
       "2     circle     white  111.75462  112.00382   0.24920      0\n",
       "3     circle     white  115.77464  116.02381   0.24917      0\n",
       "4     circle     white  119.71125  119.96044   0.24919      0\n",
       "5     circle     white  123.89807  124.14726   0.24919      0\n",
       "6     circle     white  127.96814  128.21734   0.24920      0\n",
       "7     circle     white  132.28844  132.53760   0.24916      0\n",
       "8     circle     white  136.05823  136.30743   0.24920      0\n",
       "9     circle     white  139.84473  140.09391   0.24918      0\n",
       "10    circle     white  144.11496  144.36415   0.24919      0\n",
       "11    circle     white  148.75216  149.00136   0.24920      0\n",
       "12    circle     white  152.80554  153.05474   0.24920      0\n",
       "13    circle     white  157.27593  157.52515   0.24922      0\n",
       "14    circle     white  161.96320  162.22907   0.26587      0\n",
       "15    circle     white  166.63374  166.88297   0.24923      0\n",
       "16    circle     white  170.38687  170.63610   0.24923      0\n",
       "17    circle     white  174.82391  175.07312   0.24921      0\n",
       "18    circle     white  178.79393  179.04314   0.24921      0\n",
       "19    circle     white  183.36440  183.61361   0.24921      0\n",
       "20    circle     white  187.33437  187.58360   0.24923      0\n",
       "21    circle     white  191.32106  191.57026   0.24920      0\n",
       "22    circle     white  195.09086  195.34007   0.24921      0\n",
       "23    circle     white  199.12757  199.37679   0.24922      0\n",
       "24    circle     white  202.91407  203.16330   0.24923      0\n",
       "25    circle     white  207.16763  207.41684   0.24921      0\n",
       "26    circle     white  211.88823  212.13745   0.24922      0\n",
       "27    circle     white  215.75811  216.00736   0.24925      0"
      ]
     },
     "execution_count": 29,
     "metadata": {},
     "output_type": "execute_result"
    }
   ],
   "source": [
    "stim_log[0:28]"
   ]
  },
  {
   "cell_type": "markdown",
   "metadata": {},
   "source": [
    "## Combine all logs"
   ]
  },
  {
   "cell_type": "code",
   "execution_count": null,
   "metadata": {},
   "outputs": [],
   "source": [
    "all_logs_list = [estim_log, stim_log] # estim is called estim_log and visual is called stim_log"
   ]
  },
  {
   "cell_type": "code",
   "execution_count": 27,
   "metadata": {},
   "outputs": [],
   "source": [
    "all_stim_log = pd.concat(all_logs_list, axis=0, sort=False).sort_values(by='onset', axis=0)"
   ]
  },
  {
   "cell_type": "code",
   "execution_count": 28,
   "metadata": {},
   "outputs": [
    {
     "data": {
      "text/html": [
       "<div>\n",
       "<style scoped>\n",
       "    .dataframe tbody tr th:only-of-type {\n",
       "        vertical-align: middle;\n",
       "    }\n",
       "\n",
       "    .dataframe tbody tr th {\n",
       "        vertical-align: top;\n",
       "    }\n",
       "\n",
       "    .dataframe thead th {\n",
       "        text-align: right;\n",
       "    }\n",
       "</style>\n",
       "<table border=\"1\" class=\"dataframe\">\n",
       "  <thead>\n",
       "    <tr style=\"text-align: right;\">\n",
       "      <th></th>\n",
       "      <th>stim_type</th>\n",
       "      <th>parameter</th>\n",
       "      <th>duration</th>\n",
       "      <th>onset</th>\n",
       "      <th>offset</th>\n",
       "      <th>sweep</th>\n",
       "    </tr>\n",
       "  </thead>\n",
       "  <tbody>\n",
       "    <tr>\n",
       "      <th>0</th>\n",
       "      <td>biphasic</td>\n",
       "      <td>40</td>\n",
       "      <td>0.0004</td>\n",
       "      <td>1123.72310</td>\n",
       "      <td>1123.72350</td>\n",
       "      <td>0</td>\n",
       "    </tr>\n",
       "    <tr>\n",
       "      <th>1</th>\n",
       "      <td>biphasic</td>\n",
       "      <td>40</td>\n",
       "      <td>0.0004</td>\n",
       "      <td>1127.33018</td>\n",
       "      <td>1127.33058</td>\n",
       "      <td>0</td>\n",
       "    </tr>\n",
       "    <tr>\n",
       "      <th>2</th>\n",
       "      <td>biphasic</td>\n",
       "      <td>40</td>\n",
       "      <td>0.0004</td>\n",
       "      <td>1131.79251</td>\n",
       "      <td>1131.79291</td>\n",
       "      <td>0</td>\n",
       "    </tr>\n",
       "    <tr>\n",
       "      <th>3</th>\n",
       "      <td>biphasic</td>\n",
       "      <td>40</td>\n",
       "      <td>0.0004</td>\n",
       "      <td>1135.29757</td>\n",
       "      <td>1135.29797</td>\n",
       "      <td>0</td>\n",
       "    </tr>\n",
       "    <tr>\n",
       "      <th>4</th>\n",
       "      <td>biphasic</td>\n",
       "      <td>40</td>\n",
       "      <td>0.0004</td>\n",
       "      <td>1139.57292</td>\n",
       "      <td>1139.57332</td>\n",
       "      <td>0</td>\n",
       "    </tr>\n",
       "  </tbody>\n",
       "</table>\n",
       "</div>"
      ],
      "text/plain": [
       "  stim_type  parameter  duration       onset      offset  sweep\n",
       "0  biphasic         40    0.0004  1123.72310  1123.72350      0\n",
       "1  biphasic         40    0.0004  1127.33018  1127.33058      0\n",
       "2  biphasic         40    0.0004  1131.79251  1131.79291      0\n",
       "3  biphasic         40    0.0004  1135.29757  1135.29797      0\n",
       "4  biphasic         40    0.0004  1139.57292  1139.57332      0"
      ]
     },
     "execution_count": 28,
     "metadata": {},
     "output_type": "execute_result"
    }
   ],
   "source": [
    "all_stim_log.head()"
   ]
  },
  {
   "cell_type": "markdown",
   "metadata": {},
   "source": [
    "## Save the file"
   ]
  },
  {
   "cell_type": "code",
   "execution_count": 29,
   "metadata": {},
   "outputs": [],
   "source": [
    "all_stim_log.to_csv(exp.stimulus_log_file, index=False)"
   ]
  },
  {
   "cell_type": "markdown",
   "metadata": {},
   "source": [
    "#### Load file to check?"
   ]
  },
  {
   "cell_type": "raw",
   "metadata": {},
   "source": [
    "test_log = pd.read_csv(exp.stimulus_log_file)\n",
    "test_log[75:90]"
   ]
  },
  {
   "cell_type": "code",
   "execution_count": null,
   "metadata": {},
   "outputs": [],
   "source": []
  }
 ],
 "metadata": {
  "kernelspec": {
   "display_name": "tbd_eeg",
   "language": "python",
   "name": "tbd_eeg"
  },
  "language_info": {
   "codemirror_mode": {
    "name": "ipython",
    "version": 3
   },
   "file_extension": ".py",
   "mimetype": "text/x-python",
   "name": "python",
   "nbconvert_exporter": "python",
   "pygments_lexer": "ipython3",
   "version": "3.7.13"
  }
 },
 "nbformat": 4,
 "nbformat_minor": 2
}
