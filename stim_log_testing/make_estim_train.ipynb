{
 "cells": [
  {
   "cell_type": "markdown",
   "metadata": {},
   "source": [
    "Manually creating stim log for estim trains"
   ]
  },
  {
   "cell_type": "code",
   "execution_count": 1,
   "metadata": {},
   "outputs": [],
   "source": [
    "import io\n",
    "import sys\n",
    "import datetime\n",
    "import numpy as np\n",
    "import pandas as pd\n",
    "import matplotlib.pyplot as plt\n",
    "from glob import glob\n",
    "import copy\n",
    "import time"
   ]
  },
  {
   "cell_type": "code",
   "execution_count": 2,
   "metadata": {},
   "outputs": [],
   "source": [
    "sys.path.append(r'C:\\Users\\lesliec\\code')"
   ]
  },
  {
   "cell_type": "code",
   "execution_count": 3,
   "metadata": {},
   "outputs": [],
   "source": [
    "from tbd_eeg.tbd_eeg.data_analysis.eegutils import EEGexp"
   ]
  },
  {
   "cell_type": "code",
   "execution_count": 4,
   "metadata": {},
   "outputs": [],
   "source": [
    "%matplotlib notebook"
   ]
  },
  {
   "cell_type": "markdown",
   "metadata": {},
   "source": [
    "## Load data"
   ]
  },
  {
   "cell_type": "code",
   "execution_count": 5,
   "metadata": {},
   "outputs": [
    {
     "name": "stdout",
     "output_type": "stream",
     "text": [
      "Experiment type: electrical stimulation\n"
     ]
    }
   ],
   "source": [
    "# rec_folder = r'F:\\testing\\mouse000000\\old_test_2023-09-07_14-07-36\\experiment1\\recording1' # old log style\n",
    "rec_folder = r'W:\\mouse735049\\aw_stim_train_2024-05-24_10-36-53\\experiment1\\recording1'\n",
    "exp = EEGexp(rec_folder, preprocess=False, make_stim_csv=False)"
   ]
  },
  {
   "cell_type": "code",
   "execution_count": 6,
   "metadata": {},
   "outputs": [],
   "source": [
    "sync_data = exp._load_sync_dataset()"
   ]
  },
  {
   "cell_type": "markdown",
   "metadata": {},
   "source": [
    "# Estim log"
   ]
  },
  {
   "cell_type": "code",
   "execution_count": 7,
   "metadata": {},
   "outputs": [],
   "source": [
    "esweep_rising = sync_data.get_edges(keys=('estim_sweep',), kind='rising', units='seconds')\n",
    "esweep_falling = sync_data.get_edges(keys=('estim_sweep',), kind='falling', units='seconds')\n",
    "esync_rising = sync_data.get_edges(keys=('estim_sync',), kind='rising', units='seconds')\n",
    "esync_falling = sync_data.get_edges(keys=('estim_sync',), kind='falling', units='seconds')"
   ]
  },
  {
   "cell_type": "code",
   "execution_count": 8,
   "metadata": {},
   "outputs": [
    {
     "name": "stdout",
     "output_type": "stream",
     "text": [
      "Total e-stim trials: 150\n",
      "Number of e-stim sweeps: 2\n",
      "Trials per sweep: 75\n"
     ]
    }
   ],
   "source": [
    "total_trials = len(esync_rising)\n",
    "print('Total e-stim trials: %d' % total_trials)\n",
    "num_sweeps = len(esweep_rising)\n",
    "print('Number of e-stim sweeps: %d' % num_sweeps)\n",
    "trials_per_sweep = int(total_trials / num_sweeps)\n",
    "print('Trials per sweep: %d' % trials_per_sweep)"
   ]
  },
  {
   "cell_type": "markdown",
   "metadata": {},
   "source": [
    "#### Read multichannel systems stim file"
   ]
  },
  {
   "cell_type": "code",
   "execution_count": 9,
   "metadata": {},
   "outputs": [
    {
     "name": "stdout",
     "output_type": "stream",
     "text": [
      "['W:\\\\mouse735049\\\\aw_stim_train_2024-05-24_10-36-53\\\\experiment1\\\\recording1\\\\stimulation_protocol_1pulse_50tr_25uA_6.5-7.5_ISI.txt', 'W:\\\\mouse735049\\\\aw_stim_train_2024-05-24_10-36-53\\\\experiment1\\\\recording1\\\\stimulation_protocol_2pulse_50tr_25uA_6.5-7.5_ISI.txt']\n"
     ]
    }
   ],
   "source": [
    "print(exp.stim_instruction_files['electrical'])"
   ]
  },
  {
   "cell_type": "code",
   "execution_count": 10,
   "metadata": {},
   "outputs": [
    {
     "name": "stdout",
     "output_type": "stream",
     "text": [
      "550\n"
     ]
    }
   ],
   "source": [
    "mcs_dfs = []\n",
    "for efile in exp.stim_instruction_files['electrical']:\n",
    "    with open(efile) as file:\n",
    "        estim_txt = file.read() # open estim file and read in text\n",
    "    estim = estim_txt.split('channel:') # split and read txt file\n",
    "    d = {}\n",
    "    for item in estim:\n",
    "        if 'value' in item:\n",
    "            key = 'channel'+str(item[1])\n",
    "            d[key]=item.split('\\n')\n",
    "    channel1 = d['channel1'][1:]\n",
    "    mcs_dfs.append(pd.read_csv(io.StringIO('\\n'.join(channel1)), delim_whitespace=True))\n",
    "    \n",
    "ch1_df = pd.concat(mcs_dfs, axis=0, sort=False)\n",
    "print(len(ch1_df))"
   ]
  },
  {
   "cell_type": "code",
   "execution_count": 11,
   "metadata": {},
   "outputs": [],
   "source": [
    "list_stim_type = []\n",
    "list_stim_amp = []\n",
    "list_stim_dur = []\n",
    "for i in range(1, len(ch1_df)):\n",
    "    if ch1_df.value.iloc[i-1] < 0 and ch1_df.value.iloc[i] > 0:\n",
    "        list_stim_type.append('biphasic')\n",
    "        list_stim_amp.append(ch1_df.value.iloc[i])\n",
    "        list_stim_dur.append(ch1_df.time.iloc[i-1] + ch1_df.time.iloc[i])\n",
    "estim_log = pd.DataFrame({\n",
    "    'stim_type': list_stim_type,\n",
    "    'parameter': list_stim_amp,\n",
    "    'duration': np.array(list_stim_dur) * 1e-6\n",
    "})"
   ]
  },
  {
   "cell_type": "code",
   "execution_count": 12,
   "metadata": {},
   "outputs": [
    {
     "name": "stdout",
     "output_type": "stream",
     "text": [
      "150\n"
     ]
    },
    {
     "data": {
      "text/html": [
       "<div>\n",
       "<style scoped>\n",
       "    .dataframe tbody tr th:only-of-type {\n",
       "        vertical-align: middle;\n",
       "    }\n",
       "\n",
       "    .dataframe tbody tr th {\n",
       "        vertical-align: top;\n",
       "    }\n",
       "\n",
       "    .dataframe thead th {\n",
       "        text-align: right;\n",
       "    }\n",
       "</style>\n",
       "<table border=\"1\" class=\"dataframe\">\n",
       "  <thead>\n",
       "    <tr style=\"text-align: right;\">\n",
       "      <th></th>\n",
       "      <th>stim_type</th>\n",
       "      <th>parameter</th>\n",
       "      <th>duration</th>\n",
       "    </tr>\n",
       "  </thead>\n",
       "  <tbody>\n",
       "    <tr>\n",
       "      <th>0</th>\n",
       "      <td>biphasic</td>\n",
       "      <td>25</td>\n",
       "      <td>0.0004</td>\n",
       "    </tr>\n",
       "    <tr>\n",
       "      <th>1</th>\n",
       "      <td>biphasic</td>\n",
       "      <td>25</td>\n",
       "      <td>0.0004</td>\n",
       "    </tr>\n",
       "    <tr>\n",
       "      <th>2</th>\n",
       "      <td>biphasic</td>\n",
       "      <td>25</td>\n",
       "      <td>0.0004</td>\n",
       "    </tr>\n",
       "    <tr>\n",
       "      <th>3</th>\n",
       "      <td>biphasic</td>\n",
       "      <td>25</td>\n",
       "      <td>0.0004</td>\n",
       "    </tr>\n",
       "    <tr>\n",
       "      <th>4</th>\n",
       "      <td>biphasic</td>\n",
       "      <td>25</td>\n",
       "      <td>0.0004</td>\n",
       "    </tr>\n",
       "  </tbody>\n",
       "</table>\n",
       "</div>"
      ],
      "text/plain": [
       "  stim_type  parameter  duration\n",
       "0  biphasic         25    0.0004\n",
       "1  biphasic         25    0.0004\n",
       "2  biphasic         25    0.0004\n",
       "3  biphasic         25    0.0004\n",
       "4  biphasic         25    0.0004"
      ]
     },
     "execution_count": 12,
     "metadata": {},
     "output_type": "execute_result"
    }
   ],
   "source": [
    "print(len(estim_log))\n",
    "estim_log.head()"
   ]
  },
  {
   "cell_type": "code",
   "execution_count": 13,
   "metadata": {},
   "outputs": [
    {
     "name": "stdout",
     "output_type": "stream",
     "text": [
      "estim_log matches total trials\n"
     ]
    }
   ],
   "source": [
    "if len(estim_log) == trials_per_sweep:\n",
    "    print('estim_log matches trials per sweep')\n",
    "    estim_log = pd.concat([estim_log] * num_sweeps, axis='index', ignore_index=True)\n",
    "elif len(estim_log) == len(esync_rising):\n",
    "    print('estim_log matches total trials')\n",
    "    estim_log = estim_log\n",
    "else:\n",
    "    print('estim_log does not match total trials or trials per sweep')"
   ]
  },
  {
   "cell_type": "code",
   "execution_count": 14,
   "metadata": {},
   "outputs": [],
   "source": [
    "estim_log['onset'] = esync_rising\n",
    "estim_log['offset'] = esync_falling"
   ]
  },
  {
   "cell_type": "markdown",
   "metadata": {},
   "source": [
    "### Assign single/double pulse trials"
   ]
  },
  {
   "cell_type": "code",
   "execution_count": 15,
   "metadata": {},
   "outputs": [
    {
     "name": "stdout",
     "output_type": "stream",
     "text": [
      "150\n",
      "[10.       7.00191  7.40154  7.36679  7.23956  7.39854  7.36697  6.87858\n",
      "  6.82846  7.69953]\n"
     ]
    }
   ],
   "source": [
    "stimISI = np.insert(np.diff(estim_log['onset']), 0, 10.0)\n",
    "print(len(stimISI))\n",
    "print(stimISI[:10])"
   ]
  },
  {
   "cell_type": "code",
   "execution_count": 16,
   "metadata": {},
   "outputs": [],
   "source": [
    "evind = 0\n",
    "event_ID = 0\n",
    "event_sep = 1. # temporal separation of discrete events (s)\n",
    "\n",
    "evtypelist = []\n",
    "evIDlist = []\n",
    "while evind < len(estim_log):\n",
    "    tempevent = [stimISI[evind]]\n",
    "    evIDlist.append(event_ID)\n",
    "    evind += 1\n",
    "    while (evind < len(estim_log)) and (stimISI[evind] < event_sep):\n",
    "        tempevent.append(stimISI[evind])\n",
    "        evIDlist.append(event_ID)\n",
    "        evind += 1\n",
    "    evtypelist.extend([str(len(tempevent)) + 'pulse'] * len(tempevent))\n",
    "    event_ID += 1"
   ]
  },
  {
   "cell_type": "code",
   "execution_count": 17,
   "metadata": {},
   "outputs": [
    {
     "name": "stdout",
     "output_type": "stream",
     "text": [
      "150\n",
      "150\n"
     ]
    }
   ],
   "source": [
    "print(len(evtypelist))\n",
    "print(len(evIDlist))"
   ]
  },
  {
   "cell_type": "code",
   "execution_count": 18,
   "metadata": {},
   "outputs": [],
   "source": [
    "estim_log['event_type'] = evtypelist\n",
    "estim_log['event_ID'] = evIDlist"
   ]
  },
  {
   "cell_type": "code",
   "execution_count": 19,
   "metadata": {},
   "outputs": [
    {
     "data": {
      "text/html": [
       "<div>\n",
       "<style scoped>\n",
       "    .dataframe tbody tr th:only-of-type {\n",
       "        vertical-align: middle;\n",
       "    }\n",
       "\n",
       "    .dataframe tbody tr th {\n",
       "        vertical-align: top;\n",
       "    }\n",
       "\n",
       "    .dataframe thead th {\n",
       "        text-align: right;\n",
       "    }\n",
       "</style>\n",
       "<table border=\"1\" class=\"dataframe\">\n",
       "  <thead>\n",
       "    <tr style=\"text-align: right;\">\n",
       "      <th></th>\n",
       "      <th>stim_type</th>\n",
       "      <th>parameter</th>\n",
       "      <th>duration</th>\n",
       "      <th>onset</th>\n",
       "      <th>offset</th>\n",
       "      <th>event_type</th>\n",
       "      <th>event_ID</th>\n",
       "    </tr>\n",
       "  </thead>\n",
       "  <tbody>\n",
       "    <tr>\n",
       "      <th>145</th>\n",
       "      <td>biphasic</td>\n",
       "      <td>25</td>\n",
       "      <td>0.0004</td>\n",
       "      <td>1360.86847</td>\n",
       "      <td>1360.86887</td>\n",
       "      <td>2pulse</td>\n",
       "      <td>97</td>\n",
       "    </tr>\n",
       "    <tr>\n",
       "      <th>146</th>\n",
       "      <td>biphasic</td>\n",
       "      <td>25</td>\n",
       "      <td>0.0004</td>\n",
       "      <td>1368.07969</td>\n",
       "      <td>1368.08009</td>\n",
       "      <td>2pulse</td>\n",
       "      <td>98</td>\n",
       "    </tr>\n",
       "    <tr>\n",
       "      <th>147</th>\n",
       "      <td>biphasic</td>\n",
       "      <td>25</td>\n",
       "      <td>0.0004</td>\n",
       "      <td>1368.28009</td>\n",
       "      <td>1368.28049</td>\n",
       "      <td>2pulse</td>\n",
       "      <td>98</td>\n",
       "    </tr>\n",
       "    <tr>\n",
       "      <th>148</th>\n",
       "      <td>biphasic</td>\n",
       "      <td>25</td>\n",
       "      <td>0.0004</td>\n",
       "      <td>1375.79816</td>\n",
       "      <td>1375.79856</td>\n",
       "      <td>2pulse</td>\n",
       "      <td>99</td>\n",
       "    </tr>\n",
       "    <tr>\n",
       "      <th>149</th>\n",
       "      <td>biphasic</td>\n",
       "      <td>25</td>\n",
       "      <td>0.0004</td>\n",
       "      <td>1375.99856</td>\n",
       "      <td>1375.99896</td>\n",
       "      <td>2pulse</td>\n",
       "      <td>99</td>\n",
       "    </tr>\n",
       "  </tbody>\n",
       "</table>\n",
       "</div>"
      ],
      "text/plain": [
       "    stim_type  parameter  duration       onset      offset event_type  \\\n",
       "145  biphasic         25    0.0004  1360.86847  1360.86887     2pulse   \n",
       "146  biphasic         25    0.0004  1368.07969  1368.08009     2pulse   \n",
       "147  biphasic         25    0.0004  1368.28009  1368.28049     2pulse   \n",
       "148  biphasic         25    0.0004  1375.79816  1375.79856     2pulse   \n",
       "149  biphasic         25    0.0004  1375.99856  1375.99896     2pulse   \n",
       "\n",
       "     event_ID  \n",
       "145        97  \n",
       "146        98  \n",
       "147        98  \n",
       "148        99  \n",
       "149        99  "
      ]
     },
     "execution_count": 19,
     "metadata": {},
     "output_type": "execute_result"
    }
   ],
   "source": [
    "estim_log.tail()"
   ]
  },
  {
   "cell_type": "code",
   "execution_count": 20,
   "metadata": {},
   "outputs": [],
   "source": [
    "estim_log['sweep'] = np.zeros(len(estim_log), dtype=int) - 1\n",
    "for i in range(len(esweep_rising)):\n",
    "    # print('Sweep %d: %f to %f' % (i, sweep_start, sweep_end))\n",
    "    estim_log.loc[(estim_log['onset'] >= esweep_rising[i]-5) & (estim_log['onset'] <= esweep_falling[i]+2), 'sweep'] = i"
   ]
  },
  {
   "cell_type": "code",
   "execution_count": 21,
   "metadata": {},
   "outputs": [
    {
     "data": {
      "text/html": [
       "<div>\n",
       "<style scoped>\n",
       "    .dataframe tbody tr th:only-of-type {\n",
       "        vertical-align: middle;\n",
       "    }\n",
       "\n",
       "    .dataframe tbody tr th {\n",
       "        vertical-align: top;\n",
       "    }\n",
       "\n",
       "    .dataframe thead th {\n",
       "        text-align: right;\n",
       "    }\n",
       "</style>\n",
       "<table border=\"1\" class=\"dataframe\">\n",
       "  <thead>\n",
       "    <tr style=\"text-align: right;\">\n",
       "      <th></th>\n",
       "      <th>stim_type</th>\n",
       "      <th>parameter</th>\n",
       "      <th>duration</th>\n",
       "      <th>onset</th>\n",
       "      <th>offset</th>\n",
       "      <th>event_type</th>\n",
       "      <th>event_ID</th>\n",
       "      <th>sweep</th>\n",
       "    </tr>\n",
       "  </thead>\n",
       "  <tbody>\n",
       "    <tr>\n",
       "      <th>0</th>\n",
       "      <td>biphasic</td>\n",
       "      <td>25</td>\n",
       "      <td>0.0004</td>\n",
       "      <td>339.97544</td>\n",
       "      <td>339.97584</td>\n",
       "      <td>1pulse</td>\n",
       "      <td>0</td>\n",
       "      <td>0</td>\n",
       "    </tr>\n",
       "    <tr>\n",
       "      <th>1</th>\n",
       "      <td>biphasic</td>\n",
       "      <td>25</td>\n",
       "      <td>0.0004</td>\n",
       "      <td>346.97735</td>\n",
       "      <td>346.97775</td>\n",
       "      <td>1pulse</td>\n",
       "      <td>1</td>\n",
       "      <td>0</td>\n",
       "    </tr>\n",
       "    <tr>\n",
       "      <th>2</th>\n",
       "      <td>biphasic</td>\n",
       "      <td>25</td>\n",
       "      <td>0.0004</td>\n",
       "      <td>354.37889</td>\n",
       "      <td>354.37929</td>\n",
       "      <td>1pulse</td>\n",
       "      <td>2</td>\n",
       "      <td>0</td>\n",
       "    </tr>\n",
       "    <tr>\n",
       "      <th>3</th>\n",
       "      <td>biphasic</td>\n",
       "      <td>25</td>\n",
       "      <td>0.0004</td>\n",
       "      <td>361.74568</td>\n",
       "      <td>361.74608</td>\n",
       "      <td>1pulse</td>\n",
       "      <td>3</td>\n",
       "      <td>0</td>\n",
       "    </tr>\n",
       "    <tr>\n",
       "      <th>4</th>\n",
       "      <td>biphasic</td>\n",
       "      <td>25</td>\n",
       "      <td>0.0004</td>\n",
       "      <td>368.98524</td>\n",
       "      <td>368.98564</td>\n",
       "      <td>1pulse</td>\n",
       "      <td>4</td>\n",
       "      <td>0</td>\n",
       "    </tr>\n",
       "  </tbody>\n",
       "</table>\n",
       "</div>"
      ],
      "text/plain": [
       "  stim_type  parameter  duration      onset     offset event_type  event_ID  \\\n",
       "0  biphasic         25    0.0004  339.97544  339.97584     1pulse         0   \n",
       "1  biphasic         25    0.0004  346.97735  346.97775     1pulse         1   \n",
       "2  biphasic         25    0.0004  354.37889  354.37929     1pulse         2   \n",
       "3  biphasic         25    0.0004  361.74568  361.74608     1pulse         3   \n",
       "4  biphasic         25    0.0004  368.98524  368.98564     1pulse         4   \n",
       "\n",
       "   sweep  \n",
       "0      0  \n",
       "1      0  \n",
       "2      0  \n",
       "3      0  \n",
       "4      0  "
      ]
     },
     "execution_count": 21,
     "metadata": {},
     "output_type": "execute_result"
    }
   ],
   "source": [
    "estim_log.head()"
   ]
  },
  {
   "cell_type": "code",
   "execution_count": 22,
   "metadata": {},
   "outputs": [],
   "source": [
    "all_stim_log = pd.concat([estim_log], axis=0, sort=False).sort_values(by='onset', axis=0, ignore_index=True)\n",
    "all_stim_log = all_stim_log[['event_type', 'event_ID', 'stim_type', 'parameter', 'onset', 'offset', 'duration', 'sweep']]"
   ]
  },
  {
   "cell_type": "code",
   "execution_count": 23,
   "metadata": {},
   "outputs": [
    {
     "data": {
      "text/html": [
       "<div>\n",
       "<style scoped>\n",
       "    .dataframe tbody tr th:only-of-type {\n",
       "        vertical-align: middle;\n",
       "    }\n",
       "\n",
       "    .dataframe tbody tr th {\n",
       "        vertical-align: top;\n",
       "    }\n",
       "\n",
       "    .dataframe thead th {\n",
       "        text-align: right;\n",
       "    }\n",
       "</style>\n",
       "<table border=\"1\" class=\"dataframe\">\n",
       "  <thead>\n",
       "    <tr style=\"text-align: right;\">\n",
       "      <th></th>\n",
       "      <th>event_type</th>\n",
       "      <th>event_ID</th>\n",
       "      <th>stim_type</th>\n",
       "      <th>parameter</th>\n",
       "      <th>onset</th>\n",
       "      <th>offset</th>\n",
       "      <th>duration</th>\n",
       "      <th>sweep</th>\n",
       "    </tr>\n",
       "  </thead>\n",
       "  <tbody>\n",
       "    <tr>\n",
       "      <th>145</th>\n",
       "      <td>2pulse</td>\n",
       "      <td>97</td>\n",
       "      <td>biphasic</td>\n",
       "      <td>25</td>\n",
       "      <td>1360.86847</td>\n",
       "      <td>1360.86887</td>\n",
       "      <td>0.0004</td>\n",
       "      <td>1</td>\n",
       "    </tr>\n",
       "    <tr>\n",
       "      <th>146</th>\n",
       "      <td>2pulse</td>\n",
       "      <td>98</td>\n",
       "      <td>biphasic</td>\n",
       "      <td>25</td>\n",
       "      <td>1368.07969</td>\n",
       "      <td>1368.08009</td>\n",
       "      <td>0.0004</td>\n",
       "      <td>1</td>\n",
       "    </tr>\n",
       "    <tr>\n",
       "      <th>147</th>\n",
       "      <td>2pulse</td>\n",
       "      <td>98</td>\n",
       "      <td>biphasic</td>\n",
       "      <td>25</td>\n",
       "      <td>1368.28009</td>\n",
       "      <td>1368.28049</td>\n",
       "      <td>0.0004</td>\n",
       "      <td>1</td>\n",
       "    </tr>\n",
       "    <tr>\n",
       "      <th>148</th>\n",
       "      <td>2pulse</td>\n",
       "      <td>99</td>\n",
       "      <td>biphasic</td>\n",
       "      <td>25</td>\n",
       "      <td>1375.79816</td>\n",
       "      <td>1375.79856</td>\n",
       "      <td>0.0004</td>\n",
       "      <td>1</td>\n",
       "    </tr>\n",
       "    <tr>\n",
       "      <th>149</th>\n",
       "      <td>2pulse</td>\n",
       "      <td>99</td>\n",
       "      <td>biphasic</td>\n",
       "      <td>25</td>\n",
       "      <td>1375.99856</td>\n",
       "      <td>1375.99896</td>\n",
       "      <td>0.0004</td>\n",
       "      <td>1</td>\n",
       "    </tr>\n",
       "  </tbody>\n",
       "</table>\n",
       "</div>"
      ],
      "text/plain": [
       "    event_type  event_ID stim_type  parameter       onset      offset  \\\n",
       "145     2pulse        97  biphasic         25  1360.86847  1360.86887   \n",
       "146     2pulse        98  biphasic         25  1368.07969  1368.08009   \n",
       "147     2pulse        98  biphasic         25  1368.28009  1368.28049   \n",
       "148     2pulse        99  biphasic         25  1375.79816  1375.79856   \n",
       "149     2pulse        99  biphasic         25  1375.99856  1375.99896   \n",
       "\n",
       "     duration  sweep  \n",
       "145    0.0004      1  \n",
       "146    0.0004      1  \n",
       "147    0.0004      1  \n",
       "148    0.0004      1  \n",
       "149    0.0004      1  "
      ]
     },
     "execution_count": 23,
     "metadata": {},
     "output_type": "execute_result"
    }
   ],
   "source": [
    "all_stim_log.tail()"
   ]
  },
  {
   "cell_type": "code",
   "execution_count": 24,
   "metadata": {},
   "outputs": [],
   "source": [
    "all_stim_log.to_csv(exp.stimulus_log_file, index=False)"
   ]
  },
  {
   "cell_type": "markdown",
   "metadata": {},
   "source": [
    "# Sensory stim"
   ]
  },
  {
   "cell_type": "markdown",
   "metadata": {},
   "source": [
    "#### Set parameters and load sync file"
   ]
  },
  {
   "cell_type": "raw",
   "metadata": {},
   "source": [
    "VISUAL_STIMULI = ['fullscreen', 'circle', 'natural_scene']"
   ]
  },
  {
   "cell_type": "raw",
   "metadata": {},
   "source": [
    "sweep_rising = sync_data.get_edges(keys=('behavior_sweep',), kind='rising', units='seconds')\n",
    "sweep_falling = sync_data.get_edges(keys=('behavior_sweep',), kind='falling', units='seconds')\n",
    "\n",
    "vsync_rising = sync_data.get_edges(keys=('behavior_vsync',), kind='rising', units='seconds')\n",
    "vsync_falling = sync_data.get_edges(keys=('behavior_vsync',), kind='falling', units='seconds')\n",
    "\n",
    "pd_rising = sync_data.get_edges(keys=('photodiode',), kind='rising', units='seconds')\n",
    "pd_falling = sync_data.get_edges(keys=('photodiode',), kind='falling', units='seconds')\n",
    "\n",
    "if len(sweep_rising) == 0:\n",
    "    between_sweep_inds = np.argwhere(np.diff(vsync_rising) > 10.).flatten()\n",
    "    sweep_rising = np.concatenate(([vsync_rising[0]-1.], vsync_rising[between_sweep_inds+1]-1.))\n",
    "    sweep_falling = np.concatenate((vsync_falling[between_sweep_inds]+1., [vsync_falling[-1]+1.]))"
   ]
  },
  {
   "cell_type": "markdown",
   "metadata": {},
   "source": [
    "#### Load experiment log file"
   ]
  },
  {
   "cell_type": "raw",
   "metadata": {},
   "source": [
    "explogfile = pd.read_csv(exp.stim_instruction_files['sensory'][0])\n",
    "explogfile.head()"
   ]
  },
  {
   "cell_type": "raw",
   "metadata": {},
   "source": [
    "if 'display_stim' in list(explogfile.columns):\n",
    "    print('This is the old style log')\n",
    "    explogfile = explogfile.drop(labels='time', axis=1)\n",
    "\n",
    "    ## Remove gray screen from log ##\n",
    "    list_stim_type = []\n",
    "    list_stim_param = []\n",
    "    for i in range(1, len(explogfile)):\n",
    "        if explogfile.stim_type.iloc[i-1] == 'gray_screen' and explogfile.stim_type.iloc[i] in VISUAL_STIMULI:\n",
    "            list_stim_type.append(explogfile.stim_type.iloc[i])\n",
    "            list_stim_param.append(explogfile.stim_parameter.iloc[i]) # to make sure order matches stim table\n",
    "    stim_log = pd.DataFrame({\n",
    "        'stim_type': list_stim_type,\n",
    "        'parameter': list_stim_param,\n",
    "    })\n",
    "    \n",
    "elif 'ISI' in list(explogfile.columns):\n",
    "    print('This is the new style log')\n",
    "    \n",
    "    stim_log = explogfile.drop(\n",
    "        labels=[\n",
    "            'imtrial.thisRepN','imtrial.thisTrialN','imtrial.thisN','imtrial.thisIndex','thisRow.t','notes',\n",
    "            'trialStim.started','trialStim.stopped','Unnamed: 12'\n",
    "        ], axis=1\n",
    "    )\n",
    "    \n",
    "else:\n",
    "    print(\"Uh oh, tbd_eeg does not understand this log file.\")"
   ]
  },
  {
   "cell_type": "markdown",
   "metadata": {},
   "source": [
    "#### Add photodiode times as onsets/offsets (if available)"
   ]
  },
  {
   "cell_type": "raw",
   "metadata": {},
   "source": [
    "if pd_rising.shape[0] == stim_log.shape[0]:\n",
    "    stim_log['onset'] = pd_rising\n",
    "    if pd_falling.shape[0] == stim_log.shape[0]:\n",
    "        stim_log['offset'] = pd_falling\n",
    "    else:\n",
    "        print('Number of photodiode offsets does not match number of stimuli; estimating offsets.')\n",
    "        stim_log['offset'] = stim_log['onset'] + stim_log['duration']\n",
    "elif vsync_rising.shape[0] == stim_log.shape[0]:\n",
    "    print('Number of photodiode onsets does not match number of stimuli; using vsync times instead (these are typically 50 ms early).')\n",
    "    stim_log['onset'] = vsync_rising\n",
    "    stim_log['offset'] = vsync_falling\n",
    "else:\n",
    "    print('Number of photodiode and vsync pulses do not match number of stimuli; manual stim_log creation is needed.')"
   ]
  },
  {
   "cell_type": "markdown",
   "metadata": {},
   "source": [
    "#### Add duration (for old log) and sweep number"
   ]
  },
  {
   "cell_type": "raw",
   "metadata": {},
   "source": [
    "if 'duration' not in list(explogfile.columns):\n",
    "    stim_log['duration'] = stim_log['offset'] - stim_log['onset']\n",
    "else:\n",
    "    print('New log already has duration.')"
   ]
  },
  {
   "cell_type": "raw",
   "metadata": {},
   "source": [
    "stim_log['sweep'] = np.zeros(len(stim_log), dtype=int) - 1\n",
    "for i in range(len(sweep_rising)):\n",
    "    # print('Sweep %d: %f to %f' % (i, sweep_start, sweep_end))\n",
    "    stim_log.loc[(stim_log['onset'] > sweep_rising[i]) & (stim_log['onset'] < sweep_falling[i]), 'sweep'] = i"
   ]
  },
  {
   "cell_type": "markdown",
   "metadata": {},
   "source": [
    "#### Check it"
   ]
  },
  {
   "cell_type": "raw",
   "metadata": {},
   "source": [
    "stim_log.head()"
   ]
  },
  {
   "cell_type": "markdown",
   "metadata": {},
   "source": [
    "# Put them all together and save"
   ]
  },
  {
   "cell_type": "raw",
   "metadata": {},
   "source": [
    "all_logs_list = [estim_log, stim_log] # estim is called estim_log and visual is called stim_log\n",
    "all_stim_log = pd.concat(all_logs_list, axis=0, sort=False).sort_values(by='onset', axis=0)"
   ]
  },
  {
   "cell_type": "raw",
   "metadata": {},
   "source": [
    "all_stim_log.to_csv(exp.stimulus_log_file, index=False)"
   ]
  }
 ],
 "metadata": {
  "kernelspec": {
   "display_name": "tbd_eeg",
   "language": "python",
   "name": "tbd_eeg"
  },
  "language_info": {
   "codemirror_mode": {
    "name": "ipython",
    "version": 3
   },
   "file_extension": ".py",
   "mimetype": "text/x-python",
   "name": "python",
   "nbconvert_exporter": "python",
   "pygments_lexer": "ipython3",
   "version": "3.7.13"
  }
 },
 "nbformat": 4,
 "nbformat_minor": 2
}
