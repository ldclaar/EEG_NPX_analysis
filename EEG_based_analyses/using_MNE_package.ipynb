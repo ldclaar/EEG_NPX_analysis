{
 "cells": [
  {
   "cell_type": "code",
   "execution_count": 1,
   "metadata": {},
   "outputs": [],
   "source": [
    "import os\n",
    "import sys\n",
    "import time\n",
    "import numpy as np\n",
    "import pandas as pd\n",
    "import matplotlib.pyplot as plt\n",
    "from glob import glob\n",
    "import mne\n",
    "# from mne.minimum_norm import read_inverse_operator, source_induced_power\n",
    "from mne.time_frequency import tfr_morlet"
   ]
  },
  {
   "cell_type": "code",
   "execution_count": 2,
   "metadata": {},
   "outputs": [],
   "source": [
    "sys.path.append(r'C:\\Users\\lesliec\\code')"
   ]
  },
  {
   "cell_type": "code",
   "execution_count": 3,
   "metadata": {},
   "outputs": [],
   "source": [
    "from tbd_eeg.tbd_eeg.data_analysis.eegutils import EEGexp\n",
    "from tbd_eeg.tbd_eeg.data_analysis.Utilities.utilities import find_nearest"
   ]
  },
  {
   "cell_type": "code",
   "execution_count": 4,
   "metadata": {},
   "outputs": [],
   "source": [
    "%matplotlib qt"
   ]
  },
  {
   "cell_type": "markdown",
   "metadata": {},
   "source": [
    "### Functions"
   ]
  },
  {
   "cell_type": "code",
   "execution_count": 5,
   "metadata": {},
   "outputs": [],
   "source": [
    "# need to make a function that chooses stim event times\n",
    "def get_stim_events(stim_table, stim_type, stim_param, sweep, remove_bad_epochs=True):\n",
    "\n",
    "    if 'good' in stim_table.columns and remove_bad_epochs:\n",
    "        return stim_table[\n",
    "                (stim_table['stim_type'] == stim_type) &\n",
    "                (stim_table['parameter'] == stim_param) &\n",
    "                (stim_table['sweep'] == sweep) &\n",
    "                (stim_table['good'] == True)\n",
    "                ].onset.values\n",
    "    else:\n",
    "        return stim_table[\n",
    "                (stim_table['stim_type'] == stim_type) &\n",
    "                (stim_table['parameter'] == stim_param) &\n",
    "                (stim_table['sweep'] == sweep)\n",
    "                ].onset.values"
   ]
  },
  {
   "cell_type": "code",
   "execution_count": 6,
   "metadata": {},
   "outputs": [],
   "source": [
    "# use get_stim_events to make mne events array\n",
    "def get_mne_events(eeg_timestamps, stim_table, stim_type, event_dict, stim_param=None, stim_sweep=None):\n",
    "    '''\n",
    "    This function finds the master times for specified events, then extracts the index of the EEG sample associated with them.\n",
    "    It returns an array ((n_events, 3), compatible with the mne package) with the following info: [[EEG sample of event, value\n",
    "    of previous event (not relevant), sweep number (can be tied to event_id)],...].\n",
    "    '''\n",
    "\n",
    "    mne_events = np.empty([0, 3], dtype=int)\n",
    "    for event_name, event_param in event_dict.items():\n",
    "        if stim_sweep is None:\n",
    "            etimes = get_stim_events(stim_table, stim_type, stim_param, event_param)\n",
    "        elif stim_param is None:\n",
    "            etimes = get_stim_events(stim_table, stim_type, event_param, stim_sweep)\n",
    "        eeg_sample_inds = np.array([find_nearest(eeg_timestamps, x) for x in etimes]) # sample inds for first column\n",
    "        blank_second_column = np.zeros_like(eeg_sample_inds) # zeros for second column\n",
    "        eventid_column = np.full(eeg_sample_inds.shape, event_param) # event id for third column\n",
    "        # column stack and concatenate with all sweep events\n",
    "        mne_events = np.concatenate((mne_events, np.column_stack((eeg_sample_inds, blank_second_column, eventid_column))), axis=0)\n",
    "    \n",
    "    return mne_events[mne_events[:,0].argsort()]"
   ]
  },
  {
   "cell_type": "markdown",
   "metadata": {},
   "source": [
    "### Get meta data from files"
   ]
  },
  {
   "cell_type": "code",
   "execution_count": 7,
   "metadata": {},
   "outputs": [
    {
     "name": "stdout",
     "output_type": "stream",
     "text": [
      "Experiment type: electrical and sensory stimulation\n",
      "SomnoSuite log file not found.\n"
     ]
    }
   ],
   "source": [
    "# data_folder = r\"E:\\EEG_exp\\mouse521885\\estim1_2020-07-09_14-23-49\\recording1\"\n",
    "data_folder = r'F:\\EEG_exp\\mouse569064\\estim_vis_2021-04-08_10-28-24\\experiment1\\recording1'\n",
    "exp = EEGexp(data_folder, preprocess=False)"
   ]
  },
  {
   "cell_type": "code",
   "execution_count": 8,
   "metadata": {},
   "outputs": [
    {
     "name": "stdout",
     "output_type": "stream",
     "text": [
      "569064\n",
      "2021-04-08 10:28:24\n",
      "electrical and sensory stimulation\n",
      "W10DT05491\n",
      "2500\n"
     ]
    }
   ],
   "source": [
    "print(exp.mouse)\n",
    "print(exp.date)\n",
    "print(exp.experiment_type)\n",
    "print(exp.computerID)\n",
    "print(exp.ephys_params['EEG']['sample_rate'])"
   ]
  },
  {
   "cell_type": "raw",
   "metadata": {},
   "source": [
    "# Make a folder in my OneDrive to save plots\n",
    "plotsavedir = os.path.join(r'C:\\Users\\lesliec\\OneDrive - Allen Institute\\data\\plots', 'mouse'+exp.mouse)\n",
    "if not os.path.exists(plotsavedir):\n",
    "    os.mkdir(plotsavedir)\n",
    "    print(plotsavedir)"
   ]
  },
  {
   "cell_type": "markdown",
   "metadata": {},
   "source": [
    "### Use EEGexp function to load data. Array returned is already remapped into EEG array ch numbers (ch 31 & 32 should be very noisy). Data is in microvolts."
   ]
  },
  {
   "cell_type": "code",
   "execution_count": 9,
   "metadata": {},
   "outputs": [],
   "source": [
    "eegdata, eegtimestamps = exp.load_eegdata()"
   ]
  },
  {
   "cell_type": "code",
   "execution_count": 10,
   "metadata": {},
   "outputs": [
    {
     "name": "stdout",
     "output_type": "stream",
     "text": [
      "(25378816, 30)\n"
     ]
    }
   ],
   "source": [
    "print(eegdata.shape)"
   ]
  },
  {
   "cell_type": "code",
   "execution_count": 11,
   "metadata": {},
   "outputs": [
    {
     "name": "stdout",
     "output_type": "stream",
     "text": [
      "[35.44151405 35.44191405 35.44231405 35.44271405 35.44311405 35.44351405\n",
      " 35.44391405 35.44431405 35.44471405 35.44511405]\n",
      "88603.78511696354\n",
      "35.4416\n"
     ]
    }
   ],
   "source": [
    "print(eegtimestamps[0:10])\n",
    "print(eegtimestamps[0]*exp.ephys_params['EEG']['sample_rate'])\n",
    "print(round(eegtimestamps[0]*exp.ephys_params['EEG']['sample_rate'])/exp.ephys_params['EEG']['sample_rate'])"
   ]
  },
  {
   "cell_type": "markdown",
   "metadata": {},
   "source": [
    "### Create MNE Raw object"
   ]
  },
  {
   "cell_type": "markdown",
   "metadata": {},
   "source": [
    "#### *From Saurabh*"
   ]
  },
  {
   "cell_type": "raw",
   "metadata": {},
   "source": [
    "# this is all you need from the package to compute coh / pli / plv / imcoh / wpli etc etc\n",
    "from mne.connectivity import spectral_connectivity\n",
    "\n",
    "connectivity, freq, t, nep, nta = spectral_connectivity(\n",
    "    data, method='coh', mode='fourier', sfreq=sample_rate, faverage=False, fmax=100, block_size=2, n_jobs=8\n",
    ")\n",
    "\n",
    "# data : array[#trials x #channels x time]\n",
    "# connectivity : array[#channels x #channels x #freqs]\n",
    "# freq : array[#freqs] # frequencies are evenly spaced by 1 hz upto fmax, starting from the lowest possible based on window length"
   ]
  },
  {
   "cell_type": "code",
   "execution_count": 11,
   "metadata": {},
   "outputs": [],
   "source": [
    "ch_list = np.arange(0, 30)\n",
    "ch_names = [str(x) for x in ch_list]\n",
    "\n",
    "info = mne.create_info(ch_names=ch_names, sfreq=exp.ephys_params['EEG']['sample_rate'], ch_types='eeg')\n",
    "# can add bad channels to info"
   ]
  },
  {
   "cell_type": "code",
   "execution_count": 12,
   "metadata": {},
   "outputs": [
    {
     "name": "stdout",
     "output_type": "stream",
     "text": [
      "Creating RawArray with float64 data, n_channels=30, n_times=25378816\n",
      "    Range : 0 ... 25378815 =      0.000 ... 10151.526 secs\n",
      "Ready.\n"
     ]
    }
   ],
   "source": [
    "mne_raw = mne.io.RawArray(eegdata.T[ch_list,:]*1e-6, info)\n",
    "# for mne.io.RawArray, eeg channels must be in Volts"
   ]
  },
  {
   "cell_type": "raw",
   "metadata": {},
   "source": [
    "scalings = {'eeg': 100e-6}\n",
    "mne_raw.plot(n_channels=10, scalings=scalings)"
   ]
  },
  {
   "cell_type": "markdown",
   "metadata": {},
   "source": [
    "Plotting appears to be working. Should double check the scale bar at some point, but looks close enough."
   ]
  },
  {
   "cell_type": "markdown",
   "metadata": {},
   "source": [
    "### Create \"events\" array to make Epochs"
   ]
  },
  {
   "cell_type": "markdown",
   "metadata": {},
   "source": [
    "From mne docs (https://mne.tools/stable/auto_tutorials/simulation/plot_creating_data_structures.html#tut-creating-data-structures):\n",
    "<br>*It is necessary to supply an “events” array in order to create an Epochs object. This is of shape(n_events, 3) where the first column is the sample number (time) of the event, the second column indicates the value from which the transition is made from (only used when the new value is bigger than the old one), and the third column is the new event value.*"
   ]
  },
  {
   "cell_type": "code",
   "execution_count": 14,
   "metadata": {},
   "outputs": [
    {
     "data": {
      "text/html": [
       "<div>\n",
       "<style scoped>\n",
       "    .dataframe tbody tr th:only-of-type {\n",
       "        vertical-align: middle;\n",
       "    }\n",
       "\n",
       "    .dataframe tbody tr th {\n",
       "        vertical-align: top;\n",
       "    }\n",
       "\n",
       "    .dataframe thead th {\n",
       "        text-align: right;\n",
       "    }\n",
       "</style>\n",
       "<table border=\"1\" class=\"dataframe\">\n",
       "  <thead>\n",
       "    <tr style=\"text-align: right;\">\n",
       "      <th></th>\n",
       "      <th>stim_type</th>\n",
       "      <th>parameter</th>\n",
       "      <th>onset</th>\n",
       "      <th>offset</th>\n",
       "      <th>duration</th>\n",
       "      <th>sweep</th>\n",
       "      <th>good</th>\n",
       "      <th>mean_speed</th>\n",
       "      <th>resting_trial</th>\n",
       "    </tr>\n",
       "  </thead>\n",
       "  <tbody>\n",
       "    <tr>\n",
       "      <th>0</th>\n",
       "      <td>biphasic</td>\n",
       "      <td>40</td>\n",
       "      <td>375.08634</td>\n",
       "      <td>375.08674</td>\n",
       "      <td>0.0004</td>\n",
       "      <td>0</td>\n",
       "      <td>True</td>\n",
       "      <td>0.0</td>\n",
       "      <td>True</td>\n",
       "    </tr>\n",
       "    <tr>\n",
       "      <th>1</th>\n",
       "      <td>biphasic</td>\n",
       "      <td>15</td>\n",
       "      <td>378.61936</td>\n",
       "      <td>378.61976</td>\n",
       "      <td>0.0004</td>\n",
       "      <td>0</td>\n",
       "      <td>True</td>\n",
       "      <td>0.0</td>\n",
       "      <td>True</td>\n",
       "    </tr>\n",
       "    <tr>\n",
       "      <th>2</th>\n",
       "      <td>biphasic</td>\n",
       "      <td>40</td>\n",
       "      <td>382.68098</td>\n",
       "      <td>382.68138</td>\n",
       "      <td>0.0004</td>\n",
       "      <td>0</td>\n",
       "      <td>True</td>\n",
       "      <td>0.0</td>\n",
       "      <td>True</td>\n",
       "    </tr>\n",
       "    <tr>\n",
       "      <th>3</th>\n",
       "      <td>biphasic</td>\n",
       "      <td>60</td>\n",
       "      <td>387.06326</td>\n",
       "      <td>387.06366</td>\n",
       "      <td>0.0004</td>\n",
       "      <td>0</td>\n",
       "      <td>True</td>\n",
       "      <td>0.0</td>\n",
       "      <td>True</td>\n",
       "    </tr>\n",
       "    <tr>\n",
       "      <th>4</th>\n",
       "      <td>biphasic</td>\n",
       "      <td>60</td>\n",
       "      <td>391.23287</td>\n",
       "      <td>391.23327</td>\n",
       "      <td>0.0004</td>\n",
       "      <td>0</td>\n",
       "      <td>True</td>\n",
       "      <td>0.0</td>\n",
       "      <td>True</td>\n",
       "    </tr>\n",
       "  </tbody>\n",
       "</table>\n",
       "</div>"
      ],
      "text/plain": [
       "  stim_type parameter      onset     offset  duration  sweep  good  \\\n",
       "0  biphasic        40  375.08634  375.08674    0.0004      0  True   \n",
       "1  biphasic        15  378.61936  378.61976    0.0004      0  True   \n",
       "2  biphasic        40  382.68098  382.68138    0.0004      0  True   \n",
       "3  biphasic        60  387.06326  387.06366    0.0004      0  True   \n",
       "4  biphasic        60  391.23287  391.23327    0.0004      0  True   \n",
       "\n",
       "   mean_speed  resting_trial  \n",
       "0         0.0           True  \n",
       "1         0.0           True  \n",
       "2         0.0           True  \n",
       "3         0.0           True  \n",
       "4         0.0           True  "
      ]
     },
     "execution_count": 14,
     "metadata": {},
     "output_type": "execute_result"
    }
   ],
   "source": [
    "stim_log = pd.read_csv(exp.stimulus_log_file)\n",
    "stim_log.head()"
   ]
  },
  {
   "cell_type": "code",
   "execution_count": null,
   "metadata": {},
   "outputs": [],
   "source": [
    "print(stim_log.sweep.unique())"
   ]
  },
  {
   "cell_type": "code",
   "execution_count": null,
   "metadata": {},
   "outputs": [],
   "source": [
    "print(stim_log.parameter.unique())"
   ]
  },
  {
   "cell_type": "code",
   "execution_count": 15,
   "metadata": {},
   "outputs": [
    {
     "name": "stdout",
     "output_type": "stream",
     "text": [
      "{'40': '40', '15': '15', '60': '60', 'white': 'white'}\n",
      "(360, 3)\n"
     ]
    }
   ],
   "source": [
    "# # make event_id for SWEEPS to get event array\n",
    "# event_id_dict = dict(awake=0, anesthetized=1)\n",
    "# print(event_id_dict)\n",
    "# ch_events = get_mne_events(eegtimestamps, stim_log, stim_type='biphasic', event_dict=event_id_dict, stim_param=50)\n",
    "# print(ch_events.shape)\n",
    "# # might be able to automate this in the future...\n",
    "\n",
    "# make event_id for AMPLITUDES to get event array\n",
    "event_id_dict = {}\n",
    "for ampi in stim_log.parameter.unique():\n",
    "    event_id_dict[str(ampi)] = ampi\n",
    "print(event_id_dict)\n",
    "ch_events = get_mne_events(eegtimestamps, stim_log, stim_type='biphasic', event_dict=event_id_dict, stim_sweep=0)\n",
    "print(ch_events.shape)"
   ]
  },
  {
   "cell_type": "markdown",
   "metadata": {},
   "source": [
    "### Use events to extract epochs"
   ]
  },
  {
   "cell_type": "code",
   "execution_count": 16,
   "metadata": {},
   "outputs": [
    {
     "ename": "TypeError",
     "evalue": "events should be a NumPy array of integers, got <class 'numpy.ndarray'>",
     "output_type": "error",
     "traceback": [
      "\u001b[1;31m---------------------------------------------------------------------------\u001b[0m",
      "\u001b[1;31mTypeError\u001b[0m                                 Traceback (most recent call last)",
      "\u001b[1;32m<ipython-input-16-0c3289a1aa17>\u001b[0m in \u001b[0;36m<module>\u001b[1;34m\u001b[0m\n\u001b[1;32m----> 1\u001b[1;33m \u001b[0mch_epochs\u001b[0m \u001b[1;33m=\u001b[0m \u001b[0mmne\u001b[0m\u001b[1;33m.\u001b[0m\u001b[0mEpochs\u001b[0m\u001b[1;33m(\u001b[0m\u001b[0mmne_raw\u001b[0m\u001b[1;33m,\u001b[0m \u001b[0mch_events\u001b[0m\u001b[1;33m,\u001b[0m \u001b[0mtmin\u001b[0m\u001b[1;33m=\u001b[0m\u001b[1;33m-\u001b[0m\u001b[1;36m0.5\u001b[0m\u001b[1;33m,\u001b[0m \u001b[0mtmax\u001b[0m\u001b[1;33m=\u001b[0m\u001b[1;36m1.0\u001b[0m\u001b[1;33m,\u001b[0m \u001b[0mevent_id\u001b[0m\u001b[1;33m=\u001b[0m\u001b[0mevent_id_dict\u001b[0m\u001b[1;33m)\u001b[0m\u001b[1;33m\u001b[0m\u001b[0m\n\u001b[0m",
      "\u001b[1;32m<decorator-gen-184>\u001b[0m in \u001b[0;36m__init__\u001b[1;34m(self, raw, events, event_id, tmin, tmax, baseline, picks, preload, reject, flat, proj, decim, reject_tmin, reject_tmax, detrend, on_missing, reject_by_annotation, metadata, event_repeated, verbose)\u001b[0m\n",
      "\u001b[1;32m~\\AppData\\Local\\Continuum\\miniconda3\\envs\\tbd_eeg\\lib\\site-packages\\mne\\epochs.py\u001b[0m in \u001b[0;36m__init__\u001b[1;34m(self, raw, events, event_id, tmin, tmax, baseline, picks, preload, reject, flat, proj, decim, reject_tmin, reject_tmax, detrend, on_missing, reject_by_annotation, metadata, event_repeated, verbose)\u001b[0m\n\u001b[0;32m   2093\u001b[0m             \u001b[0mreject_tmax\u001b[0m\u001b[1;33m=\u001b[0m\u001b[0mreject_tmax\u001b[0m\u001b[1;33m,\u001b[0m \u001b[0mdetrend\u001b[0m\u001b[1;33m=\u001b[0m\u001b[0mdetrend\u001b[0m\u001b[1;33m,\u001b[0m\u001b[1;33m\u001b[0m\u001b[0m\n\u001b[0;32m   2094\u001b[0m             \u001b[0mproj\u001b[0m\u001b[1;33m=\u001b[0m\u001b[0mproj\u001b[0m\u001b[1;33m,\u001b[0m \u001b[0mon_missing\u001b[0m\u001b[1;33m=\u001b[0m\u001b[0mon_missing\u001b[0m\u001b[1;33m,\u001b[0m \u001b[0mpreload_at_end\u001b[0m\u001b[1;33m=\u001b[0m\u001b[0mpreload\u001b[0m\u001b[1;33m,\u001b[0m\u001b[1;33m\u001b[0m\u001b[0m\n\u001b[1;32m-> 2095\u001b[1;33m             event_repeated=event_repeated, verbose=verbose)\n\u001b[0m\u001b[0;32m   2096\u001b[0m \u001b[1;33m\u001b[0m\u001b[0m\n\u001b[0;32m   2097\u001b[0m     \u001b[1;33m@\u001b[0m\u001b[0mverbose\u001b[0m\u001b[1;33m\u001b[0m\u001b[0m\n",
      "\u001b[1;32m<decorator-gen-175>\u001b[0m in \u001b[0;36m__init__\u001b[1;34m(self, info, data, events, event_id, tmin, tmax, baseline, raw, picks, reject, flat, decim, reject_tmin, reject_tmax, detrend, proj, on_missing, preload_at_end, selection, drop_log, filename, metadata, event_repeated, verbose)\u001b[0m\n",
      "\u001b[1;32m~\\AppData\\Local\\Continuum\\miniconda3\\envs\\tbd_eeg\\lib\\site-packages\\mne\\epochs.py\u001b[0m in \u001b[0;36m__init__\u001b[1;34m(self, info, data, events, event_id, tmin, tmax, baseline, raw, picks, reject, flat, decim, reject_tmin, reject_tmax, detrend, proj, on_missing, preload_at_end, selection, drop_log, filename, metadata, event_repeated, verbose)\u001b[0m\n\u001b[0;32m    397\u001b[0m             \u001b[1;32mif\u001b[0m \u001b[1;32mnot\u001b[0m \u001b[0mnp\u001b[0m\u001b[1;33m.\u001b[0m\u001b[0missubdtype\u001b[0m\u001b[1;33m(\u001b[0m\u001b[0mevents\u001b[0m\u001b[1;33m.\u001b[0m\u001b[0mdtype\u001b[0m\u001b[1;33m,\u001b[0m \u001b[0mnp\u001b[0m\u001b[1;33m.\u001b[0m\u001b[0minteger\u001b[0m\u001b[1;33m)\u001b[0m\u001b[1;33m:\u001b[0m\u001b[1;33m\u001b[0m\u001b[0m\n\u001b[0;32m    398\u001b[0m                 raise TypeError('events should be a NumPy array of integers, '\n\u001b[1;32m--> 399\u001b[1;33m                                 'got {}'.format(events_type))\n\u001b[0m\u001b[0;32m    400\u001b[0m         \u001b[0mevent_id\u001b[0m \u001b[1;33m=\u001b[0m \u001b[0m_check_event_id\u001b[0m\u001b[1;33m(\u001b[0m\u001b[0mevent_id\u001b[0m\u001b[1;33m,\u001b[0m \u001b[0mevents\u001b[0m\u001b[1;33m)\u001b[0m\u001b[1;33m\u001b[0m\u001b[0m\n\u001b[0;32m    401\u001b[0m         \u001b[0mself\u001b[0m\u001b[1;33m.\u001b[0m\u001b[0mevent_id\u001b[0m \u001b[1;33m=\u001b[0m \u001b[0mevent_id\u001b[0m\u001b[1;33m\u001b[0m\u001b[0m\n",
      "\u001b[1;31mTypeError\u001b[0m: events should be a NumPy array of integers, got <class 'numpy.ndarray'>"
     ]
    }
   ],
   "source": [
    "ch_epochs = mne.Epochs(mne_raw, ch_events, tmin=-0.5, tmax=1.0, event_id=event_id_dict)"
   ]
  },
  {
   "cell_type": "code",
   "execution_count": null,
   "metadata": {},
   "outputs": [],
   "source": [
    "ch_epochs.plot(scalings=scalings, n_epochs=5, n_channels=10, events=ch_events, event_id=event_id_dict)"
   ]
  },
  {
   "cell_type": "markdown",
   "metadata": {},
   "source": [
    "Use Epochs to plot topomap"
   ]
  },
  {
   "cell_type": "raw",
   "metadata": {},
   "source": [
    "evoked_awake = epochs_50['awake'].average()"
   ]
  },
  {
   "cell_type": "raw",
   "metadata": {},
   "source": [
    "# need topomap/montage for this plot\n",
    "evoked_awake.plot_topomap(times=[0.1], size=3., title='Awake', time_unit='s')"
   ]
  },
  {
   "cell_type": "code",
   "execution_count": 17,
   "metadata": {
    "scrolled": true
   },
   "outputs": [
    {
     "ename": "NameError",
     "evalue": "name 'epochs_50' is not defined",
     "output_type": "error",
     "traceback": [
      "\u001b[1;31m---------------------------------------------------------------------------\u001b[0m",
      "\u001b[1;31mNameError\u001b[0m                                 Traceback (most recent call last)",
      "\u001b[1;32m<ipython-input-17-23a4996f745f>\u001b[0m in \u001b[0;36m<module>\u001b[1;34m\u001b[0m\n\u001b[1;32m----> 1\u001b[1;33m \u001b[0mawake_epochs\u001b[0m \u001b[1;33m=\u001b[0m \u001b[0mepochs_50\u001b[0m\u001b[1;33m[\u001b[0m\u001b[1;34m'awake'\u001b[0m\u001b[1;33m]\u001b[0m\u001b[1;33m.\u001b[0m\u001b[0mget_data\u001b[0m\u001b[1;33m(\u001b[0m\u001b[1;33m)\u001b[0m\u001b[1;33m\u001b[0m\u001b[0m\n\u001b[0m\u001b[0;32m      2\u001b[0m \u001b[0manest_epochs\u001b[0m \u001b[1;33m=\u001b[0m \u001b[0mepochs_50\u001b[0m\u001b[1;33m[\u001b[0m\u001b[1;34m'anesthetized'\u001b[0m\u001b[1;33m]\u001b[0m\u001b[1;33m.\u001b[0m\u001b[0mget_data\u001b[0m\u001b[1;33m(\u001b[0m\u001b[1;33m)\u001b[0m\u001b[1;33m\u001b[0m\u001b[0m\n",
      "\u001b[1;31mNameError\u001b[0m: name 'epochs_50' is not defined"
     ]
    }
   ],
   "source": [
    "awake_epochs = epochs_50['awake'].get_data()\n",
    "anest_epochs = epochs_50['anesthetized'].get_data()"
   ]
  },
  {
   "cell_type": "markdown",
   "metadata": {},
   "source": [
    "## Pick electrode to analyze"
   ]
  },
  {
   "cell_type": "code",
   "execution_count": null,
   "metadata": {},
   "outputs": [],
   "source": [
    "# plot some single trials stacked\n",
    "plot_ch = 4\n",
    "plot_trials = [0, 5, 10, 15, 20, 25, 30, 45, 55, 59]\n",
    "offset = 0.0005"
   ]
  },
  {
   "cell_type": "code",
   "execution_count": null,
   "metadata": {},
   "outputs": [],
   "source": [
    "plotsavefolder = os.path.join(plotsavedir, 'ch'+str(plot_ch))\n",
    "\n",
    "if not os.path.exists(plotsavefolder):\n",
    "    os.mkdir(plotsavefolder)\n",
    "    print(plotsavefolder)"
   ]
  },
  {
   "cell_type": "code",
   "execution_count": null,
   "metadata": {},
   "outputs": [],
   "source": [
    "fig, ax = plt.subplots(figsize=(5.8, 5.2))\n",
    "for indi, trial_num in enumerate(plot_trials):\n",
    "    ax.plot(epochs_50.times, awake_epochs[trial_num, plot_ch, :]+offset*indi, color='k', linewidth=0.8)\n",
    "ax.set_xlim([epochs_50.times[0], epochs_50.times[-1]])\n",
    "ax.axvline(0, c='g', linewidth=1, alpha=0.8)\n",
    "ax.set_title('Awake, 50 uA stim\\nCh %d' % plot_ch)\n",
    "ax.set_xlabel('Time from stim (s)')\n",
    "ax.tick_params(labelleft=False)\n",
    "\n",
    "# save as single_trials_awake (inside ch'plot_ch' folder)\n",
    "plt.savefig(os.path.join(plotsavefolder, 'single_trials_awake.png'), format='png')"
   ]
  },
  {
   "cell_type": "code",
   "execution_count": null,
   "metadata": {},
   "outputs": [],
   "source": [
    "fig, ax = plt.subplots(figsize=(5.8, 5.2))\n",
    "for indi, trial_num in enumerate(plot_trials):\n",
    "    ax.plot(epochs_50.times, anest_epochs[trial_num, plot_ch, :]+offset*indi, color='k', linewidth=0.8)\n",
    "ax.set_xlim([epochs_50.times[0], epochs_50.times[-1]])\n",
    "ax.axvline(0, c='g', linewidth=1, alpha=0.8)\n",
    "ax.set_title('Anesthetized, 50 uA stim\\nCh %d' % plot_ch)\n",
    "ax.set_xlabel('Time from stim (s)')\n",
    "ax.tick_params(labelleft=False)\n",
    "\n",
    "# save as single_trials_anest\n",
    "plt.savefig(os.path.join(plotsavefolder, 'single_trials_anest.png'), format='png')"
   ]
  },
  {
   "cell_type": "markdown",
   "metadata": {},
   "source": [
    "#### Make a butterfly plot of single trials and average?"
   ]
  },
  {
   "cell_type": "code",
   "execution_count": null,
   "metadata": {},
   "outputs": [],
   "source": [
    "ylims = [-0.0004, 0.0004]"
   ]
  },
  {
   "cell_type": "code",
   "execution_count": null,
   "metadata": {},
   "outputs": [],
   "source": [
    "fig, ax = plt.subplots()\n",
    "for indi, trial_num in enumerate(plot_trials):\n",
    "    ax.plot(epochs_50.times, awake_epochs[trial_num, plot_ch, :], color='darkgray', linewidth=0.8, alpha=0.5)\n",
    "ax.plot(epochs_50.times, np.mean(awake_epochs[:, plot_ch, :], axis=0), color='b', linewidth=1.5)\n",
    "ax.set_xlim([epochs_50.times[0], epochs_50.times[-1]])\n",
    "ax.set_ylim(ylims)\n",
    "ax.axvline(0, c='g', linewidth=1, alpha=0.8)\n",
    "ax.set_title('Awake, 50 uA stim\\nCh %d' % plot_ch)\n",
    "ax.set_xlabel('Time from stim (s)')\n",
    "ax.set_ylabel('Signal (V)')\n",
    "\n",
    "# save as ERP_awake\n",
    "plt.savefig(os.path.join(plotsavefolder, 'ERP_awake.png'), format='png')"
   ]
  },
  {
   "cell_type": "code",
   "execution_count": null,
   "metadata": {},
   "outputs": [],
   "source": [
    "fig, ax = plt.subplots()\n",
    "for indi, trial_num in enumerate(plot_trials):\n",
    "    ax.plot(epochs_50.times, anest_epochs[trial_num, plot_ch, :], color='darkgray', linewidth=0.8, alpha=0.5)\n",
    "ax.plot(epochs_50.times, np.mean(anest_epochs[:, plot_ch, :], axis=0), color='r', linewidth=1.5)\n",
    "ax.set_xlim([epochs_50.times[0], epochs_50.times[-1]])\n",
    "ax.set_ylim(ylims)\n",
    "ax.axvline(0, c='g', linewidth=1, alpha=0.8)\n",
    "ax.set_title('Anesthetized, 50 uA stim\\nCh %d' % plot_ch)\n",
    "ax.set_xlabel('Time from stim (s)')\n",
    "ax.set_ylabel('Signal (V)')\n",
    "\n",
    "# save as ERP_anest\n",
    "plt.savefig(os.path.join(plotsavefolder, 'ERP_anest.png'), format='png')"
   ]
  },
  {
   "cell_type": "raw",
   "metadata": {},
   "source": [
    "epochs_50['awake'].plot_psd(fmin=2., fmax=40., average=False, spatial_colors=False)"
   ]
  },
  {
   "cell_type": "markdown",
   "metadata": {},
   "source": [
    "### Time-frequency analysis: power and inter-trial coherence\n",
    "Following example here: https://mne.tools/stable/auto_tutorials/time-freq/plot_sensors_time_frequency.html?highlight=time%20frequency%20analysis\n",
    "<br>Here are some more examples with stats: https://mne.tools/stable/auto_tutorials/stats-sensor-space/plot_stats_cluster_1samp_test_time_frequency.html#sphx-glr-auto-tutorials-stats-sensor-space-plot-stats-cluster-1samp-test-time-frequency-py, https://mne.tools/stable/auto_tutorials/stats-sensor-space/plot_stats_cluster_time_frequency.html#sphx-glr-auto-tutorials-stats-sensor-space-plot-stats-cluster-time-frequency-py"
   ]
  },
  {
   "cell_type": "raw",
   "metadata": {},
   "source": [
    "print(np.arange(1., 100., 2.))\n",
    "# print(np.logspace(*np.log10([1, 60]), num=20))"
   ]
  },
  {
   "cell_type": "code",
   "execution_count": 2,
   "metadata": {},
   "outputs": [
    {
     "ename": "NameError",
     "evalue": "name 'np' is not defined",
     "output_type": "error",
     "traceback": [
      "\u001b[1;31m---------------------------------------------------------------------------\u001b[0m",
      "\u001b[1;31mNameError\u001b[0m                                 Traceback (most recent call last)",
      "\u001b[1;32m<ipython-input-2-976fcd8f8d84>\u001b[0m in \u001b[0;36m<module>\u001b[1;34m\u001b[0m\n\u001b[0;32m      1\u001b[0m \u001b[1;31m# define frequencies of interest (log-spaced)\u001b[0m\u001b[1;33m\u001b[0m\u001b[1;33m\u001b[0m\u001b[0m\n\u001b[0;32m      2\u001b[0m \u001b[1;31m# freqs = np.logspace(*np.log10([1, 60]), num=20)\u001b[0m\u001b[1;33m\u001b[0m\u001b[1;33m\u001b[0m\u001b[0m\n\u001b[1;32m----> 3\u001b[1;33m \u001b[0mfreqs\u001b[0m \u001b[1;33m=\u001b[0m \u001b[0mnp\u001b[0m\u001b[1;33m.\u001b[0m\u001b[0marange\u001b[0m\u001b[1;33m(\u001b[0m\u001b[1;36m1.\u001b[0m\u001b[1;33m,\u001b[0m \u001b[1;36m60.\u001b[0m\u001b[1;33m,\u001b[0m \u001b[1;36m1.\u001b[0m\u001b[1;33m)\u001b[0m\u001b[1;33m\u001b[0m\u001b[0m\n\u001b[0m\u001b[0;32m      4\u001b[0m \u001b[0mn_cycles\u001b[0m \u001b[1;33m=\u001b[0m \u001b[0mfreqs\u001b[0m \u001b[1;33m/\u001b[0m \u001b[1;36m2.\u001b[0m  \u001b[1;31m# different number of cycle per frequency\u001b[0m\u001b[1;33m\u001b[0m\u001b[0m\n\u001b[0;32m      5\u001b[0m \u001b[1;33m\u001b[0m\u001b[0m\n",
      "\u001b[1;31mNameError\u001b[0m: name 'np' is not defined"
     ]
    }
   ],
   "source": [
    "# define frequencies of interest (log-spaced)\n",
    "# freqs = np.logspace(*np.log10([1, 60]), num=20)\n",
    "freqs = np.arange(1., 60., 1.)\n",
    "n_cycles = freqs / 2.  # different number of cycle per frequency\n",
    "\n",
    "avgpower_50awake, itc_50awake = tfr_morlet(epochs_50['awake'], freqs=freqs, n_cycles=n_cycles, use_fft=True,\n",
    "                                           return_itc=True, decim=3, n_jobs=1, picks=plot_ch)\n",
    "avgpower_50anest, itc_50anest = tfr_morlet(epochs_50['anesthetized'], freqs=freqs, n_cycles=n_cycles, use_fft=True,\n",
    "                                           return_itc=True, decim=3, n_jobs=1, picks=plot_ch)\n",
    "\n",
    "trialpower_50awake = tfr_morlet(epochs_50['awake'], freqs=freqs, n_cycles=n_cycles, use_fft=True,\n",
    "                                return_itc=False, decim=3, n_jobs=1, average=False, picks=plot_ch)\n",
    "trialpower_50anest = tfr_morlet(epochs_50['anesthetized'], freqs=freqs, n_cycles=n_cycles, use_fft=True,\n",
    "                                return_itc=False, decim=3, n_jobs=1, average=False, picks=plot_ch)"
   ]
  },
  {
   "cell_type": "raw",
   "metadata": {},
   "source": [
    "print(trialpower_50awake.data.shape)\n",
    "print(avgpower_50awake.data.shape)\n",
    "print(itc_50awake.data.shape)"
   ]
  },
  {
   "cell_type": "code",
   "execution_count": null,
   "metadata": {},
   "outputs": [],
   "source": [
    "# use \"plot_ch\" from above, \n",
    "pl_baseline = (-0.5, -0.2)\n",
    "bl_mode = 'logratio' # can say 'mean', 'ratio', 'percent', 'logratio', 'zscore', 'zlogratio'\n",
    "# see https://mne.tools/stable/generated/mne.time_frequency.AverageTFR.html#mne.time_frequency.AverageTFR.plot"
   ]
  },
  {
   "cell_type": "code",
   "execution_count": null,
   "metadata": {},
   "outputs": [],
   "source": [
    "# apply baselines to avg and itc\n",
    "avgpower_50awake.apply_baseline(baseline=pl_baseline, mode=bl_mode)\n",
    "avgpower_50anest.apply_baseline(baseline=pl_baseline, mode=bl_mode)\n",
    "\n",
    "itc_50awake.apply_baseline(baseline=pl_baseline, mode=bl_mode)\n",
    "itc_50anest.apply_baseline(baseline=pl_baseline, mode=bl_mode)"
   ]
  },
  {
   "cell_type": "markdown",
   "metadata": {},
   "source": [
    "First plot some single trials"
   ]
  },
  {
   "cell_type": "raw",
   "metadata": {},
   "source": [
    "# AWAKE one trial\n",
    "fig, ax = plt.subplots()\n",
    "\n",
    "single_trial_power = trialpower_50awake.data[59, 0, :, :]\n",
    "vmax0 = np.max(np.abs(single_trial_power))\n",
    "im = ax.imshow(single_trial_power, cmap='RdBu_r',\n",
    "               extent=[epochs_50.times[0], epochs_50.times[-1], freqs[0], freqs[-1]],\n",
    "               aspect='auto', origin='lower', vmin=-vmax0, vmax=vmax0)\n",
    "\n",
    "fig.colorbar(im, ax=ax, orientation='vertical', fraction=.1)\n",
    "ax.set_xlabel('Time from stim (s)')\n",
    "ax.set_ylabel('Frequency (Hz)')\n",
    "\n",
    "# save as single_trial_power_awake\n",
    "plt.savefig(os.path.join(plotsavefolder, 'single_trial_trial59_power_awake.png'), format='png')"
   ]
  },
  {
   "cell_type": "code",
   "execution_count": null,
   "metadata": {},
   "outputs": [],
   "source": [
    "# AWAKE\n",
    "fig, axs = plt.subplots(len(plot_trials), 1, sharex=True, figsize=(5.8, 5.2))\n",
    "\n",
    "# vmax0 = np.max(np.abs(trialpower_50awake.data[plot_trials, 0, :, :]))\n",
    "for trial_num, ax in zip(plot_trials[::-1], axs.ravel()):\n",
    "    single_trial_power = trialpower_50awake.data[trial_num, 0, :, :]\n",
    "    vmax0 = np.max(np.abs(single_trial_power))\n",
    "    im = ax.imshow(single_trial_power, cmap='RdBu_r',\n",
    "                   extent=[epochs_50.times[0], epochs_50.times[-1], freqs[0], freqs[-1]],\n",
    "                   aspect='auto', origin='lower', vmin=-vmax0, vmax=vmax0)\n",
    "\n",
    "fig.colorbar(im, ax=axs, orientation='vertical', fraction=.1)\n",
    "ax.set_xlabel('Time from stim (s)')\n",
    "\n",
    "fig.add_subplot(111, frameon=False)\n",
    "# hide tick and tick label of the big axis\n",
    "plt.tick_params(labelcolor='none', top=False, bottom=False, left=False, right=False)\n",
    "plt.ylabel('Frequency (Hz)')\n",
    "plt.title('Single trial induced power')\n",
    "\n",
    "# save as single_trial_power_awake\n",
    "plt.savefig(os.path.join(plotsavefolder, 'single_trial_power_awake.png'), format='png')"
   ]
  },
  {
   "cell_type": "code",
   "execution_count": null,
   "metadata": {},
   "outputs": [],
   "source": [
    "# ANESTHETIZED\n",
    "fig, axs = plt.subplots(len(plot_trials), 1, sharex=True, figsize=(5.8, 5.2))\n",
    "\n",
    "for trial_num, ax in zip(plot_trials[::-1], axs.ravel()):\n",
    "    single_trial_power = trialpower_50anest.data[trial_num, 0, :, :]\n",
    "    vmax0 = np.max(np.abs(single_trial_power))\n",
    "    im = ax.imshow(single_trial_power, cmap='RdBu_r',\n",
    "                   extent=[epochs_50.times[0], epochs_50.times[-1], freqs[0], freqs[-1]],\n",
    "                   aspect='auto', origin='lower', vmin=-vmax0, vmax=vmax0)\n",
    "\n",
    "fig.colorbar(im, ax=axs, orientation='vertical', fraction=.1)\n",
    "ax.set_xlabel('Time from stim (s)')\n",
    "\n",
    "fig.add_subplot(111, frameon=False)\n",
    "# hide tick and tick label of the big axis\n",
    "plt.tick_params(labelcolor='none', top=False, bottom=False, left=False, right=False)\n",
    "plt.ylabel('Frequency (Hz)')\n",
    "plt.title('Single trial induced power')\n",
    "plt.savefig(os.path.join(plotsavefolder, 'single_trial_power_anest.png'), format='png')"
   ]
  },
  {
   "cell_type": "markdown",
   "metadata": {},
   "source": [
    "#### Plot average power & ITC alone? Then plot awake/anest together for side by side comparison."
   ]
  },
  {
   "cell_type": "code",
   "execution_count": null,
   "metadata": {},
   "outputs": [],
   "source": [
    "# AWAKE\n",
    "fig, ax = plt.subplots()\n",
    "avgpower_50awake.plot(axes=ax, colorbar=True, title='Average power (awake)')\n",
    "plt.savefig(os.path.join(plotsavefolder, 'avgpower_awake.png'), format='png')\n",
    "\n",
    "fig, ax = plt.subplots()\n",
    "itc_50awake.plot(axes=ax, colorbar=True, title='ITC (awake)')\n",
    "plt.savefig(os.path.join(plotsavefolder, 'ITC_awake.png'), format='png')"
   ]
  },
  {
   "cell_type": "code",
   "execution_count": null,
   "metadata": {},
   "outputs": [],
   "source": [
    "# ANESTHETIZED\n",
    "fig, ax = plt.subplots()\n",
    "avgpower_50anest.plot(axes=ax, colorbar=True, title='Average power (anesthetized)')\n",
    "plt.savefig(os.path.join(plotsavefolder, 'avgpower_anest.png'), format='png')\n",
    "\n",
    "fig, ax = plt.subplots()\n",
    "itc_50anest.plot(axes=ax, colorbar=True, title='ITC (anesthetized)')\n",
    "plt.savefig(os.path.join(plotsavefolder, 'ITC_anest.png'), format='png')"
   ]
  },
  {
   "cell_type": "markdown",
   "metadata": {},
   "source": [
    "#### Plot awake and anesthetized side-by-side"
   ]
  },
  {
   "cell_type": "code",
   "execution_count": null,
   "metadata": {},
   "outputs": [],
   "source": [
    "# AVG POWER (stacked)\n",
    "fig, axs = plt.subplots(2, 1, figsize=(5.8, 5.2))\n",
    "\n",
    "vmaxa = np.max([np.abs(avgpower_50awake.data), np.abs(avgpower_50anest.data)])\n",
    "avgpower_50awake.plot(axes=axs[0], colorbar=False, vmin=-vmaxa, vmax=vmaxa)\n",
    "axs[0].set_ylabel('Awake')\n",
    "axs[0].set_xlabel('')\n",
    "\n",
    "avgpower_50anest.plot(axes=axs[1], colorbar=False, vmin=-vmaxa, vmax=vmaxa)\n",
    "axs[1].set_ylabel('Anesthetized')\n",
    "\n",
    "plt.suptitle('Average Power')\n",
    "plt.savefig(os.path.join(plotsavefolder, 'avgpower_comp.png'), format='png') # without\n",
    "# plt.savefig(os.path.join(plotsavefolder, 'avgpower_comp_cb.png'), format='png') # with colorbar"
   ]
  },
  {
   "cell_type": "code",
   "execution_count": null,
   "metadata": {},
   "outputs": [],
   "source": [
    "# ITC (stacked)\n",
    "fig, axs = plt.subplots(2, 1, figsize=(5.8, 5.2))\n",
    "\n",
    "vmaxb = np.max([np.abs(itc_50awake.data), np.abs(itc_50anest.data)])\n",
    "itc_50awake.plot(axes=axs[0], colorbar=False, vmin=-vmaxb, vmax=vmaxb)\n",
    "axs[0].set_ylabel('Awake')\n",
    "axs[0].set_xlabel('')\n",
    "\n",
    "itc_50anest.plot(axes=axs[1], colorbar=False, vmin=-vmaxb, vmax=vmaxb)\n",
    "axs[1].set_ylabel('Anesthetized')\n",
    "\n",
    "plt.suptitle('ITC')\n",
    "plt.savefig(os.path.join(plotsavefolder, 'ITC_comp.png'), format='png') # without\n",
    "# plt.savefig(os.path.join(plotsavefolder, 'ITC_comp_cb.png'), format='png') # with colorbar"
   ]
  },
  {
   "cell_type": "code",
   "execution_count": null,
   "metadata": {},
   "outputs": [],
   "source": [
    "# AVG POWER (side-by-side)\n",
    "fig, axs = plt.subplots(1, 2, sharey=True, figsize=(4.5, 2))\n",
    "\n",
    "# vmaxc = np.max([np.abs(avgpower_50awake.data), np.abs(avgpower_50anest.data)])\n",
    "vmaxc = 1.\n",
    "avgpower_50awake.plot(axes=axs[0], colorbar=False, vmin=-vmaxc, vmax=vmaxc, title='')\n",
    "axs[0].set_ylabel('Ch %d' % plot_ch)\n",
    "axs[0].set_xlabel('')\n",
    "axs[0].set_xticklabels('')\n",
    "axs[0].axvline(0, c='g', linewidth=1, alpha=0.8)\n",
    "\n",
    "avgpower_50anest.plot(axes=axs[1], colorbar=False, vmin=-vmaxc, vmax=vmaxc, title='')\n",
    "axs[1].set_ylabel('')\n",
    "axs[1].set_xlabel('')\n",
    "axs[1].set_xticklabels('')\n",
    "axs[1].axvline(0, c='g', linewidth=1, alpha=0.8)\n",
    "\n",
    "# plt.suptitle('Average Power')\n",
    "plt.savefig(os.path.join(plotsavefolder, 'avgpower_adj.png'), format='png', bbox_inches='tight') # without\n",
    "# plt.savefig(os.path.join(plotsavefolder, 'avgpower_adj_cb.png'), format='png', bbox_inches='tight') # with colorbar"
   ]
  },
  {
   "cell_type": "code",
   "execution_count": null,
   "metadata": {},
   "outputs": [],
   "source": [
    "# ITC (side-by-side)\n",
    "fig, axs = plt.subplots(1, 2, sharey=True, figsize=(4.5, 1.75))\n",
    "\n",
    "# vmaxd = np.max([np.abs(itc_50awake.data), np.abs(itc_50anest.data)])\n",
    "vmaxd = 2.5\n",
    "itc_50awake.plot(axes=axs[0], colorbar=False, vmin=-vmaxd, vmax=vmaxd, title='')\n",
    "axs[0].set_ylabel('Ch %d' % plot_ch)\n",
    "axs[0].set_xlabel('')\n",
    "axs[0].set_xticklabels('')\n",
    "axs[0].axvline(0, c='g', linewidth=1, alpha=0.8)\n",
    "\n",
    "itc_50anest.plot(axes=axs[1], colorbar=False, vmin=-vmaxd, vmax=vmaxd, title='')\n",
    "axs[1].set_ylabel('')\n",
    "axs[1].set_xlabel('')\n",
    "axs[1].set_xticklabels('')\n",
    "axs[1].axvline(0, c='g', linewidth=1, alpha=0.8)\n",
    "\n",
    "# plt.suptitle('ITC')\n",
    "plt.savefig(os.path.join(plotsavefolder, 'ITC_adj.png'), format='png', bbox_inches='tight') # without\n",
    "# plt.savefig(os.path.join(plotsavefolder, 'ITC_adj_cb.png'), format='png', bbox_inches='tight') # with colorbar"
   ]
  },
  {
   "cell_type": "markdown",
   "metadata": {},
   "source": [
    "#### The following involves the inverse operator...which I believe has something to do with source modeling...maybe a bit more advanced than I am looking for."
   ]
  },
  {
   "cell_type": "markdown",
   "metadata": {},
   "source": [
    "Compute power and phase lock for \"evoked + induced\" and \"induced only\"...example from: https://mne.tools/stable/auto_examples/time_frequency/plot_source_label_time_frequency.html#sphx-glr-auto-examples-time-frequency-plot-source-label-time-frequency-py"
   ]
  },
  {
   "cell_type": "raw",
   "metadata": {},
   "source": [
    "# Compute a source estimate per frequency band including and excluding the\n",
    "# evoked response\n",
    "freqs = np.arange(7, 30, 2)  # define frequencies of interest\n",
    "# label = mne.read_label(fname_label)\n",
    "n_cycles = freqs / 3.  # different number of cycle per frequency\n",
    "\n",
    "# subtract the evoked response in order to exclude evoked activity\n",
    "epochs_induced = epochs_50['awake'].copy().subtract_evoked()\n",
    "\n",
    "plt.close('all')\n",
    "\n",
    "for ii, (this_epochs, title) in enumerate(zip([epochs_50['awake'], epochs_induced],\n",
    "                                              ['evoked + induced',\n",
    "                                               'induced only'])):\n",
    "    # compute the source space power and the inter-trial coherence\n",
    "    power, itc = source_induced_power(\n",
    "        this_epochs, inverse_operator, freqs, baseline=(-0.1, 0),\n",
    "        baseline_mode='percent', n_cycles=n_cycles, n_jobs=1)\n",
    "#     power, itc = source_induced_power(\n",
    "#         this_epochs, inverse_operator, freqs, label, baseline=(-0.1, 0),\n",
    "#         baseline_mode='percent', n_cycles=n_cycles, n_jobs=1)\n",
    "\n",
    "    power = np.mean(power, axis=0)  # average over sources\n",
    "    itc = np.mean(itc, axis=0)  # average over sources\n",
    "    times = epochs.times\n",
    "\n",
    "    ##########################################################################\n",
    "    # View time-frequency plots\n",
    "    plt.subplots_adjust(0.1, 0.08, 0.96, 0.94, 0.2, 0.43)\n",
    "    plt.subplot(2, 2, 2 * ii + 1)\n",
    "    plt.imshow(20 * power,\n",
    "               extent=[times[0], times[-1], freqs[0], freqs[-1]],\n",
    "               aspect='auto', origin='lower', vmin=0., vmax=30., cmap='RdBu_r')\n",
    "    plt.xlabel('Time (s)')\n",
    "    plt.ylabel('Frequency (Hz)')\n",
    "    plt.title('Power (%s)' % title)\n",
    "    plt.colorbar()\n",
    "\n",
    "    plt.subplot(2, 2, 2 * ii + 2)\n",
    "    plt.imshow(itc,\n",
    "               extent=[times[0], times[-1], freqs[0], freqs[-1]],\n",
    "               aspect='auto', origin='lower', vmin=0, vmax=0.7,\n",
    "               cmap='RdBu_r')\n",
    "    plt.xlabel('Time (s)')\n",
    "    plt.ylabel('Frequency (Hz)')\n",
    "    plt.title('ITC (%s)' % title)\n",
    "    plt.colorbar()\n",
    "\n",
    "plt.show()"
   ]
  },
  {
   "cell_type": "markdown",
   "metadata": {},
   "source": [
    "### Set up a montage"
   ]
  },
  {
   "cell_type": "markdown",
   "metadata": {},
   "source": [
    "From https://mne.tools/stable/auto_tutorials/intro/plot_40_sensor_locations.html#sphx-glr-auto-tutorials-intro-plot-40-sensor-locations-py:\n",
    "<br>*Montages contain sensor positions in 3D (x, y, z, in meters), and can be used to set the physical positions of sensors.*\n",
    "<br>*In contrast, Layouts are idealized 2-D representations of sensor positions, and are primarily used for arranging individual sensor subplots in a topoplot, or for showing the approximate relative arrangement of sensors as seen from above.*\n",
    "<br><br>See also: https://mne.tools/stable/generated/mne.io.Raw.html#mne.io.Raw.set_montage"
   ]
  },
  {
   "cell_type": "raw",
   "metadata": {},
   "source": [
    "# How to get master times in here?\n",
    "print(mne_raw.times)\n",
    "print(mne_raw.first_time)"
   ]
  },
  {
   "cell_type": "raw",
   "metadata": {},
   "source": [
    "print(mne_raw.time_as_index([0.5, 440]))"
   ]
  },
  {
   "cell_type": "code",
   "execution_count": null,
   "metadata": {},
   "outputs": [],
   "source": []
  }
 ],
 "metadata": {
  "kernelspec": {
   "display_name": "tbd_eeg",
   "language": "python",
   "name": "tbd_eeg"
  },
  "language_info": {
   "codemirror_mode": {
    "name": "ipython",
    "version": 3
   },
   "file_extension": ".py",
   "mimetype": "text/x-python",
   "name": "python",
   "nbconvert_exporter": "python",
   "pygments_lexer": "ipython3",
   "version": "3.7.13"
  }
 },
 "nbformat": 4,
 "nbformat_minor": 2
}
