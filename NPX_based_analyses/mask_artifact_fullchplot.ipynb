{
 "cells": [
  {
   "cell_type": "code",
   "execution_count": 1,
   "metadata": {},
   "outputs": [],
   "source": [
    "import os\n",
    "import sys\n",
    "import json\n",
    "import time\n",
    "import numpy as np\n",
    "import pandas as pd\n",
    "import matplotlib.pyplot as plt\n",
    "from scipy import signal\n",
    "from pathlib import Path\n",
    "import random"
   ]
  },
  {
   "cell_type": "code",
   "execution_count": 2,
   "metadata": {},
   "outputs": [],
   "source": [
    "sys.path.append(r'C:\\Users\\lesliec\\code')"
   ]
  },
  {
   "cell_type": "code",
   "execution_count": 3,
   "metadata": {},
   "outputs": [],
   "source": [
    "from tbd_eeg.tbd_eeg.data_analysis.eegutils import EEGexp\n",
    "from tbd_eeg.tbd_eeg.data_analysis.Utilities.utilities import get_stim_events, find_nearest_ind"
   ]
  },
  {
   "cell_type": "code",
   "execution_count": 4,
   "metadata": {},
   "outputs": [],
   "source": [
    "%matplotlib qt"
   ]
  },
  {
   "cell_type": "markdown",
   "metadata": {},
   "source": [
    "#### Load EEGexp object"
   ]
  },
  {
   "cell_type": "code",
   "execution_count": 5,
   "metadata": {},
   "outputs": [
    {
     "name": "stdout",
     "output_type": "stream",
     "text": [
      "Experiment type: electrical stimulation\n",
      "SomnoSuite log file not found.\n"
     ]
    }
   ],
   "source": [
    "rec_folder = r'Y:\\EEG_exp\\mouse543394\\estim1_2020-08-27_14-32-00\\experiment1\\recording1' # points to folder containing stim_table.csv\n",
    "exp = EEGexp(rec_folder, preprocess=False, make_stim_csv=False)"
   ]
  },
  {
   "cell_type": "code",
   "execution_count": 6,
   "metadata": {},
   "outputs": [],
   "source": [
    "mask_probe = 'probeB'"
   ]
  },
  {
   "cell_type": "code",
   "execution_count": 7,
   "metadata": {},
   "outputs": [],
   "source": [
    "# make paths\n",
    "stim_log_path = exp.stimulus_log_file\n",
    "probe_info = exp.ephys_params[mask_probe]['probe_info']\n",
    "ap_raw = exp.ephys_params[mask_probe]['ap_continuous']\n",
    "ap_time_path = exp.ephys_params[mask_probe]['ap_timestamps']\n",
    "\n",
    "# paths for artifact (this code creates these files at the end, not necessary to have them, but should specify where you want them saved)\n",
    "artinds_path = os.path.join(exp.experiment_folder, (mask_probe + '_sorted'), 'artifact_onset_inds.npy')\n",
    "arttimes_path = os.path.join(exp.experiment_folder, (mask_probe + '_sorted'), 'artifact_onset_master_clock.npy')\n",
    "maskdur_path = os.path.join(exp.experiment_folder, (mask_probe + '_sorted'), 'mask_sampleduration.npy')"
   ]
  },
  {
   "cell_type": "markdown",
   "metadata": {},
   "source": [
    "#### Set number of samples to mask"
   ]
  },
  {
   "cell_type": "code",
   "execution_count": 8,
   "metadata": {},
   "outputs": [],
   "source": [
    "# stim_ind_break = np.array([0, 1200, 1400]) # choose ends of stim\n",
    "masks = np.array([60]) # samples to obscure, basically length of artifact you want to remove (60 = 2 ms)"
   ]
  },
  {
   "cell_type": "markdown",
   "metadata": {},
   "source": [
    "#### Load raw data"
   ]
  },
  {
   "cell_type": "code",
   "execution_count": 9,
   "metadata": {},
   "outputs": [],
   "source": [
    "numCh = exp.ephys_params[mask_probe]['num_chs']\n",
    "# AP band raw\n",
    "rawDatamm = np.memmap(ap_raw, dtype='int16', mode='r') # r+ will allow the file to be changed\n",
    "datamm = np.reshape(rawDatamm, (int(rawDatamm.size/numCh), numCh))\n",
    "samp_rate = exp.ephys_params[mask_probe]['ap_sample_rate']\n",
    "timestamps = np.load(ap_time_path)"
   ]
  },
  {
   "cell_type": "markdown",
   "metadata": {},
   "source": [
    "#### If there is a \"permission denied\" error here, try running mode='r' and then retry mode='r+'."
   ]
  },
  {
   "cell_type": "code",
   "execution_count": 10,
   "metadata": {},
   "outputs": [
    {
     "name": "stdout",
     "output_type": "stream",
     "text": [
      "(140529384, 384)\n",
      "(140529384,)\n"
     ]
    }
   ],
   "source": [
    "print(datamm.shape)\n",
    "print(timestamps.shape)"
   ]
  },
  {
   "cell_type": "code",
   "execution_count": 11,
   "metadata": {},
   "outputs": [
    {
     "name": "stdout",
     "output_type": "stream",
     "text": [
      "[16.44059994 16.44063328 16.44066661 16.44069994 16.44073328]\n"
     ]
    }
   ],
   "source": [
    "print(timestamps[0:5])"
   ]
  },
  {
   "cell_type": "markdown",
   "metadata": {},
   "source": [
    "#### Load estim times. Should use stimulus times that would be associated with an artifact."
   ]
  },
  {
   "cell_type": "code",
   "execution_count": 17,
   "metadata": {},
   "outputs": [
    {
     "data": {
      "text/plain": [
       "900"
      ]
     },
     "execution_count": 17,
     "metadata": {},
     "output_type": "execute_result"
    }
   ],
   "source": [
    "stim_table = pd.read_csv(stim_log_path)\n",
    "# get only e-stim times\n",
    "estim_times = stim_table[stim_table['stim_type'] == 'biphasic'].onset.values\n",
    "\n",
    "stim_inds = np.array([find_nearest_ind(timestamps, x) for x in estim_times])\n",
    "len(stim_inds)"
   ]
  },
  {
   "cell_type": "code",
   "execution_count": 18,
   "metadata": {},
   "outputs": [
    {
     "name": "stdout",
     "output_type": "stream",
     "text": [
      "[2075237 2185563 2310460 2425397 2557364 2665921 2800586 2921798 3048018]\n",
      "0\n"
     ]
    }
   ],
   "source": [
    "print(stim_inds[0:9])\n",
    "print(np.sum(np.isnan(stim_inds)))"
   ]
  },
  {
   "cell_type": "code",
   "execution_count": 19,
   "metadata": {},
   "outputs": [],
   "source": [
    "mask_inds = stim_inds - 2 # this corrects for minimal sample offset between estim_times and actual beginning of artifact"
   ]
  },
  {
   "cell_type": "markdown",
   "metadata": {},
   "source": [
    "#### Finds 'inds': times in recording where you may find artifacts, mainly this allows you to not load raw data that does not have artifacts. I.e. beginning of recording that has only visual stimuli."
   ]
  },
  {
   "cell_type": "code",
   "execution_count": 17,
   "metadata": {},
   "outputs": [],
   "source": [
    "inds = np.arange(stim_inds[0]-samp_rate, stim_inds[-1]+samp_rate)\n",
    "stim_inds_short = stim_inds - inds[0]"
   ]
  },
  {
   "cell_type": "code",
   "execution_count": 18,
   "metadata": {
    "scrolled": true
   },
   "outputs": [
    {
     "name": "stdout",
     "output_type": "stream",
     "text": [
      "137764951\n"
     ]
    }
   ],
   "source": [
    "print(len(inds))"
   ]
  },
  {
   "cell_type": "code",
   "execution_count": 19,
   "metadata": {},
   "outputs": [
    {
     "name": "stdout",
     "output_type": "stream",
     "text": [
      "[ 29998 140324 265221]\n"
     ]
    }
   ],
   "source": [
    "estim_onset = stim_inds_short - 2 # this corrects for minimal sample offset between estim_times and actual beginning of artifact\n",
    "print(estim_onset[0:3])"
   ]
  },
  {
   "cell_type": "code",
   "execution_count": 20,
   "metadata": {},
   "outputs": [
    {
     "name": "stdout",
     "output_type": "stream",
     "text": [
      "Good to go\n",
      "artifacts found: 900\n"
     ]
    }
   ],
   "source": [
    "# This is supposed to be a sanity check to make sure the code is masking only artifacts associated with chosen stimuli\n",
    "if len(estim_onset) >= len(stim_inds):\n",
    "    print('Good to go')\n",
    "    print('artifacts found: %d' % len(estim_onset))\n",
    "else:\n",
    "    print('Umm, check the peak finding step?')"
   ]
  },
  {
   "cell_type": "markdown",
   "metadata": {},
   "source": [
    "### Load data to plot and check masking"
   ]
  },
  {
   "cell_type": "code",
   "execution_count": 21,
   "metadata": {},
   "outputs": [],
   "source": [
    "rawData = datamm[inds, 80] # choose one ch to load here"
   ]
  },
  {
   "cell_type": "markdown",
   "metadata": {},
   "source": [
    "#### Copy rawData and mask the artifact"
   ]
  },
  {
   "cell_type": "code",
   "execution_count": 22,
   "metadata": {},
   "outputs": [],
   "source": [
    "cleanData = np.copy(rawData) # this array is 1D"
   ]
  },
  {
   "cell_type": "code",
   "execution_count": 23,
   "metadata": {},
   "outputs": [],
   "source": [
    "mask_samples = masks[0]"
   ]
  },
  {
   "cell_type": "code",
   "execution_count": 24,
   "metadata": {},
   "outputs": [
    {
     "name": "stdout",
     "output_type": "stream",
     "text": [
      "0.009037256240844727\n"
     ]
    }
   ],
   "source": [
    "start = time.time()\n",
    "for val in estim_onset:\n",
    "    if np.isnan(val):\n",
    "        continue\n",
    "    else:\n",
    "        val = int(val)\n",
    "        cleanData[val:val+mask_samples] = cleanData[val:val-mask_samples:-1] # this array is 1D\n",
    "end = time.time()\n",
    "print(end-start)"
   ]
  },
  {
   "cell_type": "code",
   "execution_count": 25,
   "metadata": {},
   "outputs": [
    {
     "data": {
      "application/javascript": [
       "/* Put everything inside the global mpl namespace */\n",
       "window.mpl = {};\n",
       "\n",
       "\n",
       "mpl.get_websocket_type = function() {\n",
       "    if (typeof(WebSocket) !== 'undefined') {\n",
       "        return WebSocket;\n",
       "    } else if (typeof(MozWebSocket) !== 'undefined') {\n",
       "        return MozWebSocket;\n",
       "    } else {\n",
       "        alert('Your browser does not have WebSocket support. ' +\n",
       "              'Please try Chrome, Safari or Firefox ≥ 6. ' +\n",
       "              'Firefox 4 and 5 are also supported but you ' +\n",
       "              'have to enable WebSockets in about:config.');\n",
       "    };\n",
       "}\n",
       "\n",
       "mpl.figure = function(figure_id, websocket, ondownload, parent_element) {\n",
       "    this.id = figure_id;\n",
       "\n",
       "    this.ws = websocket;\n",
       "\n",
       "    this.supports_binary = (this.ws.binaryType != undefined);\n",
       "\n",
       "    if (!this.supports_binary) {\n",
       "        var warnings = document.getElementById(\"mpl-warnings\");\n",
       "        if (warnings) {\n",
       "            warnings.style.display = 'block';\n",
       "            warnings.textContent = (\n",
       "                \"This browser does not support binary websocket messages. \" +\n",
       "                    \"Performance may be slow.\");\n",
       "        }\n",
       "    }\n",
       "\n",
       "    this.imageObj = new Image();\n",
       "\n",
       "    this.context = undefined;\n",
       "    this.message = undefined;\n",
       "    this.canvas = undefined;\n",
       "    this.rubberband_canvas = undefined;\n",
       "    this.rubberband_context = undefined;\n",
       "    this.format_dropdown = undefined;\n",
       "\n",
       "    this.image_mode = 'full';\n",
       "\n",
       "    this.root = $('<div/>');\n",
       "    this._root_extra_style(this.root)\n",
       "    this.root.attr('style', 'display: inline-block');\n",
       "\n",
       "    $(parent_element).append(this.root);\n",
       "\n",
       "    this._init_header(this);\n",
       "    this._init_canvas(this);\n",
       "    this._init_toolbar(this);\n",
       "\n",
       "    var fig = this;\n",
       "\n",
       "    this.waiting = false;\n",
       "\n",
       "    this.ws.onopen =  function () {\n",
       "            fig.send_message(\"supports_binary\", {value: fig.supports_binary});\n",
       "            fig.send_message(\"send_image_mode\", {});\n",
       "            if (mpl.ratio != 1) {\n",
       "                fig.send_message(\"set_dpi_ratio\", {'dpi_ratio': mpl.ratio});\n",
       "            }\n",
       "            fig.send_message(\"refresh\", {});\n",
       "        }\n",
       "\n",
       "    this.imageObj.onload = function() {\n",
       "            if (fig.image_mode == 'full') {\n",
       "                // Full images could contain transparency (where diff images\n",
       "                // almost always do), so we need to clear the canvas so that\n",
       "                // there is no ghosting.\n",
       "                fig.context.clearRect(0, 0, fig.canvas.width, fig.canvas.height);\n",
       "            }\n",
       "            fig.context.drawImage(fig.imageObj, 0, 0);\n",
       "        };\n",
       "\n",
       "    this.imageObj.onunload = function() {\n",
       "        fig.ws.close();\n",
       "    }\n",
       "\n",
       "    this.ws.onmessage = this._make_on_message_function(this);\n",
       "\n",
       "    this.ondownload = ondownload;\n",
       "}\n",
       "\n",
       "mpl.figure.prototype._init_header = function() {\n",
       "    var titlebar = $(\n",
       "        '<div class=\"ui-dialog-titlebar ui-widget-header ui-corner-all ' +\n",
       "        'ui-helper-clearfix\"/>');\n",
       "    var titletext = $(\n",
       "        '<div class=\"ui-dialog-title\" style=\"width: 100%; ' +\n",
       "        'text-align: center; padding: 3px;\"/>');\n",
       "    titlebar.append(titletext)\n",
       "    this.root.append(titlebar);\n",
       "    this.header = titletext[0];\n",
       "}\n",
       "\n",
       "\n",
       "\n",
       "mpl.figure.prototype._canvas_extra_style = function(canvas_div) {\n",
       "\n",
       "}\n",
       "\n",
       "\n",
       "mpl.figure.prototype._root_extra_style = function(canvas_div) {\n",
       "\n",
       "}\n",
       "\n",
       "mpl.figure.prototype._init_canvas = function() {\n",
       "    var fig = this;\n",
       "\n",
       "    var canvas_div = $('<div/>');\n",
       "\n",
       "    canvas_div.attr('style', 'position: relative; clear: both; outline: 0');\n",
       "\n",
       "    function canvas_keyboard_event(event) {\n",
       "        return fig.key_event(event, event['data']);\n",
       "    }\n",
       "\n",
       "    canvas_div.keydown('key_press', canvas_keyboard_event);\n",
       "    canvas_div.keyup('key_release', canvas_keyboard_event);\n",
       "    this.canvas_div = canvas_div\n",
       "    this._canvas_extra_style(canvas_div)\n",
       "    this.root.append(canvas_div);\n",
       "\n",
       "    var canvas = $('<canvas/>');\n",
       "    canvas.addClass('mpl-canvas');\n",
       "    canvas.attr('style', \"left: 0; top: 0; z-index: 0; outline: 0\")\n",
       "\n",
       "    this.canvas = canvas[0];\n",
       "    this.context = canvas[0].getContext(\"2d\");\n",
       "\n",
       "    var backingStore = this.context.backingStorePixelRatio ||\n",
       "\tthis.context.webkitBackingStorePixelRatio ||\n",
       "\tthis.context.mozBackingStorePixelRatio ||\n",
       "\tthis.context.msBackingStorePixelRatio ||\n",
       "\tthis.context.oBackingStorePixelRatio ||\n",
       "\tthis.context.backingStorePixelRatio || 1;\n",
       "\n",
       "    mpl.ratio = (window.devicePixelRatio || 1) / backingStore;\n",
       "\n",
       "    var rubberband = $('<canvas/>');\n",
       "    rubberband.attr('style', \"position: absolute; left: 0; top: 0; z-index: 1;\")\n",
       "\n",
       "    var pass_mouse_events = true;\n",
       "\n",
       "    canvas_div.resizable({\n",
       "        start: function(event, ui) {\n",
       "            pass_mouse_events = false;\n",
       "        },\n",
       "        resize: function(event, ui) {\n",
       "            fig.request_resize(ui.size.width, ui.size.height);\n",
       "        },\n",
       "        stop: function(event, ui) {\n",
       "            pass_mouse_events = true;\n",
       "            fig.request_resize(ui.size.width, ui.size.height);\n",
       "        },\n",
       "    });\n",
       "\n",
       "    function mouse_event_fn(event) {\n",
       "        if (pass_mouse_events)\n",
       "            return fig.mouse_event(event, event['data']);\n",
       "    }\n",
       "\n",
       "    rubberband.mousedown('button_press', mouse_event_fn);\n",
       "    rubberband.mouseup('button_release', mouse_event_fn);\n",
       "    // Throttle sequential mouse events to 1 every 20ms.\n",
       "    rubberband.mousemove('motion_notify', mouse_event_fn);\n",
       "\n",
       "    rubberband.mouseenter('figure_enter', mouse_event_fn);\n",
       "    rubberband.mouseleave('figure_leave', mouse_event_fn);\n",
       "\n",
       "    canvas_div.on(\"wheel\", function (event) {\n",
       "        event = event.originalEvent;\n",
       "        event['data'] = 'scroll'\n",
       "        if (event.deltaY < 0) {\n",
       "            event.step = 1;\n",
       "        } else {\n",
       "            event.step = -1;\n",
       "        }\n",
       "        mouse_event_fn(event);\n",
       "    });\n",
       "\n",
       "    canvas_div.append(canvas);\n",
       "    canvas_div.append(rubberband);\n",
       "\n",
       "    this.rubberband = rubberband;\n",
       "    this.rubberband_canvas = rubberband[0];\n",
       "    this.rubberband_context = rubberband[0].getContext(\"2d\");\n",
       "    this.rubberband_context.strokeStyle = \"#000000\";\n",
       "\n",
       "    this._resize_canvas = function(width, height) {\n",
       "        // Keep the size of the canvas, canvas container, and rubber band\n",
       "        // canvas in synch.\n",
       "        canvas_div.css('width', width)\n",
       "        canvas_div.css('height', height)\n",
       "\n",
       "        canvas.attr('width', width * mpl.ratio);\n",
       "        canvas.attr('height', height * mpl.ratio);\n",
       "        canvas.attr('style', 'width: ' + width + 'px; height: ' + height + 'px;');\n",
       "\n",
       "        rubberband.attr('width', width);\n",
       "        rubberband.attr('height', height);\n",
       "    }\n",
       "\n",
       "    // Set the figure to an initial 600x600px, this will subsequently be updated\n",
       "    // upon first draw.\n",
       "    this._resize_canvas(600, 600);\n",
       "\n",
       "    // Disable right mouse context menu.\n",
       "    $(this.rubberband_canvas).bind(\"contextmenu\",function(e){\n",
       "        return false;\n",
       "    });\n",
       "\n",
       "    function set_focus () {\n",
       "        canvas.focus();\n",
       "        canvas_div.focus();\n",
       "    }\n",
       "\n",
       "    window.setTimeout(set_focus, 100);\n",
       "}\n",
       "\n",
       "mpl.figure.prototype._init_toolbar = function() {\n",
       "    var fig = this;\n",
       "\n",
       "    var nav_element = $('<div/>');\n",
       "    nav_element.attr('style', 'width: 100%');\n",
       "    this.root.append(nav_element);\n",
       "\n",
       "    // Define a callback function for later on.\n",
       "    function toolbar_event(event) {\n",
       "        return fig.toolbar_button_onclick(event['data']);\n",
       "    }\n",
       "    function toolbar_mouse_event(event) {\n",
       "        return fig.toolbar_button_onmouseover(event['data']);\n",
       "    }\n",
       "\n",
       "    for(var toolbar_ind in mpl.toolbar_items) {\n",
       "        var name = mpl.toolbar_items[toolbar_ind][0];\n",
       "        var tooltip = mpl.toolbar_items[toolbar_ind][1];\n",
       "        var image = mpl.toolbar_items[toolbar_ind][2];\n",
       "        var method_name = mpl.toolbar_items[toolbar_ind][3];\n",
       "\n",
       "        if (!name) {\n",
       "            // put a spacer in here.\n",
       "            continue;\n",
       "        }\n",
       "        var button = $('<button/>');\n",
       "        button.addClass('ui-button ui-widget ui-state-default ui-corner-all ' +\n",
       "                        'ui-button-icon-only');\n",
       "        button.attr('role', 'button');\n",
       "        button.attr('aria-disabled', 'false');\n",
       "        button.click(method_name, toolbar_event);\n",
       "        button.mouseover(tooltip, toolbar_mouse_event);\n",
       "\n",
       "        var icon_img = $('<span/>');\n",
       "        icon_img.addClass('ui-button-icon-primary ui-icon');\n",
       "        icon_img.addClass(image);\n",
       "        icon_img.addClass('ui-corner-all');\n",
       "\n",
       "        var tooltip_span = $('<span/>');\n",
       "        tooltip_span.addClass('ui-button-text');\n",
       "        tooltip_span.html(tooltip);\n",
       "\n",
       "        button.append(icon_img);\n",
       "        button.append(tooltip_span);\n",
       "\n",
       "        nav_element.append(button);\n",
       "    }\n",
       "\n",
       "    var fmt_picker_span = $('<span/>');\n",
       "\n",
       "    var fmt_picker = $('<select/>');\n",
       "    fmt_picker.addClass('mpl-toolbar-option ui-widget ui-widget-content');\n",
       "    fmt_picker_span.append(fmt_picker);\n",
       "    nav_element.append(fmt_picker_span);\n",
       "    this.format_dropdown = fmt_picker[0];\n",
       "\n",
       "    for (var ind in mpl.extensions) {\n",
       "        var fmt = mpl.extensions[ind];\n",
       "        var option = $(\n",
       "            '<option/>', {selected: fmt === mpl.default_extension}).html(fmt);\n",
       "        fmt_picker.append(option);\n",
       "    }\n",
       "\n",
       "    // Add hover states to the ui-buttons\n",
       "    $( \".ui-button\" ).hover(\n",
       "        function() { $(this).addClass(\"ui-state-hover\");},\n",
       "        function() { $(this).removeClass(\"ui-state-hover\");}\n",
       "    );\n",
       "\n",
       "    var status_bar = $('<span class=\"mpl-message\"/>');\n",
       "    nav_element.append(status_bar);\n",
       "    this.message = status_bar[0];\n",
       "}\n",
       "\n",
       "mpl.figure.prototype.request_resize = function(x_pixels, y_pixels) {\n",
       "    // Request matplotlib to resize the figure. Matplotlib will then trigger a resize in the client,\n",
       "    // which will in turn request a refresh of the image.\n",
       "    this.send_message('resize', {'width': x_pixels, 'height': y_pixels});\n",
       "}\n",
       "\n",
       "mpl.figure.prototype.send_message = function(type, properties) {\n",
       "    properties['type'] = type;\n",
       "    properties['figure_id'] = this.id;\n",
       "    this.ws.send(JSON.stringify(properties));\n",
       "}\n",
       "\n",
       "mpl.figure.prototype.send_draw_message = function() {\n",
       "    if (!this.waiting) {\n",
       "        this.waiting = true;\n",
       "        this.ws.send(JSON.stringify({type: \"draw\", figure_id: this.id}));\n",
       "    }\n",
       "}\n",
       "\n",
       "\n",
       "mpl.figure.prototype.handle_save = function(fig, msg) {\n",
       "    var format_dropdown = fig.format_dropdown;\n",
       "    var format = format_dropdown.options[format_dropdown.selectedIndex].value;\n",
       "    fig.ondownload(fig, format);\n",
       "}\n",
       "\n",
       "\n",
       "mpl.figure.prototype.handle_resize = function(fig, msg) {\n",
       "    var size = msg['size'];\n",
       "    if (size[0] != fig.canvas.width || size[1] != fig.canvas.height) {\n",
       "        fig._resize_canvas(size[0], size[1]);\n",
       "        fig.send_message(\"refresh\", {});\n",
       "    };\n",
       "}\n",
       "\n",
       "mpl.figure.prototype.handle_rubberband = function(fig, msg) {\n",
       "    var x0 = msg['x0'] / mpl.ratio;\n",
       "    var y0 = (fig.canvas.height - msg['y0']) / mpl.ratio;\n",
       "    var x1 = msg['x1'] / mpl.ratio;\n",
       "    var y1 = (fig.canvas.height - msg['y1']) / mpl.ratio;\n",
       "    x0 = Math.floor(x0) + 0.5;\n",
       "    y0 = Math.floor(y0) + 0.5;\n",
       "    x1 = Math.floor(x1) + 0.5;\n",
       "    y1 = Math.floor(y1) + 0.5;\n",
       "    var min_x = Math.min(x0, x1);\n",
       "    var min_y = Math.min(y0, y1);\n",
       "    var width = Math.abs(x1 - x0);\n",
       "    var height = Math.abs(y1 - y0);\n",
       "\n",
       "    fig.rubberband_context.clearRect(\n",
       "        0, 0, fig.canvas.width / mpl.ratio, fig.canvas.height / mpl.ratio);\n",
       "\n",
       "    fig.rubberband_context.strokeRect(min_x, min_y, width, height);\n",
       "}\n",
       "\n",
       "mpl.figure.prototype.handle_figure_label = function(fig, msg) {\n",
       "    // Updates the figure title.\n",
       "    fig.header.textContent = msg['label'];\n",
       "}\n",
       "\n",
       "mpl.figure.prototype.handle_cursor = function(fig, msg) {\n",
       "    var cursor = msg['cursor'];\n",
       "    switch(cursor)\n",
       "    {\n",
       "    case 0:\n",
       "        cursor = 'pointer';\n",
       "        break;\n",
       "    case 1:\n",
       "        cursor = 'default';\n",
       "        break;\n",
       "    case 2:\n",
       "        cursor = 'crosshair';\n",
       "        break;\n",
       "    case 3:\n",
       "        cursor = 'move';\n",
       "        break;\n",
       "    }\n",
       "    fig.rubberband_canvas.style.cursor = cursor;\n",
       "}\n",
       "\n",
       "mpl.figure.prototype.handle_message = function(fig, msg) {\n",
       "    fig.message.textContent = msg['message'];\n",
       "}\n",
       "\n",
       "mpl.figure.prototype.handle_draw = function(fig, msg) {\n",
       "    // Request the server to send over a new figure.\n",
       "    fig.send_draw_message();\n",
       "}\n",
       "\n",
       "mpl.figure.prototype.handle_image_mode = function(fig, msg) {\n",
       "    fig.image_mode = msg['mode'];\n",
       "}\n",
       "\n",
       "mpl.figure.prototype.updated_canvas_event = function() {\n",
       "    // Called whenever the canvas gets updated.\n",
       "    this.send_message(\"ack\", {});\n",
       "}\n",
       "\n",
       "// A function to construct a web socket function for onmessage handling.\n",
       "// Called in the figure constructor.\n",
       "mpl.figure.prototype._make_on_message_function = function(fig) {\n",
       "    return function socket_on_message(evt) {\n",
       "        if (evt.data instanceof Blob) {\n",
       "            /* FIXME: We get \"Resource interpreted as Image but\n",
       "             * transferred with MIME type text/plain:\" errors on\n",
       "             * Chrome.  But how to set the MIME type?  It doesn't seem\n",
       "             * to be part of the websocket stream */\n",
       "            evt.data.type = \"image/png\";\n",
       "\n",
       "            /* Free the memory for the previous frames */\n",
       "            if (fig.imageObj.src) {\n",
       "                (window.URL || window.webkitURL).revokeObjectURL(\n",
       "                    fig.imageObj.src);\n",
       "            }\n",
       "\n",
       "            fig.imageObj.src = (window.URL || window.webkitURL).createObjectURL(\n",
       "                evt.data);\n",
       "            fig.updated_canvas_event();\n",
       "            fig.waiting = false;\n",
       "            return;\n",
       "        }\n",
       "        else if (typeof evt.data === 'string' && evt.data.slice(0, 21) == \"data:image/png;base64\") {\n",
       "            fig.imageObj.src = evt.data;\n",
       "            fig.updated_canvas_event();\n",
       "            fig.waiting = false;\n",
       "            return;\n",
       "        }\n",
       "\n",
       "        var msg = JSON.parse(evt.data);\n",
       "        var msg_type = msg['type'];\n",
       "\n",
       "        // Call the  \"handle_{type}\" callback, which takes\n",
       "        // the figure and JSON message as its only arguments.\n",
       "        try {\n",
       "            var callback = fig[\"handle_\" + msg_type];\n",
       "        } catch (e) {\n",
       "            console.log(\"No handler for the '\" + msg_type + \"' message type: \", msg);\n",
       "            return;\n",
       "        }\n",
       "\n",
       "        if (callback) {\n",
       "            try {\n",
       "                // console.log(\"Handling '\" + msg_type + \"' message: \", msg);\n",
       "                callback(fig, msg);\n",
       "            } catch (e) {\n",
       "                console.log(\"Exception inside the 'handler_\" + msg_type + \"' callback:\", e, e.stack, msg);\n",
       "            }\n",
       "        }\n",
       "    };\n",
       "}\n",
       "\n",
       "// from http://stackoverflow.com/questions/1114465/getting-mouse-location-in-canvas\n",
       "mpl.findpos = function(e) {\n",
       "    //this section is from http://www.quirksmode.org/js/events_properties.html\n",
       "    var targ;\n",
       "    if (!e)\n",
       "        e = window.event;\n",
       "    if (e.target)\n",
       "        targ = e.target;\n",
       "    else if (e.srcElement)\n",
       "        targ = e.srcElement;\n",
       "    if (targ.nodeType == 3) // defeat Safari bug\n",
       "        targ = targ.parentNode;\n",
       "\n",
       "    // jQuery normalizes the pageX and pageY\n",
       "    // pageX,Y are the mouse positions relative to the document\n",
       "    // offset() returns the position of the element relative to the document\n",
       "    var x = e.pageX - $(targ).offset().left;\n",
       "    var y = e.pageY - $(targ).offset().top;\n",
       "\n",
       "    return {\"x\": x, \"y\": y};\n",
       "};\n",
       "\n",
       "/*\n",
       " * return a copy of an object with only non-object keys\n",
       " * we need this to avoid circular references\n",
       " * http://stackoverflow.com/a/24161582/3208463\n",
       " */\n",
       "function simpleKeys (original) {\n",
       "  return Object.keys(original).reduce(function (obj, key) {\n",
       "    if (typeof original[key] !== 'object')\n",
       "        obj[key] = original[key]\n",
       "    return obj;\n",
       "  }, {});\n",
       "}\n",
       "\n",
       "mpl.figure.prototype.mouse_event = function(event, name) {\n",
       "    var canvas_pos = mpl.findpos(event)\n",
       "\n",
       "    if (name === 'button_press')\n",
       "    {\n",
       "        this.canvas.focus();\n",
       "        this.canvas_div.focus();\n",
       "    }\n",
       "\n",
       "    var x = canvas_pos.x * mpl.ratio;\n",
       "    var y = canvas_pos.y * mpl.ratio;\n",
       "\n",
       "    this.send_message(name, {x: x, y: y, button: event.button,\n",
       "                             step: event.step,\n",
       "                             guiEvent: simpleKeys(event)});\n",
       "\n",
       "    /* This prevents the web browser from automatically changing to\n",
       "     * the text insertion cursor when the button is pressed.  We want\n",
       "     * to control all of the cursor setting manually through the\n",
       "     * 'cursor' event from matplotlib */\n",
       "    event.preventDefault();\n",
       "    return false;\n",
       "}\n",
       "\n",
       "mpl.figure.prototype._key_event_extra = function(event, name) {\n",
       "    // Handle any extra behaviour associated with a key event\n",
       "}\n",
       "\n",
       "mpl.figure.prototype.key_event = function(event, name) {\n",
       "\n",
       "    // Prevent repeat events\n",
       "    if (name == 'key_press')\n",
       "    {\n",
       "        if (event.which === this._key)\n",
       "            return;\n",
       "        else\n",
       "            this._key = event.which;\n",
       "    }\n",
       "    if (name == 'key_release')\n",
       "        this._key = null;\n",
       "\n",
       "    var value = '';\n",
       "    if (event.ctrlKey && event.which != 17)\n",
       "        value += \"ctrl+\";\n",
       "    if (event.altKey && event.which != 18)\n",
       "        value += \"alt+\";\n",
       "    if (event.shiftKey && event.which != 16)\n",
       "        value += \"shift+\";\n",
       "\n",
       "    value += 'k';\n",
       "    value += event.which.toString();\n",
       "\n",
       "    this._key_event_extra(event, name);\n",
       "\n",
       "    this.send_message(name, {key: value,\n",
       "                             guiEvent: simpleKeys(event)});\n",
       "    return false;\n",
       "}\n",
       "\n",
       "mpl.figure.prototype.toolbar_button_onclick = function(name) {\n",
       "    if (name == 'download') {\n",
       "        this.handle_save(this, null);\n",
       "    } else {\n",
       "        this.send_message(\"toolbar_button\", {name: name});\n",
       "    }\n",
       "};\n",
       "\n",
       "mpl.figure.prototype.toolbar_button_onmouseover = function(tooltip) {\n",
       "    this.message.textContent = tooltip;\n",
       "};\n",
       "mpl.toolbar_items = [[\"Home\", \"Reset original view\", \"fa fa-home icon-home\", \"home\"], [\"Back\", \"Back to previous view\", \"fa fa-arrow-left icon-arrow-left\", \"back\"], [\"Forward\", \"Forward to next view\", \"fa fa-arrow-right icon-arrow-right\", \"forward\"], [\"\", \"\", \"\", \"\"], [\"Pan\", \"Pan axes with left mouse, zoom with right\", \"fa fa-arrows icon-move\", \"pan\"], [\"Zoom\", \"Zoom to rectangle\", \"fa fa-square-o icon-check-empty\", \"zoom\"], [\"\", \"\", \"\", \"\"], [\"Download\", \"Download plot\", \"fa fa-floppy-o icon-save\", \"download\"]];\n",
       "\n",
       "mpl.extensions = [\"eps\", \"jpeg\", \"pdf\", \"png\", \"ps\", \"raw\", \"svg\", \"tif\"];\n",
       "\n",
       "mpl.default_extension = \"png\";var comm_websocket_adapter = function(comm) {\n",
       "    // Create a \"websocket\"-like object which calls the given IPython comm\n",
       "    // object with the appropriate methods. Currently this is a non binary\n",
       "    // socket, so there is still some room for performance tuning.\n",
       "    var ws = {};\n",
       "\n",
       "    ws.close = function() {\n",
       "        comm.close()\n",
       "    };\n",
       "    ws.send = function(m) {\n",
       "        //console.log('sending', m);\n",
       "        comm.send(m);\n",
       "    };\n",
       "    // Register the callback with on_msg.\n",
       "    comm.on_msg(function(msg) {\n",
       "        //console.log('receiving', msg['content']['data'], msg);\n",
       "        // Pass the mpl event to the overridden (by mpl) onmessage function.\n",
       "        ws.onmessage(msg['content']['data'])\n",
       "    });\n",
       "    return ws;\n",
       "}\n",
       "\n",
       "mpl.mpl_figure_comm = function(comm, msg) {\n",
       "    // This is the function which gets called when the mpl process\n",
       "    // starts-up an IPython Comm through the \"matplotlib\" channel.\n",
       "\n",
       "    var id = msg.content.data.id;\n",
       "    // Get hold of the div created by the display call when the Comm\n",
       "    // socket was opened in Python.\n",
       "    var element = $(\"#\" + id);\n",
       "    var ws_proxy = comm_websocket_adapter(comm)\n",
       "\n",
       "    function ondownload(figure, format) {\n",
       "        window.open(figure.imageObj.src);\n",
       "    }\n",
       "\n",
       "    var fig = new mpl.figure(id, ws_proxy,\n",
       "                           ondownload,\n",
       "                           element.get(0));\n",
       "\n",
       "    // Call onopen now - mpl needs it, as it is assuming we've passed it a real\n",
       "    // web socket which is closed, not our websocket->open comm proxy.\n",
       "    ws_proxy.onopen();\n",
       "\n",
       "    fig.parent_element = element.get(0);\n",
       "    fig.cell_info = mpl.find_output_cell(\"<div id='\" + id + \"'></div>\");\n",
       "    if (!fig.cell_info) {\n",
       "        console.error(\"Failed to find cell for figure\", id, fig);\n",
       "        return;\n",
       "    }\n",
       "\n",
       "    var output_index = fig.cell_info[2]\n",
       "    var cell = fig.cell_info[0];\n",
       "\n",
       "};\n",
       "\n",
       "mpl.figure.prototype.handle_close = function(fig, msg) {\n",
       "    var width = fig.canvas.width/mpl.ratio\n",
       "    fig.root.unbind('remove')\n",
       "\n",
       "    // Update the output cell to use the data from the current canvas.\n",
       "    fig.push_to_output();\n",
       "    var dataURL = fig.canvas.toDataURL();\n",
       "    // Re-enable the keyboard manager in IPython - without this line, in FF,\n",
       "    // the notebook keyboard shortcuts fail.\n",
       "    IPython.keyboard_manager.enable()\n",
       "    $(fig.parent_element).html('<img src=\"' + dataURL + '\" width=\"' + width + '\">');\n",
       "    fig.close_ws(fig, msg);\n",
       "}\n",
       "\n",
       "mpl.figure.prototype.close_ws = function(fig, msg){\n",
       "    fig.send_message('closing', msg);\n",
       "    // fig.ws.close()\n",
       "}\n",
       "\n",
       "mpl.figure.prototype.push_to_output = function(remove_interactive) {\n",
       "    // Turn the data on the canvas into data in the output cell.\n",
       "    var width = this.canvas.width/mpl.ratio\n",
       "    var dataURL = this.canvas.toDataURL();\n",
       "    this.cell_info[1]['text/html'] = '<img src=\"' + dataURL + '\" width=\"' + width + '\">';\n",
       "}\n",
       "\n",
       "mpl.figure.prototype.updated_canvas_event = function() {\n",
       "    // Tell IPython that the notebook contents must change.\n",
       "    IPython.notebook.set_dirty(true);\n",
       "    this.send_message(\"ack\", {});\n",
       "    var fig = this;\n",
       "    // Wait a second, then push the new image to the DOM so\n",
       "    // that it is saved nicely (might be nice to debounce this).\n",
       "    setTimeout(function () { fig.push_to_output() }, 1000);\n",
       "}\n",
       "\n",
       "mpl.figure.prototype._init_toolbar = function() {\n",
       "    var fig = this;\n",
       "\n",
       "    var nav_element = $('<div/>');\n",
       "    nav_element.attr('style', 'width: 100%');\n",
       "    this.root.append(nav_element);\n",
       "\n",
       "    // Define a callback function for later on.\n",
       "    function toolbar_event(event) {\n",
       "        return fig.toolbar_button_onclick(event['data']);\n",
       "    }\n",
       "    function toolbar_mouse_event(event) {\n",
       "        return fig.toolbar_button_onmouseover(event['data']);\n",
       "    }\n",
       "\n",
       "    for(var toolbar_ind in mpl.toolbar_items){\n",
       "        var name = mpl.toolbar_items[toolbar_ind][0];\n",
       "        var tooltip = mpl.toolbar_items[toolbar_ind][1];\n",
       "        var image = mpl.toolbar_items[toolbar_ind][2];\n",
       "        var method_name = mpl.toolbar_items[toolbar_ind][3];\n",
       "\n",
       "        if (!name) { continue; };\n",
       "\n",
       "        var button = $('<button class=\"btn btn-default\" href=\"#\" title=\"' + name + '\"><i class=\"fa ' + image + ' fa-lg\"></i></button>');\n",
       "        button.click(method_name, toolbar_event);\n",
       "        button.mouseover(tooltip, toolbar_mouse_event);\n",
       "        nav_element.append(button);\n",
       "    }\n",
       "\n",
       "    // Add the status bar.\n",
       "    var status_bar = $('<span class=\"mpl-message\" style=\"text-align:right; float: right;\"/>');\n",
       "    nav_element.append(status_bar);\n",
       "    this.message = status_bar[0];\n",
       "\n",
       "    // Add the close button to the window.\n",
       "    var buttongrp = $('<div class=\"btn-group inline pull-right\"></div>');\n",
       "    var button = $('<button class=\"btn btn-mini btn-primary\" href=\"#\" title=\"Stop Interaction\"><i class=\"fa fa-power-off icon-remove icon-large\"></i></button>');\n",
       "    button.click(function (evt) { fig.handle_close(fig, {}); } );\n",
       "    button.mouseover('Stop Interaction', toolbar_mouse_event);\n",
       "    buttongrp.append(button);\n",
       "    var titlebar = this.root.find($('.ui-dialog-titlebar'));\n",
       "    titlebar.prepend(buttongrp);\n",
       "}\n",
       "\n",
       "mpl.figure.prototype._root_extra_style = function(el){\n",
       "    var fig = this\n",
       "    el.on(\"remove\", function(){\n",
       "\tfig.close_ws(fig, {});\n",
       "    });\n",
       "}\n",
       "\n",
       "mpl.figure.prototype._canvas_extra_style = function(el){\n",
       "    // this is important to make the div 'focusable\n",
       "    el.attr('tabindex', 0)\n",
       "    // reach out to IPython and tell the keyboard manager to turn it's self\n",
       "    // off when our div gets focus\n",
       "\n",
       "    // location in version 3\n",
       "    if (IPython.notebook.keyboard_manager) {\n",
       "        IPython.notebook.keyboard_manager.register_events(el);\n",
       "    }\n",
       "    else {\n",
       "        // location in version 2\n",
       "        IPython.keyboard_manager.register_events(el);\n",
       "    }\n",
       "\n",
       "}\n",
       "\n",
       "mpl.figure.prototype._key_event_extra = function(event, name) {\n",
       "    var manager = IPython.notebook.keyboard_manager;\n",
       "    if (!manager)\n",
       "        manager = IPython.keyboard_manager;\n",
       "\n",
       "    // Check for shift+enter\n",
       "    if (event.shiftKey && event.which == 13) {\n",
       "        this.canvas_div.blur();\n",
       "        // select the cell after this one\n",
       "        var index = IPython.notebook.find_cell_index(this.cell_info[0]);\n",
       "        IPython.notebook.select(index + 1);\n",
       "    }\n",
       "}\n",
       "\n",
       "mpl.figure.prototype.handle_save = function(fig, msg) {\n",
       "    fig.ondownload(fig, null);\n",
       "}\n",
       "\n",
       "\n",
       "mpl.find_output_cell = function(html_output) {\n",
       "    // Return the cell and output element which can be found *uniquely* in the notebook.\n",
       "    // Note - this is a bit hacky, but it is done because the \"notebook_saving.Notebook\"\n",
       "    // IPython event is triggered only after the cells have been serialised, which for\n",
       "    // our purposes (turning an active figure into a static one), is too late.\n",
       "    var cells = IPython.notebook.get_cells();\n",
       "    var ncells = cells.length;\n",
       "    for (var i=0; i<ncells; i++) {\n",
       "        var cell = cells[i];\n",
       "        if (cell.cell_type === 'code'){\n",
       "            for (var j=0; j<cell.output_area.outputs.length; j++) {\n",
       "                var data = cell.output_area.outputs[j];\n",
       "                if (data.data) {\n",
       "                    // IPython >= 3 moved mimebundle to data attribute of output\n",
       "                    data = data.data;\n",
       "                }\n",
       "                if (data['text/html'] == html_output) {\n",
       "                    return [cell, data, j];\n",
       "                }\n",
       "            }\n",
       "        }\n",
       "    }\n",
       "}\n",
       "\n",
       "// Register the function which deals with the matplotlib target/channel.\n",
       "// The kernel may be null if the page has been refreshed.\n",
       "if (IPython.notebook.kernel != null) {\n",
       "    IPython.notebook.kernel.comm_manager.register_target('matplotlib', mpl.mpl_figure_comm);\n",
       "}\n"
      ],
      "text/plain": [
       "<IPython.core.display.Javascript object>"
      ]
     },
     "metadata": {},
     "output_type": "display_data"
    },
    {
     "data": {
      "text/html": [
       "<img src=\"data:image/png;base64,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\" width=\"984\">"
      ],
      "text/plain": [
       "<IPython.core.display.HTML object>"
      ]
     },
     "metadata": {},
     "output_type": "display_data"
    }
   ],
   "source": [
    "# This plot takes a lot of memory when loading one ch for the whole recording\n",
    "fig, ax = plt.subplots()\n",
    "ax.plot(rawData, 'm')\n",
    "ax.plot(cleanData, 'g', alpha=0.6)\n",
    "for val in estim_onset:\n",
    "    if np.isnan(val):\n",
    "        continue\n",
    "    else:\n",
    "        val = int(val)\n",
    "        art_beg = val\n",
    "        art_end = art_beg + mask_samples\n",
    "        ax.axvspan(art_beg, art_end, alpha=0.3, color='red')"
   ]
  },
  {
   "cell_type": "markdown",
   "metadata": {},
   "source": [
    "#### End of plotting"
   ]
  },
  {
   "cell_type": "markdown",
   "metadata": {},
   "source": [
    "### Loop through mask_inds, load small chunks of data, and mask artifact"
   ]
  },
  {
   "cell_type": "markdown",
   "metadata": {},
   "source": [
    "#### This actually alters the continuous.dat file. If you flush the changes to disk, you cannot recover the original data unless you re-extract or have a copy lying around somewhere."
   ]
  },
  {
   "cell_type": "code",
   "execution_count": 29,
   "metadata": {},
   "outputs": [
    {
     "name": "stdout",
     "output_type": "stream",
     "text": [
      "0.04803156852722168\n"
     ]
    }
   ],
   "source": [
    "## Just one mask length for all stims\n",
    "start = time.time()\n",
    "maskj = masks[0]\n",
    "for val in mask_inds:\n",
    "    if np.isnan(val):\n",
    "        continue\n",
    "    else:\n",
    "        val = int(val)\n",
    "        datamm[val:val+maskj,:] = datamm[val:val-maskj:-1,:] # now this is 2D\n",
    "#         datamm[val:val+(mask_samples+30),:] = datamm[val:val-(mask_samples+30):-1,:]\n",
    "end = time.time()\n",
    "print(end-start)"
   ]
  },
  {
   "cell_type": "raw",
   "metadata": {},
   "source": [
    "## This is in case we need to do a different mask length for different stims\n",
    "start = time.time()\n",
    "for j, maskj in enumerate(masks):\n",
    "    estim_a = stim_ind_break[j]\n",
    "    estim_b = stim_ind_break[j+1]\n",
    "    for val in mask_inds[estim_a:estim_b]:\n",
    "        if np.isnan(val):\n",
    "            continue\n",
    "        else:\n",
    "            val = int(val)\n",
    "            datamm[val:val+maskj,:] = datamm[val:val-maskj:-1,:] # now this is 2D\n",
    "    #         datamm[val:val+(mask_samples+30),:] = datamm[val:val-(mask_samples+30):-1,:]\n",
    "end = time.time()\n",
    "print(end-start)"
   ]
  },
  {
   "cell_type": "markdown",
   "metadata": {},
   "source": [
    "### Flush resulting masked raw data to memory/disk/whatever"
   ]
  },
  {
   "cell_type": "code",
   "execution_count": 30,
   "metadata": {},
   "outputs": [],
   "source": [
    "del(datamm)\n",
    "del(rawDatamm)"
   ]
  },
  {
   "cell_type": "markdown",
   "metadata": {},
   "source": [
    "### Save mask_inds, so I will know exactly what sections of data have been masked. Maybe save duration also."
   ]
  },
  {
   "cell_type": "markdown",
   "metadata": {},
   "source": [
    "#### Save artifact_onset and mask_duration as .npy inside probe folder...could be incorporated into probe_info.json in future"
   ]
  },
  {
   "cell_type": "code",
   "execution_count": 31,
   "metadata": {},
   "outputs": [
    {
     "name": "stdout",
     "output_type": "stream",
     "text": [
      "900\n"
     ]
    }
   ],
   "source": [
    "print(len(mask_inds))"
   ]
  },
  {
   "cell_type": "code",
   "execution_count": 32,
   "metadata": {},
   "outputs": [],
   "source": [
    "mask_samples = masks[0]"
   ]
  },
  {
   "cell_type": "code",
   "execution_count": 33,
   "metadata": {},
   "outputs": [
    {
     "name": "stdout",
     "output_type": "stream",
     "text": [
      "130.8422174856812\n",
      "900\n"
     ]
    }
   ],
   "source": [
    "maskon_in_seconds = np.zeros_like(mask_inds, dtype='float64')\n",
    "for ind, val in enumerate(mask_inds):\n",
    "    if np.isnan(val):\n",
    "        maskon_in_seconds[ind] = np.nan\n",
    "    else:\n",
    "        val = int(val)\n",
    "        maskon_in_seconds[ind] = timestamps[val]\n",
    "print(maskon_in_seconds[0])\n",
    "print(len(maskon_in_seconds))"
   ]
  },
  {
   "cell_type": "code",
   "execution_count": 34,
   "metadata": {},
   "outputs": [
    {
     "name": "stdout",
     "output_type": "stream",
     "text": [
      "Artifact files saved to probe folder\n"
     ]
    }
   ],
   "source": [
    "artifact_file = Path(artinds_path)\n",
    "if artifact_file.is_file():\n",
    "    print('Artifact onset files already exist')\n",
    "else:\n",
    "    np.save(os.path.join(exp.experiment_folder, (mask_probe + '_sorted'), 'artifact_onset_inds.npy'), mask_inds)\n",
    "    np.save(os.path.join(exp.experiment_folder, (mask_probe + '_sorted'), 'artifact_onset_master_clock.npy'), maskon_in_seconds)\n",
    "    np.save(os.path.join(exp.experiment_folder, (mask_probe + '_sorted'), 'mask_sampleduration.npy'), mask_samples)\n",
    "    print('Artifact files saved to probe folder')"
   ]
  },
  {
   "cell_type": "code",
   "execution_count": null,
   "metadata": {},
   "outputs": [],
   "source": []
  }
 ],
 "metadata": {
  "kernelspec": {
   "display_name": "tbd_eeg",
   "language": "python",
   "name": "tbd_eeg"
  },
  "language_info": {
   "codemirror_mode": {
    "name": "ipython",
    "version": 3
   },
   "file_extension": ".py",
   "mimetype": "text/x-python",
   "name": "python",
   "nbconvert_exporter": "python",
   "pygments_lexer": "ipython3",
   "version": "3.7.13"
  }
 },
 "nbformat": 4,
 "nbformat_minor": 2
}
