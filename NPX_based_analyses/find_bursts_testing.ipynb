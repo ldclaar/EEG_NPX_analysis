{
 "cells": [
  {
   "cell_type": "code",
   "execution_count": 1,
   "metadata": {},
   "outputs": [],
   "source": [
    "import os\n",
    "import sys\n",
    "import json\n",
    "import time\n",
    "import pickle\n",
    "import gspread\n",
    "import numpy as np\n",
    "import pandas as pd\n",
    "from datetime import date\n",
    "import matplotlib.pyplot as plt\n",
    "import matplotlib.ticker as ticker\n",
    "from matplotlib.gridspec import GridSpec\n",
    "from matplotlib.colorbar import Colorbar\n",
    "from matplotlib.patches import Patch\n",
    "from scipy import integrate, signal, stats, fftpack"
   ]
  },
  {
   "cell_type": "code",
   "execution_count": 2,
   "metadata": {},
   "outputs": [],
   "source": [
    "sys.path.append(r'C:\\Users\\lesliec\\code')"
   ]
  },
  {
   "cell_type": "code",
   "execution_count": 3,
   "metadata": {},
   "outputs": [],
   "source": [
    "from tbd_eeg.tbd_eeg.data_analysis.eegutils import EEGexp\n",
    "from tbd_eeg.tbd_eeg.data_analysis.Utilities.utilities import (\n",
    "    get_stim_events,\n",
    "    get_evoked_traces,\n",
    "    get_evoked_firing_rates,\n",
    "    find_nearest_ind\n",
    ")\n",
    "from allensdk.brain_observatory.ecephys.lfp_subsampling.subsampling import remove_lfp_offset\n",
    "from allensdk.core.mouse_connectivity_cache import MouseConnectivityCache\n",
    "from PCIst.PCIst.pci_st import calc_PCIst, dimensionality_reduction"
   ]
  },
  {
   "cell_type": "code",
   "execution_count": 4,
   "metadata": {},
   "outputs": [],
   "source": [
    "%matplotlib notebook"
   ]
  },
  {
   "cell_type": "code",
   "execution_count": 5,
   "metadata": {},
   "outputs": [],
   "source": [
    "plt.rcParams.update({'font.size': 12})"
   ]
  },
  {
   "cell_type": "markdown",
   "metadata": {},
   "source": [
    "Load CCF for identifying cortical areas"
   ]
  },
  {
   "cell_type": "code",
   "execution_count": 6,
   "metadata": {},
   "outputs": [],
   "source": [
    "mcc = MouseConnectivityCache(resolution=10)\n",
    "str_tree = mcc.get_structure_tree()"
   ]
  },
  {
   "cell_type": "markdown",
   "metadata": {},
   "source": [
    "Load Zap_Zip-log_exp to get metadata for experiments"
   ]
  },
  {
   "cell_type": "code",
   "execution_count": 7,
   "metadata": {},
   "outputs": [],
   "source": [
    "_gc = gspread.service_account() # need a key file to access the account\n",
    "_sh = _gc.open('Zap_Zip-log_exp') # open the spreadsheet\n",
    "_df = pd.DataFrame(_sh.sheet1.get()) # load the first worksheet\n",
    "zzmetadata = _df.T.set_index(0).T # put it in a nicely formatted dataframe"
   ]
  },
  {
   "cell_type": "markdown",
   "metadata": {},
   "source": [
    "Define areas of interest to plot population activity"
   ]
  },
  {
   "cell_type": "code",
   "execution_count": 8,
   "metadata": {},
   "outputs": [],
   "source": [
    "areas_of_interest = {\n",
    "    'MO': [\n",
    "        'MOp1', 'MOp2/3', 'MOp5', 'MOp6a', 'MOp6b',\n",
    "        'MOs1', 'MOs2/3', 'MOs5', 'MOs6a', 'MOs6b'\n",
    "    ],\n",
    "    'ACA': [\n",
    "        'ACAd1', 'ACAd2/3', 'ACAd5', 'ACAd6a', 'ACAd6b',\n",
    "        'ACAv1', 'ACAv2/3', 'ACAv5', 'ACAv6a', 'ACAv6b'\n",
    "    ],\n",
    "    'SS': [\n",
    "        'SSp-bfd1', 'SSp-bfd2/3', 'SSp-bfd4', 'SSp-bfd5', 'SSp-bfd6a', 'SSp-bfd6b',\n",
    "        'SSp-ll1', 'SSp-ll2/3', 'SSp-ll4', 'SSp-ll5', 'SSp-ll6a', 'SSp-ll6b',\n",
    "        'SSp-tr1', 'SSp-tr2/3', 'SSp-tr4', 'SSp-tr5', 'SSp-tr6a', 'SSp-tr6b'\n",
    "    ],\n",
    "    'VIS': [\n",
    "        'VISp1', 'VISp2/3', 'VISp4', 'VISp5', 'VISp6a', 'VISp6b',\n",
    "        'VISam1', 'VISam2/3', 'VISam4', 'VISam5', 'VISam6a', 'VISam6b',\n",
    "        'VISpm1', 'VISpm2/3', 'VISpm4', 'VISpm5', 'VISpm6a', 'VISpm6b',\n",
    "        'VISrl1', 'VISrl2/3', 'VISrl4', 'VISrl5', 'VISrl6a', 'VISrl6b',\n",
    "    ],\n",
    "    'MO-TH': [\n",
    "        'AV', 'CL', 'MD', 'PO', 'RT', 'VAL', 'VPL', 'VPM', 'VM'\n",
    "    ],\n",
    "}"
   ]
  },
  {
   "cell_type": "code",
   "execution_count": 9,
   "metadata": {},
   "outputs": [],
   "source": [
    "area_colors = {\n",
    "    'MO': (31/255, 157/255, 90/255), # [31, 157, 90] 'blue'\n",
    "    'ACA': (64/255, 166/255, 102/255), # [64, 166, 102] 'deepskyblue'\n",
    "    'SS': (24/255, 128/255, 100/255), # [24, 128, 100] 'blueviolet'\n",
    "    'VIS': (8/255, 133/255, 140/255), # [8, 133, 140] 'green'\n",
    "    'MO-TH': (255/255, 112/255, 128/255), # [255, 112, 128] 'steelblue'\n",
    "#     'VIS-TH': 'olivedrab'\n",
    "}"
   ]
  },
  {
   "cell_type": "code",
   "execution_count": 10,
   "metadata": {},
   "outputs": [],
   "source": [
    "# state_colors = {\n",
    "#     'awake': (120/255, 156/255, 74/255),\n",
    "#     'anesthetized': (130/255, 122/255, 163/255),\n",
    "#     'recovery': (93/255, 167/255, 229/255)\n",
    "# }\n",
    "state_colors = {\n",
    "    'resting': 'royalblue',\n",
    "    'running': 'seagreen',\n",
    "    'anesthetized': 'indianred',\n",
    "}"
   ]
  },
  {
   "cell_type": "markdown",
   "metadata": {},
   "source": [
    "#### Functions"
   ]
  },
  {
   "cell_type": "code",
   "execution_count": 11,
   "metadata": {},
   "outputs": [],
   "source": [
    "def get_stim_event_inds(stim_table, stim_type, stim_param, sweep, trials='resting'):\n",
    "    if trials == 'resting':\n",
    "        return stim_table[\n",
    "            (stim_table['stim_type'] == stim_type) &\n",
    "            (stim_table['parameter'] == stim_param) &\n",
    "            (stim_table['sweep'] == sweep) &\n",
    "            (stim_table['good'] == True) &\n",
    "            (stim_table['resting_trial'] == True)\n",
    "        ].index.values\n",
    "    elif trials == 'running':\n",
    "        return stim_table[\n",
    "            (stim_table['stim_type'] == stim_type) &\n",
    "            (stim_table['parameter'] == stim_param) &\n",
    "            (stim_table['sweep'] == sweep) &\n",
    "            (stim_table['good'] == True) &\n",
    "            (stim_table['resting_trial'] == False)\n",
    "        ].index.values\n",
    "    else:\n",
    "        return stim_table[\n",
    "            (stim_table['stim_type'] == stim_type) &\n",
    "            (stim_table['parameter'] == stim_param) &\n",
    "            (stim_table['sweep'] == sweep) &\n",
    "            (stim_table['good'] == True)\n",
    "        ].index.values"
   ]
  },
  {
   "cell_type": "code",
   "execution_count": 12,
   "metadata": {},
   "outputs": [],
   "source": [
    "def get_stim_event_times(stim_table, stim_type, stim_param, sweep, trials='resting'):\n",
    "    if trials == 'resting':\n",
    "        return stim_table[\n",
    "            (stim_table['stim_type'] == stim_type) &\n",
    "            (stim_table['parameter'] == stim_param) &\n",
    "            (stim_table['sweep'] == sweep) &\n",
    "            (stim_table['good'] == True) &\n",
    "            (stim_table['resting_trial'] == True)\n",
    "        ].onset.values\n",
    "    elif trials == 'running':\n",
    "        return stim_table[\n",
    "            (stim_table['stim_type'] == stim_type) &\n",
    "            (stim_table['parameter'] == stim_param) &\n",
    "            (stim_table['sweep'] == sweep) &\n",
    "            (stim_table['good'] == True) &\n",
    "            (stim_table['resting_trial'] == False)\n",
    "        ].onset.values\n",
    "    else:\n",
    "        return stim_table[\n",
    "            (stim_table['stim_type'] == stim_type) &\n",
    "            (stim_table['parameter'] == stim_param) &\n",
    "            (stim_table['sweep'] == sweep) &\n",
    "            (stim_table['good'] == True)\n",
    "        ].onset.values"
   ]
  },
  {
   "cell_type": "code",
   "execution_count": 13,
   "metadata": {},
   "outputs": [],
   "source": [
    "def get_zscore_fr(trig_FR, time_bins):\n",
    "    \n",
    "    trig_Z = np.zeros_like(trig_FR) * np.nan # try NaNs, it works\n",
    "#     trig_Z = np.zeros_like(trig_FR) # try zeros\n",
    "    baseline_bins = time_bins < 0\n",
    "    baseline_avg = np.mean(trig_FR[:,baseline_bins[:-1]], axis=1)\n",
    "    baseline_std = np.std(trig_FR[:,baseline_bins[:-1]], axis=1)\n",
    "    nonzero_inds = np.nonzero(baseline_std)[0]\n",
    "    trig_Z[nonzero_inds,:] = (trig_FR[nonzero_inds,:] - baseline_avg[nonzero_inds,None]) / baseline_std[nonzero_inds,None]\n",
    "    \n",
    "    return trig_Z, nonzero_inds"
   ]
  },
  {
   "cell_type": "markdown",
   "metadata": {},
   "source": [
    "## Load subject"
   ]
  },
  {
   "cell_type": "code",
   "execution_count": 14,
   "metadata": {},
   "outputs": [
    {
     "name": "stdout",
     "output_type": "stream",
     "text": [
      "Experiment type: electrical stimulation\n"
     ]
    }
   ],
   "source": [
    "recfolder = r'F:\\psi_exp\\mouse669117\\pilot_aw_2023-03-29_11-09-15\\experiment1\\recording1'\n",
    "# exp = EEGexp(recfolder, preprocess=True, make_stim_csv=True)\n",
    "exp = EEGexp(recfolder, preprocess=False, make_stim_csv=False)"
   ]
  },
  {
   "cell_type": "code",
   "execution_count": 15,
   "metadata": {},
   "outputs": [],
   "source": [
    "plotsdir = r'C:\\Users\\lesliec\\OneDrive - Allen Institute\\data\\plots\\manuscript_figs\\burst_analyses'"
   ]
  },
  {
   "cell_type": "markdown",
   "metadata": {},
   "source": [
    "## Test with one subject"
   ]
  },
  {
   "cell_type": "code",
   "execution_count": 16,
   "metadata": {},
   "outputs": [],
   "source": [
    "evoked_data_folder = os.path.join(exp.data_folder, 'evoked_data')\n",
    "\n",
    "## Load unit info ##\n",
    "fn_units_info = os.path.join(evoked_data_folder, 'all_units_info.csv')\n",
    "if os.path.exists(fn_units_info):\n",
    "    unit_info = pd.read_csv(fn_units_info)\n",
    "    with open(os.path.join(evoked_data_folder, 'units_allspikes.pkl'), 'rb') as unit_file:\n",
    "        all_unit_spikes = pickle.load(unit_file)\n",
    "else:\n",
    "    print('  {} not found. Not analyzing this subject\\n.'.format(fn_units_stats))"
   ]
  },
  {
   "cell_type": "code",
   "execution_count": 17,
   "metadata": {},
   "outputs": [
    {
     "data": {
      "text/html": [
       "<div>\n",
       "<style scoped>\n",
       "    .dataframe tbody tr th:only-of-type {\n",
       "        vertical-align: middle;\n",
       "    }\n",
       "\n",
       "    .dataframe tbody tr th {\n",
       "        vertical-align: top;\n",
       "    }\n",
       "\n",
       "    .dataframe thead th {\n",
       "        text-align: right;\n",
       "    }\n",
       "</style>\n",
       "<table border=\"1\" class=\"dataframe\">\n",
       "  <thead>\n",
       "    <tr style=\"text-align: right;\">\n",
       "      <th></th>\n",
       "      <th>unit_id</th>\n",
       "      <th>probe</th>\n",
       "      <th>peak_ch</th>\n",
       "      <th>depth</th>\n",
       "      <th>spike_duration</th>\n",
       "      <th>region</th>\n",
       "      <th>CCF_AP</th>\n",
       "      <th>CCF_DV</th>\n",
       "      <th>CCF_ML</th>\n",
       "      <th>parent_region</th>\n",
       "    </tr>\n",
       "  </thead>\n",
       "  <tbody>\n",
       "    <tr>\n",
       "      <th>1368</th>\n",
       "      <td>F901</td>\n",
       "      <td>probeF</td>\n",
       "      <td>264</td>\n",
       "      <td>1060</td>\n",
       "      <td>0.755444</td>\n",
       "      <td>MOs6a</td>\n",
       "      <td>129</td>\n",
       "      <td>104</td>\n",
       "      <td>190</td>\n",
       "      <td>MO</td>\n",
       "    </tr>\n",
       "    <tr>\n",
       "      <th>1369</th>\n",
       "      <td>F900</td>\n",
       "      <td>probeF</td>\n",
       "      <td>264</td>\n",
       "      <td>1060</td>\n",
       "      <td>0.631826</td>\n",
       "      <td>MOs6a</td>\n",
       "      <td>129</td>\n",
       "      <td>104</td>\n",
       "      <td>190</td>\n",
       "      <td>MO</td>\n",
       "    </tr>\n",
       "    <tr>\n",
       "      <th>1370</th>\n",
       "      <td>F532</td>\n",
       "      <td>probeF</td>\n",
       "      <td>264</td>\n",
       "      <td>1060</td>\n",
       "      <td>0.590620</td>\n",
       "      <td>MOs6a</td>\n",
       "      <td>129</td>\n",
       "      <td>104</td>\n",
       "      <td>190</td>\n",
       "      <td>MO</td>\n",
       "    </tr>\n",
       "    <tr>\n",
       "      <th>1371</th>\n",
       "      <td>F535</td>\n",
       "      <td>probeF</td>\n",
       "      <td>265</td>\n",
       "      <td>1060</td>\n",
       "      <td>0.247236</td>\n",
       "      <td>MOs6a</td>\n",
       "      <td>129</td>\n",
       "      <td>103</td>\n",
       "      <td>190</td>\n",
       "      <td>MO</td>\n",
       "    </tr>\n",
       "    <tr>\n",
       "      <th>1372</th>\n",
       "      <td>F534</td>\n",
       "      <td>probeF</td>\n",
       "      <td>265</td>\n",
       "      <td>1060</td>\n",
       "      <td>0.714238</td>\n",
       "      <td>MOs6a</td>\n",
       "      <td>129</td>\n",
       "      <td>103</td>\n",
       "      <td>190</td>\n",
       "      <td>MO</td>\n",
       "    </tr>\n",
       "  </tbody>\n",
       "</table>\n",
       "</div>"
      ],
      "text/plain": [
       "     unit_id   probe  peak_ch  depth  spike_duration region  CCF_AP  CCF_DV  \\\n",
       "1368    F901  probeF      264   1060        0.755444  MOs6a     129     104   \n",
       "1369    F900  probeF      264   1060        0.631826  MOs6a     129     104   \n",
       "1370    F532  probeF      264   1060        0.590620  MOs6a     129     104   \n",
       "1371    F535  probeF      265   1060        0.247236  MOs6a     129     103   \n",
       "1372    F534  probeF      265   1060        0.714238  MOs6a     129     103   \n",
       "\n",
       "      CCF_ML parent_region  \n",
       "1368     190            MO  \n",
       "1369     190            MO  \n",
       "1370     190            MO  \n",
       "1371     190            MO  \n",
       "1372     190            MO  "
      ]
     },
     "execution_count": 17,
     "metadata": {},
     "output_type": "execute_result"
    }
   ],
   "source": [
    "regdf = unit_info[unit_info['parent_region'] == 'MO']\n",
    "regdf.head()"
   ]
  },
  {
   "cell_type": "code",
   "execution_count": 18,
   "metadata": {},
   "outputs": [
    {
     "data": {
      "text/plain": [
       "dict"
      ]
     },
     "execution_count": 18,
     "metadata": {},
     "output_type": "execute_result"
    }
   ],
   "source": [
    "type(all_unit_spikes['F900'])"
   ]
  },
  {
   "cell_type": "code",
   "execution_count": 23,
   "metadata": {},
   "outputs": [
    {
     "data": {
      "text/plain": [
       "282068"
      ]
     },
     "execution_count": 23,
     "metadata": {},
     "output_type": "execute_result"
    }
   ],
   "source": [
    "len(all_unit_spikes['F535']['spikes'])"
   ]
  },
  {
   "cell_type": "markdown",
   "metadata": {},
   "source": [
    "### Method 1: loop through all spikes, test pre- and post- ISI"
   ]
  },
  {
   "cell_type": "markdown",
   "metadata": {},
   "source": [
    "Test with one spike train"
   ]
  },
  {
   "cell_type": "code",
   "execution_count": 31,
   "metadata": {},
   "outputs": [
    {
     "name": "stdout",
     "output_type": "stream",
     "text": [
      "0.08395862579345703\n"
     ]
    }
   ],
   "source": [
    "s1 = time.time()\n",
    "alluspikes = all_unit_spikes['C24']['spikes']\n",
    "\n",
    "burst_starts_m1 = []\n",
    "burst_all_m1 = []\n",
    "IN_BURST = False\n",
    "for spi in range(1, len(alluspikes)-1):\n",
    "    preISI = alluspikes[spi] - alluspikes[spi-1]\n",
    "    postISI = alluspikes[spi+1] - alluspikes[spi]\n",
    "    if (preISI > 0.1) & (postISI < 0.004):\n",
    "        burst_starts_m1.append(spi)\n",
    "        burst_all_m1.append(spi)\n",
    "        IN_BURST = True\n",
    "    elif IN_BURST & (preISI < 0.004):\n",
    "        burst_all_m1.append(spi)\n",
    "    else:\n",
    "        IN_BURST = False\n",
    "# print(len(burst_starts_m1))\n",
    "e1 = time.time()\n",
    "print((e1-s1))"
   ]
  },
  {
   "cell_type": "code",
   "execution_count": 42,
   "metadata": {},
   "outputs": [
    {
     "name": "stdout",
     "output_type": "stream",
     "text": [
      "170\n"
     ]
    }
   ],
   "source": [
    "print(len(burst_starts_m1))"
   ]
  },
  {
   "cell_type": "markdown",
   "metadata": {},
   "source": [
    "### Method 2: find starts using arrays, loop through starts"
   ]
  },
  {
   "cell_type": "markdown",
   "metadata": {},
   "source": [
    "Test with one spike train"
   ]
  },
  {
   "cell_type": "code",
   "execution_count": 48,
   "metadata": {},
   "outputs": [
    {
     "name": "stdout",
     "output_type": "stream",
     "text": [
      "0.001997709274291992\n"
     ]
    }
   ],
   "source": [
    "s2 = time.time()\n",
    "## Burst-finding method 2: using arrays and a loop ##\n",
    "alluspikes = all_unit_spikes['C28']['spikes']\n",
    "\n",
    "preISIs = np.diff(alluspikes)[:-1]\n",
    "postISIs = np.diff(alluspikes)[1:]\n",
    "\n",
    "bs_inds = np.nonzero((preISIs > 0.1) * (postISIs < 0.004))[0]\n",
    "burst_starts_m2 = bs_inds + 1 # +1 corrects for the actual spike ind\n",
    "\n",
    "## Loop through burst starts to find spikes that belong to the burst\n",
    "allbinds = bs_inds.tolist()\n",
    "for st_ind in bs_inds:\n",
    "    spkind = st_ind+1\n",
    "    while preISIs[spkind] < 0.004:\n",
    "        allbinds.append(spkind)\n",
    "        spkind += 1\n",
    "burst_all_m2 = np.sort(allbinds) + 1 # +1 corrects for the actual spike ind\n",
    "e2 = time.time()\n",
    "print((e2-s2))"
   ]
  },
  {
   "cell_type": "markdown",
   "metadata": {},
   "source": [
    "### Method 3: find bursts using ISI threshold only (for bursting in ctx, too)"
   ]
  },
  {
   "cell_type": "markdown",
   "metadata": {},
   "source": [
    "Test with one spike train"
   ]
  },
  {
   "cell_type": "code",
   "execution_count": 34,
   "metadata": {},
   "outputs": [
    {
     "name": "stdout",
     "output_type": "stream",
     "text": [
      "0.26186084747314453\n"
     ]
    }
   ],
   "source": [
    "ISI_threshold = 0.015 # ISI less than or equal to 15 ms\n",
    "spike_count_thresh = 3 # at least this number of spikes to be considered burst\n",
    "\n",
    "s3 = time.time()\n",
    "## Burst-finding method 3: using an ISI threshold (pre spike ISI) only ##\n",
    "alluspikes = all_unit_spikes['F535']['spikes']\n",
    "preISIs = np.insert(np.diff(alluspikes), 0, 1.0)\n",
    "\n",
    "burst_list = []\n",
    "spkind = 0\n",
    "while spkind < len(alluspikes):\n",
    "    tempevent = [alluspikes[spkind]]\n",
    "    spkind += 1\n",
    "    while (spkind < len(alluspikes)) and (preISIs[spkind] < ISI_threshold):\n",
    "        tempevent.append(alluspikes[spkind])\n",
    "        spkind += 1\n",
    "    if len(tempevent) >= spike_count_thresh:\n",
    "        burst_list.append(tempevent)\n",
    "    del tempevent\n",
    "    \n",
    "e3 = time.time()\n",
    "print((e3-s3))"
   ]
  },
  {
   "cell_type": "code",
   "execution_count": 29,
   "metadata": {},
   "outputs": [
    {
     "name": "stdout",
     "output_type": "stream",
     "text": [
      "282068\n",
      "282068\n"
     ]
    }
   ],
   "source": [
    "print(len(alluspikes))\n",
    "print(len(preISIs))"
   ]
  },
  {
   "cell_type": "code",
   "execution_count": 30,
   "metadata": {},
   "outputs": [
    {
     "data": {
      "text/plain": [
       "array([1.        , 0.04756656, 0.05923321, 0.06933318, 0.05273322,\n",
       "       0.02559994, 0.02406661, 0.00813332, 0.01476663, 0.01316664])"
      ]
     },
     "execution_count": 30,
     "metadata": {},
     "output_type": "execute_result"
    }
   ],
   "source": [
    "preISIs[:10]"
   ]
  },
  {
   "cell_type": "code",
   "execution_count": 35,
   "metadata": {},
   "outputs": [
    {
     "name": "stdout",
     "output_type": "stream",
     "text": [
      "15289\n"
     ]
    }
   ],
   "source": [
    "print(len(burst_list))"
   ]
  },
  {
   "cell_type": "code",
   "execution_count": 36,
   "metadata": {
    "collapsed": true
   },
   "outputs": [
    {
     "data": {
      "text/plain": [
       "[[74.95432721311225,\n",
       "  74.96246052893498,\n",
       "  74.97722716380986,\n",
       "  74.99039380212945,\n",
       "  74.9996604488455,\n",
       "  75.01126042387136],\n",
       " [82.89291012175966,\n",
       "  82.90121010389024,\n",
       "  82.90451009678551,\n",
       "  82.91241007977726,\n",
       "  82.92614338354352,\n",
       "  82.93774335856938],\n",
       " [82.95987664425091, 82.97444327955637, 82.98460992433479],\n",
       " [95.5190496050103, 95.52868291760362, 95.53768289822713],\n",
       " [95.55534952685846, 95.56944949650197, 95.584049465069],\n",
       " [104.16029766752314, 104.17176430950273, 104.18009762489487],\n",
       " [108.52722159909831,\n",
       "  108.53905490695516,\n",
       "  108.55155488004337,\n",
       "  108.56538818359434,\n",
       "  108.57262150135472],\n",
       " [108.62792138229696,\n",
       "  108.63618803116597,\n",
       "  108.64765467314555,\n",
       "  108.66198797562004],\n",
       " [110.35001767471398,\n",
       "  110.36385097826494,\n",
       "  110.37531762024452,\n",
       "  110.38895092422607,\n",
       "  110.4035508927931,\n",
       "  110.41725086329778],\n",
       " [112.20958033783978, 112.22211364418956, 112.23238028875267]]"
      ]
     },
     "execution_count": 36,
     "metadata": {},
     "output_type": "execute_result"
    }
   ],
   "source": [
    "burst_list[0:10]"
   ]
  },
  {
   "cell_type": "markdown",
   "metadata": {},
   "source": [
    "Compare results from both methods"
   ]
  },
  {
   "cell_type": "code",
   "execution_count": 22,
   "metadata": {},
   "outputs": [
    {
     "name": "stdout",
     "output_type": "stream",
     "text": [
      "[582, 944, 959, 976, 995, 997, 1006, 1023, 1063, 1065, 1082, 1157, 1234, 1252, 2085]\n",
      "[ 582  944  959  976  995  997 1006 1023 1063 1065 1082 1157 1234 1252\n",
      " 2085]\n"
     ]
    }
   ],
   "source": [
    "print(burst_starts_m1[0:15])\n",
    "print(burst_starts_m2[0:15])"
   ]
  },
  {
   "cell_type": "code",
   "execution_count": 23,
   "metadata": {
    "scrolled": true
   },
   "outputs": [
    {
     "name": "stdout",
     "output_type": "stream",
     "text": [
      "3015\n",
      "3015\n"
     ]
    }
   ],
   "source": [
    "print(len(burst_all_m1))\n",
    "print(len(burst_all_m2))"
   ]
  },
  {
   "cell_type": "code",
   "execution_count": 24,
   "metadata": {},
   "outputs": [
    {
     "name": "stdout",
     "output_type": "stream",
     "text": [
      "[582, 583, 944, 945, 959, 960, 976, 977, 995, 996, 997, 998, 999, 1000, 1006, 1007, 1008, 1023, 1024, 1063]\n",
      "[ 582  583  944  945  959  960  976  977  995  996  997  998  999 1000\n",
      " 1006 1007 1008 1023 1024 1063]\n"
     ]
    }
   ],
   "source": [
    "print(burst_all_m1[0:20])\n",
    "print(burst_all_m2[0:20])"
   ]
  },
  {
   "cell_type": "markdown",
   "metadata": {},
   "source": [
    "### Method RT bursts: find bursts with ISI < 4 ms (4-8 spikes)"
   ]
  },
  {
   "cell_type": "markdown",
   "metadata": {},
   "source": [
    "Test with one spike train"
   ]
  },
  {
   "cell_type": "code",
   "execution_count": 54,
   "metadata": {},
   "outputs": [],
   "source": [
    "s2 = time.time()\n",
    "## Burst-finding method 2: using arrays and a loop ##\n",
    "alluspikes = all_unit_spikes['C28']['spikes']\n",
    "\n",
    "preISIs = np.diff(alluspikes)[:-1]\n",
    "postISIs = np.diff(alluspikes)[1:]\n",
    "\n",
    "bs_inds = np.nonzero((preISIs > 0.004) * (postISIs < 0.004))[0]\n",
    "RT_burst_starts = bs_inds + 1 # +1 corrects for the actual spike ind\n",
    "\n",
    "all_bursts = []\n",
    "allbinds = bs_inds.tolist()\n",
    "for st_ind in bs_inds:\n",
    "    spkind = st_ind+1\n",
    "    while preISIs[spkind] < 0.004:\n",
    "        allbinds.append(spkind)\n",
    "        spkind += 1\n",
    "\n",
    "\n",
    "IN_BURST = True\n",
    "for st_ind in bs_inds:\n",
    "    spcount = 1\n",
    "    spkind = st_ind+1\n",
    "    while (preISIs[spkind] < 0.004) and (postISIs[spkind] < 0.004):\n",
    "        spcount = 1\n",
    "        spkind += 1\n",
    "\n",
    "\n",
    "# ## Loop through burst starts to find spikes that belong to the burst\n",
    "# allbinds = bs_inds.tolist()\n",
    "# for st_ind in bs_inds:\n",
    "#     spkind = st_ind+1\n",
    "#     while preISIs[spkind] < 0.004:\n",
    "#         allbinds.append(spkind)\n",
    "#         spkind += 1\n",
    "# burst_all_m2 = np.sort(allbinds) + 1 # +1 corrects for the actual spike ind\n",
    "# e2 = time.time()\n",
    "# print((e2-s2))"
   ]
  },
  {
   "cell_type": "raw",
   "metadata": {},
   "source": [
    "s2 = time.time()\n",
    "## Burst-finding method 2: using arrays and a loop ##\n",
    "alluspikes = all_unit_spikes['C28']['spikes']\n",
    "\n",
    "preISIs = np.diff(alluspikes)[:-1]\n",
    "postISIs = np.diff(alluspikes)[1:]\n",
    "\n",
    "bs_inds = np.nonzero((preISIs > 0.004) * (postISIs < 0.004))[0]\n",
    "RT_burst_starts = bs_inds + 1 # +1 corrects for the actual spike ind\n",
    "\n",
    "\n",
    "\n",
    "\n",
    "IN_BURST = False\n",
    "\n",
    "\n",
    "# ## Loop through burst starts to find spikes that belong to the burst\n",
    "# allbinds = bs_inds.tolist()\n",
    "# for st_ind in bs_inds:\n",
    "#     spkind = st_ind+1\n",
    "#     while preISIs[spkind] < 0.004:\n",
    "#         allbinds.append(spkind)\n",
    "#         spkind += 1\n",
    "# burst_all_m2 = np.sort(allbinds) + 1 # +1 corrects for the actual spike ind\n",
    "# e2 = time.time()\n",
    "# print((e2-s2))"
   ]
  },
  {
   "cell_type": "code",
   "execution_count": 56,
   "metadata": {},
   "outputs": [
    {
     "data": {
      "text/plain": [
       "array([0.01469997, 0.11766645, 0.01083331, 0.00283333, 0.00366666,\n",
       "       0.01173331, 0.01046665, 0.01056665, 0.00446666])"
      ]
     },
     "execution_count": 56,
     "metadata": {},
     "output_type": "execute_result"
    }
   ],
   "source": [
    "np.diff(alluspikes[0:10])"
   ]
  },
  {
   "cell_type": "code",
   "execution_count": 55,
   "metadata": {},
   "outputs": [
    {
     "name": "stdout",
     "output_type": "stream",
     "text": [
      "[    3   295   403   470   480   503   622   647   686   711   733   765\n",
      "   777   821   849   874   916   920   948   976   989  1013  1173  1227\n",
      "  1263  1314  1319  1389  1506  1562  1570  1677  1827  1974  1977  2001\n",
      "  2009  2011  2051  2100  2102  2104  2106  2126  2141  2210  2269  2308\n",
      "  2318  2376  2459  2474  2477  2521  2532  2534  2617  2702  2760  2807\n",
      "  2881  2912  2928  2957  2962  3005  3036  3087  3193  3195  3337  3358\n",
      "  3408  3452  3480  3570  3585  3658  3660  3671  3681  3697  3710  3764\n",
      "  3802  3836  3879  4082  4174  4176  4189  4267  4271  4379  4401  4462\n",
      "  4502  4530  4546  4607  4622  4625  4733  4747  4863  4866  4907  4939\n",
      "  4953  5015  5032  5052  5065  5089  5107  5126  5156  5174  5181  5212\n",
      "  5239  5250  5305  5361  5374  5382  5394  5408  5425  5430  5447  5631\n",
      "  5682  5692  5699  5715  5737  5746  5834  5842  5982  5997  6130  6132\n",
      "  6157  6257  6305  6333  6385  6400  6418  6420  6423  6427  6485  6535\n",
      "  6566  6579  6589  6596  6608  6622  6685  6702  6720  6741  6788  6846\n",
      "  6989  7027  7040  7061  7147  7152  7180  7198  7324  7338  7359  7378\n",
      "  7420  7436  7471  7484  7487  7541  7550  7563  7712  7744  7755  7762\n",
      "  7776  7801  7910  7934  7941  7943  7962  8036  8054  8180  8196  8238\n",
      "  8242  8320  8399  8401  8474  8568  8598  8787  8847  8907  8925  9020\n",
      "  9023  9044  9081  9084  9123  9150  9159  9176  9267  9294  9367  9431\n",
      "  9450  9538  9557  9584  9586  9593  9625  9717  9719  9866  9972  9988\n",
      " 10042 10059 10062 10168 10237 10319 10340 10349 10356 10369 10459 10478\n",
      " 10480 10505 10546 10558 10696 10704 10708 10710 10750 10769 10908 11035\n",
      " 11043 11098 11294 11318 11326 11417 11451 11478 11496 11500 11622 11637\n",
      " 11639 11665 11707 11726 11747 11920 11927 11938 11957 11966 12019 12030\n",
      " 12058 12083 12147 12194 12203 12213 12293 12313 12397 12414 12416 12426\n",
      " 12435 12443 12507 12535 12539 12545 12756 12787 12840 12920 12929 13043\n",
      " 13165 13170 13173 13177 13180 13210 13250 13368 13409 13444 13448 13603\n",
      " 13632 13750 13786 13815 13840 13863 13879 13948 13988 14010 14053 14126\n",
      " 14152 14154 14200 14257 14261 14332 14336 14384 14387 14405 14448 14509\n",
      " 14527 14565 14598 14619 14728 14735 14775 14886 14920 14925 14939 14982\n",
      " 14989 15016 15023 15059 15097 15139 15171 15185 15195 15292 15301 15421\n",
      " 15539 15574 15580 15681 15774 15844 15869 15884 15954 16012 16019 16029\n",
      " 16166 16171 16205 16217 16219 16285 16312 16377 16424 16440 16479 16501\n",
      " 16565 16597 16728 16763 16765 16825 16831 16921 16950 17015 17018 17090\n",
      " 17145 17190 17198 17286 17291 17341 17369 17386 17389 17408 17434 17471\n",
      " 17485 17515 17539 17588 17593 17647 17669 17776 17781 17786 17904 17906\n",
      " 17919 17921 17927 17979 18264 18301 18354 18398 18483 18513 18516 18518\n",
      " 18522 18528 18534 18590 18604 18608 18634 18692 18755 18758 18878 18883\n",
      " 18889 19127 19211 19255 19351 19353 19391 19394 19474 19550 19594 19613\n",
      " 19638 19687 19743 19759 19800 19802 19818 19911 19950 19977 19988 20007\n",
      " 20009 20066 20079 20141 20154 20164 20203 20268 20277 20292 20302 20328\n",
      " 20364 20376 20390 20465 20549 20564 20626 20710 20743 20800 20834 20836\n",
      " 20891 20903 20992 21075 21080 21151 21159 21250 21253 21437 21447 21542\n",
      " 21555 21589 21592 21608 21638 21684 21693 21776 21814 21836 21843 21860\n",
      " 21870 21872 21875 21968 21985 22141 22180 22182 22189 22234 22244 22270\n",
      " 22294 22296 22304 22348 22424 22485 22519 22567 22592 22731 22794 22922\n",
      " 22965 22982 23085 23199 23297 23322 23324 23375 23393 23472 23474 23545\n",
      " 23593 23653 23656 23677 23679 23717 23732 23746 23763 23797 23828 23832\n",
      " 23840 23900 23942 24035 24037 24061 24091 24108 24479 24501 24509 24511\n",
      " 24513 24519 24536 24556 24583 24587 24589 24593 24691 24703 24705 24814\n",
      " 24926 24954 25009 25054 25085 25116 25191 25196 25222 25300 25304 25328\n",
      " 25368 25392 25397 25404 25406 25441 25446 25462 25770 25795 25837 25840\n",
      " 25947 26082 26151 26273 26298 26378 26532 26558 26594 26597 26880 26947]\n"
     ]
    }
   ],
   "source": [
    "print(RT_burst_starts)"
   ]
  },
  {
   "cell_type": "markdown",
   "metadata": {},
   "source": [
    "### Compare timing of both methods for multiple neurons"
   ]
  },
  {
   "cell_type": "markdown",
   "metadata": {},
   "source": [
    "Method 1: loop through all spikes"
   ]
  },
  {
   "cell_type": "code",
   "execution_count": 25,
   "metadata": {},
   "outputs": [
    {
     "name": "stdout",
     "output_type": "stream",
     "text": [
      "Method 1, all units, search time: 14.13 s\n"
     ]
    }
   ],
   "source": [
    "s1 = time.time()\n",
    "\n",
    "reg_units = regdf['unit_id'].values\n",
    "for uid in reg_units:\n",
    "    alluspikes = all_unit_spikes[uid]\n",
    "\n",
    "    burst_starts_m1 = []\n",
    "    burst_all_m1 = []\n",
    "    IN_BURST = False\n",
    "    for spi in range(1, len(alluspikes)-1):\n",
    "        preISI = alluspikes[spi] - alluspikes[spi-1]\n",
    "        postISI = alluspikes[spi+1] - alluspikes[spi]\n",
    "        if (preISI > 0.1) & (postISI < 0.004):\n",
    "            burst_starts_m1.append(spi)\n",
    "            burst_all_m1.append(spi)\n",
    "            IN_BURST = True\n",
    "        elif IN_BURST & (preISI < 0.004):\n",
    "            burst_all_m1.append(spi)\n",
    "        else:\n",
    "            IN_BURST = False\n",
    "    \n",
    "e1 = time.time()\n",
    "print('Method 1, all units, search time: {:.2f} s'.format(e1-s1))"
   ]
  },
  {
   "cell_type": "markdown",
   "metadata": {},
   "source": [
    "Method 2: use arrays first"
   ]
  },
  {
   "cell_type": "code",
   "execution_count": 26,
   "metadata": {},
   "outputs": [
    {
     "name": "stdout",
     "output_type": "stream",
     "text": [
      "Method 2, all units, search time: 0.24 s\n"
     ]
    }
   ],
   "source": [
    "s2 = time.time()\n",
    "\n",
    "reg_units = regdf['unit_id'].values\n",
    "for uid in reg_units:\n",
    "    alluspikes = all_unit_spikes[uid]\n",
    "    preISIs = np.diff(alluspikes)[:-1]\n",
    "    postISIs = np.diff(alluspikes)[1:]\n",
    "\n",
    "    bs_inds = np.nonzero((preISIs > 0.1) * (postISIs < 0.004))[0]\n",
    "    burst_starts_m2 = bs_inds + 1 # +1 corrects for the actual spike ind\n",
    "\n",
    "    ## Loop through burst starts to find spikes that belong to the burst\n",
    "    allbinds = bs_inds.tolist()\n",
    "    for st_ind in bs_inds:\n",
    "        spkind = st_ind+1\n",
    "        while (spkind < len(preISIs)) and (preISIs[spkind] < 0.004):\n",
    "            allbinds.append(spkind)\n",
    "            spkind += 1\n",
    "    burst_all_m2 = np.sort(allbinds) + 1 # +1 corrects for the actual spike ind\n",
    "\n",
    "e2 = time.time()\n",
    "print('Method 2, all units, search time: {:.2f} s'.format(e2-s2))"
   ]
  },
  {
   "cell_type": "markdown",
   "metadata": {},
   "source": [
    "Compare results from both methods"
   ]
  },
  {
   "cell_type": "code",
   "execution_count": 27,
   "metadata": {},
   "outputs": [
    {
     "name": "stdout",
     "output_type": "stream",
     "text": [
      "470\n",
      "470\n"
     ]
    }
   ],
   "source": [
    "print(len(burst_starts_m1))\n",
    "print(len(burst_starts_m2))"
   ]
  },
  {
   "cell_type": "code",
   "execution_count": 28,
   "metadata": {},
   "outputs": [
    {
     "name": "stdout",
     "output_type": "stream",
     "text": [
      "[2075, 5226, 10217, 12848, 14794, 15327, 15486, 16158, 17323, 17327, 17365, 17937, 18156, 18605, 20098]\n",
      "[ 2075  5226 10217 12848 14794 15327 15486 16158 17323 17327 17365 17937\n",
      " 18156 18605 20098]\n"
     ]
    }
   ],
   "source": [
    "print(burst_starts_m1[0:15])\n",
    "print(burst_starts_m2[0:15])"
   ]
  },
  {
   "cell_type": "code",
   "execution_count": 29,
   "metadata": {
    "scrolled": true
   },
   "outputs": [
    {
     "name": "stdout",
     "output_type": "stream",
     "text": [
      "1048\n",
      "1048\n"
     ]
    }
   ],
   "source": [
    "print(len(burst_all_m1))\n",
    "print(len(burst_all_m2))"
   ]
  },
  {
   "cell_type": "code",
   "execution_count": null,
   "metadata": {},
   "outputs": [],
   "source": []
  },
  {
   "cell_type": "markdown",
   "metadata": {},
   "source": [
    "### Info to save?"
   ]
  },
  {
   "cell_type": "markdown",
   "metadata": {},
   "source": [
    "This saves the times of the first spike of each burst ['start_times'], the times of all spikes in a burst ['all_times'], the number of spikes belonging to each burst ['burst_spike_counts'], and a list of the spike times that belong to each burst ['burst_spike_times'].\n",
    "<br>**But probably the most relevant are the ['start_times'] and ['burst_spike_counts'].**"
   ]
  },
  {
   "cell_type": "code",
   "execution_count": 43,
   "metadata": {},
   "outputs": [
    {
     "name": "stdout",
     "output_type": "stream",
     "text": [
      "Method 2, all units, search time: 0.51 s\n"
     ]
    }
   ],
   "source": [
    "start = time.time()\n",
    "\n",
    "reg_units = regdf['unit_id'].values\n",
    "burst_info = {}\n",
    "\n",
    "for uid in reg_units:\n",
    "    alluspikes = all_unit_spikes[uid]\n",
    "    preISIs = np.diff(alluspikes)[:-1]\n",
    "    postISIs = np.diff(alluspikes)[1:]\n",
    "\n",
    "    bs_inds = np.nonzero((preISIs > 0.1) * (postISIs < 0.004))[0]\n",
    "    if len(bs_inds) == 0:\n",
    "        continue\n",
    "    burst_starts_m2 = bs_inds + 1 # +1 corrects for the actual spike ind\n",
    "\n",
    "    ## Loop through burst starts to find spikes that belong to the burst\n",
    "    allbinds = bs_inds.tolist()\n",
    "    burst_counts = []\n",
    "    all_burst_times = []\n",
    "    for st_ind in bs_inds:\n",
    "        spkind = st_ind+1\n",
    "        ind_burst_times = [alluspikes[spkind]]\n",
    "        bcount = 1\n",
    "        while (spkind < len(preISIs)) and (preISIs[spkind] < 0.004):\n",
    "            allbinds.append(spkind)\n",
    "            spkind += 1\n",
    "            ind_burst_times.append(alluspikes[spkind])\n",
    "            bcount += 1\n",
    "        burst_counts.append(bcount)\n",
    "        all_burst_times.append(np.array(ind_burst_times))\n",
    "    burst_all_m2 = np.sort(allbinds) + 1 # +1 corrects for the actual spike ind\n",
    "    \n",
    "    ## store burst info ##\n",
    "    burst_info[uid] = {}\n",
    "    burst_info[uid]['start_times'] = alluspikes[burst_starts_m2]\n",
    "    burst_info[uid]['all_times'] = alluspikes[burst_all_m2]\n",
    "    burst_info[uid]['burst_spike_counts'] = np.array(burst_counts)\n",
    "    burst_info[uid]['burst_spike_times'] = all_burst_times\n",
    "    \n",
    "end = time.time()\n",
    "print('Method 2, all units, search time: {:.2f} s'.format(end-start))"
   ]
  },
  {
   "cell_type": "code",
   "execution_count": 44,
   "metadata": {},
   "outputs": [
    {
     "data": {
      "text/plain": [
       "1343"
      ]
     },
     "execution_count": 44,
     "metadata": {},
     "output_type": "execute_result"
    }
   ],
   "source": [
    "len(burst_info['B0']['burst_spike_counts'])"
   ]
  },
  {
   "cell_type": "code",
   "execution_count": 45,
   "metadata": {},
   "outputs": [
    {
     "data": {
      "text/plain": [
       "1343"
      ]
     },
     "execution_count": 45,
     "metadata": {},
     "output_type": "execute_result"
    }
   ],
   "source": [
    "len(burst_info['B0']['burst_spike_times'])"
   ]
  },
  {
   "cell_type": "code",
   "execution_count": 51,
   "metadata": {},
   "outputs": [
    {
     "name": "stdout",
     "output_type": "stream",
     "text": [
      "144.16321360599198\n",
      "4\n",
      "[144.16321361 144.16538027 144.16738026 144.17134692]\n"
     ]
    }
   ],
   "source": [
    "test_ind = 5\n",
    "print(burst_info['B0']['start_times'][test_ind])\n",
    "print(burst_info['B0']['burst_spike_counts'][test_ind])\n",
    "print(burst_info['B0']['burst_spike_times'][test_ind])"
   ]
  },
  {
   "cell_type": "markdown",
   "metadata": {},
   "source": [
    "### Make it into a function"
   ]
  },
  {
   "cell_type": "code",
   "execution_count": null,
   "metadata": {},
   "outputs": [],
   "source": [
    "## Developed in NPX_find_bursts_testing.ipynb, this version is faster and only returns start times and spike counts ##\n",
    "def find_bursts(unit_ids, all_spikes_dict):\n",
    "    burst_info = {}\n",
    "    for uid in unit_ids:\n",
    "        alluspikes = all_spikes_dict[uid]\n",
    "        preISIs = np.diff(alluspikes)[:-1]\n",
    "        postISIs = np.diff(alluspikes)[1:]\n",
    "        ## Find starts ##\n",
    "        bs_inds = np.nonzero((preISIs > 0.1) * (postISIs < 0.004))[0]\n",
    "        if len(bs_inds) == 0:\n",
    "            continue\n",
    "        burst_starts = bs_inds + 1 # +1 corrects for the actual spike ind\n",
    "        ## Loop through burst starts to find spikes that belong to the burst\n",
    "        burst_counts = []\n",
    "        for st_ind in bs_inds:\n",
    "            spkind = st_ind+1\n",
    "            bcount = 1\n",
    "            while (spkind < len(preISIs)) and (preISIs[spkind] < 0.004):\n",
    "                spkind += 1\n",
    "                bcount += 1\n",
    "            burst_counts.append(bcount)\n",
    "        ## Store burst info ##\n",
    "        burst_info[uid] = {}\n",
    "        burst_info[uid]['start_times'] = alluspikes[burst_starts]\n",
    "        burst_info[uid]['burst_spike_counts'] = np.array(burst_counts)\n",
    "    return burst_info"
   ]
  },
  {
   "cell_type": "raw",
   "metadata": {},
   "source": [
    "## Original version that returns all info ##\n",
    "def find_bursts(unit_ids, all_spikes_dict):\n",
    "    burst_info = {}\n",
    "    for uid in unit_ids:\n",
    "        alluspikes = all_spikes_dict[uid]\n",
    "        preISIs = np.diff(alluspikes)[:-1]\n",
    "        postISIs = np.diff(alluspikes)[1:]\n",
    "\n",
    "        bs_inds = np.nonzero((preISIs > 0.1) * (postISIs < 0.004))[0]\n",
    "        if len(bs_inds) == 0:\n",
    "            continue\n",
    "        burst_starts = bs_inds + 1 # +1 corrects for the actual spike ind\n",
    "\n",
    "        ## Loop through burst starts to find spikes that belong to the burst\n",
    "        allbinds = bs_inds.tolist()\n",
    "        burst_counts = []\n",
    "        all_burst_times = []\n",
    "        for st_ind in bs_inds:\n",
    "            spkind = st_ind+1\n",
    "            ind_burst_times = [alluspikes[spkind]]\n",
    "            bcount = 1\n",
    "            while preISIs[spkind] < 0.004:\n",
    "                allbinds.append(spkind)\n",
    "                spkind += 1\n",
    "                ind_burst_times.append(alluspikes[spkind])\n",
    "                bcount += 1\n",
    "            burst_counts.append(bcount)\n",
    "            all_burst_times.append(np.array(ind_burst_times))\n",
    "        burst_all = np.sort(allbinds) + 1 # +1 corrects for the actual spike ind\n",
    "\n",
    "        ## store burst info ##\n",
    "        burst_info[uid] = {}\n",
    "        burst_info[uid]['start_times'] = alluspikes[burst_starts]\n",
    "        burst_info[uid]['all_times'] = alluspikes[burst_all]\n",
    "        burst_info[uid]['burst_spike_counts'] = np.array(burst_counts)\n",
    "        burst_info[uid]['burst_spike_times'] = all_burst_times\n",
    "    return burst_info"
   ]
  }
 ],
 "metadata": {
  "kernelspec": {
   "display_name": "tbd_eeg",
   "language": "python",
   "name": "tbd_eeg"
  },
  "language_info": {
   "codemirror_mode": {
    "name": "ipython",
    "version": 3
   },
   "file_extension": ".py",
   "mimetype": "text/x-python",
   "name": "python",
   "nbconvert_exporter": "python",
   "pygments_lexer": "ipython3",
   "version": "3.7.13"
  }
 },
 "nbformat": 4,
 "nbformat_minor": 2
}
