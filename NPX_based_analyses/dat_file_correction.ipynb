{
 "cells": [
  {
   "cell_type": "code",
   "execution_count": 1,
   "metadata": {},
   "outputs": [],
   "source": [
    "import json\n",
    "import os\n",
    "import sys\n",
    "from tempfile import mkdtemp\n",
    "import time\n",
    "\n",
    "import numpy as np\n",
    "import matplotlib.pyplot as plt"
   ]
  },
  {
   "cell_type": "code",
   "execution_count": 2,
   "metadata": {},
   "outputs": [],
   "source": [
    "sys.path.append(r'C:\\Users\\lesliec\\code')"
   ]
  },
  {
   "cell_type": "code",
   "execution_count": 3,
   "metadata": {},
   "outputs": [],
   "source": [
    "from tbd_eeg.tbd_eeg.data_analysis.eegutils import EEGexp\n",
    "from tbd_eeg.tbd_eeg.data_analysis.Utilities.utilities import get_stim_events, find_nearest_ind"
   ]
  },
  {
   "cell_type": "code",
   "execution_count": 4,
   "metadata": {},
   "outputs": [],
   "source": [
    "%matplotlib notebook"
   ]
  },
  {
   "cell_type": "markdown",
   "metadata": {},
   "source": [
    "# Fix continuous file (remove extra channel)"
   ]
  },
  {
   "cell_type": "markdown",
   "metadata": {},
   "source": [
    "#### Load EEGexp object"
   ]
  },
  {
   "cell_type": "code",
   "execution_count": 5,
   "metadata": {},
   "outputs": [
    {
     "name": "stdout",
     "output_type": "stream",
     "text": [
      "Experiment type: electrical and sensory stimulation\n"
     ]
    }
   ],
   "source": [
    "## this is the broken one ##\n",
    "rec1 = r'P:\\mouse689239\\NOT_Finished_Sorting_urethane_2023-08-11_11-33-46\\experiment1\\recording1'\n",
    "exp1 = EEGexp(rec1, preprocess=False, make_stim_csv=False)"
   ]
  },
  {
   "cell_type": "markdown",
   "metadata": {},
   "source": [
    "## AP data"
   ]
  },
  {
   "cell_type": "code",
   "execution_count": 6,
   "metadata": {},
   "outputs": [
    {
     "name": "stdout",
     "output_type": "stream",
     "text": [
      "(158410356, 385)\n"
     ]
    }
   ],
   "source": [
    "fixprobe = 'probeF'\n",
    "\n",
    "# filepaths\n",
    "ap_raw = exp1.ephys_params[fixprobe]['ap_continuous']\n",
    "ap_time_path = exp1.ephys_params[fixprobe]['ap_timestamps']\n",
    "numCh = exp1.ephys_params[fixprobe]['num_chs']\n",
    "\n",
    "## memmap AP data\n",
    "aptimestamps = np.load(ap_time_path)\n",
    "rawDatamm = np.memmap(ap_raw, dtype='int16', mode='r', shape=(len(aptimestamps), 385)) # r+ will allow the file to be changed\n",
    "print(rawDatamm.shape)"
   ]
  },
  {
   "cell_type": "markdown",
   "metadata": {},
   "source": [
    "Create a new file"
   ]
  },
  {
   "cell_type": "code",
   "execution_count": 7,
   "metadata": {},
   "outputs": [
    {
     "name": "stdout",
     "output_type": "stream",
     "text": [
      "P:\\mouse689239\\NOT_Finished_Sorting_urethane_2023-08-11_11-33-46\\experiment1\\probeF_sorted\\continuous\\Neuropix-PXI-100.0\\continuous.dat\n",
      "P:\\mouse689239\\NOT_Finished_Sorting_urethane_2023-08-11_11-33-46\\experiment1\\probeF_sorted\\continuous\\Neuropix-PXI-100.0\\continuous_edit.dat\n"
     ]
    }
   ],
   "source": [
    "print(ap_raw)\n",
    "strind = ap_raw.find('.dat')\n",
    "new_file = ap_raw[:strind] + '_edit' + ap_raw[strind:]\n",
    "print(new_file)"
   ]
  },
  {
   "cell_type": "code",
   "execution_count": 8,
   "metadata": {},
   "outputs": [
    {
     "name": "stdout",
     "output_type": "stream",
     "text": [
      "(158410356, 384)\n",
      "Time = 19.58 min\n"
     ]
    }
   ],
   "source": [
    "st1 = time.time()\n",
    "fixdata = np.memmap(new_file, dtype='int16', mode='w+', shape=(rawDatamm.shape[0], numCh))\n",
    "print(fixdata.shape)\n",
    "e1 = time.time()\n",
    "print('Time = {:.2f} min'.format((e1-st1)/60))\n",
    "# This took 20 min for AP"
   ]
  },
  {
   "cell_type": "code",
   "execution_count": 9,
   "metadata": {},
   "outputs": [
    {
     "name": "stdout",
     "output_type": "stream",
     "text": [
      "[[0 0 0]\n",
      " [0 0 0]\n",
      " [0 0 0]]\n"
     ]
    }
   ],
   "source": [
    "print(fixdata[:3,:3])"
   ]
  },
  {
   "cell_type": "markdown",
   "metadata": {},
   "source": [
    "Add the data to it...unfortunately, this does require loading the whole file into memory"
   ]
  },
  {
   "cell_type": "code",
   "execution_count": 10,
   "metadata": {},
   "outputs": [
    {
     "name": "stdout",
     "output_type": "stream",
     "text": [
      "Time = 51.30 min\n"
     ]
    }
   ],
   "source": [
    "st2 = time.time()\n",
    "fixdata[:,:] = rawDatamm[:,:numCh]\n",
    "e2 = time.time()\n",
    "print('Time = {:.2f} min'.format((e2-st2)/60))\n",
    "# This took 80 min for AP and basically maxed out memory"
   ]
  },
  {
   "cell_type": "code",
   "execution_count": 11,
   "metadata": {},
   "outputs": [
    {
     "name": "stdout",
     "output_type": "stream",
     "text": [
      "[[ 56 204  31]\n",
      " [ 56 144  91]\n",
      " [ 92  83  31]]\n",
      "[[ 56 204  31]\n",
      " [ 56 144  91]\n",
      " [ 92  83  31]]\n"
     ]
    }
   ],
   "source": [
    "print(rawDatamm[:3,:3])\n",
    "print(fixdata[:3,:3])"
   ]
  },
  {
   "cell_type": "code",
   "execution_count": 12,
   "metadata": {},
   "outputs": [
    {
     "name": "stdout",
     "output_type": "stream",
     "text": [
      "[[-11   4   0]\n",
      " [ 49  28   0]\n",
      " [-11   4   0]]\n",
      "[[-106  -11    4]\n",
      " [ -34   49   28]\n",
      " [ -58  -11    4]]\n"
     ]
    }
   ],
   "source": [
    "print(rawDatamm[-3:,-3:])\n",
    "print(fixdata[-3:,-3:])"
   ]
  },
  {
   "cell_type": "markdown",
   "metadata": {},
   "source": [
    "Write data to new file"
   ]
  },
  {
   "cell_type": "code",
   "execution_count": 13,
   "metadata": {},
   "outputs": [
    {
     "name": "stdout",
     "output_type": "stream",
     "text": [
      "Time = 19.30 min\n"
     ]
    }
   ],
   "source": [
    "st3 = time.time()\n",
    "fixdata.flush()\n",
    "e3 = time.time()\n",
    "print('Time = {:.2f} min'.format((e3-st3)/60))\n",
    "# This took 4 min for AP"
   ]
  },
  {
   "cell_type": "code",
   "execution_count": 14,
   "metadata": {},
   "outputs": [],
   "source": [
    "del rawDatamm\n",
    "del fixdata"
   ]
  },
  {
   "cell_type": "markdown",
   "metadata": {},
   "source": [
    "Check it"
   ]
  },
  {
   "cell_type": "code",
   "execution_count": 15,
   "metadata": {},
   "outputs": [
    {
     "name": "stdout",
     "output_type": "stream",
     "text": [
      "[[ 56 204  31]\n",
      " [ 56 144  91]\n",
      " [ 92  83  31]]\n"
     ]
    }
   ],
   "source": [
    "fixeddata = np.memmap(new_file, dtype='int16', mode='r', shape=(len(aptimestamps), numCh))\n",
    "print(fixeddata[:3,:3])"
   ]
  },
  {
   "cell_type": "markdown",
   "metadata": {},
   "source": [
    "## LFP data"
   ]
  },
  {
   "cell_type": "code",
   "execution_count": 6,
   "metadata": {},
   "outputs": [
    {
     "name": "stdout",
     "output_type": "stream",
     "text": [
      "(13200863, 385)\n"
     ]
    }
   ],
   "source": [
    "fixprobe = 'probeF'\n",
    "\n",
    "# filepaths\n",
    "lfp_raw = exp1.ephys_params[fixprobe]['lfp_continuous']\n",
    "lfp_time_path = exp1.ephys_params[fixprobe]['lfp_timestamps']\n",
    "numCh = exp1.ephys_params[fixprobe]['num_chs']\n",
    "\n",
    "## memmap LFP data\n",
    "lfptimestamps = np.load(lfp_time_path)\n",
    "rawLFPmm = np.memmap(lfp_raw, dtype='int16', mode='r', shape=(len(lfptimestamps), 385))\n",
    "print(rawLFPmm.shape)"
   ]
  },
  {
   "cell_type": "markdown",
   "metadata": {},
   "source": [
    "Create a new file"
   ]
  },
  {
   "cell_type": "code",
   "execution_count": 7,
   "metadata": {},
   "outputs": [
    {
     "name": "stdout",
     "output_type": "stream",
     "text": [
      "P:\\mouse689239\\NOT_Finished_Sorting_urethane_2023-08-11_11-33-46\\experiment1\\probeF_sorted\\continuous\\Neuropix-PXI-100.1\\continuous.dat\n",
      "P:\\mouse689239\\NOT_Finished_Sorting_urethane_2023-08-11_11-33-46\\experiment1\\probeF_sorted\\continuous\\Neuropix-PXI-100.1\\continuous_edit.dat\n"
     ]
    }
   ],
   "source": [
    "## For LFP ##\n",
    "print(lfp_raw)\n",
    "strind = lfp_raw.find('.dat')\n",
    "new_file = lfp_raw[:strind] + '_edit' + lfp_raw[strind:]\n",
    "print(new_file)"
   ]
  },
  {
   "cell_type": "code",
   "execution_count": 8,
   "metadata": {},
   "outputs": [
    {
     "name": "stdout",
     "output_type": "stream",
     "text": [
      "(13200863, 384)\n",
      "Time = 1.63 min\n"
     ]
    }
   ],
   "source": [
    "st1 = time.time()\n",
    "fixdata = np.memmap(new_file, dtype='int16', mode='w+', shape=(rawLFPmm.shape[0], numCh))\n",
    "print(fixdata.shape)\n",
    "e1 = time.time()\n",
    "print('Time = {:.2f} min'.format((e1-st1)/60))\n",
    "# This took 2 min for LFP"
   ]
  },
  {
   "cell_type": "code",
   "execution_count": 9,
   "metadata": {},
   "outputs": [
    {
     "name": "stdout",
     "output_type": "stream",
     "text": [
      "[[0 0 0]\n",
      " [0 0 0]\n",
      " [0 0 0]]\n"
     ]
    }
   ],
   "source": [
    "print(fixdata[:3,:3])"
   ]
  },
  {
   "cell_type": "markdown",
   "metadata": {},
   "source": [
    "Add data to it"
   ]
  },
  {
   "cell_type": "code",
   "execution_count": 10,
   "metadata": {},
   "outputs": [
    {
     "name": "stdout",
     "output_type": "stream",
     "text": [
      "Time = 4.48 min\n"
     ]
    }
   ],
   "source": [
    "st2 = time.time()\n",
    "fixdata[:,:] = rawLFPmm[:,:numCh]\n",
    "e2 = time.time()\n",
    "print('Time = {:.2f} min'.format((e2-st2)/60))\n",
    "# This took 4 min for LFP"
   ]
  },
  {
   "cell_type": "code",
   "execution_count": 13,
   "metadata": {},
   "outputs": [
    {
     "name": "stdout",
     "output_type": "stream",
     "text": [
      "[[101 -11  -8]\n",
      " [125  13  40]\n",
      " [149  85 112]]\n"
     ]
    }
   ],
   "source": [
    "print(rawLFPmm[:3,:3])"
   ]
  },
  {
   "cell_type": "code",
   "execution_count": 14,
   "metadata": {},
   "outputs": [
    {
     "name": "stdout",
     "output_type": "stream",
     "text": [
      "[[101 -11  -8]\n",
      " [125  13  40]\n",
      " [149  85 112]]\n"
     ]
    }
   ],
   "source": [
    "print(fixdata[:3,:3])"
   ]
  },
  {
   "cell_type": "markdown",
   "metadata": {},
   "source": [
    "Write data to new file"
   ]
  },
  {
   "cell_type": "code",
   "execution_count": 15,
   "metadata": {},
   "outputs": [
    {
     "name": "stdout",
     "output_type": "stream",
     "text": [
      "Time = 1.48 min\n"
     ]
    }
   ],
   "source": [
    "st3 = time.time()\n",
    "fixdata.flush()\n",
    "e3 = time.time()\n",
    "print('Time = {:.2f} min'.format((e3-st3)/60))\n",
    "# This took 2 min for LFP"
   ]
  },
  {
   "cell_type": "code",
   "execution_count": 16,
   "metadata": {},
   "outputs": [],
   "source": [
    "del rawLFPmm\n",
    "del fixdata"
   ]
  },
  {
   "cell_type": "markdown",
   "metadata": {},
   "source": [
    "Check it"
   ]
  },
  {
   "cell_type": "code",
   "execution_count": 21,
   "metadata": {},
   "outputs": [
    {
     "name": "stdout",
     "output_type": "stream",
     "text": [
      "[[  98   21 -116]\n",
      " [  74   45  -92]\n",
      " [  98   93  -92]]\n"
     ]
    }
   ],
   "source": [
    "fixeddata = np.memmap(new_file, dtype='int16', mode='r', shape=(len(lfptimestamps), numCh))\n",
    "print(fixeddata[:3,:3])"
   ]
  },
  {
   "cell_type": "code",
   "execution_count": null,
   "metadata": {},
   "outputs": [],
   "source": []
  },
  {
   "cell_type": "code",
   "execution_count": null,
   "metadata": {},
   "outputs": [],
   "source": []
  },
  {
   "cell_type": "code",
   "execution_count": null,
   "metadata": {},
   "outputs": [],
   "source": []
  },
  {
   "cell_type": "markdown",
   "metadata": {},
   "source": [
    "# Test editing/writing dat files"
   ]
  },
  {
   "cell_type": "code",
   "execution_count": 5,
   "metadata": {},
   "outputs": [],
   "source": [
    "test_dir = r\"C:\\Users\\lesliec\\Documents\\test_dat_file\""
   ]
  },
  {
   "cell_type": "code",
   "execution_count": 6,
   "metadata": {},
   "outputs": [],
   "source": [
    "testfilename = os.path.join(test_dir, 'test_write_file_4.dat')\n",
    "copyfilename = os.path.join(test_dir, 'test_write_file_4copy1.dat')"
   ]
  },
  {
   "cell_type": "markdown",
   "metadata": {},
   "source": [
    "Create fake data"
   ]
  },
  {
   "cell_type": "code",
   "execution_count": 7,
   "metadata": {},
   "outputs": [],
   "source": [
    "datasize = (500, 33)"
   ]
  },
  {
   "cell_type": "code",
   "execution_count": 8,
   "metadata": {},
   "outputs": [
    {
     "name": "stdout",
     "output_type": "stream",
     "text": [
      "(500, 33)\n"
     ]
    }
   ],
   "source": [
    "data = np.arange(datasize[0] * datasize[1], dtype='int16')\n",
    "data.resize(datasize)\n",
    "print(data.shape)"
   ]
  },
  {
   "cell_type": "markdown",
   "metadata": {},
   "source": [
    "Write a .dat file"
   ]
  },
  {
   "cell_type": "code",
   "execution_count": 9,
   "metadata": {},
   "outputs": [
    {
     "name": "stdout",
     "output_type": "stream",
     "text": [
      "[[0 0 0 0 0]\n",
      " [0 0 0 0 0]\n",
      " [0 0 0 0 0]\n",
      " [0 0 0 0 0]\n",
      " [0 0 0 0 0]]\n"
     ]
    }
   ],
   "source": [
    "fp = np.memmap(os.path.join(mkdtemp(), testfilename), dtype='int16', mode='w+', shape=datasize)\n",
    "print(fp[:5,:5])"
   ]
  },
  {
   "cell_type": "code",
   "execution_count": 10,
   "metadata": {},
   "outputs": [],
   "source": [
    "fp[:] = data[:]"
   ]
  },
  {
   "cell_type": "code",
   "execution_count": 11,
   "metadata": {},
   "outputs": [],
   "source": [
    "fp.flush()"
   ]
  },
  {
   "cell_type": "markdown",
   "metadata": {},
   "source": [
    "Test that it worked"
   ]
  },
  {
   "cell_type": "code",
   "execution_count": 12,
   "metadata": {},
   "outputs": [
    {
     "name": "stdout",
     "output_type": "stream",
     "text": [
      "(16500,)\n"
     ]
    }
   ],
   "source": [
    "newfp = np.memmap(testfilename, dtype='int16', mode='r')\n",
    "print(newfp.shape)"
   ]
  },
  {
   "cell_type": "code",
   "execution_count": 13,
   "metadata": {},
   "outputs": [
    {
     "data": {
      "text/plain": [
       "memmap([    0,     1,     2, ..., 16497, 16498, 16499], dtype=int16)"
      ]
     },
     "execution_count": 13,
     "metadata": {},
     "output_type": "execute_result"
    }
   ],
   "source": [
    "newfp"
   ]
  },
  {
   "cell_type": "code",
   "execution_count": 14,
   "metadata": {},
   "outputs": [],
   "source": [
    "del newfp"
   ]
  },
  {
   "cell_type": "markdown",
   "metadata": {},
   "source": [
    "Load test file and copy part into new file"
   ]
  },
  {
   "cell_type": "code",
   "execution_count": 15,
   "metadata": {},
   "outputs": [],
   "source": [
    "rawdata = np.memmap(testfilename, dtype='int16', mode='r', shape=datasize)"
   ]
  },
  {
   "cell_type": "code",
   "execution_count": 16,
   "metadata": {},
   "outputs": [
    {
     "name": "stdout",
     "output_type": "stream",
     "text": [
      "[[  0   1   2   3   4]\n",
      " [ 33  34  35  36  37]\n",
      " [ 66  67  68  69  70]\n",
      " [ 99 100 101 102 103]\n",
      " [132 133 134 135 136]]\n",
      "(500, 33)\n",
      "<class 'numpy.memmap'>\n"
     ]
    }
   ],
   "source": [
    "print(rawdata[:5, :5])\n",
    "print(rawdata.shape)\n",
    "print(type(rawdata))"
   ]
  },
  {
   "cell_type": "code",
   "execution_count": 17,
   "metadata": {},
   "outputs": [],
   "source": [
    "# copydata = np.memmap(os.path.join(mkdtemp(), copyfilename), dtype='int16', mode='w+', shape=(rawdata.shape[0],rawdata.shape[1]-1))\n",
    "copydata = np.memmap(copyfilename, dtype='int16', mode='w+', shape=(rawdata.shape[0],rawdata.shape[1]-1))\n",
    "# copydata = np.memmap(copyfilename, dtype='int16', mode='r+', shape=(rawdata.shape[0],rawdata.shape[1]-1))"
   ]
  },
  {
   "cell_type": "code",
   "execution_count": 18,
   "metadata": {},
   "outputs": [
    {
     "name": "stdout",
     "output_type": "stream",
     "text": [
      "[[0 0 0 0 0]\n",
      " [0 0 0 0 0]\n",
      " [0 0 0 0 0]\n",
      " [0 0 0 0 0]\n",
      " [0 0 0 0 0]]\n"
     ]
    }
   ],
   "source": [
    "print(copydata[:5, :5])"
   ]
  },
  {
   "cell_type": "code",
   "execution_count": 19,
   "metadata": {},
   "outputs": [],
   "source": [
    "copydata[:,:] = rawdata[:,:-1]\n",
    "## copydata = rawdata[:,:-1] DOES NOT WORK!!!"
   ]
  },
  {
   "cell_type": "code",
   "execution_count": 20,
   "metadata": {},
   "outputs": [
    {
     "name": "stdout",
     "output_type": "stream",
     "text": [
      "[[  0   1   2   3   4]\n",
      " [ 33  34  35  36  37]\n",
      " [ 66  67  68  69  70]\n",
      " [ 99 100 101 102 103]\n",
      " [132 133 134 135 136]]\n",
      "(500, 32)\n",
      "<class 'numpy.memmap'>\n"
     ]
    }
   ],
   "source": [
    "print(copydata[:5, :5])\n",
    "print(copydata.shape)\n",
    "print(type(copydata))"
   ]
  },
  {
   "cell_type": "code",
   "execution_count": 21,
   "metadata": {},
   "outputs": [],
   "source": [
    "copydata.flush()\n",
    "# del copydata"
   ]
  },
  {
   "cell_type": "markdown",
   "metadata": {},
   "source": [
    "#### Test it"
   ]
  },
  {
   "cell_type": "code",
   "execution_count": 7,
   "metadata": {},
   "outputs": [
    {
     "name": "stdout",
     "output_type": "stream",
     "text": [
      "(16000,)\n",
      "[    0     1     2 ... 16496 16497 16498]\n"
     ]
    }
   ],
   "source": [
    "tcdata = np.memmap(copyfilename, dtype='int16', mode='r')\n",
    "print(tcdata.shape)\n",
    "print(tcdata)"
   ]
  },
  {
   "cell_type": "markdown",
   "metadata": {},
   "source": [
    "#### Try deleting values"
   ]
  },
  {
   "cell_type": "raw",
   "metadata": {},
   "source": [
    "## This does not delete anything from newfp ##\n",
    "newfp = np.memmap(tfilename, dtype='int16', mode='r+')\n",
    "refp = np.reshape(newfp, (10, 4))\n",
    "refp = refp[:, :-1]\n",
    "\n",
    "## This does change values in newfp ##\n",
    "newfp = np.memmap(tfilename, dtype='int16', mode='r+')\n",
    "refp = np.reshape(newfp, (10, 4))\n",
    "refp[0,2] = 42\n",
    "del newfp # and this flushed changes to disk"
   ]
  },
  {
   "cell_type": "raw",
   "metadata": {},
   "source": [
    "## Tried reshaping upon loading then deleting, neither worked ##\n",
    "newfp = np.memmap(tfilename, dtype='int16', mode='r+', shape=(10,4))\n",
    "newfp = newfp[:, :-1]\n",
    "del newfp\n",
    "\n",
    "newfp = np.memmap(tfilename, dtype='int16', mode='r+', shape=(10,4))\n",
    "newfp = newfp[:, :-1]\n",
    "newfp.flush()"
   ]
  },
  {
   "cell_type": "markdown",
   "metadata": {},
   "source": [
    "# Testing weird continuous.dat files"
   ]
  },
  {
   "cell_type": "markdown",
   "metadata": {},
   "source": [
    "#### Load EEGexp object"
   ]
  },
  {
   "cell_type": "code",
   "execution_count": 5,
   "metadata": {},
   "outputs": [
    {
     "name": "stdout",
     "output_type": "stream",
     "text": [
      "Experiment type: electrical and sensory stimulation\n"
     ]
    }
   ],
   "source": [
    "## this is the broken one ##\n",
    "rec1 = r'P:\\mouse689239\\NOT_Finished_Sorting_urethane_2023-08-11_11-33-46\\experiment1\\recording1'\n",
    "exp1 = EEGexp(rec1, preprocess=False, make_stim_csv=False)"
   ]
  },
  {
   "cell_type": "raw",
   "metadata": {},
   "source": [
    "## this one whould work ##\n",
    "rec1 = r'P:\\mouse654182\\urethane_vis_2022-12-02_11-02-25\\experiment1\\recording1'\n",
    "exp1 = EEGexp(rec1, preprocess=False, make_stim_csv=False)"
   ]
  },
  {
   "cell_type": "code",
   "execution_count": 6,
   "metadata": {},
   "outputs": [
    {
     "data": {
      "text/plain": [
       "['probeB_sorted',\n",
       " 'probeC_sorted',\n",
       " 'probeD_sorted',\n",
       " 'probeF_sorted',\n",
       " 'recording1']"
      ]
     },
     "execution_count": 6,
     "metadata": {},
     "output_type": "execute_result"
    }
   ],
   "source": [
    "exp1.experiment_data"
   ]
  },
  {
   "cell_type": "code",
   "execution_count": 7,
   "metadata": {},
   "outputs": [
    {
     "name": "stdout",
     "output_type": "stream",
     "text": [
      "probeB\n",
      " data length = 60988010160\n",
      " timestamp length = 158410416\n",
      " extra samples = 48\n",
      "\n",
      "probeC\n",
      " data length = 60988125660\n",
      " timestamp length = 158410716\n",
      " extra samples = 348\n",
      "\n",
      "probeD\n",
      " data length = 60988005540\n",
      " timestamp length = 158410404\n",
      " extra samples = 36\n",
      "\n",
      "probeF\n",
      " data length = 60987987060\n",
      " timestamp length = 158410356\n",
      " extra samples = 372\n",
      "\n"
     ]
    }
   ],
   "source": [
    "for datatype in exp1.experiment_data:\n",
    "    if 'probe' in datatype:\n",
    "        print(datatype[:6])\n",
    "        # make paths\n",
    "        ap_raw = exp1.ephys_params[datatype[:6]]['ap_continuous']\n",
    "        ap_time_path = exp1.ephys_params[datatype[:6]]['ap_timestamps']\n",
    "        # get raw data length\n",
    "        rawDatamm = np.memmap(ap_raw, dtype='int16', mode='r') # r+ will allow the file to be changed\n",
    "        timestamps = np.load(ap_time_path)\n",
    "        print(' data length = {:d}'.format(len(rawDatamm)))\n",
    "        print(' timestamp length = {:d}'.format(len(timestamps)))\n",
    "        print(' extra samples = {:d}'.format(len(rawDatamm)%384))\n",
    "        print('')"
   ]
  },
  {
   "cell_type": "code",
   "execution_count": null,
   "metadata": {},
   "outputs": [],
   "source": [
    "exp1.ephys_params['probeB']['num_chs']"
   ]
  },
  {
   "cell_type": "code",
   "execution_count": null,
   "metadata": {},
   "outputs": [],
   "source": [
    "60988005540 / 158410404"
   ]
  },
  {
   "cell_type": "markdown",
   "metadata": {},
   "source": [
    "Plot some data at beginning and end."
   ]
  },
  {
   "cell_type": "raw",
   "metadata": {},
   "source": [
    "pdata = rawDatamm[-5000:]\n",
    "\n",
    "fig, ax = plt.subplots(constrained_layout=True)\n",
    "ax.plot(pdata)"
   ]
  },
  {
   "cell_type": "markdown",
   "metadata": {},
   "source": [
    "Why are there 385 chs?? Ch 385 is empty, need to remove from AP and probably LFP, too."
   ]
  },
  {
   "cell_type": "code",
   "execution_count": null,
   "metadata": {},
   "outputs": [],
   "source": [
    "testprobe = 'probeF'\n",
    "# filepaths\n",
    "ap_raw = exp1.ephys_params[testprobe]['ap_continuous']\n",
    "ap_time_path = exp1.ephys_params[testprobe]['ap_timestamps']\n",
    "# get raw data length\n",
    "rawDatamm = np.memmap(ap_raw, dtype='int16', mode='r') # r+ will allow the file to be changed\n",
    "timestamps = np.load(ap_time_path)"
   ]
  },
  {
   "cell_type": "code",
   "execution_count": null,
   "metadata": {},
   "outputs": [],
   "source": [
    "numCh = 385\n",
    "# datamm = np.reshape(rawDatamm, (int(rawDatamm.size/numCh), numCh))\n",
    "datamm = np.reshape(rawDatamm, (numCh, int(rawDatamm.size/numCh)), order='F')"
   ]
  },
  {
   "cell_type": "code",
   "execution_count": null,
   "metadata": {},
   "outputs": [],
   "source": [
    "print(datamm.shape)\n",
    "print(timestamps.shape)"
   ]
  },
  {
   "cell_type": "code",
   "execution_count": null,
   "metadata": {},
   "outputs": [],
   "source": [
    "fig, ax = plt.subplots(constrained_layout=True)\n",
    "ax.plot(datamm[-2:, :100].T)"
   ]
  },
  {
   "cell_type": "code",
   "execution_count": null,
   "metadata": {},
   "outputs": [],
   "source": []
  }
 ],
 "metadata": {
  "kernelspec": {
   "display_name": "tbd_eeg",
   "language": "python",
   "name": "tbd_eeg"
  },
  "language_info": {
   "codemirror_mode": {
    "name": "ipython",
    "version": 3
   },
   "file_extension": ".py",
   "mimetype": "text/x-python",
   "name": "python",
   "nbconvert_exporter": "python",
   "pygments_lexer": "ipython3",
   "version": "3.7.13"
  }
 },
 "nbformat": 4,
 "nbformat_minor": 2
}
