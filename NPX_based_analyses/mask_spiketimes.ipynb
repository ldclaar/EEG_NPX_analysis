{
 "cells": [
  {
   "cell_type": "code",
   "execution_count": 2,
   "metadata": {},
   "outputs": [],
   "source": [
    "import os\n",
    "import sys\n",
    "import json\n",
    "import time\n",
    "import numpy as np\n",
    "import pandas as pd\n",
    "import matplotlib.pyplot as plt\n",
    "from scipy import signal\n",
    "from pathlib import Path\n",
    "import random"
   ]
  },
  {
   "cell_type": "code",
   "execution_count": 2,
   "metadata": {},
   "outputs": [],
   "source": [
    "sys.path.append(r'C:\\Users\\lesliec\\code')"
   ]
  },
  {
   "cell_type": "code",
   "execution_count": 3,
   "metadata": {},
   "outputs": [],
   "source": [
    "from tbd_eeg.tbd_eeg.data_analysis.eegutils import EEGexp"
   ]
  },
  {
   "cell_type": "code",
   "execution_count": 4,
   "metadata": {},
   "outputs": [],
   "source": [
    "%matplotlib qt"
   ]
  },
  {
   "cell_type": "markdown",
   "metadata": {},
   "source": [
    "#### Load EEGexp object"
   ]
  },
  {
   "cell_type": "code",
   "execution_count": 5,
   "metadata": {},
   "outputs": [
    {
     "name": "stdout",
     "output_type": "stream",
     "text": [
      "Experiment type: electrical and sensory stimulation\n",
      "SomnoSuite log file not found.\n"
     ]
    }
   ],
   "source": [
    "rec_folder = r'F:\\EEG_exp\\mouse543396\\estim_vis1_autosort\\experiment1\\recording1' # points to folder containing stim_table.csv\n",
    "exp = EEGexp(rec_folder, preprocess=False, make_stim_csv=False)"
   ]
  },
  {
   "cell_type": "code",
   "execution_count": 6,
   "metadata": {},
   "outputs": [],
   "source": [
    "mask_probe = 'probeC'"
   ]
  },
  {
   "cell_type": "code",
   "execution_count": 7,
   "metadata": {},
   "outputs": [],
   "source": [
    "# make paths\n",
    "stim_log_path = exp.stimulus_log_file\n",
    "probe_info = exp.ephys_params[mask_probe]['probe_info']\n",
    "ap_time_path = exp.ephys_params[mask_probe]['ap_timestamps']\n",
    "# spike_times\n",
    "spike_times_path = exp.ephys_params[mask_probe]['spike_times']\n",
    "spike_clusters_path = exp.ephys_params[mask_probe]['spike_clusters']\n",
    "\n",
    "# paths for artifact (this code creates these files at the end, not necessary to have them, but should specify where you want them saved)\n",
    "arttimes_path = os.path.join(exp.experiment_folder, (mask_probe + '_sorted'), 'artifact_onset_master_clock.npy')\n",
    "maskdur_path = os.path.join(exp.experiment_folder, (mask_probe + '_sorted'), 'mask_sampleduration.npy')"
   ]
  },
  {
   "cell_type": "markdown",
   "metadata": {},
   "source": [
    "### Align spike_times to master clock"
   ]
  },
  {
   "cell_type": "code",
   "execution_count": 8,
   "metadata": {},
   "outputs": [],
   "source": [
    "# load AP master timestamps and spike_times (which is in samples)\n",
    "APmaster_time = np.load(ap_time_path)\n",
    "spike_times = np.load(spike_times_path.replace('_master_clock', ''))"
   ]
  },
  {
   "cell_type": "code",
   "execution_count": 1,
   "metadata": {},
   "outputs": [
    {
     "ename": "NameError",
     "evalue": "name 'APmaster_time' is not defined",
     "output_type": "error",
     "traceback": [
      "\u001b[1;31m---------------------------------------------------------------------------\u001b[0m",
      "\u001b[1;31mNameError\u001b[0m                                 Traceback (most recent call last)",
      "\u001b[1;32m<ipython-input-1-6eb44361fb29>\u001b[0m in \u001b[0;36m<module>\u001b[1;34m\u001b[0m\n\u001b[1;32m----> 1\u001b[1;33m \u001b[0mspike_times_master\u001b[0m \u001b[1;33m=\u001b[0m \u001b[0mAPmaster_time\u001b[0m\u001b[1;33m[\u001b[0m\u001b[0mspike_times\u001b[0m\u001b[1;33m]\u001b[0m\u001b[1;33m\u001b[0m\u001b[0m\n\u001b[0m",
      "\u001b[1;31mNameError\u001b[0m: name 'APmaster_time' is not defined"
     ]
    }
   ],
   "source": [
    "spike_times_master = APmaster_time[spike_times]"
   ]
  },
  {
   "cell_type": "code",
   "execution_count": 10,
   "metadata": {},
   "outputs": [
    {
     "name": "stdout",
     "output_type": "stream",
     "text": [
      "3566769\n",
      "[20.7764865  20.77821984 20.77871984 20.77975317 20.78091984]\n",
      "[3227.82743578 3227.82786911 3227.82830244 3227.82863578 3227.83050245]\n"
     ]
    }
   ],
   "source": [
    "print(len(spike_times_master))\n",
    "print(spike_times_master[0:5])\n",
    "print(spike_times_master[-5:])"
   ]
  },
  {
   "cell_type": "raw",
   "metadata": {},
   "source": [
    "# save spike times master\n",
    "np.save(spike_times_path, spike_times_master, allow_pickle=False)"
   ]
  },
  {
   "cell_type": "markdown",
   "metadata": {},
   "source": [
    "### Mask spike times during artifact"
   ]
  },
  {
   "cell_type": "code",
   "execution_count": 8,
   "metadata": {},
   "outputs": [],
   "source": [
    "# load files\n",
    "master_spike_times = np.load(spike_times_path)\n",
    "spike_clusters = np.load(spike_clusters_path)\n",
    "\n",
    "artifact_onset = np.load(arttimes_path)\n",
    "mask_duration = np.load(maskdur_path)"
   ]
  },
  {
   "cell_type": "code",
   "execution_count": 9,
   "metadata": {},
   "outputs": [
    {
     "name": "stdout",
     "output_type": "stream",
     "text": [
      "(3566769,)\n",
      "(3566769,)\n",
      "(300,)\n",
      "[33.63932953 37.74173262 41.50513545 45.65963859 49.84927508]\n",
      "60\n"
     ]
    }
   ],
   "source": [
    "print(master_spike_times.shape)\n",
    "print(spike_clusters.shape)\n",
    "print(artifact_onset.shape)\n",
    "print(artifact_onset[0:5])\n",
    "print(mask_duration)"
   ]
  },
  {
   "cell_type": "code",
   "execution_count": 10,
   "metadata": {},
   "outputs": [
    {
     "data": {
      "text/plain": [
       "0"
      ]
     },
     "execution_count": 10,
     "metadata": {},
     "output_type": "execute_result"
    }
   ],
   "source": [
    "np.sum(np.isnan(master_spike_times))"
   ]
  },
  {
   "cell_type": "code",
   "execution_count": 11,
   "metadata": {},
   "outputs": [
    {
     "data": {
      "text/plain": [
       "0"
      ]
     },
     "execution_count": 11,
     "metadata": {},
     "output_type": "execute_result"
    }
   ],
   "source": [
    "np.sum(np.isnan(artifact_onset))"
   ]
  },
  {
   "cell_type": "markdown",
   "metadata": {},
   "source": [
    "#### Goal: identify any spike_times that occur during the masked artifact times (these spikes should be ignored). Once identified the spikes will be associated with a distinct cluster id, to be flagged as noise during phy clustering."
   ]
  },
  {
   "cell_type": "code",
   "execution_count": 12,
   "metadata": {},
   "outputs": [
    {
     "name": "stdout",
     "output_type": "stream",
     "text": [
      "365\n"
     ]
    }
   ],
   "source": [
    "print(spike_clusters.max())"
   ]
  },
  {
   "cell_type": "code",
   "execution_count": 13,
   "metadata": {},
   "outputs": [
    {
     "name": "stdout",
     "output_type": "stream",
     "text": [
      "uint32\n"
     ]
    }
   ],
   "source": [
    "print(spike_clusters.dtype)"
   ]
  },
  {
   "cell_type": "code",
   "execution_count": 14,
   "metadata": {},
   "outputs": [
    {
     "name": "stdout",
     "output_type": "stream",
     "text": [
      "0.002\n"
     ]
    }
   ],
   "source": [
    "print(mask_duration/30000)"
   ]
  },
  {
   "cell_type": "code",
   "execution_count": 15,
   "metadata": {},
   "outputs": [],
   "source": [
    "mask_spikes = np.zeros((0,), dtype='int')\n",
    "for ind, arton in enumerate(artifact_onset):\n",
    "    if np.isnan(arton):\n",
    "        continue\n",
    "    else:\n",
    "        art_spikes = np.where((master_spike_times > arton) & (master_spike_times < (arton + (mask_duration/30000))))[0]\n",
    "        mask_spikes = np.concatenate((mask_spikes, art_spikes))"
   ]
  },
  {
   "cell_type": "code",
   "execution_count": 16,
   "metadata": {},
   "outputs": [
    {
     "name": "stdout",
     "output_type": "stream",
     "text": [
      "(446,)\n",
      "[33808 33809 33810 43238 43239 51846 51847 62359 62360 62361]\n"
     ]
    }
   ],
   "source": [
    "print(mask_spikes.shape)\n",
    "print(mask_spikes[0:10])"
   ]
  },
  {
   "cell_type": "markdown",
   "metadata": {},
   "source": [
    "#### With artifact mask associated spikes identified, now change their cluster id to next highest cluster number."
   ]
  },
  {
   "cell_type": "code",
   "execution_count": 17,
   "metadata": {},
   "outputs": [],
   "source": [
    "spike_clusters[mask_spikes] = spike_clusters.max()+1"
   ]
  },
  {
   "cell_type": "markdown",
   "metadata": {},
   "source": [
    "#### Now save updated spike clusters"
   ]
  },
  {
   "cell_type": "code",
   "execution_count": 18,
   "metadata": {},
   "outputs": [],
   "source": [
    "np.save(spike_clusters_path, spike_clusters)"
   ]
  },
  {
   "cell_type": "code",
   "execution_count": null,
   "metadata": {},
   "outputs": [],
   "source": []
  }
 ],
 "metadata": {
  "kernelspec": {
   "display_name": "tbd1",
   "language": "python",
   "name": "tbd1"
  },
  "language_info": {
   "codemirror_mode": {
    "name": "ipython",
    "version": 3
   },
   "file_extension": ".py",
   "mimetype": "text/x-python",
   "name": "python",
   "nbconvert_exporter": "python",
   "pygments_lexer": "ipython3",
   "version": "3.7.13"
  }
 },
 "nbformat": 4,
 "nbformat_minor": 2
}
