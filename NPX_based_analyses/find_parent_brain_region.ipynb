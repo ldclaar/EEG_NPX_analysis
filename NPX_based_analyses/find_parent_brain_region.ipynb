{
 "cells": [
  {
   "cell_type": "code",
   "execution_count": 1,
   "metadata": {},
   "outputs": [],
   "source": [
    "from datetime import date\n",
    "from glob import glob\n",
    "import json\n",
    "import math\n",
    "import os\n",
    "import pickle\n",
    "import sys\n",
    "import time\n",
    "\n",
    "import gspread\n",
    "import numpy as np\n",
    "import pandas as pd\n",
    "import matplotlib.pyplot as plt\n",
    "from matplotlib.lines import Line2D\n",
    "from matplotlib.patches import Patch\n",
    "from scipy import integrate, interpolate, stats"
   ]
  },
  {
   "cell_type": "code",
   "execution_count": 2,
   "metadata": {},
   "outputs": [],
   "source": [
    "sys.path.append(r'C:\\Users\\lesliec\\code')"
   ]
  },
  {
   "cell_type": "code",
   "execution_count": 3,
   "metadata": {},
   "outputs": [],
   "source": [
    "from tbd_eeg.tbd_eeg.data_analysis.eegutils import EEGexp"
   ]
  },
  {
   "cell_type": "code",
   "execution_count": 4,
   "metadata": {},
   "outputs": [],
   "source": [
    "from allensdk.core.mouse_connectivity_cache import MouseConnectivityCache"
   ]
  },
  {
   "cell_type": "code",
   "execution_count": 5,
   "metadata": {},
   "outputs": [],
   "source": [
    "%matplotlib notebook"
   ]
  },
  {
   "cell_type": "markdown",
   "metadata": {},
   "source": [
    "#### Functions"
   ]
  },
  {
   "cell_type": "code",
   "execution_count": 6,
   "metadata": {},
   "outputs": [],
   "source": [
    "def find_closest_region(sunit_info, struct_tree, annot):\n",
    "    ## Finds a grey matter region above/below an unknown region ##\n",
    "    Vind = sunit_info.CCF_DV\n",
    "    vent_sip = struct_tree.get_structures_by_id([annot[sunit_info.CCF_AP, Vind, sunit_info.CCF_ML]])[0]['structure_id_path']\n",
    "    while not struct_tree.structure_descends_from(vent_sip[-1], 8):\n",
    "        Vind += 1\n",
    "        vent_sip = struct_tree.get_structures_by_id([annot[sunit_info.CCF_AP, Vind, sunit_info.CCF_ML]])[0]['structure_id_path']\n",
    "\n",
    "    Dind = sunit_info.CCF_DV\n",
    "    dors_sip = struct_tree.get_structures_by_id([annot[sunit_info.CCF_AP, Dind, sunit_info.CCF_ML]])[0]['structure_id_path']\n",
    "    while not struct_tree.structure_descends_from(dors_sip[-1], 8):\n",
    "        Dind -= 1\n",
    "        dors_sip = struct_tree.get_structures_by_id([annot[sunit_info.CCF_AP, Dind, sunit_info.CCF_ML]])[0]['structure_id_path']\n",
    "\n",
    "    if (Vind - sunit_info.CCF_DV) <= (sunit_info.CCF_DV - Dind):\n",
    "        return struct_tree.get_structures_by_id([vent_sip[-1]])[0]['acronym']\n",
    "    elif (Vind - sunit_info.CCF_DV) > (sunit_info.CCF_DV - Dind):\n",
    "        return struct_tree.get_structures_by_id([dors_sip[-1]])[0]['acronym']"
   ]
  },
  {
   "cell_type": "code",
   "execution_count": 36,
   "metadata": {},
   "outputs": [],
   "source": [
    "def get_region_from_children(test_id, parent_id, struct_tree):\n",
    "    try:\n",
    "        child_ind = np.nonzero([\n",
    "            struct_tree.structure_descends_from(test_id, x) for x in struct_tree.child_ids([parent_id])[0]\n",
    "        ])[0][0]\n",
    "        return struct_tree.get_structures_by_id([struct_tree.child_ids([parent_id])[0][child_ind]])[0]['acronym']\n",
    "    except:\n",
    "        return struct_tree.get_structures_by_id([parent_id])[0]['acronym']"
   ]
  },
  {
   "cell_type": "code",
   "execution_count": 8,
   "metadata": {},
   "outputs": [],
   "source": [
    "def get_parent_region(region_acronym, struct_tree):\n",
    "    areas_of_interest = {\n",
    "        'SM-TH': ['AV', 'CL', 'MD', 'PO', 'PF', 'VAL', 'VPL', 'VPM', 'VM'],\n",
    "    }\n",
    "    \n",
    "    reg_id = struct_tree.get_structures_by_acronym([region_acronym])[0]['id']\n",
    "    if struct_tree.structure_descends_from(reg_id, 567):\n",
    "        if struct_tree.structure_descends_from(reg_id, 315):\n",
    "            return get_region_from_children(reg_id, 315, struct_tree)\n",
    "        elif struct_tree.structure_descends_from(reg_id, 698):\n",
    "            return 'OLF'\n",
    "        elif struct_tree.structure_descends_from(reg_id, 1089):\n",
    "            return get_region_from_children(reg_id, 1089, struct_tree)\n",
    "        elif struct_tree.structure_descends_from(reg_id, 703):\n",
    "            return get_region_from_children(reg_id, 703, struct_tree)\n",
    "        elif struct_tree.structure_descends_from(reg_id, 477):\n",
    "            return 'STR'\n",
    "        elif struct_tree.structure_descends_from(reg_id, 803):\n",
    "            return 'PAL'\n",
    "        else:\n",
    "            return 'unassigned'\n",
    "    elif struct_tree.structure_descends_from(reg_id, 343):\n",
    "        if struct_tree.structure_descends_from(reg_id, 1129):\n",
    "            if region_acronym == 'RT':\n",
    "                return 'RT-TH'\n",
    "            elif region_acronym in areas_of_interest['SM-TH']:\n",
    "                return 'SM-TH'\n",
    "            else:\n",
    "                return 'other-TH'\n",
    "        elif struct_tree.structure_descends_from(reg_id, 1097):\n",
    "            return 'HY'\n",
    "        else:\n",
    "            return get_region_from_children(reg_id, 343, struct_tree)\n",
    "    else:\n",
    "        return 'unassigned'"
   ]
  },
  {
   "cell_type": "code",
   "execution_count": 9,
   "metadata": {},
   "outputs": [],
   "source": [
    "def add_parent_region_to_df(unit_info_df, struct_tree, annot):\n",
    "    ## First, make sure all names in region column correspond to a CCF region (removes nan values) ##\n",
    "    adj_regions = unit_info_df['region'].values.copy()\n",
    "    for indi, rowi in unit_info_df.iterrows():\n",
    "        try:\n",
    "            str_info = struct_tree.get_structures_by_acronym([rowi.region])[0]\n",
    "        except KeyError:\n",
    "            if rowi.depth <= 0: # unit was placed above brain\n",
    "                new_region_id = annot[rowi.CCF_AP, np.nonzero(annot[rowi.CCF_AP, :, rowi.CCF_ML])[0][0], rowi.CCF_ML]\n",
    "                adj_regions[indi] = struct_tree.get_structures_by_id([new_region_id])[0]['acronym']\n",
    "            else:\n",
    "                Lind = rowi.CCF_ML\n",
    "                while annot[rowi.CCF_AP, rowi.CCF_DV, Lind] == 0:\n",
    "                    Lind -= 1\n",
    "                new_region_id = struct_tree.get_structures_by_id(\n",
    "                    [annot[rowi.CCF_AP, rowi.CCF_DV, Lind]])[0]['structure_id_path'][-1]\n",
    "                adj_regions[indi] = struct_tree.get_structures_by_id([new_region_id])[0]['acronym']\n",
    "    unit_info_df['adj_region'] = adj_regions\n",
    "    \n",
    "    ## Second, re-assign any non-grey matter areas to the closest region ##\n",
    "    adj_regions = unit_info_df['adj_region'].values.copy()\n",
    "    for indi, rowi in unit_info_df.iterrows():\n",
    "        reg_id = struct_tree.get_structures_by_acronym([rowi.adj_region])[0]['id']\n",
    "        if not struct_tree.structure_descends_from(reg_id, 8):\n",
    "            adj_regions[indi] = find_closest_region(rowi, struct_tree, annot)\n",
    "    unit_info_df['adj_region'] = adj_regions\n",
    "    \n",
    "    ## Finally, assign a parent region to each adjusted CCF region ##\n",
    "    parent_regions = unit_info_df['adj_region'].values.copy()\n",
    "    for indi, rowi in unit_info_df.iterrows():\n",
    "        parent_regions[indi] = get_parent_region(rowi.adj_region, struct_tree)\n",
    "    unit_info_df['parent_region'] = parent_regions\n",
    "    \n",
    "    return unit_info_df.drop('adj_region', axis=1)"
   ]
  },
  {
   "cell_type": "markdown",
   "metadata": {},
   "source": [
    "#### Load CCF structure tree"
   ]
  },
  {
   "cell_type": "markdown",
   "metadata": {},
   "source": [
    "The resolution of the CCF matters!!!"
   ]
  },
  {
   "cell_type": "code",
   "execution_count": 10,
   "metadata": {},
   "outputs": [],
   "source": [
    "mcc = MouseConnectivityCache(resolution=10)\n",
    "str_tree = mcc.get_structure_tree()\n",
    "annot, annot_info = mcc.get_annotation_volume()"
   ]
  },
  {
   "cell_type": "markdown",
   "metadata": {},
   "source": [
    "### Load subjects"
   ]
  },
  {
   "cell_type": "code",
   "execution_count": 11,
   "metadata": {},
   "outputs": [],
   "source": [
    "multisub_file = r\"C:\\Users\\lesliec\\OneDrive - Allen Institute\\data\\brain_states_subjects.csv\"\n",
    "subject_df = pd.read_csv(multisub_file, converters={'mouse': str}).astype({'analyze': bool})"
   ]
  },
  {
   "cell_type": "code",
   "execution_count": 13,
   "metadata": {},
   "outputs": [
    {
     "data": {
      "text/html": [
       "<div>\n",
       "<style scoped>\n",
       "    .dataframe tbody tr th:only-of-type {\n",
       "        vertical-align: middle;\n",
       "    }\n",
       "\n",
       "    .dataframe tbody tr th {\n",
       "        vertical-align: top;\n",
       "    }\n",
       "\n",
       "    .dataframe thead th {\n",
       "        text-align: right;\n",
       "    }\n",
       "</style>\n",
       "<table border=\"1\" class=\"dataframe\">\n",
       "  <thead>\n",
       "    <tr style=\"text-align: right;\">\n",
       "      <th></th>\n",
       "      <th>exp_type</th>\n",
       "      <th>mouse</th>\n",
       "      <th>experiment</th>\n",
       "      <th>sweep_states</th>\n",
       "      <th>stim_depth</th>\n",
       "      <th>bad_chs</th>\n",
       "      <th>analyze</th>\n",
       "      <th>data_loc</th>\n",
       "      <th>CCF_res</th>\n",
       "      <th>notes</th>\n",
       "    </tr>\n",
       "  </thead>\n",
       "  <tbody>\n",
       "    <tr>\n",
       "      <th>20</th>\n",
       "      <td>isoflurane</td>\n",
       "      <td>569062</td>\n",
       "      <td>estim_vis_2021-02-18_11-17-51</td>\n",
       "      <td>awake,isoflurane,recovery</td>\n",
       "      <td>deep</td>\n",
       "      <td>6,13</td>\n",
       "      <td>True</td>\n",
       "      <td>F:\\ZZmanuscript_eLife\\mouse569062\\estim_vis_20...</td>\n",
       "      <td>10</td>\n",
       "      <td>NaN</td>\n",
       "    </tr>\n",
       "    <tr>\n",
       "      <th>21</th>\n",
       "      <td>isoflurane</td>\n",
       "      <td>569064</td>\n",
       "      <td>estim_vis_2021-04-08_10-28-24</td>\n",
       "      <td>awake,isoflurane,recovery,recovery</td>\n",
       "      <td>deep</td>\n",
       "      <td>none</td>\n",
       "      <td>True</td>\n",
       "      <td>F:\\ZZmanuscript_eLife\\mouse569064\\estim_vis_20...</td>\n",
       "      <td>10</td>\n",
       "      <td>NaN</td>\n",
       "    </tr>\n",
       "    <tr>\n",
       "      <th>22</th>\n",
       "      <td>isoflurane</td>\n",
       "      <td>569068</td>\n",
       "      <td>estim_vis_2021-03-04_10-51-38</td>\n",
       "      <td>awake,isoflurane,recovery,recovery</td>\n",
       "      <td>deep</td>\n",
       "      <td>none</td>\n",
       "      <td>True</td>\n",
       "      <td>F:\\ZZmanuscript_eLife\\mouse569068\\estim_vis_20...</td>\n",
       "      <td>10</td>\n",
       "      <td>NaN</td>\n",
       "    </tr>\n",
       "    <tr>\n",
       "      <th>23</th>\n",
       "      <td>isoflurane</td>\n",
       "      <td>569069</td>\n",
       "      <td>estim_vis2_2021-03-12_10-52-44</td>\n",
       "      <td>awake,isoflurane,recovery,recovery</td>\n",
       "      <td>deep</td>\n",
       "      <td>7,8,9,10,11,12,13,14</td>\n",
       "      <td>True</td>\n",
       "      <td>F:\\ZZmanuscript_eLife\\mouse569069\\estim_vis2_2...</td>\n",
       "      <td>10</td>\n",
       "      <td>NaN</td>\n",
       "    </tr>\n",
       "    <tr>\n",
       "      <th>24</th>\n",
       "      <td>isoflurane</td>\n",
       "      <td>569070</td>\n",
       "      <td>estim1_2021-04-01_10-27-33</td>\n",
       "      <td>awake,isoflurane,isoflurane,recovery</td>\n",
       "      <td>deep,deep,ignore,ignore</td>\n",
       "      <td>2,3,4,13</td>\n",
       "      <td>False</td>\n",
       "      <td>F:\\ZZmanuscript_eLife\\mouse569070\\estim1_2021-...</td>\n",
       "      <td>10</td>\n",
       "      <td>anterior MOs with 2 depths, no brain area assi...</td>\n",
       "    </tr>\n",
       "    <tr>\n",
       "      <th>25</th>\n",
       "      <td>isoflurane</td>\n",
       "      <td>569073</td>\n",
       "      <td>estim_vis_2021-04-15_10-27-22</td>\n",
       "      <td>awake,isoflurane,isoflurane,recovery,recovery</td>\n",
       "      <td>deep</td>\n",
       "      <td>3,4,13</td>\n",
       "      <td>True</td>\n",
       "      <td>F:\\ZZmanuscript_eLife\\mouse569073\\estim_vis_20...</td>\n",
       "      <td>10</td>\n",
       "      <td>NaN</td>\n",
       "    </tr>\n",
       "    <tr>\n",
       "      <th>26</th>\n",
       "      <td>isoflurane</td>\n",
       "      <td>571619</td>\n",
       "      <td>estim2_2021-03-19_10-09-01</td>\n",
       "      <td>awake,awake,isoflurane,isoflurane</td>\n",
       "      <td>superficial,deep,deep,superficial</td>\n",
       "      <td>2,3,4,5,8,13</td>\n",
       "      <td>True</td>\n",
       "      <td>F:\\ZZmanuscript_eLife\\mouse571619\\estim2_2021-...</td>\n",
       "      <td>10</td>\n",
       "      <td>anterior MOs with 2 depths</td>\n",
       "    </tr>\n",
       "    <tr>\n",
       "      <th>27</th>\n",
       "      <td>awake</td>\n",
       "      <td>666193</td>\n",
       "      <td>pilot_aw_2023-02-15_11-44-11</td>\n",
       "      <td>awake</td>\n",
       "      <td>deep</td>\n",
       "      <td>24</td>\n",
       "      <td>True</td>\n",
       "      <td>F:\\psi_exp\\mouse666193\\pilot_aw_2023-02-15_11-...</td>\n",
       "      <td>25</td>\n",
       "      <td>NaN</td>\n",
       "    </tr>\n",
       "    <tr>\n",
       "      <th>28</th>\n",
       "      <td>awake</td>\n",
       "      <td>666194</td>\n",
       "      <td>pilot_aw_2023-02-22_12-32-58</td>\n",
       "      <td>awake</td>\n",
       "      <td>deep</td>\n",
       "      <td>13,14</td>\n",
       "      <td>True</td>\n",
       "      <td>F:\\psi_exp\\mouse666194\\pilot_aw_2023-02-22_12-...</td>\n",
       "      <td>25</td>\n",
       "      <td>NaN</td>\n",
       "    </tr>\n",
       "  </tbody>\n",
       "</table>\n",
       "</div>"
      ],
      "text/plain": [
       "      exp_type   mouse                      experiment  \\\n",
       "20  isoflurane  569062   estim_vis_2021-02-18_11-17-51   \n",
       "21  isoflurane  569064   estim_vis_2021-04-08_10-28-24   \n",
       "22  isoflurane  569068   estim_vis_2021-03-04_10-51-38   \n",
       "23  isoflurane  569069  estim_vis2_2021-03-12_10-52-44   \n",
       "24  isoflurane  569070      estim1_2021-04-01_10-27-33   \n",
       "25  isoflurane  569073   estim_vis_2021-04-15_10-27-22   \n",
       "26  isoflurane  571619      estim2_2021-03-19_10-09-01   \n",
       "27       awake  666193    pilot_aw_2023-02-15_11-44-11   \n",
       "28       awake  666194    pilot_aw_2023-02-22_12-32-58   \n",
       "\n",
       "                                     sweep_states  \\\n",
       "20                      awake,isoflurane,recovery   \n",
       "21             awake,isoflurane,recovery,recovery   \n",
       "22             awake,isoflurane,recovery,recovery   \n",
       "23             awake,isoflurane,recovery,recovery   \n",
       "24           awake,isoflurane,isoflurane,recovery   \n",
       "25  awake,isoflurane,isoflurane,recovery,recovery   \n",
       "26              awake,awake,isoflurane,isoflurane   \n",
       "27                                          awake   \n",
       "28                                          awake   \n",
       "\n",
       "                           stim_depth               bad_chs  analyze  \\\n",
       "20                               deep                  6,13     True   \n",
       "21                               deep                  none     True   \n",
       "22                               deep                  none     True   \n",
       "23                               deep  7,8,9,10,11,12,13,14     True   \n",
       "24            deep,deep,ignore,ignore              2,3,4,13    False   \n",
       "25                               deep                3,4,13     True   \n",
       "26  superficial,deep,deep,superficial          2,3,4,5,8,13     True   \n",
       "27                               deep                    24     True   \n",
       "28                               deep                 13,14     True   \n",
       "\n",
       "                                             data_loc  CCF_res  \\\n",
       "20  F:\\ZZmanuscript_eLife\\mouse569062\\estim_vis_20...       10   \n",
       "21  F:\\ZZmanuscript_eLife\\mouse569064\\estim_vis_20...       10   \n",
       "22  F:\\ZZmanuscript_eLife\\mouse569068\\estim_vis_20...       10   \n",
       "23  F:\\ZZmanuscript_eLife\\mouse569069\\estim_vis2_2...       10   \n",
       "24  F:\\ZZmanuscript_eLife\\mouse569070\\estim1_2021-...       10   \n",
       "25  F:\\ZZmanuscript_eLife\\mouse569073\\estim_vis_20...       10   \n",
       "26  F:\\ZZmanuscript_eLife\\mouse571619\\estim2_2021-...       10   \n",
       "27  F:\\psi_exp\\mouse666193\\pilot_aw_2023-02-15_11-...       25   \n",
       "28  F:\\psi_exp\\mouse666194\\pilot_aw_2023-02-22_12-...       25   \n",
       "\n",
       "                                                notes  \n",
       "20                                                NaN  \n",
       "21                                                NaN  \n",
       "22                                                NaN  \n",
       "23                                                NaN  \n",
       "24  anterior MOs with 2 depths, no brain area assi...  \n",
       "25                                                NaN  \n",
       "26                         anterior MOs with 2 depths  \n",
       "27                                                NaN  \n",
       "28                                                NaN  "
      ]
     },
     "execution_count": 13,
     "metadata": {},
     "output_type": "execute_result"
    }
   ],
   "source": [
    "subject_df[20:]"
   ]
  },
  {
   "cell_type": "markdown",
   "metadata": {},
   "source": [
    "## Test with a single subject"
   ]
  },
  {
   "cell_type": "code",
   "execution_count": 44,
   "metadata": {},
   "outputs": [
    {
     "name": "stdout",
     "output_type": "stream",
     "text": [
      "569064\n",
      "Experiment type: electrical and sensory stimulation\n"
     ]
    }
   ],
   "source": [
    "subrow = subject_df.iloc[21]\n",
    "print(subrow.mouse)\n",
    "\n",
    "if not subrow.analyze:\n",
    "    print('Skipping {} - {} for now, missing data.\\n'.format(subrow.mouse, subrow.exp_type))\n",
    "else:\n",
    "    exp = EEGexp(subrow.data_loc, preprocess=False, make_stim_csv=False)"
   ]
  },
  {
   "cell_type": "markdown",
   "metadata": {},
   "source": [
    "### Load unit info dataframe"
   ]
  },
  {
   "cell_type": "code",
   "execution_count": 45,
   "metadata": {},
   "outputs": [],
   "source": [
    "## Load unit info ##\n",
    "fn_units_info = os.path.join(exp.data_folder, 'evoked_data', 'all_units_info.csv')\n",
    "if os.path.exists(fn_units_info):\n",
    "    unit_info = pd.read_csv(fn_units_info)\n",
    "    with open(os.path.join(exp.data_folder, 'evoked_data', 'units_event_spikes.pkl'), 'rb') as unit_file:\n",
    "        all_unit_event_spikes = pickle.load(unit_file)\n",
    "else:\n",
    "    print('{} not found. Not analyzing this subject.'.format(fn_units_stats))"
   ]
  },
  {
   "cell_type": "markdown",
   "metadata": {},
   "source": [
    "#### Test new function"
   ]
  },
  {
   "cell_type": "code",
   "execution_count": 46,
   "metadata": {},
   "outputs": [],
   "source": [
    "new_unit_info = add_parent_region_to_df(unit_info, str_tree, annot)"
   ]
  },
  {
   "cell_type": "code",
   "execution_count": 47,
   "metadata": {},
   "outputs": [
    {
     "data": {
      "text/plain": [
       "array(['ACA', 'HIP', 'HPF', 'MO', 'SS', 'VIS', 'other-TH'], dtype=object)"
      ]
     },
     "execution_count": 47,
     "metadata": {},
     "output_type": "execute_result"
    }
   ],
   "source": [
    "np.unique(new_unit_info['parent_region'].values)"
   ]
  },
  {
   "cell_type": "raw",
   "metadata": {},
   "source": [
    "new_unit_info[155:175]"
   ]
  },
  {
   "cell_type": "markdown",
   "metadata": {},
   "source": [
    "### Develop function"
   ]
  },
  {
   "cell_type": "code",
   "execution_count": 19,
   "metadata": {},
   "outputs": [
    {
     "data": {
      "text/plain": [
       "array(['ACAd6a', 'ACAv5', 'ACAv6a', 'CA1', 'CA2', 'CA3', 'DG-mo', 'DG-sg',\n",
       "       'HPF', 'LD', 'LGd-co', 'LGd-ip', 'LGd-sh', 'MOs5', 'MOs6a',\n",
       "       'SSp-ll6b', 'VISp4', 'VISp5', 'VISp6a', 'VISp6b', 'alv', 'bsc',\n",
       "       'ccb', 'cing', 'fiber tracts', 'fp', 'or'], dtype='<U12')"
      ]
     },
     "execution_count": 19,
     "metadata": {},
     "output_type": "execute_result"
    }
   ],
   "source": [
    "np.unique(unit_info['region'].values.astype(str))"
   ]
  },
  {
   "cell_type": "raw",
   "metadata": {},
   "source": [
    "This will tell us if region is part of the \"isocortex\":\n",
    "if 315 in str_tree.get_structures_by_acronym([area])[0]['structure_id_path']"
   ]
  },
  {
   "cell_type": "markdown",
   "metadata": {},
   "source": [
    "## First pass, make all units have a CCF-recognizable region"
   ]
  },
  {
   "cell_type": "code",
   "execution_count": 38,
   "metadata": {},
   "outputs": [],
   "source": [
    "adj_regions = unit_info['region'].values.copy()\n",
    "for indi, rowi in unit_info.iterrows():\n",
    "    try:\n",
    "        str_info = str_tree.get_structures_by_acronym([rowi.region])[0]\n",
    "    except KeyError:\n",
    "        if rowi.depth <= 0: # unit was placed above brain\n",
    "            new_region_id = annot[rowi.CCF_AP, np.nonzero(annot[rowi.CCF_AP, :, rowi.CCF_ML])[0][0], rowi.CCF_ML]\n",
    "            adj_regions[indi] = str_tree.get_structures_by_id([new_region_id])[0]['acronym']\n",
    "        else:\n",
    "            Lind = rowi.CCF_ML\n",
    "            while annot[rowi.CCF_AP, rowi.CCF_DV, Lind] == 0:\n",
    "                Lind -= 1\n",
    "            new_region_id = str_tree.get_structures_by_id([annot[rowi.CCF_AP, rowi.CCF_DV, Lind]])[0]['structure_id_path'][-1]\n",
    "            adj_regions[indi] = str_tree.get_structures_by_id([new_region_id])[0]['acronym']\n",
    "unit_info['adj_region_1'] = adj_regions"
   ]
  },
  {
   "cell_type": "raw",
   "metadata": {},
   "source": [
    "rowi = unit_info.iloc[211]\n",
    "\n",
    "Lind = rowi.CCF_ML\n",
    "while annot[rowi.CCF_AP, rowi.CCF_DV, Lind] == 0:\n",
    "    Lind -= 1\n",
    "left_sip = str_tree.get_structures_by_id([annot[rowi.CCF_AP, rowi.CCF_DV, Lind]])[0]['structure_id_path']\n",
    "    \n",
    "print(rowi.CCF_ML - Lind)\n",
    "print(str_tree.get_structures_by_id([left_sip[-1]])[0]['acronym'])"
   ]
  },
  {
   "cell_type": "raw",
   "metadata": {},
   "source": [
    "np.nonzero(unit_info['region'].values.astype(str) == 'nan')"
   ]
  },
  {
   "cell_type": "raw",
   "metadata": {},
   "source": [
    "unit_info[209:234]"
   ]
  },
  {
   "cell_type": "raw",
   "metadata": {},
   "source": [
    "fig, ax = plt.subplots(figsize=(5,4), constrained_layout=True)\n",
    "\n",
    "ax.imshow(annot[111,:,:], cmap='gray', aspect='equal', vmin=0, vmax=2000)\n",
    "\n",
    "ax.scatter(226, 174, s=20, c='r')"
   ]
  },
  {
   "cell_type": "code",
   "execution_count": 39,
   "metadata": {},
   "outputs": [
    {
     "data": {
      "text/plain": [
       "array(['ACAd6a', 'ACAv5', 'ACAv6a', 'CA1', 'CA2', 'CA3', 'DG-mo', 'DG-sg',\n",
       "       'HPF', 'LD', 'LGd-co', 'LGd-ip', 'LGd-sh', 'MOs5', 'MOs6a',\n",
       "       'SSp-ll6b', 'VISp4', 'VISp5', 'VISp6a', 'VISp6b', 'alv', 'bsc',\n",
       "       'ccb', 'cing', 'fiber tracts', 'fp', 'or'], dtype=object)"
      ]
     },
     "execution_count": 39,
     "metadata": {},
     "output_type": "execute_result"
    }
   ],
   "source": [
    "np.unique(unit_info['adj_region_1'].values)"
   ]
  },
  {
   "cell_type": "markdown",
   "metadata": {},
   "source": [
    "## Second pass, re-label units that fall outside of the grey matter"
   ]
  },
  {
   "cell_type": "code",
   "execution_count": 40,
   "metadata": {},
   "outputs": [],
   "source": [
    "adj_regions = unit_info['adj_region_1'].values.copy()\n",
    "for indi, rowi in unit_info.iterrows():\n",
    "    reg_id = str_tree.get_structures_by_acronym([rowi.adj_region_1])[0]['id']\n",
    "    if not str_tree.structure_descends_from(reg_id, 8):\n",
    "        adj_regions[indi] = find_closest_region(rowi, str_tree, annot)\n",
    "unit_info['adj_region_2'] = adj_regions"
   ]
  },
  {
   "cell_type": "code",
   "execution_count": 41,
   "metadata": {},
   "outputs": [
    {
     "data": {
      "text/plain": [
       "array(['ACAd6a', 'ACAv5', 'ACAv6a', 'CA1', 'CA2', 'CA3', 'DG-mo', 'DG-sg',\n",
       "       'HPF', 'LD', 'LGd-co', 'LGd-ip', 'LGd-sh', 'MOs5', 'MOs6a',\n",
       "       'SSp-ll6b', 'VISp4', 'VISp5', 'VISp6a', 'VISp6b'], dtype=object)"
      ]
     },
     "execution_count": 41,
     "metadata": {},
     "output_type": "execute_result"
    }
   ],
   "source": [
    "np.unique(unit_info['adj_region_2'].values)"
   ]
  },
  {
   "cell_type": "markdown",
   "metadata": {},
   "source": [
    "## Finally, assign a defined parent region to each unit area"
   ]
  },
  {
   "cell_type": "code",
   "execution_count": 42,
   "metadata": {},
   "outputs": [],
   "source": [
    "parent_regions = unit_info['adj_region_2'].values.copy()\n",
    "for indi, rowi in unit_info.iterrows():\n",
    "    parent_regions[indi] = get_parent_region(rowi.adj_region_2, str_tree)\n",
    "unit_info['parent_region'] = parent_regions"
   ]
  },
  {
   "cell_type": "raw",
   "metadata": {},
   "source": [
    "rowi"
   ]
  },
  {
   "cell_type": "raw",
   "metadata": {},
   "source": [
    "child_ind = np.nonzero([\n",
    "    str_tree.structure_descends_from(1089, x) for x in str_tree.child_ids([1089])[0]\n",
    "])[0]"
   ]
  },
  {
   "cell_type": "raw",
   "metadata": {},
   "source": [
    "str_tree.child_ids([1089])"
   ]
  },
  {
   "cell_type": "code",
   "execution_count": 43,
   "metadata": {},
   "outputs": [
    {
     "data": {
      "text/html": [
       "<div>\n",
       "<style scoped>\n",
       "    .dataframe tbody tr th:only-of-type {\n",
       "        vertical-align: middle;\n",
       "    }\n",
       "\n",
       "    .dataframe tbody tr th {\n",
       "        vertical-align: top;\n",
       "    }\n",
       "\n",
       "    .dataframe thead th {\n",
       "        text-align: right;\n",
       "    }\n",
       "</style>\n",
       "<table border=\"1\" class=\"dataframe\">\n",
       "  <thead>\n",
       "    <tr style=\"text-align: right;\">\n",
       "      <th></th>\n",
       "      <th>unit_id</th>\n",
       "      <th>probe</th>\n",
       "      <th>peak_ch</th>\n",
       "      <th>depth</th>\n",
       "      <th>spike_duration</th>\n",
       "      <th>region</th>\n",
       "      <th>CCF_AP</th>\n",
       "      <th>CCF_DV</th>\n",
       "      <th>CCF_ML</th>\n",
       "      <th>adj_region_1</th>\n",
       "      <th>adj_region_2</th>\n",
       "      <th>parent_region</th>\n",
       "    </tr>\n",
       "  </thead>\n",
       "  <tbody>\n",
       "    <tr>\n",
       "      <th>0</th>\n",
       "      <td>B2</td>\n",
       "      <td>probeB</td>\n",
       "      <td>0</td>\n",
       "      <td>3700</td>\n",
       "      <td>0.467002</td>\n",
       "      <td>VAL</td>\n",
       "      <td>260</td>\n",
       "      <td>179</td>\n",
       "      <td>179</td>\n",
       "      <td>VAL</td>\n",
       "      <td>VAL</td>\n",
       "      <td>SM-TH</td>\n",
       "    </tr>\n",
       "    <tr>\n",
       "      <th>1</th>\n",
       "      <td>B3</td>\n",
       "      <td>probeB</td>\n",
       "      <td>1</td>\n",
       "      <td>3700</td>\n",
       "      <td>0.549414</td>\n",
       "      <td>VAL</td>\n",
       "      <td>260</td>\n",
       "      <td>179</td>\n",
       "      <td>179</td>\n",
       "      <td>VAL</td>\n",
       "      <td>VAL</td>\n",
       "      <td>SM-TH</td>\n",
       "    </tr>\n",
       "    <tr>\n",
       "      <th>2</th>\n",
       "      <td>B6</td>\n",
       "      <td>probeB</td>\n",
       "      <td>1</td>\n",
       "      <td>3700</td>\n",
       "      <td>0.425796</td>\n",
       "      <td>VAL</td>\n",
       "      <td>260</td>\n",
       "      <td>179</td>\n",
       "      <td>179</td>\n",
       "      <td>VAL</td>\n",
       "      <td>VAL</td>\n",
       "      <td>SM-TH</td>\n",
       "    </tr>\n",
       "    <tr>\n",
       "      <th>3</th>\n",
       "      <td>B9</td>\n",
       "      <td>probeB</td>\n",
       "      <td>2</td>\n",
       "      <td>3680</td>\n",
       "      <td>0.480737</td>\n",
       "      <td>VAL</td>\n",
       "      <td>260</td>\n",
       "      <td>178</td>\n",
       "      <td>179</td>\n",
       "      <td>VAL</td>\n",
       "      <td>VAL</td>\n",
       "      <td>SM-TH</td>\n",
       "    </tr>\n",
       "    <tr>\n",
       "      <th>4</th>\n",
       "      <td>B10</td>\n",
       "      <td>probeB</td>\n",
       "      <td>4</td>\n",
       "      <td>3660</td>\n",
       "      <td>0.480737</td>\n",
       "      <td>VAL</td>\n",
       "      <td>260</td>\n",
       "      <td>177</td>\n",
       "      <td>179</td>\n",
       "      <td>VAL</td>\n",
       "      <td>VAL</td>\n",
       "      <td>SM-TH</td>\n",
       "    </tr>\n",
       "  </tbody>\n",
       "</table>\n",
       "</div>"
      ],
      "text/plain": [
       "  unit_id   probe  peak_ch  depth  spike_duration region  CCF_AP  CCF_DV  \\\n",
       "0      B2  probeB        0   3700        0.467002    VAL     260     179   \n",
       "1      B3  probeB        1   3700        0.549414    VAL     260     179   \n",
       "2      B6  probeB        1   3700        0.425796    VAL     260     179   \n",
       "3      B9  probeB        2   3680        0.480737    VAL     260     178   \n",
       "4     B10  probeB        4   3660        0.480737    VAL     260     177   \n",
       "\n",
       "   CCF_ML adj_region_1 adj_region_2 parent_region  \n",
       "0     179          VAL          VAL         SM-TH  \n",
       "1     179          VAL          VAL         SM-TH  \n",
       "2     179          VAL          VAL         SM-TH  \n",
       "3     179          VAL          VAL         SM-TH  \n",
       "4     179          VAL          VAL         SM-TH  "
      ]
     },
     "execution_count": 43,
     "metadata": {},
     "output_type": "execute_result"
    }
   ],
   "source": [
    "unit_info.head()"
   ]
  },
  {
   "cell_type": "raw",
   "metadata": {
    "scrolled": true
   },
   "source": [
    "for regi in np.unique(unit_info['adj_region_2'].values.astype(str)):\n",
    "    print('{}: {}'.format(regi, assign_parent_region(regi, str_tree)))"
   ]
  },
  {
   "cell_type": "code",
   "execution_count": 43,
   "metadata": {},
   "outputs": [
    {
     "data": {
      "text/html": [
       "<div>\n",
       "<style scoped>\n",
       "    .dataframe tbody tr th:only-of-type {\n",
       "        vertical-align: middle;\n",
       "    }\n",
       "\n",
       "    .dataframe tbody tr th {\n",
       "        vertical-align: top;\n",
       "    }\n",
       "\n",
       "    .dataframe thead th {\n",
       "        text-align: right;\n",
       "    }\n",
       "</style>\n",
       "<table border=\"1\" class=\"dataframe\">\n",
       "  <thead>\n",
       "    <tr style=\"text-align: right;\">\n",
       "      <th></th>\n",
       "      <th>unit_id</th>\n",
       "      <th>probe</th>\n",
       "      <th>peak_ch</th>\n",
       "      <th>depth</th>\n",
       "      <th>spike_duration</th>\n",
       "      <th>region</th>\n",
       "      <th>CCF_AP</th>\n",
       "      <th>CCF_DV</th>\n",
       "      <th>CCF_ML</th>\n",
       "      <th>adj_region_1</th>\n",
       "      <th>adj_region_2</th>\n",
       "      <th>parent_region</th>\n",
       "    </tr>\n",
       "  </thead>\n",
       "  <tbody>\n",
       "    <tr>\n",
       "      <th>155</th>\n",
       "      <td>C147</td>\n",
       "      <td>probeC</td>\n",
       "      <td>60</td>\n",
       "      <td>2900</td>\n",
       "      <td>0.467002</td>\n",
       "      <td>fiber tracts</td>\n",
       "      <td>779</td>\n",
       "      <td>294</td>\n",
       "      <td>338</td>\n",
       "      <td>fiber tracts</td>\n",
       "      <td>LGd-sh</td>\n",
       "      <td>other-TH</td>\n",
       "    </tr>\n",
       "    <tr>\n",
       "      <th>156</th>\n",
       "      <td>C149</td>\n",
       "      <td>probeC</td>\n",
       "      <td>61</td>\n",
       "      <td>2900</td>\n",
       "      <td>0.439531</td>\n",
       "      <td>fiber tracts</td>\n",
       "      <td>779</td>\n",
       "      <td>294</td>\n",
       "      <td>338</td>\n",
       "      <td>fiber tracts</td>\n",
       "      <td>LGd-sh</td>\n",
       "      <td>other-TH</td>\n",
       "    </tr>\n",
       "    <tr>\n",
       "      <th>157</th>\n",
       "      <td>C692</td>\n",
       "      <td>probeC</td>\n",
       "      <td>62</td>\n",
       "      <td>2880</td>\n",
       "      <td>0.508208</td>\n",
       "      <td>bsc</td>\n",
       "      <td>779</td>\n",
       "      <td>293</td>\n",
       "      <td>337</td>\n",
       "      <td>bsc</td>\n",
       "      <td>LGd-sh</td>\n",
       "      <td>other-TH</td>\n",
       "    </tr>\n",
       "    <tr>\n",
       "      <th>158</th>\n",
       "      <td>C150</td>\n",
       "      <td>probeC</td>\n",
       "      <td>62</td>\n",
       "      <td>2880</td>\n",
       "      <td>0.453266</td>\n",
       "      <td>bsc</td>\n",
       "      <td>779</td>\n",
       "      <td>293</td>\n",
       "      <td>337</td>\n",
       "      <td>bsc</td>\n",
       "      <td>LGd-sh</td>\n",
       "      <td>other-TH</td>\n",
       "    </tr>\n",
       "    <tr>\n",
       "      <th>159</th>\n",
       "      <td>C153</td>\n",
       "      <td>probeC</td>\n",
       "      <td>63</td>\n",
       "      <td>2880</td>\n",
       "      <td>0.604355</td>\n",
       "      <td>bsc</td>\n",
       "      <td>779</td>\n",
       "      <td>293</td>\n",
       "      <td>337</td>\n",
       "      <td>bsc</td>\n",
       "      <td>LGd-sh</td>\n",
       "      <td>other-TH</td>\n",
       "    </tr>\n",
       "    <tr>\n",
       "      <th>160</th>\n",
       "      <td>C154</td>\n",
       "      <td>probeC</td>\n",
       "      <td>64</td>\n",
       "      <td>2860</td>\n",
       "      <td>0.439531</td>\n",
       "      <td>bsc</td>\n",
       "      <td>780</td>\n",
       "      <td>291</td>\n",
       "      <td>337</td>\n",
       "      <td>bsc</td>\n",
       "      <td>HPF</td>\n",
       "      <td>HPF</td>\n",
       "    </tr>\n",
       "    <tr>\n",
       "      <th>161</th>\n",
       "      <td>C155</td>\n",
       "      <td>probeC</td>\n",
       "      <td>64</td>\n",
       "      <td>2860</td>\n",
       "      <td>0.453266</td>\n",
       "      <td>bsc</td>\n",
       "      <td>780</td>\n",
       "      <td>291</td>\n",
       "      <td>337</td>\n",
       "      <td>bsc</td>\n",
       "      <td>HPF</td>\n",
       "      <td>HPF</td>\n",
       "    </tr>\n",
       "    <tr>\n",
       "      <th>162</th>\n",
       "      <td>C156</td>\n",
       "      <td>probeC</td>\n",
       "      <td>65</td>\n",
       "      <td>2860</td>\n",
       "      <td>0.439531</td>\n",
       "      <td>bsc</td>\n",
       "      <td>780</td>\n",
       "      <td>291</td>\n",
       "      <td>337</td>\n",
       "      <td>bsc</td>\n",
       "      <td>HPF</td>\n",
       "      <td>HPF</td>\n",
       "    </tr>\n",
       "    <tr>\n",
       "      <th>163</th>\n",
       "      <td>C157</td>\n",
       "      <td>probeC</td>\n",
       "      <td>65</td>\n",
       "      <td>2860</td>\n",
       "      <td>0.453266</td>\n",
       "      <td>bsc</td>\n",
       "      <td>780</td>\n",
       "      <td>291</td>\n",
       "      <td>337</td>\n",
       "      <td>bsc</td>\n",
       "      <td>HPF</td>\n",
       "      <td>HPF</td>\n",
       "    </tr>\n",
       "    <tr>\n",
       "      <th>164</th>\n",
       "      <td>C161</td>\n",
       "      <td>probeC</td>\n",
       "      <td>67</td>\n",
       "      <td>2840</td>\n",
       "      <td>0.398325</td>\n",
       "      <td>fiber tracts</td>\n",
       "      <td>780</td>\n",
       "      <td>289</td>\n",
       "      <td>337</td>\n",
       "      <td>fiber tracts</td>\n",
       "      <td>HPF</td>\n",
       "      <td>HPF</td>\n",
       "    </tr>\n",
       "    <tr>\n",
       "      <th>165</th>\n",
       "      <td>C166</td>\n",
       "      <td>probeC</td>\n",
       "      <td>69</td>\n",
       "      <td>2820</td>\n",
       "      <td>0.467002</td>\n",
       "      <td>HPF</td>\n",
       "      <td>780</td>\n",
       "      <td>288</td>\n",
       "      <td>337</td>\n",
       "      <td>HPF</td>\n",
       "      <td>HPF</td>\n",
       "      <td>HPF</td>\n",
       "    </tr>\n",
       "    <tr>\n",
       "      <th>166</th>\n",
       "      <td>C168</td>\n",
       "      <td>probeC</td>\n",
       "      <td>69</td>\n",
       "      <td>2820</td>\n",
       "      <td>0.233501</td>\n",
       "      <td>HPF</td>\n",
       "      <td>780</td>\n",
       "      <td>288</td>\n",
       "      <td>337</td>\n",
       "      <td>HPF</td>\n",
       "      <td>HPF</td>\n",
       "      <td>HPF</td>\n",
       "    </tr>\n",
       "    <tr>\n",
       "      <th>167</th>\n",
       "      <td>C169</td>\n",
       "      <td>probeC</td>\n",
       "      <td>69</td>\n",
       "      <td>2820</td>\n",
       "      <td>0.467002</td>\n",
       "      <td>HPF</td>\n",
       "      <td>780</td>\n",
       "      <td>288</td>\n",
       "      <td>337</td>\n",
       "      <td>HPF</td>\n",
       "      <td>HPF</td>\n",
       "      <td>HPF</td>\n",
       "    </tr>\n",
       "    <tr>\n",
       "      <th>168</th>\n",
       "      <td>C164</td>\n",
       "      <td>probeC</td>\n",
       "      <td>70</td>\n",
       "      <td>2800</td>\n",
       "      <td>0.480737</td>\n",
       "      <td>CA3</td>\n",
       "      <td>780</td>\n",
       "      <td>286</td>\n",
       "      <td>336</td>\n",
       "      <td>CA3</td>\n",
       "      <td>CA3</td>\n",
       "      <td>HIP</td>\n",
       "    </tr>\n",
       "    <tr>\n",
       "      <th>169</th>\n",
       "      <td>C173</td>\n",
       "      <td>probeC</td>\n",
       "      <td>70</td>\n",
       "      <td>2800</td>\n",
       "      <td>0.535678</td>\n",
       "      <td>CA3</td>\n",
       "      <td>780</td>\n",
       "      <td>286</td>\n",
       "      <td>336</td>\n",
       "      <td>CA3</td>\n",
       "      <td>CA3</td>\n",
       "      <td>HIP</td>\n",
       "    </tr>\n",
       "    <tr>\n",
       "      <th>170</th>\n",
       "      <td>C177</td>\n",
       "      <td>probeC</td>\n",
       "      <td>72</td>\n",
       "      <td>2780</td>\n",
       "      <td>0.439531</td>\n",
       "      <td>CA3</td>\n",
       "      <td>781</td>\n",
       "      <td>284</td>\n",
       "      <td>336</td>\n",
       "      <td>CA3</td>\n",
       "      <td>CA3</td>\n",
       "      <td>HIP</td>\n",
       "    </tr>\n",
       "    <tr>\n",
       "      <th>171</th>\n",
       "      <td>C179</td>\n",
       "      <td>probeC</td>\n",
       "      <td>73</td>\n",
       "      <td>2780</td>\n",
       "      <td>0.480737</td>\n",
       "      <td>CA3</td>\n",
       "      <td>781</td>\n",
       "      <td>284</td>\n",
       "      <td>336</td>\n",
       "      <td>CA3</td>\n",
       "      <td>CA3</td>\n",
       "      <td>HIP</td>\n",
       "    </tr>\n",
       "    <tr>\n",
       "      <th>172</th>\n",
       "      <td>C181</td>\n",
       "      <td>probeC</td>\n",
       "      <td>73</td>\n",
       "      <td>2780</td>\n",
       "      <td>0.439531</td>\n",
       "      <td>CA3</td>\n",
       "      <td>781</td>\n",
       "      <td>284</td>\n",
       "      <td>336</td>\n",
       "      <td>CA3</td>\n",
       "      <td>CA3</td>\n",
       "      <td>HIP</td>\n",
       "    </tr>\n",
       "    <tr>\n",
       "      <th>173</th>\n",
       "      <td>C182</td>\n",
       "      <td>probeC</td>\n",
       "      <td>74</td>\n",
       "      <td>2760</td>\n",
       "      <td>0.453266</td>\n",
       "      <td>CA3</td>\n",
       "      <td>781</td>\n",
       "      <td>283</td>\n",
       "      <td>336</td>\n",
       "      <td>CA3</td>\n",
       "      <td>CA3</td>\n",
       "      <td>HIP</td>\n",
       "    </tr>\n",
       "    <tr>\n",
       "      <th>174</th>\n",
       "      <td>C188</td>\n",
       "      <td>probeC</td>\n",
       "      <td>75</td>\n",
       "      <td>2760</td>\n",
       "      <td>0.192295</td>\n",
       "      <td>CA3</td>\n",
       "      <td>781</td>\n",
       "      <td>283</td>\n",
       "      <td>336</td>\n",
       "      <td>CA3</td>\n",
       "      <td>CA3</td>\n",
       "      <td>HIP</td>\n",
       "    </tr>\n",
       "  </tbody>\n",
       "</table>\n",
       "</div>"
      ],
      "text/plain": [
       "    unit_id   probe  peak_ch  depth  spike_duration        region  CCF_AP  \\\n",
       "155    C147  probeC       60   2900        0.467002  fiber tracts     779   \n",
       "156    C149  probeC       61   2900        0.439531  fiber tracts     779   \n",
       "157    C692  probeC       62   2880        0.508208           bsc     779   \n",
       "158    C150  probeC       62   2880        0.453266           bsc     779   \n",
       "159    C153  probeC       63   2880        0.604355           bsc     779   \n",
       "160    C154  probeC       64   2860        0.439531           bsc     780   \n",
       "161    C155  probeC       64   2860        0.453266           bsc     780   \n",
       "162    C156  probeC       65   2860        0.439531           bsc     780   \n",
       "163    C157  probeC       65   2860        0.453266           bsc     780   \n",
       "164    C161  probeC       67   2840        0.398325  fiber tracts     780   \n",
       "165    C166  probeC       69   2820        0.467002           HPF     780   \n",
       "166    C168  probeC       69   2820        0.233501           HPF     780   \n",
       "167    C169  probeC       69   2820        0.467002           HPF     780   \n",
       "168    C164  probeC       70   2800        0.480737           CA3     780   \n",
       "169    C173  probeC       70   2800        0.535678           CA3     780   \n",
       "170    C177  probeC       72   2780        0.439531           CA3     781   \n",
       "171    C179  probeC       73   2780        0.480737           CA3     781   \n",
       "172    C181  probeC       73   2780        0.439531           CA3     781   \n",
       "173    C182  probeC       74   2760        0.453266           CA3     781   \n",
       "174    C188  probeC       75   2760        0.192295           CA3     781   \n",
       "\n",
       "     CCF_DV  CCF_ML  adj_region_1 adj_region_2 parent_region  \n",
       "155     294     338  fiber tracts       LGd-sh      other-TH  \n",
       "156     294     338  fiber tracts       LGd-sh      other-TH  \n",
       "157     293     337           bsc       LGd-sh      other-TH  \n",
       "158     293     337           bsc       LGd-sh      other-TH  \n",
       "159     293     337           bsc       LGd-sh      other-TH  \n",
       "160     291     337           bsc          HPF           HPF  \n",
       "161     291     337           bsc          HPF           HPF  \n",
       "162     291     337           bsc          HPF           HPF  \n",
       "163     291     337           bsc          HPF           HPF  \n",
       "164     289     337  fiber tracts          HPF           HPF  \n",
       "165     288     337           HPF          HPF           HPF  \n",
       "166     288     337           HPF          HPF           HPF  \n",
       "167     288     337           HPF          HPF           HPF  \n",
       "168     286     336           CA3          CA3           HIP  \n",
       "169     286     336           CA3          CA3           HIP  \n",
       "170     284     336           CA3          CA3           HIP  \n",
       "171     284     336           CA3          CA3           HIP  \n",
       "172     284     336           CA3          CA3           HIP  \n",
       "173     283     336           CA3          CA3           HIP  \n",
       "174     283     336           CA3          CA3           HIP  "
      ]
     },
     "execution_count": 43,
     "metadata": {},
     "output_type": "execute_result"
    }
   ],
   "source": [
    "unit_info[155:175]"
   ]
  },
  {
   "cell_type": "raw",
   "metadata": {},
   "source": [
    "unit_info[252:272]"
   ]
  },
  {
   "cell_type": "raw",
   "metadata": {},
   "source": [
    "unit_info[348:355]"
   ]
  },
  {
   "cell_type": "markdown",
   "metadata": {},
   "source": [
    "Structure tree functions"
   ]
  },
  {
   "cell_type": "code",
   "execution_count": 30,
   "metadata": {},
   "outputs": [
    {
     "data": {
      "text/plain": [
       "[{'acronym': 'HPF',\n",
       "  'graph_id': 1,\n",
       "  'graph_order': 454,\n",
       "  'id': 1089,\n",
       "  'name': 'Hippocampal formation',\n",
       "  'structure_id_path': [997, 8, 567, 688, 695, 1089],\n",
       "  'structure_set_ids': [2,\n",
       "   112905828,\n",
       "   691663206,\n",
       "   12,\n",
       "   184527634,\n",
       "   112905813,\n",
       "   687527670,\n",
       "   114512891,\n",
       "   114512892],\n",
       "  'rgb_triplet': [126, 208, 75]}]"
      ]
     },
     "execution_count": 30,
     "metadata": {},
     "output_type": "execute_result"
    }
   ],
   "source": [
    "str_tree.get_structures_by_acronym(['HPF'])"
   ]
  },
  {
   "cell_type": "code",
   "execution_count": 32,
   "metadata": {},
   "outputs": [
    {
     "data": {
      "text/plain": [
       "[None]"
      ]
     },
     "execution_count": 32,
     "metadata": {},
     "output_type": "execute_result"
    }
   ],
   "source": [
    "str_tree.get_structures_by_id([0])"
   ]
  },
  {
   "cell_type": "raw",
   "metadata": {},
   "source": [
    "str_tree.parents([str_tree.get_structures_by_acronym([area])[0]['id']])[0]['acronym']"
   ]
  },
  {
   "cell_type": "code",
   "execution_count": null,
   "metadata": {},
   "outputs": [],
   "source": []
  },
  {
   "cell_type": "code",
   "execution_count": null,
   "metadata": {},
   "outputs": [],
   "source": []
  }
 ],
 "metadata": {
  "kernelspec": {
   "display_name": "tbd_eeg",
   "language": "python",
   "name": "tbd_eeg"
  },
  "language_info": {
   "codemirror_mode": {
    "name": "ipython",
    "version": 3
   },
   "file_extension": ".py",
   "mimetype": "text/x-python",
   "name": "python",
   "nbconvert_exporter": "python",
   "pygments_lexer": "ipython3",
   "version": "3.7.13"
  }
 },
 "nbformat": 4,
 "nbformat_minor": 4
}
