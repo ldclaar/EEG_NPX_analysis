{
 "cells": [
  {
   "cell_type": "code",
   "execution_count": 1,
   "metadata": {},
   "outputs": [],
   "source": [
    "import os\n",
    "import sys\n",
    "import time\n",
    "\n",
    "from matplotlib import animation\n",
    "from matplotlib.colorbar import Colorbar\n",
    "from matplotlib.gridspec import GridSpec\n",
    "import matplotlib.pyplot as plt\n",
    "import numpy as np\n",
    "import pandas as pd\n",
    "from scipy import interpolate, signal, stats, fftpack\n",
    "\n",
    "from pyedflib import highlevel"
   ]
  },
  {
   "cell_type": "markdown",
   "metadata": {},
   "source": [
    "#### Change this path to point to your code"
   ]
  },
  {
   "cell_type": "code",
   "execution_count": 2,
   "metadata": {},
   "outputs": [],
   "source": [
    "sys.path.append(r'C:\\Users\\lesliec\\code')"
   ]
  },
  {
   "cell_type": "code",
   "execution_count": 3,
   "metadata": {},
   "outputs": [],
   "source": [
    "from tbd_eeg.tbd_eeg.data_analysis.eegutils import EEGexp"
   ]
  },
  {
   "cell_type": "code",
   "execution_count": 4,
   "metadata": {},
   "outputs": [],
   "source": [
    "%matplotlib notebook"
   ]
  },
  {
   "cell_type": "code",
   "execution_count": 5,
   "metadata": {},
   "outputs": [],
   "source": [
    "edf_folder = r\"E:\\GAT1_EEG_pilot\\edf_files\""
   ]
  },
  {
   "cell_type": "markdown",
   "metadata": {},
   "source": [
    "Load .csv with list of experiments"
   ]
  },
  {
   "cell_type": "code",
   "execution_count": 6,
   "metadata": {},
   "outputs": [],
   "source": [
    "exp_file = r\"C:\\Users\\lesliec\\OneDrive - Allen Institute\\data\\GAT1KO_pilot_exps_all.csv\"\n",
    "subject_df = pd.read_csv(exp_file, converters={'mouse': str})"
   ]
  },
  {
   "cell_type": "code",
   "execution_count": 7,
   "metadata": {},
   "outputs": [
    {
     "data": {
      "text/html": [
       "<div>\n",
       "<style scoped>\n",
       "    .dataframe tbody tr th:only-of-type {\n",
       "        vertical-align: middle;\n",
       "    }\n",
       "\n",
       "    .dataframe tbody tr th {\n",
       "        vertical-align: top;\n",
       "    }\n",
       "\n",
       "    .dataframe thead th {\n",
       "        text-align: right;\n",
       "    }\n",
       "</style>\n",
       "<table border=\"1\" class=\"dataframe\">\n",
       "  <thead>\n",
       "    <tr style=\"text-align: right;\">\n",
       "      <th></th>\n",
       "      <th>genotype</th>\n",
       "      <th>mouse</th>\n",
       "      <th>sex</th>\n",
       "      <th>experiment</th>\n",
       "      <th>sweep_states</th>\n",
       "      <th>bad_chs</th>\n",
       "      <th>data_loc</th>\n",
       "      <th>notes</th>\n",
       "    </tr>\n",
       "  </thead>\n",
       "  <tbody>\n",
       "    <tr>\n",
       "      <th>0</th>\n",
       "      <td>GAT1-KO</td>\n",
       "      <td>645606</td>\n",
       "      <td>Male</td>\n",
       "      <td>signal_test_2022-11-18_14-49-19</td>\n",
       "      <td>awake</td>\n",
       "      <td>none</td>\n",
       "      <td>E:\\GAT1_EEG_pilot\\mouse645606\\signal_test_2022...</td>\n",
       "      <td>NaN</td>\n",
       "    </tr>\n",
       "    <tr>\n",
       "      <th>1</th>\n",
       "      <td>GAT1-KO</td>\n",
       "      <td>645606</td>\n",
       "      <td>Male</td>\n",
       "      <td>spontEEG1_2022-11-22_17-12-47</td>\n",
       "      <td>awake</td>\n",
       "      <td>none</td>\n",
       "      <td>E:\\GAT1_EEG_pilot\\mouse645606\\spontEEG1_2022-1...</td>\n",
       "      <td>NaN</td>\n",
       "    </tr>\n",
       "    <tr>\n",
       "      <th>2</th>\n",
       "      <td>GAT1-KO</td>\n",
       "      <td>645606</td>\n",
       "      <td>Male</td>\n",
       "      <td>EEGNPXspont_estim_2022-12-20_12-26-39</td>\n",
       "      <td>awake</td>\n",
       "      <td>none</td>\n",
       "      <td>E:\\GAT1_EEG_pilot\\mouse645606\\EEGNPXspont_esti...</td>\n",
       "      <td>NaN</td>\n",
       "    </tr>\n",
       "    <tr>\n",
       "      <th>3</th>\n",
       "      <td>GAT1-KO</td>\n",
       "      <td>644565</td>\n",
       "      <td>Female</td>\n",
       "      <td>signal_test_2022-11-30_15-41-47</td>\n",
       "      <td>awake</td>\n",
       "      <td>none</td>\n",
       "      <td>E:\\GAT1_EEG_pilot\\mouse644565\\signal_test_2022...</td>\n",
       "      <td>NaN</td>\n",
       "    </tr>\n",
       "    <tr>\n",
       "      <th>4</th>\n",
       "      <td>GAT1-KO</td>\n",
       "      <td>644565</td>\n",
       "      <td>Female</td>\n",
       "      <td>spontEEG1_2022-12-07_16-07-14</td>\n",
       "      <td>awake</td>\n",
       "      <td>none</td>\n",
       "      <td>E:\\GAT1_EEG_pilot\\mouse644565\\spontEEG1_2022-1...</td>\n",
       "      <td>NaN</td>\n",
       "    </tr>\n",
       "  </tbody>\n",
       "</table>\n",
       "</div>"
      ],
      "text/plain": [
       "  genotype   mouse     sex                             experiment  \\\n",
       "0  GAT1-KO  645606    Male        signal_test_2022-11-18_14-49-19   \n",
       "1  GAT1-KO  645606    Male          spontEEG1_2022-11-22_17-12-47   \n",
       "2  GAT1-KO  645606    Male  EEGNPXspont_estim_2022-12-20_12-26-39   \n",
       "3  GAT1-KO  644565  Female        signal_test_2022-11-30_15-41-47   \n",
       "4  GAT1-KO  644565  Female          spontEEG1_2022-12-07_16-07-14   \n",
       "\n",
       "  sweep_states bad_chs                                           data_loc  \\\n",
       "0        awake    none  E:\\GAT1_EEG_pilot\\mouse645606\\signal_test_2022...   \n",
       "1        awake    none  E:\\GAT1_EEG_pilot\\mouse645606\\spontEEG1_2022-1...   \n",
       "2        awake    none  E:\\GAT1_EEG_pilot\\mouse645606\\EEGNPXspont_esti...   \n",
       "3        awake    none  E:\\GAT1_EEG_pilot\\mouse644565\\signal_test_2022...   \n",
       "4        awake    none  E:\\GAT1_EEG_pilot\\mouse644565\\spontEEG1_2022-1...   \n",
       "\n",
       "  notes  \n",
       "0   NaN  \n",
       "1   NaN  \n",
       "2   NaN  \n",
       "3   NaN  \n",
       "4   NaN  "
      ]
     },
     "execution_count": 7,
     "metadata": {},
     "output_type": "execute_result"
    }
   ],
   "source": [
    "subject_df.head()"
   ]
  },
  {
   "cell_type": "markdown",
   "metadata": {},
   "source": [
    "### Loop through experiments to create .edf file for each"
   ]
  },
  {
   "cell_type": "code",
   "execution_count": 8,
   "metadata": {},
   "outputs": [
    {
     "name": "stdout",
     "output_type": "stream",
     "text": [
      "Experiment type: sensory stimulation\n",
      "645606 - signal_test\n",
      " mouse645606_2022-11-18_signal_test_ch18.edf\n",
      " Saved!\n",
      "\n",
      "No *stim* files were found.\n",
      "Experiment type: spontaneous\n",
      "645606 - spontEEG1\n",
      " mouse645606_2022-11-22_spontEEG1_ch18.edf\n",
      " Saved!\n",
      "\n",
      "Experiment type: electrical stimulation\n",
      "645606 - EEGNPXspont_estim\n",
      " mouse645606_2022-12-20_EEGNPXspont_estim_ch18.edf\n",
      " Saved!\n",
      "\n",
      "Experiment type: sensory stimulation\n",
      "644565 - signal_test\n",
      " mouse644565_2022-11-30_signal_test_ch18.edf\n",
      " Saved!\n",
      "\n",
      "No *stim* files were found.\n",
      "Experiment type: spontaneous\n",
      "644565 - spontEEG1\n",
      " mouse644565_2022-12-07_spontEEG1_ch18.edf\n",
      " Saved!\n",
      "\n",
      "Experiment type: electrical stimulation\n",
      "644565 - EEGNPXspont_estim\n",
      " mouse644565_2022-12-22_EEGNPXspont_estim_ch18.edf\n",
      " Saved!\n",
      "\n",
      "Experiment type: sensory stimulation\n",
      "672785 - visual\n",
      " mouse672785_2023-06-27_visual_ch18.edf\n",
      " Saved!\n",
      "\n",
      "Experiment type: electrical and sensory stimulation\n",
      "672785 - EEGNPXspont_estim\n",
      " mouse672785_2023-07-05_EEGNPXspont_estim_ch18.edf\n",
      " Saved!\n",
      "\n",
      "Experiment type: sensory stimulation\n",
      "672789 - visual\n",
      " mouse672789_2023-06-28_visual_ch18.edf\n",
      " Saved!\n",
      "\n",
      "Experiment type: electrical and sensory stimulation\n",
      "672789 - EEGNPXspont_estim\n",
      " mouse672789_2023-07-13_EEGNPXspont_estim_ch18.edf\n",
      " Saved!\n",
      "\n"
     ]
    }
   ],
   "source": [
    "edf_ch = 18\n",
    "\n",
    "for ii, rowi in subject_df.iterrows():\n",
    "    exp = EEGexp(rowi.data_loc, preprocess=False, make_stim_csv=False)\n",
    "    exp_tag = exp.experiment_folder[exp.experiment_folder.find('mouse')+12:exp.experiment_folder.find(str(exp.date.year))-1]\n",
    "    print('{} - {}'.format(exp.mouse, exp_tag))\n",
    "    \n",
    "    eeg_data, eeg_ts = exp.load_eegdata()\n",
    "    eeg_data = eeg_data * 1E-3 # convert to mV\n",
    "    eeg_chs = np.arange(0, eeg_data.shape[1])\n",
    "    \n",
    "    ## Name the edf file ##\n",
    "    edf_name = 'mouse' + exp.mouse + '_' + exp.date.strftime('%Y-%m-%d') + '_' + exp_tag + '_ch' + str(edf_ch) + '.edf'\n",
    "    print(' {}'.format(edf_name))\n",
    "    edf_file1 = os.path.join(exp.data_folder, edf_name)\n",
    "    edf_file2 = os.path.join(edf_folder, edf_name)\n",
    "    \n",
    "    ## Set up the edf file ##\n",
    "    signal_headers = highlevel.make_signal_headers(\n",
    "        ['ch{:d}'.format(edf_ch)], sample_frequency=exp.ephys_params['EEG']['sample_rate']\n",
    "    )\n",
    "    header = highlevel.make_header(patientname='mouse' + exp.mouse, gender=rowi.sex)\n",
    "    \n",
    "    ## Make and save the edf file (twice) ##\n",
    "    highlevel.write_edf(edf_file1, eeg_data[:, edf_ch][np.newaxis, :], signal_headers, header)\n",
    "    highlevel.write_edf(edf_file2, eeg_data[:, edf_ch][np.newaxis, :], signal_headers, header)\n",
    "    print(' Saved!\\n')"
   ]
  },
  {
   "cell_type": "code",
   "execution_count": null,
   "metadata": {},
   "outputs": [],
   "source": []
  },
  {
   "cell_type": "markdown",
   "metadata": {},
   "source": [
    "## Practice with one subject"
   ]
  },
  {
   "cell_type": "markdown",
   "metadata": {},
   "source": [
    "### Load experiment"
   ]
  },
  {
   "cell_type": "code",
   "execution_count": 5,
   "metadata": {},
   "outputs": [
    {
     "name": "stdout",
     "output_type": "stream",
     "text": [
      "Experiment type: sensory stimulation\n"
     ]
    }
   ],
   "source": [
    "recfolder = r'E:\\GAT1_EEG_pilot\\mouse645606\\signal_test_2022-11-18_14-49-19\\experiment1\\recording1'\n",
    "# exp = EEGexp(recfolder, preprocess=True, make_stim_csv=True)\n",
    "exp = EEGexp(recfolder, preprocess=False, make_stim_csv=False)"
   ]
  },
  {
   "cell_type": "code",
   "execution_count": 6,
   "metadata": {},
   "outputs": [
    {
     "name": "stdout",
     "output_type": "stream",
     "text": [
      "signal_test\n"
     ]
    }
   ],
   "source": [
    "exp_tag = exp.experiment_folder[exp.experiment_folder.find('mouse')+12:exp.experiment_folder.find(str(exp.date.year))-1]\n",
    "print(exp_tag)"
   ]
  },
  {
   "cell_type": "code",
   "execution_count": 7,
   "metadata": {},
   "outputs": [],
   "source": [
    "GAT_mice = {\n",
    "    '645606': 'Male',\n",
    "    '644565': 'Female',\n",
    "    '672785': 'Male',\n",
    "    '672789': 'Female',\n",
    "}"
   ]
  },
  {
   "cell_type": "markdown",
   "metadata": {},
   "source": [
    "### Load EEG data"
   ]
  },
  {
   "cell_type": "code",
   "execution_count": 8,
   "metadata": {},
   "outputs": [],
   "source": [
    "eeg_data, eeg_ts = exp.load_eegdata()\n",
    "eeg_data = eeg_data * 1E-3 # convert to mV\n",
    "eeg_chs = np.arange(0, eeg_data.shape[1])\n",
    "\n",
    "bad_chs = []\n",
    "GOOD_CHS = np.array([x for x in eeg_chs if x not in bad_chs])"
   ]
  },
  {
   "cell_type": "code",
   "execution_count": 9,
   "metadata": {},
   "outputs": [
    {
     "name": "stdout",
     "output_type": "stream",
     "text": [
      "33.12216963591622\n",
      "944.3795366517253\n"
     ]
    }
   ],
   "source": [
    "print(eeg_ts[0])\n",
    "print(eeg_ts[-1])"
   ]
  },
  {
   "cell_type": "code",
   "execution_count": 21,
   "metadata": {},
   "outputs": [
    {
     "data": {
      "text/plain": [
       "15.183333333333334"
      ]
     },
     "execution_count": 21,
     "metadata": {},
     "output_type": "execute_result"
    }
   ],
   "source": [
    "(944-33)/60"
   ]
  },
  {
   "cell_type": "raw",
   "metadata": {},
   "source": [
    "bpb, bpa = signal.butter(3, np.array([0.5, 50])/(exp.ephys_params['EEG']['sample_rate']/2), btype='bandpass')\n",
    "filt_data = signal.filtfilt(bpb, bpa, eeg_data, axis=0)"
   ]
  },
  {
   "cell_type": "markdown",
   "metadata": {},
   "source": [
    "### Package one ch as .edf"
   ]
  },
  {
   "cell_type": "markdown",
   "metadata": {},
   "source": [
    "Following example here: https://github.com/holgern/pyedflib/"
   ]
  },
  {
   "cell_type": "code",
   "execution_count": 10,
   "metadata": {},
   "outputs": [
    {
     "name": "stdout",
     "output_type": "stream",
     "text": [
      "mouse645606_2022-11-18_signal_test_ch18.edf\n"
     ]
    }
   ],
   "source": [
    "edf_ch = 18\n",
    "\n",
    "edf_name = 'mouse' + exp.mouse + '_' + exp.date.strftime('%Y-%m-%d') + '_' + exp_tag + '_ch' + str(edf_ch) + '.edf'\n",
    "print(edf_name)\n",
    "edf_file = os.path.join(exp.data_folder, edf_name)\n",
    "# print(edf_file)"
   ]
  },
  {
   "cell_type": "code",
   "execution_count": 11,
   "metadata": {},
   "outputs": [],
   "source": [
    "channel_names = ['ch{:d}'.format(edf_ch)]"
   ]
  },
  {
   "cell_type": "code",
   "execution_count": 12,
   "metadata": {},
   "outputs": [],
   "source": [
    "signal_headers = highlevel.make_signal_headers(channel_names, sample_frequency=exp.ephys_params['EEG']['sample_rate'])"
   ]
  },
  {
   "cell_type": "code",
   "execution_count": 13,
   "metadata": {},
   "outputs": [],
   "source": [
    "header = highlevel.make_header(patientname='mouse' + exp.mouse, gender=GAT_mice[exp.mouse])"
   ]
  },
  {
   "cell_type": "code",
   "execution_count": 20,
   "metadata": {},
   "outputs": [
    {
     "data": {
      "text/plain": [
       "True"
      ]
     },
     "execution_count": 20,
     "metadata": {},
     "output_type": "execute_result"
    }
   ],
   "source": [
    "highlevel.write_edf(edf_file, eeg_data[:, edf_ch][np.newaxis, :], signal_headers, header)"
   ]
  },
  {
   "cell_type": "markdown",
   "metadata": {},
   "source": [
    "# This works!!"
   ]
  },
  {
   "cell_type": "code",
   "execution_count": null,
   "metadata": {},
   "outputs": [],
   "source": []
  }
 ],
 "metadata": {
  "kernelspec": {
   "display_name": "Python [conda env:tbd_edf]",
   "language": "python",
   "name": "conda-env-tbd_edf-py"
  },
  "language_info": {
   "codemirror_mode": {
    "name": "ipython",
    "version": 3
   },
   "file_extension": ".py",
   "mimetype": "text/x-python",
   "name": "python",
   "nbconvert_exporter": "python",
   "pygments_lexer": "ipython3",
   "version": "3.7.13"
  }
 },
 "nbformat": 4,
 "nbformat_minor": 4
}
