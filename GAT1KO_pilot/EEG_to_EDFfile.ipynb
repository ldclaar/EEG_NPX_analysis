{
 "cells": [
  {
   "cell_type": "code",
   "execution_count": 1,
   "metadata": {},
   "outputs": [],
   "source": [
    "from glob import glob\n",
    "import json\n",
    "import os\n",
    "import sys\n",
    "import time\n",
    "\n",
    "from matplotlib import animation\n",
    "from matplotlib.colorbar import Colorbar\n",
    "from matplotlib.gridspec import GridSpec\n",
    "import matplotlib.pyplot as plt\n",
    "import mplcursors\n",
    "import numpy as np\n",
    "import pandas as pd\n",
    "from scipy import interpolate, signal, stats, fftpack"
   ]
  },
  {
   "cell_type": "markdown",
   "metadata": {},
   "source": [
    "#### Change this path to point to your code"
   ]
  },
  {
   "cell_type": "code",
   "execution_count": 2,
   "metadata": {},
   "outputs": [],
   "source": [
    "sys.path.append(r'C:\\Users\\lesliec\\code')"
   ]
  },
  {
   "cell_type": "code",
   "execution_count": 3,
   "metadata": {},
   "outputs": [],
   "source": [
    "from tbd_eeg.tbd_eeg.data_analysis.eegutils import EEGexp"
   ]
  },
  {
   "cell_type": "code",
   "execution_count": 4,
   "metadata": {},
   "outputs": [],
   "source": [
    "from tbd_eeg.tbd_eeg.data_analysis.Utilities.utilities import get_evoked_traces, get_stim_events, find_nearest_ind\n",
    "from tbd_eeg.tbd_eeg.data_analysis.eeg_preprocessing import qualitycheck_trials"
   ]
  },
  {
   "cell_type": "code",
   "execution_count": 5,
   "metadata": {},
   "outputs": [],
   "source": [
    "%matplotlib notebook"
   ]
  },
  {
   "cell_type": "markdown",
   "metadata": {},
   "source": [
    "#### Plot electrodes"
   ]
  },
  {
   "cell_type": "raw",
   "metadata": {},
   "source": [
    "fig, ax = plt.subplots(figsize=(5,4), constrained_layout=True)\n",
    "\n",
    "ax.scatter(EEGexp.EEG_channel_coordinates['ML'], EEGexp.EEG_channel_coordinates['AP'], s=300, color='orange')\n",
    "ax.scatter(0, 0, marker='P', color='red')\n",
    "ax.axis('equal')\n",
    "    \n",
    "for ind in range(len(EEGexp.EEG_channel_coordinates)):\n",
    "    ax.annotate(str(ind),  xy=(EEGexp.EEG_channel_coordinates['ML'].iloc[ind], EEGexp.EEG_channel_coordinates['AP'].iloc[ind]), ha='center', va='center', color=\"k\")\n",
    "\n",
    "ax.set_xlabel('ML axis (mm)\\nleft <--> right')\n",
    "ax.set_ylabel('AP axis (mm)')\n",
    "ax.set_title('NeuroNexus numbering')"
   ]
  },
  {
   "cell_type": "markdown",
   "metadata": {},
   "source": [
    "### Load experiment"
   ]
  },
  {
   "cell_type": "code",
   "execution_count": 6,
   "metadata": {},
   "outputs": [
    {
     "name": "stdout",
     "output_type": "stream",
     "text": [
      "Experiment type: sensory stimulation\n"
     ]
    }
   ],
   "source": [
    "recfolder = r'E:\\GAT1_EEG_pilot\\mouse645606\\signal_test_2022-11-18_14-49-19\\experiment1\\recording1'\n",
    "# exp = EEGexp(recfolder, preprocess=True, make_stim_csv=True)\n",
    "exp = EEGexp(recfolder, preprocess=False, make_stim_csv=False)"
   ]
  },
  {
   "cell_type": "code",
   "execution_count": 7,
   "metadata": {},
   "outputs": [
    {
     "name": "stdout",
     "output_type": "stream",
     "text": [
      "signal_test\n"
     ]
    }
   ],
   "source": [
    "exp_tag = exp.experiment_folder[exp.experiment_folder.find('mouse')+12:exp.experiment_folder.find(str(exp.date.year))-1]\n",
    "print(exp_tag)"
   ]
  },
  {
   "cell_type": "markdown",
   "metadata": {},
   "source": [
    "### Load EEG data"
   ]
  },
  {
   "cell_type": "code",
   "execution_count": 8,
   "metadata": {},
   "outputs": [],
   "source": [
    "eeg_data, eeg_ts = exp.load_eegdata()\n",
    "eeg_data = eeg_data * 1E-3 # convert to mV\n",
    "eeg_chs = np.arange(0, eeg_data.shape[1])\n",
    "\n",
    "bad_chs = []\n",
    "GOOD_CHS = np.array([x for x in eeg_chs if x not in bad_chs])"
   ]
  },
  {
   "cell_type": "code",
   "execution_count": 9,
   "metadata": {},
   "outputs": [
    {
     "name": "stdout",
     "output_type": "stream",
     "text": [
      "33.12216963591622\n",
      "944.3795366517253\n"
     ]
    }
   ],
   "source": [
    "print(eeg_ts[0])\n",
    "print(eeg_ts[-1])"
   ]
  },
  {
   "cell_type": "raw",
   "metadata": {},
   "source": [
    "bpb, bpa = signal.butter(3, np.array([0.5, 50])/(exp.ephys_params['EEG']['sample_rate']/2), btype='bandpass')\n",
    "filt_data = signal.filtfilt(bpb, bpa, eeg_data, axis=0)"
   ]
  },
  {
   "cell_type": "code",
   "execution_count": null,
   "metadata": {},
   "outputs": [],
   "source": []
  }
 ],
 "metadata": {
  "kernelspec": {
   "display_name": "tbd_eeg",
   "language": "python",
   "name": "tbd_eeg"
  },
  "language_info": {
   "codemirror_mode": {
    "name": "ipython",
    "version": 3
   },
   "file_extension": ".py",
   "mimetype": "text/x-python",
   "name": "python",
   "nbconvert_exporter": "python",
   "pygments_lexer": "ipython3",
   "version": "3.7.13"
  }
 },
 "nbformat": 4,
 "nbformat_minor": 4
}
