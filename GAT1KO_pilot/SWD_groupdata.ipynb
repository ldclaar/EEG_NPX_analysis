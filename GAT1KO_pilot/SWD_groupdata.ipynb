{
 "cells": [
  {
   "cell_type": "code",
   "execution_count": 1,
   "metadata": {},
   "outputs": [],
   "source": [
    "from glob import glob\n",
    "import json\n",
    "import os\n",
    "import sys\n",
    "import time\n",
    "\n",
    "from matplotlib import animation\n",
    "from matplotlib.colorbar import Colorbar\n",
    "from matplotlib.gridspec import GridSpec\n",
    "import matplotlib.pyplot as plt\n",
    "import mplcursors\n",
    "import numpy as np\n",
    "import pandas as pd\n",
    "from scipy import interpolate, signal, stats, fftpack"
   ]
  },
  {
   "cell_type": "markdown",
   "metadata": {},
   "source": [
    "#### Change this path to point to your code"
   ]
  },
  {
   "cell_type": "code",
   "execution_count": 2,
   "metadata": {},
   "outputs": [],
   "source": [
    "sys.path.append(r'C:\\Users\\lesliec\\code')"
   ]
  },
  {
   "cell_type": "code",
   "execution_count": 3,
   "metadata": {},
   "outputs": [],
   "source": [
    "from tbd_eeg.tbd_eeg.data_analysis.eegutils import EEGexp"
   ]
  },
  {
   "cell_type": "code",
   "execution_count": 4,
   "metadata": {},
   "outputs": [],
   "source": [
    "from tbd_eeg.tbd_eeg.data_analysis.Utilities.utilities import get_evoked_traces, get_stim_events\n",
    "from tbd_eeg.tbd_eeg.data_analysis.eeg_preprocessing import qualitycheck_trials"
   ]
  },
  {
   "cell_type": "code",
   "execution_count": 5,
   "metadata": {},
   "outputs": [],
   "source": [
    "%matplotlib notebook"
   ]
  },
  {
   "cell_type": "markdown",
   "metadata": {},
   "source": [
    "#### Plot electrodes"
   ]
  },
  {
   "cell_type": "raw",
   "metadata": {},
   "source": [
    "fig, ax = plt.subplots(figsize=(5,4), constrained_layout=True)\n",
    "\n",
    "ax.scatter(EEGexp.EEG_channel_coordinates['ML'], EEGexp.EEG_channel_coordinates['AP'], s=300, color='orange')\n",
    "ax.scatter(0, 0, marker='P', color='red')\n",
    "ax.axis('equal')\n",
    "    \n",
    "for ind in range(len(EEGexp.EEG_channel_coordinates)):\n",
    "    ax.annotate(str(ind),  xy=(EEGexp.EEG_channel_coordinates['ML'].iloc[ind], EEGexp.EEG_channel_coordinates['AP'].iloc[ind]), ha='center', va='center', color=\"k\")\n",
    "\n",
    "ax.set_xlabel('ML axis (mm)\\nleft <--> right')\n",
    "ax.set_ylabel('AP axis (mm)')\n",
    "ax.set_title('NeuroNexus numbering')"
   ]
  },
  {
   "cell_type": "markdown",
   "metadata": {},
   "source": [
    "### All mice"
   ]
  },
  {
   "cell_type": "code",
   "execution_count": 6,
   "metadata": {},
   "outputs": [],
   "source": [
    "plotsavedir = os.path.join(r'C:\\Users\\lesliec\\OneDrive - Allen Institute\\data\\plots\\GAT1-KO_analyses')"
   ]
  },
  {
   "cell_type": "code",
   "execution_count": 7,
   "metadata": {},
   "outputs": [],
   "source": [
    "all_exps = {\n",
    "    '645606': [\n",
    "        r'E:\\GAT1_EEG_pilot\\mouse645606\\signal_test_2022-11-18_14-49-19\\experiment1\\recording1',\n",
    "        r'E:\\GAT1_EEG_pilot\\mouse645606\\spontEEG1_2022-11-22_17-12-47\\experiment1\\recording1',\n",
    "        r'E:\\GAT1_EEG_pilot\\mouse645606\\EEGNPXspont_estim_2022-12-20_12-26-39\\experiment1\\recording1'\n",
    "    ],\n",
    "    '644565': [\n",
    "        r'E:\\GAT1_EEG_pilot\\mouse644565\\signal_test_2022-11-30_15-41-47\\experiment1\\recording1',\n",
    "        r'E:\\GAT1_EEG_pilot\\mouse644565\\spontEEG1_2022-12-07_16-07-14\\experiment1\\recording1',\n",
    "        r'E:\\GAT1_EEG_pilot\\mouse644565\\EEGNPXspont_estim_2022-12-22_10-36-08\\experiment1\\recording1'\n",
    "    ],\n",
    "    '672785': [\n",
    "        r'E:\\GAT1_EEG_pilot\\mouse672785\\visual_2023-06-27_13-19-27\\experiment1\\recording1',\n",
    "        r'E:\\GAT1_EEG_pilot\\mouse672785\\EEGNPXspont_estim_2023-07-05_12-39-59\\experiment1\\recording1',\n",
    "    ],\n",
    "    '672789': [\n",
    "        r'E:\\GAT1_EEG_pilot\\mouse672789\\visual_2023-06-28_13-08-49\\experiment1\\recording1',\n",
    "        r'E:\\GAT1_EEG_pilot\\mouse672789\\EEGNPXspont_estim_2023-07-13_13-28-01\\experiment1\\recording1',\n",
    "    ],\n",
    "}"
   ]
  },
  {
   "cell_type": "code",
   "execution_count": 8,
   "metadata": {},
   "outputs": [
    {
     "name": "stdout",
     "output_type": "stream",
     "text": [
      "645606 : E:\\GAT1_EEG_pilot\\mouse645606\\signal_test_2022-11-18_14-49-19\\experiment1\\recording1\n",
      "Experiment type: sensory stimulation\n",
      "\n",
      "645606 : E:\\GAT1_EEG_pilot\\mouse645606\\spontEEG1_2022-11-22_17-12-47\\experiment1\\recording1\n",
      "No *stim* files were found.\n",
      "Experiment type: spontaneous\n",
      "\n",
      "645606 : E:\\GAT1_EEG_pilot\\mouse645606\\EEGNPXspont_estim_2022-12-20_12-26-39\\experiment1\\recording1\n",
      "Experiment type: electrical stimulation\n",
      "\n",
      "644565 : E:\\GAT1_EEG_pilot\\mouse644565\\signal_test_2022-11-30_15-41-47\\experiment1\\recording1\n",
      "Experiment type: sensory stimulation\n",
      "\n",
      "644565 : E:\\GAT1_EEG_pilot\\mouse644565\\spontEEG1_2022-12-07_16-07-14\\experiment1\\recording1\n",
      "No *stim* files were found.\n",
      "Experiment type: spontaneous\n",
      "\n",
      "644565 : E:\\GAT1_EEG_pilot\\mouse644565\\EEGNPXspont_estim_2022-12-22_10-36-08\\experiment1\\recording1\n",
      "Experiment type: electrical stimulation\n",
      "\n",
      "672785 : E:\\GAT1_EEG_pilot\\mouse672785\\visual_2023-06-27_13-19-27\\experiment1\\recording1\n",
      "Experiment type: sensory stimulation\n",
      "\n",
      "672785 : E:\\GAT1_EEG_pilot\\mouse672785\\EEGNPXspont_estim_2023-07-05_12-39-59\\experiment1\\recording1\n",
      "Experiment type: electrical and sensory stimulation\n",
      "\n",
      "672789 : E:\\GAT1_EEG_pilot\\mouse672789\\visual_2023-06-28_13-08-49\\experiment1\\recording1\n",
      "Experiment type: sensory stimulation\n",
      "\n",
      "672789 : E:\\GAT1_EEG_pilot\\mouse672789\\EEGNPXspont_estim_2023-07-13_13-28-01\\experiment1\\recording1\n",
      "Experiment type: electrical and sensory stimulation\n",
      "\n"
     ]
    }
   ],
   "source": [
    "# all_subjects = {}\n",
    "all_sub_data = []\n",
    "for mouse, explist in all_exps.items():\n",
    "    for recfolder in explist:\n",
    "        print('{} : {}'.format(mouse, recfolder))\n",
    "        exp = EEGexp(recfolder, preprocess=False, make_stim_csv=False)\n",
    "        exp_tag = exp.experiment_folder[\n",
    "            exp.experiment_folder.find('mouse')+12:exp.experiment_folder.find(str(exp.date.year))-1]\n",
    "        \n",
    "        auto_annot_file = os.path.join(exp.data_folder, r'autoSWDs_v1.pkl')\n",
    "        autoSWD_df = pd.read_pickle(auto_annot_file)\n",
    "        \n",
    "        eeg_data, eeg_ts = exp.load_eegdata()\n",
    "        \n",
    "        rec_duration = (eeg_ts[-1] - eeg_ts[0]) / 60\n",
    "        num_SWDs = len(autoSWD_df)\n",
    "        mean_SWD_dur = np.mean(autoSWD_df['duration'].values)\n",
    "        min_SWD_dur = np.min(autoSWD_df['duration'].values)\n",
    "        max_SWD_dur = np.max(autoSWD_df['duration'].values)\n",
    "        time_in_SWD = np.sum(autoSWD_df['duration'].values) / 60\n",
    "        fract_in_SWD = time_in_SWD / rec_duration\n",
    "        \n",
    "        all_sub_data.append(\n",
    "            [mouse, exp_tag, rec_duration, num_SWDs, mean_SWD_dur, min_SWD_dur, max_SWD_dur, time_in_SWD, fract_in_SWD]\n",
    "        )\n",
    "        print('')"
   ]
  },
  {
   "cell_type": "code",
   "execution_count": 9,
   "metadata": {},
   "outputs": [],
   "source": [
    "all_mouse_data = pd.DataFrame(\n",
    "    all_sub_data,\n",
    "    columns=['mouse', 'exp', 'exp_duration_min', 'num_SWDs', 'avg_duration_s', 'min_duration_s', 'max_duration_s', 'time_in_SWD_min', 'fract_in_SWD']\n",
    ")"
   ]
  },
  {
   "cell_type": "code",
   "execution_count": 10,
   "metadata": {},
   "outputs": [
    {
     "data": {
      "text/html": [
       "<div>\n",
       "<style scoped>\n",
       "    .dataframe tbody tr th:only-of-type {\n",
       "        vertical-align: middle;\n",
       "    }\n",
       "\n",
       "    .dataframe tbody tr th {\n",
       "        vertical-align: top;\n",
       "    }\n",
       "\n",
       "    .dataframe thead th {\n",
       "        text-align: right;\n",
       "    }\n",
       "</style>\n",
       "<table border=\"1\" class=\"dataframe\">\n",
       "  <thead>\n",
       "    <tr style=\"text-align: right;\">\n",
       "      <th></th>\n",
       "      <th>mouse</th>\n",
       "      <th>exp</th>\n",
       "      <th>exp_duration_min</th>\n",
       "      <th>num_SWDs</th>\n",
       "      <th>avg_duration_s</th>\n",
       "      <th>min_duration_s</th>\n",
       "      <th>max_duration_s</th>\n",
       "      <th>time_in_SWD_min</th>\n",
       "      <th>fract_in_SWD</th>\n",
       "    </tr>\n",
       "  </thead>\n",
       "  <tbody>\n",
       "    <tr>\n",
       "      <th>0</th>\n",
       "      <td>645606</td>\n",
       "      <td>signal_test</td>\n",
       "      <td>15.187623</td>\n",
       "      <td>127</td>\n",
       "      <td>2.942734</td>\n",
       "      <td>0.528402</td>\n",
       "      <td>11.585237</td>\n",
       "      <td>6.228788</td>\n",
       "      <td>0.410123</td>\n",
       "    </tr>\n",
       "    <tr>\n",
       "      <th>1</th>\n",
       "      <td>645606</td>\n",
       "      <td>spontEEG1</td>\n",
       "      <td>60.265814</td>\n",
       "      <td>682</td>\n",
       "      <td>2.249611</td>\n",
       "      <td>0.501200</td>\n",
       "      <td>9.151944</td>\n",
       "      <td>25.570584</td>\n",
       "      <td>0.424297</td>\n",
       "    </tr>\n",
       "    <tr>\n",
       "      <th>2</th>\n",
       "      <td>645606</td>\n",
       "      <td>EEGNPXspont_estim</td>\n",
       "      <td>73.081188</td>\n",
       "      <td>829</td>\n",
       "      <td>2.847728</td>\n",
       "      <td>0.510795</td>\n",
       "      <td>11.463196</td>\n",
       "      <td>39.346108</td>\n",
       "      <td>0.538389</td>\n",
       "    </tr>\n",
       "    <tr>\n",
       "      <th>3</th>\n",
       "      <td>644565</td>\n",
       "      <td>signal_test</td>\n",
       "      <td>28.620809</td>\n",
       "      <td>393</td>\n",
       "      <td>1.711606</td>\n",
       "      <td>0.504805</td>\n",
       "      <td>8.605197</td>\n",
       "      <td>11.211018</td>\n",
       "      <td>0.391709</td>\n",
       "    </tr>\n",
       "    <tr>\n",
       "      <th>4</th>\n",
       "      <td>644565</td>\n",
       "      <td>spontEEG1</td>\n",
       "      <td>60.677090</td>\n",
       "      <td>891</td>\n",
       "      <td>1.966451</td>\n",
       "      <td>0.507197</td>\n",
       "      <td>9.165893</td>\n",
       "      <td>29.201795</td>\n",
       "      <td>0.481266</td>\n",
       "    </tr>\n",
       "    <tr>\n",
       "      <th>5</th>\n",
       "      <td>644565</td>\n",
       "      <td>EEGNPXspont_estim</td>\n",
       "      <td>72.507730</td>\n",
       "      <td>1049</td>\n",
       "      <td>1.390987</td>\n",
       "      <td>0.500401</td>\n",
       "      <td>6.374039</td>\n",
       "      <td>24.319094</td>\n",
       "      <td>0.335400</td>\n",
       "    </tr>\n",
       "    <tr>\n",
       "      <th>6</th>\n",
       "      <td>672785</td>\n",
       "      <td>visual</td>\n",
       "      <td>70.254891</td>\n",
       "      <td>698</td>\n",
       "      <td>3.223581</td>\n",
       "      <td>0.510401</td>\n",
       "      <td>17.867111</td>\n",
       "      <td>37.500992</td>\n",
       "      <td>0.533785</td>\n",
       "    </tr>\n",
       "    <tr>\n",
       "      <th>7</th>\n",
       "      <td>672785</td>\n",
       "      <td>EEGNPXspont_estim</td>\n",
       "      <td>118.335069</td>\n",
       "      <td>1052</td>\n",
       "      <td>0.916986</td>\n",
       "      <td>0.500400</td>\n",
       "      <td>3.010003</td>\n",
       "      <td>16.077825</td>\n",
       "      <td>0.135867</td>\n",
       "    </tr>\n",
       "    <tr>\n",
       "      <th>8</th>\n",
       "      <td>672789</td>\n",
       "      <td>visual</td>\n",
       "      <td>70.094446</td>\n",
       "      <td>1015</td>\n",
       "      <td>1.376136</td>\n",
       "      <td>0.500000</td>\n",
       "      <td>7.628356</td>\n",
       "      <td>23.279636</td>\n",
       "      <td>0.332118</td>\n",
       "    </tr>\n",
       "    <tr>\n",
       "      <th>9</th>\n",
       "      <td>672789</td>\n",
       "      <td>EEGNPXspont_estim</td>\n",
       "      <td>110.045831</td>\n",
       "      <td>707</td>\n",
       "      <td>0.761746</td>\n",
       "      <td>0.500001</td>\n",
       "      <td>2.218394</td>\n",
       "      <td>8.975910</td>\n",
       "      <td>0.081565</td>\n",
       "    </tr>\n",
       "  </tbody>\n",
       "</table>\n",
       "</div>"
      ],
      "text/plain": [
       "    mouse                exp  exp_duration_min  num_SWDs  avg_duration_s  \\\n",
       "0  645606        signal_test         15.187623       127        2.942734   \n",
       "1  645606          spontEEG1         60.265814       682        2.249611   \n",
       "2  645606  EEGNPXspont_estim         73.081188       829        2.847728   \n",
       "3  644565        signal_test         28.620809       393        1.711606   \n",
       "4  644565          spontEEG1         60.677090       891        1.966451   \n",
       "5  644565  EEGNPXspont_estim         72.507730      1049        1.390987   \n",
       "6  672785             visual         70.254891       698        3.223581   \n",
       "7  672785  EEGNPXspont_estim        118.335069      1052        0.916986   \n",
       "8  672789             visual         70.094446      1015        1.376136   \n",
       "9  672789  EEGNPXspont_estim        110.045831       707        0.761746   \n",
       "\n",
       "   min_duration_s  max_duration_s  time_in_SWD_min  fract_in_SWD  \n",
       "0        0.528402       11.585237         6.228788      0.410123  \n",
       "1        0.501200        9.151944        25.570584      0.424297  \n",
       "2        0.510795       11.463196        39.346108      0.538389  \n",
       "3        0.504805        8.605197        11.211018      0.391709  \n",
       "4        0.507197        9.165893        29.201795      0.481266  \n",
       "5        0.500401        6.374039        24.319094      0.335400  \n",
       "6        0.510401       17.867111        37.500992      0.533785  \n",
       "7        0.500400        3.010003        16.077825      0.135867  \n",
       "8        0.500000        7.628356        23.279636      0.332118  \n",
       "9        0.500001        2.218394         8.975910      0.081565  "
      ]
     },
     "execution_count": 10,
     "metadata": {},
     "output_type": "execute_result"
    }
   ],
   "source": [
    "all_mouse_data"
   ]
  },
  {
   "cell_type": "code",
   "execution_count": 11,
   "metadata": {},
   "outputs": [],
   "source": [
    "SWDgroup_data_file = os.path.join(plotsavedir, r'pilotSWDstats.csv')\n",
    "all_mouse_data.to_csv(SWDgroup_data_file, index=False)"
   ]
  },
  {
   "cell_type": "code",
   "execution_count": null,
   "metadata": {},
   "outputs": [],
   "source": []
  },
  {
   "cell_type": "code",
   "execution_count": null,
   "metadata": {},
   "outputs": [],
   "source": []
  },
  {
   "cell_type": "code",
   "execution_count": null,
   "metadata": {},
   "outputs": [],
   "source": []
  }
 ],
 "metadata": {
  "kernelspec": {
   "display_name": "tbd_eeg",
   "language": "python",
   "name": "tbd_eeg"
  },
  "language_info": {
   "codemirror_mode": {
    "name": "ipython",
    "version": 3
   },
   "file_extension": ".py",
   "mimetype": "text/x-python",
   "name": "python",
   "nbconvert_exporter": "python",
   "pygments_lexer": "ipython3",
   "version": "3.7.13"
  }
 },
 "nbformat": 4,
 "nbformat_minor": 4
}
