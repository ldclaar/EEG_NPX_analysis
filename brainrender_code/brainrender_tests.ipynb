{
 "cells": [
  {
   "cell_type": "code",
   "execution_count": 1,
   "metadata": {},
   "outputs": [],
   "source": [
    "import numpy as np\n",
    "import pandas as pd"
   ]
  },
  {
   "cell_type": "code",
   "execution_count": 2,
   "metadata": {},
   "outputs": [],
   "source": [
    "from allensdk.core.mouse_connectivity_cache import MouseConnectivityCache"
   ]
  },
  {
   "cell_type": "code",
   "execution_count": 3,
   "metadata": {},
   "outputs": [
    {
     "name": "stdout",
     "output_type": "stream",
     "text": [
      "settings: screenshots are set to have transparent backgroundset the parameter \"SCREENSHOT_TRANSPARENT_BACKGROUND\" to false if you would prefer a not transparent background\n"
     ]
    }
   ],
   "source": [
    "from vtkplotter import embedWindow\n",
    "from vtkplotter.shapes import Cylinder\n",
    "from brainrender.scene import Scene"
   ]
  },
  {
   "cell_type": "markdown",
   "metadata": {},
   "source": [
    "### Electrode coordinates"
   ]
  },
  {
   "cell_type": "code",
   "execution_count": 4,
   "metadata": {},
   "outputs": [],
   "source": [
    "channel_list = np.arange(0, 30, dtype=int)\n",
    "\n",
    "# coordinates relative to bregma (I pulled the coordinates from the image here:\n",
    "# https://neuronexus.com/electrode-array/mouse-eeg/)\n",
    "# ML: neg= mouse left, pos= mouse right\n",
    "\n",
    "channel_ML = np.array([-4.05, -2.24, -1.0, -4.13, -2.88, -1.13, -4.05, -2.88, -1.12, -3.5,\n",
    "                       -2.12, -1.93, -0.5, -1.5, -0.5, 0.5, 1.5, 0.5, 1.93, 2.12,\n",
    "                       3.5, 1.12, 2.88, 4.05, 1.13, 2.88, 4.13, 1.0, 2.24, 4.05\n",
    "                      ])\n",
    "\n",
    "channel_AP = np.array([-4.14, -4.14, -4.14, -3.04, -3.04, -3.04, -1.96, -1.96, -1.96, -0.48,\n",
    "                       -0.48, 1.04, 1.04, 2.3, 2.3, 2.3, 2.3, 1.04, 1.04, -0.48,\n",
    "                       -0.48, -1.96, -1.96, -1.96, -3.04, -3.04, -3.04, -4.14, -4.14, -4.14\n",
    "                      ])"
   ]
  },
  {
   "cell_type": "code",
   "execution_count": 5,
   "metadata": {},
   "outputs": [
    {
     "data": {
      "text/html": [
       "<div>\n",
       "<style scoped>\n",
       "    .dataframe tbody tr th:only-of-type {\n",
       "        vertical-align: middle;\n",
       "    }\n",
       "\n",
       "    .dataframe tbody tr th {\n",
       "        vertical-align: top;\n",
       "    }\n",
       "\n",
       "    .dataframe thead th {\n",
       "        text-align: right;\n",
       "    }\n",
       "</style>\n",
       "<table border=\"1\" class=\"dataframe\">\n",
       "  <thead>\n",
       "    <tr style=\"text-align: right;\">\n",
       "      <th></th>\n",
       "      <th>AP</th>\n",
       "      <th>ML</th>\n",
       "    </tr>\n",
       "  </thead>\n",
       "  <tbody>\n",
       "    <tr>\n",
       "      <th>0</th>\n",
       "      <td>-4.14</td>\n",
       "      <td>-4.05</td>\n",
       "    </tr>\n",
       "    <tr>\n",
       "      <th>1</th>\n",
       "      <td>-4.14</td>\n",
       "      <td>-2.24</td>\n",
       "    </tr>\n",
       "    <tr>\n",
       "      <th>2</th>\n",
       "      <td>-4.14</td>\n",
       "      <td>-1.00</td>\n",
       "    </tr>\n",
       "    <tr>\n",
       "      <th>3</th>\n",
       "      <td>-3.04</td>\n",
       "      <td>-4.13</td>\n",
       "    </tr>\n",
       "    <tr>\n",
       "      <th>4</th>\n",
       "      <td>-3.04</td>\n",
       "      <td>-2.88</td>\n",
       "    </tr>\n",
       "  </tbody>\n",
       "</table>\n",
       "</div>"
      ],
      "text/plain": [
       "     AP    ML\n",
       "0 -4.14 -4.05\n",
       "1 -4.14 -2.24\n",
       "2 -4.14 -1.00\n",
       "3 -3.04 -4.13\n",
       "4 -3.04 -2.88"
      ]
     },
     "execution_count": 5,
     "metadata": {},
     "output_type": "execute_result"
    }
   ],
   "source": [
    "coords = pd.DataFrame({'AP': channel_AP, 'ML': channel_ML})\n",
    "coords.head()"
   ]
  },
  {
   "cell_type": "markdown",
   "metadata": {},
   "source": [
    "#### CCF mapping"
   ]
  },
  {
   "cell_type": "code",
   "execution_count": 12,
   "metadata": {},
   "outputs": [],
   "source": [
    "mm_slice = 0.025 # mm, we are using CCF with 25 um resolution\n",
    "\n",
    "AP_zero_ind = 217\n",
    "ML_zero_ind = 228\n",
    "DV_zero_ind = 20 # estimate from bregma slice (where is top of brain)"
   ]
  },
  {
   "cell_type": "markdown",
   "metadata": {},
   "source": [
    "#### Cannula coordinates"
   ]
  },
  {
   "cell_type": "code",
   "execution_count": 19,
   "metadata": {},
   "outputs": [],
   "source": [
    "#trying to add cannula\n",
    "# ML =-3.7, DV=-2, AP=1.1\n",
    "#Need coords?\n",
    "cannula_MLcoord = -3.7 # mm relative to bregma\n",
    "cannula_APcoord = 1.1\n",
    "cannula_DVcoord = -2.\n",
    "\n",
    "cannula_AP_pix = int(AP_zero_ind - (cannula_APcoord / mm_slice)) # neg AP coords -> greater slice ind\n",
    "cannula_ML_pix = int(ML_zero_ind + (cannula_MLcoord / mm_slice)) # neg ML coords -> smaller slice ind (left)\n",
    "cannula_DV_pix = int(DV_zero_ind - (cannula_DVcoord / mm_slice))"
   ]
  },
  {
   "cell_type": "markdown",
   "metadata": {},
   "source": [
    "#### Plot a tilted cylinder?"
   ]
  },
  {
   "cell_type": "code",
   "execution_count": 29,
   "metadata": {},
   "outputs": [],
   "source": [
    "embedWindow(False)"
   ]
  },
  {
   "cell_type": "code",
   "execution_count": 30,
   "metadata": {},
   "outputs": [],
   "source": [
    "testscene = Scene()\n",
    "testscene.add_brain_regions(['VISp',\n",
    "                             'MOs',\n",
    "                             'SSp-ll',\n",
    "                             'SIM',\n",
    "                             'MOp',\n",
    "                             'VISa',\n",
    "                             'ICe',\n",
    "                             'VISrl',\n",
    "                             'RSPd',\n",
    "                             'MB',\n",
    "                             'VISpm',\n",
    "                             'CLA'\n",
    "                            ]);"
   ]
  },
  {
   "cell_type": "code",
   "execution_count": 31,
   "metadata": {},
   "outputs": [],
   "source": [
    "cann_bot = [cannula_AP_pix*25, cannula_DV_pix*25, cannula_ML_pix*25]\n",
    "cann_top = cann_bot.copy()\n",
    "cann_top[1] = cann_top[1]-1500\n",
    "cann_top[2] = cann_top[2]-2000"
   ]
  },
  {
   "cell_type": "code",
   "execution_count": 32,
   "metadata": {},
   "outputs": [
    {
     "data": {
      "text/plain": [
       "[(Cylinder)000001CB9D80D0A8]"
      ]
     },
     "execution_count": 32,
     "metadata": {},
     "output_type": "execute_result"
    }
   ],
   "source": [
    "testscene.add_vtkactor(Cylinder(pos=[cann_top, cann_bot], c='powderblue', r=350, alpha=0.5))"
   ]
  },
  {
   "cell_type": "code",
   "execution_count": 33,
   "metadata": {},
   "outputs": [
    {
     "name": "stdout",
     "output_type": "stream",
     "text": [
      "\n",
      "\n",
      "Rendering scene.\n",
      "   Press 'q' to Quit\n"
     ]
    }
   ],
   "source": [
    "testscene.render(camera='coronal')"
   ]
  },
  {
   "cell_type": "code",
   "execution_count": null,
   "metadata": {},
   "outputs": [],
   "source": []
  },
  {
   "cell_type": "markdown",
   "metadata": {},
   "source": [
    "### Make a Scene with BrainRender"
   ]
  },
  {
   "cell_type": "raw",
   "metadata": {},
   "source": [
    "# Create the scene, populate and preprare for rendering\n",
    "\n",
    "scene = Scene(jupyter=True)\n",
    "\n",
    "# ... add code to populate the scene with more actors here\n",
    "\n",
    "scene.render()"
   ]
  },
  {
   "cell_type": "code",
   "execution_count": null,
   "metadata": {},
   "outputs": [],
   "source": []
  }
 ],
 "metadata": {
  "kernelspec": {
   "display_name": "Python 3",
   "language": "python",
   "name": "python3"
  },
  "language_info": {
   "codemirror_mode": {
    "name": "ipython",
    "version": 3
   },
   "file_extension": ".py",
   "mimetype": "text/x-python",
   "name": "python",
   "nbconvert_exporter": "python",
   "pygments_lexer": "ipython3",
   "version": "3.6.10"
  }
 },
 "nbformat": 4,
 "nbformat_minor": 4
}
