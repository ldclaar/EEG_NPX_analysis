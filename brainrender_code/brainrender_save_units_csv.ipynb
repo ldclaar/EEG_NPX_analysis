{
 "cells": [
  {
   "cell_type": "markdown",
   "id": "1ca63176-6889-4db9-a9c0-a25a7ee82c91",
   "metadata": {},
   "source": [
    "This creates a .csv file containing units from specified experiments. The .csv will be compatible with code to plot all units in brainrender."
   ]
  },
  {
   "cell_type": "code",
   "execution_count": 1,
   "id": "b2ca38a3-6730-4e91-8889-4e43f18d5628",
   "metadata": {},
   "outputs": [],
   "source": [
    "from datetime import date\n",
    "from glob import glob\n",
    "import json\n",
    "import os\n",
    "import sys\n",
    "import time\n",
    "from pathlib import Path\n",
    "import pickle\n",
    "\n",
    "import gspread\n",
    "import numpy as np\n",
    "import pandas as pd"
   ]
  },
  {
   "cell_type": "code",
   "execution_count": 2,
   "id": "7f71a7cf-11c8-4661-b424-4808868383c5",
   "metadata": {},
   "outputs": [],
   "source": [
    "sys.path.append(r'C:\\Users\\lesliec\\code')"
   ]
  },
  {
   "cell_type": "code",
   "execution_count": 3,
   "id": "3e11a012-d6c0-41cc-80a3-964186ef6947",
   "metadata": {},
   "outputs": [],
   "source": [
    "from tbd_eeg.tbd_eeg.data_analysis.eegutils import EEGexp\n",
    "from allensdk.core.mouse_connectivity_cache import MouseConnectivityCache"
   ]
  },
  {
   "cell_type": "markdown",
   "id": "4a9b69ff-670d-4eff-a69d-6905992148b2",
   "metadata": {},
   "source": [
    "## Functions"
   ]
  },
  {
   "cell_type": "code",
   "execution_count": 4,
   "id": "bc8282a9-a214-4d46-b11f-f6eaf588ffd6",
   "metadata": {},
   "outputs": [],
   "source": [
    "def find_closest_region(sunit_info, struct_tree, annot):\n",
    "    ## Finds a grey matter region above/below an unknown region ##\n",
    "    Vind = sunit_info.CCF_DV\n",
    "    vent_sip = struct_tree.get_structures_by_id([annot[sunit_info.CCF_AP, Vind, sunit_info.CCF_ML]])[0]['structure_id_path']\n",
    "    while not struct_tree.structure_descends_from(vent_sip[-1], 8):\n",
    "        Vind += 1\n",
    "        vent_sip = struct_tree.get_structures_by_id([annot[sunit_info.CCF_AP, Vind, sunit_info.CCF_ML]])[0]['structure_id_path']\n",
    "\n",
    "    Dind = sunit_info.CCF_DV\n",
    "    dors_sip = struct_tree.get_structures_by_id([annot[sunit_info.CCF_AP, Dind, sunit_info.CCF_ML]])[0]['structure_id_path']\n",
    "    while not struct_tree.structure_descends_from(dors_sip[-1], 8):\n",
    "        Dind -= 1\n",
    "        dors_sip = struct_tree.get_structures_by_id([annot[sunit_info.CCF_AP, Dind, sunit_info.CCF_ML]])[0]['structure_id_path']\n",
    "\n",
    "    if (Vind - sunit_info.CCF_DV) <= (sunit_info.CCF_DV - Dind):\n",
    "        return struct_tree.get_structures_by_id([vent_sip[-1]])[0]['acronym']\n",
    "    elif (Vind - sunit_info.CCF_DV) > (sunit_info.CCF_DV - Dind):\n",
    "        return struct_tree.get_structures_by_id([dors_sip[-1]])[0]['acronym']"
   ]
  },
  {
   "cell_type": "code",
   "execution_count": 5,
   "id": "c6f548e5-9e6e-46c7-ae64-5d2d623addff",
   "metadata": {},
   "outputs": [],
   "source": [
    "def get_region_from_children(test_id, parent_id, struct_tree):\n",
    "    try:\n",
    "        child_ind = np.nonzero([\n",
    "            struct_tree.structure_descends_from(test_id, x) for x in struct_tree.child_ids([parent_id])[0]\n",
    "        ])[0][0]\n",
    "        return struct_tree.get_structures_by_id([struct_tree.child_ids([parent_id])[0][child_ind]])[0]['acronym']\n",
    "    except:\n",
    "        return struct_tree.get_structures_by_id([parent_id])[0]['acronym']"
   ]
  },
  {
   "cell_type": "code",
   "execution_count": 6,
   "id": "4c6c10c4-8cd5-4fd9-a203-23bd568403bf",
   "metadata": {},
   "outputs": [],
   "source": [
    "def get_parent_region(region_acronym, struct_tree):\n",
    "    areas_of_interest = {\n",
    "        'SM-TH': ['AV', 'CL', 'MD', 'PO', 'PF', 'VAL', 'VPL', 'VPM', 'VM'],\n",
    "    }\n",
    "    \n",
    "    reg_id = struct_tree.get_structures_by_acronym([region_acronym])[0]['id']\n",
    "    if struct_tree.structure_descends_from(reg_id, 567):\n",
    "        if struct_tree.structure_descends_from(reg_id, 315):\n",
    "            return get_region_from_children(reg_id, 315, struct_tree)\n",
    "        elif struct_tree.structure_descends_from(reg_id, 698):\n",
    "            return 'OLF'\n",
    "        elif struct_tree.structure_descends_from(reg_id, 1089):\n",
    "            return get_region_from_children(reg_id, 1089, struct_tree)\n",
    "        elif struct_tree.structure_descends_from(reg_id, 703):\n",
    "            return get_region_from_children(reg_id, 703, struct_tree)\n",
    "        elif struct_tree.structure_descends_from(reg_id, 477):\n",
    "            return 'STR'\n",
    "        elif struct_tree.structure_descends_from(reg_id, 803):\n",
    "            return 'PAL'\n",
    "        else:\n",
    "            return 'unassigned'\n",
    "    elif struct_tree.structure_descends_from(reg_id, 343):\n",
    "        if struct_tree.structure_descends_from(reg_id, 1129):\n",
    "            if region_acronym == 'RT':\n",
    "                return 'RT-TH'\n",
    "            elif region_acronym in areas_of_interest['SM-TH']:\n",
    "                return 'SM-TH'\n",
    "            else:\n",
    "                return 'other-TH'\n",
    "        elif struct_tree.structure_descends_from(reg_id, 1097):\n",
    "            return 'HY'\n",
    "        else:\n",
    "            return get_region_from_children(reg_id, 343, struct_tree)\n",
    "    else:\n",
    "        return 'unassigned'"
   ]
  },
  {
   "cell_type": "code",
   "execution_count": 7,
   "id": "8c02cacf-83c7-457f-8608-4efb00c022ce",
   "metadata": {},
   "outputs": [],
   "source": [
    "def add_parent_region_to_df(unit_info_df, struct_tree, annot):\n",
    "    ## First, make sure all names in region column correspond to a CCF region (removes nan values) ##\n",
    "    adj_regions = unit_info_df['region'].values.copy()\n",
    "    for indi, rowi in unit_info_df.iterrows():\n",
    "        try:\n",
    "            str_info = struct_tree.get_structures_by_acronym([rowi.region])[0]\n",
    "        except KeyError:\n",
    "            if rowi.depth <= 0: # unit was placed above brain\n",
    "                new_region_id = annot[rowi.CCF_AP, np.nonzero(annot[rowi.CCF_AP, :, rowi.CCF_ML])[0][0], rowi.CCF_ML]\n",
    "                adj_regions[indi] = struct_tree.get_structures_by_id([new_region_id])[0]['acronym']\n",
    "            else:\n",
    "                Lind = rowi.CCF_ML\n",
    "                while annot[rowi.CCF_AP, rowi.CCF_DV, Lind] == 0:\n",
    "                    Lind -= 1\n",
    "                new_region_id = struct_tree.get_structures_by_id(\n",
    "                    [annot[rowi.CCF_AP, rowi.CCF_DV, Lind]])[0]['structure_id_path'][-1]\n",
    "                adj_regions[indi] = struct_tree.get_structures_by_id([new_region_id])[0]['acronym']\n",
    "    unit_info_df['adj_region'] = adj_regions\n",
    "    \n",
    "    ## Second, re-assign any non-grey matter areas to the closest region ##\n",
    "    adj_regions = unit_info_df['adj_region'].values.copy()\n",
    "    for indi, rowi in unit_info_df.iterrows():\n",
    "        reg_id = struct_tree.get_structures_by_acronym([rowi.adj_region])[0]['id']\n",
    "        if not struct_tree.structure_descends_from(reg_id, 8):\n",
    "            adj_regions[indi] = find_closest_region(rowi, struct_tree, annot)\n",
    "    unit_info_df['adj_region'] = adj_regions\n",
    "    \n",
    "    ## Finally, assign a parent region to each adjusted CCF region ##\n",
    "    parent_regions = unit_info_df['adj_region'].values.copy()\n",
    "    for indi, rowi in unit_info_df.iterrows():\n",
    "        parent_regions[indi] = get_parent_region(rowi.adj_region, struct_tree)\n",
    "    unit_info_df['parent_region'] = parent_regions\n",
    "    \n",
    "    return unit_info_df.drop('adj_region', axis=1)"
   ]
  },
  {
   "cell_type": "markdown",
   "id": "eb1b2662-8f6e-4972-b513-2a9af62d81f7",
   "metadata": {},
   "source": [
    "### Set some parameters"
   ]
  },
  {
   "cell_type": "code",
   "execution_count": 8,
   "id": "5e0524f6-94ad-46b9-8785-8ab78b6c747a",
   "metadata": {},
   "outputs": [],
   "source": [
    "data_dir = Path(\"F:\\psi_exp\")\n",
    "save_csv_dir = Path(r\"C:\\Users\\lesliec\\OneDrive - Allen Institute\\data\")"
   ]
  },
  {
   "cell_type": "code",
   "execution_count": 9,
   "id": "12c94acb-6afa-40dc-9b1e-f8e45a02ce64",
   "metadata": {},
   "outputs": [],
   "source": [
    "## Load the Templeton log sheet as pd.DataFrame ##\n",
    "_gc = gspread.service_account() # need a key file to access the account\n",
    "_sh = _gc.open('Templeton-log_exp') # open the spreadsheet\n",
    "_df = pd.DataFrame(_sh.sheet1.get()) # load the first worksheet\n",
    "metadata = _df.T.set_index(0).T # put it in a nicely formatted dataframe"
   ]
  },
  {
   "cell_type": "markdown",
   "id": "3e6eb67e-429f-4dc9-b58b-e44fe00ae58b",
   "metadata": {},
   "source": [
    "### Test with one subject"
   ]
  },
  {
   "cell_type": "code",
   "execution_count": 24,
   "id": "4e204560-a664-456f-a090-5c6b15ae6666",
   "metadata": {},
   "outputs": [
    {
     "name": "stdout",
     "output_type": "stream",
     "text": [
      "mouse735049: aw_sal_2024-05-22_11-05-25\n"
     ]
    }
   ],
   "source": [
    "subexpind = 84\n",
    "expmeta = metadata.iloc[subexpind]\n",
    "print('{}: {}'.format(expmeta['mouse_name'], expmeta['exp_name']))"
   ]
  },
  {
   "cell_type": "code",
   "execution_count": 25,
   "id": "b2405ae0-b25d-4bb5-91a2-1fc9836aa952",
   "metadata": {},
   "outputs": [
    {
     "name": "stdout",
     "output_type": "stream",
     "text": [
      "Experiment type: electrical and sensory stimulation\n",
      "['probeB', 'probeC', 'probeD', 'probeF']\n"
     ]
    }
   ],
   "source": [
    "dataloc = os.path.join(data_dir, expmeta['mouse_name'], expmeta['exp_name'], 'experiment1', 'recording1')\n",
    "exp = EEGexp(dataloc, preprocess=False, make_stim_csv=False)\n",
    "probe_list = [x.replace('_sorted', '') for x in exp.experiment_data if 'probe' in x]\n",
    "print(probe_list)"
   ]
  },
  {
   "cell_type": "code",
   "execution_count": 26,
   "id": "66655c8f-19ad-4d4f-a045-34ea9c888953",
   "metadata": {},
   "outputs": [
    {
     "name": "stdout",
     "output_type": "stream",
     "text": [
      " probeB\n",
      " probeC\n",
      " probeD\n",
      " probeF\n"
     ]
    }
   ],
   "source": [
    "all_units_list = []\n",
    "for probei in probe_list:\n",
    "    print(' {}'.format(probei))\n",
    "    select_units, peak_chs, unit_metrics = exp.get_probe_units(probei)\n",
    "    unit_metrics['unit_name'] = [probei[-1] + str(x) for x in unit_metrics['cluster_id'].values]\n",
    "    all_units_list.append(unit_metrics)\n",
    "all_select_units = pd.concat(all_units_list)"
   ]
  },
  {
   "cell_type": "raw",
   "id": "07474b6c-6564-4ab6-8226-1f5481065bad",
   "metadata": {},
   "source": [
    "all_select_units.head()"
   ]
  },
  {
   "cell_type": "markdown",
   "id": "bb32d7ad-0f42-4399-9431-08fbe863fac5",
   "metadata": {},
   "source": [
    "Cut unnecessary info and add CCF coords"
   ]
  },
  {
   "cell_type": "code",
   "execution_count": 27,
   "id": "203b61c5-ebd6-46fa-a260-f5f0a9c1fa40",
   "metadata": {},
   "outputs": [],
   "source": [
    "all_units_info = []\n",
    "for ui, urow in all_select_units.iterrows():\n",
    "    CCFcoords = [int(x) for x in urow['ccf_coord'].replace('[','').replace(']','').replace(' ','').split(',')]\n",
    "    all_units_info.append([urow['unit_name'], urow['area'], urow['spike_count'], urow['duration'], CCFcoords[0], CCFcoords[1], CCFcoords[2]])\n",
    "\n",
    "all_units_df = pd.DataFrame(all_units_info, columns=['unit_name', 'region', 'spike_count', 'spike_duration', 'CCF_AP', 'CCF_DV', 'CCF_ML'])"
   ]
  },
  {
   "cell_type": "code",
   "execution_count": 14,
   "id": "594b7edd-0aac-4ea4-8572-35e10e0e4e70",
   "metadata": {},
   "outputs": [
    {
     "data": {
      "text/html": [
       "<div>\n",
       "<style scoped>\n",
       "    .dataframe tbody tr th:only-of-type {\n",
       "        vertical-align: middle;\n",
       "    }\n",
       "\n",
       "    .dataframe tbody tr th {\n",
       "        vertical-align: top;\n",
       "    }\n",
       "\n",
       "    .dataframe thead th {\n",
       "        text-align: right;\n",
       "    }\n",
       "</style>\n",
       "<table border=\"1\" class=\"dataframe\">\n",
       "  <thead>\n",
       "    <tr style=\"text-align: right;\">\n",
       "      <th></th>\n",
       "      <th>unit_name</th>\n",
       "      <th>region</th>\n",
       "      <th>spike_count</th>\n",
       "      <th>spike_duration</th>\n",
       "      <th>CCF_AP</th>\n",
       "      <th>CCF_DV</th>\n",
       "      <th>CCF_ML</th>\n",
       "    </tr>\n",
       "  </thead>\n",
       "  <tbody>\n",
       "    <tr>\n",
       "      <th>0</th>\n",
       "      <td>B0</td>\n",
       "      <td>VAL</td>\n",
       "      <td>55327</td>\n",
       "      <td>0.494472</td>\n",
       "      <td>262</td>\n",
       "      <td>174</td>\n",
       "      <td>179</td>\n",
       "    </tr>\n",
       "    <tr>\n",
       "      <th>1</th>\n",
       "      <td>B1</td>\n",
       "      <td>VAL</td>\n",
       "      <td>16042</td>\n",
       "      <td>0.549414</td>\n",
       "      <td>262</td>\n",
       "      <td>174</td>\n",
       "      <td>179</td>\n",
       "    </tr>\n",
       "    <tr>\n",
       "      <th>2</th>\n",
       "      <td>B8</td>\n",
       "      <td>VAL</td>\n",
       "      <td>28023</td>\n",
       "      <td>0.467002</td>\n",
       "      <td>262</td>\n",
       "      <td>174</td>\n",
       "      <td>179</td>\n",
       "    </tr>\n",
       "    <tr>\n",
       "      <th>3</th>\n",
       "      <td>B10</td>\n",
       "      <td>VAL</td>\n",
       "      <td>66776</td>\n",
       "      <td>0.439531</td>\n",
       "      <td>262</td>\n",
       "      <td>174</td>\n",
       "      <td>179</td>\n",
       "    </tr>\n",
       "    <tr>\n",
       "      <th>4</th>\n",
       "      <td>B14</td>\n",
       "      <td>VAL</td>\n",
       "      <td>40878</td>\n",
       "      <td>0.453266</td>\n",
       "      <td>262</td>\n",
       "      <td>174</td>\n",
       "      <td>179</td>\n",
       "    </tr>\n",
       "  </tbody>\n",
       "</table>\n",
       "</div>"
      ],
      "text/plain": [
       "  unit_name region  spike_count  spike_duration  CCF_AP  CCF_DV  CCF_ML\n",
       "0        B0    VAL        55327        0.494472     262     174     179\n",
       "1        B1    VAL        16042        0.549414     262     174     179\n",
       "2        B8    VAL        28023        0.467002     262     174     179\n",
       "3       B10    VAL        66776        0.439531     262     174     179\n",
       "4       B14    VAL        40878        0.453266     262     174     179"
      ]
     },
     "execution_count": 14,
     "metadata": {},
     "output_type": "execute_result"
    }
   ],
   "source": [
    "all_units_df.head()"
   ]
  },
  {
   "cell_type": "code",
   "execution_count": 15,
   "id": "e1c3e80e-0280-4919-8d01-65555bd6ac0f",
   "metadata": {},
   "outputs": [
    {
     "name": "stdout",
     "output_type": "stream",
     "text": [
      "['CA1' 'CA3' 'CP' 'DG-po' 'DG-sg' 'HY' 'LD' 'LGd-co' 'LGd-sh' 'LSr' 'MGd'\n",
      " 'MGm' 'MGv' 'MOs2/3' 'MOs5' 'MOs6a' 'MOs6b' 'PO' 'SSp-tr5' 'SSp-tr6a'\n",
      " 'SSp-tr6b' 'SSs5' 'SSs6a' 'SSs6b' 'TH' 'VAL' 'VISa2/3' 'VISa4' 'VISa5'\n",
      " 'VISal4' 'VISal5' 'VISp4' 'VISp5' 'ZI' 'ccb' 'ccg' 'cing' 'fa' 'ml'\n",
      " 'root']\n"
     ]
    }
   ],
   "source": [
    "print(np.unique(all_units_df['region'].values))"
   ]
  },
  {
   "cell_type": "markdown",
   "id": "10d2cc13-3db3-4802-b859-e4df8392ed61",
   "metadata": {},
   "source": [
    "Add parent brain regions"
   ]
  },
  {
   "cell_type": "code",
   "execution_count": 28,
   "id": "4cd5b087-6cbc-4406-9acd-8d759e37df08",
   "metadata": {},
   "outputs": [],
   "source": [
    "sub_CCF_res = 25\n",
    "mcc = MouseConnectivityCache(resolution=sub_CCF_res)\n",
    "str_tree = mcc.get_structure_tree()\n",
    "annot, annot_info = mcc.get_annotation_volume()"
   ]
  },
  {
   "cell_type": "code",
   "execution_count": 29,
   "id": "d0aa64bd-33ae-4979-af5c-a8dc2def09ab",
   "metadata": {},
   "outputs": [],
   "source": [
    "all_units_info_df = add_parent_region_to_df(all_units_df, str_tree, annot)"
   ]
  },
  {
   "cell_type": "code",
   "execution_count": 30,
   "id": "98aeeeeb-9723-4581-9663-a030406d63df",
   "metadata": {},
   "outputs": [
    {
     "data": {
      "text/html": [
       "<div>\n",
       "<style scoped>\n",
       "    .dataframe tbody tr th:only-of-type {\n",
       "        vertical-align: middle;\n",
       "    }\n",
       "\n",
       "    .dataframe tbody tr th {\n",
       "        vertical-align: top;\n",
       "    }\n",
       "\n",
       "    .dataframe thead th {\n",
       "        text-align: right;\n",
       "    }\n",
       "</style>\n",
       "<table border=\"1\" class=\"dataframe\">\n",
       "  <thead>\n",
       "    <tr style=\"text-align: right;\">\n",
       "      <th></th>\n",
       "      <th>unit_name</th>\n",
       "      <th>region</th>\n",
       "      <th>spike_count</th>\n",
       "      <th>spike_duration</th>\n",
       "      <th>CCF_AP</th>\n",
       "      <th>CCF_DV</th>\n",
       "      <th>CCF_ML</th>\n",
       "      <th>parent_region</th>\n",
       "    </tr>\n",
       "  </thead>\n",
       "  <tbody>\n",
       "    <tr>\n",
       "      <th>0</th>\n",
       "      <td>B0</td>\n",
       "      <td>VAL</td>\n",
       "      <td>55327</td>\n",
       "      <td>0.494472</td>\n",
       "      <td>262</td>\n",
       "      <td>174</td>\n",
       "      <td>179</td>\n",
       "      <td>SM-TH</td>\n",
       "    </tr>\n",
       "    <tr>\n",
       "      <th>1</th>\n",
       "      <td>B1</td>\n",
       "      <td>VAL</td>\n",
       "      <td>16042</td>\n",
       "      <td>0.549414</td>\n",
       "      <td>262</td>\n",
       "      <td>174</td>\n",
       "      <td>179</td>\n",
       "      <td>SM-TH</td>\n",
       "    </tr>\n",
       "    <tr>\n",
       "      <th>2</th>\n",
       "      <td>B8</td>\n",
       "      <td>VAL</td>\n",
       "      <td>28023</td>\n",
       "      <td>0.467002</td>\n",
       "      <td>262</td>\n",
       "      <td>174</td>\n",
       "      <td>179</td>\n",
       "      <td>SM-TH</td>\n",
       "    </tr>\n",
       "    <tr>\n",
       "      <th>3</th>\n",
       "      <td>B10</td>\n",
       "      <td>VAL</td>\n",
       "      <td>66776</td>\n",
       "      <td>0.439531</td>\n",
       "      <td>262</td>\n",
       "      <td>174</td>\n",
       "      <td>179</td>\n",
       "      <td>SM-TH</td>\n",
       "    </tr>\n",
       "    <tr>\n",
       "      <th>4</th>\n",
       "      <td>B14</td>\n",
       "      <td>VAL</td>\n",
       "      <td>40878</td>\n",
       "      <td>0.453266</td>\n",
       "      <td>262</td>\n",
       "      <td>174</td>\n",
       "      <td>179</td>\n",
       "      <td>SM-TH</td>\n",
       "    </tr>\n",
       "  </tbody>\n",
       "</table>\n",
       "</div>"
      ],
      "text/plain": [
       "  unit_name region  spike_count  spike_duration  CCF_AP  CCF_DV  CCF_ML  \\\n",
       "0        B0    VAL        55327        0.494472     262     174     179   \n",
       "1        B1    VAL        16042        0.549414     262     174     179   \n",
       "2        B8    VAL        28023        0.467002     262     174     179   \n",
       "3       B10    VAL        66776        0.439531     262     174     179   \n",
       "4       B14    VAL        40878        0.453266     262     174     179   \n",
       "\n",
       "  parent_region  \n",
       "0         SM-TH  \n",
       "1         SM-TH  \n",
       "2         SM-TH  \n",
       "3         SM-TH  \n",
       "4         SM-TH  "
      ]
     },
     "execution_count": 30,
     "metadata": {},
     "output_type": "execute_result"
    }
   ],
   "source": [
    "all_units_info_df.head()"
   ]
  },
  {
   "cell_type": "raw",
   "id": "d796c8fb-ef68-44ff-b486-65f35a564436",
   "metadata": {},
   "source": [
    "all_units_info_df[5:20]"
   ]
  },
  {
   "cell_type": "markdown",
   "id": "ab6c3301-6595-410c-a5e5-9471a871fa8b",
   "metadata": {},
   "source": [
    "### Add colors for each brain region"
   ]
  },
  {
   "cell_type": "code",
   "execution_count": 35,
   "id": "f7bf5a4d-2357-4f81-a5d8-9b2e0f0efc0b",
   "metadata": {},
   "outputs": [
    {
     "data": {
      "text/html": [
       "<div>\n",
       "<style scoped>\n",
       "    .dataframe tbody tr th:only-of-type {\n",
       "        vertical-align: middle;\n",
       "    }\n",
       "\n",
       "    .dataframe tbody tr th {\n",
       "        vertical-align: top;\n",
       "    }\n",
       "\n",
       "    .dataframe thead th {\n",
       "        text-align: right;\n",
       "    }\n",
       "</style>\n",
       "<table border=\"1\" class=\"dataframe\">\n",
       "  <thead>\n",
       "    <tr style=\"text-align: right;\">\n",
       "      <th></th>\n",
       "      <th>unit_name</th>\n",
       "      <th>region</th>\n",
       "      <th>spike_count</th>\n",
       "      <th>spike_duration</th>\n",
       "      <th>CCF_AP</th>\n",
       "      <th>CCF_DV</th>\n",
       "      <th>CCF_ML</th>\n",
       "      <th>parent_region</th>\n",
       "    </tr>\n",
       "  </thead>\n",
       "  <tbody>\n",
       "    <tr>\n",
       "      <th>427</th>\n",
       "      <td>F0</td>\n",
       "      <td>LSr</td>\n",
       "      <td>20295</td>\n",
       "      <td>0.535678</td>\n",
       "      <td>178</td>\n",
       "      <td>202</td>\n",
       "      <td>221</td>\n",
       "      <td>STR</td>\n",
       "    </tr>\n",
       "    <tr>\n",
       "      <th>428</th>\n",
       "      <td>F2</td>\n",
       "      <td>LSr</td>\n",
       "      <td>19184</td>\n",
       "      <td>0.302178</td>\n",
       "      <td>178</td>\n",
       "      <td>201</td>\n",
       "      <td>221</td>\n",
       "      <td>STR</td>\n",
       "    </tr>\n",
       "    <tr>\n",
       "      <th>429</th>\n",
       "      <td>F5</td>\n",
       "      <td>LSr</td>\n",
       "      <td>54679</td>\n",
       "      <td>0.604355</td>\n",
       "      <td>178</td>\n",
       "      <td>201</td>\n",
       "      <td>221</td>\n",
       "      <td>STR</td>\n",
       "    </tr>\n",
       "    <tr>\n",
       "      <th>430</th>\n",
       "      <td>F8</td>\n",
       "      <td>LSr</td>\n",
       "      <td>53999</td>\n",
       "      <td>0.906533</td>\n",
       "      <td>178</td>\n",
       "      <td>200</td>\n",
       "      <td>221</td>\n",
       "      <td>STR</td>\n",
       "    </tr>\n",
       "    <tr>\n",
       "      <th>431</th>\n",
       "      <td>F9</td>\n",
       "      <td>LSr</td>\n",
       "      <td>29854</td>\n",
       "      <td>0.590620</td>\n",
       "      <td>178</td>\n",
       "      <td>200</td>\n",
       "      <td>220</td>\n",
       "      <td>STR</td>\n",
       "    </tr>\n",
       "    <tr>\n",
       "      <th>...</th>\n",
       "      <td>...</td>\n",
       "      <td>...</td>\n",
       "      <td>...</td>\n",
       "      <td>...</td>\n",
       "      <td>...</td>\n",
       "      <td>...</td>\n",
       "      <td>...</td>\n",
       "      <td>...</td>\n",
       "    </tr>\n",
       "    <tr>\n",
       "      <th>669</th>\n",
       "      <td>F478</td>\n",
       "      <td>LSr</td>\n",
       "      <td>23094</td>\n",
       "      <td>0.494472</td>\n",
       "      <td>172</td>\n",
       "      <td>172</td>\n",
       "      <td>207</td>\n",
       "      <td>STR</td>\n",
       "    </tr>\n",
       "    <tr>\n",
       "      <th>670</th>\n",
       "      <td>F479</td>\n",
       "      <td>LSr</td>\n",
       "      <td>50173</td>\n",
       "      <td>0.590620</td>\n",
       "      <td>172</td>\n",
       "      <td>172</td>\n",
       "      <td>207</td>\n",
       "      <td>STR</td>\n",
       "    </tr>\n",
       "    <tr>\n",
       "      <th>697</th>\n",
       "      <td>F542</td>\n",
       "      <td>LSr</td>\n",
       "      <td>554</td>\n",
       "      <td>0.714238</td>\n",
       "      <td>176</td>\n",
       "      <td>191</td>\n",
       "      <td>216</td>\n",
       "      <td>STR</td>\n",
       "    </tr>\n",
       "    <tr>\n",
       "      <th>710</th>\n",
       "      <td>F573</td>\n",
       "      <td>LSr</td>\n",
       "      <td>4063</td>\n",
       "      <td>0.604355</td>\n",
       "      <td>174</td>\n",
       "      <td>182</td>\n",
       "      <td>212</td>\n",
       "      <td>STR</td>\n",
       "    </tr>\n",
       "    <tr>\n",
       "      <th>711</th>\n",
       "      <td>F574</td>\n",
       "      <td>LSr</td>\n",
       "      <td>452</td>\n",
       "      <td>0.521943</td>\n",
       "      <td>174</td>\n",
       "      <td>182</td>\n",
       "      <td>212</td>\n",
       "      <td>STR</td>\n",
       "    </tr>\n",
       "  </tbody>\n",
       "</table>\n",
       "<p>112 rows × 8 columns</p>\n",
       "</div>"
      ],
      "text/plain": [
       "    unit_name region  spike_count  spike_duration  CCF_AP  CCF_DV  CCF_ML  \\\n",
       "427        F0    LSr        20295        0.535678     178     202     221   \n",
       "428        F2    LSr        19184        0.302178     178     201     221   \n",
       "429        F5    LSr        54679        0.604355     178     201     221   \n",
       "430        F8    LSr        53999        0.906533     178     200     221   \n",
       "431        F9    LSr        29854        0.590620     178     200     220   \n",
       "..        ...    ...          ...             ...     ...     ...     ...   \n",
       "669      F478    LSr        23094        0.494472     172     172     207   \n",
       "670      F479    LSr        50173        0.590620     172     172     207   \n",
       "697      F542    LSr          554        0.714238     176     191     216   \n",
       "710      F573    LSr         4063        0.604355     174     182     212   \n",
       "711      F574    LSr          452        0.521943     174     182     212   \n",
       "\n",
       "    parent_region  \n",
       "427           STR  \n",
       "428           STR  \n",
       "429           STR  \n",
       "430           STR  \n",
       "431           STR  \n",
       "..            ...  \n",
       "669           STR  \n",
       "670           STR  \n",
       "697           STR  \n",
       "710           STR  \n",
       "711           STR  \n",
       "\n",
       "[112 rows x 8 columns]"
      ]
     },
     "execution_count": 35,
     "metadata": {},
     "output_type": "execute_result"
    }
   ],
   "source": [
    "all_units_info_df[all_units_info_df['parent_region'] == 'STR']"
   ]
  },
  {
   "cell_type": "code",
   "execution_count": 31,
   "id": "5210a8cd-66cc-4a3e-98fe-d342c0d5d0f0",
   "metadata": {},
   "outputs": [
    {
     "name": "stdout",
     "output_type": "stream",
     "text": [
      "['HIP' 'MO' 'PTLp' 'SM-TH' 'SS' 'STR' 'VIS' 'other-TH']\n"
     ]
    }
   ],
   "source": [
    "print(np.unique(all_units_info_df['parent_region'].values))"
   ]
  },
  {
   "cell_type": "code",
   "execution_count": 20,
   "id": "0ad164ca-ae86-465a-8076-1ba4bf7c15ad",
   "metadata": {},
   "outputs": [],
   "source": [
    "region_colors = {\n",
    "    'HIP': 'CadetBlue',\n",
    "    'MO': 'Lime',\n",
    "    'PTLp': 'CadetBlue',\n",
    "    'SM-TH': 'Crimson',\n",
    "    'SS': 'Olive',\n",
    "    'STR': 'CadetBlue',\n",
    "    'VIS': 'Green',\n",
    "    'other-TH': 'LightSalmon',\n",
    "    'RT-TH': 'LightCoral',\n",
    "}"
   ]
  },
  {
   "cell_type": "code",
   "execution_count": 21,
   "id": "ff5d8001-640b-4843-ba63-a708878d42a6",
   "metadata": {},
   "outputs": [],
   "source": [
    "all_units_info_df['color'] = [region_colors[x] for x in all_units_info_df['parent_region'].values]"
   ]
  },
  {
   "cell_type": "code",
   "execution_count": 22,
   "id": "e634316f-a7ca-43e3-a5f8-aaba5ddcd6c6",
   "metadata": {},
   "outputs": [
    {
     "data": {
      "text/html": [
       "<div>\n",
       "<style scoped>\n",
       "    .dataframe tbody tr th:only-of-type {\n",
       "        vertical-align: middle;\n",
       "    }\n",
       "\n",
       "    .dataframe tbody tr th {\n",
       "        vertical-align: top;\n",
       "    }\n",
       "\n",
       "    .dataframe thead th {\n",
       "        text-align: right;\n",
       "    }\n",
       "</style>\n",
       "<table border=\"1\" class=\"dataframe\">\n",
       "  <thead>\n",
       "    <tr style=\"text-align: right;\">\n",
       "      <th></th>\n",
       "      <th>unit_name</th>\n",
       "      <th>region</th>\n",
       "      <th>spike_count</th>\n",
       "      <th>spike_duration</th>\n",
       "      <th>CCF_AP</th>\n",
       "      <th>CCF_DV</th>\n",
       "      <th>CCF_ML</th>\n",
       "      <th>parent_region</th>\n",
       "      <th>color</th>\n",
       "    </tr>\n",
       "  </thead>\n",
       "  <tbody>\n",
       "    <tr>\n",
       "      <th>0</th>\n",
       "      <td>B0</td>\n",
       "      <td>VAL</td>\n",
       "      <td>55327</td>\n",
       "      <td>0.494472</td>\n",
       "      <td>262</td>\n",
       "      <td>174</td>\n",
       "      <td>179</td>\n",
       "      <td>SM-TH</td>\n",
       "      <td>Crimson</td>\n",
       "    </tr>\n",
       "    <tr>\n",
       "      <th>1</th>\n",
       "      <td>B1</td>\n",
       "      <td>VAL</td>\n",
       "      <td>16042</td>\n",
       "      <td>0.549414</td>\n",
       "      <td>262</td>\n",
       "      <td>174</td>\n",
       "      <td>179</td>\n",
       "      <td>SM-TH</td>\n",
       "      <td>Crimson</td>\n",
       "    </tr>\n",
       "    <tr>\n",
       "      <th>2</th>\n",
       "      <td>B8</td>\n",
       "      <td>VAL</td>\n",
       "      <td>28023</td>\n",
       "      <td>0.467002</td>\n",
       "      <td>262</td>\n",
       "      <td>174</td>\n",
       "      <td>179</td>\n",
       "      <td>SM-TH</td>\n",
       "      <td>Crimson</td>\n",
       "    </tr>\n",
       "    <tr>\n",
       "      <th>3</th>\n",
       "      <td>B10</td>\n",
       "      <td>VAL</td>\n",
       "      <td>66776</td>\n",
       "      <td>0.439531</td>\n",
       "      <td>262</td>\n",
       "      <td>174</td>\n",
       "      <td>179</td>\n",
       "      <td>SM-TH</td>\n",
       "      <td>Crimson</td>\n",
       "    </tr>\n",
       "    <tr>\n",
       "      <th>4</th>\n",
       "      <td>B14</td>\n",
       "      <td>VAL</td>\n",
       "      <td>40878</td>\n",
       "      <td>0.453266</td>\n",
       "      <td>262</td>\n",
       "      <td>174</td>\n",
       "      <td>179</td>\n",
       "      <td>SM-TH</td>\n",
       "      <td>Crimson</td>\n",
       "    </tr>\n",
       "  </tbody>\n",
       "</table>\n",
       "</div>"
      ],
      "text/plain": [
       "  unit_name region  spike_count  spike_duration  CCF_AP  CCF_DV  CCF_ML  \\\n",
       "0        B0    VAL        55327        0.494472     262     174     179   \n",
       "1        B1    VAL        16042        0.549414     262     174     179   \n",
       "2        B8    VAL        28023        0.467002     262     174     179   \n",
       "3       B10    VAL        66776        0.439531     262     174     179   \n",
       "4       B14    VAL        40878        0.453266     262     174     179   \n",
       "\n",
       "  parent_region    color  \n",
       "0         SM-TH  Crimson  \n",
       "1         SM-TH  Crimson  \n",
       "2         SM-TH  Crimson  \n",
       "3         SM-TH  Crimson  \n",
       "4         SM-TH  Crimson  "
      ]
     },
     "execution_count": 22,
     "metadata": {},
     "output_type": "execute_result"
    }
   ],
   "source": [
    "all_units_info_df.head()"
   ]
  },
  {
   "cell_type": "markdown",
   "id": "f884a645-67ad-45a7-a8cf-8d44f9396f7f",
   "metadata": {},
   "source": [
    "## Save as .csv to load into brainrender .py code"
   ]
  },
  {
   "cell_type": "code",
   "execution_count": 23,
   "id": "520dc6d2-ec81-48ae-bf0c-95a52f10ce53",
   "metadata": {},
   "outputs": [
    {
     "name": "stdout",
     "output_type": "stream",
     "text": [
      "C:\\Users\\lesliec\\OneDrive - Allen Institute\\data\\brainrender_test_mouse735049_units_info.csv\n"
     ]
    }
   ],
   "source": [
    "unit_info_file = os.path.join(save_csv_dir, 'brainrender_test_{}_units_info.csv'.format(expmeta['mouse_name']))\n",
    "print(unit_info_file)"
   ]
  },
  {
   "cell_type": "raw",
   "id": "51a43e72-f1a3-40a5-a95f-b95cf92f30fc",
   "metadata": {},
   "source": [
    "all_units_info_df.to_csv(unit_info_file, index=False)"
   ]
  },
  {
   "cell_type": "code",
   "execution_count": 30,
   "id": "2c6f2b29-ab33-4b12-82b6-ce7fc2089e9b",
   "metadata": {},
   "outputs": [
    {
     "data": {
      "text/plain": [
       "Index(['unit_name', 'region', 'spike_count', 'spike_duration', 'CCF_AP',\n",
       "       'CCF_DV', 'CCF_ML', 'parent_region', 'color'],\n",
       "      dtype='object')"
      ]
     },
     "execution_count": 30,
     "metadata": {},
     "output_type": "execute_result"
    }
   ],
   "source": [
    "all_units_info_df.columns"
   ]
  },
  {
   "cell_type": "code",
   "execution_count": null,
   "id": "6315d131-4964-49f1-bbda-5cbc6597d1a7",
   "metadata": {},
   "outputs": [],
   "source": []
  },
  {
   "cell_type": "markdown",
   "id": "03373af9-baa2-42cf-8c49-9414aa6a37ae",
   "metadata": {},
   "source": [
    "# Explore probe coordinates"
   ]
  },
  {
   "cell_type": "code",
   "execution_count": 10,
   "id": "c78a07ef-1b49-4f7b-97ee-db11f5782825",
   "metadata": {},
   "outputs": [
    {
     "name": "stdout",
     "output_type": "stream",
     "text": [
      "mouse735049: aw_sal_2024-05-22_11-05-25\n"
     ]
    }
   ],
   "source": [
    "subexpind = 84\n",
    "expmeta = metadata.iloc[subexpind]\n",
    "print('{}: {}'.format(expmeta['mouse_name'], expmeta['exp_name']))"
   ]
  },
  {
   "cell_type": "code",
   "execution_count": 11,
   "id": "9400c6bb-c1f0-4a84-bb4c-212dc49468e5",
   "metadata": {},
   "outputs": [
    {
     "name": "stdout",
     "output_type": "stream",
     "text": [
      "Experiment type: electrical and sensory stimulation\n",
      "['probeB', 'probeC', 'probeD', 'probeF']\n"
     ]
    }
   ],
   "source": [
    "dataloc = os.path.join(data_dir, expmeta['mouse_name'], expmeta['exp_name'], 'experiment1', 'recording1')\n",
    "exp = EEGexp(dataloc, preprocess=False, make_stim_csv=False)\n",
    "probe_list = [x.replace('_sorted', '') for x in exp.experiment_data if 'probe' in x]\n",
    "print(probe_list)"
   ]
  },
  {
   "cell_type": "code",
   "execution_count": 12,
   "id": "245de83f-43e5-4d68-9a5f-07dee3ff7e1a",
   "metadata": {},
   "outputs": [],
   "source": [
    "probei = 'probeB'\n",
    "\n",
    "with open(exp.ephys_params[probei]['probe_info']) as data_file:\n",
    "    data = json.load(data_file)"
   ]
  },
  {
   "cell_type": "code",
   "execution_count": 13,
   "id": "8eaf269f-30e6-44fc-b328-59d75d8f36ae",
   "metadata": {},
   "outputs": [
    {
     "data": {
      "text/plain": [
       "dict_keys(['air_channel', 'channel', 'offset', 'mask', 'horizontal_pos', 'scaling', 'vertical_pos', 'surface_channel', 'area_ch', 'ccf_coord_ch', 'is_ipsi_ch', 'ccf_resolution'])"
      ]
     },
     "execution_count": 13,
     "metadata": {},
     "output_type": "execute_result"
    }
   ],
   "source": [
    "data.keys()"
   ]
  },
  {
   "cell_type": "code",
   "execution_count": 14,
   "id": "c1318348-43f9-4142-b16d-8a49151e990f",
   "metadata": {},
   "outputs": [
    {
     "name": "stdout",
     "output_type": "stream",
     "text": [
      "Yes, this probe has locations.\n"
     ]
    }
   ],
   "source": [
    "if 'ccf_coord_ch' in data.keys():\n",
    "    print('Yes, this probe has locations.')\n",
    "    \n",
    "else:\n",
    "    print('No locations for this probe.')"
   ]
  },
  {
   "cell_type": "code",
   "execution_count": 15,
   "id": "9e3228f7-e193-4622-82b4-6cef0f6a255e",
   "metadata": {},
   "outputs": [],
   "source": [
    "channels = np.array(data['channel'])\n",
    "ch_coords = np.array(data['ccf_coord_ch'])\n",
    "ccf_res = data['ccf_resolution']"
   ]
  },
  {
   "cell_type": "code",
   "execution_count": 21,
   "id": "9bbc9e76-16e6-40d5-a393-5097a230825a",
   "metadata": {},
   "outputs": [
    {
     "data": {
      "text/plain": [
       "(384, 3)"
      ]
     },
     "execution_count": 21,
     "metadata": {},
     "output_type": "execute_result"
    }
   ],
   "source": [
    "ch_coords.shape"
   ]
  },
  {
   "cell_type": "code",
   "execution_count": 22,
   "id": "7efadae7-834f-4ca7-8b45-d84d842bf3a5",
   "metadata": {},
   "outputs": [
    {
     "name": "stdout",
     "output_type": "stream",
     "text": [
      " probeB\n",
      " probeC\n",
      " probeD\n",
      " probeF\n"
     ]
    }
   ],
   "source": [
    "probe_coords = {}\n",
    "for probei in probe_list:\n",
    "    print(' {}'.format(probei))\n",
    "    with open(exp.ephys_params[probei]['probe_info']) as data_file:\n",
    "        data = json.load(data_file)\n",
    "\n",
    "    if 'ccf_coord_ch' in data.keys():\n",
    "        ch_coords = np.array(data['ccf_coord_ch'])\n",
    "        ccf_res = data['ccf_resolution']\n",
    "        probe_coords[probei] = [ch_coords[0], ch_coords[-1]]\n",
    "    else:\n",
    "        print('  No locations for this probe.')"
   ]
  },
  {
   "cell_type": "code",
   "execution_count": 23,
   "id": "8a34b00c-4c6c-428d-9cc2-c669eda949f5",
   "metadata": {},
   "outputs": [
    {
     "data": {
      "text/plain": [
       "{'probeB': [array([262, 174, 179]), array([279,   9, 158])],\n",
       " 'probeC': [array([308, 181, 154]), array([357,  32,  95])],\n",
       " 'probeD': [array([282, 196, 136]), array([323,  48,  68])],\n",
       " 'probeF': [array([178, 202, 221]), array([148,  53, 149])]}"
      ]
     },
     "execution_count": 23,
     "metadata": {},
     "output_type": "execute_result"
    }
   ],
   "source": [
    "probe_coords"
   ]
  },
  {
   "cell_type": "code",
   "execution_count": null,
   "id": "51945dca-6fdc-4cf4-961f-a32df1467422",
   "metadata": {},
   "outputs": [],
   "source": []
  },
  {
   "cell_type": "code",
   "execution_count": null,
   "id": "a7b60c0e-ac01-4ab1-b645-64107ed67466",
   "metadata": {},
   "outputs": [],
   "source": []
  },
  {
   "cell_type": "code",
   "execution_count": null,
   "id": "837540db-5e4c-44ea-814e-634a7c7619db",
   "metadata": {},
   "outputs": [],
   "source": []
  }
 ],
 "metadata": {
  "kernelspec": {
   "display_name": "tbd_eeg",
   "language": "python",
   "name": "tbd_eeg"
  },
  "language_info": {
   "codemirror_mode": {
    "name": "ipython",
    "version": 3
   },
   "file_extension": ".py",
   "mimetype": "text/x-python",
   "name": "python",
   "nbconvert_exporter": "python",
   "pygments_lexer": "ipython3",
   "version": "3.7.13"
  }
 },
 "nbformat": 4,
 "nbformat_minor": 5
}
