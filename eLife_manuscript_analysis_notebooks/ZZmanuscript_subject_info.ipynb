{
 "cells": [
  {
   "cell_type": "code",
   "execution_count": 1,
   "metadata": {},
   "outputs": [],
   "source": [
    "from datetime import date\n",
    "from glob import glob\n",
    "import json\n",
    "import os\n",
    "import math\n",
    "import sys\n",
    "import time"
   ]
  },
  {
   "cell_type": "code",
   "execution_count": 2,
   "metadata": {},
   "outputs": [],
   "source": [
    "sys.path.append(r'C:\\Users\\lesliec\\code')"
   ]
  },
  {
   "cell_type": "code",
   "execution_count": 3,
   "metadata": {},
   "outputs": [],
   "source": [
    "from allensdk.core.mouse_connectivity_cache import MouseConnectivityCache\n",
    "import gspread\n",
    "import matplotlib.pyplot as plt\n",
    "import numpy as np\n",
    "import pandas as pd"
   ]
  },
  {
   "cell_type": "code",
   "execution_count": 4,
   "metadata": {},
   "outputs": [],
   "source": [
    "from tbd_eeg.tbd_eeg.data_analysis.eegutils import EEGexp\n",
    "from tbd_eeg.tbd_eeg.data_analysis.Utilities.utilities import get_stim_events, get_evoked_traces, find_nearest_ind"
   ]
  },
  {
   "cell_type": "code",
   "execution_count": 5,
   "metadata": {},
   "outputs": [],
   "source": [
    "%matplotlib notebook"
   ]
  },
  {
   "cell_type": "markdown",
   "metadata": {},
   "source": [
    "#### Functions"
   ]
  },
  {
   "cell_type": "code",
   "execution_count": 6,
   "metadata": {},
   "outputs": [],
   "source": [
    "def get_stim_event_inds(stim_table, stim_type, stim_param, sweep, trials='stationary'):\n",
    "    if trials == 'resting':\n",
    "        return stim_table[\n",
    "            (stim_table['stim_type'] == stim_type) &\n",
    "            (stim_table['parameter'] == stim_param) &\n",
    "            (stim_table['sweep'] == sweep) &\n",
    "            (stim_table['good'] == True) &\n",
    "            (stim_table['resting_trial'] == True)\n",
    "        ].index.values\n",
    "    elif trials == 'running':\n",
    "        return stim_table[\n",
    "            (stim_table['stim_type'] == stim_type) &\n",
    "            (stim_table['parameter'] == stim_param) &\n",
    "            (stim_table['sweep'] == sweep) &\n",
    "            (stim_table['good'] == True) &\n",
    "            (stim_table['resting_trial'] == False)\n",
    "        ].index.values\n",
    "    else:\n",
    "        return stim_table[\n",
    "            (stim_table['stim_type'] == stim_type) &\n",
    "            (stim_table['parameter'] == stim_param) &\n",
    "            (stim_table['sweep'] == sweep) &\n",
    "            (stim_table['good'] == True)\n",
    "        ].index.values"
   ]
  },
  {
   "cell_type": "code",
   "execution_count": 7,
   "metadata": {},
   "outputs": [],
   "source": [
    "def p_stars(test_pval):\n",
    "    if test_pval < 0.001:\n",
    "        return '***'\n",
    "    elif test_pval < 0.01:\n",
    "        return '**'\n",
    "    elif test_pval < 0.05:\n",
    "        return '*'\n",
    "    else:\n",
    "        return 'n.s.'"
   ]
  },
  {
   "cell_type": "markdown",
   "metadata": {},
   "source": [
    "#### Load Zap_Zip-log_exp to get metadata for experiments"
   ]
  },
  {
   "cell_type": "code",
   "execution_count": 8,
   "metadata": {},
   "outputs": [],
   "source": [
    "_gc = gspread.service_account() # need a key file to access the account\n",
    "_sh = _gc.open('Zap_Zip-log_exp') # open the spreadsheet\n",
    "_df = pd.DataFrame(_sh.sheet1.get()) # load the first worksheet\n",
    "zzmetadata = _df.T.set_index(0).T # put it in a nicely formatted dataframe"
   ]
  },
  {
   "cell_type": "code",
   "execution_count": 9,
   "metadata": {},
   "outputs": [],
   "source": [
    "state_colors = {\n",
    "    'awake': (120/255, 156/255, 74/255),\n",
    "    'anesthetized': (130/255, 122/255, 163/255),\n",
    "    'recovery': (93/255, 167/255, 229/255)\n",
    "}\n",
    "c_vermillion = (213/255, 94/255, 0/255)\n",
    "c_bgreen = (0/255, 158/255, 115/255)\n",
    "c_skyblue = (86/255, 180/255, 233/255)"
   ]
  },
  {
   "cell_type": "markdown",
   "metadata": {},
   "source": [
    "### Load subjects list from .json file"
   ]
  },
  {
   "cell_type": "code",
   "execution_count": 10,
   "metadata": {},
   "outputs": [],
   "source": [
    "with open(r'C:\\Users\\lesliec\\OneDrive - Allen Institute\\data\\all_iso_subjects.json') as subjects_file:\n",
    "    multi_sub_dict = json.load(subjects_file)"
   ]
  },
  {
   "cell_type": "raw",
   "metadata": {},
   "source": [
    "## Load fewer subjects for testing script ##\n",
    "with open(r'C:\\Users\\lesliec\\OneDrive - Allen Institute\\data\\TEST_iso_subjects_wPROBES.json') as subjects_file:\n",
    "    multi_sub_dict = json.load(subjects_file)"
   ]
  },
  {
   "cell_type": "code",
   "execution_count": 11,
   "metadata": {
    "scrolled": true
   },
   "outputs": [
    {
     "name": "stdout",
     "output_type": "stream",
     "text": [
      "MOs_superficial\n",
      "\n",
      " 521885\n",
      "Experiment type: electrical stimulation\n",
      "\n",
      " 521886\n",
      "Experiment type: electrical stimulation\n",
      "\n",
      " 521887\n",
      "Experiment type: electrical stimulation\n",
      "\n",
      " 543393\n",
      "Experiment type: electrical stimulation\n",
      "\n",
      " 543394\n",
      "Experiment type: electrical stimulation\n",
      "\n",
      " 575102\n",
      "Experiment type: electrical and sensory stimulation\n",
      "\n",
      " 571619\n",
      "Experiment type: electrical stimulation\n",
      "\n",
      "MOs_deep\n",
      "\n",
      " 546655\n",
      "Experiment type: electrical and sensory stimulation\n",
      "\n",
      " 551399\n",
      "Experiment type: electrical stimulation\n",
      "\n",
      " 551397\n",
      "Experiment type: electrical and sensory stimulation\n",
      "\n",
      " 569062\n",
      "Experiment type: electrical and sensory stimulation\n",
      "\n",
      " 569068\n",
      "Experiment type: electrical and sensory stimulation\n",
      "\n",
      " 569069\n",
      "Experiment type: electrical and sensory stimulation\n",
      "\n",
      " 569064\n",
      "Experiment type: electrical and sensory stimulation\n",
      "\n",
      " 569073\n",
      "Experiment type: electrical and sensory stimulation\n",
      "\n",
      " 571619\n",
      "Experiment type: electrical stimulation\n",
      "\n",
      " 569070\n",
      "Experiment type: electrical stimulation\n",
      "\n",
      "SSp_superficial\n",
      "\n",
      " 571620\n",
      "Experiment type: electrical and sensory stimulation\n",
      "\n",
      " 586466\n",
      "Experiment type: electrical and sensory stimulation\n",
      "\n",
      " 590479\n",
      "Experiment type: electrical stimulation\n",
      "\n",
      " 590480\n",
      "Experiment type: electrical and sensory stimulation\n",
      "\n",
      " 599017\n",
      "Experiment type: electrical and sensory stimulation\n",
      "\n",
      "SSp_deep\n",
      "\n",
      " 569073\n",
      "Experiment type: electrical stimulation\n",
      "\n",
      " 569072\n",
      "Experiment type: electrical and sensory stimulation\n",
      "\n",
      " 571620\n",
      "Experiment type: electrical and sensory stimulation\n",
      "\n",
      " 586466\n",
      "Experiment type: electrical and sensory stimulation\n",
      "\n",
      " 586468\n",
      "Experiment type: electrical and sensory stimulation\n",
      "\n",
      " 590479\n",
      "Experiment type: electrical stimulation\n",
      "\n",
      " 590480\n",
      "Experiment type: electrical and sensory stimulation\n",
      "\n",
      " 599017\n",
      "Experiment type: electrical and sensory stimulation\n",
      "\n"
     ]
    }
   ],
   "source": [
    "for group, group_subs in multi_sub_dict.items():\n",
    "    print(group)\n",
    "    print('')\n",
    "    for mouse_num, mdata in group_subs.items():\n",
    "        print(' {}'.format(mouse_num))\n",
    "        mdata['exp'] = EEGexp(mdata['data_loc'], preprocess=False, make_stim_csv=False)\n",
    "        print('')"
   ]
  },
  {
   "cell_type": "code",
   "execution_count": 12,
   "metadata": {},
   "outputs": [],
   "source": [
    "savedir = r'C:\\Users\\lesliec\\OneDrive - Allen Institute\\data'"
   ]
  },
  {
   "cell_type": "markdown",
   "metadata": {},
   "source": [
    "## Find average isoflurane induction time"
   ]
  },
  {
   "cell_type": "code",
   "execution_count": 15,
   "metadata": {
    "scrolled": true
   },
   "outputs": [
    {
     "name": "stdout",
     "output_type": "stream",
     "text": [
      "MOs_superficial\n",
      " 521885: cannot get iso times\n",
      " 521886: 215.97 s\n",
      " 521887: 108.63 s\n",
      " 543393: 269.57 s\n",
      " 543394: 414.74 s\n",
      " 575102: 215.16 s\n",
      " 571619: 133.18 s\n",
      "\n",
      "MOs_deep\n",
      " 546655: 355.96 s\n",
      " 551399: 273.16 s\n",
      " 551397: 239.97 s\n",
      " 569062: 257.97 s\n",
      " 569068: 537.93 s\n",
      " 569069: 279.16 s\n",
      " 569064: 199.57 s\n",
      " 569073: 509.54 s\n",
      " 571619: 133.18 s\n",
      " 569070: 290.36 s\n",
      "\n",
      "SSp_superficial\n",
      " 571620: 225.96 s\n",
      " 586466: 211.17 s\n",
      " 590479: 210.37 s\n",
      " 590480: 135.17 s\n",
      " 599017: 237.56 s\n",
      "\n",
      "SSp_deep\n",
      " 569073: 81.19 s\n",
      " 569072: 223.16 s\n",
      " 571620: 225.96 s\n",
      " 586466: 211.17 s\n",
      " 586468: 125.97 s\n",
      " 590479: 210.37 s\n",
      " 590480: 135.17 s\n",
      " 599017: 237.56 s\n",
      "\n",
      "Time to load all subjects: 0.48 mins\n"
     ]
    }
   ],
   "source": [
    "start = time.time()\n",
    "all_iso_inductions = []\n",
    "for group, group_subs in multi_sub_dict.items():\n",
    "    print(group)\n",
    "    for mouse_num, mdata in group_subs.items():\n",
    "        try:\n",
    "            iso_ind, iso_maint = mdata['exp'].load_iso_times()\n",
    "            print(' {}: {:.2f} s'.format(mouse_num, np.diff(iso_ind)[0]))\n",
    "            all_iso_inductions.append(np.diff(iso_ind)[0] / 60)\n",
    "        except IndexError:\n",
    "            print(' {}: cannot get iso times'.format(mouse_num))\n",
    "        \n",
    "    print('')\n",
    "end = time.time()\n",
    "print('Time to load all subjects: {:.2f} mins'.format((end-start)/60))"
   ]
  },
  {
   "cell_type": "code",
   "execution_count": 17,
   "metadata": {},
   "outputs": [
    {
     "name": "stdout",
     "output_type": "stream",
     "text": [
      "Mean induction time: 4.0 min\n",
      "SEM: 0.3 min\n"
     ]
    }
   ],
   "source": [
    "print('Mean induction time: {:.1f} min'.format(np.mean(all_iso_inductions)))\n",
    "print('SEM: {:.1f} min'.format(np.std(all_iso_inductions)/(np.sqrt(len(all_iso_inductions)))))"
   ]
  },
  {
   "cell_type": "code",
   "execution_count": 15,
   "metadata": {},
   "outputs": [],
   "source": [
    "## Remove duplicate subjects (subjects with two depths) ##\n",
    "all_subs_ind = np.unique(all_iso_inductions)\n",
    "\n",
    "## Remove outliers ##\n",
    "rem_outs = all_subs_ind[all_subs_ind < 600]"
   ]
  },
  {
   "cell_type": "code",
   "execution_count": 16,
   "metadata": {},
   "outputs": [
    {
     "name": "stdout",
     "output_type": "stream",
     "text": [
      "Mean induction time: 4.06 min\n",
      "SEM: 0.36 min\n"
     ]
    }
   ],
   "source": [
    "print('Mean induction time: {:.2f} min'.format(np.mean(rem_outs)/60))\n",
    "print('SEM: {:.2f} min'.format(np.std(rem_outs)/(np.sqrt(len(rem_outs))*60)))"
   ]
  },
  {
   "cell_type": "markdown",
   "metadata": {},
   "source": [
    "## Find location of stim electrode"
   ]
  },
  {
   "cell_type": "code",
   "execution_count": 17,
   "metadata": {},
   "outputs": [
    {
     "data": {
      "text/html": [
       "<div>\n",
       "<style scoped>\n",
       "    .dataframe tbody tr th:only-of-type {\n",
       "        vertical-align: middle;\n",
       "    }\n",
       "\n",
       "    .dataframe tbody tr th {\n",
       "        vertical-align: top;\n",
       "    }\n",
       "\n",
       "    .dataframe thead th {\n",
       "        text-align: right;\n",
       "    }\n",
       "</style>\n",
       "<table border=\"1\" class=\"dataframe\">\n",
       "  <thead>\n",
       "    <tr style=\"text-align: right;\">\n",
       "      <th></th>\n",
       "      <th>mouse_name</th>\n",
       "      <th>exp_name</th>\n",
       "      <th>brain states</th>\n",
       "      <th>stimulation</th>\n",
       "      <th>visual_stim</th>\n",
       "      <th>audio_stim</th>\n",
       "      <th>ISI (sec)</th>\n",
       "      <th>stimulus duration (msec)</th>\n",
       "      <th>Current (uA)</th>\n",
       "      <th>Cortical Area stimulation</th>\n",
       "      <th>N trials per stimulus</th>\n",
       "      <th>EEG bad_channels</th>\n",
       "      <th>Npx</th>\n",
       "      <th>Units Sorted (X)</th>\n",
       "      <th>Brain slices (X)</th>\n",
       "      <th></th>\n",
       "      <th>Brain areas assignment</th>\n",
       "      <th>CCF coordinates stim electrode (surface,tip)</th>\n",
       "      <th>CCF area stim electrode (surface,tip)</th>\n",
       "      <th>Notes</th>\n",
       "    </tr>\n",
       "  </thead>\n",
       "  <tbody>\n",
       "    <tr>\n",
       "      <th>1</th>\n",
       "      <td>mouse496220</td>\n",
       "      <td>audio_vis1_2020-06-10_14-54-43</td>\n",
       "      <td>awake/ISO</td>\n",
       "      <td>sensory</td>\n",
       "      <td>black/white</td>\n",
       "      <td>whitenoise/10000</td>\n",
       "      <td>5</td>\n",
       "      <td>250</td>\n",
       "      <td></td>\n",
       "      <td></td>\n",
       "      <td>60</td>\n",
       "      <td>None</td>\n",
       "      <td>None</td>\n",
       "      <td>None</td>\n",
       "      <td>None</td>\n",
       "      <td>None</td>\n",
       "      <td>None</td>\n",
       "      <td>None</td>\n",
       "      <td>None</td>\n",
       "      <td>None</td>\n",
       "    </tr>\n",
       "    <tr>\n",
       "      <th>2</th>\n",
       "      <td>mouse496220</td>\n",
       "      <td>audio_vis2_2020-06-11_11-42-47</td>\n",
       "      <td>awake/ISO</td>\n",
       "      <td>sensory</td>\n",
       "      <td>black/white</td>\n",
       "      <td>whitenoise/10000</td>\n",
       "      <td>5</td>\n",
       "      <td>250</td>\n",
       "      <td></td>\n",
       "      <td></td>\n",
       "      <td>60</td>\n",
       "      <td>29</td>\n",
       "      <td>None</td>\n",
       "      <td>None</td>\n",
       "      <td>None</td>\n",
       "      <td>None</td>\n",
       "      <td>None</td>\n",
       "      <td>None</td>\n",
       "      <td>None</td>\n",
       "      <td>None</td>\n",
       "    </tr>\n",
       "    <tr>\n",
       "      <th>3</th>\n",
       "      <td>mouse496220</td>\n",
       "      <td>audio_vis3_2020-06-16_10-35-57</td>\n",
       "      <td>run/resting</td>\n",
       "      <td>sensory</td>\n",
       "      <td>black</td>\n",
       "      <td>whitenoise</td>\n",
       "      <td>5</td>\n",
       "      <td>250</td>\n",
       "      <td></td>\n",
       "      <td></td>\n",
       "      <td>20</td>\n",
       "      <td>None</td>\n",
       "      <td>None</td>\n",
       "      <td>None</td>\n",
       "      <td>None</td>\n",
       "      <td>None</td>\n",
       "      <td>None</td>\n",
       "      <td>None</td>\n",
       "      <td>None</td>\n",
       "      <td>None</td>\n",
       "    </tr>\n",
       "    <tr>\n",
       "      <th>4</th>\n",
       "      <td>mouse496220</td>\n",
       "      <td>audio_vis4_2020-06-18_13-49-17</td>\n",
       "      <td>run/resting</td>\n",
       "      <td>sensory</td>\n",
       "      <td>black/white</td>\n",
       "      <td>whitenoise/10000</td>\n",
       "      <td>5</td>\n",
       "      <td>250</td>\n",
       "      <td></td>\n",
       "      <td></td>\n",
       "      <td>60</td>\n",
       "      <td>None</td>\n",
       "      <td>None</td>\n",
       "      <td>None</td>\n",
       "      <td>None</td>\n",
       "      <td>None</td>\n",
       "      <td>None</td>\n",
       "      <td>None</td>\n",
       "      <td>None</td>\n",
       "      <td>None</td>\n",
       "    </tr>\n",
       "    <tr>\n",
       "      <th>5</th>\n",
       "      <td>mouse521885</td>\n",
       "      <td>audio_vis1_2020-07-08_12-37-58</td>\n",
       "      <td>awake/ISO</td>\n",
       "      <td>sensory</td>\n",
       "      <td>black/white</td>\n",
       "      <td>whitenoise/10000</td>\n",
       "      <td>[3.5 4.5]</td>\n",
       "      <td>250</td>\n",
       "      <td></td>\n",
       "      <td></td>\n",
       "      <td>50</td>\n",
       "      <td>6</td>\n",
       "      <td>None</td>\n",
       "      <td>None</td>\n",
       "      <td>None</td>\n",
       "      <td>None</td>\n",
       "      <td>None</td>\n",
       "      <td>None</td>\n",
       "      <td>None</td>\n",
       "      <td>None</td>\n",
       "    </tr>\n",
       "  </tbody>\n",
       "</table>\n",
       "</div>"
      ],
      "text/plain": [
       "0   mouse_name                        exp_name brain states stimulation  \\\n",
       "1  mouse496220  audio_vis1_2020-06-10_14-54-43    awake/ISO     sensory   \n",
       "2  mouse496220  audio_vis2_2020-06-11_11-42-47    awake/ISO     sensory   \n",
       "3  mouse496220  audio_vis3_2020-06-16_10-35-57  run/resting     sensory   \n",
       "4  mouse496220  audio_vis4_2020-06-18_13-49-17  run/resting     sensory   \n",
       "5  mouse521885  audio_vis1_2020-07-08_12-37-58    awake/ISO     sensory   \n",
       "\n",
       "0  visual_stim        audio_stim  ISI (sec) stimulus duration (msec)  \\\n",
       "1  black/white  whitenoise/10000          5                      250   \n",
       "2  black/white  whitenoise/10000          5                      250   \n",
       "3        black        whitenoise          5                      250   \n",
       "4  black/white  whitenoise/10000          5                      250   \n",
       "5  black/white  whitenoise/10000  [3.5 4.5]                      250   \n",
       "\n",
       "0 Current (uA) Cortical Area stimulation N trials per stimulus  \\\n",
       "1                                                           60   \n",
       "2                                                           60   \n",
       "3                                                           20   \n",
       "4                                                           60   \n",
       "5                                                           50   \n",
       "\n",
       "0 EEG bad_channels   Npx Units Sorted (X) Brain slices (X)        \\\n",
       "1             None  None             None             None  None   \n",
       "2               29  None             None             None  None   \n",
       "3             None  None             None             None  None   \n",
       "4             None  None             None             None  None   \n",
       "5                6  None             None             None  None   \n",
       "\n",
       "0 Brain areas assignment CCF coordinates stim electrode (surface,tip)  \\\n",
       "1                   None                                         None   \n",
       "2                   None                                         None   \n",
       "3                   None                                         None   \n",
       "4                   None                                         None   \n",
       "5                   None                                         None   \n",
       "\n",
       "0 CCF area stim electrode (surface,tip) Notes  \n",
       "1                                  None  None  \n",
       "2                                  None  None  \n",
       "3                                  None  None  \n",
       "4                                  None  None  \n",
       "5                                  None  None  "
      ]
     },
     "execution_count": 17,
     "metadata": {},
     "output_type": "execute_result"
    }
   ],
   "source": [
    "zzmetadata.head()"
   ]
  },
  {
   "cell_type": "code",
   "execution_count": 18,
   "metadata": {},
   "outputs": [
    {
     "data": {
      "text/html": [
       "<div>\n",
       "<style scoped>\n",
       "    .dataframe tbody tr th:only-of-type {\n",
       "        vertical-align: middle;\n",
       "    }\n",
       "\n",
       "    .dataframe tbody tr th {\n",
       "        vertical-align: top;\n",
       "    }\n",
       "\n",
       "    .dataframe thead th {\n",
       "        text-align: right;\n",
       "    }\n",
       "</style>\n",
       "<table border=\"1\" class=\"dataframe\">\n",
       "  <thead>\n",
       "    <tr style=\"text-align: right;\">\n",
       "      <th></th>\n",
       "      <th>mouse_name</th>\n",
       "      <th>exp_name</th>\n",
       "      <th>brain states</th>\n",
       "      <th>stimulation</th>\n",
       "      <th>visual_stim</th>\n",
       "      <th>audio_stim</th>\n",
       "      <th>ISI (sec)</th>\n",
       "      <th>stimulus duration (msec)</th>\n",
       "      <th>Current (uA)</th>\n",
       "      <th>Cortical Area stimulation</th>\n",
       "      <th>N trials per stimulus</th>\n",
       "      <th>EEG bad_channels</th>\n",
       "      <th>Npx</th>\n",
       "      <th>Units Sorted (X)</th>\n",
       "      <th>Brain slices (X)</th>\n",
       "      <th></th>\n",
       "      <th>Brain areas assignment</th>\n",
       "      <th>CCF coordinates stim electrode (surface,tip)</th>\n",
       "      <th>CCF area stim electrode (surface,tip)</th>\n",
       "      <th>Notes</th>\n",
       "    </tr>\n",
       "  </thead>\n",
       "  <tbody>\n",
       "    <tr>\n",
       "      <th>6</th>\n",
       "      <td>mouse521885</td>\n",
       "      <td>estim1_2020-07-09_14-23-49</td>\n",
       "      <td>awake/ISO</td>\n",
       "      <td>electrical</td>\n",
       "      <td>N/A</td>\n",
       "      <td>N/A</td>\n",
       "      <td>[3.5 4.5]</td>\n",
       "      <td>0.2</td>\n",
       "      <td>20/50/100</td>\n",
       "      <td>M2</td>\n",
       "      <td>60</td>\n",
       "      <td>6,7,8,10,11,12,13,14,15,16,17,18,21</td>\n",
       "      <td>None</td>\n",
       "      <td>None</td>\n",
       "      <td>None</td>\n",
       "      <td>None</td>\n",
       "      <td>None</td>\n",
       "      <td>None</td>\n",
       "      <td>None</td>\n",
       "      <td>None</td>\n",
       "    </tr>\n",
       "    <tr>\n",
       "      <th>7</th>\n",
       "      <td>mouse521886</td>\n",
       "      <td>audio_vis1_2020-07-15_13-28-29</td>\n",
       "      <td>awake/ISO</td>\n",
       "      <td>sensory</td>\n",
       "      <td>black/white</td>\n",
       "      <td>whitenoise/10000</td>\n",
       "      <td>[3.5 4.5]</td>\n",
       "      <td>250</td>\n",
       "      <td></td>\n",
       "      <td></td>\n",
       "      <td>60</td>\n",
       "      <td>None</td>\n",
       "      <td>None</td>\n",
       "      <td>None</td>\n",
       "      <td>None</td>\n",
       "      <td>None</td>\n",
       "      <td>None</td>\n",
       "      <td>None</td>\n",
       "      <td>None</td>\n",
       "      <td>None</td>\n",
       "    </tr>\n",
       "    <tr>\n",
       "      <th>8</th>\n",
       "      <td>mouse521886</td>\n",
       "      <td>estim1_2020-07-16_13-37-02</td>\n",
       "      <td>awake/ISO/recovery</td>\n",
       "      <td>electrical</td>\n",
       "      <td>N/A</td>\n",
       "      <td>N/A</td>\n",
       "      <td>[3.5 4.5]</td>\n",
       "      <td>0.2</td>\n",
       "      <td>20/50/100</td>\n",
       "      <td>M2</td>\n",
       "      <td>100</td>\n",
       "      <td>10,11,12,13,14,15,16,17,18,19</td>\n",
       "      <td>None</td>\n",
       "      <td>None</td>\n",
       "      <td>None</td>\n",
       "      <td>None</td>\n",
       "      <td>None</td>\n",
       "      <td>None</td>\n",
       "      <td>None</td>\n",
       "      <td>None</td>\n",
       "    </tr>\n",
       "    <tr>\n",
       "      <th>9</th>\n",
       "      <td>mouse521887</td>\n",
       "      <td>audio1_2020-07-29_09-13-05</td>\n",
       "      <td>awake/awake/awake/ISO/ISO/ISO_low/recovery/rec...</td>\n",
       "      <td>sensory</td>\n",
       "      <td>N/A</td>\n",
       "      <td>whitenoise/10000</td>\n",
       "      <td>2.5</td>\n",
       "      <td>250</td>\n",
       "      <td></td>\n",
       "      <td></td>\n",
       "      <td>100</td>\n",
       "      <td>7,18</td>\n",
       "      <td>None</td>\n",
       "      <td>None</td>\n",
       "      <td>None</td>\n",
       "      <td>None</td>\n",
       "      <td>None</td>\n",
       "      <td>None</td>\n",
       "      <td>None</td>\n",
       "      <td>None</td>\n",
       "    </tr>\n",
       "    <tr>\n",
       "      <th>10</th>\n",
       "      <td>mouse521887</td>\n",
       "      <td>estim1_2020-07-30_11-25-05</td>\n",
       "      <td>awake/awake</td>\n",
       "      <td>electrical</td>\n",
       "      <td>N/A</td>\n",
       "      <td>N/A</td>\n",
       "      <td>[3.5 4.5]</td>\n",
       "      <td>0.2</td>\n",
       "      <td>20</td>\n",
       "      <td>M2</td>\n",
       "      <td>100</td>\n",
       "      <td>4,7,9,11,12,13,14,15,18</td>\n",
       "      <td>None</td>\n",
       "      <td>None</td>\n",
       "      <td>None</td>\n",
       "      <td>None</td>\n",
       "      <td>None</td>\n",
       "      <td>None</td>\n",
       "      <td>None</td>\n",
       "      <td>None</td>\n",
       "    </tr>\n",
       "  </tbody>\n",
       "</table>\n",
       "</div>"
      ],
      "text/plain": [
       "0    mouse_name                        exp_name  \\\n",
       "6   mouse521885      estim1_2020-07-09_14-23-49   \n",
       "7   mouse521886  audio_vis1_2020-07-15_13-28-29   \n",
       "8   mouse521886      estim1_2020-07-16_13-37-02   \n",
       "9   mouse521887      audio1_2020-07-29_09-13-05   \n",
       "10  mouse521887      estim1_2020-07-30_11-25-05   \n",
       "\n",
       "0                                        brain states stimulation  \\\n",
       "6                                           awake/ISO  electrical   \n",
       "7                                           awake/ISO     sensory   \n",
       "8                                  awake/ISO/recovery  electrical   \n",
       "9   awake/awake/awake/ISO/ISO/ISO_low/recovery/rec...     sensory   \n",
       "10                                        awake/awake  electrical   \n",
       "\n",
       "0   visual_stim        audio_stim  ISI (sec) stimulus duration (msec)  \\\n",
       "6           N/A               N/A  [3.5 4.5]                      0.2   \n",
       "7   black/white  whitenoise/10000  [3.5 4.5]                      250   \n",
       "8           N/A               N/A  [3.5 4.5]                      0.2   \n",
       "9           N/A  whitenoise/10000        2.5                      250   \n",
       "10          N/A               N/A  [3.5 4.5]                      0.2   \n",
       "\n",
       "0  Current (uA) Cortical Area stimulation N trials per stimulus  \\\n",
       "6     20/50/100                        M2                    60   \n",
       "7                                                            60   \n",
       "8     20/50/100                        M2                   100   \n",
       "9                                                           100   \n",
       "10           20                        M2                   100   \n",
       "\n",
       "0                      EEG bad_channels   Npx Units Sorted (X)  \\\n",
       "6   6,7,8,10,11,12,13,14,15,16,17,18,21  None             None   \n",
       "7                                  None  None             None   \n",
       "8         10,11,12,13,14,15,16,17,18,19  None             None   \n",
       "9                                  7,18  None             None   \n",
       "10              4,7,9,11,12,13,14,15,18  None             None   \n",
       "\n",
       "0  Brain slices (X)       Brain areas assignment  \\\n",
       "6              None  None                   None   \n",
       "7              None  None                   None   \n",
       "8              None  None                   None   \n",
       "9              None  None                   None   \n",
       "10             None  None                   None   \n",
       "\n",
       "0  CCF coordinates stim electrode (surface,tip)  \\\n",
       "6                                          None   \n",
       "7                                          None   \n",
       "8                                          None   \n",
       "9                                          None   \n",
       "10                                         None   \n",
       "\n",
       "0  CCF area stim electrode (surface,tip) Notes  \n",
       "6                                   None  None  \n",
       "7                                   None  None  \n",
       "8                                   None  None  \n",
       "9                                   None  None  \n",
       "10                                  None  None  "
      ]
     },
     "execution_count": 18,
     "metadata": {},
     "output_type": "execute_result"
    }
   ],
   "source": [
    "zzmetadata[5:10]"
   ]
  },
  {
   "cell_type": "markdown",
   "metadata": {},
   "source": [
    "### Test multiple subjects"
   ]
  },
  {
   "cell_type": "code",
   "execution_count": 20,
   "metadata": {},
   "outputs": [
    {
     "name": "stdout",
     "output_type": "stream",
     "text": [
      "MOs_superficial\n",
      " 521885 has no histology info\n",
      " 521886 has no histology info\n",
      " 521887 has no histology info\n",
      " 543393 has no histology info\n",
      " 543394 has no histology info\n",
      " 575102: 0.65 mm\n",
      " 571619: 1.42 mm\n",
      "\n",
      "MOs_deep\n",
      " 546655: 1.25 mm\n",
      " 551399: 1.12 mm\n",
      " 551397: 1.24 mm\n",
      " 569062: 1.54 mm\n",
      " 569068: 1.53 mm\n",
      " 569069: 1.10 mm\n",
      " 569064: 1.38 mm\n",
      " 569073: 1.45 mm\n",
      " 571619: 1.42 mm\n",
      " 569070 no stim location, skipping\n",
      "\n",
      "SSp_superficial\n",
      " 571620: 0.95 mm\n",
      " 586466: 1.34 mm\n",
      " 590479: 0.93 mm\n",
      " 590480: 1.05 mm\n",
      " 599017: 1.05 mm\n",
      "\n",
      "SSp_deep\n",
      " 569073 no stim location, skipping\n",
      " 569072 no stim location, skipping\n",
      " 571620: 0.95 mm\n",
      " 586466: 1.34 mm\n",
      " 590479: 0.93 mm\n",
      " 590480: 1.05 mm\n",
      " 599017: 1.05 mm\n",
      "\n"
     ]
    }
   ],
   "source": [
    "all_stim_locs = []\n",
    "for group, group_subs in multi_sub_dict.items():\n",
    "    print(group)\n",
    "    stim_area = group[:2]\n",
    "    stim_depth = group.split('_')[-1]\n",
    "    for mouse_num, mdata in group_subs.items():\n",
    "        exp_meta = zzmetadata[(\n",
    "            (zzmetadata['mouse_name'].str.contains(mdata['exp'].mouse)) &\n",
    "            (zzmetadata['exp_name'].str.contains(os.path.basename(os.path.dirname(mdata['exp'].experiment_folder))))\n",
    "        )].squeeze()\n",
    "        \n",
    "        if exp_meta['Brain slices (X)'] == 'X':\n",
    "#             print(' {} brain slices'.format(mouse_num))\n",
    "            mmpix = 0.01 # mm, histology used CCF with 10 um resolution\n",
    "            \n",
    "        elif exp_meta['Brain slices (X)'] == 'Tissuecyte':\n",
    "#             print(' {} tissuecyte'.format(mouse_num))\n",
    "            mmpix = 0.025 # mm, tissucyte used CCF with 25 um resolution\n",
    "            \n",
    "        else:\n",
    "            print(' {} has no histology info'.format(mouse_num))\n",
    "            all_stim_locs.append([\n",
    "                group, mouse_num, stim_area, stim_depth, np.nan\n",
    "            ])\n",
    "            continue\n",
    "            \n",
    "        if exp_meta['CCF coordinates stim electrode (surface,tip)'][0] != '[':\n",
    "            print(' {} no stim location, skipping'.format(mouse_num))\n",
    "            all_stim_locs.append([\n",
    "                group, mouse_num, stim_area, stim_depth, np.nan\n",
    "            ])\n",
    "            continue\n",
    "            \n",
    "        coords_char = exp_meta['CCF coordinates stim electrode (surface,tip)'].replace(' ','')\n",
    "        all_coords = []\n",
    "        for charlong in coords_char.split(']'):\n",
    "            coordstemp = []\n",
    "            for chara in charlong.replace('[','').split(','):\n",
    "                if chara.isdecimal():\n",
    "                    coordstemp.append(int(chara))\n",
    "            if len(coordstemp) > 0:\n",
    "                all_coords.append(coordstemp)\n",
    "\n",
    "        surface_coords = np.array(all_coords[0])\n",
    "        tip_coords = np.array(all_coords[1])\n",
    "        stim_depth_mm = (tip_coords[1] - surface_coords[1]) * mmpix\n",
    "        print(' {}: {:.2f} mm'.format(mouse_num, stim_depth_mm))\n",
    "        \n",
    "        all_stim_locs.append([\n",
    "            group, mouse_num, stim_area, stim_depth, stim_depth_mm\n",
    "        ])\n",
    "          \n",
    "    print('')\n",
    "sub_stim_locs = pd.DataFrame(all_stim_locs, columns=['group', 'mouse', 'stim_cortex', 'stim_depth', 'depth_mm'])"
   ]
  },
  {
   "cell_type": "code",
   "execution_count": 22,
   "metadata": {},
   "outputs": [
    {
     "data": {
      "text/html": [
       "<div>\n",
       "<style scoped>\n",
       "    .dataframe tbody tr th:only-of-type {\n",
       "        vertical-align: middle;\n",
       "    }\n",
       "\n",
       "    .dataframe tbody tr th {\n",
       "        vertical-align: top;\n",
       "    }\n",
       "\n",
       "    .dataframe thead th {\n",
       "        text-align: right;\n",
       "    }\n",
       "</style>\n",
       "<table border=\"1\" class=\"dataframe\">\n",
       "  <thead>\n",
       "    <tr style=\"text-align: right;\">\n",
       "      <th></th>\n",
       "      <th>group</th>\n",
       "      <th>mouse</th>\n",
       "      <th>stim_cortex</th>\n",
       "      <th>stim_depth</th>\n",
       "      <th>depth_mm</th>\n",
       "    </tr>\n",
       "  </thead>\n",
       "  <tbody>\n",
       "    <tr>\n",
       "      <th>24</th>\n",
       "      <td>SSp_deep</td>\n",
       "      <td>571620</td>\n",
       "      <td>SS</td>\n",
       "      <td>deep</td>\n",
       "      <td>0.950</td>\n",
       "    </tr>\n",
       "    <tr>\n",
       "      <th>25</th>\n",
       "      <td>SSp_deep</td>\n",
       "      <td>586466</td>\n",
       "      <td>SS</td>\n",
       "      <td>deep</td>\n",
       "      <td>1.340</td>\n",
       "    </tr>\n",
       "    <tr>\n",
       "      <th>26</th>\n",
       "      <td>SSp_deep</td>\n",
       "      <td>590479</td>\n",
       "      <td>SS</td>\n",
       "      <td>deep</td>\n",
       "      <td>0.925</td>\n",
       "    </tr>\n",
       "    <tr>\n",
       "      <th>27</th>\n",
       "      <td>SSp_deep</td>\n",
       "      <td>590480</td>\n",
       "      <td>SS</td>\n",
       "      <td>deep</td>\n",
       "      <td>1.050</td>\n",
       "    </tr>\n",
       "    <tr>\n",
       "      <th>28</th>\n",
       "      <td>SSp_deep</td>\n",
       "      <td>599017</td>\n",
       "      <td>SS</td>\n",
       "      <td>deep</td>\n",
       "      <td>1.050</td>\n",
       "    </tr>\n",
       "  </tbody>\n",
       "</table>\n",
       "</div>"
      ],
      "text/plain": [
       "       group   mouse stim_cortex stim_depth  depth_mm\n",
       "24  SSp_deep  571620          SS       deep     0.950\n",
       "25  SSp_deep  586466          SS       deep     1.340\n",
       "26  SSp_deep  590479          SS       deep     0.925\n",
       "27  SSp_deep  590480          SS       deep     1.050\n",
       "28  SSp_deep  599017          SS       deep     1.050"
      ]
     },
     "execution_count": 22,
     "metadata": {},
     "output_type": "execute_result"
    }
   ],
   "source": [
    "sub_stim_locs.tail()"
   ]
  },
  {
   "cell_type": "markdown",
   "metadata": {},
   "source": [
    "Save it to .csv"
   ]
  },
  {
   "cell_type": "raw",
   "metadata": {},
   "source": [
    "sub_stim_locs.to_csv(os.path.join(savedir, 'all_exp_subs_stim_locs.csv'), index=False)"
   ]
  },
  {
   "cell_type": "code",
   "execution_count": null,
   "metadata": {},
   "outputs": [],
   "source": []
  },
  {
   "cell_type": "markdown",
   "metadata": {},
   "source": [
    "TEST"
   ]
  },
  {
   "cell_type": "code",
   "execution_count": 29,
   "metadata": {},
   "outputs": [],
   "source": [
    "group = 'SSp_deep'\n",
    "mouse_num = '569072'\n",
    "mdata = multi_sub_dict[group][mouse_num]\n",
    "\n",
    "exp_meta = zzmetadata[(\n",
    "    (zzmetadata['mouse_name'].str.contains(mdata['exp'].mouse)) &\n",
    "    (zzmetadata['exp_name'].str.contains(os.path.basename(os.path.dirname(mdata['exp'].experiment_folder))))\n",
    ")].squeeze()"
   ]
  },
  {
   "cell_type": "code",
   "execution_count": 30,
   "metadata": {},
   "outputs": [
    {
     "data": {
      "text/plain": [
       "0\n",
       "mouse_name                                                                            mouse569072\n",
       "exp_name                                                            estim_vis_2021-04-22_10-26-58\n",
       "brain states                                                                            awake/ISO\n",
       "stimulation                                                                    electrical/sensory\n",
       "visual_stim                                                                                 white\n",
       "audio_stim                                                                                    N/A\n",
       "ISI (sec)                                                                               [3.5 4.5]\n",
       "stimulus duration (msec)                                                                  0.2/250\n",
       "Current (uA)                                                                             30/50/70\n",
       "Cortical Area stimulation                                                               SS-cortex\n",
       "N trials per stimulus                                                                         120\n",
       "EEG bad_channels                                                             3,4,5,7,8,9,10,11,13\n",
       "Npx                                                                                         F,B,C\n",
       "Units Sorted (X)                                                                                X\n",
       "Brain slices (X)                                                                                X\n",
       "                                                                                                 \n",
       "Brain areas assignment                                                                          X\n",
       "CCF coordinates stim electrode (surface,tip)                                          not visible\n",
       "CCF area stim electrode (surface,tip)                                                 not visible\n",
       "Notes                                           ISO kept ~1%.  EEG filter at 0.1Hz. EEG has hi...\n",
       "Name: 39, dtype: object"
      ]
     },
     "execution_count": 30,
     "metadata": {},
     "output_type": "execute_result"
    }
   ],
   "source": [
    "exp_meta"
   ]
  },
  {
   "cell_type": "code",
   "execution_count": 77,
   "metadata": {},
   "outputs": [
    {
     "name": "stdout",
     "output_type": "stream",
     "text": [
      "brain slices\n"
     ]
    }
   ],
   "source": [
    "if exp_meta['Brain slices (X)'] == 'X':\n",
    "    print('brain slices')\n",
    "    mmpix = 0.01 # mm, histology used CCF with 10 um resolution\n",
    "elif exp_meta['Brain slices (X)'] == 'Tissuecyte':\n",
    "    print('tissuecyte')\n",
    "    mmpix = 0.025 # mm, tissucyte used CCF with 25 um resolution\n",
    "else:\n",
    "    print('no histology info')"
   ]
  },
  {
   "cell_type": "code",
   "execution_count": 78,
   "metadata": {},
   "outputs": [
    {
     "data": {
      "text/plain": [
       "'[444,111,417], [434,176,434]'"
      ]
     },
     "execution_count": 78,
     "metadata": {},
     "output_type": "execute_result"
    }
   ],
   "source": [
    "exp_meta['CCF coordinates stim electrode (surface,tip)']"
   ]
  },
  {
   "cell_type": "code",
   "execution_count": 79,
   "metadata": {},
   "outputs": [],
   "source": [
    "coords_char = exp_meta['CCF coordinates stim electrode (surface,tip)'].replace(' ','')\n",
    "all_coords = []\n",
    "for charlong in coords_char.split(']'):\n",
    "    coordstemp = []\n",
    "    for chara in charlong.replace('[','').split(','):\n",
    "        if chara.isdecimal():\n",
    "            coordstemp.append(int(chara))\n",
    "    if len(coordstemp) > 0:\n",
    "        all_coords.append(coordstemp)"
   ]
  },
  {
   "cell_type": "code",
   "execution_count": 80,
   "metadata": {},
   "outputs": [
    {
     "data": {
      "text/plain": [
       "[[444, 111, 417], [434, 176, 434]]"
      ]
     },
     "execution_count": 80,
     "metadata": {},
     "output_type": "execute_result"
    }
   ],
   "source": [
    "all_coords"
   ]
  },
  {
   "cell_type": "code",
   "execution_count": 81,
   "metadata": {},
   "outputs": [
    {
     "name": "stdout",
     "output_type": "stream",
     "text": [
      "0.6792643079096677\n"
     ]
    }
   ],
   "source": [
    "surface_coords = np.array(all_coords[0])\n",
    "tip_coords = np.array(all_coords[1])\n",
    "\n",
    "len_stim_elec = np.linalg.norm(surface_coords - tip_coords) * mmpix\n",
    "print(len_stim_elec)"
   ]
  },
  {
   "cell_type": "code",
   "execution_count": 82,
   "metadata": {},
   "outputs": [
    {
     "name": "stdout",
     "output_type": "stream",
     "text": [
      "0.65\n"
     ]
    }
   ],
   "source": [
    "print((tip_coords[1] - surface_coords[1]) * mmpix)"
   ]
  },
  {
   "cell_type": "code",
   "execution_count": 83,
   "metadata": {},
   "outputs": [],
   "source": [
    "## CCF and annotated volume ##\n",
    "mcc = MouseConnectivityCache(resolution=int(mmpix * 1E3))\n",
    "annot, annot_info = mcc.get_annotation_volume()\n",
    "structure_tree = mcc.get_structure_tree()"
   ]
  },
  {
   "cell_type": "code",
   "execution_count": 84,
   "metadata": {},
   "outputs": [
    {
     "name": "stdout",
     "output_type": "stream",
     "text": [
      "108\n"
     ]
    }
   ],
   "source": [
    "surf_pix = np.nonzero(annot[tip_coords[0],:,tip_coords[2]])[0][0]\n",
    "print(surf_pix)"
   ]
  },
  {
   "cell_type": "code",
   "execution_count": 85,
   "metadata": {},
   "outputs": [
    {
     "name": "stdout",
     "output_type": "stream",
     "text": [
      "0.68\n"
     ]
    }
   ],
   "source": [
    "print((tip_coords[1] - surf_pix) * mmpix)"
   ]
  },
  {
   "cell_type": "code",
   "execution_count": null,
   "metadata": {},
   "outputs": [],
   "source": []
  }
 ],
 "metadata": {
  "kernelspec": {
   "display_name": "tbd_eeg",
   "language": "python",
   "name": "tbd_eeg"
  },
  "language_info": {
   "codemirror_mode": {
    "name": "ipython",
    "version": 3
   },
   "file_extension": ".py",
   "mimetype": "text/x-python",
   "name": "python",
   "nbconvert_exporter": "python",
   "pygments_lexer": "ipython3",
   "version": "3.7.13"
  }
 },
 "nbformat": 4,
 "nbformat_minor": 4
}
