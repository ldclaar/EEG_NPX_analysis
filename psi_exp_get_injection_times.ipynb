{
 "cells": [
  {
   "cell_type": "code",
   "execution_count": 1,
   "metadata": {},
   "outputs": [],
   "source": [
    "from datetime import date\n",
    "from glob import glob\n",
    "import json\n",
    "import math\n",
    "import os\n",
    "import sys\n",
    "import time\n",
    "\n",
    "import gspread\n",
    "import numpy as np\n",
    "import pandas as pd\n",
    "import matplotlib.pyplot as plt"
   ]
  },
  {
   "cell_type": "code",
   "execution_count": 2,
   "metadata": {},
   "outputs": [],
   "source": [
    "sys.path.append(r'C:\\Users\\lesliec\\code')"
   ]
  },
  {
   "cell_type": "code",
   "execution_count": 3,
   "metadata": {},
   "outputs": [],
   "source": [
    "from tbd_eeg.tbd_eeg.data_analysis.eegutils import EEGexp\n",
    "from tbd_eeg.tbd_eeg.data_analysis.Utilities.utilities import find_nearest_ind"
   ]
  },
  {
   "cell_type": "code",
   "execution_count": 4,
   "metadata": {},
   "outputs": [],
   "source": [
    "%matplotlib notebook"
   ]
  },
  {
   "cell_type": "markdown",
   "metadata": {},
   "source": [
    "#### Load Zap_Zip-log_exp to get metadata for experiments"
   ]
  },
  {
   "cell_type": "code",
   "execution_count": 5,
   "metadata": {},
   "outputs": [],
   "source": [
    "_gc = gspread.service_account() # need a key file to access the account\n",
    "_sh = _gc.open('Templeton-log_exp') # open the spreadsheet\n",
    "_df = pd.DataFrame(_sh.sheet1.get()) # load the first worksheet\n",
    "metadata = _df.T.set_index(0).T # put it in a nicely formatted dataframe"
   ]
  },
  {
   "cell_type": "markdown",
   "metadata": {},
   "source": [
    "### Load subjects"
   ]
  },
  {
   "cell_type": "code",
   "execution_count": 6,
   "metadata": {},
   "outputs": [],
   "source": [
    "subjects = {\n",
    "    '631037': {\n",
    "        'awake-saline': r'F:\\psi_exp\\mouse631037\\estim_2022-12-06_09-54-04\\experiment1\\recording1',\n",
    "    },\n",
    "    '654182': {\n",
    "        'awake-saline': r'F:\\psi_exp\\mouse654182\\estim_vis_2022-12-01_10-33-50\\experiment1\\recording1',\n",
    "    },\n",
    "    '655956': {\n",
    "        'awake-saline': r'F:\\psi_exp\\mouse655956\\estim_2022-12-15_10-07-59\\experiment1\\recording1',\n",
    "    },\n",
    "    '657903': {\n",
    "        'awake-psilocybin': r'F:\\psi_exp\\mouse657903\\pilot_aw_psi_2023-01-13_12-18-22\\experiment1\\recording1',\n",
    "    },\n",
    "    '666193': {\n",
    "        'saline': r'F:\\psi_exp\\mouse666193\\pilot_aw_2023-02-15_11-44-11\\experiment1\\recording1',\n",
    "        'psilocybin': r'F:\\psi_exp\\mouse666193\\pilot_aw_psi_2023-02-16_10-55-48\\experiment1\\recording1',\n",
    "    }, \n",
    "    '666194': {\n",
    "        'saline': r'F:\\psi_exp\\mouse666194\\pilot_aw_2023-02-22_12-32-58\\experiment1\\recording1',\n",
    "        'psilocybin': r'F:\\psi_exp\\mouse666194\\pilot_aw_psi_2023-02-23_10-40-34\\experiment1\\recording1',\n",
    "    },\n",
    "    '666196': {\n",
    "        'saline': r'F:\\psi_exp\\mouse666196\\pilot_aw_2023-03-15_12-29-06\\experiment1\\recording1',\n",
    "        'psilocybin': r'F:\\psi_exp\\mouse666196\\pilot_aw_psi_2023-03-16_10-21-29\\experiment1\\recording1',\n",
    "    },\n",
    "    '669118': {\n",
    "        'saline': r'F:\\psi_exp\\mouse669118\\pilot_aw_2023-03-23_12-14-39\\experiment1\\recording1',\n",
    "        'psilocybin': r'F:\\psi_exp\\mouse669118\\pilot_aw_psi_2023-03-24_09-55-33\\experiment1\\recording1',\n",
    "    },\n",
    "    '669117': {\n",
    "        'saline': r'F:\\psi_exp\\mouse669117\\pilot_aw_2023-03-29_11-09-15\\experiment1\\recording1',\n",
    "        'psilocybin': r'F:\\psi_exp\\mouse669117\\pilot_aw_psi_2023-03-30_11-37-07\\experiment1\\recording1',\n",
    "    },\n",
    "    '673449': {\n",
    "        'psilocybin1': r'F:\\psi_exp\\mouse673449\\aw_psi_2023-04-19_11-23-26\\experiment1\\recording1',\n",
    "        'psilocybin2': r'F:\\psi_exp\\mouse673449\\aw_psi_d2_2023-04-20_10-05-31\\experiment1\\recording1',\n",
    "        'saline': r'F:\\psi_exp\\mouse673449\\aw_2023-04-21_09-28-23\\experiment1\\recording1',\n",
    "    },\n",
    "    '676726': {\n",
    "        'psilocybin': r'F:\\psi_exp\\mouse676726\\aw_psi_2023-05-03_11-08-22\\experiment1\\recording1',\n",
    "    },\n",
    "    '676727': {\n",
    "        'psilocybin': r'F:\\psi_exp\\mouse676727\\aw_psi_2023-05-10_09-49-12\\experiment1\\recording1',\n",
    "    },\n",
    "    '678912': {\n",
    "        'psilocybin': r'P:\\mouse678912\\spont_aw_psi_2023-06-22_11-42-00\\experiment1\\recording1',\n",
    "    },\n",
    "    '678913': {\n",
    "        'psilocybin': r'P:\\mouse678913\\spont_aw_psi_2023-06-29_12-49-40\\experiment1\\recording1',\n",
    "    },\n",
    "}"
   ]
  },
  {
   "cell_type": "markdown",
   "metadata": {},
   "source": [
    "### Load EEGexp"
   ]
  },
  {
   "cell_type": "code",
   "execution_count": 7,
   "metadata": {},
   "outputs": [
    {
     "name": "stdout",
     "output_type": "stream",
     "text": [
      "Experiment type: sensory stimulation\n",
      "['probeB_sorted', 'probeC_sorted', 'probeD_sorted', 'probeF_sorted', 'recording1']\n",
      "2023-06-29 12:49:40\n"
     ]
    }
   ],
   "source": [
    "mouse = '678913'\n",
    "exptype = 'psilocybin' # 'saline', 'psilocybin', 'awake-saline', 'awake-psilocybin'\n",
    "exp = EEGexp(subjects[mouse][exptype], preprocess=False, make_stim_csv=False)\n",
    "print(exp.experiment_data)\n",
    "print(exp.date)"
   ]
  },
  {
   "cell_type": "code",
   "execution_count": 8,
   "metadata": {},
   "outputs": [
    {
     "name": "stdout",
     "output_type": "stream",
     "text": [
      "['saline Injection' 'saline Injection' 'psilocybin injection '\n",
      " 'psilocybin injection ']\n"
     ]
    }
   ],
   "source": [
    "msg_file = sorted(glob(exp.data_folder + '/**/text.npy', recursive=True))[0]\n",
    "msg = np.load(msg_file).astype(str)\n",
    "print(msg)\n",
    "\n",
    "msgSN_file = sorted(glob(os.path.dirname(msg_file) + '/sample_numbers.npy', recursive=True))[0]\n",
    "msgSN = np.load(msgSN_file)"
   ]
  },
  {
   "cell_type": "code",
   "execution_count": 10,
   "metadata": {},
   "outputs": [
    {
     "name": "stdout",
     "output_type": "stream",
     "text": [
      "Using NPX-LFP timestamps...\n"
     ]
    }
   ],
   "source": [
    "if (len(exp.experiment_data) == 1) and (np.any([True for x in exp.experiment_data if 'recording' in x])):\n",
    "    print('Using EEG timestamps...')\n",
    "    message_samples = msgSN\n",
    "    masterts = np.load(exp.ephys_params['EEG']['timestamps'])\n",
    "    mastersamples = np.load(os.path.join(os.path.dirname(exp.ephys_params['EEG']['timestamps']), 'sample_numbers.npy'))\n",
    "elif np.any([True for x in exp.experiment_data if 'probe' in x]):\n",
    "    print('Using NPX-LFP timestamps...')\n",
    "    choose_probe = [x for x in exp.experiment_data if 'probe' in x][0].replace('_sorted', '')\n",
    "    message_samples = (\n",
    "        msgSN * (exp.ephys_params[choose_probe]['lfp_sample_rate'] / exp.ephys_params[choose_probe]['ap_sample_rate'])\n",
    "    ).astype(int)\n",
    "    masterts = np.load(exp.ephys_params[choose_probe]['lfp_timestamps'])\n",
    "    mastersamples = np.load(\n",
    "        os.path.join(os.path.dirname(exp.ephys_params[choose_probe]['lfp_timestamps']), 'sample_numbers.npy')\n",
    "    )"
   ]
  },
  {
   "cell_type": "code",
   "execution_count": 11,
   "metadata": {},
   "outputs": [
    {
     "name": "stdout",
     "output_type": "stream",
     "text": [
      "[2608.99499978 2608.99499978 3232.18182929 3232.20742921]\n"
     ]
    }
   ],
   "source": [
    "msg_ts = masterts[np.array([find_nearest_ind(mastersamples, x) for x in message_samples])]\n",
    "print(msg_ts)"
   ]
  },
  {
   "cell_type": "raw",
   "metadata": {},
   "source": [
    "41 * 60 + 22 + masterts[0]"
   ]
  },
  {
   "cell_type": "markdown",
   "metadata": {},
   "source": [
    "### Store injection times"
   ]
  },
  {
   "cell_type": "code",
   "execution_count": null,
   "metadata": {},
   "outputs": [],
   "source": [
    "injection_times = {\n",
    "    '631037': {\n",
    "        'awake-saline': [2197.0, 2789.0],\n",
    "    },\n",
    "    '654182': {\n",
    "        'awake-saline': [2747.0, 3365.0],\n",
    "    },\n",
    "    '655956': {\n",
    "        'awake-saline': [2345.0, 2992.0],\n",
    "    },\n",
    "    '657903': {\n",
    "        'awake-psilocybin': [1200.0, 1893.71],\n",
    "    },\n",
    "    '666193': {\n",
    "        'saline': [145.52, 801.43],\n",
    "        'psilocybin': [211.30, 815.56],\n",
    "    }, \n",
    "    '666194': {\n",
    "        'saline': [325.28, 963.74],\n",
    "        'psilocybin': [197.21, 763.06],\n",
    "    },\n",
    "    '666196': {\n",
    "        'saline': [899.0, 1547.0],\n",
    "        'psilocybin': [779.0, 1443.0],\n",
    "    },\n",
    "    '669118': {\n",
    "        'saline': [794.0, 1377.0],\n",
    "        'psilocybin': [756.0, 1406.0],\n",
    "    },\n",
    "    '669117': {\n",
    "        'saline': [862.20, 1469.86],\n",
    "        'psilocybin': [868.89, 1555.26],\n",
    "    },\n",
    "    '673449': {\n",
    "        'psilocybin1': [1207.78, 1838.93],\n",
    "        'psilocybin2': [1149.93, 1837.79],\n",
    "        'saline': [1212.32, 1815.98],\n",
    "    },\n",
    "    '676726': {\n",
    "        'psilocybin': [1794.31, 2416.78],\n",
    "    },\n",
    "    '676727': {\n",
    "        'psilocybin': [1825.0, 2490.73],\n",
    "    },\n",
    "    '678912': {\n",
    "        'psilocybin': [2521.53, 3182.36],\n",
    "    },\n",
    "    '678913': {\n",
    "        'psilocybin': [2608.99, 3232.18],\n",
    "    },\n",
    "}"
   ]
  }
 ],
 "metadata": {
  "kernelspec": {
   "display_name": "tbd_eeg",
   "language": "python",
   "name": "tbd_eeg"
  },
  "language_info": {
   "codemirror_mode": {
    "name": "ipython",
    "version": 3
   },
   "file_extension": ".py",
   "mimetype": "text/x-python",
   "name": "python",
   "nbconvert_exporter": "python",
   "pygments_lexer": "ipython3",
   "version": "3.7.13"
  }
 },
 "nbformat": 4,
 "nbformat_minor": 4
}
